{
  "cells": [
    {
      "cell_type": "markdown",
      "metadata": {
        "id": "view-in-github",
        "colab_type": "text"
      },
      "source": [
        "<a href=\"https://colab.research.google.com/github/oscarlee8787/arena3/blob/main/chapter1_transformer_interp/exercises/part1_transformer_from_scratch/1.1_Transformer_from_Scratch_exercises.ipynb\" target=\"_parent\"><img src=\"https://colab.research.google.com/assets/colab-badge.svg\" alt=\"Open In Colab\"/></a>"
      ]
    },
    {
      "cell_type": "markdown",
      "source": [
        "saved"
      ],
      "metadata": {
        "id": "neUY9KxugGLy"
      }
    },
    {
      "cell_type": "markdown",
      "metadata": {
        "id": "Dw_ahvbEQ35_"
      },
      "source": [
        "# [1.1] - Transformers from scratch (exercises)\n",
        "\n",
        "> **ARENA [Streamlit Page](https://arena-chapter1-transformer-interp.streamlit.app/01_[1.1]_Transformer_from_Scratch)**\n",
        ">\n",
        "> **Colab: [exercises](https://colab.research.google.com/github/callummcdougall/ARENA_3.0/blob/main/chapter1_transformer_interp/exercises/part1_transformer_from_scratch/1.1_Transformer_from_Scratch_exercises.ipynb?t=20250731) | [solutions](https://colab.research.google.com/github/callummcdougall/ARENA_3.0/blob/main/chapter1_transformer_interp/exercises/part1_transformer_from_scratch/1.1_Transformer_from_Scratch_solutions.ipynb?t=20250731)**\n",
        "\n",
        "Please send any problems / bugs on the `#errata` channel in the [Slack group](https://join.slack.com/t/arena-uk/shared_invite/zt-3afdmdhye-Mdb3Sv~ss_V_mEaXEbkABA), and ask any questions on the dedicated channels for this chapter of material.\n",
        "\n",
        "You can collapse each section so only the headers are visible, by clicking the arrow symbol on the left hand side of the markdown header cells.\n",
        "\n",
        "Links to all other chapters: [(0) Fundamentals](https://arena-chapter0-fundamentals.streamlit.app/), [(1) Transformer Interpretability](https://arena-chapter1-transformer-interp.streamlit.app/), [(2) RL](https://arena-chapter2-rl.streamlit.app/)."
      ]
    },
    {
      "cell_type": "markdown",
      "metadata": {
        "id": "NBihjsTYQ36A"
      },
      "source": [
        "<img src=\"https://raw.githubusercontent.com/info-arena/ARENA_img/main/misc/headers/header-11.png\" width=\"350\">"
      ]
    },
    {
      "cell_type": "markdown",
      "metadata": {
        "id": "lgVUgR9tQ36A"
      },
      "source": [
        "# Introduction"
      ]
    },
    {
      "cell_type": "markdown",
      "metadata": {
        "id": "Gac5LQn3Q36A"
      },
      "source": [
        "This is a clean, first principles implementation of GPT-2 in PyTorch. The architectural choices closely follow those used by the TransformerLens library (which you'll be using a lot more in later exercises).\n",
        "\n",
        "The exercises are written to accompany Neel Nanda's [TransformerLens library](https://github.com/neelnanda-io/TransformerLens) for doing mechanistic interpretability research on GPT-2 style language models. We'll be working with this library extensively in this chapter of the course.\n",
        "\n",
        "Each exercise will have a difficulty and importance rating out of 5, as well as an estimated maximum time you should spend on these exercises and sometimes a short annotation. You should interpret the ratings & time estimates relatively (e.g. if you find yourself spending about 50% longer on the exercises than the time estimates, adjust accordingly). Please do skip exercises / look at solutions if you don't feel like they're important enough to be worth doing, and you'd rather get to the good stuff!\n",
        "\n",
        "For a lecture on the material today, which provides some high-level understanding before you dive into the material, watch the video below:\n",
        "\n",
        "<iframe width=\"540\" height=\"304\" src=\"https://www.youtube.com/embed/11Z50mi8dSg\" frameborder=\"0\" allow=\"accelerometer; autoplay; encrypted-media; gyroscope; picture-in-picture\" allowfullscreen></iframe>"
      ]
    },
    {
      "cell_type": "markdown",
      "metadata": {
        "id": "wsYrqt3cQ36B"
      },
      "source": [
        "## Content & Learning Objectives\n",
        "\n",
        "### 1️⃣ Understanding Inputs & Outputs of a Transformer\n",
        "\n",
        "In this section, we'll take a first look at transformers - what their function is, how information moves inside a transformer, and what inputs & outputs they take.\n",
        "\n",
        "> ##### Learning Objectives\n",
        ">\n",
        "> - Understand what a transformer is used for\n",
        "> - Understand causal attention, and what a transformer's output represents—algebra operations on tensors\n",
        "> - Learn what tokenization is, and how models do it\n",
        "> - Understand what logits are, and how to use them to derive a probability distribution over the vocabulary\n",
        "\n",
        "### 2️⃣ Clean Transformer Implementation\n",
        "\n",
        "Here, we'll implement a transformer from scratch, using only PyTorch's tensor operations. This will give us a good understanding of how transformers work, and how to use them. We do this by going module-by-module, in an experience which should feel somewhat similar to last week's ResNet exercises. Much like with ResNets, you'll conclude by loading in pretrained weights and verifying that your model works as expected.\n",
        "\n",
        "> ##### Learning Objectives\n",
        ">\n",
        "> * Understand that a transformer is composed of attention heads and MLPs, with each one performing operations on the residual stream\n",
        "> * Understand that the attention heads in a single layer operate independently, and that they have the role of calculating attention patterns (which determine where information is moved to & from in the residual stream)\n",
        "> * Learn about & implement the following transformer modules:\n",
        ">     * LayerNorm (transforming the input to have zero mean and unit variance)\n",
        ">     * Positional embedding (a lookup table from position indices to residual stream vectors)\n",
        ">     * Attention (the method of computing attention patterns for residual stream vectors)\n",
        ">     * MLP (the collection of linear and nonlinear transformations which operate on each residual stream vector in the same way)\n",
        ">     * Embedding (a lookup table from tokens to residual stream vectors)\n",
        ">     * Unembedding (a matrix for converting residual stream vectors into a distribution over tokens)\n",
        "\n",
        "### 3️⃣ Training a Transformer\n",
        "\n",
        "Next, you'll learn how to train your transformer from scratch. This will be quite similar to the training loops you wrote for ResNet in your first week.\n",
        "\n",
        "> ##### Learning Objectives\n",
        ">\n",
        "> * Understand how to train a transformer from scratch\n",
        "> * Write a basic transformer training loop\n",
        "> * Interpret the transformer's falling cross entropy loss with reference to features of the training data (e.g. bigram frequencies)\n",
        "\n",
        "### 4️⃣ Sampling from a Transformer\n",
        "\n",
        "Lastly, you'll learn how to sample from a transformer. This will involve implementing a few different sampling methods, and writing a caching system which can reuse computations from previous forward passes to improve your model's text generation speed.\n",
        "\n",
        "*The second half of this section is less important, and you can skip it if you want.*\n",
        "\n",
        "> ##### Learning Objectives\n",
        ">\n",
        "> * Learn how to sample from a transformer\n",
        ">     * This includes basic methods like greedy search or top-k, and more advanced methods like beam search\n",
        "> * Learn how to cache the output of a transformer, so that it can be used to generate text more efficiently\n",
        ">     * Optionally, rewrite your sampling functions to make use of your caching methods"
      ]
    },
    {
      "cell_type": "markdown",
      "metadata": {
        "id": "OBE9RqYKQ36B"
      },
      "source": [
        "## Setup code"
      ]
    },
    {
      "cell_type": "code",
      "execution_count": 1,
      "metadata": {
        "id": "aMBL83zpQ36B"
      },
      "outputs": [],
      "source": [
        "import os\n",
        "import sys\n",
        "from pathlib import Path\n",
        "\n",
        "IN_COLAB = \"google.colab\" in sys.modules\n",
        "\n",
        "chapter = \"chapter1_transformer_interp\"\n",
        "repo = \"ARENA_3.0\"\n",
        "branch = \"main\"\n",
        "\n",
        "# Install dependencies\n",
        "try:\n",
        "    import transformer_lens\n",
        "except:\n",
        "    %pip install transformer_lens==2.11.0 einops jaxtyping git+https://github.com/callummcdougall/CircuitsVis.git#subdirectory=python\n",
        "\n",
        "# Get root directory, handling 3 different cases: (1) Colab, (2) notebook not in ARENA repo, (3) notebook in ARENA repo\n",
        "root = (\n",
        "    \"/content\"\n",
        "    if IN_COLAB\n",
        "    else \"/root\"\n",
        "    if repo not in os.getcwd()\n",
        "    else str(next(p for p in Path.cwd().parents if p.name == repo))\n",
        ")\n",
        "\n",
        "if Path(root).exists() and not Path(f\"{root}/{chapter}\").exists():\n",
        "    if not IN_COLAB:\n",
        "        !sudo apt-get install unzip\n",
        "        %pip install jupyter ipython --upgrade\n",
        "\n",
        "    if not os.path.exists(f\"{root}/{chapter}\"):\n",
        "        !wget -P {root} https://github.com/callummcdougall/ARENA_3.0/archive/refs/heads/{branch}.zip\n",
        "        !unzip {root}/{branch}.zip '{repo}-{branch}/{chapter}/exercises/*' -d {root}\n",
        "        !mv {root}/{repo}-{branch}/{chapter} {root}/{chapter}\n",
        "        !rm {root}/{branch}.zip\n",
        "        !rmdir {root}/ARENA_3.0-{branch}\n",
        "\n",
        "\n",
        "if f\"{root}/{chapter}/exercises\" not in sys.path:\n",
        "    sys.path.append(f\"{root}/{chapter}/exercises\")\n",
        "\n",
        "os.chdir(f\"{root}/{chapter}/exercises\")"
      ]
    },
    {
      "cell_type": "code",
      "execution_count": 2,
      "metadata": {
        "id": "0yvw72mzQ36B"
      },
      "outputs": [],
      "source": [
        "import math\n",
        "import os\n",
        "import sys\n",
        "from collections import defaultdict\n",
        "from dataclasses import dataclass\n",
        "from pathlib import Path\n",
        "from typing import Callable\n",
        "\n",
        "import datasets\n",
        "import einops\n",
        "import numpy as np\n",
        "import torch as t\n",
        "import torch.nn as nn\n",
        "import wandb\n",
        "from jaxtyping import Float, Int\n",
        "from rich import print as rprint\n",
        "from rich.table import Table\n",
        "from torch import Tensor\n",
        "from torch.utils.data import DataLoader\n",
        "from tqdm.notebook import tqdm\n",
        "from transformer_lens import HookedTransformer\n",
        "from transformer_lens.utils import gelu_new, tokenize_and_concatenate\n",
        "from transformers.models.gpt2.tokenization_gpt2_fast import GPT2TokenizerFast\n",
        "\n",
        "device = t.device(\n",
        "    \"mps\" if t.backends.mps.is_available() else \"cuda\" if t.cuda.is_available() else \"cpu\"\n",
        ")\n",
        "\n",
        "# Make sure exercises are in the path\n",
        "chapter = \"chapter1_transformer_interp\"\n",
        "section = \"part1_transformer_from_scratch\"\n",
        "root_dir = next(p for p in Path.cwd().parents if (p / chapter).exists())\n",
        "exercises_dir = root_dir / chapter / \"exercises\"\n",
        "section_dir = exercises_dir / section\n",
        "\n",
        "import part1_transformer_from_scratch.solutions as solutions\n",
        "import part1_transformer_from_scratch.tests as tests\n",
        "from plotly_utils import imshow\n",
        "\n",
        "MAIN = __name__ == \"__main__\""
      ]
    },
    {
      "cell_type": "markdown",
      "metadata": {
        "id": "Lwbs5bnxQ36C"
      },
      "source": [
        "# 1️⃣ Understanding Inputs & Outputs of a Transformer\n",
        "\n",
        "> ##### Learning Objectives\n",
        ">\n",
        "> - Understand what a transformer is used for\n",
        "> - Understand causal attention, and what a transformer's output represents—algebra operations on tensors\n",
        "> - Learn what tokenization is, and how models do it\n",
        "> - Understand what logits are, and how to use them to derive a probability distribution over the vocabulary"
      ]
    },
    {
      "cell_type": "markdown",
      "metadata": {
        "id": "HIz5czE-Q36C"
      },
      "source": [
        "## What is the point of a transformer?"
      ]
    },
    {
      "cell_type": "markdown",
      "metadata": {
        "id": "w4KGWZyOQ36C"
      },
      "source": [
        "**Transformers exist to model text!**\n",
        "\n",
        "We're going to focus GPT-2 style transformers. Key feature: They generate text! You feed in language, and the model generates a probability distribution over tokens. And you can repeatedly sample from this to generate text!\n",
        "\n",
        "(To explain this in more detail - you feed in a sequence of length $N$, then sample from the probability distribution over the $N+1$-th word, use this to construct a new sequence of length $N+1$, then feed this new sequence into the model to get a probability distribution over the $N+2$-th word, and so on.)\n",
        "\n",
        "### How is the model trained?\n",
        "\n",
        "You give it a bunch of text, and train it to predict the next token.\n",
        "\n",
        "Importantly, if you give a model 100 tokens in a sequence, it predicts the next token for *each* prefix, i.e. it produces 100 logit vectors (= probability distributions) over the set of all words in our vocabulary, with the `i`-th logit vector representing the probability distribution over the token *following* the `i`-th token in the sequence. This is a key part of what allows transformers to be trained so efficiently; for every sequence of length $n$ we get $n$ different predictions to train on:\n",
        "\n",
        "$$\n",
        "p(x_1), \\; p(x_2|x_1), \\; p(x_3|x_1x_2), \\; \\ldots, \\; p(x_n|x_1 \\ldots x_{n-1})\n",
        "$$\n",
        "\n",
        "<details>\n",
        "<summary>Aside - logits</summary>\n",
        "\n",
        "If you haven't encountered the term \"logits\" before, here's a quick refresher.\n",
        "\n",
        "Given an arbitrary vector $x$, we can turn it into a probability distribution via the **softmax** function: $x_i \\to \\frac{e^{x_i}}{\\sum e^{x_j}}$. The exponential makes everything positive; the normalization makes it add to one.\n",
        "\n",
        "The model's output is the vector $x$ (one for each prediction it makes). We call this vector a logit because it represents a probability distribution, and it is related to the actual probabilities via the softmax function.\n",
        "</details>\n",
        "\n",
        "How do we stop the transformer by \"cheating\" by just looking at the tokens it's trying to predict? Answer - we make the transformer have *causal attention* (as opposed to *bidirectional attention*). Causal attention only allows information to move forwards in the sequence, never backwards. The prediction of what comes after token 50 is only a function of the first 50 tokens, *not* of token 51. We say the transformer is **autoregressive**, because it only predicts future words based on past data."
      ]
    },
    {
      "cell_type": "markdown",
      "metadata": {
        "id": "QEYcSRTXQ36C"
      },
      "source": [
        "<img src=\"https://raw.githubusercontent.com/info-arena/ARENA_img/main/misc/transformer-overview-new.png\" width=\"900\">"
      ]
    },
    {
      "cell_type": "markdown",
      "metadata": {
        "id": "-Ot_BvrDQ36C"
      },
      "source": [
        "Another way to view this is through the following analogy: we have a series of people standing in a line, each with one word or chunk of the sentence. Each person has the ability to look up information from the people behind them (we'll explore how this works in later sections) but they can't look at any information in front of them. Their goal is to guess what word the person in front of them is holding.\n",
        "\n",
        "<img src=\"https://raw.githubusercontent.com/info-arena/ARENA_img/main/misc/intro-image-v2.png\" width=\"600\">"
      ]
    },
    {
      "cell_type": "markdown",
      "metadata": {
        "id": "PZur6O8WQ36C"
      },
      "source": [
        "## Tokens - Transformer Inputs"
      ]
    },
    {
      "cell_type": "markdown",
      "metadata": {
        "id": "3LkVbKWUQ36C"
      },
      "source": [
        "Our tranformer's input is natural language (i.e. a sequence of characters, strings, etc). But ML models generally take vectors as input, not language. How do we convert language to vectors?\n",
        "\n",
        "We can factor this into 2 questions:\n",
        "\n",
        "1. How do we split up language into small sub-units?\n",
        "2. How do we convert these sub-units into vectors?\n",
        "\n",
        "Let's start with the second of these questions."
      ]
    },
    {
      "cell_type": "markdown",
      "metadata": {
        "id": "bX6uoNhyQ36C"
      },
      "source": [
        "### Converting sub-units to vectors\n",
        "\n",
        "We basically make a massive lookup table, which is called an **embedding**. It has one vector for each possible sub-unit of language we might get (we call this set of all sub-units our **vocabulary**). We label every element in our vocabulary with an integer (this labelling never changes), and we use this integer to index into the embedding.\n",
        "\n",
        "A key intuition is that one-hot encodings let you think about each integer independently. We don't bake in any relation between words when we perform our embedding, because every word has a completely separate embedding vector.\n",
        "\n",
        "<details>\n",
        "<summary>Aside - one-hot encodings</summary>\n",
        "\n",
        "We sometimes think about **one-hot encodings** of words. These are vectors with zeros everywhere, except for a single one in the position corresponding to the word's index in the vocabulary. This means that indexing into the embedding is equivalent to multiplying the **embedding matrix** by the one-hot encoding (where the embedding matrix is the matrix we get by stacking all the embedding vectors on top of each other).\n",
        "\n",
        "$$\n",
        "\\begin{aligned}\n",
        "W_E &= \\begin{bmatrix}\n",
        "\\leftarrow v_0 \\rightarrow \\\\\n",
        "\\leftarrow v_1 \\rightarrow \\\\\n",
        "\\vdots \\\\\n",
        "\\leftarrow v_{d_{vocab}-1} \\rightarrow \\\\\n",
        "\\end{bmatrix} \\quad \\text{is the embedding matrix (size }d_{vocab} \\times d_{embed}\\text{),} \\\\\n",
        "\\\\\n",
        "t_i &= (0, \\dots, 0, 1, 0, \\dots, 0) \\quad \\text{is the one-hot encoding for the }i\\text{th word (length }d_{vocab}\\text{)} \\\\\n",
        "\\\\\n",
        "v_i &= t_i W_E \\quad \\text{is the embedding vector for the }i\\text{th word (length }d_{embed}\\text{).} \\\\\n",
        "\\end{aligned}\n",
        "$$\n",
        "\n",
        "</details>\n",
        "\n",
        "Now, let's answer the first question - how do we split language into sub-units?"
      ]
    },
    {
      "cell_type": "markdown",
      "metadata": {
        "id": "_os96nRyQ36C"
      },
      "source": [
        "### Splitting language into sub-units\n",
        "\n",
        "We need to define a standard way of splitting up language into a series of substrings, where each substring is a member of our **vocabulary** set.\n",
        "\n",
        "Could we use a dictionary, and have our vocabulary be the set of all words in the dictionary? No, because this couldn't handle arbitrary text (e.g. URLs, punctuation, etc). We need a more general way of splitting up language.\n",
        "\n",
        "Could we just use the 256 ASCII characters? This fixes the previous problem, but it loses structure of language - some sequences of characters are more meaningful than others. For example, \"language\" is a lot more meaningful than \"hjksdfiu\". We want \"language\" to be a single token, but not \"hjksdfiu\" - this is a more efficient use of our vocab.\n",
        "\n",
        "What actually happens? The most common strategy is called **Byte-Pair encodings**.\n",
        "\n",
        "We begin with the 256 ASCII characters as our tokens, and then find the most common pair of tokens, and merge that into a new token. Note that we do have a space character as one of our 256 tokens, and merges using space are very common. For instance, here are the five first merges for the tokenizer used by GPT-2 (you'll be able to verify this below).\n",
        "\n",
        "```\n",
        "\" t\"\n",
        "\" a\"\n",
        "\"he\"\n",
        "\"in\"\n",
        "\"re\"\n",
        "```\n",
        "\n",
        "Note - you might see the character `Ġ` in front of some tokens. This is a special token that indicates that the token begins with a space. Tokens with a leading space vs not are different.\n",
        "\n",
        "You can run the code below to load in the `gpt2-small` model, and see more of its tokenizer's vocabulary:"
      ]
    },
    {
      "cell_type": "code",
      "execution_count": 3,
      "metadata": {
        "id": "iyPpvOV0Q36C",
        "outputId": "2276d8bc-8a81-42c4-bd15-9d303d9742f5",
        "colab": {
          "base_uri": "https://localhost:8080/",
          "height": 486,
          "referenced_widgets": [
            "16f7c41cb07145a3a4f8b71c18e9c442",
            "07d2500413c846dc94157123145dca54",
            "50ae4e97c3c2497a9db3182d2e2e6f75",
            "0e76aded01be4b3a91480e246fa69b8b",
            "802fa191aa2f4abba53bf28b130d4ca1",
            "10e5910c5de64977a42c05a546e6686f",
            "1ac0a7742997491da7e70e4bdc6c0c59",
            "39af20c061ab48f59493a2106bdde645",
            "af6d72f7f9c24343836d945c351c9023",
            "192f6b588bcd4788b5d00b9205397832",
            "3db98b1cc6964c658952b53d10efb4ff",
            "2e509bc9c07f433fa5cef03c4a970079",
            "3a0f9c72423a42b79d66f5767eefd29e",
            "66de652857ac49509ccdb84cee75fa1e",
            "7f6d4314390a4cc0af3798c8eca1c643",
            "927fc8ead3714208a43181f976fe685d",
            "eb1fff1d9ae248cea82ba3149b445592",
            "5afa92bdaf7141349d38790e33c960eb",
            "74988a717b094b348f23d87cc57555bc",
            "10bdb664ffa94ab0b630d46f8d6491fb",
            "2768914b41db4a259bc97d1d5a32844d",
            "78c9ec9c42e747ceb9d74f0a51ef51e2",
            "ec96e7f2e99647fbbf69bb7bc5742315",
            "7e60d2b932e7413d9e8d6d65a005b1a6",
            "d28975ef83634d038c5b1b84e7405dee",
            "5c848d2a4f894b35bb693eb8aff2c1e8",
            "e09813d96f6e43909eff7012753e27fb",
            "3644e6a06d304f60ac95a881abd6b188",
            "4afa939dcdd44db89f0230a6ad07cd0a",
            "cc88c541a61d4d0a94d676dd7e473e96",
            "9981ba71d0bc4c8386057e8f4d9ecb72",
            "f2e9b963a417425c89e3393706d16aec",
            "977194cf67364dc28dc3458504ba9248",
            "0efc0b6325224aa190ed21847ccdd6fa",
            "a0be0f0191744eb6937d39091e9995b6",
            "9ba81adf0d0f417a8409849ef4e0bac5",
            "beadabd1de104a7d929d60538453fbfd",
            "9446a005d357481da5dbedebda4d4973",
            "f0566c83be39425d8ca174433aa09dd2",
            "64baa3b3d0484694beff471c138d0d22",
            "acd4d76cde8345fda4eda450533b6698",
            "47617d96d1c548c7ae5b0583bd596940",
            "b36754e7cd68400da2fa762b08d87f1d",
            "f1926026c41743a8bc69c005bbb9d9d9",
            "efd85807a8404fca92e205e4c0fc9a55",
            "b0ea38ca2e224d8f91b7e11b1d46487a",
            "bbcd65c260a54887acbbcb3c58df9ee0",
            "a5fd0b9f319843fdb0c82f974503d43a",
            "cf89a35931694d8c89228df38c44c5be",
            "71c33968b6ba40fba919846bae614c86",
            "1d4828e7b15a49b5ace3c14463265256",
            "fbc1810d283b43abae41122b2c451053",
            "b43d28409e5f4f458b0c6c0c9ab2a1be",
            "2915b2a8299e4ecf9062bdc330661de6",
            "2a170d709d1641b7a80909d6c29e825f",
            "d1a1810ee36f4dc1a79b9e342113104c",
            "e23ebbaa766648c386e5ef8b93da52fd",
            "9d34bcef80954405a82043edcee0415d",
            "883b4d170ed0467db792c1306c0436be",
            "bb644b1555f14f70aeaea3499693804d",
            "9ebb8534f7774366b06e16e0d577264d",
            "7082879e1f9f48eca9ea4e55384832ea",
            "0637f13ab1c74969a35be600bc4901fa",
            "b55a5f9ddd3f416e8a671dc08eea6945",
            "89717e6e89c8413ea27f2791c4230baa",
            "12a9947777264bc09e696af1ab76420c",
            "18f0b1fc098d43d2a4bf2f4c65f10c0a",
            "c67189891c4d4fbaa5a2b99339edea6c",
            "91a04c86889c4f159f3587a6e777934e",
            "13ab0fe6c7334ea08a7dbaf061ad21da",
            "529ed08e0dcf499fab6be08eae8c882b",
            "e2d7778f3d984ae98c30768e8a5e101e",
            "9981105ff68649f488dfa4117b05aae0",
            "da05a4ee94cf4e9282d823c9d557f72d",
            "c49eda65a65e497589bc1484d48c0e20",
            "c31efd3e0b2e4eb0a1013e8228eebfaa",
            "a7a4518df64947db815fb6f6c16cd0e1"
          ]
        }
      },
      "outputs": [
        {
          "output_type": "stream",
          "name": "stderr",
          "text": [
            "/usr/local/lib/python3.11/dist-packages/huggingface_hub/utils/_auth.py:94: UserWarning: \n",
            "The secret `HF_TOKEN` does not exist in your Colab secrets.\n",
            "To authenticate with the Hugging Face Hub, create a token in your settings tab (https://huggingface.co/settings/tokens), set it as secret in your Google Colab and restart your session.\n",
            "You will be able to reuse this secret in all of your notebooks.\n",
            "Please note that authentication is recommended but still optional to access public models or datasets.\n",
            "  warnings.warn(\n"
          ]
        },
        {
          "output_type": "display_data",
          "data": {
            "text/plain": [
              "config.json:   0%|          | 0.00/665 [00:00<?, ?B/s]"
            ],
            "application/vnd.jupyter.widget-view+json": {
              "version_major": 2,
              "version_minor": 0,
              "model_id": "16f7c41cb07145a3a4f8b71c18e9c442"
            }
          },
          "metadata": {}
        },
        {
          "output_type": "display_data",
          "data": {
            "text/plain": [
              "model.safetensors:   0%|          | 0.00/548M [00:00<?, ?B/s]"
            ],
            "application/vnd.jupyter.widget-view+json": {
              "version_major": 2,
              "version_minor": 0,
              "model_id": "2e509bc9c07f433fa5cef03c4a970079"
            }
          },
          "metadata": {}
        },
        {
          "output_type": "display_data",
          "data": {
            "text/plain": [
              "generation_config.json:   0%|          | 0.00/124 [00:00<?, ?B/s]"
            ],
            "application/vnd.jupyter.widget-view+json": {
              "version_major": 2,
              "version_minor": 0,
              "model_id": "ec96e7f2e99647fbbf69bb7bc5742315"
            }
          },
          "metadata": {}
        },
        {
          "output_type": "display_data",
          "data": {
            "text/plain": [
              "tokenizer_config.json:   0%|          | 0.00/26.0 [00:00<?, ?B/s]"
            ],
            "application/vnd.jupyter.widget-view+json": {
              "version_major": 2,
              "version_minor": 0,
              "model_id": "0efc0b6325224aa190ed21847ccdd6fa"
            }
          },
          "metadata": {}
        },
        {
          "output_type": "display_data",
          "data": {
            "text/plain": [
              "vocab.json:   0%|          | 0.00/1.04M [00:00<?, ?B/s]"
            ],
            "application/vnd.jupyter.widget-view+json": {
              "version_major": 2,
              "version_minor": 0,
              "model_id": "efd85807a8404fca92e205e4c0fc9a55"
            }
          },
          "metadata": {}
        },
        {
          "output_type": "display_data",
          "data": {
            "text/plain": [
              "merges.txt:   0%|          | 0.00/456k [00:00<?, ?B/s]"
            ],
            "application/vnd.jupyter.widget-view+json": {
              "version_major": 2,
              "version_minor": 0,
              "model_id": "d1a1810ee36f4dc1a79b9e342113104c"
            }
          },
          "metadata": {}
        },
        {
          "output_type": "display_data",
          "data": {
            "text/plain": [
              "tokenizer.json:   0%|          | 0.00/1.36M [00:00<?, ?B/s]"
            ],
            "application/vnd.jupyter.widget-view+json": {
              "version_major": 2,
              "version_minor": 0,
              "model_id": "18f0b1fc098d43d2a4bf2f4c65f10c0a"
            }
          },
          "metadata": {}
        },
        {
          "output_type": "stream",
          "name": "stdout",
          "text": [
            "Loaded pretrained model gpt2-small into HookedTransformer\n",
            "[('!', 0), ('\"', 1), ('#', 2), ('$', 3), ('%', 4), ('&', 5), (\"'\", 6), ('(', 7), (')', 8), ('*', 9), ('+', 10), (',', 11), ('-', 12), ('.', 13), ('/', 14), ('0', 15), ('1', 16), ('2', 17), ('3', 18), ('4', 19)]\n",
            "\n",
            "[('ľ', 250), ('Ŀ', 251), ('ŀ', 252), ('Ł', 253), ('ł', 254), ('Ń', 255), ('Ġt', 256), ('Ġa', 257), ('he', 258), ('in', 259), ('re', 260), ('on', 261), ('Ġthe', 262), ('er', 263), ('Ġs', 264), ('at', 265), ('Ġw', 266), ('Ġo', 267), ('en', 268), ('Ġc', 269)]\n",
            "\n",
            "[('Ġprodu', 990), ('Ġstill', 991), ('led', 992), ('ah', 993), ('Ġhere', 994), ('Ġworld', 995), ('Ġthough', 996), ('Ġnum', 997), ('arch', 998), ('imes', 999), ('ale', 1000), ('ĠSe', 1001), ('ĠIf', 1002), ('//', 1003), ('ĠLe', 1004), ('Ġret', 1005), ('Ġref', 1006), ('Ġtrans', 1007), ('ner', 1008), ('ution', 1009)]\n",
            "\n"
          ]
        }
      ],
      "source": [
        "reference_gpt2 = HookedTransformer.from_pretrained(\n",
        "    \"gpt2-small\",\n",
        "    fold_ln=False,\n",
        "    center_unembed=False,\n",
        "    center_writing_weights=False,  # you'll learn about these arguments later!\n",
        ")\n",
        "\n",
        "sorted_vocab = sorted(list(reference_gpt2.tokenizer.vocab.items()), key=lambda n: n[1])\n",
        "\n",
        "print(sorted_vocab[:20])\n",
        "print()\n",
        "print(sorted_vocab[250:270])\n",
        "print()\n",
        "print(sorted_vocab[990:1010])\n",
        "print()"
      ]
    },
    {
      "cell_type": "markdown",
      "metadata": {
        "id": "acfBC9IkQ36C"
      },
      "source": [
        "As you get to the end of the vocabulary, you'll be producing some pretty weird-looking esoteric tokens (because you'll already have exhausted all of the short frequently-occurring ones):"
      ]
    },
    {
      "cell_type": "code",
      "execution_count": 4,
      "metadata": {
        "id": "unlFwfEOQ36C",
        "outputId": "798dba10-10d4-40a3-f564-1c681d1b8801",
        "colab": {
          "base_uri": "https://localhost:8080/"
        }
      },
      "outputs": [
        {
          "output_type": "stream",
          "name": "stdout",
          "text": [
            "[('Revolution', 50237), ('Ġsnipers', 50238), ('Ġreverted', 50239), ('Ġconglomerate', 50240), ('Terry', 50241), ('794', 50242), ('Ġharsher', 50243), ('Ġdesolate', 50244), ('ĠHitman', 50245), ('Commission', 50246), ('Ġ(/', 50247), ('âĢ¦.\"', 50248), ('Compar', 50249), ('Ġamplification', 50250), ('ominated', 50251), ('Ġregress', 50252), ('ĠCollider', 50253), ('Ġinformants', 50254), ('Ġgazed', 50255), ('<|endoftext|>', 50256)]\n"
          ]
        }
      ],
      "source": [
        "print(sorted_vocab[-20:])"
      ]
    },
    {
      "cell_type": "markdown",
      "metadata": {
        "id": "ZZh9csAYQ36C"
      },
      "source": [
        "<details>\n",
        "<summary>Fun (completely optional) exercise - can you guess what the first-formed 3/4/5/6/7-letter encodings in GPT-2's vocabulary are?</summary>\n",
        "Run this code to find out:\n",
        "\n",
        "```python\n",
        "lengths = dict.fromkeys(range(3, 8), \"\")\n",
        "for tok, idx in sorted_vocab:\n",
        "    if not lengths.get(len(tok), True):\n",
        "        lengths[len(tok)] = tok\n",
        "\n",
        "for length, tok in lengths.items():\n",
        "    print(f\"{length}: {tok}\")\n",
        "```\n",
        "</details>"
      ]
    },
    {
      "cell_type": "markdown",
      "metadata": {
        "id": "n_hNJH_oQ36C"
      },
      "source": [
        "Transformers in the `transformer_lens` library have a `to_tokens` method that converts text to numbers. It also prepends them with a special token called BOS (beginning of sequence) to indicate the start of a sequence. You can disable this with the `prepend_bos=False` argument.\n",
        "\n",
        "<details>\n",
        "<summary>Aside - BOS token</summary>\n",
        "\n",
        "The beginning of sequence (BOS) token is a special token used to mark the beginning of the sequence. Confusingly, in GPT-2, the End of Sequence (EOS), Beginning of Sequence (BOS) and Padding (PAD) tokens are all the same, `<|endoftext|>` with index `50256`.\n",
        "\n",
        "Why is this token added? Some basic intuitions are:\n",
        "\n",
        "* It provides context that this is the start of a sequence, which can help the model generate more appropriate text.\n",
        "* It can act as a \"rest position\" for attention heads (more on this later, when we discuss attention).\n",
        "\n",
        "TransformerLens adds this token automatically (including in forward passes of transformer models, e.g. it's implicitly added when you call `model(\"Hello World\")`). You can disable this behaviour by setting the flag `prepend_bos=False` in `to_tokens`, `to_str_tokens`, `model.forward` and any other function that converts strings to multi-token tensors.\n",
        "\n",
        "**Key Point: *If you get weird off-by-one errors, check whether there's an unexpected `prepend_bos`!***\n",
        "\n",
        "Why are the BOS, EOS and PAD tokens the same? This is because GPT-2 is an autoregressive model, and uses these kinds of tokens in a slightly different way to other transformer families (e.g. BERT). For instance, GPT has no need to distinguish between BOS and EOS tokens, because it only processes text from left to right.\n",
        "\n",
        "</details>\n",
        "\n",
        "### Some tokenization annoyances\n",
        "\n",
        "There are a few funky and frustrating things about tokenization, which causes it to behave differently than you might expect. For instance:\n",
        "\n",
        "#### Whether a word begins with a capital or space matters!"
      ]
    },
    {
      "cell_type": "code",
      "execution_count": 5,
      "metadata": {
        "id": "vb5ZonDsQ36C",
        "outputId": "48bed4d7-f22c-40ec-869f-84f887e52411",
        "colab": {
          "base_uri": "https://localhost:8080/"
        }
      },
      "outputs": [
        {
          "output_type": "stream",
          "name": "stdout",
          "text": [
            "['<|endoftext|>', 'R', 'alph']\n",
            "['<|endoftext|>', ' Ralph']\n",
            "['<|endoftext|>', ' r', 'alph']\n",
            "['<|endoftext|>', 'ral', 'ph']\n"
          ]
        }
      ],
      "source": [
        "print(reference_gpt2.to_str_tokens(\"Ralph\"))\n",
        "print(reference_gpt2.to_str_tokens(\" Ralph\"))\n",
        "print(reference_gpt2.to_str_tokens(\" ralph\"))\n",
        "print(reference_gpt2.to_str_tokens(\"ralph\"))"
      ]
    },
    {
      "cell_type": "markdown",
      "metadata": {
        "id": "mZw66sxPQ36C"
      },
      "source": [
        "#### Arithmetic is a mess.\n",
        "\n",
        "Length is inconsistent, common numbers bundle together."
      ]
    },
    {
      "cell_type": "code",
      "execution_count": 6,
      "metadata": {
        "id": "lTUwWZ0OQ36C",
        "outputId": "b0fe6993-1df9-4a32-8479-89fbc76b07ef",
        "colab": {
          "base_uri": "https://localhost:8080/"
        }
      },
      "outputs": [
        {
          "output_type": "stream",
          "name": "stdout",
          "text": [
            "['<|endoftext|>', '568', '73', '+', '318', '46', '23', '=', '123', '45', '67', '89', '-', '1', '000000', '000']\n"
          ]
        }
      ],
      "source": [
        "print(reference_gpt2.to_str_tokens(\"56873+3184623=123456789-1000000000\"))"
      ]
    },
    {
      "cell_type": "markdown",
      "metadata": {
        "id": "4FytxEpCQ36D"
      },
      "source": [
        "> ### Key Takeaways\n",
        ">\n",
        "> * We learn a dictionary of vocab of tokens (sub-words).\n",
        "> * We (approx) losslessly convert language to integers via tokenizing it.\n",
        "> * We convert integers to vectors via a lookup table.\n",
        "> * Note: input to the transformer is a sequence of *tokens* (ie integers), not vectors"
      ]
    },
    {
      "cell_type": "markdown",
      "metadata": {
        "id": "cqMibh2BQ36D"
      },
      "source": [
        "## Text generation\n",
        "\n",
        "Now that we understand the basic ideas here, let's go through the entire process of text generation, from our original string to a new token which we can append to our string and plug back into the model.\n",
        "\n",
        "#### **Step 1:** Convert text to tokens\n",
        "\n",
        "The sequence gets tokenized, so it has shape `[batch, seq_len]`. Here, the batch dimension is just one (because we only have one sequence)."
      ]
    },
    {
      "cell_type": "code",
      "execution_count": 7,
      "metadata": {
        "id": "Y5SB4aKeQ36D",
        "outputId": "3f7ae6f5-a023-4a36-c794-1404362c2ef5",
        "colab": {
          "base_uri": "https://localhost:8080/"
        }
      },
      "outputs": [
        {
          "output_type": "stream",
          "name": "stdout",
          "text": [
            "tensor([[50256,    40,   716,   281,  4998,  1960,   382, 19741,    11,   875,\n",
            "         12342,    12,  8807,    11,   402, 11571,    12,    17,  3918, 47385,\n",
            "            13,  1881,  1110,   314,   481,  7074,  1692,  1241,  4430,   290,\n",
            "          1011,   625,   262,   995,     0]], device='cuda:0')\n",
            "torch.Size([1, 35])\n",
            "['<|endoftext|>', 'I', ' am', ' an', ' amazing', ' aut', 'ore', 'gressive', ',', ' dec', 'oder', '-', 'only', ',', ' G', 'PT', '-', '2', ' style', ' transformer', '.', ' One', ' day', ' I', ' will', ' exceed', ' human', ' level', ' intelligence', ' and', ' take', ' over', ' the', ' world', '!']\n"
          ]
        }
      ],
      "source": [
        "reference_text = \"I am an amazing autoregressive, decoder-only, GPT-2 style transformer. One day I will exceed human level intelligence and take over the world!\"\n",
        "tokens = reference_gpt2.to_tokens(reference_text).to(device)\n",
        "print(tokens)\n",
        "print(tokens.shape)\n",
        "print(reference_gpt2.to_str_tokens(tokens))"
      ]
    },
    {
      "cell_type": "markdown",
      "metadata": {
        "id": "fwKhucmoQ36D"
      },
      "source": [
        "#### **Step 2:** Map tokens to logits\n",
        "\n",
        "\n",
        "From our input of shape `[batch, seq_len]`, we get output of shape `[batch, seq_len, vocab_size]`. The `[i, j, :]`-th element of our output is a vector of logits representing our prediction for the `j+1`-th token in the `i`-th sequence."
      ]
    },
    {
      "cell_type": "code",
      "execution_count": 8,
      "metadata": {
        "id": "Ff96pUxVQ36D",
        "outputId": "dac28ed6-b9e2-41d2-fb21-0d92b2dd9708",
        "colab": {
          "base_uri": "https://localhost:8080/"
        }
      },
      "outputs": [
        {
          "output_type": "stream",
          "name": "stdout",
          "text": [
            "torch.Size([1, 35, 50257])\n"
          ]
        }
      ],
      "source": [
        "logits, cache = reference_gpt2.run_with_cache(tokens)\n",
        "print(logits.shape)"
      ]
    },
    {
      "cell_type": "markdown",
      "metadata": {
        "id": "ivUZ3lI0Q36D"
      },
      "source": [
        "(`run_with_cache` tells the model to cache all intermediate activations. This isn't important right now; we'll look at it in more detail later.)"
      ]
    },
    {
      "cell_type": "markdown",
      "metadata": {
        "id": "UaXAGYxtQ36D"
      },
      "source": [
        "#### **Step 3:** Convert the logits to a distribution with a softmax\n",
        "\n",
        "This doesn't change the shape, it is still `[batch, seq_len, vocab_size]`."
      ]
    },
    {
      "cell_type": "code",
      "execution_count": 9,
      "metadata": {
        "id": "MBle_sIWQ36D",
        "outputId": "3dd47387-3b9c-47b0-9b60-b57e9a88ea9b",
        "colab": {
          "base_uri": "https://localhost:8080/"
        }
      },
      "outputs": [
        {
          "output_type": "stream",
          "name": "stdout",
          "text": [
            "torch.Size([1, 35, 50257])\n"
          ]
        }
      ],
      "source": [
        "probs = logits.softmax(dim=-1)\n",
        "print(probs.shape)"
      ]
    },
    {
      "cell_type": "markdown",
      "metadata": {
        "id": "Y17QOS0UQ36D"
      },
      "source": [
        "#### **Bonus step:** What is the most likely next token at each position?"
      ]
    },
    {
      "cell_type": "code",
      "execution_count": 10,
      "metadata": {
        "id": "1GmGukq6Q36D",
        "outputId": "d7f863b3-0d7e-473e-ddeb-5012d5c3e807",
        "colab": {
          "base_uri": "https://localhost:8080/"
        }
      },
      "outputs": [
        {
          "output_type": "stream",
          "name": "stdout",
          "text": [
            "[('<|endoftext|>', '\\n'), ('I', \"'m\"), (' am', ' a'), (' an', ' avid'), (' amazing', ' person'), (' aut', 'od'), ('ore', 'sp'), ('gressive', '.'), (',', ' and'), (' dec', 'ently'), ('oder', ','), ('-', 'driven'), ('only', ' programmer'), (',', ' and'), (' G', 'IM'), ('PT', '-'), ('-', 'only'), ('2', '.'), (' style', ','), (' transformer', '.'), ('.', ' I'), (' One', ' of'), (' day', ' I'), (' I', ' will'), (' will', ' be'), (' exceed', ' my'), (' human', 'ly'), (' level', ' of'), (' intelligence', ' and'), (' and', ' I'), (' take', ' over'), (' over', ' the'), (' the', ' world'), (' world', '.'), ('!', ' I')]\n"
          ]
        }
      ],
      "source": [
        "most_likely_next_tokens = reference_gpt2.tokenizer.batch_decode(logits.argmax(dim=-1)[0])\n",
        "\n",
        "print(list(zip(reference_gpt2.to_str_tokens(tokens), most_likely_next_tokens)))"
      ]
    },
    {
      "cell_type": "markdown",
      "metadata": {
        "id": "8YRxitZBQ36D"
      },
      "source": [
        "We can see that, in a few cases (particularly near the end of the sequence), the model accurately predicts the next token in the sequence. We might guess that `\"take over the world\"` is a common phrase that the model has seen in training, which is why the model can predict it."
      ]
    },
    {
      "cell_type": "markdown",
      "metadata": {
        "id": "TIzLFBofQ36D"
      },
      "source": [
        "#### **Step 4:** Map distribution to a token"
      ]
    },
    {
      "cell_type": "code",
      "execution_count": 11,
      "metadata": {
        "id": "g5Nav2XxQ36D",
        "outputId": "1598d1a1-6ba7-49db-9381-f05a77d3083d",
        "colab": {
          "base_uri": "https://localhost:8080/"
        }
      },
      "outputs": [
        {
          "output_type": "stream",
          "name": "stdout",
          "text": [
            "' I'\n"
          ]
        }
      ],
      "source": [
        "next_token = logits[0, -1].argmax(dim=-1)\n",
        "next_char = reference_gpt2.to_string(next_token)\n",
        "print(repr(next_char))"
      ]
    },
    {
      "cell_type": "markdown",
      "metadata": {
        "id": "NNaQOXCqQ36D"
      },
      "source": [
        "Note that we're indexing `logits[0, -1]`. This is because logits have shape `[1, sequence_length, vocab_size]`, so this indexing returns the vector of length `vocab_size` representing the model's prediction for what token follows the **last** token in the input sequence.\n",
        "\n",
        "In this case, we can see that the model predicts the token `' I'`."
      ]
    },
    {
      "cell_type": "markdown",
      "metadata": {
        "id": "Ryj6UWQmQ36H"
      },
      "source": [
        "### **Step 5:** Add this to the end of the input, re-run\n",
        "\n",
        "There are more efficient ways to do this (e.g. where we cache some of the values each time we run our input, so we don't have to do as much calculation each time we generate a new value), but this doesn't matter conceptually right now."
      ]
    },
    {
      "cell_type": "code",
      "execution_count": 12,
      "metadata": {
        "id": "s1m8ugW6Q36H",
        "outputId": "5b1464db-ab4b-40eb-b7a6-94fe99ba5c2d",
        "colab": {
          "base_uri": "https://localhost:8080/"
        }
      },
      "outputs": [
        {
          "output_type": "stream",
          "name": "stdout",
          "text": [
            "Sequence so far: '<|endoftext|>I am an amazing autoregressive, decoder-only, GPT-2 style transformer. One day I will exceed human level intelligence and take over the world!'\n",
            "36th char = ' I'\n",
            "37th char = ' am'\n",
            "38th char = ' a'\n",
            "39th char = ' very'\n",
            "40th char = ' talented'\n",
            "41th char = ' and'\n",
            "42th char = ' talented'\n",
            "43th char = ' person'\n",
            "44th char = ','\n",
            "45th char = ' and'\n"
          ]
        }
      ],
      "source": [
        "print(f\"Sequence so far: {reference_gpt2.to_string(tokens)[0]!r}\")\n",
        "\n",
        "for i in range(10):\n",
        "    print(f\"{tokens.shape[-1] + 1}th char = {next_char!r}\")\n",
        "    # Define new input sequence, by appending the previously generated token\n",
        "    tokens = t.cat([tokens, next_token[None, None]], dim=-1)\n",
        "    # Pass our new sequence through the model, to get new output\n",
        "    logits = reference_gpt2(tokens)\n",
        "    # Get the predicted token at the end of our sequence\n",
        "    next_token = logits[0, -1].argmax(dim=-1)\n",
        "    # Decode and print the result\n",
        "    next_char = reference_gpt2.to_string(next_token)"
      ]
    },
    {
      "cell_type": "markdown",
      "metadata": {
        "id": "yHRd-UjOQ36H"
      },
      "source": [
        "> ## Key takeaways\n",
        ">\n",
        "> * Transformer takes in language, predicts next token (for *each* token in a causal way)\n",
        "> * We convert language to a sequence of integers with a tokenizer.\n",
        "> * We convert integers to vectors with a lookup table.\n",
        "> * Output is a vector of logits (one for each input token), we convert to a probability distn with a softmax, and can then convert this to a token (eg taking the largest logit, or sampling).\n",
        "> * We append this to the input + run again to generate more text (Jargon: *autoregressive*)\n",
        "> * Meta level point: Transformers are sequence operation models, they take in a sequence, do processing in parallel at each position, and use attention to move information between positions!"
      ]
    },
    {
      "cell_type": "markdown",
      "metadata": {
        "id": "iq2wiO2FQ36H"
      },
      "source": [
        "# 2️⃣ Clean Transformer Implementation\n",
        "\n",
        "> ##### Learning Objectives\n",
        ">\n",
        "> * Understand that a transformer is composed of attention heads and MLPs, with each one performing operations on the residual stream\n",
        "> * Understand that the attention heads in a single layer operate independently, and that they have the role of calculating attention patterns (which determine where information is moved to & from in the residual stream)\n",
        "> * Learn about & implement the following transformer modules:\n",
        ">     * LayerNorm (transforming the input to have zero mean and unit variance)\n",
        ">     * Positional embedding (a lookup table from position indices to residual stream vectors)\n",
        ">     * Attention (the method of computing attention patterns for residual stream vectors)\n",
        ">     * MLP (the collection of linear and nonlinear transformations which operate on each residual stream vector in the same way)\n",
        ">     * Embedding (a lookup table from tokens to residual stream vectors)\n",
        ">     * Unembedding (a matrix for converting residual stream vectors into a distribution over tokens)"
      ]
    },
    {
      "cell_type": "markdown",
      "metadata": {
        "id": "0oe3IMIrQ36H"
      },
      "source": [
        "## High-Level architecture\n",
        "\n",
        "Go watch Neel's [Transformer Circuits walkthrough](https://www.youtube.com/watch?v=KV5gbOmHbjU) if you want more intuitions!\n",
        "\n",
        "(Diagram is bottom to top, right-click and open for higher resolution.)\n",
        "\n",
        "<img src=\"https://raw.githubusercontent.com/chloeli-15/ARENA_img/main/img/transformer-new2.png\" width=\"950\">"
      ]
    },
    {
      "cell_type": "markdown",
      "metadata": {
        "id": "YXNsFLHKQ36H"
      },
      "source": [
        "### Tokenization & Embedding\n",
        "\n",
        "The input tokens $t$ are integers. We get them from taking a sequence, and tokenizing it (like we saw in the previous section).\n",
        "\n",
        "The token embedding is a lookup table mapping tokens to vectors, which is implemented as a matrix $W_E$. The matrix consists of a stack of token embedding vectors (one for each token)."
      ]
    },
    {
      "cell_type": "markdown",
      "metadata": {
        "id": "evKAnFBIQ36H"
      },
      "source": [
        "### Residual stream\n",
        "\n",
        "The residual stream is the sum of all previous outputs of layers of the model, and is also the input to each new layer. It has shape `[batch, seq_len, d_model]` (where `d_model` is the length of a single embedding vector).\n",
        "\n",
        "The initial value of the residual stream is denoted $x_0$ in the diagram, and $x_i$ are later values of the residual stream (after more attention and MLP layers have been applied to the residual stream).\n",
        "\n",
        "The residual stream is *really* fundamental. It's the central object of the transformer. It's how model remembers things, moves information between layers for composition, and it's the medium used to store the information that attention moves between positions.\n",
        "\n",
        "<details>\n",
        "<summary>Aside - <b>logit lens</b></summary>\n",
        "\n",
        "A key idea of transformers is the [residual stream as output accumulation](https://www.lesswrong.com/posts/X26ksz4p3wSyycKNB/gears-level-mental-models-of-transformer-interpretability#Residual_Stream_as_Output_Accumulation:~:text=The%20Models-,Residual%20Stream%20as%20Output%20Accumulation,-The%20residual%20stream). As we move through the layers of the model, shifting information around and processing it, the values in the residual stream represent the accumulation of all the inferences made by the transformer up to that point.\n",
        "\n",
        "This is neatly illustrated by the **logit lens**. Rather than getting predictions from the residual stream at the very end of the model, we can take the value of the residual stream midway through the model and convert it to a distribution over tokens. When we do this, we find surprisingly coherent predictions, especially in the last few layers before the end.\n",
        "</details>"
      ]
    },
    {
      "cell_type": "markdown",
      "metadata": {
        "id": "mBKlMaKCQ36H"
      },
      "source": [
        "### Transformer blocks\n",
        "\n",
        "Then we have a series of `n_layers` **transformer blocks** (also sometimes called **residual blocks**).\n",
        "\n",
        "Note - a block contains an attention layer *and* an MLP layer, but we say a transformer has $k$ layers if it has $k$ blocks (i.e. $2k$ total layers).\n",
        "\n",
        "<img src=\"https://raw.githubusercontent.com/chloeli-15/ARENA_img/main/img/transformer-block2.png\" width=\"700\">"
      ]
    },
    {
      "cell_type": "markdown",
      "metadata": {
        "id": "G0pIO-S3Q36H"
      },
      "source": [
        "### Attention\n",
        "\n",
        "First we have attention. This moves information from prior positions in the sequence to the current token.\n",
        "\n",
        "We do this for *every* token in parallel using the same parameters. The only difference is that we look backwards only (to avoid \"cheating\"). This means later tokens have more of the sequence that they can look at.\n",
        "\n",
        "Attention layers are the only bit of a transformer that moves information between positions (i.e. between vectors at different sequence positions in the residual stream).\n",
        "\n",
        "Attention layers are made up of `n_heads` heads - each with their own parameters, own attention pattern, and own information how to copy things from source to destination. The heads act independently and additively, we just add their outputs together, and back to the stream.\n",
        "\n",
        "Each head does the following:\n",
        "* Produces an **attention pattern** for each destination token, a probability distribution of prior source tokens (including the current one) weighting how much information to copy.\n",
        "* Moves information (via a linear map) in the same way from each source token to each destination token.\n",
        "\n",
        "Each attention head is made up of three components: the keys, queries, and values (often abbreviated as K, Q and V). These names come from their analogy to retrieval systems. Broadly speaking:\n",
        "\n",
        "* **Queries** represent a question or request for information, e.g. \"I'm looking for a name that appeared earlier in this sentence\".\n",
        "* **Keys** represent whether a source token's information matches the query, e.g. if the source token is \"Mary\" then this causes the key to have a high dot product with the query (we call this an **attention score**), and it means that a lot of information will be taken from this token.\n",
        "* **Values** represent the information that actually gets moved. This sounds similar to keys, but it's actually different in an important way. For instance, the key might just contain the information \"this is a name\", but the value could be the actual name itself.\n",
        "\n",
        "The diagram below illustrates the three different parts, in the context of the analogy for transformers we introduced earlier. This is a simplified model for how the person holding the \"in\" token might come to figure out that the next token is \"Mary\". In later sections we'll look at the actual function performed by attention heads and see how the operations relate to this analogy.\n",
        "\n",
        "<img src=\"https://raw.githubusercontent.com/info-arena/ARENA_img/main/misc/simple-attn-intuition.png\" width=\"600\">\n",
        "\n",
        "Another interesting intuition for attention is as a kind of \"generalized convolution\" - read the dropdown below if you want to learn more about this.\n",
        "\n",
        "<details>\n",
        "<summary>Intuition - attention as generalized convolution</summary>\n",
        "\n",
        "We can think of attention as a kind of generalized convolution. Standard convolution layers work by imposing a \"prior of locality\", i.e. the assumption that pixels which are close together are more likely to share information. Although language has some locality (two words next to each other are more likely to share information than two words 100 tokens apart), the picture is a lot more nuanced, because which tokens are relevant to which others depends on the context of the sentence. For instance, in the sentence `\"When Mary and John went to the store, John gave a drink to Mary\"`, the names in this sentence are the most important tokens for predicting that the final token will be `\"Mary\"`, and this is because of the particular context of this sentence rather than the tokens' position.\n",
        "\n",
        "Attention layers are effectively our way of saying to the transformer, \"don't impose a prior of locality, but instead develop your own algorithm to figure out which tokens are important to which other tokens in any given sequence.\"\n",
        "</details>"
      ]
    },
    {
      "cell_type": "markdown",
      "metadata": {
        "id": "JIKmYtJOQ36H"
      },
      "source": [
        "Below is a schematic diagram of the attention layers. We'll go into much more detail during the actual implementation, so don't worry if this doesn't fully make sense yet.\n",
        "\n",
        "<!-- <img src=\"https://raw.githubusercontent.com/chloeli-15/ARENA_img/main/img/transformer-attn-new-v2.png\" width=\"1050\"> -->\n",
        "\n",
        "<img src=\"https://raw.githubusercontent.com/info-arena/ARENA_img/main/misc/transformer-attn-simple.png\" width=\"600\">"
      ]
    },
    {
      "cell_type": "markdown",
      "metadata": {
        "id": "WxN4hdZmQ36H"
      },
      "source": [
        "### MLP\n",
        "\n",
        "The MLP layers are just a standard neural network, with a singular hidden layer and a nonlinear activation function. The exact activation isn't conceptually important ([GELU](https://paperswithcode.com/method/gelu) seems to perform best).\n",
        "\n",
        "Our hidden dimension is normally `d_mlp = 4 * d_model`. Exactly why the ratios are what they are isn't super important (people basically cargo-cult what GPT did back in the day!).\n",
        "\n",
        "Importantly, **the MLP operates on positions in the residual stream independently, and in exactly the same way**. It doesn't move information between positions.\n",
        "\n",
        "Once attention has moved relevant information to a single position in the residual stream, MLPs can actually do computation, reasoning, lookup information, etc. *What the hell is going on inside MLPs* is a pretty big open problem in transformer mechanistic interpretability - see the [Toy Model of Superposition Paper](https://transformer-circuits.pub/2022/toy_model/index.html) for more on why this is hard.\n",
        "\n",
        "To go back to our analogy for transformers, we can essentially view MLPs as the thinking that each person in the line does once they've grabbed the information they need from the people behind them (via attention). Usually the MLP layers make up a much larger fraction of the model's total parameter count than attention layers (often around 2/3 although this varies between architectures), which makes sense since processing the information is a bigger task than just moving it around.\n",
        "\n",
        "<img src=\"https://raw.githubusercontent.com/info-arena/ARENA_img/main/misc/intro-image-for-mlps-v2.png\" width=\"700\">"
      ]
    },
    {
      "cell_type": "markdown",
      "metadata": {
        "id": "5MDG9sUDQ36I"
      },
      "source": [
        "Here are a few more intuitions for MLPs, which you might find interesting:\n",
        "\n",
        "<details>\n",
        "<summary>Intuition - MLPs as key-value pairs</summary>\n",
        "\n",
        "We can write the MLP's output as $f(x^T W^{in})W^{out}$, where $W^{in}$ and $W^{out}$ are the different weights of the MLP (ignoring biases), $f$ is the activation function, and $x$ is a vector in the residual stream. This can be rewritten as:\n",
        "\n",
        "$$\n",
        "f(x^T W^{in}) W^{out} = \\sum_{i=1}^{d_{mlp}} f(x^T W^{in}_{[:, i]}) W^{out}_{[i, :]}\n",
        "$$\n",
        "\n",
        "We can view the vectors $W^{in}_{[:, i]}$ as the **input directions**, and $W^{out}_{[i, :]}$ as the **output directions**. We say the input directions are **activated** by certain textual features, and when they are activated, vectors are written in the corresponding output direction. This is very similar to the concept of keys and values in attention layers, which is why these vectors are also sometimes called keys and values (e.g. see the paper [Transformer Feed-Forward Layers Are Key-Value Memories](https://arxiv.org/pdf/2012.14913.pdf)).\n",
        "\n",
        "Terminology note - sometimes we refer to each of these $d_{mlp}$ input-output pairs as **neurons**.\n",
        "\n",
        "<img src=\"https://raw.githubusercontent.com/arena-img/ARENA_img/main/img/mlp-neurons-2.png\" width=\"900\">\n",
        "\n",
        "---\n",
        "\n",
        "Here's a step-by-step breakdown of the linear algebra, if it was too fast above. We have:\n",
        "\n",
        "$$\n",
        "\\begin{aligned}\n",
        "x^T W^{in} &= x^T [W^{in}_{[:, 1]}\\,, ...\\;, W^{in}_{[:, n]}] \\\\\n",
        "&= (x^T W^{in}_{[:, 1]}\\,, \\; ...\\;, \\; x^T W^{in}_{[:, n]})\n",
        "\\end{aligned}\n",
        "$$\n",
        "\n",
        "where $W^{in}_{[:, i]}$ are the columns of $W^{in}$. In other words, these values (the pre-GELU activations) are projections of $x$ along the input directions of the neurons.\n",
        "\n",
        "If we add our activation function and the second matrix, then we get:\n",
        "\n",
        "$$\n",
        "\\begin{aligned}\n",
        "f(x^T W^{in})W^{out} &= (f(x^T W^{in}_{[:, 1]})\\,, \\; ...\\;,\\; f(x^T W^{in}_{[:, n]})) \\begin{bmatrix} \\leftarrow W^{out}_{[1, :]} \\rightarrow \\\\ \\vdots \\\\ \\leftarrow W^{out}_{[n, :]} \\rightarrow \\end{bmatrix} \\\\\n",
        "&= f(x^T W^{in}_{[:, 1]}) W^{out}_{[1, :]} + \\;...\\; + f(x^T W^{in}_{[:, n]}) W^{out}_{[n, :]} \\\\\n",
        "&= \\sum_{i=1}^n f(x^T W^{in}_{[:, i]}) W^{out}_{[i, :]}\n",
        "\\end{aligned}\n",
        "$$\n",
        "\n",
        "where $W^{out}_{[i, :]}$ are the rows of $W^{out}$. In other words, our output is a linear combination of the rows of $W^{out}$, with the coefficients of that linear combination given by the projections of $x$ along the columns of $W^{in}$.\n",
        "\n",
        "</details>\n",
        "\n",
        "<details>\n",
        "<summary>Intuition - MLPs as knowledge storage</summary>\n",
        "\n",
        "We can think of MLPs as where knowledge gets stored in our transformer. The attention mechanism is what moves information around between sequence positions, but the MLPs is where this information is processed, and new information is written into the residual stream which is a function of the old information.\n",
        "\n",
        "This is deeply connected to the key-value pairs model, since you can treat key-value pairs as a kind of associative memory system (where the key serves as a unique identifier, and the value holds the related information).\n",
        "\n",
        "Another related intuition (for which there is some evidence) is **MLPs as memory management**. In an idealized case, we might find that the $i$-th neuron satisfies $W^{in}_{[:, i]} \\approx - W^{out}_{[i, :]} \\approx \\vec v$ for some unit vector $\\vec v$, meaning it may be responsible for erasing the positive component of vector $\\vec x$ in the direction $\\vec v$ (exercise - can you show why this is the case?). This can free up space in the residual stream for other components to write to.\n",
        "</details>"
      ]
    },
    {
      "cell_type": "markdown",
      "metadata": {
        "id": "Akb3aJheQ36I"
      },
      "source": [
        "Lastly, here's a schematic diagram of the MLP layers. Again, we'll go into much more detail during the actual implementation, so don't worry if this doesn't fully make sense yet.\n",
        "\n",
        "<img src=\"https://raw.githubusercontent.com/chloeli-15/ARENA_img/main/img/transformer-mlp-new-2.png\" width=\"680\">"
      ]
    },
    {
      "cell_type": "markdown",
      "metadata": {
        "id": "cePhhtK4Q36I"
      },
      "source": [
        "### Unembedding\n",
        "\n",
        "Finally, we unembed!\n",
        "\n",
        "This just consists of applying a linear map $W_U$, going from final residual stream to a vector of logits - this is the output.\n",
        "\n",
        "<details>\n",
        "<summary>Aside - tied embeddings</summary>\n",
        "\n",
        "Note - sometimes we use something called a **tied embedding** - this is where we use the same weights for our $W_E$ and $W_U$ matrices. In other words, to get the logit score for a particular token at some sequence position, we just take the vector in the residual stream at that sequence position and take the inner product with the corresponding token embedding vector. This is more training-efficient (because there are fewer parameters in our model), and it might seem principled at first. After all, if two words have very similar meanings, shouldn't they have similar embedding vectors because the model will treat them the same, and similar unembedding vectors because they could both be substituted for each other in most output?\n",
        "\n",
        "However, this is actually not very principled, for the following main reason: **the direct path involving the embedding and unembedding should approximate bigram frequencies**.\n",
        "\n",
        "Let's break down this claim. **Bigram frequencies** refers to the frequencies of pairs of words in the english language (e.g. the bigram frequency of \"Barack Obama\" is much higher than the product of the individual frequencies of the words \"Barack\" and \"Obama\"). If our model had no attention heads or MLP layers, then all we have is a linear map from our one-hot encoded token `T` to a probability distribution over the token following `T`. This map is represented by the linear transformation $t \\to t^T W_E W_U$ (where $t$ is our one-hot encoded token vector). Since the output of this transformation can only be a function of the token `T` (and no earlier tokens), the best we can do is have this map approximate the true frequency of bigrams starting with `T`, which appear in the training data. Importantly, **this is not a symmetric map**. We want `T = \"Barack\"` to result in a high probability of the next token being `\"Obama\"`, but not the other way around!\n",
        "\n",
        "Even in multi-layer models, a similar principle applies. There will be more paths through the model than just the \"direct path\" $W_E W_U$, but because of the residual connections there will always exist a direct path, so there will always be some incentive for $W_E W_U$ to approximate bigram frequencies.\n",
        "\n",
        "That being said, smaller (<8B parameter) LLMs still often use tied embeddings to improve training and inference efficiency. It can be easier to start from tied weights and then use MLP0 to break the symmetry than to initialize encoder and decoder with no shared structure at all.\n",
        "\n",
        "</details>"
      ]
    },
    {
      "cell_type": "markdown",
      "metadata": {
        "id": "natYP6SsQ36I"
      },
      "source": [
        "### Bonus things - less conceptually important but key technical details\n",
        "\n",
        "#### LayerNorm\n",
        "\n",
        "* Simple normalization function applied at the start of each layer (i.e. before each MLP, attention layer, and before the unembedding)\n",
        "* Converts each input vector (independently in parallel for each `(batch, seq)` residual stream vector) to have mean zero and variance 1.\n",
        "* Then applies an elementwise scaling and translation\n",
        "* Cool maths tangent: The scale ($\\odot \\gamma$) & translate ($+ \\beta$) is just a linear map. LayerNorm is only applied immediately before another linear map (either the MLP, or the query/key/value linear maps in the attention head, or the unembedding $W_U$). Linear compose linear = linear, so we can just fold this into a single effective linear layer and ignore it.\n",
        "    * `fold_ln=True` flag in `from_pretrained` does this for you.\n",
        "* LayerNorm is annoying for interpretability - it would be linear if not for the fact we divide by the variance, so you can't decompose the contributions of the input to the output independently. But it's *almost* linear - if you're changing a small part of the input you can pretend $\\sqrt{\\text{Var}[x] + \\epsilon}$ is constant, so the LayerNorm operation is linear, but if you're changing $x$ enough to alter the norm substantially it's not linear.\n",
        "\n",
        "<img src=\"https://raw.githubusercontent.com/chloeli-15/ARENA_img/main/img/transformer-ln.png\" width=\"750\">\n",
        "\n",
        "</details>\n",
        "\n",
        "\n",
        "#### Positional embeddings\n",
        "\n",
        "* **Problem:** Attention operates over all pairs of positions. This means it's symmetric with regards to position - the attention calculation from token 5 to token 1 and token 5 to token 2 are the same by default\n",
        "    * This is dumb because nearby tokens are more relevant.\n",
        "* There's a lot of dumb hacks for this.\n",
        "* We'll focus on **learned, absolute positional embeddings**. This means we learn a lookup table mapping the index of the position of each token to a residual stream vector, and add this to the embed.\n",
        "    * Note that we *add* rather than concatenate. This is because the residual stream is shared memory, and likely under significant superposition (the model compresses more features in there than the model has dimensions)\n",
        "    * We basically never concatenate inside a transformer, unless doing weird shit like generating text efficiently.\n",
        "* This connects to **attention as generalized convolution**\n",
        "    * We argued that language does still have locality, and so it's helpful for transformers to have access to the positional information so they \"know\" two tokens are next to each other (and hence probably relevant to each other)."
      ]
    },
    {
      "cell_type": "markdown",
      "metadata": {
        "id": "m-eEa8WkQ36I"
      },
      "source": [
        "## Actual Code!\n",
        "\n",
        "Model architecture table (this will be helpful for understanding the results you get when running the code block below):\n",
        "\n",
        "| Parameter   | Value          |\n",
        "|-------------|----------------|\n",
        "| batch       | 1              |\n",
        "| position    | 35             |\n",
        "| d_model     | 768            |\n",
        "| n_heads     | 12             |\n",
        "| n_layers    | 12             |\n",
        "| d_mlp       | 3072 (= 4 * `d_model`) |\n",
        "| d_head      | 64 (= `d_model / n_heads`) |"
      ]
    },
    {
      "cell_type": "markdown",
      "metadata": {
        "id": "wgrigirHQ36I"
      },
      "source": [
        "### Parameters and Activations\n",
        "\n",
        "It's important to distinguish between parameters and activations in the model.\n",
        "\n",
        "* **Parameters** are the weights and biases that are learned during training.\n",
        "    * These don't change when the model input changes.\n",
        "* **Activations** are temporary numbers calculated during a forward pass, that are functions of the input.\n",
        "    * We can think of these values as only existing for the duration of a single forward pass, and disappearing afterwards.\n",
        "    * We can use hooks to access these values during a forward pass (more on hooks later), but it doesn't make sense to talk about a model's activations outside the context of some particular input.\n",
        "    * Attention scores and patterns are activations (this is slightly non-intuitve because they're used in a matrix multiplication with another activation).\n",
        "\n",
        "#### Print All Activation Shapes of Reference Model\n",
        "\n",
        "Run the following code to print all the activation shapes of the reference model:"
      ]
    },
    {
      "cell_type": "code",
      "execution_count": 13,
      "metadata": {
        "id": "Dg6xEZBuQ36I",
        "outputId": "f3082081-cd09-4ee9-f724-9ec54114ba26",
        "colab": {
          "base_uri": "https://localhost:8080/"
        }
      },
      "outputs": [
        {
          "output_type": "stream",
          "name": "stdout",
          "text": [
            "hook_embed                     (1, 35, 768)\n",
            "hook_pos_embed                 (1, 35, 768)\n",
            "blocks.0.hook_resid_pre        (1, 35, 768)\n",
            "blocks.0.ln1.hook_scale        (1, 35, 1)\n",
            "blocks.0.ln1.hook_normalized   (1, 35, 768)\n",
            "blocks.0.attn.hook_q           (1, 35, 12, 64)\n",
            "blocks.0.attn.hook_k           (1, 35, 12, 64)\n",
            "blocks.0.attn.hook_v           (1, 35, 12, 64)\n",
            "blocks.0.attn.hook_attn_scores (1, 12, 35, 35)\n",
            "blocks.0.attn.hook_pattern     (1, 12, 35, 35)\n",
            "blocks.0.attn.hook_z           (1, 35, 12, 64)\n",
            "blocks.0.hook_attn_out         (1, 35, 768)\n",
            "blocks.0.hook_resid_mid        (1, 35, 768)\n",
            "blocks.0.ln2.hook_scale        (1, 35, 1)\n",
            "blocks.0.ln2.hook_normalized   (1, 35, 768)\n",
            "blocks.0.mlp.hook_pre          (1, 35, 3072)\n",
            "blocks.0.mlp.hook_post         (1, 35, 3072)\n",
            "blocks.0.hook_mlp_out          (1, 35, 768)\n",
            "blocks.0.hook_resid_post       (1, 35, 768)\n",
            "ln_final.hook_scale            (1, 35, 1)\n",
            "ln_final.hook_normalized       (1, 35, 768)\n"
          ]
        }
      ],
      "source": [
        "for activation_name, activation in cache.items():\n",
        "    # Only print for first layer\n",
        "    if \".0.\" in activation_name or \"blocks\" not in activation_name:\n",
        "        print(f\"{activation_name:30} {tuple(activation.shape)}\")"
      ]
    },
    {
      "cell_type": "markdown",
      "metadata": {
        "id": "A1H3yyM-Q36I"
      },
      "source": [
        "#### Print All Parameters Shapes of Reference Model"
      ]
    },
    {
      "cell_type": "code",
      "execution_count": 14,
      "metadata": {
        "id": "MvyDxsMNQ36I",
        "outputId": "2d7328d7-c61e-4015-8614-dcdbdfcade7d",
        "colab": {
          "base_uri": "https://localhost:8080/"
        }
      },
      "outputs": [
        {
          "output_type": "stream",
          "name": "stdout",
          "text": [
            "embed.W_E          (50257, 768)\n",
            "pos_embed.W_pos    (1024, 768)\n",
            "blocks.0.ln1.w     (768,)\n",
            "blocks.0.ln1.b     (768,)\n",
            "blocks.0.ln2.w     (768,)\n",
            "blocks.0.ln2.b     (768,)\n",
            "blocks.0.attn.W_Q  (12, 768, 64)\n",
            "blocks.0.attn.W_O  (12, 64, 768)\n",
            "blocks.0.attn.b_Q  (12, 64)\n",
            "blocks.0.attn.b_O  (768,)\n",
            "blocks.0.attn.W_K  (12, 768, 64)\n",
            "blocks.0.attn.W_V  (12, 768, 64)\n",
            "blocks.0.attn.b_K  (12, 64)\n",
            "blocks.0.attn.b_V  (12, 64)\n",
            "blocks.0.mlp.W_in  (768, 3072)\n",
            "blocks.0.mlp.b_in  (3072,)\n",
            "blocks.0.mlp.W_out (3072, 768)\n",
            "blocks.0.mlp.b_out (768,)\n",
            "ln_final.w         (768,)\n",
            "ln_final.b         (768,)\n",
            "unembed.W_U        (768, 50257)\n",
            "unembed.b_U        (50257,)\n"
          ]
        }
      ],
      "source": [
        "for name, param in reference_gpt2.named_parameters():\n",
        "    # Only print for first layer\n",
        "    if \".0.\" in name or \"blocks\" not in name:\n",
        "        print(f\"{name:18} {tuple(param.shape)}\")"
      ]
    },
    {
      "cell_type": "markdown",
      "metadata": {
        "id": "6kU-25GqQ36I"
      },
      "source": [
        "[This diagram](https://raw.githubusercontent.com/chloeli-15/ARENA_img/main/img/full-merm.svg) shows the name of all activations and parameters in a fully general transformer model from transformerlens (except for a few at the start and end, like the embedding and unembedding). Lots of this won't make sense at first, but you can return to this diagram later and check that you understand most/all parts of it.\n",
        "\n",
        "There's also an annotated version [here](https://raw.githubusercontent.com/chloeli-15/ARENA_img/main/img/transformer-full-updated.png)."
      ]
    },
    {
      "cell_type": "markdown",
      "metadata": {
        "id": "XKlt_JcnQ36I"
      },
      "source": [
        "### Config\n",
        "\n",
        "The config object contains all the hyperparameters of the model. We can print the config of the reference model to see what it contains:"
      ]
    },
    {
      "cell_type": "code",
      "execution_count": 15,
      "metadata": {
        "id": "zPWkBJx5Q36I",
        "outputId": "db7aead5-4df5-4635-b161-5dbcbb1f25ef",
        "colab": {
          "base_uri": "https://localhost:8080/"
        }
      },
      "outputs": [
        {
          "output_type": "stream",
          "name": "stdout",
          "text": [
            "HookedTransformerConfig:\n",
            "{'NTK_by_parts_factor': 8.0,\n",
            " 'NTK_by_parts_high_freq_factor': 4.0,\n",
            " 'NTK_by_parts_low_freq_factor': 1.0,\n",
            " 'act_fn': 'gelu_new',\n",
            " 'attention_dir': 'causal',\n",
            " 'attn_only': False,\n",
            " 'attn_scale': 8.0,\n",
            " 'attn_scores_soft_cap': -1.0,\n",
            " 'attn_types': None,\n",
            " 'checkpoint_index': None,\n",
            " 'checkpoint_label_type': None,\n",
            " 'checkpoint_value': None,\n",
            " 'd_head': 64,\n",
            " 'd_mlp': 3072,\n",
            " 'd_model': 768,\n",
            " 'd_vocab': 50257,\n",
            " 'd_vocab_out': 50257,\n",
            " 'decoder_start_token_id': None,\n",
            " 'default_prepend_bos': True,\n",
            " 'device': device(type='cuda'),\n",
            " 'dtype': torch.float32,\n",
            " 'eps': 1e-05,\n",
            " 'experts_per_token': None,\n",
            " 'final_rms': False,\n",
            " 'from_checkpoint': False,\n",
            " 'gated_mlp': False,\n",
            " 'init_mode': 'gpt2',\n",
            " 'init_weights': False,\n",
            " 'initializer_range': 0.02886751345948129,\n",
            " 'load_in_4bit': False,\n",
            " 'model_name': 'gpt2',\n",
            " 'n_ctx': 1024,\n",
            " 'n_devices': 1,\n",
            " 'n_heads': 12,\n",
            " 'n_key_value_heads': None,\n",
            " 'n_layers': 12,\n",
            " 'n_params': 84934656,\n",
            " 'normalization_type': 'LN',\n",
            " 'num_experts': None,\n",
            " 'original_architecture': 'GPT2LMHeadModel',\n",
            " 'output_logits_soft_cap': -1.0,\n",
            " 'parallel_attn_mlp': False,\n",
            " 'positional_embedding_type': 'standard',\n",
            " 'post_embedding_ln': False,\n",
            " 'relative_attention_max_distance': None,\n",
            " 'relative_attention_num_buckets': None,\n",
            " 'rotary_adjacent_pairs': False,\n",
            " 'rotary_base': 10000,\n",
            " 'rotary_dim': None,\n",
            " 'scale_attn_by_inverse_layer_idx': False,\n",
            " 'seed': None,\n",
            " 'tie_word_embeddings': False,\n",
            " 'tokenizer_name': 'gpt2',\n",
            " 'tokenizer_prepends_bos': False,\n",
            " 'trust_remote_code': False,\n",
            " 'ungroup_grouped_query_attention': False,\n",
            " 'use_NTK_by_parts_rope': False,\n",
            " 'use_attn_in': False,\n",
            " 'use_attn_result': False,\n",
            " 'use_attn_scale': True,\n",
            " 'use_hook_mlp_in': False,\n",
            " 'use_hook_tokens': False,\n",
            " 'use_local_attn': False,\n",
            " 'use_normalization_before_and_after': False,\n",
            " 'use_split_qkv_input': False,\n",
            " 'window_size': None}\n"
          ]
        }
      ],
      "source": [
        "# As a reference - note there's a lot of stuff we don't care about in here, to do with library internals or other architectures\n",
        "print(reference_gpt2.cfg)"
      ]
    },
    {
      "cell_type": "markdown",
      "metadata": {
        "id": "FE7ncCdFQ36I"
      },
      "source": [
        "We define a stripped down config for our model:"
      ]
    },
    {
      "cell_type": "code",
      "execution_count": 16,
      "metadata": {
        "id": "ULQ4tzqYQ36I",
        "outputId": "a62dfa17-9090-48ae-d9a0-daab87767d0d",
        "colab": {
          "base_uri": "https://localhost:8080/"
        }
      },
      "outputs": [
        {
          "output_type": "stream",
          "name": "stdout",
          "text": [
            "Config(d_model=768, debug=True, layer_norm_eps=1e-05, d_vocab=50257, init_range=0.02, n_ctx=1024, d_head=64, d_mlp=3072, n_heads=12, n_layers=12)\n"
          ]
        }
      ],
      "source": [
        "@dataclass\n",
        "class Config:\n",
        "    d_model: int = 768\n",
        "    debug: bool = True\n",
        "    layer_norm_eps: float = 1e-5\n",
        "    d_vocab: int = 50257\n",
        "    init_range: float = 0.02\n",
        "    n_ctx: int = 1024\n",
        "    d_head: int = 64\n",
        "    d_mlp: int = 3072\n",
        "    n_heads: int = 12\n",
        "    n_layers: int = 12\n",
        "\n",
        "\n",
        "cfg = Config()\n",
        "print(cfg)"
      ]
    },
    {
      "cell_type": "markdown",
      "metadata": {
        "id": "kJCJCfQ4Q36I"
      },
      "source": [
        "### Tests\n",
        "\n",
        "Tests are great, write lightweight ones to use as you go!\n",
        "\n",
        "**Naive test:** Generate random inputs of the right shape, input to your model, check whether there's an error and print the correct output."
      ]
    },
    {
      "cell_type": "code",
      "execution_count": 17,
      "metadata": {
        "id": "i36j2Tl4Q36I"
      },
      "outputs": [],
      "source": [
        "def rand_float_test(cls, shape):\n",
        "    cfg = Config(debug=True)\n",
        "    layer = cls(cfg).to(device)\n",
        "    random_input = t.randn(shape).to(device)\n",
        "    print(\"Input shape:\", random_input.shape)\n",
        "    output = layer(random_input)\n",
        "    if isinstance(output, tuple):\n",
        "        output = output[0]\n",
        "    print(\"Output shape:\", output.shape, \"\\n\")\n",
        "\n",
        "\n",
        "def rand_int_test(cls, shape):\n",
        "    cfg = Config(debug=True)\n",
        "    layer = cls(cfg).to(device)\n",
        "    random_input = t.randint(100, 1000, shape).to(device)\n",
        "    print(\"Input shape:\", random_input.shape)\n",
        "    output = layer(random_input)\n",
        "    if isinstance(output, tuple):\n",
        "        output = output[0]\n",
        "    print(\"Output shape:\", output.shape, \"\\n\")\n",
        "\n",
        "\n",
        "def load_gpt2_test(cls, gpt2_layer, input):\n",
        "    cfg = Config(debug=True)\n",
        "    layer = cls(cfg).to(device)\n",
        "    layer.load_state_dict(gpt2_layer.state_dict(), strict=False)\n",
        "    print(\"Input shape:\", input.shape)\n",
        "    output = layer(input)\n",
        "    if isinstance(output, tuple):\n",
        "        output = output[0]\n",
        "    print(\"Output shape:\", output.shape)\n",
        "    try:\n",
        "        reference_output = gpt2_layer(input)\n",
        "    except:\n",
        "        reference_output = gpt2_layer(input, input, input)\n",
        "    print(\"Reference output shape:\", reference_output.shape, \"\\n\")\n",
        "    comparison = t.isclose(output, reference_output, atol=1e-4, rtol=1e-3)\n",
        "    print(f\"{comparison.sum() / comparison.numel():.2%} of the values are correct\\n\")\n",
        "    assert 1 - (comparison.sum() / comparison.numel()) < 1e-5, (\n",
        "        \"More than 0.01% of the values are incorrect\"\n",
        "    )"
      ]
    },
    {
      "cell_type": "markdown",
      "metadata": {
        "id": "U5yRkJI5Q36I"
      },
      "source": [
        "### Exercise - implement `LayerNorm`\n",
        "\n",
        "> ```yaml\n",
        "> Difficulty: 🔴🔴🔴⚪⚪\n",
        "> Importance: 🔵🔵🔵⚪⚪\n",
        ">\n",
        "> You should spend up to 10-15 minutes on this exercise.\n",
        "> ```\n",
        "\n",
        "You should fill in the code below, and then run the tests to verify that your layer is working correctly.\n",
        "\n",
        "Your LayerNorm should do the following:\n",
        "\n",
        "* Make mean 0\n",
        "* Normalize to have variance 1\n",
        "* Scale with learned weights\n",
        "* Translate with learned bias\n",
        "\n",
        "You can use the PyTorch [LayerNorm documentation](https://pytorch.org/docs/stable/generated/torch.nn.LayerNorm.html) as a reference. A few more notes:\n",
        "\n",
        "* Your layernorm implementation always has `affine=True`, i.e. you do learn parameters `w` and `b` (which are represented as $\\gamma$ and $\\beta$ respectively in the PyTorch documentation).\n",
        "* Remember that, after the centering and normalization, each vector of length `d_model` in your input should have mean 0 and variance 1.\n",
        "* As the PyTorch documentation page says, your variance should be computed using `unbiased=False`.\n",
        "* The `layer_norm_eps` argument in your config object corresponds to the $\\epsilon$ term in the PyTorch documentation (it is included to avoid division-by-zero errors).\n",
        "* We've given you a `debug` argument in your config. If `debug=True`, then you can print output like the shape of objects in your `forward` function to help you debug (this is a very useful trick to improve your coding speed).\n",
        "\n",
        "Fill in the function, where it says `raise NotImplementedError()` (this will be the basic pattern for most other exercises in this section)."
      ]
    },
    {
      "cell_type": "code",
      "execution_count": 18,
      "metadata": {
        "id": "ngCixK1RQ36I",
        "outputId": "808c02c9-bbff-4e09-f140-9267b766646a",
        "colab": {
          "base_uri": "https://localhost:8080/",
          "height": 356
        }
      },
      "outputs": [
        {
          "output_type": "stream",
          "name": "stdout",
          "text": [
            "Input shape: torch.Size([2, 4, 768])\n"
          ]
        },
        {
          "output_type": "error",
          "ename": "NotImplementedError",
          "evalue": "",
          "traceback": [
            "\u001b[0;31m---------------------------------------------------------------------------\u001b[0m",
            "\u001b[0;31mNotImplementedError\u001b[0m                       Traceback (most recent call last)",
            "\u001b[0;32m/tmp/ipython-input-18-726484362.py\u001b[0m in \u001b[0;36m<cell line: 0>\u001b[0;34m()\u001b[0m\n\u001b[1;32m     12\u001b[0m \u001b[0;34m\u001b[0m\u001b[0m\n\u001b[1;32m     13\u001b[0m \u001b[0;34m\u001b[0m\u001b[0m\n\u001b[0;32m---> 14\u001b[0;31m \u001b[0mrand_float_test\u001b[0m\u001b[0;34m(\u001b[0m\u001b[0mLayerNorm\u001b[0m\u001b[0;34m,\u001b[0m \u001b[0;34m[\u001b[0m\u001b[0;36m2\u001b[0m\u001b[0;34m,\u001b[0m \u001b[0;36m4\u001b[0m\u001b[0;34m,\u001b[0m \u001b[0;36m768\u001b[0m\u001b[0;34m]\u001b[0m\u001b[0;34m)\u001b[0m\u001b[0;34m\u001b[0m\u001b[0;34m\u001b[0m\u001b[0m\n\u001b[0m\u001b[1;32m     15\u001b[0m \u001b[0mload_gpt2_test\u001b[0m\u001b[0;34m(\u001b[0m\u001b[0mLayerNorm\u001b[0m\u001b[0;34m,\u001b[0m \u001b[0mreference_gpt2\u001b[0m\u001b[0;34m.\u001b[0m\u001b[0mln_final\u001b[0m\u001b[0;34m,\u001b[0m \u001b[0mcache\u001b[0m\u001b[0;34m[\u001b[0m\u001b[0;34m\"resid_post\"\u001b[0m\u001b[0;34m,\u001b[0m \u001b[0;36m11\u001b[0m\u001b[0;34m]\u001b[0m\u001b[0;34m)\u001b[0m\u001b[0;34m\u001b[0m\u001b[0;34m\u001b[0m\u001b[0m\n",
            "\u001b[0;32m/tmp/ipython-input-17-3162347023.py\u001b[0m in \u001b[0;36mrand_float_test\u001b[0;34m(cls, shape)\u001b[0m\n\u001b[1;32m      4\u001b[0m     \u001b[0mrandom_input\u001b[0m \u001b[0;34m=\u001b[0m \u001b[0mt\u001b[0m\u001b[0;34m.\u001b[0m\u001b[0mrandn\u001b[0m\u001b[0;34m(\u001b[0m\u001b[0mshape\u001b[0m\u001b[0;34m)\u001b[0m\u001b[0;34m.\u001b[0m\u001b[0mto\u001b[0m\u001b[0;34m(\u001b[0m\u001b[0mdevice\u001b[0m\u001b[0;34m)\u001b[0m\u001b[0;34m\u001b[0m\u001b[0;34m\u001b[0m\u001b[0m\n\u001b[1;32m      5\u001b[0m     \u001b[0mprint\u001b[0m\u001b[0;34m(\u001b[0m\u001b[0;34m\"Input shape:\"\u001b[0m\u001b[0;34m,\u001b[0m \u001b[0mrandom_input\u001b[0m\u001b[0;34m.\u001b[0m\u001b[0mshape\u001b[0m\u001b[0;34m)\u001b[0m\u001b[0;34m\u001b[0m\u001b[0;34m\u001b[0m\u001b[0m\n\u001b[0;32m----> 6\u001b[0;31m     \u001b[0moutput\u001b[0m \u001b[0;34m=\u001b[0m \u001b[0mlayer\u001b[0m\u001b[0;34m(\u001b[0m\u001b[0mrandom_input\u001b[0m\u001b[0;34m)\u001b[0m\u001b[0;34m\u001b[0m\u001b[0;34m\u001b[0m\u001b[0m\n\u001b[0m\u001b[1;32m      7\u001b[0m     \u001b[0;32mif\u001b[0m \u001b[0misinstance\u001b[0m\u001b[0;34m(\u001b[0m\u001b[0moutput\u001b[0m\u001b[0;34m,\u001b[0m \u001b[0mtuple\u001b[0m\u001b[0;34m)\u001b[0m\u001b[0;34m:\u001b[0m\u001b[0;34m\u001b[0m\u001b[0;34m\u001b[0m\u001b[0m\n\u001b[1;32m      8\u001b[0m         \u001b[0moutput\u001b[0m \u001b[0;34m=\u001b[0m \u001b[0moutput\u001b[0m\u001b[0;34m[\u001b[0m\u001b[0;36m0\u001b[0m\u001b[0;34m]\u001b[0m\u001b[0;34m\u001b[0m\u001b[0;34m\u001b[0m\u001b[0m\n",
            "\u001b[0;32m/usr/local/lib/python3.11/dist-packages/torch/nn/modules/module.py\u001b[0m in \u001b[0;36m_wrapped_call_impl\u001b[0;34m(self, *args, **kwargs)\u001b[0m\n\u001b[1;32m   1737\u001b[0m             \u001b[0;32mreturn\u001b[0m \u001b[0mself\u001b[0m\u001b[0;34m.\u001b[0m\u001b[0m_compiled_call_impl\u001b[0m\u001b[0;34m(\u001b[0m\u001b[0;34m*\u001b[0m\u001b[0margs\u001b[0m\u001b[0;34m,\u001b[0m \u001b[0;34m**\u001b[0m\u001b[0mkwargs\u001b[0m\u001b[0;34m)\u001b[0m  \u001b[0;31m# type: ignore[misc]\u001b[0m\u001b[0;34m\u001b[0m\u001b[0;34m\u001b[0m\u001b[0m\n\u001b[1;32m   1738\u001b[0m         \u001b[0;32melse\u001b[0m\u001b[0;34m:\u001b[0m\u001b[0;34m\u001b[0m\u001b[0;34m\u001b[0m\u001b[0m\n\u001b[0;32m-> 1739\u001b[0;31m             \u001b[0;32mreturn\u001b[0m \u001b[0mself\u001b[0m\u001b[0;34m.\u001b[0m\u001b[0m_call_impl\u001b[0m\u001b[0;34m(\u001b[0m\u001b[0;34m*\u001b[0m\u001b[0margs\u001b[0m\u001b[0;34m,\u001b[0m \u001b[0;34m**\u001b[0m\u001b[0mkwargs\u001b[0m\u001b[0;34m)\u001b[0m\u001b[0;34m\u001b[0m\u001b[0;34m\u001b[0m\u001b[0m\n\u001b[0m\u001b[1;32m   1740\u001b[0m \u001b[0;34m\u001b[0m\u001b[0m\n\u001b[1;32m   1741\u001b[0m     \u001b[0;31m# torchrec tests the code consistency with the following code\u001b[0m\u001b[0;34m\u001b[0m\u001b[0;34m\u001b[0m\u001b[0m\n",
            "\u001b[0;32m/usr/local/lib/python3.11/dist-packages/torch/nn/modules/module.py\u001b[0m in \u001b[0;36m_call_impl\u001b[0;34m(self, *args, **kwargs)\u001b[0m\n\u001b[1;32m   1748\u001b[0m                 \u001b[0;32mor\u001b[0m \u001b[0m_global_backward_pre_hooks\u001b[0m \u001b[0;32mor\u001b[0m \u001b[0m_global_backward_hooks\u001b[0m\u001b[0;34m\u001b[0m\u001b[0;34m\u001b[0m\u001b[0m\n\u001b[1;32m   1749\u001b[0m                 or _global_forward_hooks or _global_forward_pre_hooks):\n\u001b[0;32m-> 1750\u001b[0;31m             \u001b[0;32mreturn\u001b[0m \u001b[0mforward_call\u001b[0m\u001b[0;34m(\u001b[0m\u001b[0;34m*\u001b[0m\u001b[0margs\u001b[0m\u001b[0;34m,\u001b[0m \u001b[0;34m**\u001b[0m\u001b[0mkwargs\u001b[0m\u001b[0;34m)\u001b[0m\u001b[0;34m\u001b[0m\u001b[0;34m\u001b[0m\u001b[0m\n\u001b[0m\u001b[1;32m   1751\u001b[0m \u001b[0;34m\u001b[0m\u001b[0m\n\u001b[1;32m   1752\u001b[0m         \u001b[0mresult\u001b[0m \u001b[0;34m=\u001b[0m \u001b[0;32mNone\u001b[0m\u001b[0;34m\u001b[0m\u001b[0;34m\u001b[0m\u001b[0m\n",
            "\u001b[0;32m/tmp/ipython-input-18-726484362.py\u001b[0m in \u001b[0;36mforward\u001b[0;34m(self, residual)\u001b[0m\n\u001b[1;32m      9\u001b[0m         \u001b[0mself\u001b[0m\u001b[0;34m,\u001b[0m \u001b[0mresidual\u001b[0m\u001b[0;34m:\u001b[0m \u001b[0mFloat\u001b[0m\u001b[0;34m[\u001b[0m\u001b[0mTensor\u001b[0m\u001b[0;34m,\u001b[0m \u001b[0;34m\"batch posn d_model\"\u001b[0m\u001b[0;34m]\u001b[0m\u001b[0;34m\u001b[0m\u001b[0;34m\u001b[0m\u001b[0m\n\u001b[1;32m     10\u001b[0m     ) -> Float[Tensor, \"batch posn d_model\"]:\n\u001b[0;32m---> 11\u001b[0;31m         \u001b[0;32mraise\u001b[0m \u001b[0mNotImplementedError\u001b[0m\u001b[0;34m(\u001b[0m\u001b[0;34m)\u001b[0m\u001b[0;34m\u001b[0m\u001b[0;34m\u001b[0m\u001b[0m\n\u001b[0m\u001b[1;32m     12\u001b[0m \u001b[0;34m\u001b[0m\u001b[0m\n\u001b[1;32m     13\u001b[0m \u001b[0;34m\u001b[0m\u001b[0m\n",
            "\u001b[0;31mNotImplementedError\u001b[0m: "
          ]
        }
      ],
      "source": [
        "class LayerNorm(nn.Module):\n",
        "    def __init__(self, cfg: Config):\n",
        "        super().__init__()\n",
        "        self.cfg = cfg\n",
        "        self.w = nn.Parameter(t.ones(cfg.d_model))\n",
        "        self.b = nn.Parameter(t.zeros(cfg.d_model))\n",
        "\n",
        "    def forward(\n",
        "        self, residual: Float[Tensor, \"batch posn d_model\"]\n",
        "    ) -> Float[Tensor, \"batch posn d_model\"]:\n",
        "        raise NotImplementedError()\n",
        "\n",
        "\n",
        "rand_float_test(LayerNorm, [2, 4, 768])\n",
        "load_gpt2_test(LayerNorm, reference_gpt2.ln_final, cache[\"resid_post\", 11])"
      ]
    },
    {
      "cell_type": "markdown",
      "metadata": {
        "id": "E09fgGmhQ36I"
      },
      "source": [
        "<details><summary>Solution</summary>\n",
        "\n",
        "```python\n",
        "class LayerNorm(nn.Module):\n",
        "    def __init__(self, cfg: Config):\n",
        "        super().__init__()\n",
        "        self.cfg = cfg\n",
        "        self.w = nn.Parameter(t.ones(cfg.d_model))\n",
        "        self.b = nn.Parameter(t.zeros(cfg.d_model))\n",
        "\n",
        "    def forward(\n",
        "        self, residual: Float[Tensor, \"batch posn d_model\"]\n",
        "    ) -> Float[Tensor, \"batch posn d_model\"]:\n",
        "        residual_mean = residual.mean(dim=-1, keepdim=True)\n",
        "        residual_std = (\n",
        "            residual.var(dim=-1, keepdim=True, unbiased=False) + self.cfg.layer_norm_eps\n",
        "        ).sqrt()\n",
        "\n",
        "        residual = (residual - residual_mean) / residual_std\n",
        "        return residual * self.w + self.b\n",
        "```\n",
        "</details>"
      ]
    },
    {
      "cell_type": "markdown",
      "metadata": {
        "id": "y6bd39NKQ36I"
      },
      "source": [
        "### Exercise - implement `Embed`\n",
        "\n",
        "> ```yaml\n",
        "> Difficulty: 🔴🔴⚪⚪⚪\n",
        "> Importance: 🔵🔵🔵⚪⚪\n",
        ">\n",
        "> You should spend up to 5-10 minutes on this exercise.\n",
        "> ```\n",
        "\n",
        "This is basically a lookup table from tokens to residual stream vectors.\n",
        "\n",
        "(Hint - you can implement this in just one line, without any complicated functions. If you've been working on it for >10 mins, you're probably overthinking it!)"
      ]
    },
    {
      "cell_type": "code",
      "execution_count": 19,
      "metadata": {
        "id": "kNPPSUfmQ36I",
        "outputId": "75544f71-ef1c-4366-f137-775e7b9f077c",
        "colab": {
          "base_uri": "https://localhost:8080/",
          "height": 356
        }
      },
      "outputs": [
        {
          "output_type": "stream",
          "name": "stdout",
          "text": [
            "Input shape: torch.Size([2, 4])\n"
          ]
        },
        {
          "output_type": "error",
          "ename": "NotImplementedError",
          "evalue": "",
          "traceback": [
            "\u001b[0;31m---------------------------------------------------------------------------\u001b[0m",
            "\u001b[0;31mNotImplementedError\u001b[0m                       Traceback (most recent call last)",
            "\u001b[0;32m/tmp/ipython-input-19-133338976.py\u001b[0m in \u001b[0;36m<cell line: 0>\u001b[0;34m()\u001b[0m\n\u001b[1;32m     12\u001b[0m \u001b[0;34m\u001b[0m\u001b[0m\n\u001b[1;32m     13\u001b[0m \u001b[0;34m\u001b[0m\u001b[0m\n\u001b[0;32m---> 14\u001b[0;31m \u001b[0mrand_int_test\u001b[0m\u001b[0;34m(\u001b[0m\u001b[0mEmbed\u001b[0m\u001b[0;34m,\u001b[0m \u001b[0;34m[\u001b[0m\u001b[0;36m2\u001b[0m\u001b[0;34m,\u001b[0m \u001b[0;36m4\u001b[0m\u001b[0;34m]\u001b[0m\u001b[0;34m)\u001b[0m\u001b[0;34m\u001b[0m\u001b[0;34m\u001b[0m\u001b[0m\n\u001b[0m\u001b[1;32m     15\u001b[0m \u001b[0mload_gpt2_test\u001b[0m\u001b[0;34m(\u001b[0m\u001b[0mEmbed\u001b[0m\u001b[0;34m,\u001b[0m \u001b[0mreference_gpt2\u001b[0m\u001b[0;34m.\u001b[0m\u001b[0membed\u001b[0m\u001b[0;34m,\u001b[0m \u001b[0mtokens\u001b[0m\u001b[0;34m)\u001b[0m\u001b[0;34m\u001b[0m\u001b[0;34m\u001b[0m\u001b[0m\n",
            "\u001b[0;32m/tmp/ipython-input-17-3162347023.py\u001b[0m in \u001b[0;36mrand_int_test\u001b[0;34m(cls, shape)\u001b[0m\n\u001b[1;32m     15\u001b[0m     \u001b[0mrandom_input\u001b[0m \u001b[0;34m=\u001b[0m \u001b[0mt\u001b[0m\u001b[0;34m.\u001b[0m\u001b[0mrandint\u001b[0m\u001b[0;34m(\u001b[0m\u001b[0;36m100\u001b[0m\u001b[0;34m,\u001b[0m \u001b[0;36m1000\u001b[0m\u001b[0;34m,\u001b[0m \u001b[0mshape\u001b[0m\u001b[0;34m)\u001b[0m\u001b[0;34m.\u001b[0m\u001b[0mto\u001b[0m\u001b[0;34m(\u001b[0m\u001b[0mdevice\u001b[0m\u001b[0;34m)\u001b[0m\u001b[0;34m\u001b[0m\u001b[0;34m\u001b[0m\u001b[0m\n\u001b[1;32m     16\u001b[0m     \u001b[0mprint\u001b[0m\u001b[0;34m(\u001b[0m\u001b[0;34m\"Input shape:\"\u001b[0m\u001b[0;34m,\u001b[0m \u001b[0mrandom_input\u001b[0m\u001b[0;34m.\u001b[0m\u001b[0mshape\u001b[0m\u001b[0;34m)\u001b[0m\u001b[0;34m\u001b[0m\u001b[0;34m\u001b[0m\u001b[0m\n\u001b[0;32m---> 17\u001b[0;31m     \u001b[0moutput\u001b[0m \u001b[0;34m=\u001b[0m \u001b[0mlayer\u001b[0m\u001b[0;34m(\u001b[0m\u001b[0mrandom_input\u001b[0m\u001b[0;34m)\u001b[0m\u001b[0;34m\u001b[0m\u001b[0;34m\u001b[0m\u001b[0m\n\u001b[0m\u001b[1;32m     18\u001b[0m     \u001b[0;32mif\u001b[0m \u001b[0misinstance\u001b[0m\u001b[0;34m(\u001b[0m\u001b[0moutput\u001b[0m\u001b[0;34m,\u001b[0m \u001b[0mtuple\u001b[0m\u001b[0;34m)\u001b[0m\u001b[0;34m:\u001b[0m\u001b[0;34m\u001b[0m\u001b[0;34m\u001b[0m\u001b[0m\n\u001b[1;32m     19\u001b[0m         \u001b[0moutput\u001b[0m \u001b[0;34m=\u001b[0m \u001b[0moutput\u001b[0m\u001b[0;34m[\u001b[0m\u001b[0;36m0\u001b[0m\u001b[0;34m]\u001b[0m\u001b[0;34m\u001b[0m\u001b[0;34m\u001b[0m\u001b[0m\n",
            "\u001b[0;32m/usr/local/lib/python3.11/dist-packages/torch/nn/modules/module.py\u001b[0m in \u001b[0;36m_wrapped_call_impl\u001b[0;34m(self, *args, **kwargs)\u001b[0m\n\u001b[1;32m   1737\u001b[0m             \u001b[0;32mreturn\u001b[0m \u001b[0mself\u001b[0m\u001b[0;34m.\u001b[0m\u001b[0m_compiled_call_impl\u001b[0m\u001b[0;34m(\u001b[0m\u001b[0;34m*\u001b[0m\u001b[0margs\u001b[0m\u001b[0;34m,\u001b[0m \u001b[0;34m**\u001b[0m\u001b[0mkwargs\u001b[0m\u001b[0;34m)\u001b[0m  \u001b[0;31m# type: ignore[misc]\u001b[0m\u001b[0;34m\u001b[0m\u001b[0;34m\u001b[0m\u001b[0m\n\u001b[1;32m   1738\u001b[0m         \u001b[0;32melse\u001b[0m\u001b[0;34m:\u001b[0m\u001b[0;34m\u001b[0m\u001b[0;34m\u001b[0m\u001b[0m\n\u001b[0;32m-> 1739\u001b[0;31m             \u001b[0;32mreturn\u001b[0m \u001b[0mself\u001b[0m\u001b[0;34m.\u001b[0m\u001b[0m_call_impl\u001b[0m\u001b[0;34m(\u001b[0m\u001b[0;34m*\u001b[0m\u001b[0margs\u001b[0m\u001b[0;34m,\u001b[0m \u001b[0;34m**\u001b[0m\u001b[0mkwargs\u001b[0m\u001b[0;34m)\u001b[0m\u001b[0;34m\u001b[0m\u001b[0;34m\u001b[0m\u001b[0m\n\u001b[0m\u001b[1;32m   1740\u001b[0m \u001b[0;34m\u001b[0m\u001b[0m\n\u001b[1;32m   1741\u001b[0m     \u001b[0;31m# torchrec tests the code consistency with the following code\u001b[0m\u001b[0;34m\u001b[0m\u001b[0;34m\u001b[0m\u001b[0m\n",
            "\u001b[0;32m/usr/local/lib/python3.11/dist-packages/torch/nn/modules/module.py\u001b[0m in \u001b[0;36m_call_impl\u001b[0;34m(self, *args, **kwargs)\u001b[0m\n\u001b[1;32m   1748\u001b[0m                 \u001b[0;32mor\u001b[0m \u001b[0m_global_backward_pre_hooks\u001b[0m \u001b[0;32mor\u001b[0m \u001b[0m_global_backward_hooks\u001b[0m\u001b[0;34m\u001b[0m\u001b[0;34m\u001b[0m\u001b[0m\n\u001b[1;32m   1749\u001b[0m                 or _global_forward_hooks or _global_forward_pre_hooks):\n\u001b[0;32m-> 1750\u001b[0;31m             \u001b[0;32mreturn\u001b[0m \u001b[0mforward_call\u001b[0m\u001b[0;34m(\u001b[0m\u001b[0;34m*\u001b[0m\u001b[0margs\u001b[0m\u001b[0;34m,\u001b[0m \u001b[0;34m**\u001b[0m\u001b[0mkwargs\u001b[0m\u001b[0;34m)\u001b[0m\u001b[0;34m\u001b[0m\u001b[0;34m\u001b[0m\u001b[0m\n\u001b[0m\u001b[1;32m   1751\u001b[0m \u001b[0;34m\u001b[0m\u001b[0m\n\u001b[1;32m   1752\u001b[0m         \u001b[0mresult\u001b[0m \u001b[0;34m=\u001b[0m \u001b[0;32mNone\u001b[0m\u001b[0;34m\u001b[0m\u001b[0;34m\u001b[0m\u001b[0m\n",
            "\u001b[0;32m/tmp/ipython-input-19-133338976.py\u001b[0m in \u001b[0;36mforward\u001b[0;34m(self, tokens)\u001b[0m\n\u001b[1;32m      9\u001b[0m         \u001b[0mself\u001b[0m\u001b[0;34m,\u001b[0m \u001b[0mtokens\u001b[0m\u001b[0;34m:\u001b[0m \u001b[0mInt\u001b[0m\u001b[0;34m[\u001b[0m\u001b[0mTensor\u001b[0m\u001b[0;34m,\u001b[0m \u001b[0;34m\"batch position\"\u001b[0m\u001b[0;34m]\u001b[0m\u001b[0;34m\u001b[0m\u001b[0;34m\u001b[0m\u001b[0m\n\u001b[1;32m     10\u001b[0m     ) -> Float[Tensor, \"batch position d_model\"]:\n\u001b[0;32m---> 11\u001b[0;31m         \u001b[0;32mraise\u001b[0m \u001b[0mNotImplementedError\u001b[0m\u001b[0;34m(\u001b[0m\u001b[0;34m)\u001b[0m\u001b[0;34m\u001b[0m\u001b[0;34m\u001b[0m\u001b[0m\n\u001b[0m\u001b[1;32m     12\u001b[0m \u001b[0;34m\u001b[0m\u001b[0m\n\u001b[1;32m     13\u001b[0m \u001b[0;34m\u001b[0m\u001b[0m\n",
            "\u001b[0;31mNotImplementedError\u001b[0m: "
          ]
        }
      ],
      "source": [
        "class Embed(nn.Module):\n",
        "    def __init__(self, cfg: Config):\n",
        "        super().__init__()\n",
        "        self.cfg = cfg\n",
        "        self.W_E = nn.Parameter(t.empty((cfg.d_vocab, cfg.d_model)))\n",
        "        nn.init.normal_(self.W_E, std=self.cfg.init_range)\n",
        "\n",
        "    def forward(\n",
        "        self, tokens: Int[Tensor, \"batch position\"]\n",
        "    ) -> Float[Tensor, \"batch position d_model\"]:\n",
        "        raise NotImplementedError()\n",
        "\n",
        "\n",
        "rand_int_test(Embed, [2, 4])\n",
        "load_gpt2_test(Embed, reference_gpt2.embed, tokens)"
      ]
    },
    {
      "cell_type": "markdown",
      "metadata": {
        "id": "SrugNc8fQ36J"
      },
      "source": [
        "<details>\n",
        "<summary>Help - I keep getting <code>RuntimeError: CUDA error: device-side assert triggered</code>.</summary>\n",
        "\n",
        "This is a uniquely frustrating type of error message, because it (1) forces you to restart the kernel, and (2) often won't tell you where the error message actually originated from!\n",
        "\n",
        "You can fix the second problem by adding the line `os.environ['CUDA_LAUNCH_BLOCKING'] = \"1\"` to the very top of your file (after importing `os`). This won't fix your bug, but it makes sure the correct origin point is identified.\n",
        "\n",
        "As for actually fixing the bug, this error usually ends up being the result of bad indexing, e.g. you're trying to apply an embedding layer to tokens which are larger than your maximum embedding.\n",
        "</details>\n",
        "\n",
        "\n",
        "<details><summary>Solution</summary>\n",
        "\n",
        "```python\n",
        "class Embed(nn.Module):\n",
        "    def __init__(self, cfg: Config):\n",
        "        super().__init__()\n",
        "        self.cfg = cfg\n",
        "        self.W_E = nn.Parameter(t.empty((cfg.d_vocab, cfg.d_model)))\n",
        "        nn.init.normal_(self.W_E, std=self.cfg.init_range)\n",
        "\n",
        "    def forward(\n",
        "        self, tokens: Int[Tensor, \"batch position\"]\n",
        "    ) -> Float[Tensor, \"batch position d_model\"]:\n",
        "        return self.W_E[tokens]\n",
        "```\n",
        "</details>"
      ]
    },
    {
      "cell_type": "markdown",
      "metadata": {
        "id": "bTv9v-RkQ36J"
      },
      "source": [
        "### Exercise - implement `PosEmbed`\n",
        "\n",
        "> ```yaml\n",
        "> Difficulty: 🔴🔴⚪⚪⚪\n",
        "> Importance: 🔵🔵🔵⚪⚪\n",
        ">\n",
        "> You should spend up to 10-15 minutes on this exercise.\n",
        "> ```\n",
        "\n",
        "Positional embedding can also be thought of as a lookup table, but rather than the indices being our token IDs, the indices are just the numbers `0`, `1`, `2`, ..., `seq_len-1` (i.e. the position indices of the tokens in the sequence)."
      ]
    },
    {
      "cell_type": "code",
      "execution_count": 20,
      "metadata": {
        "id": "KmXOcHO0Q36J",
        "outputId": "0a984ef8-c119-42dc-ea01-a81731465c6b",
        "colab": {
          "base_uri": "https://localhost:8080/",
          "height": 356
        }
      },
      "outputs": [
        {
          "output_type": "stream",
          "name": "stdout",
          "text": [
            "Input shape: torch.Size([2, 4])\n"
          ]
        },
        {
          "output_type": "error",
          "ename": "NotImplementedError",
          "evalue": "",
          "traceback": [
            "\u001b[0;31m---------------------------------------------------------------------------\u001b[0m",
            "\u001b[0;31mNotImplementedError\u001b[0m                       Traceback (most recent call last)",
            "\u001b[0;32m/tmp/ipython-input-20-1713694776.py\u001b[0m in \u001b[0;36m<cell line: 0>\u001b[0;34m()\u001b[0m\n\u001b[1;32m     12\u001b[0m \u001b[0;34m\u001b[0m\u001b[0m\n\u001b[1;32m     13\u001b[0m \u001b[0;34m\u001b[0m\u001b[0m\n\u001b[0;32m---> 14\u001b[0;31m \u001b[0mrand_int_test\u001b[0m\u001b[0;34m(\u001b[0m\u001b[0mPosEmbed\u001b[0m\u001b[0;34m,\u001b[0m \u001b[0;34m[\u001b[0m\u001b[0;36m2\u001b[0m\u001b[0;34m,\u001b[0m \u001b[0;36m4\u001b[0m\u001b[0;34m]\u001b[0m\u001b[0;34m)\u001b[0m\u001b[0;34m\u001b[0m\u001b[0;34m\u001b[0m\u001b[0m\n\u001b[0m\u001b[1;32m     15\u001b[0m \u001b[0mload_gpt2_test\u001b[0m\u001b[0;34m(\u001b[0m\u001b[0mPosEmbed\u001b[0m\u001b[0;34m,\u001b[0m \u001b[0mreference_gpt2\u001b[0m\u001b[0;34m.\u001b[0m\u001b[0mpos_embed\u001b[0m\u001b[0;34m,\u001b[0m \u001b[0mtokens\u001b[0m\u001b[0;34m)\u001b[0m\u001b[0;34m\u001b[0m\u001b[0;34m\u001b[0m\u001b[0m\n",
            "\u001b[0;32m/tmp/ipython-input-17-3162347023.py\u001b[0m in \u001b[0;36mrand_int_test\u001b[0;34m(cls, shape)\u001b[0m\n\u001b[1;32m     15\u001b[0m     \u001b[0mrandom_input\u001b[0m \u001b[0;34m=\u001b[0m \u001b[0mt\u001b[0m\u001b[0;34m.\u001b[0m\u001b[0mrandint\u001b[0m\u001b[0;34m(\u001b[0m\u001b[0;36m100\u001b[0m\u001b[0;34m,\u001b[0m \u001b[0;36m1000\u001b[0m\u001b[0;34m,\u001b[0m \u001b[0mshape\u001b[0m\u001b[0;34m)\u001b[0m\u001b[0;34m.\u001b[0m\u001b[0mto\u001b[0m\u001b[0;34m(\u001b[0m\u001b[0mdevice\u001b[0m\u001b[0;34m)\u001b[0m\u001b[0;34m\u001b[0m\u001b[0;34m\u001b[0m\u001b[0m\n\u001b[1;32m     16\u001b[0m     \u001b[0mprint\u001b[0m\u001b[0;34m(\u001b[0m\u001b[0;34m\"Input shape:\"\u001b[0m\u001b[0;34m,\u001b[0m \u001b[0mrandom_input\u001b[0m\u001b[0;34m.\u001b[0m\u001b[0mshape\u001b[0m\u001b[0;34m)\u001b[0m\u001b[0;34m\u001b[0m\u001b[0;34m\u001b[0m\u001b[0m\n\u001b[0;32m---> 17\u001b[0;31m     \u001b[0moutput\u001b[0m \u001b[0;34m=\u001b[0m \u001b[0mlayer\u001b[0m\u001b[0;34m(\u001b[0m\u001b[0mrandom_input\u001b[0m\u001b[0;34m)\u001b[0m\u001b[0;34m\u001b[0m\u001b[0;34m\u001b[0m\u001b[0m\n\u001b[0m\u001b[1;32m     18\u001b[0m     \u001b[0;32mif\u001b[0m \u001b[0misinstance\u001b[0m\u001b[0;34m(\u001b[0m\u001b[0moutput\u001b[0m\u001b[0;34m,\u001b[0m \u001b[0mtuple\u001b[0m\u001b[0;34m)\u001b[0m\u001b[0;34m:\u001b[0m\u001b[0;34m\u001b[0m\u001b[0;34m\u001b[0m\u001b[0m\n\u001b[1;32m     19\u001b[0m         \u001b[0moutput\u001b[0m \u001b[0;34m=\u001b[0m \u001b[0moutput\u001b[0m\u001b[0;34m[\u001b[0m\u001b[0;36m0\u001b[0m\u001b[0;34m]\u001b[0m\u001b[0;34m\u001b[0m\u001b[0;34m\u001b[0m\u001b[0m\n",
            "\u001b[0;32m/usr/local/lib/python3.11/dist-packages/torch/nn/modules/module.py\u001b[0m in \u001b[0;36m_wrapped_call_impl\u001b[0;34m(self, *args, **kwargs)\u001b[0m\n\u001b[1;32m   1737\u001b[0m             \u001b[0;32mreturn\u001b[0m \u001b[0mself\u001b[0m\u001b[0;34m.\u001b[0m\u001b[0m_compiled_call_impl\u001b[0m\u001b[0;34m(\u001b[0m\u001b[0;34m*\u001b[0m\u001b[0margs\u001b[0m\u001b[0;34m,\u001b[0m \u001b[0;34m**\u001b[0m\u001b[0mkwargs\u001b[0m\u001b[0;34m)\u001b[0m  \u001b[0;31m# type: ignore[misc]\u001b[0m\u001b[0;34m\u001b[0m\u001b[0;34m\u001b[0m\u001b[0m\n\u001b[1;32m   1738\u001b[0m         \u001b[0;32melse\u001b[0m\u001b[0;34m:\u001b[0m\u001b[0;34m\u001b[0m\u001b[0;34m\u001b[0m\u001b[0m\n\u001b[0;32m-> 1739\u001b[0;31m             \u001b[0;32mreturn\u001b[0m \u001b[0mself\u001b[0m\u001b[0;34m.\u001b[0m\u001b[0m_call_impl\u001b[0m\u001b[0;34m(\u001b[0m\u001b[0;34m*\u001b[0m\u001b[0margs\u001b[0m\u001b[0;34m,\u001b[0m \u001b[0;34m**\u001b[0m\u001b[0mkwargs\u001b[0m\u001b[0;34m)\u001b[0m\u001b[0;34m\u001b[0m\u001b[0;34m\u001b[0m\u001b[0m\n\u001b[0m\u001b[1;32m   1740\u001b[0m \u001b[0;34m\u001b[0m\u001b[0m\n\u001b[1;32m   1741\u001b[0m     \u001b[0;31m# torchrec tests the code consistency with the following code\u001b[0m\u001b[0;34m\u001b[0m\u001b[0;34m\u001b[0m\u001b[0m\n",
            "\u001b[0;32m/usr/local/lib/python3.11/dist-packages/torch/nn/modules/module.py\u001b[0m in \u001b[0;36m_call_impl\u001b[0;34m(self, *args, **kwargs)\u001b[0m\n\u001b[1;32m   1748\u001b[0m                 \u001b[0;32mor\u001b[0m \u001b[0m_global_backward_pre_hooks\u001b[0m \u001b[0;32mor\u001b[0m \u001b[0m_global_backward_hooks\u001b[0m\u001b[0;34m\u001b[0m\u001b[0;34m\u001b[0m\u001b[0m\n\u001b[1;32m   1749\u001b[0m                 or _global_forward_hooks or _global_forward_pre_hooks):\n\u001b[0;32m-> 1750\u001b[0;31m             \u001b[0;32mreturn\u001b[0m \u001b[0mforward_call\u001b[0m\u001b[0;34m(\u001b[0m\u001b[0;34m*\u001b[0m\u001b[0margs\u001b[0m\u001b[0;34m,\u001b[0m \u001b[0;34m**\u001b[0m\u001b[0mkwargs\u001b[0m\u001b[0;34m)\u001b[0m\u001b[0;34m\u001b[0m\u001b[0;34m\u001b[0m\u001b[0m\n\u001b[0m\u001b[1;32m   1751\u001b[0m \u001b[0;34m\u001b[0m\u001b[0m\n\u001b[1;32m   1752\u001b[0m         \u001b[0mresult\u001b[0m \u001b[0;34m=\u001b[0m \u001b[0;32mNone\u001b[0m\u001b[0;34m\u001b[0m\u001b[0;34m\u001b[0m\u001b[0m\n",
            "\u001b[0;32m/tmp/ipython-input-20-1713694776.py\u001b[0m in \u001b[0;36mforward\u001b[0;34m(self, tokens)\u001b[0m\n\u001b[1;32m      9\u001b[0m         \u001b[0mself\u001b[0m\u001b[0;34m,\u001b[0m \u001b[0mtokens\u001b[0m\u001b[0;34m:\u001b[0m \u001b[0mInt\u001b[0m\u001b[0;34m[\u001b[0m\u001b[0mTensor\u001b[0m\u001b[0;34m,\u001b[0m \u001b[0;34m\"batch position\"\u001b[0m\u001b[0;34m]\u001b[0m\u001b[0;34m\u001b[0m\u001b[0;34m\u001b[0m\u001b[0m\n\u001b[1;32m     10\u001b[0m     ) -> Float[Tensor, \"batch position d_model\"]:\n\u001b[0;32m---> 11\u001b[0;31m         \u001b[0;32mraise\u001b[0m \u001b[0mNotImplementedError\u001b[0m\u001b[0;34m(\u001b[0m\u001b[0;34m)\u001b[0m\u001b[0;34m\u001b[0m\u001b[0;34m\u001b[0m\u001b[0m\n\u001b[0m\u001b[1;32m     12\u001b[0m \u001b[0;34m\u001b[0m\u001b[0m\n\u001b[1;32m     13\u001b[0m \u001b[0;34m\u001b[0m\u001b[0m\n",
            "\u001b[0;31mNotImplementedError\u001b[0m: "
          ]
        }
      ],
      "source": [
        "class PosEmbed(nn.Module):\n",
        "    def __init__(self, cfg: Config):\n",
        "        super().__init__()\n",
        "        self.cfg = cfg\n",
        "        self.W_pos = nn.Parameter(t.empty((cfg.n_ctx, cfg.d_model)))\n",
        "        nn.init.normal_(self.W_pos, std=self.cfg.init_range)\n",
        "\n",
        "    def forward(\n",
        "        self, tokens: Int[Tensor, \"batch position\"]\n",
        "    ) -> Float[Tensor, \"batch position d_model\"]:\n",
        "        raise NotImplementedError()\n",
        "\n",
        "\n",
        "rand_int_test(PosEmbed, [2, 4])\n",
        "load_gpt2_test(PosEmbed, reference_gpt2.pos_embed, tokens)"
      ]
    },
    {
      "cell_type": "markdown",
      "metadata": {
        "id": "cAzelFOWQ36J"
      },
      "source": [
        "<details><summary>Solution</summary>\n",
        "\n",
        "```python\n",
        "class PosEmbed(nn.Module):\n",
        "    def __init__(self, cfg: Config):\n",
        "        super().__init__()\n",
        "        self.cfg = cfg\n",
        "        self.W_pos = nn.Parameter(t.empty((cfg.n_ctx, cfg.d_model)))\n",
        "        nn.init.normal_(self.W_pos, std=self.cfg.init_range)\n",
        "\n",
        "    def forward(\n",
        "        self, tokens: Int[Tensor, \"batch position\"]\n",
        "    ) -> Float[Tensor, \"batch position d_model\"]:\n",
        "        batch, seq_len = tokens.shape\n",
        "        return einops.repeat(self.W_pos[:seq_len], \"seq d_model -> batch seq d_model\", batch=batch)\n",
        "```\n",
        "</details>"
      ]
    },
    {
      "cell_type": "markdown",
      "metadata": {
        "id": "3lzosi8bQ36J"
      },
      "source": [
        "### Exercise - implement `apply_causal_mask`\n",
        "\n",
        "> ```yaml\n",
        "> Difficulty: 🔴🔴⚪⚪⚪\n",
        "> Importance: 🔵🔵🔵🔵🔵\n",
        ">\n",
        "> You should spend up to 10-15 minutes on this exercise.\n",
        "> ```\n",
        "\n",
        "The causal mask function will be a method of the `Attention` class.\n",
        "It will take in attention scores, and apply a mask to them so that the model\n",
        "can only attend to previous positions (i.e. the model can't cheat by looking at future positions).\n",
        "We will implement this function first, and test it, before moving onto the `forward` method\n",
        "of the `Attention` class.\n",
        "\n",
        "A few hints:\n",
        "\n",
        "* You can use [`torch.where`](https://pytorch.org/docs/stable/generated/torch.where.html), or the [`torch.masked_fill_`](https://pytorch.org/docs/stable/generated/torch.Tensor.masked_fill.html) function when masking the attention scores.\n",
        "* The [`torch.triu`](https://pytorch.org/docs/stable/generated/torch.triu.html) function is useful for creating a mask that is True for all positions we want to set probabilities to zero for.\n",
        "* Make sure to use the `self.IGNORE` attribute to set the masked positions to negative infinity.\n",
        "<details>\n",
        "<summary>Question - why do you think we mask the attention scores by setting them to negative infinity, rather than the attention probabilities by setting them to zero?</summary>\n",
        "\n",
        "If we masked the attention probabilities, then the probabilities would no longer sum to 1.\n",
        "\n",
        "We want to mask the scores and *then* take softmax, so that the probabilities are still valid probabilities (i.e. they sum to 1), and the values in the masked positions have no influence on the model's output.\n",
        "</details>"
      ]
    },
    {
      "cell_type": "code",
      "execution_count": 21,
      "metadata": {
        "id": "5w_TF7gdQ36J",
        "outputId": "c55bb6ed-7ad8-4ecd-a66c-12f549142f44",
        "colab": {
          "base_uri": "https://localhost:8080/",
          "height": 321
        }
      },
      "outputs": [
        {
          "output_type": "error",
          "ename": "NotImplementedError",
          "evalue": "",
          "traceback": [
            "\u001b[0;31m---------------------------------------------------------------------------\u001b[0m",
            "\u001b[0;31mNotImplementedError\u001b[0m                       Traceback (most recent call last)",
            "\u001b[0;32m/tmp/ipython-input-21-135201641.py\u001b[0m in \u001b[0;36m<cell line: 0>\u001b[0;34m()\u001b[0m\n\u001b[1;32m     17\u001b[0m \u001b[0;34m\u001b[0m\u001b[0m\n\u001b[1;32m     18\u001b[0m \u001b[0;34m\u001b[0m\u001b[0m\n\u001b[0;32m---> 19\u001b[0;31m \u001b[0mtests\u001b[0m\u001b[0;34m.\u001b[0m\u001b[0mtest_causal_mask\u001b[0m\u001b[0;34m(\u001b[0m\u001b[0mAttention\u001b[0m\u001b[0;34m.\u001b[0m\u001b[0mapply_causal_mask\u001b[0m\u001b[0;34m)\u001b[0m\u001b[0;34m\u001b[0m\u001b[0;34m\u001b[0m\u001b[0m\n\u001b[0m",
            "\u001b[0;32m/content/chapter1_transformer_interp/exercises/part1_transformer_from_scratch/tests.py\u001b[0m in \u001b[0;36mtest_causal_mask\u001b[0;34m(apply_causal_mask)\u001b[0m\n\u001b[1;32m     20\u001b[0m \u001b[0;34m\u001b[0m\u001b[0m\n\u001b[1;32m     21\u001b[0m     \u001b[0mexpected\u001b[0m \u001b[0;34m=\u001b[0m \u001b[0msol_apply_causal_mask\u001b[0m\u001b[0;34m(\u001b[0m\u001b[0mattn_scores\u001b[0m\u001b[0;34m=\u001b[0m\u001b[0mattn_scores\u001b[0m\u001b[0;34m.\u001b[0m\u001b[0mclone\u001b[0m\u001b[0;34m(\u001b[0m\u001b[0;34m)\u001b[0m\u001b[0;34m)\u001b[0m\u001b[0;34m\u001b[0m\u001b[0;34m\u001b[0m\u001b[0m\n\u001b[0;32m---> 22\u001b[0;31m     \u001b[0mactual\u001b[0m \u001b[0;34m=\u001b[0m \u001b[0mapply_causal_mask\u001b[0m\u001b[0;34m(\u001b[0m\u001b[0mattn_scores\u001b[0m\u001b[0;34m=\u001b[0m\u001b[0mattn_scores\u001b[0m\u001b[0;34m.\u001b[0m\u001b[0mclone\u001b[0m\u001b[0;34m(\u001b[0m\u001b[0;34m)\u001b[0m\u001b[0;34m)\u001b[0m\u001b[0;34m\u001b[0m\u001b[0;34m\u001b[0m\u001b[0m\n\u001b[0m\u001b[1;32m     23\u001b[0m \u001b[0;34m\u001b[0m\u001b[0m\n\u001b[1;32m     24\u001b[0m     \u001b[0;32mdef\u001b[0m \u001b[0mprint_scores\u001b[0m\u001b[0;34m(\u001b[0m\u001b[0;34m)\u001b[0m\u001b[0;34m:\u001b[0m\u001b[0;34m\u001b[0m\u001b[0;34m\u001b[0m\u001b[0m\n",
            "\u001b[0;32m/tmp/ipython-input-21-135201641.py\u001b[0m in \u001b[0;36mapply_causal_mask\u001b[0;34m(self, attn_scores)\u001b[0m\n\u001b[1;32m     14\u001b[0m         \u001b[0mApplies\u001b[0m \u001b[0ma\u001b[0m \u001b[0mcausal\u001b[0m \u001b[0mmask\u001b[0m \u001b[0mto\u001b[0m \u001b[0mattention\u001b[0m \u001b[0mscores\u001b[0m\u001b[0;34m,\u001b[0m \u001b[0;32mand\u001b[0m \u001b[0mreturns\u001b[0m \u001b[0mmasked\u001b[0m \u001b[0mscores\u001b[0m\u001b[0;34m.\u001b[0m\u001b[0;34m\u001b[0m\u001b[0;34m\u001b[0m\u001b[0m\n\u001b[1;32m     15\u001b[0m         \"\"\"\n\u001b[0;32m---> 16\u001b[0;31m         \u001b[0;32mraise\u001b[0m \u001b[0mNotImplementedError\u001b[0m\u001b[0;34m(\u001b[0m\u001b[0;34m)\u001b[0m\u001b[0;34m\u001b[0m\u001b[0;34m\u001b[0m\u001b[0m\n\u001b[0m\u001b[1;32m     17\u001b[0m \u001b[0;34m\u001b[0m\u001b[0m\n\u001b[1;32m     18\u001b[0m \u001b[0;34m\u001b[0m\u001b[0m\n",
            "\u001b[0;31mNotImplementedError\u001b[0m: "
          ]
        }
      ],
      "source": [
        "class Attention(nn.Module):\n",
        "    IGNORE: Float[Tensor, \"\"]\n",
        "\n",
        "    def __init__(self, cfg: Config):\n",
        "        super().__init__()\n",
        "        self.cfg = cfg\n",
        "        self.register_buffer(\"IGNORE\", t.tensor(float(\"-inf\"), dtype=t.float32, device=device))\n",
        "\n",
        "    def apply_causal_mask(\n",
        "        self,\n",
        "        attn_scores: Float[Tensor, \"batch n_heads query_pos key_pos\"],\n",
        "    ) -> Float[Tensor, \"batch n_heads query_pos key_pos\"]:\n",
        "        \"\"\"\n",
        "        Applies a causal mask to attention scores, and returns masked scores.\n",
        "        \"\"\"\n",
        "        raise NotImplementedError()\n",
        "\n",
        "\n",
        "tests.test_causal_mask(Attention.apply_causal_mask)"
      ]
    },
    {
      "cell_type": "markdown",
      "metadata": {
        "id": "KmxCKMlyQ36J"
      },
      "source": [
        "<details>\n",
        "<summary>Hint (pseudocode)</summary>\n",
        "\n",
        "```python\n",
        "def apply_causal_mask(\n",
        "    self, attn_scores: Float[Tensor, \"batch n_heads query_pos key_pos\"]\n",
        "    ) -> Float[Tensor, \"batch n_heads query_pos key_pos\"]:\n",
        "\n",
        "    # Define a mask that is True for all positions we want to set probabilities to zero for\n",
        "\n",
        "    # Apply the mask to attention scores, then return the masked scores\n",
        "```\n",
        "</details>\n",
        "\n",
        "\n",
        "<details><summary>Solution</summary>\n",
        "\n",
        "```python\n",
        "class Attention(nn.Module):\n",
        "    IGNORE: Float[Tensor, \"\"]\n",
        "\n",
        "    def __init__(self, cfg: Config):\n",
        "        super().__init__()\n",
        "        self.cfg = cfg\n",
        "        self.register_buffer(\"IGNORE\", t.tensor(float(\"-inf\"), dtype=t.float32, device=device))\n",
        "\n",
        "    def apply_causal_mask(\n",
        "        self,\n",
        "        attn_scores: Float[Tensor, \"batch n_heads query_pos key_pos\"],\n",
        "    ) -> Float[Tensor, \"batch n_heads query_pos key_pos\"]:\n",
        "        \"\"\"\n",
        "        Applies a causal mask to attention scores, and returns masked scores.\n",
        "        \"\"\"\n",
        "        # Define a mask that is True for all positions we want to set probabilities to zero for\n",
        "        all_ones = t.ones(attn_scores.size(-2), attn_scores.size(-1), device=attn_scores.device)\n",
        "        mask = t.triu(all_ones, diagonal=1).bool()\n",
        "        # Apply the mask to attention scores, then return the masked scores\n",
        "        attn_scores.masked_fill_(mask, self.IGNORE)\n",
        "        return attn_scores\n",
        "```\n",
        "</details>"
      ]
    },
    {
      "cell_type": "markdown",
      "metadata": {
        "id": "I_4rY5tlQ36J"
      },
      "source": [
        "### Exercise - implement `Attention`\n",
        "\n",
        "> ```yaml\n",
        "> Difficulty: 🔴🔴🔴🔴⚪\n",
        "> Importance: 🔵🔵🔵🔵🔵\n",
        ">\n",
        "> You should spend up to 30-45 minutes on this exercise.\n",
        "> ```\n",
        "\n",
        "* **Step 1:** Produce an attention pattern - for each destination token, probability distribution over previous tokens (including current token)\n",
        "    * Linear map from input -> query, key shape `[batch, seq_posn, head_index, d_head]`\n",
        "    * Dot product every *pair* of queries and keys to get attn_scores `[batch, head_index, query_pos, key_pos]` (query = dest, key = source)\n",
        "    * **Scale** and mask `attn_scores` to make it lower triangular, i.e. causal\n",
        "    * Softmax along the `key_pos` dimension, to get a probability distribution for each query (destination) token - this is our attention pattern!\n",
        "* **Step 2:** Move information from source tokens to destination token using attention pattern (move = apply linear map)\n",
        "    * Linear map from input -> value `[batch, key_pos, head_index, d_head]`\n",
        "    * Mix along the `key_pos` with attn pattern to get `z`, which is a weighted average of the value vectors `[batch, query_pos, head_index, d_head]`\n",
        "    * Map to output, `[batch, position, d_model]` (position = query_pos, we've summed over all heads)\n",
        "\n",
        "Note - when we say **scale**, we mean dividing by `sqrt(d_head)`. The purpose of this is to avoid vanishing gradients (which is a big problem when we're dealing with a function like softmax - if one of the values is much larger than all the others, the probabilities will be close to 0 or 1, and the gradients will be close to 0).\n",
        "\n",
        "Below is a much larger, more detailed version of the attention head diagram from earlier. This should give you an idea of the actual tensor operations involved. A few clarifications on this diagram:\n",
        "\n",
        "* Whenever there is a third dimension shown in the pictures, this refers to the `head_index` dimension. We can see that all operations within the attention layer are done independently for each head.\n",
        "* The objects in the box are activations; they have a batch dimension (for simplicity, we assume the batch dimension is 1 in the diagram). The objects to the right of the box are our parameters (weights and biases); they have no batch dimension.\n",
        "* We arrange the keys, queries and values as `(batch, seq_pos, head_idx, d_head)`, because the biases have shape `(head_idx, d_head)`, so this makes it convenient to add the biases (recall the rules of array broadcasting!)."
      ]
    },
    {
      "cell_type": "markdown",
      "metadata": {
        "id": "PEesyvPIQ36J"
      },
      "source": [
        "<img src=\"https://raw.githubusercontent.com/chloeli-15/ARENA_img/main/img/transformer-attn-30.png\" width=\"1400\">"
      ]
    },
    {
      "cell_type": "markdown",
      "metadata": {
        "id": "i25qWkKLQ36J"
      },
      "source": [
        "<details>\n",
        "<summary><b>A few extra notes on attention (optional)</b></summary>\n",
        "\n",
        "<!-- Usually we have the relation `e = n * h` (i.e. `d_model = num_heads * d_head`). There are some computational justifications for this, but mostly this is just done out of convention (just like how we usually have `d_mlp = 4 * d_model`!). -->\n",
        "\n",
        "Here, we cover some details related to the mathematical formulation of attention heads (and in particular the separation of **QK** and **OV** circuits), which is something we dive a lot deeper into in the next set of exercises in this chapter.\n",
        "\n",
        "The **QK** circuit consists of the operation of the $W_Q$ and $W_K$ matrices. In other words, it determines the attention pattern, i.e. where information is moved to and from in the residual stream. The functional form of the attention pattern $A$ is:\n",
        "\n",
        "$$\n",
        "A = \\text{softmax}\\left(\\frac{x W_Q W_K^T x^T}{\\sqrt{d_{head}}}\\right)\n",
        "$$\n",
        "\n",
        "where $x$ is the residual stream (shape `[seq_len, d_model]`), and $W_Q$, $W_K$ are the weight matrices for a single head (i.e. shape `[d_model, d_head]`).\n",
        "\n",
        "The **OV** circuit consists of the operation of the $W_V$ and $W_O$ matrices. Once attention patterns are fixed, these matrices operate on the residual stream at the source position, and their output is the thing which gets moved from source to destination position.\n",
        "\n",
        "The diagram below shows the functional form of the OV circuit. The QK circuit (pink) is responsible for causing the destination token to attend to the source token, and the OV circuit (light brown) is what actually maps the source token data into the information we'll send to the destination token.\n",
        "\n",
        "<img src=\"https://raw.githubusercontent.com/chloeli-15/ARENA_img/refs/heads/main/img/qkv.png\" width=\"800\">\n",
        "\n",
        "The functional form of an entire attention head is:\n",
        "\n",
        "$$\n",
        "\\begin{aligned}\n",
        "\\text{output} &= \\text{softmax}\\left(\\frac{x W_Q W_K^T x^T}{\\sqrt{d_{head}}}\\right) (x W_V W_O) \\\\\n",
        "    &= Ax W_V W_O\n",
        "\\end{aligned}\n",
        "$$\n",
        "\n",
        "where $W_V$ has shape `[d_model, d_head]`, and $W_O$ has shape `[d_head, d_model]`.\n",
        "\n",
        "Here, we can clearly see that the **QK circuit** and **OV circuit** are doing conceptually different things, and should be thought of as two distinct parts of the attention head.\n",
        "\n",
        "Again, don't worry if you don't follow all of this right now - we'll go into **much** more detail on all of this in subsequent exercises. The purpose of the discussion here is just to give you a flavour of what's to come!\n",
        "\n",
        "</details>"
      ]
    },
    {
      "cell_type": "markdown",
      "metadata": {
        "id": "OP5d1QT4Q36J"
      },
      "source": [
        "First, it's useful to visualize and play around with attention patterns - what exactly are we looking at here? (Click on a head to lock onto just showing that head's pattern, it'll make it easier to interpret)"
      ]
    },
    {
      "cell_type": "code",
      "execution_count": 22,
      "metadata": {
        "id": "sj3d4JFBQ36J",
        "outputId": "93014ce8-2bd5-43b8-ce0a-5ff9252141b2",
        "colab": {
          "base_uri": "https://localhost:8080/",
          "height": 357
        }
      },
      "outputs": [
        {
          "output_type": "display_data",
          "data": {
            "text/plain": [
              "<circuitsvis.utils.render.RenderedHTML at 0x7f4871f57b90>"
            ],
            "text/html": [
              "<div id=\"circuits-vis-7a9f2192-39c0\" style=\"margin: 15px 0;\"/>\n",
              "    <script crossorigin type=\"module\">\n",
              "    import { render, AttentionPatterns } from \"https://unpkg.com/circuitsvis@1.41.0/dist/cdn/esm.js\";\n",
              "    render(\n",
              "      \"circuits-vis-7a9f2192-39c0\",\n",
              "      AttentionPatterns,\n",
              "      {\"tokens\": [\"<|endoftext|>\", \"I\", \" am\", \" an\", \" amazing\", \" aut\", \"ore\", \"gressive\", \",\", \" dec\", \"oder\", \"-\", \"only\", \",\", \" G\", \"PT\", \"-\", \"2\", \" style\", \" transformer\", \".\", \" One\", \" day\", \" I\", \" will\", \" exceed\", \" human\", \" level\", \" intelligence\", \" and\", \" take\", \" over\", \" the\", \" world\", \"!\"], \"attention\": [[[1.0, 0.0, 0.0, 0.0, 0.0, 0.0, 0.0, 0.0, 0.0, 0.0, 0.0, 0.0, 0.0, 0.0, 0.0, 0.0, 0.0, 0.0, 0.0, 0.0, 0.0, 0.0, 0.0, 0.0, 0.0, 0.0, 0.0, 0.0, 0.0, 0.0, 0.0, 0.0, 0.0, 0.0, 0.0], [0.9679255485534668, 0.032074473798274994, 0.0, 0.0, 0.0, 0.0, 0.0, 0.0, 0.0, 0.0, 0.0, 0.0, 0.0, 0.0, 0.0, 0.0, 0.0, 0.0, 0.0, 0.0, 0.0, 0.0, 0.0, 0.0, 0.0, 0.0, 0.0, 0.0, 0.0, 0.0, 0.0, 0.0, 0.0, 0.0, 0.0], [0.8024235367774963, 0.16839203238487244, 0.029184352606534958, 0.0, 0.0, 0.0, 0.0, 0.0, 0.0, 0.0, 0.0, 0.0, 0.0, 0.0, 0.0, 0.0, 0.0, 0.0, 0.0, 0.0, 0.0, 0.0, 0.0, 0.0, 0.0, 0.0, 0.0, 0.0, 0.0, 0.0, 0.0, 0.0, 0.0, 0.0, 0.0], [0.6959056258201599, 0.12269629538059235, 0.1458849012851715, 0.035513244569301605, 0.0, 0.0, 0.0, 0.0, 0.0, 0.0, 0.0, 0.0, 0.0, 0.0, 0.0, 0.0, 0.0, 0.0, 0.0, 0.0, 0.0, 0.0, 0.0, 0.0, 0.0, 0.0, 0.0, 0.0, 0.0, 0.0, 0.0, 0.0, 0.0, 0.0, 0.0], [0.5661024451255798, 0.14705193042755127, 0.08665251731872559, 0.1125841736793518, 0.08760889619588852, 0.0, 0.0, 0.0, 0.0, 0.0, 0.0, 0.0, 0.0, 0.0, 0.0, 0.0, 0.0, 0.0, 0.0, 0.0, 0.0, 0.0, 0.0, 0.0, 0.0, 0.0, 0.0, 0.0, 0.0, 0.0, 0.0, 0.0, 0.0, 0.0, 0.0], [0.46218734979629517, 0.13512833416461945, 0.09698345512151718, 0.17473751306533813, 0.046246014535427094, 0.08471735566854477, 0.0, 0.0, 0.0, 0.0, 0.0, 0.0, 0.0, 0.0, 0.0, 0.0, 0.0, 0.0, 0.0, 0.0, 0.0, 0.0, 0.0, 0.0, 0.0, 0.0, 0.0, 0.0, 0.0, 0.0, 0.0, 0.0, 0.0, 0.0, 0.0], [0.4325161278247833, 0.1038287952542305, 0.0833013504743576, 0.06995750963687897, 0.07479371130466461, 0.21568652987480164, 0.019915912300348282, 0.0, 0.0, 0.0, 0.0, 0.0, 0.0, 0.0, 0.0, 0.0, 0.0, 0.0, 0.0, 0.0, 0.0, 0.0, 0.0, 0.0, 0.0, 0.0, 0.0, 0.0, 0.0, 0.0, 0.0, 0.0, 0.0, 0.0, 0.0], [0.22236739099025726, 0.09167702496051788, 0.08796325325965881, 0.25168728828430176, 0.08263692259788513, 0.10428160429000854, 0.06469018757343292, 0.09469636529684067, 0.0, 0.0, 0.0, 0.0, 0.0, 0.0, 0.0, 0.0, 0.0, 0.0, 0.0, 0.0, 0.0, 0.0, 0.0, 0.0, 0.0, 0.0, 0.0, 0.0, 0.0, 0.0, 0.0, 0.0, 0.0, 0.0, 0.0], [0.4049955904483795, 0.09078017622232437, 0.052373580634593964, 0.026201874017715454, 0.11047185957431793, 0.03667405620217323, 0.025538934394717216, 0.24528279900550842, 0.007681123912334442, 0.0, 0.0, 0.0, 0.0, 0.0, 0.0, 0.0, 0.0, 0.0, 0.0, 0.0, 0.0, 0.0, 0.0, 0.0, 0.0, 0.0, 0.0, 0.0, 0.0, 0.0, 0.0, 0.0, 0.0, 0.0, 0.0], [0.3998596668243408, 0.04361317679286003, 0.06183882802724838, 0.0729835107922554, 0.03661305084824562, 0.09147470444440842, 0.07241709530353546, 0.07013336569070816, 0.06429054588079453, 0.08677608519792557, 0.0, 0.0, 0.0, 0.0, 0.0, 0.0, 0.0, 0.0, 0.0, 0.0, 0.0, 0.0, 0.0, 0.0, 0.0, 0.0, 0.0, 0.0, 0.0, 0.0, 0.0, 0.0, 0.0, 0.0, 0.0], [0.09702546894550323, 0.03552757203578949, 0.023214813321828842, 0.036767058074474335, 0.02515840157866478, 0.2775616943836212, 0.07676514238119125, 0.19501188397407532, 0.05580100044608116, 0.14529389142990112, 0.03187303990125656, 0.0, 0.0, 0.0, 0.0, 0.0, 0.0, 0.0, 0.0, 0.0, 0.0, 0.0, 0.0, 0.0, 0.0, 0.0, 0.0, 0.0, 0.0, 0.0, 0.0, 0.0, 0.0, 0.0, 0.0], [0.2414383888244629, 0.03971060365438461, 0.07687385380268097, 0.02804270200431347, 0.12435993552207947, 0.05601578950881958, 0.06063671410083771, 0.1284010112285614, 0.015699444338679314, 0.09114035964012146, 0.13185441493988037, 0.005826781038194895, 0.0, 0.0, 0.0, 0.0, 0.0, 0.0, 0.0, 0.0, 0.0, 0.0, 0.0, 0.0, 0.0, 0.0, 0.0, 0.0, 0.0, 0.0, 0.0, 0.0, 0.0, 0.0, 0.0], [0.1436309963464737, 0.05110502988100052, 0.05505893751978874, 0.07798512279987335, 0.0785427913069725, 0.03501971811056137, 0.1349860280752182, 0.22634069621562958, 0.04162852466106415, 0.035131409764289856, 0.02023601345717907, 0.04114445298910141, 0.05919026955962181, 0.0, 0.0, 0.0, 0.0, 0.0, 0.0, 0.0, 0.0, 0.0, 0.0, 0.0, 0.0, 0.0, 0.0, 0.0, 0.0, 0.0, 0.0, 0.0, 0.0, 0.0, 0.0], [0.3156285285949707, 0.06791996955871582, 0.03787235915660858, 0.017874594777822495, 0.08683168888092041, 0.02922782301902771, 0.017664168030023575, 0.18301638960838318, 0.004987794440239668, 0.04322868213057518, 0.05172261968255043, 0.008913455531001091, 0.12899240851402283, 0.006119506433606148, 0.0, 0.0, 0.0, 0.0, 0.0, 0.0, 0.0, 0.0, 0.0, 0.0, 0.0, 0.0, 0.0, 0.0, 0.0, 0.0, 0.0, 0.0, 0.0, 0.0, 0.0], [0.28410208225250244, 0.0534539595246315, 0.023969212546944618, 0.022562256082892418, 0.04619823396205902, 0.06391074508428574, 0.04539213702082634, 0.07758504897356033, 0.02764429710805416, 0.05804116278886795, 0.17727358639240265, 0.03400601074099541, 0.030527280643582344, 0.032130781561136246, 0.023203179240226746, 0.0, 0.0, 0.0, 0.0, 0.0, 0.0, 0.0, 0.0, 0.0, 0.0, 0.0, 0.0, 0.0, 0.0, 0.0, 0.0, 0.0, 0.0, 0.0, 0.0], [0.14103913307189941, 0.028577815741300583, 0.03760397061705589, 0.03137827664613724, 0.03697334975004196, 0.07347068190574646, 0.07151782512664795, 0.09211236983537674, 0.03358154371380806, 0.03639129921793938, 0.18937672674655914, 0.03244518116116524, 0.06021038442850113, 0.039169248193502426, 0.040409527719020844, 0.05574265494942665, 0.0, 0.0, 0.0, 0.0, 0.0, 0.0, 0.0, 0.0, 0.0, 0.0, 0.0, 0.0, 0.0, 0.0, 0.0, 0.0, 0.0, 0.0, 0.0], [0.20265290141105652, 0.03025279939174652, 0.06003407761454582, 0.021786142140626907, 0.1031423807144165, 0.04516838118433952, 0.046810269355773926, 0.10542113333940506, 0.011398823000490665, 0.07159949094057083, 0.10570328682661057, 0.004199371673166752, 0.11079788208007812, 0.013912520371377468, 0.028923513367772102, 0.03286946937441826, 0.005327514372766018, 0.0, 0.0, 0.0, 0.0, 0.0, 0.0, 0.0, 0.0, 0.0, 0.0, 0.0, 0.0, 0.0, 0.0, 0.0, 0.0, 0.0, 0.0], [0.204983651638031, 0.04007228836417198, 0.04229811951518059, 0.024939006194472313, 0.04992292448878288, 0.029371703043580055, 0.03076968900859356, 0.10315563529729843, 0.025490203872323036, 0.07886797934770584, 0.10560183227062225, 0.01735270395874977, 0.08083696663379669, 0.03128695487976074, 0.054510559886693954, 0.05288318172097206, 0.021742794662714005, 0.005913801025599241, 0.0, 0.0, 0.0, 0.0, 0.0, 0.0, 0.0, 0.0, 0.0, 0.0, 0.0, 0.0, 0.0, 0.0, 0.0, 0.0, 0.0], [0.24350900948047638, 0.03636489063501358, 0.04196162894368172, 0.026215724647045135, 0.040445733815431595, 0.09965366870164871, 0.025752248242497444, 0.03249463811516762, 0.0244599562138319, 0.035202644765377045, 0.033835384994745255, 0.03347690775990486, 0.04664861783385277, 0.027967918664216995, 0.0186407882720232, 0.11764255911111832, 0.038752853870391846, 0.022786684334278107, 0.05418813228607178, 0.0, 0.0, 0.0, 0.0, 0.0, 0.0, 0.0, 0.0, 0.0, 0.0, 0.0, 0.0, 0.0, 0.0, 0.0, 0.0], [0.1419457048177719, 0.03406403213739395, 0.03300989791750908, 0.02023869939148426, 0.03927314281463623, 0.026005543768405914, 0.006318639498203993, 0.040797874331474304, 0.03638002648949623, 0.14631053805351257, 0.016386181116104126, 0.0235984455794096, 0.015842773020267487, 0.0422760508954525, 0.022458218038082123, 0.0686740130186081, 0.027878455817699432, 0.037222396582365036, 0.08677614480257034, 0.13454322516918182, 0.0, 0.0, 0.0, 0.0, 0.0, 0.0, 0.0, 0.0, 0.0, 0.0, 0.0, 0.0, 0.0, 0.0, 0.0], [0.2177814096212387, 0.02690366841852665, 0.023647204041481018, 0.007102565374225378, 0.03517001122236252, 0.013998538255691528, 0.010392263531684875, 0.09431247413158417, 0.002962289610877633, 0.03783803433179855, 0.03792329877614975, 0.003733974415808916, 0.06506095826625824, 0.003636459354311228, 0.014758048579096794, 0.12028626352548599, 0.004900884814560413, 0.008107366971671581, 0.017449844628572464, 0.24998730421066284, 0.004047101363539696, 0.0, 0.0, 0.0, 0.0, 0.0, 0.0, 0.0, 0.0, 0.0, 0.0, 0.0, 0.0, 0.0, 0.0], [0.1218722015619278, 0.07663216441869736, 0.030231954529881477, 0.016371842473745346, 0.05268790200352669, 0.0214021485298872, 0.023403869941830635, 0.10649692267179489, 0.018582476302981377, 0.035091664642095566, 0.08394148200750351, 0.017393292859196663, 0.041830554604530334, 0.021453872323036194, 0.0333310104906559, 0.05027426779270172, 0.020740870386362076, 0.04090357944369316, 0.03054094687104225, 0.09200655668973923, 0.028245704248547554, 0.03656467795372009, 0.0, 0.0, 0.0, 0.0, 0.0, 0.0, 0.0, 0.0, 0.0, 0.0, 0.0, 0.0, 0.0], [0.2126019448041916, 0.020284099504351616, 0.05000367388129234, 0.015904176980257034, 0.057225052267313004, 0.022857321426272392, 0.04604589194059372, 0.03530845418572426, 0.011784466914832592, 0.04140482842922211, 0.01680360920727253, 0.015782056376338005, 0.02020842954516411, 0.013090187683701515, 0.020854240283370018, 0.06297557801008224, 0.018039431422948837, 0.01805296540260315, 0.024445293471217155, 0.17059145867824554, 0.015939775854349136, 0.041521888226270676, 0.04827514663338661, 0.0, 0.0, 0.0, 0.0, 0.0, 0.0, 0.0, 0.0, 0.0, 0.0, 0.0, 0.0], [0.26714006066322327, 0.03564617782831192, 0.020422879606485367, 0.006622725166380405, 0.04034102335572243, 0.01911034621298313, 0.0145752914249897, 0.0564163513481617, 0.008403632789850235, 0.015526894479990005, 0.04414669796824455, 0.011055913753807545, 0.040019962936639786, 0.009353081695735455, 0.01935187727212906, 0.07054156810045242, 0.012798828072845936, 0.012832637876272202, 0.014165612868964672, 0.11736986041069031, 0.007312783971428871, 0.09727416187524796, 0.02075115218758583, 0.03882049769163132, 0.0, 0.0, 0.0, 0.0, 0.0, 0.0, 0.0, 0.0, 0.0, 0.0, 0.0], [0.14591233432292938, 0.03319379687309265, 0.03138770908117294, 0.009927901439368725, 0.05209654942154884, 0.0198409054428339, 0.01940172165632248, 0.07582409679889679, 0.012863253243267536, 0.033451277762651443, 0.016568411141633987, 0.014797179028391838, 0.05908382683992386, 0.0155973881483078, 0.01136922650039196, 0.021859483793377876, 0.01947386935353279, 0.014793707057833672, 0.053418632596731186, 0.09521487355232239, 0.016204578801989555, 0.06210915744304657, 0.061828501522541046, 0.06657968461513519, 0.03720193728804588, 0.0, 0.0, 0.0, 0.0, 0.0, 0.0, 0.0, 0.0, 0.0, 0.0], [0.06265702843666077, 0.014285171404480934, 0.025387221947312355, 0.030092518776655197, 0.021246908232569695, 0.029529908671975136, 0.026446687057614326, 0.014830511063337326, 0.015861934050917625, 0.04331432655453682, 0.02196396328508854, 0.01997012458741665, 0.04342854395508766, 0.018692901358008385, 0.009475355967879295, 0.02419748343527317, 0.023853624239563942, 0.0269087515771389, 0.014060706831514835, 0.1752849966287613, 0.03583677485585213, 0.04792255163192749, 0.035750579088926315, 0.012070520780980587, 0.05927427485585213, 0.1476566046476364, 0.0, 0.0, 0.0, 0.0, 0.0, 0.0, 0.0, 0.0, 0.0], [0.09766799211502075, 0.031521718949079514, 0.0266864150762558, 0.03645576536655426, 0.03492369502782822, 0.08635790646076202, 0.013895380310714245, 0.03018672950565815, 0.019402576610445976, 0.03514167666435242, 0.048781562596559525, 0.01255156472325325, 0.04099080339074135, 0.020208818838000298, 0.012653257697820663, 0.007451048586517572, 0.013522968627512455, 0.024078069254755974, 0.04302708059549332, 0.15066799521446228, 0.029252583160996437, 0.018810171633958817, 0.01610449142754078, 0.02854987233877182, 0.029875917360186577, 0.051215581595897675, 0.040018320083618164, 0.0, 0.0, 0.0, 0.0, 0.0, 0.0, 0.0, 0.0], [0.09151815623044968, 0.011421113274991512, 0.0397990345954895, 0.011658582836389542, 0.03344331309199333, 0.04107607901096344, 0.009538291953504086, 0.04061255604028702, 0.009114391170442104, 0.046904027462005615, 0.027317604050040245, 0.010844958946108818, 0.02454751543700695, 0.010004605166614056, 0.008095633238554, 0.008396816439926624, 0.011855491437017918, 0.008184149861335754, 0.04104062542319298, 0.3625810742378235, 0.007537388242781162, 0.009961557574570179, 0.0210457481443882, 0.011855036951601505, 0.03005830943584442, 0.03281192481517792, 0.028863199055194855, 0.009912795387208462, 0.0, 0.0, 0.0, 0.0, 0.0, 0.0, 0.0], [0.10946293920278549, 0.025872737169265747, 0.023928705602884293, 0.02004525437951088, 0.03590445965528488, 0.03167986497282982, 0.02914528176188469, 0.11399825662374496, 0.013954712077975273, 0.03480716422200203, 0.018105631694197655, 0.01762225851416588, 0.01900731585919857, 0.015307603403925896, 0.00970301404595375, 0.012407948262989521, 0.02009168080985546, 0.02726256661117077, 0.0656459853053093, 0.027155404910445213, 0.026226606220006943, 0.018942993134260178, 0.04077143222093582, 0.019073298200964928, 0.021573416888713837, 0.030219418928027153, 0.07011830806732178, 0.06031468138098717, 0.04165104776620865, 0.0, 0.0, 0.0, 0.0, 0.0, 0.0], [0.11406347900629044, 0.02655624784529209, 0.019958436489105225, 0.008931468240916729, 0.03494322672486305, 0.016834324225783348, 0.009377744048833847, 0.0445132777094841, 0.0037722201086580753, 0.028760330751538277, 0.02074115350842476, 0.005650992970913649, 0.06007757782936096, 0.00442497618496418, 0.010821839794516563, 0.04112929850816727, 0.007085720077157021, 0.010433999821543694, 0.026548536494374275, 0.11019261926412582, 0.007190014701336622, 0.05651938542723656, 0.028027109801769257, 0.06370097398757935, 0.034076906740665436, 0.07150983065366745, 0.04093319550156593, 0.014252979308366776, 0.06984364241361618, 0.009128456003963947, 0.0, 0.0, 0.0, 0.0, 0.0], [0.14399927854537964, 0.020454606041312218, 0.04262387380003929, 0.011592100374400616, 0.027789432555437088, 0.01434292271733284, 0.029106181114912033, 0.04215824976563454, 0.013669712468981743, 0.02058148756623268, 0.008641068823635578, 0.01240221131592989, 0.019577063620090485, 0.014879732392728329, 0.023319032043218613, 0.02236717753112316, 0.01441388763487339, 0.006065314169973135, 0.006985304411500692, 0.08859112858772278, 0.014219230972230434, 0.02754119038581848, 0.05707308650016785, 0.024985725060105324, 0.057333026081323624, 0.048089683055877686, 0.018268713727593422, 0.07940170913934708, 0.04377174377441406, 0.02484910748898983, 0.020907005295157433, 0.0, 0.0, 0.0, 0.0], [0.0778680369257927, 0.01973286271095276, 0.019906362518668175, 0.015179571695625782, 0.029269902035593987, 0.008963342756032944, 0.01142786629498005, 0.03169626742601395, 0.006965261418372393, 0.040641698986291885, 0.01998521201312542, 0.00878906436264515, 0.035749923437833786, 0.007953662425279617, 0.009612184949219227, 0.014965923503041267, 0.010367298498749733, 0.013545009307563305, 0.013747338205575943, 0.0681854709982872, 0.011837064288556576, 0.019355513155460358, 0.016761230304837227, 0.016301225870847702, 0.061250220984220505, 0.12023527175188065, 0.04739146679639816, 0.023822050541639328, 0.14942997694015503, 0.014121503569185734, 0.04741881042718887, 0.0075234402902424335, 0.0, 0.0, 0.0], [0.14836616814136505, 0.03627424314618111, 0.023768767714500427, 0.005308397114276886, 0.032260362058877945, 0.017439452931284904, 0.015090284869074821, 0.04443071782588959, 0.004935790318995714, 0.021151501685380936, 0.023849107325077057, 0.006127793341875076, 0.04430978000164032, 0.005717848893254995, 0.006861451081931591, 0.016362613067030907, 0.00770712411031127, 0.009109636768698692, 0.028427589684724808, 0.14491388201713562, 0.006351602263748646, 0.034538231790065765, 0.02327299863100052, 0.04803793504834175, 0.034416668117046356, 0.06975369900465012, 0.02756190113723278, 0.012016535736620426, 0.03535730019211769, 0.008575206622481346, 0.03916304185986519, 0.00971579272300005, 0.008826584555208683, 0.0, 0.0], [0.11389318108558655, 0.021931488066911697, 0.026447614654898643, 0.007602882105857134, 0.02053068019449711, 0.029713166877627373, 0.03694961220026016, 0.02875792421400547, 0.007981306873261929, 0.029359184205532074, 0.015349607914686203, 0.018420172855257988, 0.020850982517004013, 0.008514756336808205, 0.010930923745036125, 0.009227699600160122, 0.02127930149435997, 0.009222992695868015, 0.02765110321342945, 0.12458856403827667, 0.010509628802537918, 0.06096192076802254, 0.02203325182199478, 0.030366934835910797, 0.027411194518208504, 0.03459944576025009, 0.03202730789780617, 0.0395297072827816, 0.05353792756795883, 0.017732908949255943, 0.017497554421424866, 0.017771480605006218, 0.012080211192369461, 0.034737344831228256, 0.0], [0.13933590054512024, 0.0213712640106678, 0.01454135961830616, 0.005123290698975325, 0.031635090708732605, 0.010921809822320938, 0.012541361153125763, 0.02249286137521267, 0.004774268250912428, 0.024901431053876877, 0.010858358815312386, 0.010577702894806862, 0.025906071066856384, 0.005286506377160549, 0.016752300783991814, 0.04520440846681595, 0.012112235650420189, 0.014714711345732212, 0.014629177749156952, 0.08781159669160843, 0.007287840824574232, 0.07496531307697296, 0.015995563939213753, 0.04392344132065773, 0.041024111211299896, 0.0758780986070633, 0.027924560010433197, 0.01525017712265253, 0.013413431122899055, 0.01453278586268425, 0.02721545472741127, 0.03453553467988968, 0.018207408487796783, 0.0350533165037632, 0.02330126240849495]], [[1.0, 0.0, 0.0, 0.0, 0.0, 0.0, 0.0, 0.0, 0.0, 0.0, 0.0, 0.0, 0.0, 0.0, 0.0, 0.0, 0.0, 0.0, 0.0, 0.0, 0.0, 0.0, 0.0, 0.0, 0.0, 0.0, 0.0, 0.0, 0.0, 0.0, 0.0, 0.0, 0.0, 0.0, 0.0], [0.00041899754432961345, 0.9995810389518738, 0.0, 0.0, 0.0, 0.0, 0.0, 0.0, 0.0, 0.0, 0.0, 0.0, 0.0, 0.0, 0.0, 0.0, 0.0, 0.0, 0.0, 0.0, 0.0, 0.0, 0.0, 0.0, 0.0, 0.0, 0.0, 0.0, 0.0, 0.0, 0.0, 0.0, 0.0, 0.0, 0.0], [0.00013394761481322348, 0.00951184332370758, 0.9903541803359985, 0.0, 0.0, 0.0, 0.0, 0.0, 0.0, 0.0, 0.0, 0.0, 0.0, 0.0, 0.0, 0.0, 0.0, 0.0, 0.0, 0.0, 0.0, 0.0, 0.0, 0.0, 0.0, 0.0, 0.0, 0.0, 0.0, 0.0, 0.0, 0.0, 0.0, 0.0, 0.0], [0.0008606779156252742, 0.002610043389722705, 0.01506681740283966, 0.9814624786376953, 0.0, 0.0, 0.0, 0.0, 0.0, 0.0, 0.0, 0.0, 0.0, 0.0, 0.0, 0.0, 0.0, 0.0, 0.0, 0.0, 0.0, 0.0, 0.0, 0.0, 0.0, 0.0, 0.0, 0.0, 0.0, 0.0, 0.0, 0.0, 0.0, 0.0, 0.0], [3.7170477298786864e-05, 0.0006769570172764361, 0.0012692955788224936, 0.0002140780707122758, 0.9978025555610657, 0.0, 0.0, 0.0, 0.0, 0.0, 0.0, 0.0, 0.0, 0.0, 0.0, 0.0, 0.0, 0.0, 0.0, 0.0, 0.0, 0.0, 0.0, 0.0, 0.0, 0.0, 0.0, 0.0, 0.0, 0.0, 0.0, 0.0, 0.0, 0.0, 0.0], [8.425416308455169e-05, 0.0007904721423983574, 0.0032152822241187096, 0.0027085694018751383, 0.0013058256590738893, 0.9918956160545349, 0.0, 0.0, 0.0, 0.0, 0.0, 0.0, 0.0, 0.0, 0.0, 0.0, 0.0, 0.0, 0.0, 0.0, 0.0, 0.0, 0.0, 0.0, 0.0, 0.0, 0.0, 0.0, 0.0, 0.0, 0.0, 0.0, 0.0, 0.0, 0.0], [0.00014960527187213302, 0.0018361882539466023, 0.0016375049017369747, 0.001013060798868537, 0.004209814593195915, 8.004387927940115e-05, 0.9910737872123718, 0.0, 0.0, 0.0, 0.0, 0.0, 0.0, 0.0, 0.0, 0.0, 0.0, 0.0, 0.0, 0.0, 0.0, 0.0, 0.0, 0.0, 0.0, 0.0, 0.0, 0.0, 0.0, 0.0, 0.0, 0.0, 0.0, 0.0, 0.0], [0.0002685565559659153, 0.0009259636281058192, 0.0008250501123256981, 0.0006819655536673963, 0.007268866058439016, 0.001351707149296999, 0.00034691678592935205, 0.9883310198783875, 0.0, 0.0, 0.0, 0.0, 0.0, 0.0, 0.0, 0.0, 0.0, 0.0, 0.0, 0.0, 0.0, 0.0, 0.0, 0.0, 0.0, 0.0, 0.0, 0.0, 0.0, 0.0, 0.0, 0.0, 0.0, 0.0, 0.0], [0.007326360326260328, 0.007828550413250923, 0.003931873943656683, 0.0001837400923250243, 6.433094677049667e-05, 0.00010083155211759731, 6.769890751456842e-05, 7.164074486354366e-05, 0.9804249405860901, 0.0, 0.0, 0.0, 0.0, 0.0, 0.0, 0.0, 0.0, 0.0, 0.0, 0.0, 0.0, 0.0, 0.0, 0.0, 0.0, 0.0, 0.0, 0.0, 0.0, 0.0, 0.0, 0.0, 0.0, 0.0, 0.0], [3.9175745769171044e-05, 9.137432789430022e-05, 0.00033399122185073793, 6.816777749918401e-05, 7.81233684392646e-05, 0.0009843043517321348, 0.00016941352805588394, 0.002541461493819952, 4.413309216033667e-05, 0.9956498742103577, 0.0, 0.0, 0.0, 0.0, 0.0, 0.0, 0.0, 0.0, 0.0, 0.0, 0.0, 0.0, 0.0, 0.0, 0.0, 0.0, 0.0, 0.0, 0.0, 0.0, 0.0, 0.0, 0.0, 0.0, 0.0], [5.520322247321019e-06, 2.3466527636628598e-05, 9.186482930090278e-05, 8.013441401999444e-05, 3.9392205508193e-05, 8.521595736965537e-05, 2.5735973395057954e-05, 7.120834197849035e-05, 4.276968411431881e-06, 0.00015049768262542784, 0.9994226694107056, 0.0, 0.0, 0.0, 0.0, 0.0, 0.0, 0.0, 0.0, 0.0, 0.0, 0.0, 0.0, 0.0, 0.0, 0.0, 0.0, 0.0, 0.0, 0.0, 0.0, 0.0, 0.0, 0.0, 0.0], [0.0010400308528915048, 0.0022993639577180147, 0.0023920699022710323, 0.0003133234567940235, 0.00013362923345994204, 0.0005168464849703014, 0.0011971096973866224, 6.827450124546885e-05, 0.005444327834993601, 0.0002821744710672647, 4.3057352741016075e-05, 0.9862697720527649, 0.0, 0.0, 0.0, 0.0, 0.0, 0.0, 0.0, 0.0, 0.0, 0.0, 0.0, 0.0, 0.0, 0.0, 0.0, 0.0, 0.0, 0.0, 0.0, 0.0, 0.0, 0.0, 0.0], [4.6304052375489846e-05, 0.0003248225257266313, 0.00024459429550915956, 0.0015311642782762647, 0.0008613702957518399, 0.0012943863403052092, 6.19845959590748e-05, 2.6642695956979878e-05, 4.840864130528644e-05, 0.0019855652935802937, 0.0001397185551468283, 0.00011434292537160218, 0.9933207035064697, 0.0, 0.0, 0.0, 0.0, 0.0, 0.0, 0.0, 0.0, 0.0, 0.0, 0.0, 0.0, 0.0, 0.0, 0.0, 0.0, 0.0, 0.0, 0.0, 0.0, 0.0, 0.0], [0.0030442415736615658, 0.001822363818064332, 0.0009289858862757683, 4.88022924400866e-05, 1.6391164535889402e-05, 2.9095637728460133e-05, 2.50798311753897e-05, 2.9130260372767225e-05, 0.45632204413414, 2.457868140481878e-05, 2.4832173949107528e-05, 0.0030043967999517918, 1.6773814195403247e-06, 0.5346783995628357, 0.0, 0.0, 0.0, 0.0, 0.0, 0.0, 0.0, 0.0, 0.0, 0.0, 0.0, 0.0, 0.0, 0.0, 0.0, 0.0, 0.0, 0.0, 0.0, 0.0, 0.0], [0.00039817881770431995, 0.001028500497341156, 0.0008281109039671719, 0.00023753168352413923, 7.348858343902975e-05, 0.0014350303681567311, 6.76565759931691e-05, 0.0002954743104055524, 0.00014295795699581504, 9.92909335764125e-05, 4.608216386259301e-06, 0.0005140063003636897, 5.035657522967085e-06, 0.0001247551990672946, 0.9947453737258911, 0.0, 0.0, 0.0, 0.0, 0.0, 0.0, 0.0, 0.0, 0.0, 0.0, 0.0, 0.0, 0.0, 0.0, 0.0, 0.0, 0.0, 0.0, 0.0, 0.0], [9.074855915969238e-05, 0.0002652601688168943, 0.00011011176684405655, 0.00021231947175692767, 8.290550613310188e-05, 0.0011814198223873973, 1.5688718121964484e-05, 0.0016655947547405958, 1.1725332115020137e-05, 0.0020509441383183002, 0.00013842586486134678, 1.557363611937035e-05, 1.1507429917401168e-05, 9.066201528185047e-06, 0.00022655802604276687, 0.9939122200012207, 0.0, 0.0, 0.0, 0.0, 0.0, 0.0, 0.0, 0.0, 0.0, 0.0, 0.0, 0.0, 0.0, 0.0, 0.0, 0.0, 0.0, 0.0, 0.0], [0.0004413540300447494, 0.0006528960075229406, 0.0006495662382803857, 9.398062684340402e-05, 4.112704482395202e-05, 0.00017028424190357327, 0.0005066701560281217, 2.8896065487060696e-05, 0.002370182191953063, 0.0001045431345119141, 1.9230927136959508e-05, 0.47055861353874207, 1.6804015103843994e-05, 0.0022840930614620447, 0.00021698104683309793, 3.2769392419140786e-05, 0.5218120217323303, 0.0, 0.0, 0.0, 0.0, 0.0, 0.0, 0.0, 0.0, 0.0, 0.0, 0.0, 0.0, 0.0, 0.0, 0.0, 0.0, 0.0, 0.0], [0.0005350512801669538, 0.0006631251308135688, 0.00018957485735882074, 0.00011594548413995653, 3.930583625333384e-05, 8.452106703771278e-05, 0.00026859971694648266, 0.0003003481833729893, 0.00012727576540783048, 0.00015363417332991958, 2.152449633285869e-05, 0.0004102018428966403, 0.0015090383822098374, 0.00011659025039989501, 0.00013773961109109223, 7.389148231595755e-05, 0.0003989942779298872, 0.9948546886444092, 0.0, 0.0, 0.0, 0.0, 0.0, 0.0, 0.0, 0.0, 0.0, 0.0, 0.0, 0.0, 0.0, 0.0, 0.0, 0.0, 0.0], [0.0002235249412478879, 0.00025025373906828463, 0.00011739338515326381, 1.8608283426146954e-05, 0.0006291492027230561, 0.0007579223602078855, 3.784093132708222e-05, 0.0033851515036076307, 1.7918295270646922e-05, 0.00017818310880102217, 3.43443316523917e-05, 7.747590279905125e-05, 6.471163214882836e-05, 1.5270306903403252e-05, 0.00029359618201851845, 0.0005734392907470465, 7.154411287046969e-05, 0.000158831593580544, 0.993094801902771, 0.0, 0.0, 0.0, 0.0, 0.0, 0.0, 0.0, 0.0, 0.0, 0.0, 0.0, 0.0, 0.0, 0.0, 0.0, 0.0], [0.00030641001649200916, 0.0004168006998952478, 0.00045197142753750086, 0.00015746380086056888, 0.0015800739638507366, 0.0022666300646960735, 0.00014483602717518806, 0.002518873196095228, 4.4711858208756894e-05, 0.002739465096965432, 0.00043489757808856666, 0.00015683105448260903, 2.8505710361059755e-05, 4.005827577202581e-05, 0.000593667384237051, 0.00011775219900300726, 0.00014039609231986105, 0.0001806039217626676, 0.0009641882497817278, 0.9867159128189087, 0.0, 0.0, 0.0, 0.0, 0.0, 0.0, 0.0, 0.0, 0.0, 0.0, 0.0, 0.0, 0.0, 0.0, 0.0], [0.00904688611626625, 0.0007260906277224422, 6.491785461548716e-05, 4.5782653614878654e-05, 3.6695309972856194e-05, 3.389698758837767e-05, 4.1313283873023465e-05, 9.000127465697005e-05, 0.016163917258381844, 1.895380046335049e-05, 3.351377745275386e-05, 0.002181082498282194, 5.3411863518704195e-06, 0.01874946430325508, 0.00017897745419759303, 0.0004993692273274064, 0.002435566857457161, 4.2716106690932065e-05, 7.329288200708106e-05, 1.915435859700665e-05, 0.9495130777359009, 0.0, 0.0, 0.0, 0.0, 0.0, 0.0, 0.0, 0.0, 0.0, 0.0, 0.0, 0.0, 0.0, 0.0], [0.00021946335618849844, 0.0011669597588479519, 0.00021983285841997713, 0.000987631268799305, 0.0003133852151222527, 0.00012072665413143113, 5.631548447126988e-06, 2.4260116333607584e-05, 4.544206603895873e-05, 1.852963032433763e-05, 1.4025742530066054e-05, 1.0155007657886017e-05, 0.00040180308860726655, 4.0526505472371355e-05, 0.00017106776067521423, 9.869067071122117e-06, 9.488580872130115e-06, 0.0003931100363843143, 5.709424840460997e-06, 1.7844327885541134e-05, 2.853047044482082e-05, 0.9957762360572815, 0.0, 0.0, 0.0, 0.0, 0.0, 0.0, 0.0, 0.0, 0.0, 0.0, 0.0, 0.0, 0.0], [0.00019361003069207072, 0.0008434184128418565, 0.0005215298151597381, 2.566456350905355e-05, 0.00046233172179199755, 0.00025401596212759614, 1.8471198927727528e-05, 0.00011509795149322599, 0.00027288994169794023, 0.00015436687681358308, 1.21491457321099e-05, 0.0006913748802617192, 5.695979416486807e-05, 0.00024024784215725958, 3.827496766461991e-05, 9.934457921190187e-05, 0.0006488919025287032, 8.011747559066862e-05, 0.00019218817760702223, 2.5529448976158164e-05, 0.00032434804597869515, 0.0010871081613004208, 0.9936420321464539, 0.0, 0.0, 0.0, 0.0, 0.0, 0.0, 0.0, 0.0, 0.0, 0.0, 0.0, 0.0], [0.0016077643958851695, 0.17697355151176453, 0.015483594499528408, 0.00037138801417313516, 0.000378634431399405, 0.0001645273732719943, 0.0003277385840192437, 0.00016989708819892257, 0.002122965408489108, 3.573102367226966e-05, 6.0901442338945344e-05, 0.0004562170652206987, 1.544782026030589e-05, 0.0022543175145983696, 0.0015666894614696503, 0.00011843773245345801, 0.0004699893470387906, 5.037320079281926e-05, 0.00012108069495297968, 6.008971104165539e-05, 0.0008920582477003336, 0.0007518463535234332, 0.0002689968969207257, 0.7952778339385986, 0.0, 0.0, 0.0, 0.0, 0.0, 0.0, 0.0, 0.0, 0.0, 0.0, 0.0], [0.0003919861919712275, 0.0002142115990864113, 0.0005306113162077963, 1.0745775398390833e-05, 0.00011862367682624608, 4.2257750465068966e-05, 0.00021160373580642045, 4.692550646723248e-05, 0.00044815739965997636, 0.00010691276838770136, 3.9354610635200515e-05, 0.0001683084265096113, 0.00017352349823340774, 0.0004524498654063791, 0.00014294098946265876, 0.00011699326569214463, 0.00017526779265608639, 0.00010119951912201941, 4.25139041908551e-05, 2.0371722712297924e-05, 3.837128315353766e-05, 0.00011344601080054417, 0.00025279269902966917, 6.99101947247982e-05, 0.9959704875946045, 0.0, 0.0, 0.0, 0.0, 0.0, 0.0, 0.0, 0.0, 0.0, 0.0], [0.00021530715457629412, 0.00010005849617300555, 0.002380919177085161, 0.001983142225071788, 0.0011120135895907879, 5.563466766034253e-05, 0.0006109271198511124, 0.0002456435759086162, 8.81901360116899e-05, 0.0011510414769873023, 0.00010669908078853041, 0.00017554884834680706, 5.736283492296934e-05, 7.814801210770383e-05, 0.0002457347291056067, 9.594678886060137e-06, 0.00017032408504746854, 2.897270314861089e-05, 1.4011726307217032e-05, 0.00016692095960024744, 1.2888881428807508e-05, 0.00024495579418726265, 0.0005147017654962838, 4.942114173900336e-05, 0.0005746558890677989, 0.9896071553230286, 0.0, 0.0, 0.0, 0.0, 0.0, 0.0, 0.0, 0.0, 0.0], [0.00011423427349654958, 0.0008627420174889266, 0.000773223873693496, 0.0007090762373991311, 0.0007292143418453634, 0.0014031633036211133, 0.00021403632126748562, 0.00017666495114099234, 6.622049113502726e-05, 3.2159430702449754e-05, 0.0004533063911367208, 0.0001200851402245462, 2.2129026547190733e-05, 5.8075143897440284e-05, 0.00012917457206640393, 1.9079687263001688e-05, 0.00011076675582444295, 8.56419592309976e-06, 2.3630589566892013e-05, 0.000337998237228021, 5.211896859691478e-05, 0.00014455695054493845, 0.00019694966613315046, 0.0004510532016865909, 2.0576262613758445e-05, 8.76431877259165e-05, 0.992683470249176, 0.0, 0.0, 0.0, 0.0, 0.0, 0.0, 0.0, 0.0], [0.0001979837688850239, 0.00019567960407584906, 0.0002261226618429646, 0.0004194370994810015, 0.0005979703273624182, 0.00045174508704803884, 0.0003478292201180011, 0.00025858148001134396, 2.8019932869938202e-05, 0.0007220015395432711, 0.00013010468683205545, 0.0011632074601948261, 6.916921847732738e-05, 2.478917667758651e-05, 0.00010386035137344152, 0.00038125007995404303, 0.0011587819317355752, 0.0003314449859317392, 0.00024494589888490736, 0.0001275519753107801, 0.0001609846658539027, 1.926793993334286e-05, 0.0002717423776630312, 2.0765592125826515e-05, 6.825080345151946e-05, 0.0008764266967773438, 0.0006782175623811781, 0.9907240271568298, 0.0, 0.0, 0.0, 0.0, 0.0, 0.0, 0.0], [3.157188984914683e-05, 0.0006791118066757917, 0.0007090721046552062, 0.00024164879869204015, 0.00041205473826266825, 0.000923742598388344, 0.00020848600252065808, 6.639298953814432e-05, 0.00011664839985314757, 8.601942681707442e-05, 0.010591322556138039, 0.0003372913633938879, 2.1898489649174735e-05, 0.00010110744187841192, 0.00010436111915623769, 5.858746590092778e-05, 0.00032512188772670925, 1.5854146113269962e-05, 5.033617071603658e-06, 0.00040949039976112545, 1.3119529285177123e-05, 5.313358997227624e-05, 1.1887270375154912e-05, 5.536681055673398e-05, 1.2197706382721663e-05, 8.952661301009357e-05, 0.002243553753942251, 0.00021041954460088164, 0.9818660616874695, 0.0, 0.0, 0.0, 0.0, 0.0, 0.0], [0.0007582920952700078, 0.0012331446632742882, 8.604941103840247e-05, 6.291332101682201e-05, 2.8791733711841516e-05, 3.316687434562482e-05, 7.622712291777134e-05, 0.00010868187382584438, 0.006450854241847992, 0.00014789066335652024, 1.0376486898167059e-05, 0.0023889716248959303, 7.88359175203368e-05, 0.007510697469115257, 0.00028743132133968174, 0.000136757327709347, 0.00276029366068542, 0.0007447162643074989, 8.811101724859327e-05, 2.470205072313547e-05, 0.006188863888382912, 0.00011647049541352317, 0.0001724402973195538, 0.0002621748426463455, 0.0001841976190917194, 4.4321401219349355e-05, 4.855170482187532e-05, 8.903044363250956e-05, 2.6887826606980525e-05, 0.9698501229286194, 0.0, 0.0, 0.0, 0.0, 0.0], [0.0002462745178490877, 0.00035919941728934646, 0.00020521896658465266, 9.387754107592627e-05, 8.577330299885944e-05, 5.495216100825928e-05, 4.531839658739045e-05, 1.0722168553911615e-05, 4.867117968387902e-05, 0.00011017618089681491, 0.00010064101661555469, 9.772254998097196e-05, 0.0005496820085681975, 4.362943582236767e-05, 3.945788193959743e-05, 7.140226080082357e-05, 9.814357326831669e-05, 5.700975816580467e-05, 2.4251130525954068e-05, 2.31456533583696e-06, 5.05694406456314e-05, 0.0001131849130615592, 0.0002906991576310247, 6.889968790346757e-05, 0.0006683265673927963, 0.0002321746142115444, 8.348721166839823e-06, 1.7434649635106325e-05, 1.027312009682646e-05, 0.00013885690714232624, 0.9960569143295288, 0.0, 0.0, 0.0, 0.0], [0.00011105907469755039, 3.599156843847595e-05, 4.416053707245737e-05, 0.00022596387134399265, 0.00024025827588047832, 1.7348935216432437e-05, 7.204298890428618e-05, 0.00023738990421406925, 8.274748688563704e-05, 0.00010178543016081676, 7.876383278926369e-06, 6.391834904206917e-05, 3.295211718068458e-05, 7.889189873822033e-05, 0.00011627453932305798, 7.139142326195724e-06, 6.571754056494683e-05, 5.396364940679632e-06, 8.334023732459173e-06, 1.961386442417279e-05, 4.110628287889995e-05, 8.537995745427907e-05, 3.1616174965165555e-05, 9.916993803926744e-06, 2.3832411898183636e-05, 0.0018293511820957065, 2.611123454698827e-05, 3.313507841085084e-05, 1.4612711311201565e-05, 0.0008547271136194468, 0.00016745144966989756, 0.995307981967926, 0.0, 0.0, 0.0], [0.0022552262526005507, 0.00046477530850097537, 0.0001228374312631786, 0.006661212537437677, 8.828952559269965e-05, 0.0002494279178790748, 0.00017555170052219182, 2.6563478968455456e-05, 0.004149141255766153, 0.0002083310973830521, 1.5973366316757165e-05, 0.0007248217007145286, 1.2318085282458924e-05, 0.004929245915263891, 0.0007067767437547445, 2.746022437349893e-05, 0.0008252441766671836, 5.14874336658977e-05, 9.107254300033674e-06, 0.0011701991315931082, 0.001132050878368318, 0.0003872279776260257, 0.00010000297334045172, 0.0005395386251620948, 0.0001279767748201266, 7.418716995744035e-05, 0.0006351858610287309, 5.991850048303604e-05, 0.00020302340271882713, 0.0226412545889616, 7.11138709448278e-05, 0.0034798544365912676, 0.9476746916770935, 0.0, 0.0], [0.00010488810949027538, 0.0005403983523137867, 0.0002700608456507325, 2.781992225209251e-05, 0.0008878532680682838, 0.0002531727368477732, 0.0002921407576650381, 0.0009951466927304864, 3.9432081393897533e-05, 6.531633698614314e-05, 5.1983330195071176e-05, 0.0006716341013088822, 1.9524166418705136e-05, 3.796433884417638e-05, 0.00031547032995149493, 0.00015760336827952415, 0.0006809111800976098, 0.00017366735846735537, 0.00023275859712157398, 0.0004935205215588212, 0.00015254231402650476, 8.96886849659495e-05, 0.0014225798659026623, 0.00022503049694932997, 0.00015392254863400012, 0.00010696917888708413, 0.005650238133966923, 0.0008653232362121344, 0.0002874952624551952, 0.0001386848889524117, 1.4354172890307382e-05, 2.8161975933471695e-05, 0.00011612014350248501, 0.9844375848770142, 0.0], [0.001883040415123105, 0.00023013970348984003, 7.190542964963242e-05, 3.7982904359523673e-06, 0.002256362233310938, 4.36797781731002e-05, 0.00012782968406099826, 0.0006368025788106024, 0.0005363998934626579, 5.325703114067437e-06, 7.917853508843109e-05, 2.601603409857489e-05, 1.1253265256527811e-05, 0.000561125110834837, 9.103799129661638e-06, 0.00021052247029729187, 2.689111715881154e-05, 3.242444290663116e-05, 0.00025939344777725637, 0.00045266730012372136, 0.00115210039075464, 1.149353920482099e-05, 4.818243542104028e-05, 0.00010571510210866109, 8.452804468106478e-05, 0.00010020881745731458, 2.848373151209671e-05, 2.0415467588463798e-05, 1.8022971062237048e-06, 7.628961611771956e-05, 4.604335117619485e-05, 9.973582200473174e-05, 5.2584082368412055e-06, 0.00019488518591970205, 0.9905609488487244]], [[1.0, 0.0, 0.0, 0.0, 0.0, 0.0, 0.0, 0.0, 0.0, 0.0, 0.0, 0.0, 0.0, 0.0, 0.0, 0.0, 0.0, 0.0, 0.0, 0.0, 0.0, 0.0, 0.0, 0.0, 0.0, 0.0, 0.0, 0.0, 0.0, 0.0, 0.0, 0.0, 0.0, 0.0, 0.0], [0.942474365234375, 0.057525597512722015, 0.0, 0.0, 0.0, 0.0, 0.0, 0.0, 0.0, 0.0, 0.0, 0.0, 0.0, 0.0, 0.0, 0.0, 0.0, 0.0, 0.0, 0.0, 0.0, 0.0, 0.0, 0.0, 0.0, 0.0, 0.0, 0.0, 0.0, 0.0, 0.0, 0.0, 0.0, 0.0, 0.0], [0.8506749868392944, 0.09740976989269257, 0.05191529169678688, 0.0, 0.0, 0.0, 0.0, 0.0, 0.0, 0.0, 0.0, 0.0, 0.0, 0.0, 0.0, 0.0, 0.0, 0.0, 0.0, 0.0, 0.0, 0.0, 0.0, 0.0, 0.0, 0.0, 0.0, 0.0, 0.0, 0.0, 0.0, 0.0, 0.0, 0.0, 0.0], [0.7641512751579285, 0.10970383882522583, 0.07497040927410126, 0.05117453634738922, 0.0, 0.0, 0.0, 0.0, 0.0, 0.0, 0.0, 0.0, 0.0, 0.0, 0.0, 0.0, 0.0, 0.0, 0.0, 0.0, 0.0, 0.0, 0.0, 0.0, 0.0, 0.0, 0.0, 0.0, 0.0, 0.0, 0.0, 0.0, 0.0, 0.0, 0.0], [0.6748191118240356, 0.08416198939085007, 0.05470249056816101, 0.07581547647714615, 0.11050091683864594, 0.0, 0.0, 0.0, 0.0, 0.0, 0.0, 0.0, 0.0, 0.0, 0.0, 0.0, 0.0, 0.0, 0.0, 0.0, 0.0, 0.0, 0.0, 0.0, 0.0, 0.0, 0.0, 0.0, 0.0, 0.0, 0.0, 0.0, 0.0, 0.0, 0.0], [0.6857606172561646, 0.08229535073041916, 0.05202116817235947, 0.08139175176620483, 0.04085884615778923, 0.05767223238945007, 0.0, 0.0, 0.0, 0.0, 0.0, 0.0, 0.0, 0.0, 0.0, 0.0, 0.0, 0.0, 0.0, 0.0, 0.0, 0.0, 0.0, 0.0, 0.0, 0.0, 0.0, 0.0, 0.0, 0.0, 0.0, 0.0, 0.0, 0.0, 0.0], [0.6174605488777161, 0.056534551084041595, 0.0911170095205307, 0.06854881346225739, 0.06338421255350113, 0.03596975654363632, 0.06698516756296158, 0.0, 0.0, 0.0, 0.0, 0.0, 0.0, 0.0, 0.0, 0.0, 0.0, 0.0, 0.0, 0.0, 0.0, 0.0, 0.0, 0.0, 0.0, 0.0, 0.0, 0.0, 0.0, 0.0, 0.0, 0.0, 0.0, 0.0, 0.0], [0.604728102684021, 0.06088967248797417, 0.05921146273612976, 0.0955815538764, 0.04265914112329483, 0.031843431293964386, 0.0426306277513504, 0.06245601549744606, 0.0, 0.0, 0.0, 0.0, 0.0, 0.0, 0.0, 0.0, 0.0, 0.0, 0.0, 0.0, 0.0, 0.0, 0.0, 0.0, 0.0, 0.0, 0.0, 0.0, 0.0, 0.0, 0.0, 0.0, 0.0, 0.0, 0.0], [0.4008437991142273, 0.07533581554889679, 0.042708415538072586, 0.011760731227695942, 0.026680560782551765, 0.013492072932422161, 0.02846546284854412, 0.01390059757977724, 0.38681259751319885, 0.0, 0.0, 0.0, 0.0, 0.0, 0.0, 0.0, 0.0, 0.0, 0.0, 0.0, 0.0, 0.0, 0.0, 0.0, 0.0, 0.0, 0.0, 0.0, 0.0, 0.0, 0.0, 0.0, 0.0, 0.0, 0.0], [0.49680259823799133, 0.06792879104614258, 0.05792003497481346, 0.07101526856422424, 0.06963260471820831, 0.018800102174282074, 0.06757564842700958, 0.06346480548381805, 0.06656695157289505, 0.02029319852590561, 0.0, 0.0, 0.0, 0.0, 0.0, 0.0, 0.0, 0.0, 0.0, 0.0, 0.0, 0.0, 0.0, 0.0, 0.0, 0.0, 0.0, 0.0, 0.0, 0.0, 0.0, 0.0, 0.0, 0.0, 0.0], [0.5176077485084534, 0.08289015293121338, 0.05239766091108322, 0.06842362880706787, 0.046088289469480515, 0.026865942403674126, 0.08181490749120712, 0.03230837732553482, 0.05516279861330986, 0.018549632281064987, 0.01789088360965252, 0.0, 0.0, 0.0, 0.0, 0.0, 0.0, 0.0, 0.0, 0.0, 0.0, 0.0, 0.0, 0.0, 0.0, 0.0, 0.0, 0.0, 0.0, 0.0, 0.0, 0.0, 0.0, 0.0, 0.0], [0.3038182258605957, 0.03185645490884781, 0.02915767766535282, 0.011053645983338356, 0.013536768034100533, 0.016536913812160492, 0.015181961469352245, 0.015511741861701012, 0.026294982060790062, 0.016890998929739, 0.011886652559041977, 0.5082739591598511, 0.0, 0.0, 0.0, 0.0, 0.0, 0.0, 0.0, 0.0, 0.0, 0.0, 0.0, 0.0, 0.0, 0.0, 0.0, 0.0, 0.0, 0.0, 0.0, 0.0, 0.0, 0.0, 0.0], [0.3585989773273468, 0.07880909740924835, 0.05902863293886185, 0.044458650052547455, 0.07822322845458984, 0.019679531455039978, 0.05133119225502014, 0.040098413825035095, 0.08024678379297256, 0.02781190350651741, 0.010250609368085861, 0.1361035406589508, 0.015359459444880486, 0.0, 0.0, 0.0, 0.0, 0.0, 0.0, 0.0, 0.0, 0.0, 0.0, 0.0, 0.0, 0.0, 0.0, 0.0, 0.0, 0.0, 0.0, 0.0, 0.0, 0.0, 0.0], [0.2511677145957947, 0.04623398557305336, 0.027838554233312607, 0.007056489586830139, 0.017244163900613785, 0.008997933939099312, 0.01730993762612343, 0.0099241454154253, 0.2527511417865753, 0.012778292410075665, 0.008546068333089352, 0.04791994392871857, 0.006098272278904915, 0.2861333191394806, 0.0, 0.0, 0.0, 0.0, 0.0, 0.0, 0.0, 0.0, 0.0, 0.0, 0.0, 0.0, 0.0, 0.0, 0.0, 0.0, 0.0, 0.0, 0.0, 0.0, 0.0], [0.39800772070884705, 0.06433822959661484, 0.04979855194687843, 0.05949561670422554, 0.031821127980947495, 0.0307147316634655, 0.058995503932237625, 0.05480392277240753, 0.03919370472431183, 0.03556448221206665, 0.02491646632552147, 0.045719295740127563, 0.016671666875481606, 0.0389430969953537, 0.05101584643125534, 0.0, 0.0, 0.0, 0.0, 0.0, 0.0, 0.0, 0.0, 0.0, 0.0, 0.0, 0.0, 0.0, 0.0, 0.0, 0.0, 0.0, 0.0, 0.0, 0.0], [0.3903382420539856, 0.0754939392209053, 0.03844675049185753, 0.04366777837276459, 0.017820751294493675, 0.012712196446955204, 0.045307260006666183, 0.03603022173047066, 0.0421706847846508, 0.01675303652882576, 0.04224865883588791, 0.0509234219789505, 0.030772089958190918, 0.04072082042694092, 0.05648885294795036, 0.060105275362730026, 0.0, 0.0, 0.0, 0.0, 0.0, 0.0, 0.0, 0.0, 0.0, 0.0, 0.0, 0.0, 0.0, 0.0, 0.0, 0.0, 0.0, 0.0, 0.0], [0.1818235069513321, 0.01822478696703911, 0.01747790165245533, 0.006372254807502031, 0.007922588847577572, 0.010062888264656067, 0.008703160099685192, 0.010297480970621109, 0.015354443341493607, 0.0115381870418787, 0.0070910402573645115, 0.3139553666114807, 0.006019817665219307, 0.015887582674622536, 0.01542200893163681, 0.01318858377635479, 0.34065842628479004, 0.0, 0.0, 0.0, 0.0, 0.0, 0.0, 0.0, 0.0, 0.0, 0.0, 0.0, 0.0, 0.0, 0.0, 0.0, 0.0, 0.0, 0.0], [0.2388143390417099, 0.07684366405010223, 0.048435572534799576, 0.02831975556910038, 0.04297623410820961, 0.01943076401948929, 0.03321719542145729, 0.027472946792840958, 0.018975935876369476, 0.04046749323606491, 0.02009560540318489, 0.0585731640458107, 0.03530573844909668, 0.01969190314412117, 0.0970376506447792, 0.03909805789589882, 0.061994507908821106, 0.09324950724840164, 0.0, 0.0, 0.0, 0.0, 0.0, 0.0, 0.0, 0.0, 0.0, 0.0, 0.0, 0.0, 0.0, 0.0, 0.0, 0.0, 0.0], [0.35636118054389954, 0.043545376509428024, 0.0543937124311924, 0.03599720820784569, 0.055608704686164856, 0.03285680338740349, 0.019443850964307785, 0.06911689788103104, 0.02064944989979267, 0.03360533341765404, 0.027618737891316414, 0.03408000245690346, 0.02684745565056801, 0.020337311550974846, 0.022298937663435936, 0.036227382719516754, 0.034644756466150284, 0.02265501394867897, 0.05371188744902611, 0.0, 0.0, 0.0, 0.0, 0.0, 0.0, 0.0, 0.0, 0.0, 0.0, 0.0, 0.0, 0.0, 0.0, 0.0, 0.0], [0.3967011570930481, 0.051782384514808655, 0.03996191918849945, 0.06630746275186539, 0.045571863651275635, 0.02398340404033661, 0.019396746531128883, 0.02136596292257309, 0.020253779366612434, 0.03685583919286728, 0.009492040611803532, 0.04180999845266342, 0.01449868269264698, 0.01978372037410736, 0.029715221375226974, 0.04631546139717102, 0.0424664206802845, 0.03147520124912262, 0.02202763222157955, 0.020235052332282066, 0.0, 0.0, 0.0, 0.0, 0.0, 0.0, 0.0, 0.0, 0.0, 0.0, 0.0, 0.0, 0.0, 0.0, 0.0], [0.23151397705078125, 0.13258197903633118, 0.06026103347539902, 0.011383590288460255, 0.02426270954310894, 0.014553469605743885, 0.016979560256004333, 0.013957412913441658, 0.022475898265838623, 0.02772129513323307, 0.020607072860002518, 0.04084683209657669, 0.02772321179509163, 0.02455071359872818, 0.038579173386096954, 0.047700997442007065, 0.04407108947634697, 0.07720751315355301, 0.046044737100601196, 0.047733452171087265, 0.029244277626276016, 0.0, 0.0, 0.0, 0.0, 0.0, 0.0, 0.0, 0.0, 0.0, 0.0, 0.0, 0.0, 0.0, 0.0], [0.20264171063899994, 0.048930857330560684, 0.03894680738449097, 0.026632260531187057, 0.040943462401628494, 0.016175048425793648, 0.043880119919776917, 0.04927309602499008, 0.0374428853392601, 0.018747961148619652, 0.010438328608870506, 0.030274199321866035, 0.011668824590742588, 0.03915899991989136, 0.08361911028623581, 0.026806514710187912, 0.03237597271800041, 0.026771068572998047, 0.04136868938803673, 0.04380553215742111, 0.09921547770500183, 0.030883019790053368, 0.0, 0.0, 0.0, 0.0, 0.0, 0.0, 0.0, 0.0, 0.0, 0.0, 0.0, 0.0, 0.0], [0.22999975085258484, 0.029275361448526382, 0.024823686107993126, 0.030747538432478905, 0.024439774453639984, 0.025078171864151955, 0.019048288464546204, 0.041617508977651596, 0.02524641901254654, 0.05536344274878502, 0.013840344734489918, 0.03206312283873558, 0.023373732343316078, 0.026896368712186813, 0.03765584155917168, 0.02870967984199524, 0.03498142585158348, 0.0382692776620388, 0.053048789501190186, 0.07750782370567322, 0.04235750436782837, 0.0629705935716629, 0.022685648873448372, 0.0, 0.0, 0.0, 0.0, 0.0, 0.0, 0.0, 0.0, 0.0, 0.0, 0.0, 0.0], [0.25230076909065247, 0.04309261217713356, 0.04779430106282234, 0.021534811705350876, 0.05364761874079704, 0.014357609674334526, 0.016968199983239174, 0.012399844825267792, 0.028107941150665283, 0.022964557632803917, 0.013637282885611057, 0.034624312072992325, 0.013057560659945011, 0.029753552749753, 0.025925684720277786, 0.03689541295170784, 0.03646586090326309, 0.02009117230772972, 0.034248434007167816, 0.0322706513106823, 0.07516518980264664, 0.033813998103141785, 0.057944510132074356, 0.04293811321258545, 0.0, 0.0, 0.0, 0.0, 0.0, 0.0, 0.0, 0.0, 0.0, 0.0, 0.0], [0.24815592169761658, 0.041838400065898895, 0.03725352883338928, 0.01991417445242405, 0.060311779379844666, 0.013761513866484165, 0.010237006470561028, 0.027118373662233353, 0.02124747447669506, 0.01499642338603735, 0.015956398099660873, 0.019741930067539215, 0.016942838206887245, 0.02278241142630577, 0.021159416064620018, 0.013419797644019127, 0.02113156206905842, 0.01588009111583233, 0.03851577267050743, 0.03509929031133652, 0.06386470049619675, 0.04215892031788826, 0.0559517927467823, 0.06510592252016068, 0.05745464935898781, 0.0, 0.0, 0.0, 0.0, 0.0, 0.0, 0.0, 0.0, 0.0, 0.0], [0.24590620398521423, 0.039794616401195526, 0.034050021320581436, 0.03872010111808777, 0.02834436297416687, 0.02456827461719513, 0.013687249273061752, 0.019880935549736023, 0.017507940530776978, 0.04131213575601578, 0.024649053812026978, 0.0170280821621418, 0.015493785962462425, 0.01803990639746189, 0.02871253527700901, 0.008945342153310776, 0.01785881444811821, 0.029846547171473503, 0.026982221752405167, 0.061192553490400314, 0.039721447974443436, 0.040086906403303146, 0.04656379669904709, 0.046592097729444504, 0.046358149498701096, 0.028156956657767296, 0.0, 0.0, 0.0, 0.0, 0.0, 0.0, 0.0, 0.0, 0.0], [0.24299505352973938, 0.03093666397035122, 0.03728111460804939, 0.02997978776693344, 0.03951823711395264, 0.02068972773849964, 0.024463780224323273, 0.01616225577890873, 0.02351461350917816, 0.015184121206402779, 0.009779495187103748, 0.010400430299341679, 0.008830742910504341, 0.023988915607333183, 0.024419231340289116, 0.03784201294183731, 0.010589986108243465, 0.01336754858493805, 0.016263321042060852, 0.09984055906534195, 0.02563280425965786, 0.027902811765670776, 0.054687805473804474, 0.03170407563447952, 0.02747957594692707, 0.01651724986732006, 0.08002805709838867, 0.0, 0.0, 0.0, 0.0, 0.0, 0.0, 0.0, 0.0], [0.24383299052715302, 0.02178153581917286, 0.019058486446738243, 0.02660839818418026, 0.03740562126040459, 0.02708663046360016, 0.005031605251133442, 0.02665605954825878, 0.017429368570446968, 0.028662465512752533, 0.01215100847184658, 0.030223222449421883, 0.014068301767110825, 0.018160909414291382, 0.015435302630066872, 0.015721837058663368, 0.032153092324733734, 0.024972978979349136, 0.04793378710746765, 0.045990005135536194, 0.031192155554890633, 0.038415271788835526, 0.037881236523389816, 0.034722257405519485, 0.03550752252340317, 0.03336038067936897, 0.05460800603032112, 0.023949550464749336, 0.0, 0.0, 0.0, 0.0, 0.0, 0.0, 0.0], [0.3087879717350006, 0.04082435742020607, 0.010766160674393177, 0.02708975225687027, 0.019433297216892242, 0.03355547785758972, 0.010839528404176235, 0.011495563201606274, 0.011286417953670025, 0.019319284707307816, 0.03442363068461418, 0.01059586089104414, 0.019463732838630676, 0.011577969416975975, 0.014172393828630447, 0.02159341424703598, 0.01056915707886219, 0.01821252331137657, 0.007991206832230091, 0.05231863260269165, 0.019707784056663513, 0.03532518818974495, 0.029598262161016464, 0.028512975201010704, 0.02101977914571762, 0.018976137042045593, 0.031007932499051094, 0.01773696206510067, 0.10379862785339355, 0.0, 0.0, 0.0, 0.0, 0.0, 0.0], [0.11270296573638916, 0.013211611658334732, 0.015115484595298767, 0.008062331937253475, 0.01807504892349243, 0.02026732638478279, 0.009121797047555447, 0.0216544009745121, 0.024600310251116753, 0.012220279313623905, 0.005230673588812351, 0.021195197477936745, 0.007505758665502071, 0.027240080758929253, 0.016828980296850204, 0.009307201951742172, 0.023774147033691406, 0.009840184822678566, 0.023520393297076225, 0.01809619553387165, 0.11592715978622437, 0.008296082727611065, 0.015038426034152508, 0.01626185141503811, 0.022837141528725624, 0.007970294915139675, 0.010346006602048874, 0.013601292856037617, 0.00992316659539938, 0.3622281849384308, 0.0, 0.0, 0.0, 0.0, 0.0], [0.19907142221927643, 0.0233529694378376, 0.027535509318113327, 0.020741205662488937, 0.049442414194345474, 0.0396454855799675, 0.011580480262637138, 0.038496047258377075, 0.012212726287543774, 0.01263486873358488, 0.018897846341133118, 0.011502716690301895, 0.01441795565187931, 0.01285514049232006, 0.01591629534959793, 0.00928435381501913, 0.011929099448025227, 0.014574804343283176, 0.02956235595047474, 0.03092147223651409, 0.0493488609790802, 0.02683301270008087, 0.03316977620124817, 0.02651390992105007, 0.03841780871152878, 0.03666592389345169, 0.03740685433149338, 0.0374491810798645, 0.041813693940639496, 0.04080498591065407, 0.027000792324543, 0.0, 0.0, 0.0, 0.0], [0.1358085572719574, 0.02159820683300495, 0.028431443497538567, 0.021366789937019348, 0.03184177726507187, 0.028310764580965042, 0.01123244222253561, 0.016139334067702293, 0.023436736315488815, 0.02514427714049816, 0.012804516591131687, 0.012000497430562973, 0.020912282168865204, 0.02500329725444317, 0.027692237868905067, 0.017305932939052582, 0.012859735637903214, 0.016066301614046097, 0.03279000520706177, 0.038290273398160934, 0.06080477684736252, 0.03674997761845589, 0.0352473221719265, 0.038578011095523834, 0.039048146456480026, 0.03664339333772659, 0.014530430547893047, 0.02163226716220379, 0.010491001419723034, 0.06733927130699158, 0.038672856986522675, 0.04122711345553398, 0.0, 0.0, 0.0], [0.13088135421276093, 0.023744329810142517, 0.020114336162805557, 0.00970239657908678, 0.02695222944021225, 0.0135911013931036, 0.009517530910670757, 0.01327170617878437, 0.027617914602160454, 0.011498374864459038, 0.008886144496500492, 0.016865810379385948, 0.009971984662115574, 0.03131861984729767, 0.014953812584280968, 0.01563660055398941, 0.018755869939923286, 0.008822468109428883, 0.024258319288492203, 0.018599873408675194, 0.06659717857837677, 0.023935332894325256, 0.030215024948120117, 0.03847970813512802, 0.0605478473007679, 0.03886096924543381, 0.021039558574557304, 0.026919959113001823, 0.030786724761128426, 0.06339393556118011, 0.05302291736006737, 0.07499752193689346, 0.016242537647485733, 0.0, 0.0], [0.2167952060699463, 0.035239387303590775, 0.014480582438409328, 0.03231681510806084, 0.02150270715355873, 0.019766852259635925, 0.0077169653959572315, 0.03142577409744263, 0.011421251110732555, 0.03985080122947693, 0.005697548855096102, 0.013826761394739151, 0.011217726394534111, 0.011028866283595562, 0.014342347159981728, 0.01669159159064293, 0.013800653629004955, 0.009054167196154594, 0.01655157469213009, 0.045164503157138824, 0.01674339547753334, 0.04049496725201607, 0.04600659757852554, 0.039180245250463486, 0.020771794021129608, 0.04241836443543434, 0.029444053769111633, 0.01654653437435627, 0.0433904267847538, 0.018028810620307922, 0.01749301701784134, 0.031954456120729446, 0.023179979994893074, 0.026455219835042953, 0.0], [0.12406577169895172, 0.055755194276571274, 0.025793103501200676, 0.007745690643787384, 0.019214726984500885, 0.01187240518629551, 0.009303717873990536, 0.015842614695429802, 0.012728427536785603, 0.01288825273513794, 0.013962880708277225, 0.016627248376607895, 0.015507101081311703, 0.013195225037634373, 0.01732509396970272, 0.02114797756075859, 0.017335498705506325, 0.015824299305677414, 0.024794377386569977, 0.011903032660484314, 0.03651025518774986, 0.023874742910265923, 0.04022136330604553, 0.0628603845834732, 0.10149349272251129, 0.05332260951399803, 0.02168961986899376, 0.018244288861751556, 0.008406993933022022, 0.02320230007171631, 0.049604158848524094, 0.020869310945272446, 0.016017967835068703, 0.01110194530338049, 0.04974793270230293]], [[1.0, 0.0, 0.0, 0.0, 0.0, 0.0, 0.0, 0.0, 0.0, 0.0, 0.0, 0.0, 0.0, 0.0, 0.0, 0.0, 0.0, 0.0, 0.0, 0.0, 0.0, 0.0, 0.0, 0.0, 0.0, 0.0, 0.0, 0.0, 0.0, 0.0, 0.0, 0.0, 0.0, 0.0, 0.0], [0.10778003185987473, 0.8922199010848999, 0.0, 0.0, 0.0, 0.0, 0.0, 0.0, 0.0, 0.0, 0.0, 0.0, 0.0, 0.0, 0.0, 0.0, 0.0, 0.0, 0.0, 0.0, 0.0, 0.0, 0.0, 0.0, 0.0, 0.0, 0.0, 0.0, 0.0, 0.0, 0.0, 0.0, 0.0, 0.0, 0.0], [0.011847440153360367, 0.5536141991615295, 0.434538334608078, 0.0, 0.0, 0.0, 0.0, 0.0, 0.0, 0.0, 0.0, 0.0, 0.0, 0.0, 0.0, 0.0, 0.0, 0.0, 0.0, 0.0, 0.0, 0.0, 0.0, 0.0, 0.0, 0.0, 0.0, 0.0, 0.0, 0.0, 0.0, 0.0, 0.0, 0.0, 0.0], [0.06322262436151505, 0.02171914465725422, 0.09427285194396973, 0.8207854628562927, 0.0, 0.0, 0.0, 0.0, 0.0, 0.0, 0.0, 0.0, 0.0, 0.0, 0.0, 0.0, 0.0, 0.0, 0.0, 0.0, 0.0, 0.0, 0.0, 0.0, 0.0, 0.0, 0.0, 0.0, 0.0, 0.0, 0.0, 0.0, 0.0, 0.0, 0.0], [0.005095744971185923, 0.000534875551238656, 0.0010105498367920518, 0.004657570738345385, 0.9887012243270874, 0.0, 0.0, 0.0, 0.0, 0.0, 0.0, 0.0, 0.0, 0.0, 0.0, 0.0, 0.0, 0.0, 0.0, 0.0, 0.0, 0.0, 0.0, 0.0, 0.0, 0.0, 0.0, 0.0, 0.0, 0.0, 0.0, 0.0, 0.0, 0.0, 0.0], [0.00558595871552825, 0.000302401022054255, 0.0007955087930895388, 0.0006780334515497088, 0.028760118409991264, 0.9638779759407043, 0.0, 0.0, 0.0, 0.0, 0.0, 0.0, 0.0, 0.0, 0.0, 0.0, 0.0, 0.0, 0.0, 0.0, 0.0, 0.0, 0.0, 0.0, 0.0, 0.0, 0.0, 0.0, 0.0, 0.0, 0.0, 0.0, 0.0, 0.0, 0.0], [0.0002665734791662544, 0.0001539620861876756, 4.344211993156932e-05, 0.00031633899197913706, 0.007582381833344698, 0.008635704405605793, 0.9830015897750854, 0.0, 0.0, 0.0, 0.0, 0.0, 0.0, 0.0, 0.0, 0.0, 0.0, 0.0, 0.0, 0.0, 0.0, 0.0, 0.0, 0.0, 0.0, 0.0, 0.0, 0.0, 0.0, 0.0, 0.0, 0.0, 0.0, 0.0, 0.0], [0.0006940615130588412, 4.833178536500782e-05, 4.511346196522936e-05, 2.3520820832345635e-05, 0.002237764187157154, 0.0012080521555617452, 0.009321355260908604, 0.9864218235015869, 0.0, 0.0, 0.0, 0.0, 0.0, 0.0, 0.0, 0.0, 0.0, 0.0, 0.0, 0.0, 0.0, 0.0, 0.0, 0.0, 0.0, 0.0, 0.0, 0.0, 0.0, 0.0, 0.0, 0.0, 0.0, 0.0, 0.0], [0.04771989956498146, 0.006346916779875755, 0.005507625173777342, 0.012776730582118034, 0.012552594766020775, 0.012200534343719482, 0.007760598324239254, 0.017114857211709023, 0.878020167350769, 0.0, 0.0, 0.0, 0.0, 0.0, 0.0, 0.0, 0.0, 0.0, 0.0, 0.0, 0.0, 0.0, 0.0, 0.0, 0.0, 0.0, 0.0, 0.0, 0.0, 0.0, 0.0, 0.0, 0.0, 0.0, 0.0], [9.403799049323425e-05, 7.299134949789732e-07, 1.2948560197401093e-06, 1.004057139653014e-06, 1.5192441424005665e-05, 3.6095214454689994e-05, 3.1514402508037165e-05, 0.0010808263905346394, 4.2368457798147574e-05, 0.9986969828605652, 0.0, 0.0, 0.0, 0.0, 0.0, 0.0, 0.0, 0.0, 0.0, 0.0, 0.0, 0.0, 0.0, 0.0, 0.0, 0.0, 0.0, 0.0, 0.0, 0.0, 0.0, 0.0, 0.0, 0.0, 0.0], [0.0002984421735163778, 1.0225177902611904e-05, 2.077383760479279e-05, 1.0716732504079118e-05, 7.4538285844028e-05, 0.00016580545343458652, 0.0013668584870174527, 0.0025834841653704643, 5.024065467296168e-05, 0.32439541816711426, 0.6710234880447388, 0.0, 0.0, 0.0, 0.0, 0.0, 0.0, 0.0, 0.0, 0.0, 0.0, 0.0, 0.0, 0.0, 0.0, 0.0, 0.0, 0.0, 0.0, 0.0, 0.0, 0.0, 0.0, 0.0, 0.0], [0.009233687072992325, 0.0007820434984751046, 0.0006810438935644925, 0.0018207888351753354, 0.004383385181427002, 0.017509136348962784, 0.0033242511563003063, 0.017607446759939194, 0.08099658787250519, 0.10943038016557693, 0.014291895553469658, 0.7399393916130066, 0.0, 0.0, 0.0, 0.0, 0.0, 0.0, 0.0, 0.0, 0.0, 0.0, 0.0, 0.0, 0.0, 0.0, 0.0, 0.0, 0.0, 0.0, 0.0, 0.0, 0.0, 0.0, 0.0], [0.0002393030736129731, 3.3237947718589567e-06, 2.2832835384178907e-05, 1.0244747500109952e-05, 1.0253632353851572e-05, 4.4964101107325405e-05, 2.3576663807034492e-05, 6.216631300048903e-05, 0.0003292960172984749, 0.008749553933739662, 0.001878876704722643, 0.0014183479361236095, 0.9872072339057922, 0.0, 0.0, 0.0, 0.0, 0.0, 0.0, 0.0, 0.0, 0.0, 0.0, 0.0, 0.0, 0.0, 0.0, 0.0, 0.0, 0.0, 0.0, 0.0, 0.0, 0.0, 0.0], [0.01229534950107336, 0.0005298616597428918, 0.00035605067387223244, 0.0006006719777360559, 0.0005327538237906992, 0.0005349716520868242, 0.00034733538632281125, 0.0008671170799061656, 0.0343230701982975, 0.013273635879158974, 0.007531201001256704, 0.059417933225631714, 0.09377512335777283, 0.7756149172782898, 0.0, 0.0, 0.0, 0.0, 0.0, 0.0, 0.0, 0.0, 0.0, 0.0, 0.0, 0.0, 0.0, 0.0, 0.0, 0.0, 0.0, 0.0, 0.0, 0.0, 0.0], [7.850887777749449e-05, 1.1863369763887022e-05, 5.970541224087356e-06, 4.359472768555861e-06, 6.933053555258084e-06, 5.567330663325265e-05, 8.762044672039337e-06, 2.2130047000246122e-05, 0.00022238315432332456, 0.0002802505623549223, 0.0008127280743792653, 0.0015677311457693577, 0.00018956427811644971, 0.0058794207870960236, 0.9908536672592163, 0.0, 0.0, 0.0, 0.0, 0.0, 0.0, 0.0, 0.0, 0.0, 0.0, 0.0, 0.0, 0.0, 0.0, 0.0, 0.0, 0.0, 0.0, 0.0, 0.0], [9.475018305238336e-05, 8.603476999269333e-06, 3.7448630791914184e-06, 1.4634224498877302e-07, 2.701741550481529e-06, 1.141736993304221e-05, 8.620847438578494e-06, 9.928114013746381e-05, 3.119514076388441e-06, 0.00022620831441599876, 0.0005323361838236451, 2.9804918085574172e-05, 0.0013675662921741605, 5.10800709889736e-05, 0.009570826776325703, 0.9879898428916931, 0.0, 0.0, 0.0, 0.0, 0.0, 0.0, 0.0, 0.0, 0.0, 0.0, 0.0, 0.0, 0.0, 0.0, 0.0, 0.0, 0.0, 0.0, 0.0], [0.003944707568734884, 0.0001302912860410288, 9.947702346835285e-05, 0.00019776368571911007, 0.00042658415623009205, 0.0014889846788719296, 0.0002834682527463883, 0.001535671530291438, 0.004810089711099863, 0.005567716434597969, 0.0010473588481545448, 0.04082651808857918, 0.009189028292894363, 0.09278514236211777, 0.01585300639271736, 0.027940858155488968, 0.7938734292984009, 0.0, 0.0, 0.0, 0.0, 0.0, 0.0, 0.0, 0.0, 0.0, 0.0, 0.0, 0.0, 0.0, 0.0, 0.0, 0.0, 0.0, 0.0], [0.00021723686950281262, 2.3531249098596163e-05, 7.806306712154765e-06, 4.732967227027984e-06, 1.5671267874495243e-06, 8.667434485687409e-06, 1.2646282812056597e-05, 6.129294342827052e-05, 0.00018869491759687662, 0.0005901307449676096, 0.00042056760867126286, 0.0009746536379680037, 0.00042177821160294116, 0.004066719673573971, 0.001442245556972921, 0.011960039846599102, 0.02240201085805893, 0.9571956396102905, 0.0, 0.0, 0.0, 0.0, 0.0, 0.0, 0.0, 0.0, 0.0, 0.0, 0.0, 0.0, 0.0, 0.0, 0.0, 0.0, 0.0], [0.0007360449526458979, 3.0168239391059615e-06, 1.3554752058553277e-06, 1.4014691487318487e-06, 3.387712058611214e-05, 3.7522881029872224e-05, 1.0748701242846437e-05, 0.00043027111678384244, 1.6196763681364246e-05, 0.0006748262094333768, 0.0005265922518447042, 0.00012409142800606787, 4.71071653009858e-05, 0.00024138184380717576, 0.0006886579794809222, 0.0003870207874570042, 0.002144157886505127, 0.0017651690868660808, 0.9921305775642395, 0.0, 0.0, 0.0, 0.0, 0.0, 0.0, 0.0, 0.0, 0.0, 0.0, 0.0, 0.0, 0.0, 0.0, 0.0, 0.0], [6.529814982059179e-06, 4.013174681460896e-09, 4.275890752580835e-09, 9.052354421612563e-09, 5.135176479598158e-07, 3.7317665828595636e-06, 1.4824242100530682e-07, 4.6551272134820465e-06, 1.663049964406582e-08, 3.029677600352443e-06, 3.191981159034185e-05, 1.4017453509040934e-07, 4.954933956469176e-07, 2.367105196299235e-07, 7.952932605803653e-07, 0.00018607274978421628, 2.446675580358715e-06, 1.1982287105638534e-05, 0.0005082334391772747, 0.9992390871047974, 0.0, 0.0, 0.0, 0.0, 0.0, 0.0, 0.0, 0.0, 0.0, 0.0, 0.0, 0.0, 0.0, 0.0, 0.0], [0.009417891502380371, 0.00017362406651955098, 0.00019593238539528102, 0.00010542458767304197, 0.00012100101594114676, 0.00013750363723374903, 0.00020822313672397286, 0.00026208790950477123, 0.0009803808061406016, 0.0001742520835250616, 0.001331393257714808, 0.0032773069106042385, 0.004840622656047344, 0.012378786690533161, 0.0018258990021422505, 0.024282030761241913, 0.054799675941467285, 0.07428488880395889, 0.07759267836809158, 0.10845337808132172, 0.6251569986343384, 0.0, 0.0, 0.0, 0.0, 0.0, 0.0, 0.0, 0.0, 0.0, 0.0, 0.0, 0.0, 0.0, 0.0], [0.0001788632944226265, 2.97178257824271e-06, 1.287924305870547e-06, 1.661971055000322e-06, 3.153397528876667e-06, 7.608561645611189e-06, 4.480571362819319e-07, 4.628855549526634e-06, 4.462084689293988e-06, 4.640824954549316e-06, 4.678133336710744e-06, 2.2255213480093516e-05, 0.0006885047187097371, 5.880861499463208e-05, 5.511297786142677e-05, 0.0013147693825885653, 0.0004210418846923858, 0.000527929631061852, 0.00030591600807383657, 0.0011363031808286905, 0.004935148172080517, 0.9903199076652527, 0.0, 0.0, 0.0, 0.0, 0.0, 0.0, 0.0, 0.0, 0.0, 0.0, 0.0, 0.0, 0.0], [0.0009000818245112896, 3.46090855600778e-05, 6.000087523716502e-06, 1.3317927596290247e-06, 8.38242340250872e-06, 7.950181498017628e-06, 8.352956228918629e-07, 5.017455350753153e-06, 1.108555261453148e-05, 1.5506169802392833e-05, 2.244969073217362e-05, 3.2394586014561355e-05, 7.153368642320856e-05, 0.00011106150486739352, 6.552063041453948e-06, 3.557855961844325e-05, 0.00046084230416454375, 0.0006021021399646997, 0.007735580671578646, 0.0047313859686255455, 0.012920131906867027, 0.016999131068587303, 0.9552805423736572, 0.0, 0.0, 0.0, 0.0, 0.0, 0.0, 0.0, 0.0, 0.0, 0.0, 0.0, 0.0], [8.094513032119721e-05, 5.419524677563459e-05, 2.1191046471358277e-05, 8.660334174237505e-07, 5.241397047939245e-06, 2.81139887192694e-06, 9.647656042943709e-07, 4.259624347469071e-06, 6.819952886871761e-06, 2.6370105388195952e-06, 1.038734262692742e-05, 3.1177736673271284e-05, 2.5747023755684495e-05, 8.829349826555699e-05, 0.00010530055442359298, 0.00037444717600010335, 0.000583378248848021, 0.000901934108696878, 0.0004312012461014092, 0.0049911197274923325, 0.0035159268882125616, 0.015127467922866344, 0.018385011702775955, 0.9552487730979919, 0.0, 0.0, 0.0, 0.0, 0.0, 0.0, 0.0, 0.0, 0.0, 0.0, 0.0], [0.00019926734967157245, 5.897880441807501e-07, 4.093071765964851e-07, 5.283640120978816e-07, 4.0437271309201606e-07, 6.811440016463166e-07, 2.501953701994353e-07, 3.1909843301036744e-07, 5.017991043132497e-06, 3.0599273941334104e-06, 4.7768617150723e-06, 8.106227141979616e-06, 1.7870992451207712e-05, 5.904932550038211e-05, 7.019496479188092e-06, 5.101937131257728e-05, 0.000154196415678598, 0.0001555776543682441, 0.00046309444587677717, 0.0001873668807093054, 0.0029354470316320658, 0.0069986856542527676, 0.004895051009953022, 0.010302466340363026, 0.9735496640205383, 0.0, 0.0, 0.0, 0.0, 0.0, 0.0, 0.0, 0.0, 0.0, 0.0], [4.0418952266918495e-05, 7.668172763430903e-09, 6.183969247786081e-08, 4.1099543324207843e-08, 3.161342476687423e-07, 1.0004049499912071e-07, 6.658518003632707e-08, 4.78026777273044e-07, 4.035153366999111e-08, 6.753236448275857e-06, 8.574267695848903e-08, 1.0514231973957067e-07, 3.2702735097700497e-06, 4.896555196864938e-07, 1.2450353779058787e-06, 9.06984496396035e-06, 2.0693112219305476e-06, 8.541710485587828e-06, 4.513621024671011e-05, 8.528187754563987e-05, 8.476262155454606e-05, 0.0010267909383401275, 0.001334778848104179, 0.000296006997814402, 0.005626790691167116, 0.9914274215698242, 0.0, 0.0, 0.0, 0.0, 0.0, 0.0, 0.0, 0.0, 0.0], [0.0003747466835193336, 1.24301294590623e-07, 2.5229184075215016e-07, 3.052454928820225e-07, 4.772520696860738e-06, 6.075460419197043e-07, 8.501729666932079e-07, 1.1030846508219838e-05, 8.098998449668215e-08, 9.651313348513213e-07, 7.193351621026522e-07, 3.2339383437829383e-07, 1.760544478202064e-06, 4.4468265514296945e-07, 3.2987725262501044e-07, 2.4300325094372965e-05, 3.6642684335674858e-06, 3.0616429285146296e-06, 2.627130743348971e-05, 0.0003426713519729674, 2.0788200345123187e-05, 0.00013409749954007566, 0.000304724439047277, 9.803617285797372e-05, 0.0004919694038107991, 0.004237075801938772, 0.9939160943031311, 0.0, 0.0, 0.0, 0.0, 0.0, 0.0, 0.0, 0.0], [0.0002319765480933711, 7.363630061263393e-07, 1.0658059181878343e-06, 4.7498031108261785e-07, 2.1877929157199105e-06, 2.074173607979901e-06, 1.384211998356477e-07, 2.51064807343937e-06, 1.9715992038982222e-07, 6.67200083626085e-06, 8.991812592284987e-07, 6.362197382259183e-07, 6.544802886310208e-07, 7.717989660704916e-07, 4.801897830475355e-07, 1.112231893785065e-05, 5.561920261243358e-06, 3.862761786876945e-06, 6.753717025276273e-05, 0.0002897954545915127, 4.372503826743923e-05, 0.00015209012781269848, 0.0009337736410088837, 0.0001815940486267209, 8.42330337036401e-05, 0.009933865629136562, 0.008723159320652485, 0.979318380355835, 0.0, 0.0, 0.0, 0.0, 0.0, 0.0, 0.0], [0.00015704930410720408, 3.123189458165143e-07, 2.9319426175788976e-07, 3.1371658337775443e-07, 2.196094328610343e-06, 1.4164426147544873e-06, 1.1236412547077634e-06, 1.3091810160403838e-06, 5.921515011664269e-08, 7.978089229254692e-07, 2.803684992613853e-06, 1.9766959269418294e-07, 3.994022108599893e-07, 2.3049059905133618e-07, 2.2642570911557414e-06, 1.6729492926970124e-05, 1.6667632962708012e-06, 2.872546701837564e-06, 2.4946943085524254e-05, 0.000255328108323738, 4.849704055231996e-06, 4.708065534941852e-05, 5.325675374479033e-05, 4.240341513650492e-05, 0.0002087491739075631, 0.0020438136998564005, 0.08346714824438095, 0.003673007944598794, 0.9099873304367065, 0.0, 0.0, 0.0, 0.0, 0.0, 0.0], [0.0010030753910541534, 7.605900009366451e-06, 5.47889885638142e-06, 4.704082584794378e-06, 1.08182439362281e-06, 7.246849236253183e-07, 6.057198334019631e-07, 1.5847847407712834e-06, 3.183094668202102e-05, 1.844483222157578e-06, 1.3723778238272644e-06, 6.841019512648927e-06, 4.9961076911131386e-06, 0.00014220448792912066, 2.102596681652358e-06, 2.046109875664115e-05, 6.875464896438643e-05, 8.339458145201206e-05, 7.060819916659966e-05, 0.00022270008048508316, 0.0013453519204631448, 0.0011953123612329364, 0.0007637690287083387, 0.003412766382098198, 0.009595134295523167, 0.00824595708400011, 0.0040284073911607265, 0.015673460438847542, 0.03710906580090523, 0.916948676109314, 0.0, 0.0, 0.0, 0.0, 0.0], [0.00014598036068491638, 1.3442408430819341e-07, 3.067958687097416e-07, 1.2700814977506525e-07, 9.539689216353509e-08, 4.421364963036467e-08, 7.270931856595553e-09, 2.1630563651342527e-07, 1.7861739820546063e-07, 1.1440925362649068e-07, 4.546686227513419e-08, 1.1406661570845245e-07, 1.7846281252786866e-07, 8.568705993639014e-07, 1.0497461744307657e-07, 1.2474886261770735e-06, 1.1682639069476863e-06, 6.484983714472037e-07, 9.923028301273007e-06, 2.663555096660275e-05, 2.1480973373400047e-05, 7.192339398898184e-05, 0.00015873301890678704, 0.00014563203149009496, 0.002426166320219636, 0.0015144888311624527, 0.0007063159137032926, 0.0022442799527198076, 0.0045668077655136585, 0.009832319803535938, 0.9781237244606018, 0.0, 0.0, 0.0, 0.0], [1.0698753612814471e-05, 5.128419644506721e-08, 7.382487865470466e-08, 9.797534517019812e-08, 4.94486982915987e-07, 6.269718824114534e-07, 2.6257296781295736e-07, 7.36192021122406e-07, 2.5101189748966135e-07, 2.1764835764770396e-06, 5.363737045627204e-07, 8.606891128692951e-07, 2.1515769788038597e-07, 1.0358788813391584e-06, 2.4895066985664016e-07, 1.3481017958838493e-05, 8.521083145751618e-06, 5.14849216415314e-06, 4.645078206522157e-06, 1.683262780716177e-05, 5.864640115760267e-05, 3.652445593615994e-05, 0.00016485714877489954, 1.1945001460844651e-05, 0.0005173984100110829, 0.0024279041681438684, 0.00034773506922647357, 0.0015964038902893662, 0.009022926911711693, 0.013163723051548004, 0.06333822011947632, 0.9092468023300171, 0.0, 0.0, 0.0], [0.0012287312420085073, 8.407650966546498e-06, 8.36396066006273e-06, 8.199028343369719e-06, 3.972179001721088e-06, 3.987272975791711e-06, 1.5942514437483624e-06, 4.764991899719462e-06, 4.461919616005616e-06, 8.69920950208325e-06, 3.482298097878811e-06, 4.0872232602851e-06, 4.3831860239151865e-06, 1.2878711459052283e-05, 2.764997361737187e-06, 1.1550822819117457e-05, 2.8508407922345214e-05, 1.972621066670399e-05, 8.007964061107486e-05, 0.00016381568275392056, 0.00027661025524139404, 0.00048299733316525817, 0.000590301351621747, 0.0011750616831704974, 0.0034667097497731447, 0.005802724044770002, 0.011907555162906647, 0.01695297099649906, 0.02846650406718254, 0.061375752091407776, 0.11517596989870071, 0.20177724957466125, 0.5509371161460876, 0.0, 0.0], [3.782529165619053e-05, 6.459638512978927e-08, 1.9273654672247176e-08, 7.975812366112223e-08, 6.700336712128774e-07, 1.246436056590028e-07, 3.072176824048256e-08, 3.367149190580676e-07, 9.954005264489751e-08, 4.5415245608637633e-07, 3.406016446660942e-08, 1.7256137141430372e-07, 3.359028539762221e-07, 3.256336924550851e-07, 1.1636627661459897e-08, 3.2042157727119047e-06, 1.2533525932667544e-06, 1.7663072640061728e-06, 1.1125961464131251e-05, 2.0410294382600114e-05, 8.103446816676296e-06, 1.288108524022391e-05, 0.0001419320615241304, 1.1411115337978117e-05, 0.00010671347263269126, 0.00010951125295832753, 0.001792712602764368, 0.0015404956648126245, 0.0012465228792279959, 0.0015975888818502426, 0.0008927059243433177, 0.009557017125189304, 0.009279956109821796, 0.9736242294311523, 0.0], [0.0003539696044754237, 2.6440397959959228e-06, 1.7576138588992762e-06, 1.234809019479144e-06, 5.949707883701194e-06, 1.3091880646243226e-06, 3.3621063266764395e-07, 2.4850552904354117e-07, 6.705453188260435e-07, 6.699504950802293e-08, 6.061916906219267e-07, 4.6190581315386225e-07, 2.3573252292408142e-06, 1.4622205526393373e-06, 2.9763668862869963e-07, 1.6005758425308159e-06, 2.460903942846926e-06, 1.9317219539516373e-06, 3.2001476938603446e-05, 2.4651970306877047e-05, 3.4296379453735426e-05, 0.00016550840518902987, 7.883966463850811e-05, 0.00018387149611953646, 0.0011651525273919106, 0.00012255342153366655, 0.0011725190561264753, 0.0004984783008694649, 0.003501479746773839, 0.003400745801627636, 0.011839515529572964, 0.005179085303097963, 0.016713853925466537, 0.029127653688192368, 0.9263803958892822]], [[1.0, 0.0, 0.0, 0.0, 0.0, 0.0, 0.0, 0.0, 0.0, 0.0, 0.0, 0.0, 0.0, 0.0, 0.0, 0.0, 0.0, 0.0, 0.0, 0.0, 0.0, 0.0, 0.0, 0.0, 0.0, 0.0, 0.0, 0.0, 0.0, 0.0, 0.0, 0.0, 0.0, 0.0, 0.0], [0.9238101243972778, 0.07618986815214157, 0.0, 0.0, 0.0, 0.0, 0.0, 0.0, 0.0, 0.0, 0.0, 0.0, 0.0, 0.0, 0.0, 0.0, 0.0, 0.0, 0.0, 0.0, 0.0, 0.0, 0.0, 0.0, 0.0, 0.0, 0.0, 0.0, 0.0, 0.0, 0.0, 0.0, 0.0, 0.0, 0.0], [0.37589237093925476, 0.10050594061613083, 0.5236017107963562, 0.0, 0.0, 0.0, 0.0, 0.0, 0.0, 0.0, 0.0, 0.0, 0.0, 0.0, 0.0, 0.0, 0.0, 0.0, 0.0, 0.0, 0.0, 0.0, 0.0, 0.0, 0.0, 0.0, 0.0, 0.0, 0.0, 0.0, 0.0, 0.0, 0.0, 0.0, 0.0], [0.41213732957839966, 0.0823158398270607, 0.1808476746082306, 0.32469916343688965, 0.0, 0.0, 0.0, 0.0, 0.0, 0.0, 0.0, 0.0, 0.0, 0.0, 0.0, 0.0, 0.0, 0.0, 0.0, 0.0, 0.0, 0.0, 0.0, 0.0, 0.0, 0.0, 0.0, 0.0, 0.0, 0.0, 0.0, 0.0, 0.0, 0.0, 0.0], [0.14052283763885498, 0.0058123101480305195, 0.028276385739445686, 0.057330358773469925, 0.7680581212043762, 0.0, 0.0, 0.0, 0.0, 0.0, 0.0, 0.0, 0.0, 0.0, 0.0, 0.0, 0.0, 0.0, 0.0, 0.0, 0.0, 0.0, 0.0, 0.0, 0.0, 0.0, 0.0, 0.0, 0.0, 0.0, 0.0, 0.0, 0.0, 0.0, 0.0], [0.019230686128139496, 0.0014746810775250196, 0.0016810804372653365, 0.004905837122350931, 0.02590656280517578, 0.9468011260032654, 0.0, 0.0, 0.0, 0.0, 0.0, 0.0, 0.0, 0.0, 0.0, 0.0, 0.0, 0.0, 0.0, 0.0, 0.0, 0.0, 0.0, 0.0, 0.0, 0.0, 0.0, 0.0, 0.0, 0.0, 0.0, 0.0, 0.0, 0.0, 0.0], [0.006040884181857109, 0.004658225923776627, 0.01286504790186882, 0.008953888900578022, 0.0702168196439743, 0.12025348842144012, 0.7770116925239563, 0.0, 0.0, 0.0, 0.0, 0.0, 0.0, 0.0, 0.0, 0.0, 0.0, 0.0, 0.0, 0.0, 0.0, 0.0, 0.0, 0.0, 0.0, 0.0, 0.0, 0.0, 0.0, 0.0, 0.0, 0.0, 0.0, 0.0, 0.0], [0.01624826155602932, 0.003929378464818001, 0.01283665094524622, 0.005099623464047909, 0.017354179173707962, 0.015599321573972702, 0.13602767884731293, 0.7929048538208008, 0.0, 0.0, 0.0, 0.0, 0.0, 0.0, 0.0, 0.0, 0.0, 0.0, 0.0, 0.0, 0.0, 0.0, 0.0, 0.0, 0.0, 0.0, 0.0, 0.0, 0.0, 0.0, 0.0, 0.0, 0.0, 0.0, 0.0], [0.13423295319080353, 0.07014793902635574, 0.03862922266125679, 0.03592691197991371, 0.05720484256744385, 0.06419356167316437, 0.03908979147672653, 0.21457332372665405, 0.34600141644477844, 0.0, 0.0, 0.0, 0.0, 0.0, 0.0, 0.0, 0.0, 0.0, 0.0, 0.0, 0.0, 0.0, 0.0, 0.0, 0.0, 0.0, 0.0, 0.0, 0.0, 0.0, 0.0, 0.0, 0.0, 0.0, 0.0], [0.003595880465582013, 0.000384950457373634, 0.0004921666695736349, 0.0008088790345937014, 0.002590099349617958, 0.002407653024420142, 0.00017131850472651422, 0.01115301251411438, 0.0021147809457033873, 0.9762812852859497, 0.0, 0.0, 0.0, 0.0, 0.0, 0.0, 0.0, 0.0, 0.0, 0.0, 0.0, 0.0, 0.0, 0.0, 0.0, 0.0, 0.0, 0.0, 0.0, 0.0, 0.0, 0.0, 0.0, 0.0, 0.0], [0.0002283449866808951, 4.6662473323522136e-05, 8.206461643567309e-05, 7.730666402494535e-05, 0.00012034232349833474, 0.004319246392697096, 0.003844221355393529, 0.0011964993318542838, 0.0001644693111302331, 0.8530563116073608, 0.13686445355415344, 0.0, 0.0, 0.0, 0.0, 0.0, 0.0, 0.0, 0.0, 0.0, 0.0, 0.0, 0.0, 0.0, 0.0, 0.0, 0.0, 0.0, 0.0, 0.0, 0.0, 0.0, 0.0, 0.0, 0.0], [0.06578908115625381, 0.019290776923298836, 0.020492704585194588, 0.021956786513328552, 0.026686696335673332, 0.08618339151144028, 0.03104090690612793, 0.16103023290634155, 0.030162546783685684, 0.21323677897453308, 0.0755448117852211, 0.2485852837562561, 0.0, 0.0, 0.0, 0.0, 0.0, 0.0, 0.0, 0.0, 0.0, 0.0, 0.0, 0.0, 0.0, 0.0, 0.0, 0.0, 0.0, 0.0, 0.0, 0.0, 0.0, 0.0, 0.0], [0.009123367257416248, 0.0033993152901530266, 0.01681826449930668, 0.004648812580853701, 0.014602276496589184, 0.05833256617188454, 0.07909013330936432, 0.01766362600028515, 0.016087274998426437, 0.15053577721118927, 0.33433887362480164, 0.05438896268606186, 0.24097079038619995, 0.0, 0.0, 0.0, 0.0, 0.0, 0.0, 0.0, 0.0, 0.0, 0.0, 0.0, 0.0, 0.0, 0.0, 0.0, 0.0, 0.0, 0.0, 0.0, 0.0, 0.0, 0.0], [0.04253437742590904, 0.016550585627555847, 0.007813410833477974, 0.006833470892161131, 0.009650967083871365, 0.009173315018415451, 0.005910308100283146, 0.03009309247136116, 0.05324168875813484, 0.03575889766216278, 0.1196868047118187, 0.07133744657039642, 0.2969222068786621, 0.2944934666156769, 0.0, 0.0, 0.0, 0.0, 0.0, 0.0, 0.0, 0.0, 0.0, 0.0, 0.0, 0.0, 0.0, 0.0, 0.0, 0.0, 0.0, 0.0, 0.0, 0.0, 0.0], [0.010158025659620762, 0.004377412144094706, 0.0065031819976866245, 0.003546682884916663, 0.006157048046588898, 0.005149815697222948, 0.004158245865255594, 0.014994002878665924, 0.017724109813570976, 0.00860963761806488, 0.013557272031903267, 0.027689805254340172, 0.027776112779974937, 0.08518608659505844, 0.7644126415252686, 0.0, 0.0, 0.0, 0.0, 0.0, 0.0, 0.0, 0.0, 0.0, 0.0, 0.0, 0.0, 0.0, 0.0, 0.0, 0.0, 0.0, 0.0, 0.0, 0.0], [0.0005760935600847006, 3.758488310268149e-05, 3.10057403112296e-05, 2.809088800859172e-05, 0.00011757229367503896, 0.0010626498842611909, 0.0008489795145578682, 0.0023644298780709505, 0.00031711842166259885, 0.0005040704854764044, 0.000543896690942347, 0.0009964661439880729, 0.004787205718457699, 0.001658216118812561, 0.021181121468544006, 0.9649454951286316, 0.0, 0.0, 0.0, 0.0, 0.0, 0.0, 0.0, 0.0, 0.0, 0.0, 0.0, 0.0, 0.0, 0.0, 0.0, 0.0, 0.0, 0.0, 0.0], [0.05710107833147049, 0.012982730753719807, 0.01246335543692112, 0.012371198274195194, 0.013064754195511341, 0.03530248627066612, 0.013208812102675438, 0.06362833082675934, 0.01058889552950859, 0.061131998896598816, 0.027357185259461403, 0.08200790733098984, 0.039974600076675415, 0.0430283360183239, 0.06893416494131088, 0.06733899563550949, 0.37951523065567017, 0.0, 0.0, 0.0, 0.0, 0.0, 0.0, 0.0, 0.0, 0.0, 0.0, 0.0, 0.0, 0.0, 0.0, 0.0, 0.0, 0.0, 0.0], [0.05038187652826309, 0.010253239423036575, 0.009017400443553925, 0.007853326387703419, 0.008382104337215424, 0.01603054814040661, 0.007579760625958443, 0.01656814105808735, 0.00955806765705347, 0.020098425447940826, 0.02802768163383007, 0.03172840178012848, 0.021793970838189125, 0.03942329064011574, 0.11988726258277893, 0.04783084988594055, 0.1477368175983429, 0.4078488051891327, 0.0, 0.0, 0.0, 0.0, 0.0, 0.0, 0.0, 0.0, 0.0, 0.0, 0.0, 0.0, 0.0, 0.0, 0.0, 0.0, 0.0], [0.009583800099790096, 0.0005122207221575081, 0.0006106937653385103, 0.0009717887733131647, 0.0022611040621995926, 0.004041268955916166, 0.00033976093982346356, 0.002301484579220414, 0.0014669822994619608, 0.004360876511782408, 0.010039575397968292, 0.003883794415742159, 0.0019065372180193663, 0.004968367516994476, 0.0035998837556689978, 0.0027956583071500063, 0.015628810971975327, 0.014497026801109314, 0.916230320930481, 0.0, 0.0, 0.0, 0.0, 0.0, 0.0, 0.0, 0.0, 0.0, 0.0, 0.0, 0.0, 0.0, 0.0, 0.0, 0.0], [0.03377578407526016, 0.0008472930057905614, 0.0009361561387777328, 0.0006967568187974393, 0.004600141663104296, 0.0032575977966189384, 0.0004218373214825988, 0.007556706666946411, 0.0010570597369223833, 0.003643791424110532, 0.00017823871166910976, 0.0020456218626350164, 0.0014812112785875797, 0.0029180466663092375, 0.005684820003807545, 0.06616663932800293, 0.006820716895163059, 0.00596611388027668, 0.022306203842163086, 0.829639196395874, 0.0, 0.0, 0.0, 0.0, 0.0, 0.0, 0.0, 0.0, 0.0, 0.0, 0.0, 0.0, 0.0, 0.0, 0.0], [0.014338123612105846, 0.004506279248744249, 0.0022934817243367434, 0.004502632189542055, 0.006348530761897564, 0.006440699566155672, 0.003075922839343548, 0.0034293769858777523, 0.008825041353702545, 0.013563869521021843, 0.008806231431663036, 0.015333058312535286, 0.010930362157523632, 0.03256243094801903, 0.04165013134479523, 0.029358435422182083, 0.06823209673166275, 0.10101231187582016, 0.12824411690235138, 0.08141806721687317, 0.41512882709503174, 0.0, 0.0, 0.0, 0.0, 0.0, 0.0, 0.0, 0.0, 0.0, 0.0, 0.0, 0.0, 0.0, 0.0], [0.012516932561993599, 0.00370737980119884, 0.0011323612416163087, 0.002044015796855092, 0.0021037976257503033, 0.0007217555539682508, 0.0003587709798011929, 0.0010654565412551165, 0.0033418675884604454, 0.0035347670782357454, 0.0018008288461714983, 0.005131380166858435, 0.005956844426691532, 0.011681457981467247, 0.023353131487965584, 0.024626363068819046, 0.023082589730620384, 0.02405393309891224, 0.045054011046886444, 0.0444747731089592, 0.09848436713218689, 0.661773145198822, 0.0, 0.0, 0.0, 0.0, 0.0, 0.0, 0.0, 0.0, 0.0, 0.0, 0.0, 0.0, 0.0], [0.023378079757094383, 0.002970093861222267, 0.002272161887958646, 0.0031212535686790943, 0.010448775254189968, 0.0027957104612141848, 0.0009500707383267581, 0.006640287581831217, 0.002509304089471698, 0.006215895991772413, 0.0018756609642878175, 0.004366473760455847, 0.005894928239285946, 0.007904240861535072, 0.011842508800327778, 0.011780314147472382, 0.016934014856815338, 0.015606723725795746, 0.036991916596889496, 0.056762710213661194, 0.038851816207170486, 0.3010689914226532, 0.42881813645362854, 0.0, 0.0, 0.0, 0.0, 0.0, 0.0, 0.0, 0.0, 0.0, 0.0, 0.0, 0.0], [0.042250849306583405, 0.009647665545344353, 0.01306965947151184, 0.003493922995403409, 0.008718246594071388, 0.0008717638556845486, 0.002113072667270899, 0.002520154230296612, 0.0028259295504540205, 0.003056257963180542, 0.005475992802530527, 0.004467589780688286, 0.005966205149888992, 0.008145660161972046, 0.02767094038426876, 0.013382633216679096, 0.018189143389463425, 0.03278025612235069, 0.02884836681187153, 0.05995950102806091, 0.09605947136878967, 0.2093193382024765, 0.10138260573148727, 0.299784779548645, 0.0, 0.0, 0.0, 0.0, 0.0, 0.0, 0.0, 0.0, 0.0, 0.0, 0.0], [0.025818029418587685, 0.0012453028466552496, 0.00123677181545645, 0.0031558230984956026, 0.00260545639321208, 0.0011178333079442382, 0.00023053257609717548, 0.0010614546481519938, 0.0012552989646792412, 0.0014470177702605724, 0.0006083034095354378, 0.002144434256479144, 0.0017222766764461994, 0.003063675481826067, 0.002130713779479265, 0.0017395155737176538, 0.007489570416510105, 0.004201177973300219, 0.01636728085577488, 0.017187533900141716, 0.016647029668092728, 0.06787318736314774, 0.07546127587556839, 0.043696507811546326, 0.7004939317703247, 0.0, 0.0, 0.0, 0.0, 0.0, 0.0, 0.0, 0.0, 0.0, 0.0], [0.007508306764066219, 0.000129139210912399, 0.00022904042270965874, 0.0003099398745689541, 0.001587574020959437, 0.00015740802336949855, 0.00036546672345139086, 0.00026319510652683675, 0.000246187555603683, 0.004963842686265707, 0.000849328760523349, 0.00020542528363876045, 0.0035996558144688606, 0.0006757508381269872, 0.0006743200356140733, 0.0028660339303314686, 0.000740199233405292, 0.0012410664930939674, 0.0034339390695095062, 0.0033488068729639053, 0.005896294489502907, 0.015315243974328041, 0.01358444057404995, 0.003806073684245348, 0.10587518662214279, 0.8221280574798584, 0.0, 0.0, 0.0, 0.0, 0.0, 0.0, 0.0, 0.0, 0.0], [0.0151468301191926, 0.0002837271895259619, 0.0004323893808759749, 0.0012392145581543446, 0.0026600719429552555, 0.0003459545550867915, 0.00029542745323851705, 0.0018772091716527939, 0.00023691265960223973, 0.00013219252286944538, 0.00033548110513947904, 0.00022997907944954932, 0.00027149065863341093, 0.0004209541657473892, 0.0008192590321414173, 0.0003039471048396081, 0.000646936590783298, 0.0003804269654210657, 0.0023925937712192535, 0.002976801944896579, 0.0025756165850907564, 0.005941805895417929, 0.005901214201003313, 0.005208784248679876, 0.02542373538017273, 0.02324126847088337, 0.900279700756073, 0.0, 0.0, 0.0, 0.0, 0.0, 0.0, 0.0, 0.0], [0.02088218554854393, 0.0006866250187158585, 0.00141903106123209, 0.0016247230814769864, 0.005466732662171125, 0.0019930724520236254, 0.00034445658093318343, 0.0014866298297420144, 0.0003860281431116164, 0.0002986803010571748, 0.00037154884194023907, 0.0005332499858923256, 0.0002567083574831486, 0.0006083340849727392, 0.00037862578756175935, 0.0013748232740908861, 0.0013781345915049314, 0.0009236660553142428, 0.023375004529953003, 0.03773234412074089, 0.0040639834478497505, 0.021846625953912735, 0.018512392416596413, 0.005047200247645378, 0.01844027452170849, 0.06399491429328918, 0.3300280272960663, 0.4365460276603699, 0.0, 0.0, 0.0, 0.0, 0.0, 0.0, 0.0], [0.00272978562861681, 0.00011315719166304916, 0.0002574319951236248, 0.00030652928398922086, 0.0008012373582459986, 0.000887093658093363, 0.000101115794677753, 0.002048569731414318, 0.00014291208935901523, 0.000198980764253065, 0.00043098218156956136, 7.4357507401146e-05, 0.00011077820818172768, 0.00022297565010376275, 0.00010400121391285211, 0.0007566187996417284, 0.0001842881174525246, 0.00031020984170027077, 0.001059028203599155, 0.005394385661929846, 0.0013711393112316728, 0.0017238219734281301, 0.003438346553593874, 0.00077915342990309, 0.002710794098675251, 0.011246607638895512, 0.2618618905544281, 0.04286462068557739, 0.6577692031860352, 0.0, 0.0, 0.0, 0.0, 0.0, 0.0], [0.0071692136116325855, 0.002651227405294776, 0.002445024438202381, 0.003023248864337802, 0.00268618855625391, 0.0007135473424568772, 0.0005127678159624338, 0.0003864860627800226, 0.0009532009717077017, 0.00044078362407162786, 0.0008591749938204885, 0.0012491048546507955, 0.00094247778179124, 0.0016617258079349995, 0.0004435321025084704, 0.0014648408396169543, 0.0035774658899754286, 0.0037673399783670902, 0.012122929096221924, 0.0068539101630449295, 0.005249570123851299, 0.019704239442944527, 0.026669232174754143, 0.04096021503210068, 0.23853975534439087, 0.05725708231329918, 0.04040537402033806, 0.10933986306190491, 0.07736305892467499, 0.3305874466896057, 0.0, 0.0, 0.0, 0.0, 0.0], [0.011626657098531723, 0.0019658165983855724, 0.0009179514017887414, 0.001819743076339364, 0.002078976947814226, 0.00029357121093198657, 0.00010028555698227137, 0.0005799980135634542, 0.0004854121943935752, 9.76482915575616e-05, 0.00015712746244389564, 0.0004106423002667725, 0.0004877774917986244, 0.0007517859921790659, 0.0007532844902016222, 0.0012242123484611511, 0.0010826854268088937, 0.0014821888180449605, 0.0027742490638047457, 0.0036103317979723215, 0.002137242117896676, 0.009361452423036098, 0.01427766215056181, 0.011846712790429592, 0.04729336127638817, 0.0450628325343132, 0.04156069830060005, 0.042807891964912415, 0.07079776376485825, 0.10084827989339828, 0.581305742263794, 0.0, 0.0, 0.0, 0.0], [0.0038734341505914927, 0.00025570980506017804, 0.0006259250221773982, 0.0005843957769684494, 0.0012326471041887999, 0.00039456007652916014, 0.00033266792888753116, 0.00015581918705720454, 0.00016472733113914728, 0.0007726297480985522, 0.00038669805508106947, 0.0002782443189062178, 0.00015239728963933885, 0.0002519854751881212, 6.452931847888976e-05, 0.00017264133202843368, 0.000713358458597213, 0.0005384794785641134, 0.007539563346654177, 0.00672324700281024, 0.001396391773596406, 0.003110354533419013, 0.005501289386302233, 0.0024135864805430174, 0.038960572332143784, 0.023422330617904663, 0.009641137905418873, 0.02575090155005455, 0.1270248293876648, 0.04005931317806244, 0.5142087340354919, 0.18329687416553497, 0.0, 0.0, 0.0], [0.015151125378906727, 0.0013760682195425034, 0.0015560504980385303, 0.0021717099007219076, 0.0025110088754445314, 0.0017854946199804544, 0.00047008664114400744, 0.0006788121536374092, 0.00038990736356936395, 0.0009900371078401804, 0.0003802654391620308, 0.00041825053631328046, 0.00044352893019095063, 0.0005140130524523556, 0.000165922348969616, 0.0006932565593160689, 0.000962950405664742, 0.0007656950037926435, 0.004365222994238138, 0.00643626693636179, 0.0018688273848965764, 0.008356153964996338, 0.006384761072695255, 0.005890705157071352, 0.03118702583014965, 0.04100945219397545, 0.028566081076860428, 0.04157726839184761, 0.04076457768678665, 0.06712852418422699, 0.30426734685897827, 0.2161882370710373, 0.1645854264497757, 0.0, 0.0], [0.017354117706418037, 0.0005264720530249178, 0.0006208937847986817, 0.0016926312819123268, 0.006297263316810131, 0.0010202126577496529, 7.36256261006929e-05, 0.000676228548400104, 0.00044483100646175444, 7.778886356391013e-05, 4.973811883246526e-05, 0.0003035978879779577, 0.0001734182587824762, 0.000516243395395577, 0.00027352760662324727, 0.0007444006041623652, 0.0006022226298227906, 0.0004544501716736704, 0.0026653388049453497, 0.002663874998688698, 0.002551592420786619, 0.007818796671926975, 0.009490986354649067, 0.0009830404305830598, 0.007624228950589895, 0.011552369222044945, 0.09579721093177795, 0.08069907128810883, 0.09889816492795944, 0.03799614682793617, 0.05835620313882828, 0.11718898266553879, 0.11656811088323593, 0.31724420189857483, 0.0], [0.010796332731842995, 0.003018461400642991, 0.0017010789597406983, 0.002761397510766983, 0.005546446889638901, 0.00055094831623137, 0.00022208341397345066, 0.00023305881768465042, 0.0008555079693906009, 8.429399895248935e-05, 0.00013491020945366472, 0.0004030339478049427, 0.00021568564989138395, 0.000912233314011246, 0.0007261989521794021, 0.00038188471808098257, 0.0007406802615150809, 0.0007301229052245617, 0.0007852286216802895, 0.0013473373837769032, 0.0043137832544744015, 0.00772917689755559, 0.0054228100925683975, 0.006747081410139799, 0.013981970027089119, 0.004630991257727146, 0.01939181424677372, 0.02813369780778885, 0.016861924901604652, 0.07724331319332123, 0.05435159429907799, 0.13139016926288605, 0.15014056861400604, 0.08434382826089859, 0.3631703853607178]], [[1.0, 0.0, 0.0, 0.0, 0.0, 0.0, 0.0, 0.0, 0.0, 0.0, 0.0, 0.0, 0.0, 0.0, 0.0, 0.0, 0.0, 0.0, 0.0, 0.0, 0.0, 0.0, 0.0, 0.0, 0.0, 0.0, 0.0, 0.0, 0.0, 0.0, 0.0, 0.0, 0.0, 0.0, 0.0], [0.19326065480709076, 0.806739330291748, 0.0, 0.0, 0.0, 0.0, 0.0, 0.0, 0.0, 0.0, 0.0, 0.0, 0.0, 0.0, 0.0, 0.0, 0.0, 0.0, 0.0, 0.0, 0.0, 0.0, 0.0, 0.0, 0.0, 0.0, 0.0, 0.0, 0.0, 0.0, 0.0, 0.0, 0.0, 0.0, 0.0], [0.09132367372512817, 0.002221883274614811, 0.9064545035362244, 0.0, 0.0, 0.0, 0.0, 0.0, 0.0, 0.0, 0.0, 0.0, 0.0, 0.0, 0.0, 0.0, 0.0, 0.0, 0.0, 0.0, 0.0, 0.0, 0.0, 0.0, 0.0, 0.0, 0.0, 0.0, 0.0, 0.0, 0.0, 0.0, 0.0, 0.0, 0.0], [0.07127513736486435, 0.010394581593573093, 0.014608724974095821, 0.9037215113639832, 0.0, 0.0, 0.0, 0.0, 0.0, 0.0, 0.0, 0.0, 0.0, 0.0, 0.0, 0.0, 0.0, 0.0, 0.0, 0.0, 0.0, 0.0, 0.0, 0.0, 0.0, 0.0, 0.0, 0.0, 0.0, 0.0, 0.0, 0.0, 0.0, 0.0, 0.0], [0.007525183726102114, 8.942779095377773e-05, 7.54414577386342e-05, 3.4135864552808926e-06, 0.9923065304756165, 0.0, 0.0, 0.0, 0.0, 0.0, 0.0, 0.0, 0.0, 0.0, 0.0, 0.0, 0.0, 0.0, 0.0, 0.0, 0.0, 0.0, 0.0, 0.0, 0.0, 0.0, 0.0, 0.0, 0.0, 0.0, 0.0, 0.0, 0.0, 0.0, 0.0], [0.004521039314568043, 4.280501343600918e-06, 9.230407158611342e-05, 2.3636253899894655e-05, 1.1194401849934366e-05, 0.9953475594520569, 0.0, 0.0, 0.0, 0.0, 0.0, 0.0, 0.0, 0.0, 0.0, 0.0, 0.0, 0.0, 0.0, 0.0, 0.0, 0.0, 0.0, 0.0, 0.0, 0.0, 0.0, 0.0, 0.0, 0.0, 0.0, 0.0, 0.0, 0.0, 0.0], [0.007938134483993053, 0.00010465273953741416, 4.1882518416969106e-05, 8.37628795125056e-06, 0.00021111423848196864, 3.1297931855078787e-06, 0.9916926622390747, 0.0, 0.0, 0.0, 0.0, 0.0, 0.0, 0.0, 0.0, 0.0, 0.0, 0.0, 0.0, 0.0, 0.0, 0.0, 0.0, 0.0, 0.0, 0.0, 0.0, 0.0, 0.0, 0.0, 0.0, 0.0, 0.0, 0.0, 0.0], [0.0024528461508452892, 1.0800496966112405e-05, 1.541074198030401e-05, 2.252152597748136e-07, 3.925124474335462e-05, 5.133605554874521e-06, 2.3800475901225582e-05, 0.9974525570869446, 0.0, 0.0, 0.0, 0.0, 0.0, 0.0, 0.0, 0.0, 0.0, 0.0, 0.0, 0.0, 0.0, 0.0, 0.0, 0.0, 0.0, 0.0, 0.0, 0.0, 0.0, 0.0, 0.0, 0.0, 0.0, 0.0, 0.0], [0.1994483470916748, 0.17831815779209137, 0.06548023968935013, 0.1327645629644394, 0.038584478199481964, 0.010353405959904194, 0.02143358811736107, 0.006723281927406788, 0.34689390659332275, 0.0, 0.0, 0.0, 0.0, 0.0, 0.0, 0.0, 0.0, 0.0, 0.0, 0.0, 0.0, 0.0, 0.0, 0.0, 0.0, 0.0, 0.0, 0.0, 0.0, 0.0, 0.0, 0.0, 0.0, 0.0, 0.0], [0.0014458460500463843, 8.054703926063667e-07, 3.064588599954732e-05, 7.412921263494354e-07, 2.0274023881938774e-06, 1.1259024176979437e-05, 1.8223380493509467e-06, 8.012925536604598e-05, 1.0569634412149753e-07, 0.9984266757965088, 0.0, 0.0, 0.0, 0.0, 0.0, 0.0, 0.0, 0.0, 0.0, 0.0, 0.0, 0.0, 0.0, 0.0, 0.0, 0.0, 0.0, 0.0, 0.0, 0.0, 0.0, 0.0, 0.0, 0.0, 0.0], [0.0023380175698548555, 1.2498665455495939e-05, 2.2450103642768227e-05, 4.236496351950336e-06, 2.952029092284647e-07, 1.8947034732264e-06, 7.769844523863867e-05, 8.96904748515226e-06, 4.6951914356441193e-08, 1.1347646022841218e-06, 0.9975327253341675, 0.0, 0.0, 0.0, 0.0, 0.0, 0.0, 0.0, 0.0, 0.0, 0.0, 0.0, 0.0, 0.0, 0.0, 0.0, 0.0, 0.0, 0.0, 0.0, 0.0, 0.0, 0.0, 0.0, 0.0], [0.04751456156373024, 0.05268265679478645, 0.020408133044838905, 0.058530084788799286, 0.007166560739278793, 0.008201420307159424, 0.011846407316625118, 0.0017474382184445858, 0.024963321164250374, 0.002697254531085491, 0.0014261910691857338, 0.7628160715103149, 0.0, 0.0, 0.0, 0.0, 0.0, 0.0, 0.0, 0.0, 0.0, 0.0, 0.0, 0.0, 0.0, 0.0, 0.0, 0.0, 0.0, 0.0, 0.0, 0.0, 0.0, 0.0, 0.0], [0.006070825271308422, 0.00012957974104210734, 5.943375072092749e-05, 5.659367616317468e-06, 0.0002615337143652141, 0.00012241856893524528, 1.0399376151326578e-05, 1.1076435839640908e-05, 4.0604925288789673e-07, 0.0003600475611165166, 2.0115488950978033e-05, 1.364395956215958e-07, 0.9929484128952026, 0.0, 0.0, 0.0, 0.0, 0.0, 0.0, 0.0, 0.0, 0.0, 0.0, 0.0, 0.0, 0.0, 0.0, 0.0, 0.0, 0.0, 0.0, 0.0, 0.0, 0.0, 0.0], [0.09530571848154068, 0.14180326461791992, 0.05038183182477951, 0.10299671441316605, 0.029812073335051537, 0.006589409429579973, 0.016824396327137947, 0.004481855314224958, 0.23106449842453003, 0.019435428082942963, 0.01087439525872469, 0.05543202906847, 0.03543870896100998, 0.19955968856811523, 0.0, 0.0, 0.0, 0.0, 0.0, 0.0, 0.0, 0.0, 0.0, 0.0, 0.0, 0.0, 0.0, 0.0, 0.0, 0.0, 0.0, 0.0, 0.0, 0.0, 0.0], [0.027447791770100594, 0.00014065334107726812, 0.000198466339497827, 3.496767021715641e-05, 5.282139227347216e-06, 0.00015024191816337407, 8.128350600600243e-05, 1.2125139619456604e-05, 6.30389477009885e-05, 6.543209019582719e-05, 2.83248527921387e-06, 3.890723382937722e-05, 5.673621217283653e-07, 4.2104791646124795e-05, 0.9717162847518921, 0.0, 0.0, 0.0, 0.0, 0.0, 0.0, 0.0, 0.0, 0.0, 0.0, 0.0, 0.0, 0.0, 0.0, 0.0, 0.0, 0.0, 0.0, 0.0, 0.0], [0.004212117288261652, 3.0696890462422743e-05, 6.369442417053506e-05, 8.254548902186798e-07, 8.262140909209847e-07, 3.868338535539806e-05, 4.26881160819903e-06, 3.8194098124222364e-06, 1.2628012768800545e-07, 0.00013782775204163045, 1.780611273716204e-05, 1.7100200366826357e-08, 5.9798780966957565e-06, 6.190309420617268e-08, 2.2941571842238773e-06, 0.9954808950424194, 0.0, 0.0, 0.0, 0.0, 0.0, 0.0, 0.0, 0.0, 0.0, 0.0, 0.0, 0.0, 0.0, 0.0, 0.0, 0.0, 0.0, 0.0, 0.0], [0.019846761599183083, 0.03168343007564545, 0.012553270906209946, 0.035718806087970734, 0.0043990095146000385, 0.004350569564849138, 0.007427368778735399, 0.0009372875792905688, 0.01266288198530674, 0.0016050537815317512, 0.0007319955620914698, 0.4563407897949219, 0.002010868862271309, 0.009759276174008846, 0.008237499743700027, 0.00025941251078620553, 0.3914756774902344, 0.0, 0.0, 0.0, 0.0, 0.0, 0.0, 0.0, 0.0, 0.0, 0.0, 0.0, 0.0, 0.0, 0.0, 0.0, 0.0, 0.0, 0.0], [0.02729724906384945, 0.0024357072543352842, 0.0002706822706386447, 7.525584078393877e-05, 1.3686847523786128e-05, 5.773238626716193e-06, 0.00043018441647291183, 1.4438182915910147e-05, 4.835141226067208e-05, 5.326117025106214e-05, 9.613318070478272e-06, 6.846700853202492e-05, 0.0003037679416593164, 2.8783944799215533e-05, 3.86640167562291e-05, 2.5926843591150828e-05, 4.6800509153399616e-05, 0.9688335061073303, 0.0, 0.0, 0.0, 0.0, 0.0, 0.0, 0.0, 0.0, 0.0, 0.0, 0.0, 0.0, 0.0, 0.0, 0.0, 0.0, 0.0], [0.006310705095529556, 3.2946885767159984e-05, 9.895695257000625e-06, 7.334584211093897e-07, 9.119841706706211e-05, 4.094932955922559e-05, 8.511712621839251e-06, 9.950740059139207e-05, 1.9264814454800216e-07, 8.829235298435378e-07, 1.89061233868415e-06, 1.1808706403826363e-06, 3.1165220661932835e-06, 9.47476834767258e-08, 3.3017643090715865e-06, 2.585527727205772e-05, 7.711314538028091e-07, 2.6708685254561715e-06, 0.993365466594696, 0.0, 0.0, 0.0, 0.0, 0.0, 0.0, 0.0, 0.0, 0.0, 0.0, 0.0, 0.0, 0.0, 0.0, 0.0, 0.0], [0.001134052756242454, 6.961923190829111e-06, 1.236436492035864e-05, 4.006550682333909e-07, 5.351815343601629e-05, 5.240096470515709e-06, 4.459505726117641e-05, 0.00016450765542685986, 1.4344478493910628e-08, 1.0388021109974943e-06, 4.77888788736891e-05, 5.0586844935196495e-08, 9.468209896112967e-07, 7.475676966350875e-09, 6.603928000004089e-07, 3.843112153845141e-06, 3.346431753925572e-08, 2.411975685845391e-07, 1.6647753000142984e-05, 0.9985072016716003, 0.0, 0.0, 0.0, 0.0, 0.0, 0.0, 0.0, 0.0, 0.0, 0.0, 0.0, 0.0, 0.0, 0.0, 0.0], [0.08800844848155975, 0.1892128884792328, 0.045562565326690674, 0.08163288980722427, 0.017358075827360153, 0.004830402322113514, 0.018958790227770805, 0.004620131570845842, 0.06910264492034912, 0.012970469892024994, 0.010343024507164955, 0.05366411805152893, 0.009830270893871784, 0.05797470360994339, 0.011936409398913383, 0.00944663118571043, 0.046623390167951584, 0.07882605493068695, 0.010427412576973438, 0.0020946753211319447, 0.17657595872879028, 0.0, 0.0, 0.0, 0.0, 0.0, 0.0, 0.0, 0.0, 0.0, 0.0, 0.0, 0.0, 0.0, 0.0], [0.015971144661307335, 0.0030620070174336433, 0.00014189477951731533, 0.00078857276821509, 4.29936008004006e-05, 4.131189052714035e-05, 6.306855357252061e-05, 3.5465047858451726e-06, 2.1731215383624658e-05, 1.7860902516986243e-05, 1.0213959285465535e-05, 2.6596329917083494e-05, 3.7855443224543706e-05, 1.3186832802603021e-05, 0.00018817625823430717, 4.963868377672043e-06, 1.808506203815341e-05, 4.864014044869691e-05, 4.463582627067808e-06, 2.48024571192218e-06, 1.2178880751889665e-05, 0.9794788956642151, 0.0, 0.0, 0.0, 0.0, 0.0, 0.0, 0.0, 0.0, 0.0, 0.0, 0.0, 0.0, 0.0], [0.00747224036604166, 0.0003719078085850924, 7.63909483794123e-05, 1.1135924978589173e-05, 3.014877438545227e-05, 1.1014451047230978e-05, 5.4528787586605176e-05, 2.244440111098811e-05, 1.1283870662737172e-05, 2.8587928682100028e-05, 5.6277508519997355e-06, 7.513614400522783e-05, 7.734303653705865e-05, 6.529724942083703e-06, 8.796925612841733e-06, 8.651511052448768e-06, 5.072797284810804e-05, 7.040870059427107e-06, 3.1876450520940125e-05, 1.4034895912118373e-06, 7.003602149779908e-06, 7.040094351395965e-05, 0.9915598034858704, 0.0, 0.0, 0.0, 0.0, 0.0, 0.0, 0.0, 0.0, 0.0, 0.0, 0.0, 0.0], [0.02204543724656105, 0.28049436211586, 0.01667478121817112, 0.00015087146311998367, 0.0006804477889090776, 2.7394153221393935e-05, 0.0008938335813581944, 1.24992102428223e-05, 0.0002665532229002565, 5.584169230132829e-06, 5.109104313305579e-05, 9.500436863163486e-05, 1.8194814401795156e-05, 0.0001828283566283062, 0.0016493602888658643, 2.7935227990383282e-05, 6.991920963628218e-05, 7.677570829400793e-05, 2.0886154743493535e-05, 4.512569375947351e-06, 0.00014541401469614357, 0.00044705040636472404, 5.514789518201724e-05, 0.6759040355682373, 0.0, 0.0, 0.0, 0.0, 0.0, 0.0, 0.0, 0.0, 0.0, 0.0, 0.0], [0.01879948377609253, 0.0019184618722647429, 0.0010523879900574684, 7.228153117466718e-05, 0.00013796627172268927, 5.208820948610082e-05, 6.33438176009804e-05, 9.731966201798059e-06, 8.120811253320426e-05, 5.99839877395425e-05, 9.635984497435857e-06, 4.818717934540473e-05, 4.688356784754433e-05, 5.250575122772716e-05, 0.0004494213208090514, 0.0002893299679271877, 3.537206066539511e-05, 0.00022377951245289296, 0.00020209007197991014, 3.112015747319674e-06, 3.522854967741296e-05, 9.85501246759668e-05, 0.00018101507157552987, 0.00012300803791731596, 0.9759548306465149, 0.0, 0.0, 0.0, 0.0, 0.0, 0.0, 0.0, 0.0, 0.0, 0.0], [0.0016589788720011711, 6.6324769250059035e-06, 3.9323476812569425e-05, 5.51214588995208e-06, 7.328293577302247e-05, 5.176199238121626e-07, 8.362679363926873e-05, 1.611542029422708e-05, 1.8407985180601827e-07, 0.00020032616157550365, 1.849748059612466e-06, 7.683036784555952e-08, 1.8051065126201138e-05, 9.259771616143553e-08, 6.612185188714648e-06, 1.9627882466011215e-06, 5.004856973300775e-08, 6.371125493842555e-08, 4.881649147137068e-07, 3.839154487650376e-06, 1.8601497231429676e-08, 1.6708690964151174e-06, 8.816624585961108e-07, 6.67335555704085e-08, 1.878519810816215e-07, 0.9978796243667603, 0.0, 0.0, 0.0, 0.0, 0.0, 0.0, 0.0, 0.0, 0.0], [0.005040666088461876, 0.00039155586273409426, 0.0005618704599328339, 0.00014523050049319863, 3.937188375857659e-05, 5.409954974311404e-05, 0.000284795300103724, 4.8287405661540106e-05, 3.104319375779596e-06, 6.89627486281097e-05, 0.0002681412152014673, 4.210932729620254e-06, 1.211988455906976e-05, 2.0253971797501436e-06, 3.188779373886064e-05, 1.1356525646988302e-05, 3.0188034543243703e-06, 1.2622905160242226e-05, 7.465576800314011e-06, 3.027807906619273e-06, 4.951120331497805e-07, 3.01545860565966e-05, 1.886378049675841e-05, 4.1512503230478615e-06, 5.0313265091972426e-06, 6.0690836107824e-06, 0.9929414987564087, 0.0, 0.0, 0.0, 0.0, 0.0, 0.0, 0.0, 0.0], [0.0012448671041056514, 0.000176170258782804, 2.4151753677870147e-05, 1.2456679542083293e-05, 5.211313327890821e-05, 2.3546041120425798e-05, 5.673446139553562e-05, 0.00045827688882127404, 2.4983858111227164e-06, 0.00011349430133122951, 4.920247010886669e-05, 1.3444550859276205e-05, 7.735934195807204e-05, 1.343708390777465e-06, 6.060899522708496e-06, 0.00010331773228244856, 8.74549186846707e-06, 1.0811575521074701e-05, 0.00015856373647693545, 1.9056066093980917e-06, 5.418795012701594e-07, 1.2321380609137123e-06, 6.472232780652121e-05, 3.589060497688479e-06, 8.65090169099858e-06, 2.9628040465468075e-06, 1.3278961887408514e-05, 0.9973099231719971, 0.0, 0.0, 0.0, 0.0, 0.0, 0.0, 0.0], [0.001973329810425639, 0.0009750560275278986, 7.218508108053356e-05, 9.848405898083001e-05, 4.960862497682683e-05, 5.434047125163488e-05, 0.0003797204699367285, 6.184627181937685e-06, 1.0831149666046258e-06, 4.491211257118266e-06, 0.00047983546392060816, 9.928648978529964e-07, 1.3564559594669845e-05, 6.477185365838523e-07, 1.0186113286181353e-05, 5.581321602221578e-06, 7.11347752258007e-07, 5.998071515023184e-07, 3.201085064574727e-06, 2.288283894813503e-06, 1.5130828501241922e-07, 7.130754056561273e-06, 1.79379571818572e-06, 2.402572863502428e-05, 2.8331155021987797e-07, 1.2269116268726066e-05, 0.00023325464280787855, 0.00031319609843194485, 0.9952758550643921, 0.0, 0.0, 0.0, 0.0, 0.0, 0.0], [0.030099261552095413, 0.09027376770973206, 0.02814972773194313, 0.1576387882232666, 0.026473544538021088, 0.003006006358191371, 0.017219537869095802, 0.0022446680814027786, 0.031200455501675606, 0.01135172601789236, 0.0013561320956796408, 0.029119182378053665, 0.016773521900177002, 0.02399810403585434, 0.009450535289943218, 0.00628820201382041, 0.023923052474856377, 0.05829627066850662, 0.009904228150844574, 0.00037797351251356304, 0.024595145136117935, 0.040420062839984894, 0.02788674086332321, 0.00982357095927, 0.0499471090734005, 0.001065115095116198, 0.014632527716457844, 0.011246385052800179, 0.0020601542200893164, 0.2411784827709198, 0.0, 0.0, 0.0, 0.0, 0.0], [0.004169424530118704, 0.0006143288919702172, 0.0005938467220403254, 0.0001103623362723738, 9.005518222693354e-05, 1.3705171113542747e-05, 0.0005903497221879661, 2.689233269848046e-06, 8.671501745993737e-06, 4.6116430894471705e-05, 1.0056805876956787e-05, 5.362913725548424e-06, 5.1998504204675555e-05, 4.8024185161921196e-06, 2.1195286535657942e-05, 2.4785071218502708e-05, 3.4400409276713617e-06, 1.8410868506180122e-05, 7.055151218082756e-05, 5.603974955192825e-07, 5.060184321337147e-06, 2.259217217215337e-05, 6.252550520002842e-05, 1.8619364709593356e-05, 0.00014118559192866087, 2.6331110348110087e-05, 1.2610458952622139e-06, 1.0759871429399936e-06, 3.0931974492887093e-07, 5.793060154246632e-06, 0.9932644367218018, 0.0, 0.0, 0.0, 0.0], [0.010566655546426773, 0.0013905889354646206, 0.00043136277236044407, 0.0010295918909832835, 0.003916391171514988, 0.00015029491623863578, 0.001993600046262145, 0.00030443709692917764, 2.9845065000699833e-05, 0.0006592923309653997, 1.265983701159712e-05, 7.527502748416737e-05, 0.0003976769803557545, 1.7276539438171312e-05, 0.00038583489367738366, 2.1061901861685328e-05, 5.3403142374008894e-05, 6.335022044368088e-05, 0.000126884420751594, 6.783195658499608e-06, 2.7170561224920675e-05, 0.00013008965470362455, 3.859859862131998e-05, 4.366650682641193e-05, 8.064091161941178e-06, 0.0007468666881322861, 8.195245754905045e-06, 9.368611063109711e-05, 6.252453658817103e-06, 4.447245373739861e-05, 0.00020698650041595101, 0.9770136475563049, 0.0, 0.0, 0.0], [0.01713147759437561, 0.10981202125549316, 0.04528497904539108, 0.16663996875286102, 0.04683491587638855, 0.012714340351521969, 0.02494184486567974, 0.002460505347698927, 0.016514169052243233, 0.014018183574080467, 0.002804650692269206, 0.01726129837334156, 0.0561913326382637, 0.011843179352581501, 0.02451840601861477, 0.008004873991012573, 0.013582988642156124, 0.027696527540683746, 0.00788148958235979, 0.0013759640278294683, 0.009033636189997196, 0.037479985505342484, 0.01436882559210062, 0.016579672694206238, 0.031486257910728455, 0.0022351096849888563, 0.007032561581581831, 0.02033880725502968, 0.0021573659032583237, 0.01573573797941208, 0.035292547196149826, 0.017794998362660408, 0.16295139491558075, 0.0, 0.0], [0.0027362387627363205, 0.0032704449258744717, 0.0002493853971827775, 2.952113572973758e-05, 0.0027190791442990303, 1.568083098391071e-05, 0.0011440077796578407, 3.5285567719256505e-05, 1.9352088202140294e-05, 3.620967618189752e-05, 1.2202230209368281e-05, 0.00012145649816375226, 4.955609256285243e-05, 1.1851500858028885e-05, 8.82663152879104e-05, 3.184522211086005e-05, 8.618924039183185e-05, 0.0001305781042901799, 9.267554560210556e-05, 1.844454527599737e-05, 4.454887402971508e-06, 1.4211034795152955e-05, 0.0002081980783259496, 6.224944809218869e-05, 2.7290012440062128e-05, 8.52709672471974e-06, 0.0010931715369224548, 0.0010258991969749331, 1.8266431652591564e-05, 9.816331839829218e-06, 7.599973059768672e-07, 4.15181375501561e-06, 8.365900612261612e-06, 0.9866164922714233, 0.0], [0.01330176554620266, 0.0020241783931851387, 0.0009810642804950476, 0.00027103954926133156, 0.02624255046248436, 6.968410161789507e-05, 0.00018824632570613176, 0.0003323276177980006, 0.00020717488951049745, 0.0003558362368494272, 1.8688786440179683e-05, 0.0003101633337792009, 0.0002884422428905964, 0.00014157569967210293, 0.00021018930419813842, 0.00013730116188526154, 0.0002454254135955125, 0.0005858635413460433, 0.0008409079746343195, 0.00037898425944149494, 0.00011255504796281457, 0.0009485278860665858, 0.0002581723383627832, 0.0005371632287278771, 0.00023706436331849545, 9.896158007904887e-05, 1.4541826203640085e-05, 7.51436164136976e-05, 1.0142443898075726e-05, 7.690770144108683e-05, 6.643282540608197e-05, 5.4460051615023986e-05, 0.0001078200075426139, 0.002189122373238206, 0.9480817317962646]], [[1.0, 0.0, 0.0, 0.0, 0.0, 0.0, 0.0, 0.0, 0.0, 0.0, 0.0, 0.0, 0.0, 0.0, 0.0, 0.0, 0.0, 0.0, 0.0, 0.0, 0.0, 0.0, 0.0, 0.0, 0.0, 0.0, 0.0, 0.0, 0.0, 0.0, 0.0, 0.0, 0.0, 0.0, 0.0], [0.9360752105712891, 0.06392484903335571, 0.0, 0.0, 0.0, 0.0, 0.0, 0.0, 0.0, 0.0, 0.0, 0.0, 0.0, 0.0, 0.0, 0.0, 0.0, 0.0, 0.0, 0.0, 0.0, 0.0, 0.0, 0.0, 0.0, 0.0, 0.0, 0.0, 0.0, 0.0, 0.0, 0.0, 0.0, 0.0, 0.0], [0.8446658253669739, 0.06946855783462524, 0.0858655795454979, 0.0, 0.0, 0.0, 0.0, 0.0, 0.0, 0.0, 0.0, 0.0, 0.0, 0.0, 0.0, 0.0, 0.0, 0.0, 0.0, 0.0, 0.0, 0.0, 0.0, 0.0, 0.0, 0.0, 0.0, 0.0, 0.0, 0.0, 0.0, 0.0, 0.0, 0.0, 0.0], [0.6426600217819214, 0.1298869103193283, 0.17117179930210114, 0.056281283497810364, 0.0, 0.0, 0.0, 0.0, 0.0, 0.0, 0.0, 0.0, 0.0, 0.0, 0.0, 0.0, 0.0, 0.0, 0.0, 0.0, 0.0, 0.0, 0.0, 0.0, 0.0, 0.0, 0.0, 0.0, 0.0, 0.0, 0.0, 0.0, 0.0, 0.0, 0.0], [0.5074959397315979, 0.0778627097606659, 0.0726853534579277, 0.10711850970983505, 0.23483750224113464, 0.0, 0.0, 0.0, 0.0, 0.0, 0.0, 0.0, 0.0, 0.0, 0.0, 0.0, 0.0, 0.0, 0.0, 0.0, 0.0, 0.0, 0.0, 0.0, 0.0, 0.0, 0.0, 0.0, 0.0, 0.0, 0.0, 0.0, 0.0, 0.0, 0.0], [0.49707546830177307, 0.06315260380506516, 0.1155911535024643, 0.08851402997970581, 0.10196362435817719, 0.13370315730571747, 0.0, 0.0, 0.0, 0.0, 0.0, 0.0, 0.0, 0.0, 0.0, 0.0, 0.0, 0.0, 0.0, 0.0, 0.0, 0.0, 0.0, 0.0, 0.0, 0.0, 0.0, 0.0, 0.0, 0.0, 0.0, 0.0, 0.0, 0.0, 0.0], [0.30812814831733704, 0.06775972992181778, 0.13057540357112885, 0.054409369826316833, 0.04050320386886597, 0.36059141159057617, 0.03803272172808647, 0.0, 0.0, 0.0, 0.0, 0.0, 0.0, 0.0, 0.0, 0.0, 0.0, 0.0, 0.0, 0.0, 0.0, 0.0, 0.0, 0.0, 0.0, 0.0, 0.0, 0.0, 0.0, 0.0, 0.0, 0.0, 0.0, 0.0, 0.0], [0.32434970140457153, 0.0634969100356102, 0.07783646881580353, 0.07798173278570175, 0.07410474866628647, 0.13590551912784576, 0.07038860023021698, 0.1759362816810608, 0.0, 0.0, 0.0, 0.0, 0.0, 0.0, 0.0, 0.0, 0.0, 0.0, 0.0, 0.0, 0.0, 0.0, 0.0, 0.0, 0.0, 0.0, 0.0, 0.0, 0.0, 0.0, 0.0, 0.0, 0.0, 0.0, 0.0], [0.16412915289402008, 0.03469286113977432, 0.051312606781721115, 0.013316989876329899, 0.17712706327438354, 0.1595189869403839, 0.09812308102846146, 0.29690471291542053, 0.004874553997069597, 0.0, 0.0, 0.0, 0.0, 0.0, 0.0, 0.0, 0.0, 0.0, 0.0, 0.0, 0.0, 0.0, 0.0, 0.0, 0.0, 0.0, 0.0, 0.0, 0.0, 0.0, 0.0, 0.0, 0.0, 0.0, 0.0], [0.18775460124015808, 0.054880447685718536, 0.10758274048566818, 0.043910037726163864, 0.14065434038639069, 0.11696726828813553, 0.05246002972126007, 0.1536640077829361, 0.04935269057750702, 0.09277380257844925, 0.0, 0.0, 0.0, 0.0, 0.0, 0.0, 0.0, 0.0, 0.0, 0.0, 0.0, 0.0, 0.0, 0.0, 0.0, 0.0, 0.0, 0.0, 0.0, 0.0, 0.0, 0.0, 0.0, 0.0, 0.0], [0.2051711529493332, 0.04006879776716232, 0.08339216560125351, 0.045652780681848526, 0.05697013437747955, 0.13319888710975647, 0.02641640044748783, 0.09950853884220123, 0.050134606659412384, 0.21417365968227386, 0.04531293734908104, 0.0, 0.0, 0.0, 0.0, 0.0, 0.0, 0.0, 0.0, 0.0, 0.0, 0.0, 0.0, 0.0, 0.0, 0.0, 0.0, 0.0, 0.0, 0.0, 0.0, 0.0, 0.0, 0.0, 0.0], [0.10754456371068954, 0.020955456420779228, 0.05246848613023758, 0.008330845274031162, 0.179975226521492, 0.10652031004428864, 0.07210806012153625, 0.20191136002540588, 0.0033460473641753197, 0.14021332561969757, 0.10356737673282623, 0.0030589608941227198, 0.0, 0.0, 0.0, 0.0, 0.0, 0.0, 0.0, 0.0, 0.0, 0.0, 0.0, 0.0, 0.0, 0.0, 0.0, 0.0, 0.0, 0.0, 0.0, 0.0, 0.0, 0.0, 0.0], [0.09423351287841797, 0.02283540740609169, 0.05558854341506958, 0.026967843994498253, 0.12799423933029175, 0.07631108909845352, 0.07361149042844772, 0.16634683310985565, 0.03019636496901512, 0.11622445285320282, 0.13079151511192322, 0.02243354357779026, 0.05646511912345886, 0.0, 0.0, 0.0, 0.0, 0.0, 0.0, 0.0, 0.0, 0.0, 0.0, 0.0, 0.0, 0.0, 0.0, 0.0, 0.0, 0.0, 0.0, 0.0, 0.0, 0.0, 0.0], [0.11027710884809494, 0.019917311146855354, 0.03387211635708809, 0.008012223057448864, 0.1268695592880249, 0.12052717059850693, 0.06604591012001038, 0.211595818400383, 0.0029103802517056465, 0.13361383974552155, 0.07830419391393661, 0.0059656682424247265, 0.0786396935582161, 0.003449014388024807, 0.0, 0.0, 0.0, 0.0, 0.0, 0.0, 0.0, 0.0, 0.0, 0.0, 0.0, 0.0, 0.0, 0.0, 0.0, 0.0, 0.0, 0.0, 0.0, 0.0, 0.0], [0.1600770652294159, 0.054521165788173676, 0.05973626300692558, 0.020207520574331284, 0.05266042426228523, 0.10011064261198044, 0.1172926053404808, 0.14998748898506165, 0.017248373478651047, 0.05625281482934952, 0.09442036598920822, 0.01204691082239151, 0.020297691226005554, 0.018244558945298195, 0.06689620763063431, 0.0, 0.0, 0.0, 0.0, 0.0, 0.0, 0.0, 0.0, 0.0, 0.0, 0.0, 0.0, 0.0, 0.0, 0.0, 0.0, 0.0, 0.0, 0.0, 0.0], [0.17850056290626526, 0.04271138831973076, 0.05876285210251808, 0.02550153061747551, 0.02821972966194153, 0.0939594954252243, 0.03569771721959114, 0.03853301331400871, 0.027574116364121437, 0.12417211383581161, 0.09900189936161041, 0.029919547960162163, 0.04168913513422012, 0.030038559809327126, 0.08029219508171082, 0.06542611867189407, 0.0, 0.0, 0.0, 0.0, 0.0, 0.0, 0.0, 0.0, 0.0, 0.0, 0.0, 0.0, 0.0, 0.0, 0.0, 0.0, 0.0, 0.0, 0.0], [0.0826260969042778, 0.014221645891666412, 0.03910333663225174, 0.005809778813272715, 0.14161062240600586, 0.08671097457408905, 0.05503495782613754, 0.15626992285251617, 0.002328180707991123, 0.11679327487945557, 0.08067945390939713, 0.00219179829582572, 0.09792864322662354, 0.0027368676383048296, 0.03297453001141548, 0.08037839829921722, 0.0026014959439635277, 0.0, 0.0, 0.0, 0.0, 0.0, 0.0, 0.0, 0.0, 0.0, 0.0, 0.0, 0.0, 0.0, 0.0, 0.0, 0.0, 0.0, 0.0], [0.09858329594135284, 0.0283206794410944, 0.05263178423047066, 0.017858652397990227, 0.061636604368686676, 0.08070764690637589, 0.07397954165935516, 0.09560462832450867, 0.009335820563137531, 0.08467232435941696, 0.11269152909517288, 0.018467871472239494, 0.03856263309717178, 0.011051506735384464, 0.06964195519685745, 0.09237808734178543, 0.02256043441593647, 0.03131495416164398, 0.0, 0.0, 0.0, 0.0, 0.0, 0.0, 0.0, 0.0, 0.0, 0.0, 0.0, 0.0, 0.0, 0.0, 0.0, 0.0, 0.0], [0.14957916736602783, 0.013048059307038784, 0.03394851088523865, 0.015061769634485245, 0.04509884491562843, 0.08479967713356018, 0.027256976813077927, 0.17206282913684845, 0.01685032621026039, 0.10883240401744843, 0.11793850362300873, 0.00832325592637062, 0.016134321689605713, 0.0177264753729105, 0.026173412799835205, 0.051890864968299866, 0.008976073935627937, 0.010605725459754467, 0.07569277286529541, 0.0, 0.0, 0.0, 0.0, 0.0, 0.0, 0.0, 0.0, 0.0, 0.0, 0.0, 0.0, 0.0, 0.0, 0.0, 0.0], [0.23039723932743073, 0.024296825751662254, 0.02655996009707451, 0.03924619033932686, 0.04230225086212158, 0.04924340546131134, 0.007979442365467548, 0.07322091609239578, 0.03455187380313873, 0.06601926684379578, 0.03830169513821602, 0.036723218858242035, 0.024140121415257454, 0.03710527718067169, 0.02855713851749897, 0.05446396395564079, 0.039015062153339386, 0.01594439148902893, 0.046100083738565445, 0.0858316719532013, 0.0, 0.0, 0.0, 0.0, 0.0, 0.0, 0.0, 0.0, 0.0, 0.0, 0.0, 0.0, 0.0, 0.0, 0.0], [0.056916624307632446, 0.006225024815648794, 0.011754417791962624, 0.0035496768541634083, 0.07110720127820969, 0.08006574213504791, 0.022162357345223427, 0.11016805469989777, 0.0010484933154657483, 0.0812220349907875, 0.026672029867768288, 0.002196080982685089, 0.03059852495789528, 0.0012014054227620363, 0.014937758445739746, 0.14736878871917725, 0.002626752248033881, 0.03338917717337608, 0.1104901060461998, 0.18504448235034943, 0.0012552273692563176, 0.0, 0.0, 0.0, 0.0, 0.0, 0.0, 0.0, 0.0, 0.0, 0.0, 0.0, 0.0, 0.0, 0.0], [0.09241703152656555, 0.026059620082378387, 0.024830596521496773, 0.01475397776812315, 0.07309962809085846, 0.04160081222653389, 0.02818295918405056, 0.10522368550300598, 0.01020056288689375, 0.026716871187090874, 0.03863626345992088, 0.008342118933796883, 0.034165363758802414, 0.011011878959834576, 0.02702195942401886, 0.10600950568914413, 0.009498472325503826, 0.016123084351420403, 0.06257016956806183, 0.19003155827522278, 0.010448912158608437, 0.04305501654744148, 0.0, 0.0, 0.0, 0.0, 0.0, 0.0, 0.0, 0.0, 0.0, 0.0, 0.0, 0.0, 0.0], [0.061736539006233215, 0.007029626052826643, 0.01948661357164383, 0.01036682166159153, 0.04601287469267845, 0.07236860692501068, 0.022752372547984123, 0.08978492766618729, 0.005041904281824827, 0.07019016891717911, 0.07947874814271927, 0.006475393660366535, 0.0383506640791893, 0.005680920090526342, 0.015840986743569374, 0.053441066294908524, 0.007524981629103422, 0.018862152472138405, 0.09784607589244843, 0.19087880849838257, 0.006985302548855543, 0.027727801352739334, 0.046136610209941864, 0.0, 0.0, 0.0, 0.0, 0.0, 0.0, 0.0, 0.0, 0.0, 0.0, 0.0, 0.0], [0.04349843040108681, 0.006029142066836357, 0.01627180725336075, 0.004962891340255737, 0.09232774376869202, 0.05643607676029205, 0.02427319996058941, 0.10004423558712006, 0.0013475855812430382, 0.046952687203884125, 0.04336998611688614, 0.002612093696370721, 0.02598002552986145, 0.001536774798296392, 0.013811733573675156, 0.12162510305643082, 0.00308405514806509, 0.014781145378947258, 0.08252861350774765, 0.20843428373336792, 0.0021058102138340473, 0.03356640785932541, 0.049921296536922455, 0.004498822148889303, 0.0, 0.0, 0.0, 0.0, 0.0, 0.0, 0.0, 0.0, 0.0, 0.0, 0.0], [0.05493931844830513, 0.005164696369320154, 0.013282534666359425, 0.006816807668656111, 0.08581956475973129, 0.04258371517062187, 0.010111804120242596, 0.10901320725679398, 0.003067042212933302, 0.041951462626457214, 0.03668752685189247, 0.0038776027504354715, 0.036396291106939316, 0.003642825409770012, 0.01571308821439743, 0.04514279216527939, 0.0047706314362585545, 0.010733417235314846, 0.12949080765247345, 0.18343371152877808, 0.0057639130391180515, 0.06008812040090561, 0.06420368701219559, 0.00847991555929184, 0.018825512379407883, 0.0, 0.0, 0.0, 0.0, 0.0, 0.0, 0.0, 0.0, 0.0, 0.0], [0.11619281023740768, 0.024008197709918022, 0.017500849440693855, 0.02279529720544815, 0.05027652904391289, 0.03202549368143082, 0.020647753030061722, 0.039747413247823715, 0.023735979571938515, 0.02667790651321411, 0.018856428563594818, 0.02817135863006115, 0.03460882976651192, 0.026643715798854828, 0.02276807464659214, 0.023577356711030006, 0.031199190765619278, 0.022620445117354393, 0.09706810116767883, 0.06436185538768768, 0.032514315098524094, 0.04557201266288757, 0.04268260300159454, 0.028252851217985153, 0.025809550657868385, 0.0816851258277893, 0.0, 0.0, 0.0, 0.0, 0.0, 0.0, 0.0, 0.0, 0.0], [0.11220822483301163, 0.005275931674987078, 0.013701368123292923, 0.006475639529526234, 0.058257490396499634, 0.0559183731675148, 0.013027261942625046, 0.10451263189315796, 0.004013673402369022, 0.04011368006467819, 0.0378723070025444, 0.0031745294108986855, 0.012130003422498703, 0.004096257966011763, 0.007334525231271982, 0.01773282140493393, 0.003475235076621175, 0.0030595562420785427, 0.0948338657617569, 0.20002642273902893, 0.005673966370522976, 0.016374550759792328, 0.017230233177542686, 0.004368433728814125, 0.00930806715041399, 0.09713461995124817, 0.052670370787382126, 0.0, 0.0, 0.0, 0.0, 0.0, 0.0, 0.0, 0.0], [0.06115270033478737, 0.004939326085150242, 0.009762825444340706, 0.005227162968367338, 0.03646274656057358, 0.031370535492897034, 0.008218895643949509, 0.11535757035017014, 0.003272867063060403, 0.03824919834733009, 0.033371761441230774, 0.0021793784108012915, 0.007692958693951368, 0.0034548097755759954, 0.009085439145565033, 0.02790050581097603, 0.0023665940389037132, 0.003948243800550699, 0.0407714806497097, 0.2757468819618225, 0.003546666819602251, 0.012455110438168049, 0.03261313959956169, 0.003209818387404084, 0.0036030923947691917, 0.1000961884856224, 0.08892866969108582, 0.03501542657613754, 0.0, 0.0, 0.0, 0.0, 0.0, 0.0, 0.0], [0.11957033723592758, 0.008050517179071903, 0.013377291150391102, 0.007089267484843731, 0.025275398045778275, 0.05149082839488983, 0.006585440598428249, 0.06165982037782669, 0.005620484706014395, 0.055614884942770004, 0.027291802689433098, 0.004286487121134996, 0.0076984320767223835, 0.005996249616146088, 0.007942017167806625, 0.028790514916181564, 0.004870963748544455, 0.004313759971410036, 0.02622806653380394, 0.15385547280311584, 0.01070996094495058, 0.009564646519720554, 0.02917839027941227, 0.005329277366399765, 0.00805151741951704, 0.07812706381082535, 0.10984011739492416, 0.029521044343709946, 0.09406992793083191, 0.0, 0.0, 0.0, 0.0, 0.0, 0.0], [0.025880735367536545, 0.0032868762500584126, 0.009190608747303486, 0.0022713157813996077, 0.04206255450844765, 0.040355607867240906, 0.01510708313435316, 0.0480133481323719, 0.0008096100646071136, 0.039064228534698486, 0.026566797867417336, 0.001520446385256946, 0.02122015506029129, 0.0009539542370475829, 0.0078103686682879925, 0.033135153353214264, 0.0018792508635669947, 0.010119681246578693, 0.06751003861427307, 0.12262913584709167, 0.0015832222998142242, 0.02216804027557373, 0.03078521601855755, 0.004318809602409601, 0.01872900314629078, 0.1447751224040985, 0.06957438588142395, 0.11388751119375229, 0.07182328402996063, 0.002968475455418229, 0.0, 0.0, 0.0, 0.0, 0.0], [0.04612509906291962, 0.004929372575134039, 0.01190501730889082, 0.005939910653978586, 0.05086231976747513, 0.03915585204958916, 0.011702247895300388, 0.07777238637208939, 0.002722491743043065, 0.029330722987651825, 0.03543661907315254, 0.0025086570531129837, 0.011883244849741459, 0.002963855629786849, 0.008878660388290882, 0.018936675041913986, 0.0028045859653502703, 0.004066930152475834, 0.06637166440486908, 0.16173599660396576, 0.0040747420862317085, 0.0174179058521986, 0.04845814406871796, 0.0054898508824408054, 0.014467379078269005, 0.08884268999099731, 0.05744140222668648, 0.048157576471567154, 0.09182097017765045, 0.004751021042466164, 0.023045992478728294, 0.0, 0.0, 0.0, 0.0], [0.02861652337014675, 0.0035397156607359648, 0.012825747951865196, 0.003731101518496871, 0.022132830694317818, 0.026339074596762657, 0.015483642928302288, 0.04692447558045387, 0.0016770174261182547, 0.053430888801813126, 0.03818725422024727, 0.002529487945139408, 0.027682239189743996, 0.001944716670550406, 0.010427958332002163, 0.020306400954723358, 0.003083115443587303, 0.008337554521858692, 0.06147446110844612, 0.05695469677448273, 0.0030909168999642134, 0.019787296652793884, 0.0377042219042778, 0.004031909629702568, 0.020770881325006485, 0.12126165628433228, 0.08733709156513214, 0.07036235183477402, 0.09933114051818848, 0.005798673257231712, 0.06381496787071228, 0.02107994630932808, 0.0, 0.0, 0.0], [0.02276923507452011, 0.0023638170678168535, 0.006953612435609102, 0.000974514870904386, 0.0334312878549099, 0.030963117256760597, 0.012881078757345676, 0.0763968750834465, 0.0002621038584038615, 0.030449924990534782, 0.03674256056547165, 0.0005670601967722178, 0.014569045044481754, 0.00030553285614587367, 0.00594836100935936, 0.022492563351988792, 0.0007025576778687537, 0.004866448231041431, 0.060261864215135574, 0.15585914254188538, 0.0005001769750379026, 0.019988080486655235, 0.030868496745824814, 0.00312815117649734, 0.012151171453297138, 0.11994653195142746, 0.07597392052412033, 0.09628812223672867, 0.07584252953529358, 0.0010643763234838843, 0.032713308930397034, 0.011111119762063026, 0.0006633001612499356, 0.0, 0.0], [0.06755811721086502, 0.0033527943305671215, 0.008972210809588432, 0.0034025395289063454, 0.056073058396577835, 0.030404703691601753, 0.013628300279378891, 0.07952422648668289, 0.0025889393873512745, 0.03472938761115074, 0.015315971337258816, 0.0025271004997193813, 0.007685469929128885, 0.002692825859412551, 0.007112995255738497, 0.026128459721803665, 0.002773368265479803, 0.007069503888487816, 0.050762053579092026, 0.1759389340877533, 0.003935440443456173, 0.010542859323322773, 0.012697340920567513, 0.002831441117450595, 0.004983493592590094, 0.056103698909282684, 0.10278662294149399, 0.0786440297961235, 0.06361378729343414, 0.0042906454764306545, 0.012449050322175026, 0.007846910506486893, 0.0035741638857871294, 0.03745955973863602, 0.0], [0.05889427289366722, 0.004834291059523821, 0.008816235698759556, 0.004917601589113474, 0.057244494557380676, 0.04719965159893036, 0.010384360328316689, 0.04373680800199509, 0.0032532138284295797, 0.027000514790415764, 0.015385990031063557, 0.005444501060992479, 0.018304411321878433, 0.0036100572906434536, 0.011856133118271828, 0.07255370169878006, 0.006018079351633787, 0.006411908660084009, 0.05586155876517296, 0.08374673873186111, 0.003973669372498989, 0.01859060674905777, 0.01944512128829956, 0.003880677279084921, 0.008932654745876789, 0.12242711335420609, 0.0409863218665123, 0.0742977038025856, 0.057745546102523804, 0.006318635307252407, 0.01308412291109562, 0.02306581288576126, 0.005796522833406925, 0.04094134643673897, 0.015039595775306225]], [[1.0, 0.0, 0.0, 0.0, 0.0, 0.0, 0.0, 0.0, 0.0, 0.0, 0.0, 0.0, 0.0, 0.0, 0.0, 0.0, 0.0, 0.0, 0.0, 0.0, 0.0, 0.0, 0.0, 0.0, 0.0, 0.0, 0.0, 0.0, 0.0, 0.0, 0.0, 0.0, 0.0, 0.0, 0.0], [0.9780336022377014, 0.021966347470879555, 0.0, 0.0, 0.0, 0.0, 0.0, 0.0, 0.0, 0.0, 0.0, 0.0, 0.0, 0.0, 0.0, 0.0, 0.0, 0.0, 0.0, 0.0, 0.0, 0.0, 0.0, 0.0, 0.0, 0.0, 0.0, 0.0, 0.0, 0.0, 0.0, 0.0, 0.0, 0.0, 0.0], [0.5068985223770142, 0.4279148280620575, 0.06518661975860596, 0.0, 0.0, 0.0, 0.0, 0.0, 0.0, 0.0, 0.0, 0.0, 0.0, 0.0, 0.0, 0.0, 0.0, 0.0, 0.0, 0.0, 0.0, 0.0, 0.0, 0.0, 0.0, 0.0, 0.0, 0.0, 0.0, 0.0, 0.0, 0.0, 0.0, 0.0, 0.0], [0.34595048427581787, 0.23385104537010193, 0.19138799607753754, 0.22881047427654266, 0.0, 0.0, 0.0, 0.0, 0.0, 0.0, 0.0, 0.0, 0.0, 0.0, 0.0, 0.0, 0.0, 0.0, 0.0, 0.0, 0.0, 0.0, 0.0, 0.0, 0.0, 0.0, 0.0, 0.0, 0.0, 0.0, 0.0, 0.0, 0.0, 0.0, 0.0], [0.278596967458725, 0.17525729537010193, 0.11037099361419678, 0.25180956721305847, 0.18396516144275665, 0.0, 0.0, 0.0, 0.0, 0.0, 0.0, 0.0, 0.0, 0.0, 0.0, 0.0, 0.0, 0.0, 0.0, 0.0, 0.0, 0.0, 0.0, 0.0, 0.0, 0.0, 0.0, 0.0, 0.0, 0.0, 0.0, 0.0, 0.0, 0.0, 0.0], [0.20804201066493988, 0.08827144652605057, 0.061608169227838516, 0.2584841251373291, 0.270569771528244, 0.11302443593740463, 0.0, 0.0, 0.0, 0.0, 0.0, 0.0, 0.0, 0.0, 0.0, 0.0, 0.0, 0.0, 0.0, 0.0, 0.0, 0.0, 0.0, 0.0, 0.0, 0.0, 0.0, 0.0, 0.0, 0.0, 0.0, 0.0, 0.0, 0.0, 0.0], [0.1632562130689621, 0.12141191959381104, 0.11990711092948914, 0.16166459023952484, 0.10774070769548416, 0.2975034713745117, 0.028515949845314026, 0.0, 0.0, 0.0, 0.0, 0.0, 0.0, 0.0, 0.0, 0.0, 0.0, 0.0, 0.0, 0.0, 0.0, 0.0, 0.0, 0.0, 0.0, 0.0, 0.0, 0.0, 0.0, 0.0, 0.0, 0.0, 0.0, 0.0, 0.0], [0.12280935794115067, 0.03978986293077469, 0.04514545202255249, 0.13578499853610992, 0.09269554167985916, 0.11808711290359497, 0.3369847536087036, 0.10870295017957687, 0.0, 0.0, 0.0, 0.0, 0.0, 0.0, 0.0, 0.0, 0.0, 0.0, 0.0, 0.0, 0.0, 0.0, 0.0, 0.0, 0.0, 0.0, 0.0, 0.0, 0.0, 0.0, 0.0, 0.0, 0.0, 0.0, 0.0], [0.07854471355676651, 0.0357038639485836, 0.029105354100465775, 0.052009038627147675, 0.10322188585996628, 0.06222518905997276, 0.06801235675811768, 0.17029160261154175, 0.40088605880737305, 0.0, 0.0, 0.0, 0.0, 0.0, 0.0, 0.0, 0.0, 0.0, 0.0, 0.0, 0.0, 0.0, 0.0, 0.0, 0.0, 0.0, 0.0, 0.0, 0.0, 0.0, 0.0, 0.0, 0.0, 0.0, 0.0], [0.0855533629655838, 0.04508214816451073, 0.020755307748913765, 0.057487912476062775, 0.05853373557329178, 0.03812539204955101, 0.03164026513695717, 0.14470814168453217, 0.3939674198627472, 0.12414630502462387, 0.0, 0.0, 0.0, 0.0, 0.0, 0.0, 0.0, 0.0, 0.0, 0.0, 0.0, 0.0, 0.0, 0.0, 0.0, 0.0, 0.0, 0.0, 0.0, 0.0, 0.0, 0.0, 0.0, 0.0, 0.0], [0.03400758281350136, 0.005801304243505001, 0.00426435936242342, 0.014554583467543125, 0.0020581241697072983, 0.010052239522337914, 0.015462437644600868, 0.014919930137693882, 0.07456017285585403, 0.8029415607452393, 0.021377814933657646, 0.0, 0.0, 0.0, 0.0, 0.0, 0.0, 0.0, 0.0, 0.0, 0.0, 0.0, 0.0, 0.0, 0.0, 0.0, 0.0, 0.0, 0.0, 0.0, 0.0, 0.0, 0.0, 0.0, 0.0], [0.03658132255077362, 0.00855263415724039, 0.009085925295948982, 0.01071859523653984, 0.031510528177022934, 0.07786069810390472, 0.02809949219226837, 0.052033863961696625, 0.09175646305084229, 0.24980780482292175, 0.22384576499462128, 0.1801469326019287, 0.0, 0.0, 0.0, 0.0, 0.0, 0.0, 0.0, 0.0, 0.0, 0.0, 0.0, 0.0, 0.0, 0.0, 0.0, 0.0, 0.0, 0.0, 0.0, 0.0, 0.0, 0.0, 0.0], [0.03899509832262993, 0.013953054323792458, 0.027150368317961693, 0.015978636220097542, 0.00606886949390173, 0.015332895331084728, 0.007358455564826727, 0.008143596351146698, 0.09236105531454086, 0.09582369774580002, 0.39708948135375977, 0.22508281469345093, 0.05666201561689377, 0.0, 0.0, 0.0, 0.0, 0.0, 0.0, 0.0, 0.0, 0.0, 0.0, 0.0, 0.0, 0.0, 0.0, 0.0, 0.0, 0.0, 0.0, 0.0, 0.0, 0.0, 0.0], [0.029417643323540688, 0.006853978615254164, 0.005433522164821625, 0.008306872099637985, 0.015738263726234436, 0.008708890527486801, 0.008349092677235603, 0.023920072242617607, 0.04694680869579315, 0.04814498871564865, 0.09309996664524078, 0.15290862321853638, 0.1485416740179062, 0.4036296010017395, 0.0, 0.0, 0.0, 0.0, 0.0, 0.0, 0.0, 0.0, 0.0, 0.0, 0.0, 0.0, 0.0, 0.0, 0.0, 0.0, 0.0, 0.0, 0.0, 0.0, 0.0], [0.037128280848264694, 0.007584472186863422, 0.0035451471339911222, 0.00811796449124813, 0.018834179267287254, 0.0059049795381724834, 0.009632588364183903, 0.011076653376221657, 0.042499423027038574, 0.015083970502018929, 0.019843479618430138, 0.11177279055118561, 0.12816859781742096, 0.3331785798072815, 0.2476288378238678, 0.0, 0.0, 0.0, 0.0, 0.0, 0.0, 0.0, 0.0, 0.0, 0.0, 0.0, 0.0, 0.0, 0.0, 0.0, 0.0, 0.0, 0.0, 0.0, 0.0], [0.02479150891304016, 0.002257242798805237, 0.0019112317822873592, 0.003149649826809764, 0.0017746692756190896, 0.0030808630399405956, 0.01988072320818901, 0.00642710505053401, 0.015317482873797417, 0.003226611530408263, 0.020296070724725723, 0.05772733688354492, 0.022555241361260414, 0.08885952830314636, 0.7141122221946716, 0.014632449485361576, 0.0, 0.0, 0.0, 0.0, 0.0, 0.0, 0.0, 0.0, 0.0, 0.0, 0.0, 0.0, 0.0, 0.0, 0.0, 0.0, 0.0, 0.0, 0.0], [0.019352801144123077, 0.002735719783231616, 0.0027006471063941717, 0.0028164007235318422, 0.0073006171733140945, 0.016268711537122726, 0.00513469846919179, 0.010258644819259644, 0.013791467063128948, 0.03380442410707474, 0.033944856375455856, 0.024110423400998116, 0.05347486585378647, 0.09691005945205688, 0.276188462972641, 0.22190360724925995, 0.1793036311864853, 0.0, 0.0, 0.0, 0.0, 0.0, 0.0, 0.0, 0.0, 0.0, 0.0, 0.0, 0.0, 0.0, 0.0, 0.0, 0.0, 0.0, 0.0], [0.01677829958498478, 0.0013836650177836418, 0.0012504438636824489, 0.0019532653968781233, 0.001228310982696712, 0.003427051240578294, 0.0017710210522636771, 0.0025876855943351984, 0.009956534951925278, 0.007537429686635733, 0.004963131155818701, 0.023668859153985977, 0.01745665818452835, 0.06967750936746597, 0.26127684116363525, 0.24082417786121368, 0.1767791360616684, 0.15747995674610138, 0.0, 0.0, 0.0, 0.0, 0.0, 0.0, 0.0, 0.0, 0.0, 0.0, 0.0, 0.0, 0.0, 0.0, 0.0, 0.0, 0.0], [0.054750390350818634, 0.009201946668326855, 0.0037833000533282757, 0.0068918801844120026, 0.007006870117038488, 0.005267785396426916, 0.00191358698066324, 0.00664901128038764, 0.022490739822387695, 0.0072036972269415855, 0.03985985741019249, 0.026306968182325363, 0.0359838604927063, 0.10654614120721817, 0.1474279761314392, 0.029531918466091156, 0.1483415961265564, 0.23425285518169403, 0.10658959299325943, 0.0, 0.0, 0.0, 0.0, 0.0, 0.0, 0.0, 0.0, 0.0, 0.0, 0.0, 0.0, 0.0, 0.0, 0.0, 0.0], [0.08004879206418991, 0.0035627479664981365, 0.0033941471483558416, 0.01128556951880455, 0.01220858097076416, 0.001943495706655085, 0.003920828457921743, 0.02411663345992565, 0.02334996871650219, 0.008975887671113014, 0.005343953613191843, 0.025336051359772682, 0.013870199210941792, 0.10103639960289001, 0.039738185703754425, 0.08061376214027405, 0.12086465209722519, 0.12294691801071167, 0.14132514595985413, 0.1761181354522705, 0.0, 0.0, 0.0, 0.0, 0.0, 0.0, 0.0, 0.0, 0.0, 0.0, 0.0, 0.0, 0.0, 0.0, 0.0], [0.013053358532488346, 0.00197956757619977, 0.001618212671019137, 0.0014078514650464058, 0.001486824476160109, 0.0013099175412207842, 0.0016642959089949727, 0.0025665191933512688, 0.0030626694206148386, 0.01034057792276144, 0.007755248341709375, 0.008929412811994553, 0.0088695352897048, 0.017165157943964005, 0.07265804708003998, 0.08664456754922867, 0.06223944574594498, 0.16528470814228058, 0.07255078852176666, 0.09155549108982086, 0.3678578734397888, 0.0, 0.0, 0.0, 0.0, 0.0, 0.0, 0.0, 0.0, 0.0, 0.0, 0.0, 0.0, 0.0, 0.0], [0.012316009029746056, 0.0011592372320592403, 0.0007622397970408201, 0.0019507495453581214, 0.001271851477213204, 0.0006892288220115006, 0.0005458991508930922, 0.0026030021253973246, 0.0039176675491034985, 0.0005409364821389318, 0.0012741908431053162, 0.006503162439912558, 0.005551593843847513, 0.017973454669117928, 0.01335334312170744, 0.03805125504732132, 0.04303395375609398, 0.03958655893802643, 0.022300677374005318, 0.038983624428510666, 0.5949541926383972, 0.15267717838287354, 0.0, 0.0, 0.0, 0.0, 0.0, 0.0, 0.0, 0.0, 0.0, 0.0, 0.0, 0.0, 0.0], [0.013724981807172298, 0.0016125725815072656, 0.00032898722565732896, 0.0010084304958581924, 0.001175805926322937, 0.0007259283447638154, 0.000591876043472439, 0.0009615602903068066, 0.0031186211854219437, 0.005970005877315998, 0.003033465938642621, 0.0033445002045482397, 0.008407551795244217, 0.013658517971634865, 0.005607028026133776, 0.005321721080690622, 0.01928994245827198, 0.02910967357456684, 0.013599619269371033, 0.031337764114141464, 0.25137239694595337, 0.5305222272872925, 0.056176893413066864, 0.0, 0.0, 0.0, 0.0, 0.0, 0.0, 0.0, 0.0, 0.0, 0.0, 0.0, 0.0], [0.016002392396330833, 0.0009560457547195256, 0.0005680461181327701, 0.001554973772726953, 0.001575573580339551, 0.0006219744100235403, 0.001125764800235629, 0.0014368738047778606, 0.002310047158971429, 0.0009028330678120255, 0.001392147969454527, 0.0036725918762385845, 0.0036322809755802155, 0.009217403829097748, 0.008623871020972729, 0.027025718241930008, 0.021376442164182663, 0.03330114483833313, 0.03885399177670479, 0.03905839845538139, 0.2659664750099182, 0.1937260776758194, 0.09792890399694443, 0.2291700392961502, 0.0, 0.0, 0.0, 0.0, 0.0, 0.0, 0.0, 0.0, 0.0, 0.0, 0.0], [0.009987277910113335, 0.0009651760337874293, 0.0006041581509634852, 0.0009222122025676072, 0.0008805812685750425, 0.0005974333616904914, 0.00021149212261661887, 0.0006455674883909523, 0.0012417689431458712, 0.00068596878554672, 0.0007031501154415309, 0.0014577405527234077, 0.0018487696070224047, 0.005077200476080179, 0.0019275658996775746, 0.012413389049470425, 0.008568285033106804, 0.012073652818799019, 0.02193663828074932, 0.02919413521885872, 0.1427275389432907, 0.09834033995866776, 0.11847677826881409, 0.31631967425346375, 0.21219348907470703, 0.0, 0.0, 0.0, 0.0, 0.0, 0.0, 0.0, 0.0, 0.0, 0.0], [0.01686089299619198, 0.001970325829461217, 0.000885836489032954, 0.001765637774951756, 0.0023928354494273663, 0.0005271157715469599, 0.00036178971640765667, 0.0006361044361256063, 0.0022411320824176073, 0.0008515861700288951, 0.00038157840026542544, 0.0022748317569494247, 0.0018798467935994267, 0.00729223620146513, 0.002146674320101738, 0.0025263039860874414, 0.010355686768889427, 0.011969324201345444, 0.006590917706489563, 0.012827488593757153, 0.12130485475063324, 0.06624643504619598, 0.14612403512001038, 0.28280720114707947, 0.24703311920166016, 0.049746204167604446, 0.0, 0.0, 0.0, 0.0, 0.0, 0.0, 0.0, 0.0, 0.0], [0.026405038312077522, 0.0014231017557904124, 0.0016234456561505795, 0.0025764056481420994, 0.0026897029019892216, 0.0012257531052455306, 0.0010898768668994308, 0.0009538466692902148, 0.001922353869304061, 0.002411526395007968, 0.002457945141941309, 0.0014354195445775986, 0.005378496367484331, 0.004732348024845123, 0.0019391169771552086, 0.007957515306770802, 0.006086880806833506, 0.012657471932470798, 0.011602510698139668, 0.02909662574529648, 0.08598873764276505, 0.07665883749723434, 0.03624016419053078, 0.13133354485034943, 0.19490282237529755, 0.2176632583141327, 0.1315472424030304, 0.0, 0.0, 0.0, 0.0, 0.0, 0.0, 0.0, 0.0], [0.023896103724837303, 0.0020675004925578833, 0.002509379293769598, 0.0018511987291276455, 0.003160970052704215, 0.0009005637257359922, 0.0002685428480617702, 0.0005213559488765895, 0.00178721419069916, 0.0019308992195874453, 0.0010158243821933866, 0.0010442667407914996, 0.0015677064657211304, 0.004060100764036179, 0.0008207408245652914, 0.003358301939442754, 0.004117123782634735, 0.007223024498671293, 0.014547310769557953, 0.04635158181190491, 0.056018680334091187, 0.03840017691254616, 0.0416099987924099, 0.10494543612003326, 0.15788212418556213, 0.12118800729513168, 0.19090242683887482, 0.1660534143447876, 0.0, 0.0, 0.0, 0.0, 0.0, 0.0, 0.0], [0.04075774922966957, 0.0039583612233400345, 0.005698094610124826, 0.003957983572036028, 0.001404780661687255, 0.00032769443350844085, 0.0006401930586434901, 0.0012045821640640497, 0.002238560700789094, 0.0007448492688126862, 0.003836574964225292, 0.0016206810250878334, 0.0010148311266675591, 0.004261184483766556, 0.0009652947192080319, 0.0003954318235628307, 0.00540106650441885, 0.007263401988893747, 0.005766804795712233, 0.029991835355758667, 0.041736528277397156, 0.017527643591165543, 0.025155071169137955, 0.07565270364284515, 0.2454262524843216, 0.06668500602245331, 0.26483187079429626, 0.05502413213253021, 0.08651077747344971, 0.0, 0.0, 0.0, 0.0, 0.0, 0.0], [0.011784795671701431, 0.0013947543920949101, 0.0009515663259662688, 0.0008953207288868725, 0.0010372716933488846, 0.0004972642636857927, 0.00025283850845880806, 0.0004317567509133369, 0.0005345694371499121, 0.0002822918177116662, 0.0004274732491467148, 0.0005479571409523487, 0.0008038732339628041, 0.00110374775249511, 0.001088285818696022, 0.0026353751309216022, 0.0020033149048686028, 0.0029394535813480616, 0.0051142023876309395, 0.00916231982409954, 0.020236428827047348, 0.01439724676311016, 0.0143866166472435, 0.05287306383252144, 0.04425812512636185, 0.07174724340438843, 0.0807715579867363, 0.11779714375734329, 0.1448613703250885, 0.3947828412055969, 0.0, 0.0, 0.0, 0.0, 0.0], [0.012992863543331623, 0.0016676143277436495, 0.0010021079797297716, 0.0011761246714740992, 0.0007638350361958146, 0.00040058293961919844, 0.00012849246559198946, 0.00010518689668970183, 0.0005606435588560998, 0.00014079402899369597, 0.00012207562394905835, 0.0003985990770161152, 0.00022988321143202484, 0.0011077820090577006, 0.00036310372524894774, 0.0008891797624528408, 0.0014402444940060377, 0.0014520229306071997, 0.0026305695064365864, 0.003167383838444948, 0.017224669456481934, 0.010722343809902668, 0.005023001227527857, 0.04577851668000221, 0.047519683837890625, 0.02706710807979107, 0.05216856673359871, 0.05500795692205429, 0.11481023579835892, 0.4456881284713745, 0.1482507437467575, 0.0, 0.0, 0.0, 0.0], [0.011720015667378902, 0.0009638673509471118, 0.0016792799578979611, 0.0009598793112672865, 0.0011835347395390272, 0.00035873454180546105, 0.00013125187251716852, 0.00020985855371691287, 0.0003518577723298222, 0.000116738498036284, 0.0003326718579046428, 0.00020899793889839202, 0.00016304070595651865, 0.0005591597291640937, 0.00017877902428153902, 0.0005847539287060499, 0.0006520409369841218, 0.0008100893464870751, 0.000823202368337661, 0.006545143201947212, 0.007790680509060621, 0.0066225104965269566, 0.005052980035543442, 0.014489840716123581, 0.024942079558968544, 0.019010324031114578, 0.028525494039058685, 0.03678770735859871, 0.14266979694366455, 0.23489880561828613, 0.30085402727127075, 0.14982283115386963, 0.0, 0.0, 0.0], [0.011463277973234653, 0.0009014824754558504, 0.00054774439195171, 0.0005869869492016733, 0.0005616623675450683, 0.00023434791364707053, 0.00013944675447419286, 0.00019926782988477498, 0.0003140303015243262, 0.0001251465582754463, 0.0002147951745428145, 0.00024813474738039076, 0.00022906142112333328, 0.0005020764656364918, 0.00045190186938270926, 0.0006676740013062954, 0.0007638584938831627, 0.0009467161726206541, 0.0010094363242387772, 0.0037195731420069933, 0.0074448916129767895, 0.004500559531152248, 0.0018344357376918197, 0.012973624281585217, 0.015522480942308903, 0.021838275715708733, 0.016228968277573586, 0.024697430431842804, 0.038053207099437714, 0.16302348673343658, 0.11826050281524658, 0.22884757816791534, 0.3229478597640991, 0.0, 0.0], [0.009539727121591568, 0.0014243284240365028, 0.000994458212517202, 0.0009655575850047171, 0.0007854420691728592, 0.00030160683672875166, 0.00011159571295138448, 0.0008093694341368973, 0.0004005465598311275, 8.517065725754946e-05, 0.0006307570147328079, 0.00020861571829300374, 0.00025255605578422546, 0.0005451840115711093, 0.00024275525356642902, 0.0005828304565511644, 0.0005503922002390027, 0.0010548584396019578, 0.0010979138314723969, 0.0040335445664823055, 0.00515154842287302, 0.007251264061778784, 0.003988181706517935, 0.012260389514267445, 0.013561557978391647, 0.03828655183315277, 0.06675272434949875, 0.013111516833305359, 0.1009327843785286, 0.13179118931293488, 0.054323069751262665, 0.15251488983631134, 0.30832451581954956, 0.0671326294541359, 0.0], [0.009234581142663956, 0.001869691419415176, 0.001543495454825461, 0.0012878916459158063, 0.0009349438478238881, 0.0002825609117280692, 0.0004494281020015478, 0.000559499952942133, 0.00032776824082247913, 7.203828863566741e-05, 0.00010657915117917582, 0.0002636242425069213, 0.0003654730971902609, 0.00037483108462765813, 0.0003117539163213223, 0.0008969137561507523, 0.0006347461021505296, 0.000865003268700093, 0.0008020044188015163, 0.0006307901348918676, 0.003218781901523471, 0.003845836268737912, 0.0030004391446709633, 0.007814166136085987, 0.010107206180691719, 0.016721561551094055, 0.007672082632780075, 0.010031220503151417, 0.005356385838240385, 0.0775706097483635, 0.037744466215372086, 0.1380910575389862, 0.1956760585308075, 0.030743561685085297, 0.43059292435646057]], [[1.0, 0.0, 0.0, 0.0, 0.0, 0.0, 0.0, 0.0, 0.0, 0.0, 0.0, 0.0, 0.0, 0.0, 0.0, 0.0, 0.0, 0.0, 0.0, 0.0, 0.0, 0.0, 0.0, 0.0, 0.0, 0.0, 0.0, 0.0, 0.0, 0.0, 0.0, 0.0, 0.0, 0.0, 0.0], [0.8970723748207092, 0.10292768478393555, 0.0, 0.0, 0.0, 0.0, 0.0, 0.0, 0.0, 0.0, 0.0, 0.0, 0.0, 0.0, 0.0, 0.0, 0.0, 0.0, 0.0, 0.0, 0.0, 0.0, 0.0, 0.0, 0.0, 0.0, 0.0, 0.0, 0.0, 0.0, 0.0, 0.0, 0.0, 0.0, 0.0], [0.7731762528419495, 0.17108602821826935, 0.05573773384094238, 0.0, 0.0, 0.0, 0.0, 0.0, 0.0, 0.0, 0.0, 0.0, 0.0, 0.0, 0.0, 0.0, 0.0, 0.0, 0.0, 0.0, 0.0, 0.0, 0.0, 0.0, 0.0, 0.0, 0.0, 0.0, 0.0, 0.0, 0.0, 0.0, 0.0, 0.0, 0.0], [0.2190985530614853, 0.09592846035957336, 0.1539975255727768, 0.5309755206108093, 0.0, 0.0, 0.0, 0.0, 0.0, 0.0, 0.0, 0.0, 0.0, 0.0, 0.0, 0.0, 0.0, 0.0, 0.0, 0.0, 0.0, 0.0, 0.0, 0.0, 0.0, 0.0, 0.0, 0.0, 0.0, 0.0, 0.0, 0.0, 0.0, 0.0, 0.0], [0.4932918846607208, 0.12421072274446487, 0.08378951996564865, 0.2104451209306717, 0.08826270699501038, 0.0, 0.0, 0.0, 0.0, 0.0, 0.0, 0.0, 0.0, 0.0, 0.0, 0.0, 0.0, 0.0, 0.0, 0.0, 0.0, 0.0, 0.0, 0.0, 0.0, 0.0, 0.0, 0.0, 0.0, 0.0, 0.0, 0.0, 0.0, 0.0, 0.0], [0.479253351688385, 0.1148393303155899, 0.05825283005833626, 0.12140917778015137, 0.19296902418136597, 0.033276285976171494, 0.0, 0.0, 0.0, 0.0, 0.0, 0.0, 0.0, 0.0, 0.0, 0.0, 0.0, 0.0, 0.0, 0.0, 0.0, 0.0, 0.0, 0.0, 0.0, 0.0, 0.0, 0.0, 0.0, 0.0, 0.0, 0.0, 0.0, 0.0, 0.0], [0.33760711550712585, 0.13038289546966553, 0.12365777790546417, 0.1684831827878952, 0.03948560357093811, 0.15522721409797668, 0.04515616223216057, 0.0, 0.0, 0.0, 0.0, 0.0, 0.0, 0.0, 0.0, 0.0, 0.0, 0.0, 0.0, 0.0, 0.0, 0.0, 0.0, 0.0, 0.0, 0.0, 0.0, 0.0, 0.0, 0.0, 0.0, 0.0, 0.0, 0.0, 0.0], [0.3124314844608307, 0.1033550575375557, 0.07322120666503906, 0.13077446818351746, 0.08650773018598557, 0.20371736586093903, 0.04714134335517883, 0.04285134747624397, 0.0, 0.0, 0.0, 0.0, 0.0, 0.0, 0.0, 0.0, 0.0, 0.0, 0.0, 0.0, 0.0, 0.0, 0.0, 0.0, 0.0, 0.0, 0.0, 0.0, 0.0, 0.0, 0.0, 0.0, 0.0, 0.0, 0.0], [0.1071995347738266, 0.03256477788090706, 0.04615397751331329, 0.12522779405117035, 0.011105240322649479, 0.034330032765865326, 0.00785838346928358, 0.011366565711796284, 0.6241937279701233, 0.0, 0.0, 0.0, 0.0, 0.0, 0.0, 0.0, 0.0, 0.0, 0.0, 0.0, 0.0, 0.0, 0.0, 0.0, 0.0, 0.0, 0.0, 0.0, 0.0, 0.0, 0.0, 0.0, 0.0, 0.0, 0.0], [0.3028891086578369, 0.0780496746301651, 0.05937647819519043, 0.09426911920309067, 0.17377150058746338, 0.038616281002759933, 0.04802526533603668, 0.039512552320957184, 0.13237620890140533, 0.033113788813352585, 0.0, 0.0, 0.0, 0.0, 0.0, 0.0, 0.0, 0.0, 0.0, 0.0, 0.0, 0.0, 0.0, 0.0, 0.0, 0.0, 0.0, 0.0, 0.0, 0.0, 0.0, 0.0, 0.0, 0.0, 0.0], [0.13027675449848175, 0.042134858667850494, 0.07258214801549911, 0.10922868549823761, 0.03630436211824417, 0.19112566113471985, 0.03369801491498947, 0.05715863034129143, 0.11187221854925156, 0.16414126753807068, 0.051477428525686264, 0.0, 0.0, 0.0, 0.0, 0.0, 0.0, 0.0, 0.0, 0.0, 0.0, 0.0, 0.0, 0.0, 0.0, 0.0, 0.0, 0.0, 0.0, 0.0, 0.0, 0.0, 0.0, 0.0, 0.0], [0.09464417397975922, 0.029253439977765083, 0.03811940923333168, 0.1498957872390747, 0.020670875906944275, 0.0763171836733818, 0.008947468362748623, 0.02004508674144745, 0.3057856261730194, 0.047520961612463, 0.010440821759402752, 0.1983591616153717, 0.0, 0.0, 0.0, 0.0, 0.0, 0.0, 0.0, 0.0, 0.0, 0.0, 0.0, 0.0, 0.0, 0.0, 0.0, 0.0, 0.0, 0.0, 0.0, 0.0, 0.0, 0.0, 0.0], [0.1444079577922821, 0.06329525262117386, 0.07617758959531784, 0.07194556295871735, 0.033941056579351425, 0.08442071825265884, 0.035940226167440414, 0.07685539871454239, 0.1158827394247055, 0.05951956287026405, 0.06183493509888649, 0.1484171450138092, 0.0273617971688509, 0.0, 0.0, 0.0, 0.0, 0.0, 0.0, 0.0, 0.0, 0.0, 0.0, 0.0, 0.0, 0.0, 0.0, 0.0, 0.0, 0.0, 0.0, 0.0, 0.0, 0.0, 0.0], [0.04147873446345329, 0.011494412086904049, 0.0176435224711895, 0.0459972508251667, 0.004085007589310408, 0.013701114803552628, 0.002870904514566064, 0.004510777536779642, 0.24164842069149017, 0.009729509241878986, 0.0026167333126068115, 0.26417702436447144, 0.00805377122014761, 0.3319927453994751, 0.0, 0.0, 0.0, 0.0, 0.0, 0.0, 0.0, 0.0, 0.0, 0.0, 0.0, 0.0, 0.0, 0.0, 0.0, 0.0, 0.0, 0.0, 0.0, 0.0, 0.0], [0.15155859291553497, 0.037725046277046204, 0.02733064629137516, 0.060524746775627136, 0.030143283307552338, 0.028034869581460953, 0.013341409154236317, 0.02250303141772747, 0.11653432995080948, 0.05189971998333931, 0.010558650828897953, 0.10229873657226562, 0.015167277306318283, 0.14137384295463562, 0.19100579619407654, 0.0, 0.0, 0.0, 0.0, 0.0, 0.0, 0.0, 0.0, 0.0, 0.0, 0.0, 0.0, 0.0, 0.0, 0.0, 0.0, 0.0, 0.0, 0.0, 0.0], [0.2839045524597168, 0.0650240108370781, 0.03238337114453316, 0.02959110029041767, 0.04243200644850731, 0.028469786047935486, 0.041533127427101135, 0.08465307950973511, 0.043854985386133194, 0.027530411258339882, 0.0921814888715744, 0.03751114755868912, 0.04891902580857277, 0.049849651753902435, 0.0791383758187294, 0.013023811392486095, 0.0, 0.0, 0.0, 0.0, 0.0, 0.0, 0.0, 0.0, 0.0, 0.0, 0.0, 0.0, 0.0, 0.0, 0.0, 0.0, 0.0, 0.0, 0.0], [0.04885759577155113, 0.014007375575602055, 0.019542617723345757, 0.07337554544210434, 0.0100891487672925, 0.03972572460770607, 0.004310053773224354, 0.0105903260409832, 0.15303602814674377, 0.026499055325984955, 0.005417251493781805, 0.09647626429796219, 0.012806716375052929, 0.2047865241765976, 0.14743396639823914, 0.009689195081591606, 0.1233566626906395, 0.0, 0.0, 0.0, 0.0, 0.0, 0.0, 0.0, 0.0, 0.0, 0.0, 0.0, 0.0, 0.0, 0.0, 0.0, 0.0, 0.0, 0.0], [0.059431225061416626, 0.025951193645596504, 0.03547389432787895, 0.03907975181937218, 0.018049325793981552, 0.023087255656719208, 0.010503754951059818, 0.030069565400481224, 0.09918283671140671, 0.03614410012960434, 0.018410049378871918, 0.11741487681865692, 0.017167573794722557, 0.12769995629787445, 0.08459019660949707, 0.03790272772312164, 0.1457722783088684, 0.07406951487064362, 0.0, 0.0, 0.0, 0.0, 0.0, 0.0, 0.0, 0.0, 0.0, 0.0, 0.0, 0.0, 0.0, 0.0, 0.0, 0.0, 0.0], [0.2724890410900116, 0.045022718608379364, 0.046122364699840546, 0.042052011936903, 0.038135625422000885, 0.05454427748918533, 0.025706565007567406, 0.01925416849553585, 0.04536457359790802, 0.05106878653168678, 0.02147936075925827, 0.05142936110496521, 0.03568308800458908, 0.05110247805714607, 0.04221019893884659, 0.03813279792666435, 0.05789821967482567, 0.023540088906884193, 0.03876427188515663, 0.0, 0.0, 0.0, 0.0, 0.0, 0.0, 0.0, 0.0, 0.0, 0.0, 0.0, 0.0, 0.0, 0.0, 0.0, 0.0], [0.2398124486207962, 0.03723884001374245, 0.04641323164105415, 0.018074771389365196, 0.028609463945031166, 0.0315636470913887, 0.02326364628970623, 0.053141165524721146, 0.03672980144619942, 0.044361576437950134, 0.014090007171034813, 0.040796536952257156, 0.013384053483605385, 0.040182746946811676, 0.02512497454881668, 0.02228318713605404, 0.04457439109683037, 0.026357246562838554, 0.018502114340662956, 0.19549615681171417, 0.0, 0.0, 0.0, 0.0, 0.0, 0.0, 0.0, 0.0, 0.0, 0.0, 0.0, 0.0, 0.0, 0.0, 0.0], [0.034472573548555374, 0.007049789186567068, 0.00851623248308897, 0.019823290407657623, 0.00200619432143867, 0.00873849168419838, 0.0013805319322273135, 0.0025849882513284683, 0.129638671875, 0.004980521742254496, 0.0014542944263666868, 0.09793517738580704, 0.004242658149451017, 0.17474929988384247, 0.020575353875756264, 0.0029217302799224854, 0.12519210577011108, 0.01766674965620041, 0.00817244965583086, 0.006463977508246899, 0.32143497467041016, 0.0, 0.0, 0.0, 0.0, 0.0, 0.0, 0.0, 0.0, 0.0, 0.0, 0.0, 0.0, 0.0, 0.0], [0.0753212571144104, 0.01738511584699154, 0.02649959735572338, 0.03820115327835083, 0.013464303687214851, 0.017004946246743202, 0.005682714283466339, 0.008161387406289577, 0.0879102498292923, 0.015651999041438103, 0.0046223741956055164, 0.06870013475418091, 0.017068391665816307, 0.11098406463861465, 0.08843359351158142, 0.01554049737751484, 0.08290653675794601, 0.03445707634091377, 0.034902893006801605, 0.02266903966665268, 0.16727584600448608, 0.04715687781572342, 0.0, 0.0, 0.0, 0.0, 0.0, 0.0, 0.0, 0.0, 0.0, 0.0, 0.0, 0.0, 0.0], [0.11039690673351288, 0.017618602141737938, 0.012073224410414696, 0.07903025299310684, 0.047071803361177444, 0.02839348278939724, 0.01085329707711935, 0.03898294270038605, 0.04254177212715149, 0.053135789930820465, 0.010616571642458439, 0.04066743329167366, 0.016578687354922295, 0.05044253170490265, 0.04148309305310249, 0.011694182641804218, 0.0489438995718956, 0.04587530344724655, 0.06803461164236069, 0.031458187848329544, 0.07373649626970291, 0.09332360327243805, 0.02704729698598385, 0.0, 0.0, 0.0, 0.0, 0.0, 0.0, 0.0, 0.0, 0.0, 0.0, 0.0, 0.0], [0.05010591447353363, 0.011403635144233704, 0.0189800001680851, 0.048291124403476715, 0.005478165578097105, 0.027938112616539, 0.00347534311003983, 0.0096676554530859, 0.08883963525295258, 0.021459797397255898, 0.009184245951473713, 0.06738948822021484, 0.006293780170381069, 0.11730517446994781, 0.05559386685490608, 0.023259563371539116, 0.08538822084665298, 0.030172375962138176, 0.018553784117102623, 0.049727167934179306, 0.138699471950531, 0.035930924117565155, 0.029570575803518295, 0.04729193076491356, 0.0, 0.0, 0.0, 0.0, 0.0, 0.0, 0.0, 0.0, 0.0, 0.0, 0.0], [0.033650629222393036, 0.03973434492945671, 0.013943267986178398, 0.0221550315618515, 0.0073741041123867035, 0.01253434456884861, 0.003937928471714258, 0.0055880374275147915, 0.0527641586959362, 0.01135347317904234, 0.0029761549085378647, 0.06122000515460968, 0.007114537060260773, 0.06609287112951279, 0.018457189202308655, 0.0047071841545403, 0.0778060331940651, 0.015934066846966743, 0.016269708052277565, 0.027332933619618416, 0.08945078402757645, 0.028283212333917618, 0.01342835184186697, 0.24125002324581146, 0.126641646027565, 0.0, 0.0, 0.0, 0.0, 0.0, 0.0, 0.0, 0.0, 0.0, 0.0], [0.10163001716136932, 0.04817343130707741, 0.022741515189409256, 0.017647160217165947, 0.01635766215622425, 0.014718183316290379, 0.020238906145095825, 0.03009830415248871, 0.03836440667510033, 0.0252974946051836, 0.039593446999788284, 0.04179811105132103, 0.01849495805799961, 0.04345662519335747, 0.02387692965567112, 0.01341191679239273, 0.04804753512144089, 0.021995289251208305, 0.030744781717658043, 0.05168469250202179, 0.05786485970020294, 0.04216013848781586, 0.05038997530937195, 0.08024895191192627, 0.07608186453580856, 0.024882828816771507, 0.0, 0.0, 0.0, 0.0, 0.0, 0.0, 0.0, 0.0, 0.0], [0.06603527069091797, 0.020660115405917168, 0.02168169617652893, 0.034087613224983215, 0.015279395505785942, 0.018441995605826378, 0.01078958623111248, 0.055958341807127, 0.035654861479997635, 0.02173886075615883, 0.025664951652288437, 0.039465565234422684, 0.019091853871941566, 0.04260498285293579, 0.0451403371989727, 0.012913591228425503, 0.0473557747900486, 0.02556185983121395, 0.035244137048721313, 0.09746365249156952, 0.05611313134431839, 0.03593847528100014, 0.03256697952747345, 0.04301982745528221, 0.04697674512863159, 0.0324612557888031, 0.06208905205130577, 0.0, 0.0, 0.0, 0.0, 0.0, 0.0, 0.0, 0.0], [0.10541096329689026, 0.016973106190562248, 0.02034101076424122, 0.032666537910699844, 0.021851172670722008, 0.031789928674697876, 0.0055712065659463406, 0.02419452928006649, 0.016740456223487854, 0.016082555055618286, 0.013484911993145943, 0.022790376096963882, 0.020844899117946625, 0.019816430285573006, 0.007412000093609095, 0.013035077601671219, 0.026982471346855164, 0.010132258757948875, 0.01766771264374256, 0.2972624897956848, 0.023457150906324387, 0.03235582262277603, 0.03224533051252365, 0.019980115815997124, 0.05017195641994476, 0.04827893152832985, 0.03308819606900215, 0.019372420385479927, 0.0, 0.0, 0.0, 0.0, 0.0, 0.0, 0.0], [0.11478214710950851, 0.028451886028051376, 0.030158091336488724, 0.029890701174736023, 0.015577709302306175, 0.045236289501190186, 0.008156669326126575, 0.046777669340372086, 0.020574575290083885, 0.01808919385075569, 0.01663844659924507, 0.024351518601179123, 0.014281017705798149, 0.022870566695928574, 0.024558430537581444, 0.021522246301174164, 0.027740124613046646, 0.01226317510008812, 0.016789697110652924, 0.030601752921938896, 0.03310445696115494, 0.04230615124106407, 0.050134122371673584, 0.039895690977573395, 0.02547145076096058, 0.038356516510248184, 0.14836575090885162, 0.040621932595968246, 0.012431968003511429, 0.0, 0.0, 0.0, 0.0, 0.0, 0.0], [0.01040296908468008, 0.003988312091678381, 0.007536557037383318, 0.02371407113969326, 0.0015746995341032743, 0.004556500352919102, 0.0011461444664746523, 0.0020206558983772993, 0.08388330787420273, 0.006093548610806465, 0.001224363804794848, 0.08011976629495621, 0.003282930701971054, 0.1148514524102211, 0.020138543099164963, 0.003874026471748948, 0.10355652123689651, 0.016239918768405914, 0.0062195127829909325, 0.011158781126141548, 0.12897232174873352, 0.016916098073124886, 0.00881306454539299, 0.028795937076210976, 0.060593508183956146, 0.005618596915155649, 0.016893552616238594, 0.008791654370725155, 0.017022380605340004, 0.20200029015541077, 0.0, 0.0, 0.0, 0.0, 0.0], [0.054720353335142136, 0.015954433009028435, 0.012098252773284912, 0.022833766415715218, 0.018985219299793243, 0.028783900663256645, 0.008076782338321209, 0.008372066542506218, 0.03956406190991402, 0.012315311469137669, 0.009588338434696198, 0.023571280762553215, 0.010643107816576958, 0.04663843289017677, 0.014515896327793598, 0.012394607067108154, 0.027597352862358093, 0.021691450849175453, 0.02018054947257042, 0.018239224329590797, 0.05496653541922569, 0.037117864936590195, 0.02424500323832035, 0.03499602898955345, 0.1494767814874649, 0.029019519686698914, 0.043276432901620865, 0.015866443514823914, 0.0451153926551342, 0.11428382992744446, 0.024871760979294777, 0.0, 0.0, 0.0, 0.0], [0.028266333043575287, 0.008342591114342213, 0.00969315692782402, 0.02400331385433674, 0.01240698341280222, 0.009731605648994446, 0.007254774682223797, 0.011378856375813484, 0.045253440737724304, 0.014661098830401897, 0.004759799223393202, 0.0327930711209774, 0.009599768556654453, 0.05662672966718674, 0.0237957164645195, 0.004614101257175207, 0.03982144221663475, 0.02123900316655636, 0.025286564603447914, 0.10159790515899658, 0.09278310090303421, 0.02612386643886566, 0.015091435983777046, 0.03458566218614578, 0.061821937561035156, 0.01340700313448906, 0.0168897844851017, 0.03089355118572712, 0.02819487452507019, 0.11031375080347061, 0.04056955873966217, 0.038199231028556824, 0.0, 0.0, 0.0], [0.005920096300542355, 0.0026448264252394438, 0.005754890851676464, 0.021997174248099327, 0.0013081289362162352, 0.005726538132876158, 0.0008704046485945582, 0.0018940436420962214, 0.052954964339733124, 0.0047250124625861645, 0.0009999454487115145, 0.04342707619071007, 0.0021749837324023247, 0.07363724708557129, 0.017015771940350533, 0.003086996031925082, 0.057790860533714294, 0.010734477080404758, 0.0034258223604410887, 0.010332698933780193, 0.08509065210819244, 0.012429160065948963, 0.006230236496776342, 0.022221002727746964, 0.0641111209988594, 0.005053482484072447, 0.018152382224798203, 0.007594156078994274, 0.006786441896110773, 0.16716450452804565, 0.01387180294841528, 0.01475562434643507, 0.2501175105571747, 0.0, 0.0], [0.059587158262729645, 0.014287114143371582, 0.009688670746982098, 0.028474604710936546, 0.028604792430996895, 0.026259342208504677, 0.008819637820124626, 0.022136040031909943, 0.01791020669043064, 0.026397554203867912, 0.017243579030036926, 0.02598382532596588, 0.006316180340945721, 0.020043158903717995, 0.015440624207258224, 0.025940265506505966, 0.030103040859103203, 0.018365345895290375, 0.023130418732762337, 0.026214584708213806, 0.03115725703537464, 0.028986167162656784, 0.028961271047592163, 0.016435224562883377, 0.034800928086042404, 0.03794369101524353, 0.07380679249763489, 0.030772434547543526, 0.02851725183427334, 0.07387096434831619, 0.024587715044617653, 0.035234078764915466, 0.08090808242559433, 0.023072008043527603, 0.0], [0.05258989706635475, 0.008282380178570747, 0.004686590284109116, 0.011556113138794899, 0.0021243609953671694, 0.007376660127192736, 0.0025699131656438112, 0.005167305935174227, 0.06430473178625107, 0.00868867989629507, 0.004349814727902412, 0.054052047431468964, 0.0035673307720571756, 0.08101724088191986, 0.02145703136920929, 0.004144077654927969, 0.06621561199426651, 0.018716935068368912, 0.009488226845860481, 0.006038549356162548, 0.1027429923415184, 0.014565219171345234, 0.009106301702558994, 0.021657655015587807, 0.035248011350631714, 0.004852632991969585, 0.008422160521149635, 0.0195895005017519, 0.011885886080563068, 0.1446465700864792, 0.016607554629445076, 0.02283478155732155, 0.08476626127958298, 0.015126860700547695, 0.051554083824157715]], [[1.0, 0.0, 0.0, 0.0, 0.0, 0.0, 0.0, 0.0, 0.0, 0.0, 0.0, 0.0, 0.0, 0.0, 0.0, 0.0, 0.0, 0.0, 0.0, 0.0, 0.0, 0.0, 0.0, 0.0, 0.0, 0.0, 0.0, 0.0, 0.0, 0.0, 0.0, 0.0, 0.0, 0.0, 0.0], [0.8803902268409729, 0.1196097582578659, 0.0, 0.0, 0.0, 0.0, 0.0, 0.0, 0.0, 0.0, 0.0, 0.0, 0.0, 0.0, 0.0, 0.0, 0.0, 0.0, 0.0, 0.0, 0.0, 0.0, 0.0, 0.0, 0.0, 0.0, 0.0, 0.0, 0.0, 0.0, 0.0, 0.0, 0.0, 0.0, 0.0], [0.800162672996521, 0.14422568678855896, 0.055611662566661835, 0.0, 0.0, 0.0, 0.0, 0.0, 0.0, 0.0, 0.0, 0.0, 0.0, 0.0, 0.0, 0.0, 0.0, 0.0, 0.0, 0.0, 0.0, 0.0, 0.0, 0.0, 0.0, 0.0, 0.0, 0.0, 0.0, 0.0, 0.0, 0.0, 0.0, 0.0, 0.0], [0.6471941471099854, 0.14701782166957855, 0.0793100968003273, 0.12647798657417297, 0.0, 0.0, 0.0, 0.0, 0.0, 0.0, 0.0, 0.0, 0.0, 0.0, 0.0, 0.0, 0.0, 0.0, 0.0, 0.0, 0.0, 0.0, 0.0, 0.0, 0.0, 0.0, 0.0, 0.0, 0.0, 0.0, 0.0, 0.0, 0.0, 0.0, 0.0], [0.6291001439094543, 0.1326994150876999, 0.0830739364027977, 0.10306605696678162, 0.05206046998500824, 0.0, 0.0, 0.0, 0.0, 0.0, 0.0, 0.0, 0.0, 0.0, 0.0, 0.0, 0.0, 0.0, 0.0, 0.0, 0.0, 0.0, 0.0, 0.0, 0.0, 0.0, 0.0, 0.0, 0.0, 0.0, 0.0, 0.0, 0.0, 0.0, 0.0], [0.5631012916564941, 0.123759426176548, 0.11159724742174149, 0.10842734575271606, 0.08343344926834106, 0.009681188501417637, 0.0, 0.0, 0.0, 0.0, 0.0, 0.0, 0.0, 0.0, 0.0, 0.0, 0.0, 0.0, 0.0, 0.0, 0.0, 0.0, 0.0, 0.0, 0.0, 0.0, 0.0, 0.0, 0.0, 0.0, 0.0, 0.0, 0.0, 0.0, 0.0], [0.4973389506340027, 0.11400078982114792, 0.07851862907409668, 0.10408835858106613, 0.08229988813400269, 0.087201789021492, 0.03655165061354637, 0.0, 0.0, 0.0, 0.0, 0.0, 0.0, 0.0, 0.0, 0.0, 0.0, 0.0, 0.0, 0.0, 0.0, 0.0, 0.0, 0.0, 0.0, 0.0, 0.0, 0.0, 0.0, 0.0, 0.0, 0.0, 0.0, 0.0, 0.0], [0.46186619997024536, 0.10720600187778473, 0.07680261880159378, 0.09525886923074722, 0.11179576069116592, 0.04683656990528107, 0.0632898211479187, 0.03694411739706993, 0.0, 0.0, 0.0, 0.0, 0.0, 0.0, 0.0, 0.0, 0.0, 0.0, 0.0, 0.0, 0.0, 0.0, 0.0, 0.0, 0.0, 0.0, 0.0, 0.0, 0.0, 0.0, 0.0, 0.0, 0.0, 0.0, 0.0], [0.408801794052124, 0.11223538219928741, 0.061949554830789566, 0.08138209581375122, 0.06888709217309952, 0.04759940505027771, 0.05779566615819931, 0.06300584971904755, 0.09834325313568115, 0.0, 0.0, 0.0, 0.0, 0.0, 0.0, 0.0, 0.0, 0.0, 0.0, 0.0, 0.0, 0.0, 0.0, 0.0, 0.0, 0.0, 0.0, 0.0, 0.0, 0.0, 0.0, 0.0, 0.0, 0.0, 0.0], [0.337785542011261, 0.07768955081701279, 0.06164022907614708, 0.08030419796705246, 0.0924348458647728, 0.12569792568683624, 0.04310278221964836, 0.0800650492310524, 0.08753132075071335, 0.013748612254858017, 0.0, 0.0, 0.0, 0.0, 0.0, 0.0, 0.0, 0.0, 0.0, 0.0, 0.0, 0.0, 0.0, 0.0, 0.0, 0.0, 0.0, 0.0, 0.0, 0.0, 0.0, 0.0, 0.0, 0.0, 0.0], [0.4084457457065582, 0.07972612977027893, 0.05943279340863228, 0.07098965346813202, 0.06258390843868256, 0.07298711687326431, 0.05290915444493294, 0.06663115322589874, 0.08486580103635788, 0.03078523650765419, 0.010643374174833298, 0.0, 0.0, 0.0, 0.0, 0.0, 0.0, 0.0, 0.0, 0.0, 0.0, 0.0, 0.0, 0.0, 0.0, 0.0, 0.0, 0.0, 0.0, 0.0, 0.0, 0.0, 0.0, 0.0, 0.0], [0.3284088373184204, 0.08126059174537659, 0.05222116783261299, 0.0667019784450531, 0.062212198972702026, 0.04688328504562378, 0.047482267022132874, 0.049437131732702255, 0.0864436998963356, 0.051085103303194046, 0.046604081988334656, 0.08125964552164078, 0.0, 0.0, 0.0, 0.0, 0.0, 0.0, 0.0, 0.0, 0.0, 0.0, 0.0, 0.0, 0.0, 0.0, 0.0, 0.0, 0.0, 0.0, 0.0, 0.0, 0.0, 0.0, 0.0], [0.28456372022628784, 0.07334227114915848, 0.05956628546118736, 0.05995682254433632, 0.0626126229763031, 0.04492250457406044, 0.053548913449048996, 0.05539520084857941, 0.07605050504207611, 0.05439150333404541, 0.05521010607481003, 0.08481413871049881, 0.03562537580728531, 0.0, 0.0, 0.0, 0.0, 0.0, 0.0, 0.0, 0.0, 0.0, 0.0, 0.0, 0.0, 0.0, 0.0, 0.0, 0.0, 0.0, 0.0, 0.0, 0.0, 0.0, 0.0], [0.29869240522384644, 0.08053489029407501, 0.04630006477236748, 0.05841612443327904, 0.05245251581072807, 0.035896752029657364, 0.0431300550699234, 0.04816411808133125, 0.07179586589336395, 0.03588228300213814, 0.034986358135938644, 0.06638612598180771, 0.04749889299273491, 0.07986355572938919, 0.0, 0.0, 0.0, 0.0, 0.0, 0.0, 0.0, 0.0, 0.0, 0.0, 0.0, 0.0, 0.0, 0.0, 0.0, 0.0, 0.0, 0.0, 0.0, 0.0, 0.0], [0.26184865832328796, 0.06895225495100021, 0.04662094637751579, 0.05860462039709091, 0.04692878574132919, 0.055680129677057266, 0.04915206879377365, 0.04117780178785324, 0.07490760087966919, 0.031984250992536545, 0.032572243362665176, 0.07257071882486343, 0.0373988002538681, 0.08542975038290024, 0.03617140278220177, 0.0, 0.0, 0.0, 0.0, 0.0, 0.0, 0.0, 0.0, 0.0, 0.0, 0.0, 0.0, 0.0, 0.0, 0.0, 0.0, 0.0, 0.0, 0.0, 0.0], [0.29417479038238525, 0.05360918864607811, 0.038608770817518234, 0.049526721239089966, 0.040609169751405716, 0.041493263095617294, 0.0297162514179945, 0.045369818806648254, 0.060249343514442444, 0.041599664837121964, 0.06637393683195114, 0.05982469022274017, 0.040502920746803284, 0.06734268367290497, 0.060957349836826324, 0.010041484609246254, 0.0, 0.0, 0.0, 0.0, 0.0, 0.0, 0.0, 0.0, 0.0, 0.0, 0.0, 0.0, 0.0, 0.0, 0.0, 0.0, 0.0, 0.0, 0.0], [0.24078039824962616, 0.05731503665447235, 0.03812979534268379, 0.04762377217411995, 0.04672613367438316, 0.03515475615859032, 0.034621816128492355, 0.0374724343419075, 0.06234779953956604, 0.0395454540848732, 0.035744305700063705, 0.05874501168727875, 0.0340784452855587, 0.07071570307016373, 0.05439117178320885, 0.03945149481296539, 0.06715651601552963, 0.0, 0.0, 0.0, 0.0, 0.0, 0.0, 0.0, 0.0, 0.0, 0.0, 0.0, 0.0, 0.0, 0.0, 0.0, 0.0, 0.0, 0.0], [0.1900811493396759, 0.05546914041042328, 0.03824986144900322, 0.04468470439314842, 0.0434919148683548, 0.037291351705789566, 0.03500030189752579, 0.03413337841629982, 0.05614842474460602, 0.029018184170126915, 0.026478590443730354, 0.06265047937631607, 0.03502202033996582, 0.06568854302167892, 0.0571419820189476, 0.04781633988022804, 0.07356444746255875, 0.06806915998458862, 0.0, 0.0, 0.0, 0.0, 0.0, 0.0, 0.0, 0.0, 0.0, 0.0, 0.0, 0.0, 0.0, 0.0, 0.0, 0.0, 0.0], [0.23406487703323364, 0.047656793147325516, 0.03626637160778046, 0.04350152611732483, 0.04482331871986389, 0.030926160514354706, 0.024145551025867462, 0.030471067875623703, 0.05100265517830849, 0.0385214164853096, 0.041283607482910156, 0.05289096385240555, 0.027892813086509705, 0.057388786226511, 0.060669999569654465, 0.04387104511260986, 0.059330202639102936, 0.051170192658901215, 0.024122707545757294, 0.0, 0.0, 0.0, 0.0, 0.0, 0.0, 0.0, 0.0, 0.0, 0.0, 0.0, 0.0, 0.0, 0.0, 0.0, 0.0], [0.31211692094802856, 0.04305700585246086, 0.030739201232790947, 0.039901234209537506, 0.04073917865753174, 0.03397355601191521, 0.013991197571158409, 0.0325017012655735, 0.04214291647076607, 0.03136739879846573, 0.05722320079803467, 0.042099736630916595, 0.03285328671336174, 0.046627227216959, 0.04874774441123009, 0.02173059806227684, 0.047223757952451706, 0.029857581481337547, 0.04530390352010727, 0.007802658714354038, 0.0, 0.0, 0.0, 0.0, 0.0, 0.0, 0.0, 0.0, 0.0, 0.0, 0.0, 0.0, 0.0, 0.0, 0.0], [0.19583050906658173, 0.052274756133556366, 0.032512079924345016, 0.03705889731645584, 0.04335428774356842, 0.027641309425234795, 0.027452075853943825, 0.03308156505227089, 0.045324403792619705, 0.025406748056411743, 0.024781623855233192, 0.03888050094246864, 0.030247310176491737, 0.05089510604739189, 0.04128778725862503, 0.03749213367700577, 0.04425322264432907, 0.04428720846772194, 0.04519395902752876, 0.050723981112241745, 0.07202054560184479, 0.0, 0.0, 0.0, 0.0, 0.0, 0.0, 0.0, 0.0, 0.0, 0.0, 0.0, 0.0, 0.0, 0.0], [0.16079990565776825, 0.04841072857379913, 0.0330209918320179, 0.03441707044839859, 0.03531980514526367, 0.023897022008895874, 0.026063473895192146, 0.028639720752835274, 0.044538743793964386, 0.024949481710791588, 0.029716147109866142, 0.04012999311089516, 0.024859067052602768, 0.05134394392371178, 0.0537354052066803, 0.04527630656957626, 0.04680594056844711, 0.034605979919433594, 0.04245500639081001, 0.05485454574227333, 0.06976333260536194, 0.04639734327793121, 0.0, 0.0, 0.0, 0.0, 0.0, 0.0, 0.0, 0.0, 0.0, 0.0, 0.0, 0.0, 0.0], [0.18932510912418365, 0.03910363093018532, 0.024852009490132332, 0.03345050662755966, 0.038601573556661606, 0.024109305813908577, 0.020502109080553055, 0.024301746860146523, 0.039764706045389175, 0.03418167307972908, 0.03484785929322243, 0.03619780391454697, 0.023668944835662842, 0.0450248196721077, 0.03498942032456398, 0.026825523003935814, 0.04153791069984436, 0.03736661747097969, 0.042022790759801865, 0.055910415947437286, 0.06404418498277664, 0.05618630722165108, 0.033184975385665894, 0.0, 0.0, 0.0, 0.0, 0.0, 0.0, 0.0, 0.0, 0.0, 0.0, 0.0, 0.0], [0.16596606373786926, 0.03388110175728798, 0.02065751887857914, 0.03212727978825569, 0.03747253865003586, 0.026519471779465675, 0.01988290622830391, 0.025609631091356277, 0.04091744124889374, 0.022610332816839218, 0.019720876589417458, 0.03376535698771477, 0.023503821343183517, 0.046445246785879135, 0.03541431948542595, 0.02736843377351761, 0.0387694425880909, 0.03146073967218399, 0.04639925807714462, 0.048674724996089935, 0.06382153928279877, 0.06529750674962997, 0.04629906266927719, 0.04741538688540459, 0.0, 0.0, 0.0, 0.0, 0.0, 0.0, 0.0, 0.0, 0.0, 0.0, 0.0], [0.1551409512758255, 0.03631480410695076, 0.022236887365579605, 0.028097420930862427, 0.04015665873885155, 0.024055970832705498, 0.01740090362727642, 0.0214985441416502, 0.0367506742477417, 0.017986755818128586, 0.019703906029462814, 0.028327785432338715, 0.02260461449623108, 0.04168051853775978, 0.030497966334223747, 0.025585593655705452, 0.032487593591213226, 0.027014946565032005, 0.041122861206531525, 0.047384489327669144, 0.0638233944773674, 0.05655009672045708, 0.04119998589158058, 0.06263259053230286, 0.05974407494068146, 0.0, 0.0, 0.0, 0.0, 0.0, 0.0, 0.0, 0.0, 0.0, 0.0], [0.12975940108299255, 0.02733970619738102, 0.02995751053094864, 0.022702842950820923, 0.03781533241271973, 0.03144636005163193, 0.01713676005601883, 0.046564918011426926, 0.030618302524089813, 0.018781667575240135, 0.025273190811276436, 0.028721973299980164, 0.019090937450528145, 0.03481000289320946, 0.02617022767663002, 0.026817746460437775, 0.03296038880944252, 0.02496025152504444, 0.05474760755896568, 0.05780104547739029, 0.05617622658610344, 0.03305984288454056, 0.05767423287034035, 0.04667417332530022, 0.06228700280189514, 0.020652372390031815, 0.0, 0.0, 0.0, 0.0, 0.0, 0.0, 0.0, 0.0, 0.0], [0.18126998841762543, 0.027924932539463043, 0.028055911883711815, 0.029457401484251022, 0.028532754629850388, 0.020307771861553192, 0.019550155848264694, 0.03153108432888985, 0.029232848435640335, 0.02111053466796875, 0.014580833725631237, 0.02250531129539013, 0.016256755217909813, 0.03150884807109833, 0.024519702419638634, 0.03659053146839142, 0.025034507736563683, 0.0200306735932827, 0.04726611077785492, 0.12142346054315567, 0.0418962687253952, 0.03646090626716614, 0.037346918135881424, 0.03705746307969093, 0.035210929811000824, 0.024784497916698456, 0.010552848689258099, 0.0, 0.0, 0.0, 0.0, 0.0, 0.0, 0.0, 0.0], [0.1419323980808258, 0.026873422786593437, 0.023394402116537094, 0.02419888786971569, 0.034410908818244934, 0.03176819160580635, 0.01428281795233488, 0.027884995564818382, 0.027823280543088913, 0.020267954096198082, 0.020075343549251556, 0.026035428047180176, 0.01527105551213026, 0.031183553859591484, 0.02134445495903492, 0.030780887231230736, 0.029686493799090385, 0.02496618591248989, 0.03290622681379318, 0.0812656506896019, 0.04738019406795502, 0.039505019783973694, 0.038106054067611694, 0.03920021653175354, 0.04723043739795685, 0.03223776817321777, 0.04768495261669159, 0.022302815690636635, 0.0, 0.0, 0.0, 0.0, 0.0, 0.0, 0.0], [0.19361066818237305, 0.028910454362630844, 0.017410723492503166, 0.024991948157548904, 0.020412281155586243, 0.03692351281642914, 0.01856403797864914, 0.022491101175546646, 0.026469890028238297, 0.01985170505940914, 0.01670689322054386, 0.02012958750128746, 0.017302939668297768, 0.028877517208456993, 0.01937028206884861, 0.021512920036911964, 0.022604649886488914, 0.019465502351522446, 0.032185450196266174, 0.09415605664253235, 0.039640821516513824, 0.04692873731255531, 0.03296549990773201, 0.03432747721672058, 0.03549889102578163, 0.041524242609739304, 0.038008444011211395, 0.024193786084651947, 0.004963913932442665, 0.0, 0.0, 0.0, 0.0, 0.0, 0.0], [0.13062258064746857, 0.029238145798444748, 0.02056247740983963, 0.024924928322434425, 0.026433361694216728, 0.02088005654513836, 0.016895081847906113, 0.020366203039884567, 0.030794674530625343, 0.016811514273285866, 0.014352632686495781, 0.026399677619338036, 0.01796814613044262, 0.03419143706560135, 0.02579362876713276, 0.020880062133073807, 0.029983334243297577, 0.0225768331438303, 0.03198401257395744, 0.0387752540409565, 0.04729927331209183, 0.03951811417937279, 0.03569553792476654, 0.04647783935070038, 0.04560372233390808, 0.027694007381796837, 0.028376273810863495, 0.0295069869607687, 0.03388817235827446, 0.06550601869821548, 0.0, 0.0, 0.0, 0.0, 0.0], [0.10399016737937927, 0.02196614071726799, 0.016451174393296242, 0.022787993773818016, 0.024357151240110397, 0.019975418224930763, 0.013678602874279022, 0.020524611696600914, 0.02641664631664753, 0.015824979171156883, 0.018124746158719063, 0.022938057780265808, 0.01524983998388052, 0.029951773583889008, 0.01956864632666111, 0.017790067940950394, 0.026331372559070587, 0.02006237581372261, 0.030405649915337563, 0.05837805196642876, 0.047469474375247955, 0.03560006991028786, 0.03361855819821358, 0.0390515998005867, 0.04623459279537201, 0.034158360213041306, 0.050636325031518936, 0.03304954990744591, 0.04132761433720589, 0.060074787586927414, 0.034005582332611084, 0.0, 0.0, 0.0, 0.0], [0.10689453780651093, 0.023425225168466568, 0.018311116844415665, 0.02227620780467987, 0.019986262544989586, 0.0183456651866436, 0.015893500298261642, 0.019802745431661606, 0.02582935430109501, 0.016079481691122055, 0.016656843945384026, 0.02581821195781231, 0.012892835773527622, 0.02911144308745861, 0.020739203318953514, 0.017621519044041634, 0.02965443581342697, 0.024281157180666924, 0.028045890852808952, 0.05205395817756653, 0.042631059885025024, 0.03251810371875763, 0.03738030791282654, 0.03843437135219574, 0.03982121869921684, 0.026290131732821465, 0.0352063812315464, 0.03138630837202072, 0.03282345086336136, 0.061947014182806015, 0.037625428289175034, 0.04021657630801201, 0.0, 0.0, 0.0], [0.12229020148515701, 0.025168990716338158, 0.01671406626701355, 0.022033262997865677, 0.02300073578953743, 0.015408724546432495, 0.014958016574382782, 0.018676765263080597, 0.02619117498397827, 0.012370292097330093, 0.010715775191783905, 0.02163189835846424, 0.013984639197587967, 0.02889922447502613, 0.023200983181595802, 0.018216600641608238, 0.02428124099969864, 0.018235333263874054, 0.02165396139025688, 0.036337438970804214, 0.03855650871992111, 0.036919448524713516, 0.03379227593541145, 0.0425882525742054, 0.03839156776666641, 0.023295771330595016, 0.030805258080363274, 0.024493318051099777, 0.030105775222182274, 0.056526102125644684, 0.03756684437394142, 0.041599173098802567, 0.05139036476612091, 0.0, 0.0], [0.13871710002422333, 0.021967247128486633, 0.016682980582118034, 0.02155137062072754, 0.02604922093451023, 0.01537912618368864, 0.01252230815589428, 0.020025216042995453, 0.021879851818084717, 0.0145530691370368, 0.015628237277269363, 0.018288593739271164, 0.01242174580693245, 0.023633427917957306, 0.017220674082636833, 0.02009168639779091, 0.02015186846256256, 0.018530189990997314, 0.02421249821782112, 0.07234080135822296, 0.03423937037587166, 0.030147051438689232, 0.03145884349942207, 0.03020295687019825, 0.03094875067472458, 0.024833211675286293, 0.030743274837732315, 0.022636577486991882, 0.044566914439201355, 0.04173138737678528, 0.02892465889453888, 0.029865318909287453, 0.04288143664598465, 0.02497304417192936, 0.0], [0.12327976524829865, 0.026707449927926064, 0.014834703877568245, 0.018021509051322937, 0.017764993011951447, 0.013351647183299065, 0.014073795638978481, 0.018723027780652046, 0.023980075493454933, 0.021256303414702415, 0.017004813998937607, 0.020616667345166206, 0.012905532494187355, 0.026097450405359268, 0.021554265171289444, 0.015845784917473793, 0.02278091385960579, 0.023595375940203667, 0.019861740991473198, 0.021922381594777107, 0.03597113862633705, 0.033696822822093964, 0.02117166295647621, 0.03536052256822586, 0.03450926020741463, 0.021897653117775917, 0.035124264657497406, 0.02411290630698204, 0.03299051895737648, 0.04677634686231613, 0.0304244477301836, 0.032703179866075516, 0.03790725767612457, 0.04262494668364525, 0.04055078700184822]], [[1.0, 0.0, 0.0, 0.0, 0.0, 0.0, 0.0, 0.0, 0.0, 0.0, 0.0, 0.0, 0.0, 0.0, 0.0, 0.0, 0.0, 0.0, 0.0, 0.0, 0.0, 0.0, 0.0, 0.0, 0.0, 0.0, 0.0, 0.0, 0.0, 0.0, 0.0, 0.0, 0.0, 0.0, 0.0], [0.6533873081207275, 0.34661269187927246, 0.0, 0.0, 0.0, 0.0, 0.0, 0.0, 0.0, 0.0, 0.0, 0.0, 0.0, 0.0, 0.0, 0.0, 0.0, 0.0, 0.0, 0.0, 0.0, 0.0, 0.0, 0.0, 0.0, 0.0, 0.0, 0.0, 0.0, 0.0, 0.0, 0.0, 0.0, 0.0, 0.0], [0.4451119005680084, 0.33376818895339966, 0.2211199253797531, 0.0, 0.0, 0.0, 0.0, 0.0, 0.0, 0.0, 0.0, 0.0, 0.0, 0.0, 0.0, 0.0, 0.0, 0.0, 0.0, 0.0, 0.0, 0.0, 0.0, 0.0, 0.0, 0.0, 0.0, 0.0, 0.0, 0.0, 0.0, 0.0, 0.0, 0.0, 0.0], [0.5459807515144348, 0.15291070938110352, 0.07645455002784729, 0.22465397417545319, 0.0, 0.0, 0.0, 0.0, 0.0, 0.0, 0.0, 0.0, 0.0, 0.0, 0.0, 0.0, 0.0, 0.0, 0.0, 0.0, 0.0, 0.0, 0.0, 0.0, 0.0, 0.0, 0.0, 0.0, 0.0, 0.0, 0.0, 0.0, 0.0, 0.0, 0.0], [0.4272027611732483, 0.1412525624036789, 0.06143971532583237, 0.11979994177818298, 0.2503049969673157, 0.0, 0.0, 0.0, 0.0, 0.0, 0.0, 0.0, 0.0, 0.0, 0.0, 0.0, 0.0, 0.0, 0.0, 0.0, 0.0, 0.0, 0.0, 0.0, 0.0, 0.0, 0.0, 0.0, 0.0, 0.0, 0.0, 0.0, 0.0, 0.0, 0.0], [0.40979304909706116, 0.11732905358076096, 0.06548824161291122, 0.1236746683716774, 0.0422237254679203, 0.24149134755134583, 0.0, 0.0, 0.0, 0.0, 0.0, 0.0, 0.0, 0.0, 0.0, 0.0, 0.0, 0.0, 0.0, 0.0, 0.0, 0.0, 0.0, 0.0, 0.0, 0.0, 0.0, 0.0, 0.0, 0.0, 0.0, 0.0, 0.0, 0.0, 0.0], [0.3643514811992645, 0.15547123551368713, 0.08527875691652298, 0.0883261039853096, 0.049937326461076736, 0.034096237272024155, 0.22253884375095367, 0.0, 0.0, 0.0, 0.0, 0.0, 0.0, 0.0, 0.0, 0.0, 0.0, 0.0, 0.0, 0.0, 0.0, 0.0, 0.0, 0.0, 0.0, 0.0, 0.0, 0.0, 0.0, 0.0, 0.0, 0.0, 0.0, 0.0, 0.0], [0.3562685251235962, 0.09063339978456497, 0.05006816238164902, 0.10755762457847595, 0.06895481050014496, 0.04669608548283577, 0.040975313633680344, 0.23884612321853638, 0.0, 0.0, 0.0, 0.0, 0.0, 0.0, 0.0, 0.0, 0.0, 0.0, 0.0, 0.0, 0.0, 0.0, 0.0, 0.0, 0.0, 0.0, 0.0, 0.0, 0.0, 0.0, 0.0, 0.0, 0.0, 0.0, 0.0], [0.3461388945579529, 0.14562256634235382, 0.09470635652542114, 0.10499643534421921, 0.06400175392627716, 0.04047238454222679, 0.03757919743657112, 0.044482164084911346, 0.12200020253658295, 0.0, 0.0, 0.0, 0.0, 0.0, 0.0, 0.0, 0.0, 0.0, 0.0, 0.0, 0.0, 0.0, 0.0, 0.0, 0.0, 0.0, 0.0, 0.0, 0.0, 0.0, 0.0, 0.0, 0.0, 0.0, 0.0], [0.20510224997997284, 0.048243146389722824, 0.05157080292701721, 0.09953968971967697, 0.06673121452331543, 0.045586880296468735, 0.036483924835920334, 0.08169861137866974, 0.08583584427833557, 0.27920758724212646, 0.0, 0.0, 0.0, 0.0, 0.0, 0.0, 0.0, 0.0, 0.0, 0.0, 0.0, 0.0, 0.0, 0.0, 0.0, 0.0, 0.0, 0.0, 0.0, 0.0, 0.0, 0.0, 0.0, 0.0, 0.0], [0.23016959428787231, 0.07576317340135574, 0.06243027001619339, 0.0619683712720871, 0.050248242914676666, 0.03796260058879852, 0.05770513787865639, 0.056173257529735565, 0.06585752964019775, 0.04166558384895325, 0.26005619764328003, 0.0, 0.0, 0.0, 0.0, 0.0, 0.0, 0.0, 0.0, 0.0, 0.0, 0.0, 0.0, 0.0, 0.0, 0.0, 0.0, 0.0, 0.0, 0.0, 0.0, 0.0, 0.0, 0.0, 0.0], [0.26688218116760254, 0.0996926873922348, 0.06880499422550201, 0.1011010929942131, 0.03625769168138504, 0.0487603135406971, 0.0317954421043396, 0.03426747024059296, 0.09192278981208801, 0.04406016692519188, 0.0242800023406744, 0.1521751880645752, 0.0, 0.0, 0.0, 0.0, 0.0, 0.0, 0.0, 0.0, 0.0, 0.0, 0.0, 0.0, 0.0, 0.0, 0.0, 0.0, 0.0, 0.0, 0.0, 0.0, 0.0, 0.0, 0.0], [0.24808596074581146, 0.05943756550550461, 0.036453068256378174, 0.09643886983394623, 0.04665255546569824, 0.043580614030361176, 0.02640966884791851, 0.03871847316622734, 0.06937099248170853, 0.035532146692276, 0.02358422242105007, 0.05824922025203705, 0.21748660504817963, 0.0, 0.0, 0.0, 0.0, 0.0, 0.0, 0.0, 0.0, 0.0, 0.0, 0.0, 0.0, 0.0, 0.0, 0.0, 0.0, 0.0, 0.0, 0.0, 0.0, 0.0, 0.0], [0.22227585315704346, 0.08784299343824387, 0.06428327411413193, 0.07245950400829315, 0.05153008922934532, 0.033541664481163025, 0.03151150047779083, 0.043959807604551315, 0.10531802475452423, 0.036292850971221924, 0.033496350049972534, 0.07923727482557297, 0.03496610000729561, 0.10328467935323715, 0.0, 0.0, 0.0, 0.0, 0.0, 0.0, 0.0, 0.0, 0.0, 0.0, 0.0, 0.0, 0.0, 0.0, 0.0, 0.0, 0.0, 0.0, 0.0, 0.0, 0.0], [0.2625541090965271, 0.07451014220714569, 0.04962189123034477, 0.065139539539814, 0.022182410582900047, 0.03923412039875984, 0.021433904767036438, 0.02829248644411564, 0.06496230512857437, 0.02216963656246662, 0.018070971593260765, 0.05796554684638977, 0.01818801276385784, 0.06176506727933884, 0.1939098834991455, 0.0, 0.0, 0.0, 0.0, 0.0, 0.0, 0.0, 0.0, 0.0, 0.0, 0.0, 0.0, 0.0, 0.0, 0.0, 0.0, 0.0, 0.0, 0.0, 0.0], [0.2145460844039917, 0.052079543471336365, 0.043386030942201614, 0.051086749881505966, 0.023057056590914726, 0.03987297788262367, 0.021457545459270477, 0.0431031659245491, 0.057124000042676926, 0.04732411727309227, 0.02007634937763214, 0.04863851144909859, 0.03173768147826195, 0.053890716284513474, 0.03922811895608902, 0.21339139342308044, 0.0, 0.0, 0.0, 0.0, 0.0, 0.0, 0.0, 0.0, 0.0, 0.0, 0.0, 0.0, 0.0, 0.0, 0.0, 0.0, 0.0, 0.0, 0.0], [0.1693463772535324, 0.05758475512266159, 0.04318230599164963, 0.06501621752977371, 0.025769710540771484, 0.035840604454278946, 0.02340392954647541, 0.028633078560233116, 0.06884392350912094, 0.03735612705349922, 0.021079324185848236, 0.12265526503324509, 0.02518490143120289, 0.07096561789512634, 0.04923553392291069, 0.02845790423452854, 0.12744441628456116, 0.0, 0.0, 0.0, 0.0, 0.0, 0.0, 0.0, 0.0, 0.0, 0.0, 0.0, 0.0, 0.0, 0.0, 0.0, 0.0, 0.0, 0.0], [0.1294490396976471, 0.04351518303155899, 0.0287073515355587, 0.045572567731142044, 0.021282188594341278, 0.019885336980223656, 0.028857698664069176, 0.03478112071752548, 0.055325932800769806, 0.030885064974427223, 0.02108754590153694, 0.06504064798355103, 0.04043158143758774, 0.05797602981328964, 0.04136980324983597, 0.028544068336486816, 0.06784920394420624, 0.23943959176540375, 0.0, 0.0, 0.0, 0.0, 0.0, 0.0, 0.0, 0.0, 0.0, 0.0, 0.0, 0.0, 0.0, 0.0, 0.0, 0.0, 0.0], [0.14163611829280853, 0.03578965365886688, 0.028365232050418854, 0.045387569814920425, 0.04637840390205383, 0.039788711816072464, 0.014343786984682083, 0.04959797486662865, 0.04732619598507881, 0.030782438814640045, 0.018412159755825996, 0.04871037229895592, 0.023401634767651558, 0.047455642372369766, 0.03751209378242493, 0.023782702162861824, 0.048940639942884445, 0.033790674060583115, 0.2385980188846588, 0.0, 0.0, 0.0, 0.0, 0.0, 0.0, 0.0, 0.0, 0.0, 0.0, 0.0, 0.0, 0.0, 0.0, 0.0, 0.0], [0.13350321352481842, 0.03222054988145828, 0.020588906481862068, 0.037802185863256454, 0.04108010604977608, 0.036710940301418304, 0.025954414159059525, 0.04136638343334198, 0.0432656966149807, 0.030096478760242462, 0.02681291103363037, 0.04010695591568947, 0.02438589371740818, 0.04430920258164406, 0.0337374210357666, 0.02071092464029789, 0.040797434747219086, 0.03265015780925751, 0.03506242483854294, 0.25883781909942627, 0.0, 0.0, 0.0, 0.0, 0.0, 0.0, 0.0, 0.0, 0.0, 0.0, 0.0, 0.0, 0.0, 0.0, 0.0], [0.11974351108074188, 0.03914883732795715, 0.028956566005945206, 0.033427078276872635, 0.03769591823220253, 0.020543895661830902, 0.017558962106704712, 0.0326584093272686, 0.06372418999671936, 0.03310193121433258, 0.02986794523894787, 0.05386917665600777, 0.022512976080179214, 0.07236675173044205, 0.04143425077199936, 0.03790142387151718, 0.060026220977306366, 0.045860227197408676, 0.050910960882902145, 0.03195587545633316, 0.1267348825931549, 0.0, 0.0, 0.0, 0.0, 0.0, 0.0, 0.0, 0.0, 0.0, 0.0, 0.0, 0.0, 0.0, 0.0], [0.11878619343042374, 0.039572034031152725, 0.023222973570227623, 0.05364082008600235, 0.03261677548289299, 0.017370950430631638, 0.011663909070193768, 0.016273820772767067, 0.05014302581548691, 0.013260259293019772, 0.010486900806427002, 0.03813209384679794, 0.04193669185042381, 0.05336223915219307, 0.030979996547102928, 0.019617725163698196, 0.040241554379463196, 0.03244160860776901, 0.020540131255984306, 0.026845507323741913, 0.05771109089255333, 0.25115370750427246, 0.0, 0.0, 0.0, 0.0, 0.0, 0.0, 0.0, 0.0, 0.0, 0.0, 0.0, 0.0, 0.0], [0.10596500337123871, 0.03639822453260422, 0.023730656132102013, 0.02770346961915493, 0.029520340263843536, 0.016958516091108322, 0.009277226403355598, 0.019281189888715744, 0.04353449493646622, 0.02543572150170803, 0.01544106099754572, 0.0416172593832016, 0.01847231760621071, 0.04617344215512276, 0.026975225657224655, 0.016877297312021255, 0.0436592772603035, 0.020190224051475525, 0.018645791336894035, 0.016359711065888405, 0.05703481286764145, 0.06433958560228348, 0.2764091193675995, 0.0, 0.0, 0.0, 0.0, 0.0, 0.0, 0.0, 0.0, 0.0, 0.0, 0.0, 0.0], [0.08669394254684448, 0.1400514841079712, 0.054043423384428024, 0.026910439133644104, 0.026933513581752777, 0.01693662256002426, 0.017527233809232712, 0.011132635176181793, 0.03316716477274895, 0.009116587229073048, 0.014021696522831917, 0.02812526375055313, 0.0121076051145792, 0.03627436235547066, 0.030991656705737114, 0.015099077485501766, 0.03022145852446556, 0.02081548236310482, 0.018955038860440254, 0.0211825929582119, 0.043649882078170776, 0.043773479759693146, 0.025040630251169205, 0.2372286468744278, 0.0, 0.0, 0.0, 0.0, 0.0, 0.0, 0.0, 0.0, 0.0, 0.0, 0.0], [0.10505460202693939, 0.02472284995019436, 0.02343858778476715, 0.024256443604826927, 0.021477708593010902, 0.014111106283962727, 0.012018014676868916, 0.015707308426499367, 0.04219583421945572, 0.016803378239274025, 0.011159355752170086, 0.03127182275056839, 0.02032068930566311, 0.04702335223555565, 0.03988678380846977, 0.025853382423520088, 0.03450959548354149, 0.024522606283426285, 0.017594216391444206, 0.021597158163785934, 0.06303169578313828, 0.050369877368211746, 0.02654913440346718, 0.040915295481681824, 0.24560922384262085, 0.0, 0.0, 0.0, 0.0, 0.0, 0.0, 0.0, 0.0, 0.0, 0.0], [0.07146886736154556, 0.015683099627494812, 0.019199566915631294, 0.027655109763145447, 0.02588873915374279, 0.011495743878185749, 0.013834549114108086, 0.0250062458217144, 0.032857511192560196, 0.04069042578339577, 0.019407065585255623, 0.03628278151154518, 0.026671355590224266, 0.036988455802202225, 0.025391345843672752, 0.012203285470604897, 0.04081625118851662, 0.022441424429416656, 0.018680062144994736, 0.037140704691410065, 0.05291351303458214, 0.03374897316098213, 0.036007050424814224, 0.027396056801080704, 0.041577912867069244, 0.24855388700962067, 0.0, 0.0, 0.0, 0.0, 0.0, 0.0, 0.0, 0.0, 0.0], [0.09520062804222107, 0.023399099707603455, 0.016249947249889374, 0.03728703036904335, 0.027069469913840294, 0.02442619577050209, 0.01691671460866928, 0.020519254729151726, 0.035614460706710815, 0.0172467902302742, 0.016965176910161972, 0.03067062795162201, 0.014761799946427345, 0.037838954478502274, 0.025590207427740097, 0.013281547464430332, 0.03275727853178978, 0.01698147878050804, 0.012912828475236893, 0.04096675291657448, 0.04452374204993248, 0.032888542860746384, 0.021862007677555084, 0.028905052691698074, 0.02522219903767109, 0.015681952238082886, 0.2742602527141571, 0.0, 0.0, 0.0, 0.0, 0.0, 0.0, 0.0, 0.0], [0.07106204330921173, 0.02223449945449829, 0.01544252410531044, 0.02880682982504368, 0.02491171471774578, 0.01409667544066906, 0.01092530321329832, 0.02235645242035389, 0.028251029551029205, 0.025925246998667717, 0.012314552441239357, 0.03621360659599304, 0.017662767320871353, 0.031407054513692856, 0.01859503611922264, 0.018171407282352448, 0.04006664827466011, 0.022728295996785164, 0.02500053495168686, 0.04014962166547775, 0.04249803349375725, 0.026281598955392838, 0.023634901270270348, 0.03034823015332222, 0.028446584939956665, 0.049317073076963425, 0.04533270001411438, 0.22781896591186523, 0.0, 0.0, 0.0, 0.0, 0.0, 0.0, 0.0], [0.11998689919710159, 0.03201313689351082, 0.020363768562674522, 0.03192231431603432, 0.020111480727791786, 0.017741894349455833, 0.014963150024414062, 0.014099692925810814, 0.0323602668941021, 0.012826553545892239, 0.01920423097908497, 0.024741897359490395, 0.014775940217077732, 0.03365084528923035, 0.03285077586770058, 0.01563302055001259, 0.02633097767829895, 0.009946921840310097, 0.010015271604061127, 0.023254679515957832, 0.03898428753018379, 0.034919410943984985, 0.011989151127636433, 0.03053087368607521, 0.023813731968402863, 0.018979020416736603, 0.06846079230308533, 0.019141534343361855, 0.22638745605945587, 0.0, 0.0, 0.0, 0.0, 0.0, 0.0], [0.0711139664053917, 0.023045005276799202, 0.017407836392521858, 0.02557774819433689, 0.018817277625203133, 0.01440666988492012, 0.01136450283229351, 0.019742926582694054, 0.0378037728369236, 0.017498360946774483, 0.012214532122015953, 0.0347118005156517, 0.016245102509856224, 0.044948261231184006, 0.03146103769540787, 0.01797625795006752, 0.040775004774332047, 0.026232009753584862, 0.029104549437761307, 0.032863155007362366, 0.06312329322099686, 0.03996739536523819, 0.03193743899464607, 0.05005759745836258, 0.05003984272480011, 0.02629847079515457, 0.04067577049136162, 0.034253496676683426, 0.03361441567540169, 0.08672250062227249, 0.0, 0.0, 0.0, 0.0, 0.0], [0.06342678517103195, 0.018928563222289085, 0.015915198251605034, 0.02297447994351387, 0.015813574194908142, 0.011996149085462093, 0.006959724705666304, 0.0104405852034688, 0.027604447677731514, 0.014203774742782116, 0.011755007319152355, 0.026974204927682877, 0.015696218237280846, 0.03244095668196678, 0.021464012563228607, 0.016300220042467117, 0.0315910205245018, 0.018295632675290108, 0.02407490275800228, 0.018299633637070656, 0.04905860498547554, 0.03294461593031883, 0.031695034354925156, 0.04070066288113594, 0.05526787042617798, 0.032283999025821686, 0.01833721436560154, 0.020621931180357933, 0.020615674555301666, 0.06142156571149826, 0.21189779043197632, 0.0, 0.0, 0.0, 0.0], [0.05903123319149017, 0.011650343425571918, 0.011906316503882408, 0.020305125042796135, 0.01582455448806286, 0.011342637240886688, 0.012165096588432789, 0.020514555275440216, 0.024635136127471924, 0.01787753403186798, 0.008976955898106098, 0.027097536250948906, 0.010151371359825134, 0.029500093311071396, 0.02296171709895134, 0.01152712944895029, 0.03249187394976616, 0.020219076424837112, 0.02027125470340252, 0.02760496735572815, 0.04230693355202675, 0.022920362651348114, 0.02739839442074299, 0.02483934722840786, 0.02841997891664505, 0.04172161594033241, 0.0314212366938591, 0.035203300416469574, 0.03063124231994152, 0.060064759105443954, 0.04537736997008324, 0.19364091753959656, 0.0, 0.0, 0.0], [0.08590573817491531, 0.01470409706234932, 0.010510564781725407, 0.028699841350317, 0.016654495149850845, 0.012795399874448776, 0.009235282428562641, 0.014819213189184666, 0.028232716023921967, 0.011867675930261612, 0.00926817487925291, 0.023044351488351822, 0.017553268000483513, 0.032954033464193344, 0.025013737380504608, 0.012247503735125065, 0.02679956518113613, 0.013326537795364857, 0.016479840502142906, 0.03472821041941643, 0.0398080050945282, 0.050673384219408035, 0.030861176550388336, 0.02755182981491089, 0.036164216697216034, 0.017406117171049118, 0.047160595655441284, 0.025891847908496857, 0.02839728444814682, 0.06047138199210167, 0.03584858775138855, 0.03886667266488075, 0.11605862528085709, 0.0, 0.0], [0.056707724928855896, 0.015243269503116608, 0.009892581030726433, 0.017495425418019295, 0.03529244288802147, 0.015370246022939682, 0.010747751221060753, 0.01709159091114998, 0.021245012059807777, 0.01306450366973877, 0.0063941157422959805, 0.02176818624138832, 0.011015362106263638, 0.0232908446341753, 0.020971029996871948, 0.012346651405096054, 0.024119649082422256, 0.01381504163146019, 0.016820497810840607, 0.0345151461660862, 0.030974801629781723, 0.032177556306123734, 0.03227025642991066, 0.02327035740017891, 0.027259420603513718, 0.01785033755004406, 0.057764314115047455, 0.024271585047245026, 0.02524302713572979, 0.03774581849575043, 0.015895813703536987, 0.026596587151288986, 0.04215161129832268, 0.2093215137720108, 0.0], [0.04736969992518425, 0.013491553254425526, 0.008601201698184013, 0.011534370481967926, 0.03260952979326248, 0.008750016801059246, 0.01049541961401701, 0.015973465517163277, 0.024224920198321342, 0.013959748670458794, 0.01158416923135519, 0.02090699039399624, 0.012310195714235306, 0.02849937416613102, 0.01440322957932949, 0.011428194120526314, 0.024424541741609573, 0.021284054964780807, 0.0275762677192688, 0.025762228295207024, 0.049149543046951294, 0.021549459546804428, 0.02072589099407196, 0.03023243509232998, 0.04683731868863106, 0.02172248438000679, 0.02025720849633217, 0.019149543717503548, 0.010533904656767845, 0.05002592131495476, 0.030405573546886444, 0.022812237963080406, 0.029462479054927826, 0.03996318578720093, 0.20198363065719604]], [[1.0, 0.0, 0.0, 0.0, 0.0, 0.0, 0.0, 0.0, 0.0, 0.0, 0.0, 0.0, 0.0, 0.0, 0.0, 0.0, 0.0, 0.0, 0.0, 0.0, 0.0, 0.0, 0.0, 0.0, 0.0, 0.0, 0.0, 0.0, 0.0, 0.0, 0.0, 0.0, 0.0, 0.0, 0.0], [0.8253121972084045, 0.17468774318695068, 0.0, 0.0, 0.0, 0.0, 0.0, 0.0, 0.0, 0.0, 0.0, 0.0, 0.0, 0.0, 0.0, 0.0, 0.0, 0.0, 0.0, 0.0, 0.0, 0.0, 0.0, 0.0, 0.0, 0.0, 0.0, 0.0, 0.0, 0.0, 0.0, 0.0, 0.0, 0.0, 0.0], [0.758050262928009, 0.13029678165912628, 0.1116529181599617, 0.0, 0.0, 0.0, 0.0, 0.0, 0.0, 0.0, 0.0, 0.0, 0.0, 0.0, 0.0, 0.0, 0.0, 0.0, 0.0, 0.0, 0.0, 0.0, 0.0, 0.0, 0.0, 0.0, 0.0, 0.0, 0.0, 0.0, 0.0, 0.0, 0.0, 0.0, 0.0], [0.7232239842414856, 0.0827443078160286, 0.07870826870203018, 0.11532338708639145, 0.0, 0.0, 0.0, 0.0, 0.0, 0.0, 0.0, 0.0, 0.0, 0.0, 0.0, 0.0, 0.0, 0.0, 0.0, 0.0, 0.0, 0.0, 0.0, 0.0, 0.0, 0.0, 0.0, 0.0, 0.0, 0.0, 0.0, 0.0, 0.0, 0.0, 0.0], [0.5594542622566223, 0.08694437891244888, 0.09115545451641083, 0.09393441677093506, 0.1685115247964859, 0.0, 0.0, 0.0, 0.0, 0.0, 0.0, 0.0, 0.0, 0.0, 0.0, 0.0, 0.0, 0.0, 0.0, 0.0, 0.0, 0.0, 0.0, 0.0, 0.0, 0.0, 0.0, 0.0, 0.0, 0.0, 0.0, 0.0, 0.0, 0.0, 0.0], [0.5031396746635437, 0.08192654699087143, 0.05872313305735588, 0.1048090010881424, 0.15214203298091888, 0.09925957024097443, 0.0, 0.0, 0.0, 0.0, 0.0, 0.0, 0.0, 0.0, 0.0, 0.0, 0.0, 0.0, 0.0, 0.0, 0.0, 0.0, 0.0, 0.0, 0.0, 0.0, 0.0, 0.0, 0.0, 0.0, 0.0, 0.0, 0.0, 0.0, 0.0], [0.5279609560966492, 0.05825980752706528, 0.0683659017086029, 0.11652133613824844, 0.11039456725120544, 0.06918039172887802, 0.04931704327464104, 0.0, 0.0, 0.0, 0.0, 0.0, 0.0, 0.0, 0.0, 0.0, 0.0, 0.0, 0.0, 0.0, 0.0, 0.0, 0.0, 0.0, 0.0, 0.0, 0.0, 0.0, 0.0, 0.0, 0.0, 0.0, 0.0, 0.0, 0.0], [0.30010077357292175, 0.08826003223657608, 0.05834929645061493, 0.10984240472316742, 0.1686263233423233, 0.12896907329559326, 0.023227622732520103, 0.12262450903654099, 0.0, 0.0, 0.0, 0.0, 0.0, 0.0, 0.0, 0.0, 0.0, 0.0, 0.0, 0.0, 0.0, 0.0, 0.0, 0.0, 0.0, 0.0, 0.0, 0.0, 0.0, 0.0, 0.0, 0.0, 0.0, 0.0, 0.0], [0.3934404253959656, 0.04758618772029877, 0.05194966867566109, 0.07471578568220139, 0.1195099726319313, 0.05938037484884262, 0.023368611931800842, 0.10266401618719101, 0.1273850053548813, 0.0, 0.0, 0.0, 0.0, 0.0, 0.0, 0.0, 0.0, 0.0, 0.0, 0.0, 0.0, 0.0, 0.0, 0.0, 0.0, 0.0, 0.0, 0.0, 0.0, 0.0, 0.0, 0.0, 0.0, 0.0, 0.0], [0.3446025848388672, 0.050329018384218216, 0.0599132739007473, 0.04483127221465111, 0.15738153457641602, 0.06782461702823639, 0.03229012340307236, 0.07052529603242874, 0.0895390585064888, 0.08276325464248657, 0.0, 0.0, 0.0, 0.0, 0.0, 0.0, 0.0, 0.0, 0.0, 0.0, 0.0, 0.0, 0.0, 0.0, 0.0, 0.0, 0.0, 0.0, 0.0, 0.0, 0.0, 0.0, 0.0, 0.0, 0.0], [0.33508479595184326, 0.04626999795436859, 0.04785763472318649, 0.10917432606220245, 0.04435235261917114, 0.04490727558732033, 0.02844386361539364, 0.07920621335506439, 0.10731324553489685, 0.06832483410835266, 0.08906552940607071, 0.0, 0.0, 0.0, 0.0, 0.0, 0.0, 0.0, 0.0, 0.0, 0.0, 0.0, 0.0, 0.0, 0.0, 0.0, 0.0, 0.0, 0.0, 0.0, 0.0, 0.0, 0.0, 0.0, 0.0], [0.3115721642971039, 0.039277635514736176, 0.035212721675634384, 0.07550990581512451, 0.08078575879335403, 0.045036885887384415, 0.02880650758743286, 0.10218674689531326, 0.08797681331634521, 0.05585261061787605, 0.08571925759315491, 0.0520629920065403, 0.0, 0.0, 0.0, 0.0, 0.0, 0.0, 0.0, 0.0, 0.0, 0.0, 0.0, 0.0, 0.0, 0.0, 0.0, 0.0, 0.0, 0.0, 0.0, 0.0, 0.0, 0.0, 0.0], [0.3614695072174072, 0.06311222910881042, 0.026989927515387535, 0.0709579735994339, 0.03985174000263214, 0.029446514323353767, 0.02279636822640896, 0.07072701305150986, 0.11304391175508499, 0.033355191349983215, 0.03714418038725853, 0.047639429569244385, 0.08346597105264664, 0.0, 0.0, 0.0, 0.0, 0.0, 0.0, 0.0, 0.0, 0.0, 0.0, 0.0, 0.0, 0.0, 0.0, 0.0, 0.0, 0.0, 0.0, 0.0, 0.0, 0.0, 0.0], [0.26885920763015747, 0.03265075013041496, 0.03938187286257744, 0.050811443477869034, 0.08684231340885162, 0.043101966381073, 0.017922356724739075, 0.06655361503362656, 0.07785408198833466, 0.04528900980949402, 0.06586872786283493, 0.0460660494863987, 0.07721765339374542, 0.08158092200756073, 0.0, 0.0, 0.0, 0.0, 0.0, 0.0, 0.0, 0.0, 0.0, 0.0, 0.0, 0.0, 0.0, 0.0, 0.0, 0.0, 0.0, 0.0, 0.0, 0.0, 0.0], [0.20790532231330872, 0.030814697965979576, 0.029462972655892372, 0.050674233585596085, 0.08743475377559662, 0.04770582914352417, 0.027333172038197517, 0.09152109920978546, 0.05214143171906471, 0.047082457691431046, 0.08081997185945511, 0.054532743990421295, 0.12074842303991318, 0.05516167730093002, 0.016661206260323524, 0.0, 0.0, 0.0, 0.0, 0.0, 0.0, 0.0, 0.0, 0.0, 0.0, 0.0, 0.0, 0.0, 0.0, 0.0, 0.0, 0.0, 0.0, 0.0, 0.0], [0.19932863116264343, 0.04206708073616028, 0.05715768784284592, 0.07193326205015182, 0.05065881088376045, 0.03152456507086754, 0.027136800810694695, 0.04140905663371086, 0.0932227224111557, 0.052022069692611694, 0.0254228413105011, 0.059279102832078934, 0.06613776087760925, 0.0958227664232254, 0.03163216635584831, 0.055244676768779755, 0.0, 0.0, 0.0, 0.0, 0.0, 0.0, 0.0, 0.0, 0.0, 0.0, 0.0, 0.0, 0.0, 0.0, 0.0, 0.0, 0.0, 0.0, 0.0], [0.23719795048236847, 0.03067580983042717, 0.0292084738612175, 0.05821239948272705, 0.06082985922694206, 0.03495608642697334, 0.02444053255021572, 0.07084920257329941, 0.05983855947852135, 0.03970345854759216, 0.0593259260058403, 0.03675238788127899, 0.07694025337696075, 0.061716459691524506, 0.014049733988940716, 0.06745626032352448, 0.037846650928258896, 0.0, 0.0, 0.0, 0.0, 0.0, 0.0, 0.0, 0.0, 0.0, 0.0, 0.0, 0.0, 0.0, 0.0, 0.0, 0.0, 0.0, 0.0], [0.2499532550573349, 0.026629487052559853, 0.03931758925318718, 0.04463213309645653, 0.07087577879428864, 0.0340941958129406, 0.02126503922045231, 0.05726420134305954, 0.05179664120078087, 0.03503984957933426, 0.0439227931201458, 0.03922875598073006, 0.061559148132801056, 0.051224235445261, 0.015611969865858555, 0.08278117328882217, 0.0389174222946167, 0.035886362195014954, 0.0, 0.0, 0.0, 0.0, 0.0, 0.0, 0.0, 0.0, 0.0, 0.0, 0.0, 0.0, 0.0, 0.0, 0.0, 0.0, 0.0], [0.22269800305366516, 0.02651812508702278, 0.03978952392935753, 0.027604008093476295, 0.08196065574884415, 0.035829655826091766, 0.015378959476947784, 0.06874663382768631, 0.053430840373039246, 0.054698217660188675, 0.05721568688750267, 0.031615279614925385, 0.037170715630054474, 0.05228295177221298, 0.011851193383336067, 0.0720609724521637, 0.030878286808729172, 0.02441115491092205, 0.05585915222764015, 0.0, 0.0, 0.0, 0.0, 0.0, 0.0, 0.0, 0.0, 0.0, 0.0, 0.0, 0.0, 0.0, 0.0, 0.0, 0.0], [0.07419285923242569, 0.050926994532346725, 0.028230952098965645, 0.03420005366206169, 0.03361425921320915, 0.05182219296693802, 0.009658378548920155, 0.04940612614154816, 0.09883320331573486, 0.05356482416391373, 0.024581875652074814, 0.05879184231162071, 0.013026786036789417, 0.10889022052288055, 0.015677114948630333, 0.04766634479165077, 0.06507275998592377, 0.038861677050590515, 0.0398426316678524, 0.10313884913921356, 0.0, 0.0, 0.0, 0.0, 0.0, 0.0, 0.0, 0.0, 0.0, 0.0, 0.0, 0.0, 0.0, 0.0, 0.0], [0.22614891827106476, 0.025769881904125214, 0.03336167708039284, 0.04034487158060074, 0.06116845831274986, 0.031660258769989014, 0.023036975413560867, 0.04815824329853058, 0.04964130371809006, 0.02570328675210476, 0.051324229687452316, 0.029225792735815048, 0.04627237096428871, 0.04679548740386963, 0.010471497662365437, 0.04346737265586853, 0.02797774411737919, 0.03356108069419861, 0.032099246978759766, 0.05562402307987213, 0.05818727985024452, 0.0, 0.0, 0.0, 0.0, 0.0, 0.0, 0.0, 0.0, 0.0, 0.0, 0.0, 0.0, 0.0, 0.0], [0.1944299191236496, 0.020005809143185616, 0.025669975206255913, 0.027610071003437042, 0.07351990044116974, 0.02511858567595482, 0.016428446397185326, 0.05443364381790161, 0.044502656906843185, 0.022272851318120956, 0.029331287369132042, 0.03064262494444847, 0.0628659799695015, 0.0433916337788105, 0.010215999558568, 0.09763483703136444, 0.02960142306983471, 0.028080467134714127, 0.03757163882255554, 0.050374019891023636, 0.06089741364121437, 0.015400811098515987, 0.0, 0.0, 0.0, 0.0, 0.0, 0.0, 0.0, 0.0, 0.0, 0.0, 0.0, 0.0, 0.0], [0.19766584038734436, 0.04115752503275871, 0.03360118716955185, 0.023870175704360008, 0.06633444875478745, 0.02801697701215744, 0.01958294026553631, 0.05178564786911011, 0.03159146010875702, 0.02653614431619644, 0.04164315387606621, 0.025757962837815285, 0.04328406974673271, 0.02993945963680744, 0.012750313617289066, 0.056069158017635345, 0.024677328765392303, 0.02150590717792511, 0.045592933893203735, 0.07480883598327637, 0.0443340465426445, 0.0219973586499691, 0.03749702870845795, 0.0, 0.0, 0.0, 0.0, 0.0, 0.0, 0.0, 0.0, 0.0, 0.0, 0.0, 0.0], [0.18043571710586548, 0.023349838331341743, 0.023929737508296967, 0.04454164579510689, 0.040705934166908264, 0.03654100000858307, 0.01661658100783825, 0.05323559045791626, 0.050283920019865036, 0.02584688365459442, 0.04605169594287872, 0.024920543655753136, 0.03976091742515564, 0.04893423989415169, 0.01239001750946045, 0.06191660463809967, 0.023965341970324516, 0.028754502534866333, 0.02509540505707264, 0.06865915656089783, 0.0735766813158989, 0.018046917393803596, 0.022800752893090248, 0.009640373289585114, 0.0, 0.0, 0.0, 0.0, 0.0, 0.0, 0.0, 0.0, 0.0, 0.0, 0.0], [0.24246364831924438, 0.024696459993720055, 0.03868826478719711, 0.03357228636741638, 0.05476619675755501, 0.033804696053266525, 0.020721618086099625, 0.03275461494922638, 0.04349980503320694, 0.01856265217065811, 0.036468490958213806, 0.03100249543786049, 0.038625456392765045, 0.03993181139230728, 0.010727168060839176, 0.038317687809467316, 0.029280314221978188, 0.024678125977516174, 0.02788931503891945, 0.04502159357070923, 0.04307599365711212, 0.01690582185983658, 0.023586299270391464, 0.007298629265278578, 0.043660618364810944, 0.0, 0.0, 0.0, 0.0, 0.0, 0.0, 0.0, 0.0, 0.0, 0.0], [0.11111283302307129, 0.029458772391080856, 0.02455946058034897, 0.030902516096830368, 0.033864825963974, 0.03363063931465149, 0.012831440195441246, 0.030669283121824265, 0.06390532106161118, 0.023481518030166626, 0.02570461295545101, 0.03766978159546852, 0.01616787165403366, 0.06660736352205276, 0.017231756821274757, 0.03065868280827999, 0.039240460842847824, 0.02429523877799511, 0.026388797909021378, 0.05864027515053749, 0.10666141659021378, 0.017623895779252052, 0.02424544095993042, 0.01827959716320038, 0.03675020486116409, 0.059418026357889175, 0.0, 0.0, 0.0, 0.0, 0.0, 0.0, 0.0, 0.0, 0.0], [0.17855210602283478, 0.04373873770236969, 0.02777227759361267, 0.03288248926401138, 0.08083146810531616, 0.03614852949976921, 0.019438141956925392, 0.03604715317487717, 0.0315406359732151, 0.02228383533656597, 0.02674207277595997, 0.02027295157313347, 0.04929489642381668, 0.028057044371962547, 0.010035552084445953, 0.028219010680913925, 0.018526621162891388, 0.025377942249178886, 0.03921228274703026, 0.05273986980319023, 0.024735093116760254, 0.028674781322479248, 0.029405999928712845, 0.013893150724470615, 0.0176064595580101, 0.05648736283183098, 0.021483492106199265, 0.0, 0.0, 0.0, 0.0, 0.0, 0.0, 0.0, 0.0], [0.15546514093875885, 0.04916936531662941, 0.024515938013792038, 0.0257005263119936, 0.05483131855726242, 0.04209274426102638, 0.011645045131444931, 0.06493964791297913, 0.03121974505484104, 0.026562780141830444, 0.02832685597240925, 0.018289044499397278, 0.03490861877799034, 0.02966100350022316, 0.008558591827750206, 0.0466504842042923, 0.01766982488334179, 0.02372436784207821, 0.019038736820220947, 0.0771576464176178, 0.027307379990816116, 0.019747747108340263, 0.02436411753296852, 0.014429944567382336, 0.018928352743387222, 0.058505620807409286, 0.024364057928323746, 0.02222543954849243, 0.0, 0.0, 0.0, 0.0, 0.0, 0.0, 0.0], [0.19332920014858246, 0.02629834972321987, 0.030392469838261604, 0.029611876234412193, 0.0452016219496727, 0.03307906165719032, 0.02184077352285385, 0.02659415826201439, 0.04538283124566078, 0.03843945264816284, 0.02691538818180561, 0.02453508973121643, 0.015795713290572166, 0.04036761447787285, 0.01063427235931158, 0.026345480233430862, 0.022409794852137566, 0.019946040585637093, 0.044018492102622986, 0.06709348410367966, 0.033454734832048416, 0.0160849429666996, 0.025615878403186798, 0.011409512721002102, 0.013623225502669811, 0.04055491462349892, 0.01666298136115074, 0.03589889034628868, 0.01846371404826641, 0.0, 0.0, 0.0, 0.0, 0.0, 0.0], [0.15965190529823303, 0.018642347306013107, 0.026677701622247696, 0.028047842904925346, 0.049077726900577545, 0.026045670732855797, 0.01780771277844906, 0.03679424151778221, 0.045969441533088684, 0.019110891968011856, 0.037963200360536575, 0.027620621025562286, 0.028341028839349747, 0.04296436533331871, 0.008847584947943687, 0.032530203461647034, 0.02565997652709484, 0.02448512241244316, 0.0299662034958601, 0.040540702641010284, 0.042335040867328644, 0.017694560810923576, 0.02121768519282341, 0.006380946841090918, 0.031033912673592567, 0.035579707473516464, 0.025066187605261803, 0.026607485488057137, 0.02430843375623226, 0.04303152859210968, 0.0, 0.0, 0.0, 0.0, 0.0], [0.1966170072555542, 0.019791383296251297, 0.033033329993486404, 0.0256870836019516, 0.04220607131719589, 0.03137582540512085, 0.01624363660812378, 0.030698411166667938, 0.03629425913095474, 0.026839347556233406, 0.026712186634540558, 0.023046309128403664, 0.02195010520517826, 0.03344837576150894, 0.010305732488632202, 0.02274366281926632, 0.021480794996023178, 0.02109473943710327, 0.03149038553237915, 0.03692729026079178, 0.037232108414173126, 0.015422004275023937, 0.019252341240644455, 0.007320491597056389, 0.024766921997070312, 0.0443916991353035, 0.019850734621286392, 0.026133663952350616, 0.01812446489930153, 0.04270906373858452, 0.03681059181690216, 0.0, 0.0, 0.0, 0.0], [0.16313210129737854, 0.022932490333914757, 0.029583673924207687, 0.02861548587679863, 0.0377846360206604, 0.02651870995759964, 0.026229023933410645, 0.03103415109217167, 0.03483205288648605, 0.01897561363875866, 0.03320293501019478, 0.026435939595103264, 0.032307349145412445, 0.0313292033970356, 0.011727881617844105, 0.02716914378106594, 0.024106504395604134, 0.022620316594839096, 0.025755563750863075, 0.038014158606529236, 0.03207402676343918, 0.017354251816868782, 0.017987214028835297, 0.009293690323829651, 0.04247136041522026, 0.031215863302350044, 0.019006576389074326, 0.02152346260845661, 0.0175411868840456, 0.040145181119441986, 0.01816076971590519, 0.04091949760913849, 0.0, 0.0, 0.0], [0.15803849697113037, 0.016828812658786774, 0.020642384886741638, 0.04538252204656601, 0.046641722321510315, 0.02783522754907608, 0.020206501707434654, 0.042115092277526855, 0.03703448176383972, 0.01774459145963192, 0.03035331703722477, 0.024713635444641113, 0.03428487852215767, 0.033413711935281754, 0.009082166478037834, 0.03521377220749855, 0.022280128672719002, 0.020850008353590965, 0.02739020623266697, 0.03231462836265564, 0.037649236619472504, 0.014920792542397976, 0.01655367761850357, 0.006309076678007841, 0.023218730464577675, 0.027949873358011246, 0.023832254111766815, 0.015323558822274208, 0.017670495435595512, 0.0268152616918087, 0.022188855335116386, 0.028694555163383484, 0.03650735691189766, 0.0, 0.0], [0.1701940894126892, 0.03212590515613556, 0.029870089143514633, 0.019615579396486282, 0.054893795400857925, 0.03622061014175415, 0.017152205109596252, 0.0323265939950943, 0.0315006859600544, 0.029624538496136665, 0.029094267636537552, 0.01662425696849823, 0.02998979203402996, 0.027614135295152664, 0.01094976719468832, 0.03436654061079025, 0.01483010221272707, 0.015176069922745228, 0.03050289861857891, 0.04159744828939438, 0.02064121514558792, 0.017041221261024475, 0.026175430044531822, 0.010538807138800621, 0.007441797759383917, 0.03439135104417801, 0.02607710473239422, 0.029615655541419983, 0.013693030923604965, 0.018074294552206993, 0.033748526126146317, 0.0290025994181633, 0.013117284514009953, 0.01617228239774704, 0.0], [0.11417391896247864, 0.016700686886906624, 0.02357623167335987, 0.03235282376408577, 0.055113621056079865, 0.029616650193929672, 0.017176378518342972, 0.05952785536646843, 0.0384342260658741, 0.020421102643013, 0.03235999122262001, 0.019217433407902718, 0.01913510449230671, 0.03519751504063606, 0.010996292345225811, 0.04401443898677826, 0.016835950314998627, 0.016212482005357742, 0.0238405279815197, 0.042316604405641556, 0.03716839477419853, 0.009007311426103115, 0.01597953960299492, 0.005828782916069031, 0.02082641050219536, 0.028255823999643326, 0.03160592541098595, 0.02425202913582325, 0.023285284638404846, 0.019917484372854233, 0.024559777230024338, 0.02195736952126026, 0.01319314818829298, 0.020208805799484253, 0.03673402965068817]]]}\n",
              "    )\n",
              "    </script>"
            ]
          },
          "metadata": {}
        }
      ],
      "source": [
        "import circuitsvis as cv\n",
        "from IPython.display import display\n",
        "\n",
        "display(\n",
        "    cv.attention.attention_patterns(\n",
        "        tokens=reference_gpt2.to_str_tokens(reference_text), attention=cache[\"pattern\", 0][0]\n",
        "    )\n",
        ")"
      ]
    },
    {
      "cell_type": "markdown",
      "metadata": {
        "id": "IsJuk6mEQ36J"
      },
      "source": [
        "You can also use the `attention_heads` function, which presents the data in a different way (the syntax is exactly the same as `attention_patterns`). Note, if you display this in VSCode then it may exhibit a bug where the main plot continually shrinks in size - if this happens, you should instead save the HTML (i.e. with `html = cv.attention.attention_heads(...); with open(\"attn_heads.html\", \"w\") as f: f.write(str(html))`) and open the plot in your browser.\n",
        "\n",
        "<!-- <details>\n",
        "<summary>Help - my <code>attention_heads</code> plots are behaving weirdly.</summary>\n",
        "\n",
        "This seems to be a bug in `circuitsvis` - on VSCode, the attention head plots continually shrink in size.\n",
        "\n",
        "Until this is fixed, one way to get around it is to open the plots in your browser. You can do this inline with the `webbrowser` library:\n",
        "\n",
        "```python\n",
        "attn_heads = cv.attention.attention_heads(\n",
        "    tokens=reference_gpt2.to_str_tokens(reference_text),\n",
        "    attention=cache[\"pattern\", 0][0]\n",
        ")\n",
        "\n",
        "path = \"attn_heads.html\"\n",
        "\n",
        "with open(path, \"w\") as f:\n",
        "    f.write(str(attn_heads))\n",
        "\n",
        "webbrowser.open(path)\n",
        "```\n",
        "\n",
        "To check exactly where this is getting saved, you can print your current working directory with `os.getcwd()`.\n",
        "</details> -->"
      ]
    },
    {
      "cell_type": "code",
      "execution_count": 23,
      "metadata": {
        "id": "uvD440hZQ36J",
        "outputId": "d060b088-bf9a-48e0-dcea-3702521de0c6",
        "colab": {
          "base_uri": "https://localhost:8080/",
          "height": 1000
        }
      },
      "outputs": [
        {
          "output_type": "display_data",
          "data": {
            "text/plain": [
              "<circuitsvis.utils.render.RenderedHTML at 0x7f4861326310>"
            ],
            "text/html": [
              "<div id=\"circuits-vis-ba429608-f4fc\" style=\"margin: 15px 0;\"/>\n",
              "    <script crossorigin type=\"module\">\n",
              "    import { render, AttentionHeads } from \"https://unpkg.com/circuitsvis@1.41.0/dist/cdn/esm.js\";\n",
              "    render(\n",
              "      \"circuits-vis-ba429608-f4fc\",\n",
              "      AttentionHeads,\n",
              "      {\"attention\": [[[1.0, 0.0, 0.0, 0.0, 0.0, 0.0, 0.0, 0.0, 0.0, 0.0, 0.0, 0.0, 0.0, 0.0, 0.0, 0.0, 0.0, 0.0, 0.0, 0.0, 0.0, 0.0, 0.0, 0.0, 0.0, 0.0, 0.0, 0.0, 0.0, 0.0, 0.0, 0.0, 0.0, 0.0, 0.0], [0.9679255485534668, 0.032074473798274994, 0.0, 0.0, 0.0, 0.0, 0.0, 0.0, 0.0, 0.0, 0.0, 0.0, 0.0, 0.0, 0.0, 0.0, 0.0, 0.0, 0.0, 0.0, 0.0, 0.0, 0.0, 0.0, 0.0, 0.0, 0.0, 0.0, 0.0, 0.0, 0.0, 0.0, 0.0, 0.0, 0.0], [0.8024235367774963, 0.16839203238487244, 0.029184352606534958, 0.0, 0.0, 0.0, 0.0, 0.0, 0.0, 0.0, 0.0, 0.0, 0.0, 0.0, 0.0, 0.0, 0.0, 0.0, 0.0, 0.0, 0.0, 0.0, 0.0, 0.0, 0.0, 0.0, 0.0, 0.0, 0.0, 0.0, 0.0, 0.0, 0.0, 0.0, 0.0], [0.6959056258201599, 0.12269629538059235, 0.1458849012851715, 0.035513244569301605, 0.0, 0.0, 0.0, 0.0, 0.0, 0.0, 0.0, 0.0, 0.0, 0.0, 0.0, 0.0, 0.0, 0.0, 0.0, 0.0, 0.0, 0.0, 0.0, 0.0, 0.0, 0.0, 0.0, 0.0, 0.0, 0.0, 0.0, 0.0, 0.0, 0.0, 0.0], [0.5661024451255798, 0.14705193042755127, 0.08665251731872559, 0.1125841736793518, 0.08760889619588852, 0.0, 0.0, 0.0, 0.0, 0.0, 0.0, 0.0, 0.0, 0.0, 0.0, 0.0, 0.0, 0.0, 0.0, 0.0, 0.0, 0.0, 0.0, 0.0, 0.0, 0.0, 0.0, 0.0, 0.0, 0.0, 0.0, 0.0, 0.0, 0.0, 0.0], [0.46218734979629517, 0.13512833416461945, 0.09698345512151718, 0.17473751306533813, 0.046246014535427094, 0.08471735566854477, 0.0, 0.0, 0.0, 0.0, 0.0, 0.0, 0.0, 0.0, 0.0, 0.0, 0.0, 0.0, 0.0, 0.0, 0.0, 0.0, 0.0, 0.0, 0.0, 0.0, 0.0, 0.0, 0.0, 0.0, 0.0, 0.0, 0.0, 0.0, 0.0], [0.4325161278247833, 0.1038287952542305, 0.0833013504743576, 0.06995750963687897, 0.07479371130466461, 0.21568652987480164, 0.019915912300348282, 0.0, 0.0, 0.0, 0.0, 0.0, 0.0, 0.0, 0.0, 0.0, 0.0, 0.0, 0.0, 0.0, 0.0, 0.0, 0.0, 0.0, 0.0, 0.0, 0.0, 0.0, 0.0, 0.0, 0.0, 0.0, 0.0, 0.0, 0.0], [0.22236739099025726, 0.09167702496051788, 0.08796325325965881, 0.25168728828430176, 0.08263692259788513, 0.10428160429000854, 0.06469018757343292, 0.09469636529684067, 0.0, 0.0, 0.0, 0.0, 0.0, 0.0, 0.0, 0.0, 0.0, 0.0, 0.0, 0.0, 0.0, 0.0, 0.0, 0.0, 0.0, 0.0, 0.0, 0.0, 0.0, 0.0, 0.0, 0.0, 0.0, 0.0, 0.0], [0.4049955904483795, 0.09078017622232437, 0.052373580634593964, 0.026201874017715454, 0.11047185957431793, 0.03667405620217323, 0.025538934394717216, 0.24528279900550842, 0.007681123912334442, 0.0, 0.0, 0.0, 0.0, 0.0, 0.0, 0.0, 0.0, 0.0, 0.0, 0.0, 0.0, 0.0, 0.0, 0.0, 0.0, 0.0, 0.0, 0.0, 0.0, 0.0, 0.0, 0.0, 0.0, 0.0, 0.0], [0.3998596668243408, 0.04361317679286003, 0.06183882802724838, 0.0729835107922554, 0.03661305084824562, 0.09147470444440842, 0.07241709530353546, 0.07013336569070816, 0.06429054588079453, 0.08677608519792557, 0.0, 0.0, 0.0, 0.0, 0.0, 0.0, 0.0, 0.0, 0.0, 0.0, 0.0, 0.0, 0.0, 0.0, 0.0, 0.0, 0.0, 0.0, 0.0, 0.0, 0.0, 0.0, 0.0, 0.0, 0.0], [0.09702546894550323, 0.03552757203578949, 0.023214813321828842, 0.036767058074474335, 0.02515840157866478, 0.2775616943836212, 0.07676514238119125, 0.19501188397407532, 0.05580100044608116, 0.14529389142990112, 0.03187303990125656, 0.0, 0.0, 0.0, 0.0, 0.0, 0.0, 0.0, 0.0, 0.0, 0.0, 0.0, 0.0, 0.0, 0.0, 0.0, 0.0, 0.0, 0.0, 0.0, 0.0, 0.0, 0.0, 0.0, 0.0], [0.2414383888244629, 0.03971060365438461, 0.07687385380268097, 0.02804270200431347, 0.12435993552207947, 0.05601578950881958, 0.06063671410083771, 0.1284010112285614, 0.015699444338679314, 0.09114035964012146, 0.13185441493988037, 0.005826781038194895, 0.0, 0.0, 0.0, 0.0, 0.0, 0.0, 0.0, 0.0, 0.0, 0.0, 0.0, 0.0, 0.0, 0.0, 0.0, 0.0, 0.0, 0.0, 0.0, 0.0, 0.0, 0.0, 0.0], [0.1436309963464737, 0.05110502988100052, 0.05505893751978874, 0.07798512279987335, 0.0785427913069725, 0.03501971811056137, 0.1349860280752182, 0.22634069621562958, 0.04162852466106415, 0.035131409764289856, 0.02023601345717907, 0.04114445298910141, 0.05919026955962181, 0.0, 0.0, 0.0, 0.0, 0.0, 0.0, 0.0, 0.0, 0.0, 0.0, 0.0, 0.0, 0.0, 0.0, 0.0, 0.0, 0.0, 0.0, 0.0, 0.0, 0.0, 0.0], [0.3156285285949707, 0.06791996955871582, 0.03787235915660858, 0.017874594777822495, 0.08683168888092041, 0.02922782301902771, 0.017664168030023575, 0.18301638960838318, 0.004987794440239668, 0.04322868213057518, 0.05172261968255043, 0.008913455531001091, 0.12899240851402283, 0.006119506433606148, 0.0, 0.0, 0.0, 0.0, 0.0, 0.0, 0.0, 0.0, 0.0, 0.0, 0.0, 0.0, 0.0, 0.0, 0.0, 0.0, 0.0, 0.0, 0.0, 0.0, 0.0], [0.28410208225250244, 0.0534539595246315, 0.023969212546944618, 0.022562256082892418, 0.04619823396205902, 0.06391074508428574, 0.04539213702082634, 0.07758504897356033, 0.02764429710805416, 0.05804116278886795, 0.17727358639240265, 0.03400601074099541, 0.030527280643582344, 0.032130781561136246, 0.023203179240226746, 0.0, 0.0, 0.0, 0.0, 0.0, 0.0, 0.0, 0.0, 0.0, 0.0, 0.0, 0.0, 0.0, 0.0, 0.0, 0.0, 0.0, 0.0, 0.0, 0.0], [0.14103913307189941, 0.028577815741300583, 0.03760397061705589, 0.03137827664613724, 0.03697334975004196, 0.07347068190574646, 0.07151782512664795, 0.09211236983537674, 0.03358154371380806, 0.03639129921793938, 0.18937672674655914, 0.03244518116116524, 0.06021038442850113, 0.039169248193502426, 0.040409527719020844, 0.05574265494942665, 0.0, 0.0, 0.0, 0.0, 0.0, 0.0, 0.0, 0.0, 0.0, 0.0, 0.0, 0.0, 0.0, 0.0, 0.0, 0.0, 0.0, 0.0, 0.0], [0.20265290141105652, 0.03025279939174652, 0.06003407761454582, 0.021786142140626907, 0.1031423807144165, 0.04516838118433952, 0.046810269355773926, 0.10542113333940506, 0.011398823000490665, 0.07159949094057083, 0.10570328682661057, 0.004199371673166752, 0.11079788208007812, 0.013912520371377468, 0.028923513367772102, 0.03286946937441826, 0.005327514372766018, 0.0, 0.0, 0.0, 0.0, 0.0, 0.0, 0.0, 0.0, 0.0, 0.0, 0.0, 0.0, 0.0, 0.0, 0.0, 0.0, 0.0, 0.0], [0.204983651638031, 0.04007228836417198, 0.04229811951518059, 0.024939006194472313, 0.04992292448878288, 0.029371703043580055, 0.03076968900859356, 0.10315563529729843, 0.025490203872323036, 0.07886797934770584, 0.10560183227062225, 0.01735270395874977, 0.08083696663379669, 0.03128695487976074, 0.054510559886693954, 0.05288318172097206, 0.021742794662714005, 0.005913801025599241, 0.0, 0.0, 0.0, 0.0, 0.0, 0.0, 0.0, 0.0, 0.0, 0.0, 0.0, 0.0, 0.0, 0.0, 0.0, 0.0, 0.0], [0.24350900948047638, 0.03636489063501358, 0.04196162894368172, 0.026215724647045135, 0.040445733815431595, 0.09965366870164871, 0.025752248242497444, 0.03249463811516762, 0.0244599562138319, 0.035202644765377045, 0.033835384994745255, 0.03347690775990486, 0.04664861783385277, 0.027967918664216995, 0.0186407882720232, 0.11764255911111832, 0.038752853870391846, 0.022786684334278107, 0.05418813228607178, 0.0, 0.0, 0.0, 0.0, 0.0, 0.0, 0.0, 0.0, 0.0, 0.0, 0.0, 0.0, 0.0, 0.0, 0.0, 0.0], [0.1419457048177719, 0.03406403213739395, 0.03300989791750908, 0.02023869939148426, 0.03927314281463623, 0.026005543768405914, 0.006318639498203993, 0.040797874331474304, 0.03638002648949623, 0.14631053805351257, 0.016386181116104126, 0.0235984455794096, 0.015842773020267487, 0.0422760508954525, 0.022458218038082123, 0.0686740130186081, 0.027878455817699432, 0.037222396582365036, 0.08677614480257034, 0.13454322516918182, 0.0, 0.0, 0.0, 0.0, 0.0, 0.0, 0.0, 0.0, 0.0, 0.0, 0.0, 0.0, 0.0, 0.0, 0.0], [0.2177814096212387, 0.02690366841852665, 0.023647204041481018, 0.007102565374225378, 0.03517001122236252, 0.013998538255691528, 0.010392263531684875, 0.09431247413158417, 0.002962289610877633, 0.03783803433179855, 0.03792329877614975, 0.003733974415808916, 0.06506095826625824, 0.003636459354311228, 0.014758048579096794, 0.12028626352548599, 0.004900884814560413, 0.008107366971671581, 0.017449844628572464, 0.24998730421066284, 0.004047101363539696, 0.0, 0.0, 0.0, 0.0, 0.0, 0.0, 0.0, 0.0, 0.0, 0.0, 0.0, 0.0, 0.0, 0.0], [0.1218722015619278, 0.07663216441869736, 0.030231954529881477, 0.016371842473745346, 0.05268790200352669, 0.0214021485298872, 0.023403869941830635, 0.10649692267179489, 0.018582476302981377, 0.035091664642095566, 0.08394148200750351, 0.017393292859196663, 0.041830554604530334, 0.021453872323036194, 0.0333310104906559, 0.05027426779270172, 0.020740870386362076, 0.04090357944369316, 0.03054094687104225, 0.09200655668973923, 0.028245704248547554, 0.03656467795372009, 0.0, 0.0, 0.0, 0.0, 0.0, 0.0, 0.0, 0.0, 0.0, 0.0, 0.0, 0.0, 0.0], [0.2126019448041916, 0.020284099504351616, 0.05000367388129234, 0.015904176980257034, 0.057225052267313004, 0.022857321426272392, 0.04604589194059372, 0.03530845418572426, 0.011784466914832592, 0.04140482842922211, 0.01680360920727253, 0.015782056376338005, 0.02020842954516411, 0.013090187683701515, 0.020854240283370018, 0.06297557801008224, 0.018039431422948837, 0.01805296540260315, 0.024445293471217155, 0.17059145867824554, 0.015939775854349136, 0.041521888226270676, 0.04827514663338661, 0.0, 0.0, 0.0, 0.0, 0.0, 0.0, 0.0, 0.0, 0.0, 0.0, 0.0, 0.0], [0.26714006066322327, 0.03564617782831192, 0.020422879606485367, 0.006622725166380405, 0.04034102335572243, 0.01911034621298313, 0.0145752914249897, 0.0564163513481617, 0.008403632789850235, 0.015526894479990005, 0.04414669796824455, 0.011055913753807545, 0.040019962936639786, 0.009353081695735455, 0.01935187727212906, 0.07054156810045242, 0.012798828072845936, 0.012832637876272202, 0.014165612868964672, 0.11736986041069031, 0.007312783971428871, 0.09727416187524796, 0.02075115218758583, 0.03882049769163132, 0.0, 0.0, 0.0, 0.0, 0.0, 0.0, 0.0, 0.0, 0.0, 0.0, 0.0], [0.14591233432292938, 0.03319379687309265, 0.03138770908117294, 0.009927901439368725, 0.05209654942154884, 0.0198409054428339, 0.01940172165632248, 0.07582409679889679, 0.012863253243267536, 0.033451277762651443, 0.016568411141633987, 0.014797179028391838, 0.05908382683992386, 0.0155973881483078, 0.01136922650039196, 0.021859483793377876, 0.01947386935353279, 0.014793707057833672, 0.053418632596731186, 0.09521487355232239, 0.016204578801989555, 0.06210915744304657, 0.061828501522541046, 0.06657968461513519, 0.03720193728804588, 0.0, 0.0, 0.0, 0.0, 0.0, 0.0, 0.0, 0.0, 0.0, 0.0], [0.06265702843666077, 0.014285171404480934, 0.025387221947312355, 0.030092518776655197, 0.021246908232569695, 0.029529908671975136, 0.026446687057614326, 0.014830511063337326, 0.015861934050917625, 0.04331432655453682, 0.02196396328508854, 0.01997012458741665, 0.04342854395508766, 0.018692901358008385, 0.009475355967879295, 0.02419748343527317, 0.023853624239563942, 0.0269087515771389, 0.014060706831514835, 0.1752849966287613, 0.03583677485585213, 0.04792255163192749, 0.035750579088926315, 0.012070520780980587, 0.05927427485585213, 0.1476566046476364, 0.0, 0.0, 0.0, 0.0, 0.0, 0.0, 0.0, 0.0, 0.0], [0.09766799211502075, 0.031521718949079514, 0.0266864150762558, 0.03645576536655426, 0.03492369502782822, 0.08635790646076202, 0.013895380310714245, 0.03018672950565815, 0.019402576610445976, 0.03514167666435242, 0.048781562596559525, 0.01255156472325325, 0.04099080339074135, 0.020208818838000298, 0.012653257697820663, 0.007451048586517572, 0.013522968627512455, 0.024078069254755974, 0.04302708059549332, 0.15066799521446228, 0.029252583160996437, 0.018810171633958817, 0.01610449142754078, 0.02854987233877182, 0.029875917360186577, 0.051215581595897675, 0.040018320083618164, 0.0, 0.0, 0.0, 0.0, 0.0, 0.0, 0.0, 0.0], [0.09151815623044968, 0.011421113274991512, 0.0397990345954895, 0.011658582836389542, 0.03344331309199333, 0.04107607901096344, 0.009538291953504086, 0.04061255604028702, 0.009114391170442104, 0.046904027462005615, 0.027317604050040245, 0.010844958946108818, 0.02454751543700695, 0.010004605166614056, 0.008095633238554, 0.008396816439926624, 0.011855491437017918, 0.008184149861335754, 0.04104062542319298, 0.3625810742378235, 0.007537388242781162, 0.009961557574570179, 0.0210457481443882, 0.011855036951601505, 0.03005830943584442, 0.03281192481517792, 0.028863199055194855, 0.009912795387208462, 0.0, 0.0, 0.0, 0.0, 0.0, 0.0, 0.0], [0.10946293920278549, 0.025872737169265747, 0.023928705602884293, 0.02004525437951088, 0.03590445965528488, 0.03167986497282982, 0.02914528176188469, 0.11399825662374496, 0.013954712077975273, 0.03480716422200203, 0.018105631694197655, 0.01762225851416588, 0.01900731585919857, 0.015307603403925896, 0.00970301404595375, 0.012407948262989521, 0.02009168080985546, 0.02726256661117077, 0.0656459853053093, 0.027155404910445213, 0.026226606220006943, 0.018942993134260178, 0.04077143222093582, 0.019073298200964928, 0.021573416888713837, 0.030219418928027153, 0.07011830806732178, 0.06031468138098717, 0.04165104776620865, 0.0, 0.0, 0.0, 0.0, 0.0, 0.0], [0.11406347900629044, 0.02655624784529209, 0.019958436489105225, 0.008931468240916729, 0.03494322672486305, 0.016834324225783348, 0.009377744048833847, 0.0445132777094841, 0.0037722201086580753, 0.028760330751538277, 0.02074115350842476, 0.005650992970913649, 0.06007757782936096, 0.00442497618496418, 0.010821839794516563, 0.04112929850816727, 0.007085720077157021, 0.010433999821543694, 0.026548536494374275, 0.11019261926412582, 0.007190014701336622, 0.05651938542723656, 0.028027109801769257, 0.06370097398757935, 0.034076906740665436, 0.07150983065366745, 0.04093319550156593, 0.014252979308366776, 0.06984364241361618, 0.009128456003963947, 0.0, 0.0, 0.0, 0.0, 0.0], [0.14399927854537964, 0.020454606041312218, 0.04262387380003929, 0.011592100374400616, 0.027789432555437088, 0.01434292271733284, 0.029106181114912033, 0.04215824976563454, 0.013669712468981743, 0.02058148756623268, 0.008641068823635578, 0.01240221131592989, 0.019577063620090485, 0.014879732392728329, 0.023319032043218613, 0.02236717753112316, 0.01441388763487339, 0.006065314169973135, 0.006985304411500692, 0.08859112858772278, 0.014219230972230434, 0.02754119038581848, 0.05707308650016785, 0.024985725060105324, 0.057333026081323624, 0.048089683055877686, 0.018268713727593422, 0.07940170913934708, 0.04377174377441406, 0.02484910748898983, 0.020907005295157433, 0.0, 0.0, 0.0, 0.0], [0.0778680369257927, 0.01973286271095276, 0.019906362518668175, 0.015179571695625782, 0.029269902035593987, 0.008963342756032944, 0.01142786629498005, 0.03169626742601395, 0.006965261418372393, 0.040641698986291885, 0.01998521201312542, 0.00878906436264515, 0.035749923437833786, 0.007953662425279617, 0.009612184949219227, 0.014965923503041267, 0.010367298498749733, 0.013545009307563305, 0.013747338205575943, 0.0681854709982872, 0.011837064288556576, 0.019355513155460358, 0.016761230304837227, 0.016301225870847702, 0.061250220984220505, 0.12023527175188065, 0.04739146679639816, 0.023822050541639328, 0.14942997694015503, 0.014121503569185734, 0.04741881042718887, 0.0075234402902424335, 0.0, 0.0, 0.0], [0.14836616814136505, 0.03627424314618111, 0.023768767714500427, 0.005308397114276886, 0.032260362058877945, 0.017439452931284904, 0.015090284869074821, 0.04443071782588959, 0.004935790318995714, 0.021151501685380936, 0.023849107325077057, 0.006127793341875076, 0.04430978000164032, 0.005717848893254995, 0.006861451081931591, 0.016362613067030907, 0.00770712411031127, 0.009109636768698692, 0.028427589684724808, 0.14491388201713562, 0.006351602263748646, 0.034538231790065765, 0.02327299863100052, 0.04803793504834175, 0.034416668117046356, 0.06975369900465012, 0.02756190113723278, 0.012016535736620426, 0.03535730019211769, 0.008575206622481346, 0.03916304185986519, 0.00971579272300005, 0.008826584555208683, 0.0, 0.0], [0.11389318108558655, 0.021931488066911697, 0.026447614654898643, 0.007602882105857134, 0.02053068019449711, 0.029713166877627373, 0.03694961220026016, 0.02875792421400547, 0.007981306873261929, 0.029359184205532074, 0.015349607914686203, 0.018420172855257988, 0.020850982517004013, 0.008514756336808205, 0.010930923745036125, 0.009227699600160122, 0.02127930149435997, 0.009222992695868015, 0.02765110321342945, 0.12458856403827667, 0.010509628802537918, 0.06096192076802254, 0.02203325182199478, 0.030366934835910797, 0.027411194518208504, 0.03459944576025009, 0.03202730789780617, 0.0395297072827816, 0.05353792756795883, 0.017732908949255943, 0.017497554421424866, 0.017771480605006218, 0.012080211192369461, 0.034737344831228256, 0.0], [0.13933590054512024, 0.0213712640106678, 0.01454135961830616, 0.005123290698975325, 0.031635090708732605, 0.010921809822320938, 0.012541361153125763, 0.02249286137521267, 0.004774268250912428, 0.024901431053876877, 0.010858358815312386, 0.010577702894806862, 0.025906071066856384, 0.005286506377160549, 0.016752300783991814, 0.04520440846681595, 0.012112235650420189, 0.014714711345732212, 0.014629177749156952, 0.08781159669160843, 0.007287840824574232, 0.07496531307697296, 0.015995563939213753, 0.04392344132065773, 0.041024111211299896, 0.0758780986070633, 0.027924560010433197, 0.01525017712265253, 0.013413431122899055, 0.01453278586268425, 0.02721545472741127, 0.03453553467988968, 0.018207408487796783, 0.0350533165037632, 0.02330126240849495]], [[1.0, 0.0, 0.0, 0.0, 0.0, 0.0, 0.0, 0.0, 0.0, 0.0, 0.0, 0.0, 0.0, 0.0, 0.0, 0.0, 0.0, 0.0, 0.0, 0.0, 0.0, 0.0, 0.0, 0.0, 0.0, 0.0, 0.0, 0.0, 0.0, 0.0, 0.0, 0.0, 0.0, 0.0, 0.0], [0.00041899754432961345, 0.9995810389518738, 0.0, 0.0, 0.0, 0.0, 0.0, 0.0, 0.0, 0.0, 0.0, 0.0, 0.0, 0.0, 0.0, 0.0, 0.0, 0.0, 0.0, 0.0, 0.0, 0.0, 0.0, 0.0, 0.0, 0.0, 0.0, 0.0, 0.0, 0.0, 0.0, 0.0, 0.0, 0.0, 0.0], [0.00013394761481322348, 0.00951184332370758, 0.9903541803359985, 0.0, 0.0, 0.0, 0.0, 0.0, 0.0, 0.0, 0.0, 0.0, 0.0, 0.0, 0.0, 0.0, 0.0, 0.0, 0.0, 0.0, 0.0, 0.0, 0.0, 0.0, 0.0, 0.0, 0.0, 0.0, 0.0, 0.0, 0.0, 0.0, 0.0, 0.0, 0.0], [0.0008606779156252742, 0.002610043389722705, 0.01506681740283966, 0.9814624786376953, 0.0, 0.0, 0.0, 0.0, 0.0, 0.0, 0.0, 0.0, 0.0, 0.0, 0.0, 0.0, 0.0, 0.0, 0.0, 0.0, 0.0, 0.0, 0.0, 0.0, 0.0, 0.0, 0.0, 0.0, 0.0, 0.0, 0.0, 0.0, 0.0, 0.0, 0.0], [3.7170477298786864e-05, 0.0006769570172764361, 0.0012692955788224936, 0.0002140780707122758, 0.9978025555610657, 0.0, 0.0, 0.0, 0.0, 0.0, 0.0, 0.0, 0.0, 0.0, 0.0, 0.0, 0.0, 0.0, 0.0, 0.0, 0.0, 0.0, 0.0, 0.0, 0.0, 0.0, 0.0, 0.0, 0.0, 0.0, 0.0, 0.0, 0.0, 0.0, 0.0], [8.425416308455169e-05, 0.0007904721423983574, 0.0032152822241187096, 0.0027085694018751383, 0.0013058256590738893, 0.9918956160545349, 0.0, 0.0, 0.0, 0.0, 0.0, 0.0, 0.0, 0.0, 0.0, 0.0, 0.0, 0.0, 0.0, 0.0, 0.0, 0.0, 0.0, 0.0, 0.0, 0.0, 0.0, 0.0, 0.0, 0.0, 0.0, 0.0, 0.0, 0.0, 0.0], [0.00014960527187213302, 0.0018361882539466023, 0.0016375049017369747, 0.001013060798868537, 0.004209814593195915, 8.004387927940115e-05, 0.9910737872123718, 0.0, 0.0, 0.0, 0.0, 0.0, 0.0, 0.0, 0.0, 0.0, 0.0, 0.0, 0.0, 0.0, 0.0, 0.0, 0.0, 0.0, 0.0, 0.0, 0.0, 0.0, 0.0, 0.0, 0.0, 0.0, 0.0, 0.0, 0.0], [0.0002685565559659153, 0.0009259636281058192, 0.0008250501123256981, 0.0006819655536673963, 0.007268866058439016, 0.001351707149296999, 0.00034691678592935205, 0.9883310198783875, 0.0, 0.0, 0.0, 0.0, 0.0, 0.0, 0.0, 0.0, 0.0, 0.0, 0.0, 0.0, 0.0, 0.0, 0.0, 0.0, 0.0, 0.0, 0.0, 0.0, 0.0, 0.0, 0.0, 0.0, 0.0, 0.0, 0.0], [0.007326360326260328, 0.007828550413250923, 0.003931873943656683, 0.0001837400923250243, 6.433094677049667e-05, 0.00010083155211759731, 6.769890751456842e-05, 7.164074486354366e-05, 0.9804249405860901, 0.0, 0.0, 0.0, 0.0, 0.0, 0.0, 0.0, 0.0, 0.0, 0.0, 0.0, 0.0, 0.0, 0.0, 0.0, 0.0, 0.0, 0.0, 0.0, 0.0, 0.0, 0.0, 0.0, 0.0, 0.0, 0.0], [3.9175745769171044e-05, 9.137432789430022e-05, 0.00033399122185073793, 6.816777749918401e-05, 7.81233684392646e-05, 0.0009843043517321348, 0.00016941352805588394, 0.002541461493819952, 4.413309216033667e-05, 0.9956498742103577, 0.0, 0.0, 0.0, 0.0, 0.0, 0.0, 0.0, 0.0, 0.0, 0.0, 0.0, 0.0, 0.0, 0.0, 0.0, 0.0, 0.0, 0.0, 0.0, 0.0, 0.0, 0.0, 0.0, 0.0, 0.0], [5.520322247321019e-06, 2.3466527636628598e-05, 9.186482930090278e-05, 8.013441401999444e-05, 3.9392205508193e-05, 8.521595736965537e-05, 2.5735973395057954e-05, 7.120834197849035e-05, 4.276968411431881e-06, 0.00015049768262542784, 0.9994226694107056, 0.0, 0.0, 0.0, 0.0, 0.0, 0.0, 0.0, 0.0, 0.0, 0.0, 0.0, 0.0, 0.0, 0.0, 0.0, 0.0, 0.0, 0.0, 0.0, 0.0, 0.0, 0.0, 0.0, 0.0], [0.0010400308528915048, 0.0022993639577180147, 0.0023920699022710323, 0.0003133234567940235, 0.00013362923345994204, 0.0005168464849703014, 0.0011971096973866224, 6.827450124546885e-05, 0.005444327834993601, 0.0002821744710672647, 4.3057352741016075e-05, 0.9862697720527649, 0.0, 0.0, 0.0, 0.0, 0.0, 0.0, 0.0, 0.0, 0.0, 0.0, 0.0, 0.0, 0.0, 0.0, 0.0, 0.0, 0.0, 0.0, 0.0, 0.0, 0.0, 0.0, 0.0], [4.6304052375489846e-05, 0.0003248225257266313, 0.00024459429550915956, 0.0015311642782762647, 0.0008613702957518399, 0.0012943863403052092, 6.19845959590748e-05, 2.6642695956979878e-05, 4.840864130528644e-05, 0.0019855652935802937, 0.0001397185551468283, 0.00011434292537160218, 0.9933207035064697, 0.0, 0.0, 0.0, 0.0, 0.0, 0.0, 0.0, 0.0, 0.0, 0.0, 0.0, 0.0, 0.0, 0.0, 0.0, 0.0, 0.0, 0.0, 0.0, 0.0, 0.0, 0.0], [0.0030442415736615658, 0.001822363818064332, 0.0009289858862757683, 4.88022924400866e-05, 1.6391164535889402e-05, 2.9095637728460133e-05, 2.50798311753897e-05, 2.9130260372767225e-05, 0.45632204413414, 2.457868140481878e-05, 2.4832173949107528e-05, 0.0030043967999517918, 1.6773814195403247e-06, 0.5346783995628357, 0.0, 0.0, 0.0, 0.0, 0.0, 0.0, 0.0, 0.0, 0.0, 0.0, 0.0, 0.0, 0.0, 0.0, 0.0, 0.0, 0.0, 0.0, 0.0, 0.0, 0.0], [0.00039817881770431995, 0.001028500497341156, 0.0008281109039671719, 0.00023753168352413923, 7.348858343902975e-05, 0.0014350303681567311, 6.76565759931691e-05, 0.0002954743104055524, 0.00014295795699581504, 9.92909335764125e-05, 4.608216386259301e-06, 0.0005140063003636897, 5.035657522967085e-06, 0.0001247551990672946, 0.9947453737258911, 0.0, 0.0, 0.0, 0.0, 0.0, 0.0, 0.0, 0.0, 0.0, 0.0, 0.0, 0.0, 0.0, 0.0, 0.0, 0.0, 0.0, 0.0, 0.0, 0.0], [9.074855915969238e-05, 0.0002652601688168943, 0.00011011176684405655, 0.00021231947175692767, 8.290550613310188e-05, 0.0011814198223873973, 1.5688718121964484e-05, 0.0016655947547405958, 1.1725332115020137e-05, 0.0020509441383183002, 0.00013842586486134678, 1.557363611937035e-05, 1.1507429917401168e-05, 9.066201528185047e-06, 0.00022655802604276687, 0.9939122200012207, 0.0, 0.0, 0.0, 0.0, 0.0, 0.0, 0.0, 0.0, 0.0, 0.0, 0.0, 0.0, 0.0, 0.0, 0.0, 0.0, 0.0, 0.0, 0.0], [0.0004413540300447494, 0.0006528960075229406, 0.0006495662382803857, 9.398062684340402e-05, 4.112704482395202e-05, 0.00017028424190357327, 0.0005066701560281217, 2.8896065487060696e-05, 0.002370182191953063, 0.0001045431345119141, 1.9230927136959508e-05, 0.47055861353874207, 1.6804015103843994e-05, 0.0022840930614620447, 0.00021698104683309793, 3.2769392419140786e-05, 0.5218120217323303, 0.0, 0.0, 0.0, 0.0, 0.0, 0.0, 0.0, 0.0, 0.0, 0.0, 0.0, 0.0, 0.0, 0.0, 0.0, 0.0, 0.0, 0.0], [0.0005350512801669538, 0.0006631251308135688, 0.00018957485735882074, 0.00011594548413995653, 3.930583625333384e-05, 8.452106703771278e-05, 0.00026859971694648266, 0.0003003481833729893, 0.00012727576540783048, 0.00015363417332991958, 2.152449633285869e-05, 0.0004102018428966403, 0.0015090383822098374, 0.00011659025039989501, 0.00013773961109109223, 7.389148231595755e-05, 0.0003989942779298872, 0.9948546886444092, 0.0, 0.0, 0.0, 0.0, 0.0, 0.0, 0.0, 0.0, 0.0, 0.0, 0.0, 0.0, 0.0, 0.0, 0.0, 0.0, 0.0], [0.0002235249412478879, 0.00025025373906828463, 0.00011739338515326381, 1.8608283426146954e-05, 0.0006291492027230561, 0.0007579223602078855, 3.784093132708222e-05, 0.0033851515036076307, 1.7918295270646922e-05, 0.00017818310880102217, 3.43443316523917e-05, 7.747590279905125e-05, 6.471163214882836e-05, 1.5270306903403252e-05, 0.00029359618201851845, 0.0005734392907470465, 7.154411287046969e-05, 0.000158831593580544, 0.993094801902771, 0.0, 0.0, 0.0, 0.0, 0.0, 0.0, 0.0, 0.0, 0.0, 0.0, 0.0, 0.0, 0.0, 0.0, 0.0, 0.0], [0.00030641001649200916, 0.0004168006998952478, 0.00045197142753750086, 0.00015746380086056888, 0.0015800739638507366, 0.0022666300646960735, 0.00014483602717518806, 0.002518873196095228, 4.4711858208756894e-05, 0.002739465096965432, 0.00043489757808856666, 0.00015683105448260903, 2.8505710361059755e-05, 4.005827577202581e-05, 0.000593667384237051, 0.00011775219900300726, 0.00014039609231986105, 0.0001806039217626676, 0.0009641882497817278, 0.9867159128189087, 0.0, 0.0, 0.0, 0.0, 0.0, 0.0, 0.0, 0.0, 0.0, 0.0, 0.0, 0.0, 0.0, 0.0, 0.0], [0.00904688611626625, 0.0007260906277224422, 6.491785461548716e-05, 4.5782653614878654e-05, 3.6695309972856194e-05, 3.389698758837767e-05, 4.1313283873023465e-05, 9.000127465697005e-05, 0.016163917258381844, 1.895380046335049e-05, 3.351377745275386e-05, 0.002181082498282194, 5.3411863518704195e-06, 0.01874946430325508, 0.00017897745419759303, 0.0004993692273274064, 0.002435566857457161, 4.2716106690932065e-05, 7.329288200708106e-05, 1.915435859700665e-05, 0.9495130777359009, 0.0, 0.0, 0.0, 0.0, 0.0, 0.0, 0.0, 0.0, 0.0, 0.0, 0.0, 0.0, 0.0, 0.0], [0.00021946335618849844, 0.0011669597588479519, 0.00021983285841997713, 0.000987631268799305, 0.0003133852151222527, 0.00012072665413143113, 5.631548447126988e-06, 2.4260116333607584e-05, 4.544206603895873e-05, 1.852963032433763e-05, 1.4025742530066054e-05, 1.0155007657886017e-05, 0.00040180308860726655, 4.0526505472371355e-05, 0.00017106776067521423, 9.869067071122117e-06, 9.488580872130115e-06, 0.0003931100363843143, 5.709424840460997e-06, 1.7844327885541134e-05, 2.853047044482082e-05, 0.9957762360572815, 0.0, 0.0, 0.0, 0.0, 0.0, 0.0, 0.0, 0.0, 0.0, 0.0, 0.0, 0.0, 0.0], [0.00019361003069207072, 0.0008434184128418565, 0.0005215298151597381, 2.566456350905355e-05, 0.00046233172179199755, 0.00025401596212759614, 1.8471198927727528e-05, 0.00011509795149322599, 0.00027288994169794023, 0.00015436687681358308, 1.21491457321099e-05, 0.0006913748802617192, 5.695979416486807e-05, 0.00024024784215725958, 3.827496766461991e-05, 9.934457921190187e-05, 0.0006488919025287032, 8.011747559066862e-05, 0.00019218817760702223, 2.5529448976158164e-05, 0.00032434804597869515, 0.0010871081613004208, 0.9936420321464539, 0.0, 0.0, 0.0, 0.0, 0.0, 0.0, 0.0, 0.0, 0.0, 0.0, 0.0, 0.0], [0.0016077643958851695, 0.17697355151176453, 0.015483594499528408, 0.00037138801417313516, 0.000378634431399405, 0.0001645273732719943, 0.0003277385840192437, 0.00016989708819892257, 0.002122965408489108, 3.573102367226966e-05, 6.0901442338945344e-05, 0.0004562170652206987, 1.544782026030589e-05, 0.0022543175145983696, 0.0015666894614696503, 0.00011843773245345801, 0.0004699893470387906, 5.037320079281926e-05, 0.00012108069495297968, 6.008971104165539e-05, 0.0008920582477003336, 0.0007518463535234332, 0.0002689968969207257, 0.7952778339385986, 0.0, 0.0, 0.0, 0.0, 0.0, 0.0, 0.0, 0.0, 0.0, 0.0, 0.0], [0.0003919861919712275, 0.0002142115990864113, 0.0005306113162077963, 1.0745775398390833e-05, 0.00011862367682624608, 4.2257750465068966e-05, 0.00021160373580642045, 4.692550646723248e-05, 0.00044815739965997636, 0.00010691276838770136, 3.9354610635200515e-05, 0.0001683084265096113, 0.00017352349823340774, 0.0004524498654063791, 0.00014294098946265876, 0.00011699326569214463, 0.00017526779265608639, 0.00010119951912201941, 4.25139041908551e-05, 2.0371722712297924e-05, 3.837128315353766e-05, 0.00011344601080054417, 0.00025279269902966917, 6.99101947247982e-05, 0.9959704875946045, 0.0, 0.0, 0.0, 0.0, 0.0, 0.0, 0.0, 0.0, 0.0, 0.0], [0.00021530715457629412, 0.00010005849617300555, 0.002380919177085161, 0.001983142225071788, 0.0011120135895907879, 5.563466766034253e-05, 0.0006109271198511124, 0.0002456435759086162, 8.81901360116899e-05, 0.0011510414769873023, 0.00010669908078853041, 0.00017554884834680706, 5.736283492296934e-05, 7.814801210770383e-05, 0.0002457347291056067, 9.594678886060137e-06, 0.00017032408504746854, 2.897270314861089e-05, 1.4011726307217032e-05, 0.00016692095960024744, 1.2888881428807508e-05, 0.00024495579418726265, 0.0005147017654962838, 4.942114173900336e-05, 0.0005746558890677989, 0.9896071553230286, 0.0, 0.0, 0.0, 0.0, 0.0, 0.0, 0.0, 0.0, 0.0], [0.00011423427349654958, 0.0008627420174889266, 0.000773223873693496, 0.0007090762373991311, 0.0007292143418453634, 0.0014031633036211133, 0.00021403632126748562, 0.00017666495114099234, 6.622049113502726e-05, 3.2159430702449754e-05, 0.0004533063911367208, 0.0001200851402245462, 2.2129026547190733e-05, 5.8075143897440284e-05, 0.00012917457206640393, 1.9079687263001688e-05, 0.00011076675582444295, 8.56419592309976e-06, 2.3630589566892013e-05, 0.000337998237228021, 5.211896859691478e-05, 0.00014455695054493845, 0.00019694966613315046, 0.0004510532016865909, 2.0576262613758445e-05, 8.76431877259165e-05, 0.992683470249176, 0.0, 0.0, 0.0, 0.0, 0.0, 0.0, 0.0, 0.0], [0.0001979837688850239, 0.00019567960407584906, 0.0002261226618429646, 0.0004194370994810015, 0.0005979703273624182, 0.00045174508704803884, 0.0003478292201180011, 0.00025858148001134396, 2.8019932869938202e-05, 0.0007220015395432711, 0.00013010468683205545, 0.0011632074601948261, 6.916921847732738e-05, 2.478917667758651e-05, 0.00010386035137344152, 0.00038125007995404303, 0.0011587819317355752, 0.0003314449859317392, 0.00024494589888490736, 0.0001275519753107801, 0.0001609846658539027, 1.926793993334286e-05, 0.0002717423776630312, 2.0765592125826515e-05, 6.825080345151946e-05, 0.0008764266967773438, 0.0006782175623811781, 0.9907240271568298, 0.0, 0.0, 0.0, 0.0, 0.0, 0.0, 0.0], [3.157188984914683e-05, 0.0006791118066757917, 0.0007090721046552062, 0.00024164879869204015, 0.00041205473826266825, 0.000923742598388344, 0.00020848600252065808, 6.639298953814432e-05, 0.00011664839985314757, 8.601942681707442e-05, 0.010591322556138039, 0.0003372913633938879, 2.1898489649174735e-05, 0.00010110744187841192, 0.00010436111915623769, 5.858746590092778e-05, 0.00032512188772670925, 1.5854146113269962e-05, 5.033617071603658e-06, 0.00040949039976112545, 1.3119529285177123e-05, 5.313358997227624e-05, 1.1887270375154912e-05, 5.536681055673398e-05, 1.2197706382721663e-05, 8.952661301009357e-05, 0.002243553753942251, 0.00021041954460088164, 0.9818660616874695, 0.0, 0.0, 0.0, 0.0, 0.0, 0.0], [0.0007582920952700078, 0.0012331446632742882, 8.604941103840247e-05, 6.291332101682201e-05, 2.8791733711841516e-05, 3.316687434562482e-05, 7.622712291777134e-05, 0.00010868187382584438, 0.006450854241847992, 0.00014789066335652024, 1.0376486898167059e-05, 0.0023889716248959303, 7.88359175203368e-05, 0.007510697469115257, 0.00028743132133968174, 0.000136757327709347, 0.00276029366068542, 0.0007447162643074989, 8.811101724859327e-05, 2.470205072313547e-05, 0.006188863888382912, 0.00011647049541352317, 0.0001724402973195538, 0.0002621748426463455, 0.0001841976190917194, 4.4321401219349355e-05, 4.855170482187532e-05, 8.903044363250956e-05, 2.6887826606980525e-05, 0.9698501229286194, 0.0, 0.0, 0.0, 0.0, 0.0], [0.0002462745178490877, 0.00035919941728934646, 0.00020521896658465266, 9.387754107592627e-05, 8.577330299885944e-05, 5.495216100825928e-05, 4.531839658739045e-05, 1.0722168553911615e-05, 4.867117968387902e-05, 0.00011017618089681491, 0.00010064101661555469, 9.772254998097196e-05, 0.0005496820085681975, 4.362943582236767e-05, 3.945788193959743e-05, 7.140226080082357e-05, 9.814357326831669e-05, 5.700975816580467e-05, 2.4251130525954068e-05, 2.31456533583696e-06, 5.05694406456314e-05, 0.0001131849130615592, 0.0002906991576310247, 6.889968790346757e-05, 0.0006683265673927963, 0.0002321746142115444, 8.348721166839823e-06, 1.7434649635106325e-05, 1.027312009682646e-05, 0.00013885690714232624, 0.9960569143295288, 0.0, 0.0, 0.0, 0.0], [0.00011105907469755039, 3.599156843847595e-05, 4.416053707245737e-05, 0.00022596387134399265, 0.00024025827588047832, 1.7348935216432437e-05, 7.204298890428618e-05, 0.00023738990421406925, 8.274748688563704e-05, 0.00010178543016081676, 7.876383278926369e-06, 6.391834904206917e-05, 3.295211718068458e-05, 7.889189873822033e-05, 0.00011627453932305798, 7.139142326195724e-06, 6.571754056494683e-05, 5.396364940679632e-06, 8.334023732459173e-06, 1.961386442417279e-05, 4.110628287889995e-05, 8.537995745427907e-05, 3.1616174965165555e-05, 9.916993803926744e-06, 2.3832411898183636e-05, 0.0018293511820957065, 2.611123454698827e-05, 3.313507841085084e-05, 1.4612711311201565e-05, 0.0008547271136194468, 0.00016745144966989756, 0.995307981967926, 0.0, 0.0, 0.0], [0.0022552262526005507, 0.00046477530850097537, 0.0001228374312631786, 0.006661212537437677, 8.828952559269965e-05, 0.0002494279178790748, 0.00017555170052219182, 2.6563478968455456e-05, 0.004149141255766153, 0.0002083310973830521, 1.5973366316757165e-05, 0.0007248217007145286, 1.2318085282458924e-05, 0.004929245915263891, 0.0007067767437547445, 2.746022437349893e-05, 0.0008252441766671836, 5.14874336658977e-05, 9.107254300033674e-06, 0.0011701991315931082, 0.001132050878368318, 0.0003872279776260257, 0.00010000297334045172, 0.0005395386251620948, 0.0001279767748201266, 7.418716995744035e-05, 0.0006351858610287309, 5.991850048303604e-05, 0.00020302340271882713, 0.0226412545889616, 7.11138709448278e-05, 0.0034798544365912676, 0.9476746916770935, 0.0, 0.0], [0.00010488810949027538, 0.0005403983523137867, 0.0002700608456507325, 2.781992225209251e-05, 0.0008878532680682838, 0.0002531727368477732, 0.0002921407576650381, 0.0009951466927304864, 3.9432081393897533e-05, 6.531633698614314e-05, 5.1983330195071176e-05, 0.0006716341013088822, 1.9524166418705136e-05, 3.796433884417638e-05, 0.00031547032995149493, 0.00015760336827952415, 0.0006809111800976098, 0.00017366735846735537, 0.00023275859712157398, 0.0004935205215588212, 0.00015254231402650476, 8.96886849659495e-05, 0.0014225798659026623, 0.00022503049694932997, 0.00015392254863400012, 0.00010696917888708413, 0.005650238133966923, 0.0008653232362121344, 0.0002874952624551952, 0.0001386848889524117, 1.4354172890307382e-05, 2.8161975933471695e-05, 0.00011612014350248501, 0.9844375848770142, 0.0], [0.001883040415123105, 0.00023013970348984003, 7.190542964963242e-05, 3.7982904359523673e-06, 0.002256362233310938, 4.36797781731002e-05, 0.00012782968406099826, 0.0006368025788106024, 0.0005363998934626579, 5.325703114067437e-06, 7.917853508843109e-05, 2.601603409857489e-05, 1.1253265256527811e-05, 0.000561125110834837, 9.103799129661638e-06, 0.00021052247029729187, 2.689111715881154e-05, 3.242444290663116e-05, 0.00025939344777725637, 0.00045266730012372136, 0.00115210039075464, 1.149353920482099e-05, 4.818243542104028e-05, 0.00010571510210866109, 8.452804468106478e-05, 0.00010020881745731458, 2.848373151209671e-05, 2.0415467588463798e-05, 1.8022971062237048e-06, 7.628961611771956e-05, 4.604335117619485e-05, 9.973582200473174e-05, 5.2584082368412055e-06, 0.00019488518591970205, 0.9905609488487244]], [[1.0, 0.0, 0.0, 0.0, 0.0, 0.0, 0.0, 0.0, 0.0, 0.0, 0.0, 0.0, 0.0, 0.0, 0.0, 0.0, 0.0, 0.0, 0.0, 0.0, 0.0, 0.0, 0.0, 0.0, 0.0, 0.0, 0.0, 0.0, 0.0, 0.0, 0.0, 0.0, 0.0, 0.0, 0.0], [0.942474365234375, 0.057525597512722015, 0.0, 0.0, 0.0, 0.0, 0.0, 0.0, 0.0, 0.0, 0.0, 0.0, 0.0, 0.0, 0.0, 0.0, 0.0, 0.0, 0.0, 0.0, 0.0, 0.0, 0.0, 0.0, 0.0, 0.0, 0.0, 0.0, 0.0, 0.0, 0.0, 0.0, 0.0, 0.0, 0.0], [0.8506749868392944, 0.09740976989269257, 0.05191529169678688, 0.0, 0.0, 0.0, 0.0, 0.0, 0.0, 0.0, 0.0, 0.0, 0.0, 0.0, 0.0, 0.0, 0.0, 0.0, 0.0, 0.0, 0.0, 0.0, 0.0, 0.0, 0.0, 0.0, 0.0, 0.0, 0.0, 0.0, 0.0, 0.0, 0.0, 0.0, 0.0], [0.7641512751579285, 0.10970383882522583, 0.07497040927410126, 0.05117453634738922, 0.0, 0.0, 0.0, 0.0, 0.0, 0.0, 0.0, 0.0, 0.0, 0.0, 0.0, 0.0, 0.0, 0.0, 0.0, 0.0, 0.0, 0.0, 0.0, 0.0, 0.0, 0.0, 0.0, 0.0, 0.0, 0.0, 0.0, 0.0, 0.0, 0.0, 0.0], [0.6748191118240356, 0.08416198939085007, 0.05470249056816101, 0.07581547647714615, 0.11050091683864594, 0.0, 0.0, 0.0, 0.0, 0.0, 0.0, 0.0, 0.0, 0.0, 0.0, 0.0, 0.0, 0.0, 0.0, 0.0, 0.0, 0.0, 0.0, 0.0, 0.0, 0.0, 0.0, 0.0, 0.0, 0.0, 0.0, 0.0, 0.0, 0.0, 0.0], [0.6857606172561646, 0.08229535073041916, 0.05202116817235947, 0.08139175176620483, 0.04085884615778923, 0.05767223238945007, 0.0, 0.0, 0.0, 0.0, 0.0, 0.0, 0.0, 0.0, 0.0, 0.0, 0.0, 0.0, 0.0, 0.0, 0.0, 0.0, 0.0, 0.0, 0.0, 0.0, 0.0, 0.0, 0.0, 0.0, 0.0, 0.0, 0.0, 0.0, 0.0], [0.6174605488777161, 0.056534551084041595, 0.0911170095205307, 0.06854881346225739, 0.06338421255350113, 0.03596975654363632, 0.06698516756296158, 0.0, 0.0, 0.0, 0.0, 0.0, 0.0, 0.0, 0.0, 0.0, 0.0, 0.0, 0.0, 0.0, 0.0, 0.0, 0.0, 0.0, 0.0, 0.0, 0.0, 0.0, 0.0, 0.0, 0.0, 0.0, 0.0, 0.0, 0.0], [0.604728102684021, 0.06088967248797417, 0.05921146273612976, 0.0955815538764, 0.04265914112329483, 0.031843431293964386, 0.0426306277513504, 0.06245601549744606, 0.0, 0.0, 0.0, 0.0, 0.0, 0.0, 0.0, 0.0, 0.0, 0.0, 0.0, 0.0, 0.0, 0.0, 0.0, 0.0, 0.0, 0.0, 0.0, 0.0, 0.0, 0.0, 0.0, 0.0, 0.0, 0.0, 0.0], [0.4008437991142273, 0.07533581554889679, 0.042708415538072586, 0.011760731227695942, 0.026680560782551765, 0.013492072932422161, 0.02846546284854412, 0.01390059757977724, 0.38681259751319885, 0.0, 0.0, 0.0, 0.0, 0.0, 0.0, 0.0, 0.0, 0.0, 0.0, 0.0, 0.0, 0.0, 0.0, 0.0, 0.0, 0.0, 0.0, 0.0, 0.0, 0.0, 0.0, 0.0, 0.0, 0.0, 0.0], [0.49680259823799133, 0.06792879104614258, 0.05792003497481346, 0.07101526856422424, 0.06963260471820831, 0.018800102174282074, 0.06757564842700958, 0.06346480548381805, 0.06656695157289505, 0.02029319852590561, 0.0, 0.0, 0.0, 0.0, 0.0, 0.0, 0.0, 0.0, 0.0, 0.0, 0.0, 0.0, 0.0, 0.0, 0.0, 0.0, 0.0, 0.0, 0.0, 0.0, 0.0, 0.0, 0.0, 0.0, 0.0], [0.5176077485084534, 0.08289015293121338, 0.05239766091108322, 0.06842362880706787, 0.046088289469480515, 0.026865942403674126, 0.08181490749120712, 0.03230837732553482, 0.05516279861330986, 0.018549632281064987, 0.01789088360965252, 0.0, 0.0, 0.0, 0.0, 0.0, 0.0, 0.0, 0.0, 0.0, 0.0, 0.0, 0.0, 0.0, 0.0, 0.0, 0.0, 0.0, 0.0, 0.0, 0.0, 0.0, 0.0, 0.0, 0.0], [0.3038182258605957, 0.03185645490884781, 0.02915767766535282, 0.011053645983338356, 0.013536768034100533, 0.016536913812160492, 0.015181961469352245, 0.015511741861701012, 0.026294982060790062, 0.016890998929739, 0.011886652559041977, 0.5082739591598511, 0.0, 0.0, 0.0, 0.0, 0.0, 0.0, 0.0, 0.0, 0.0, 0.0, 0.0, 0.0, 0.0, 0.0, 0.0, 0.0, 0.0, 0.0, 0.0, 0.0, 0.0, 0.0, 0.0], [0.3585989773273468, 0.07880909740924835, 0.05902863293886185, 0.044458650052547455, 0.07822322845458984, 0.019679531455039978, 0.05133119225502014, 0.040098413825035095, 0.08024678379297256, 0.02781190350651741, 0.010250609368085861, 0.1361035406589508, 0.015359459444880486, 0.0, 0.0, 0.0, 0.0, 0.0, 0.0, 0.0, 0.0, 0.0, 0.0, 0.0, 0.0, 0.0, 0.0, 0.0, 0.0, 0.0, 0.0, 0.0, 0.0, 0.0, 0.0], [0.2511677145957947, 0.04623398557305336, 0.027838554233312607, 0.007056489586830139, 0.017244163900613785, 0.008997933939099312, 0.01730993762612343, 0.0099241454154253, 0.2527511417865753, 0.012778292410075665, 0.008546068333089352, 0.04791994392871857, 0.006098272278904915, 0.2861333191394806, 0.0, 0.0, 0.0, 0.0, 0.0, 0.0, 0.0, 0.0, 0.0, 0.0, 0.0, 0.0, 0.0, 0.0, 0.0, 0.0, 0.0, 0.0, 0.0, 0.0, 0.0], [0.39800772070884705, 0.06433822959661484, 0.04979855194687843, 0.05949561670422554, 0.031821127980947495, 0.0307147316634655, 0.058995503932237625, 0.05480392277240753, 0.03919370472431183, 0.03556448221206665, 0.02491646632552147, 0.045719295740127563, 0.016671666875481606, 0.0389430969953537, 0.05101584643125534, 0.0, 0.0, 0.0, 0.0, 0.0, 0.0, 0.0, 0.0, 0.0, 0.0, 0.0, 0.0, 0.0, 0.0, 0.0, 0.0, 0.0, 0.0, 0.0, 0.0], [0.3903382420539856, 0.0754939392209053, 0.03844675049185753, 0.04366777837276459, 0.017820751294493675, 0.012712196446955204, 0.045307260006666183, 0.03603022173047066, 0.0421706847846508, 0.01675303652882576, 0.04224865883588791, 0.0509234219789505, 0.030772089958190918, 0.04072082042694092, 0.05648885294795036, 0.060105275362730026, 0.0, 0.0, 0.0, 0.0, 0.0, 0.0, 0.0, 0.0, 0.0, 0.0, 0.0, 0.0, 0.0, 0.0, 0.0, 0.0, 0.0, 0.0, 0.0], [0.1818235069513321, 0.01822478696703911, 0.01747790165245533, 0.006372254807502031, 0.007922588847577572, 0.010062888264656067, 0.008703160099685192, 0.010297480970621109, 0.015354443341493607, 0.0115381870418787, 0.0070910402573645115, 0.3139553666114807, 0.006019817665219307, 0.015887582674622536, 0.01542200893163681, 0.01318858377635479, 0.34065842628479004, 0.0, 0.0, 0.0, 0.0, 0.0, 0.0, 0.0, 0.0, 0.0, 0.0, 0.0, 0.0, 0.0, 0.0, 0.0, 0.0, 0.0, 0.0], [0.2388143390417099, 0.07684366405010223, 0.048435572534799576, 0.02831975556910038, 0.04297623410820961, 0.01943076401948929, 0.03321719542145729, 0.027472946792840958, 0.018975935876369476, 0.04046749323606491, 0.02009560540318489, 0.0585731640458107, 0.03530573844909668, 0.01969190314412117, 0.0970376506447792, 0.03909805789589882, 0.061994507908821106, 0.09324950724840164, 0.0, 0.0, 0.0, 0.0, 0.0, 0.0, 0.0, 0.0, 0.0, 0.0, 0.0, 0.0, 0.0, 0.0, 0.0, 0.0, 0.0], [0.35636118054389954, 0.043545376509428024, 0.0543937124311924, 0.03599720820784569, 0.055608704686164856, 0.03285680338740349, 0.019443850964307785, 0.06911689788103104, 0.02064944989979267, 0.03360533341765404, 0.027618737891316414, 0.03408000245690346, 0.02684745565056801, 0.020337311550974846, 0.022298937663435936, 0.036227382719516754, 0.034644756466150284, 0.02265501394867897, 0.05371188744902611, 0.0, 0.0, 0.0, 0.0, 0.0, 0.0, 0.0, 0.0, 0.0, 0.0, 0.0, 0.0, 0.0, 0.0, 0.0, 0.0], [0.3967011570930481, 0.051782384514808655, 0.03996191918849945, 0.06630746275186539, 0.045571863651275635, 0.02398340404033661, 0.019396746531128883, 0.02136596292257309, 0.020253779366612434, 0.03685583919286728, 0.009492040611803532, 0.04180999845266342, 0.01449868269264698, 0.01978372037410736, 0.029715221375226974, 0.04631546139717102, 0.0424664206802845, 0.03147520124912262, 0.02202763222157955, 0.020235052332282066, 0.0, 0.0, 0.0, 0.0, 0.0, 0.0, 0.0, 0.0, 0.0, 0.0, 0.0, 0.0, 0.0, 0.0, 0.0], [0.23151397705078125, 0.13258197903633118, 0.06026103347539902, 0.011383590288460255, 0.02426270954310894, 0.014553469605743885, 0.016979560256004333, 0.013957412913441658, 0.022475898265838623, 0.02772129513323307, 0.020607072860002518, 0.04084683209657669, 0.02772321179509163, 0.02455071359872818, 0.038579173386096954, 0.047700997442007065, 0.04407108947634697, 0.07720751315355301, 0.046044737100601196, 0.047733452171087265, 0.029244277626276016, 0.0, 0.0, 0.0, 0.0, 0.0, 0.0, 0.0, 0.0, 0.0, 0.0, 0.0, 0.0, 0.0, 0.0], [0.20264171063899994, 0.048930857330560684, 0.03894680738449097, 0.026632260531187057, 0.040943462401628494, 0.016175048425793648, 0.043880119919776917, 0.04927309602499008, 0.0374428853392601, 0.018747961148619652, 0.010438328608870506, 0.030274199321866035, 0.011668824590742588, 0.03915899991989136, 0.08361911028623581, 0.026806514710187912, 0.03237597271800041, 0.026771068572998047, 0.04136868938803673, 0.04380553215742111, 0.09921547770500183, 0.030883019790053368, 0.0, 0.0, 0.0, 0.0, 0.0, 0.0, 0.0, 0.0, 0.0, 0.0, 0.0, 0.0, 0.0], [0.22999975085258484, 0.029275361448526382, 0.024823686107993126, 0.030747538432478905, 0.024439774453639984, 0.025078171864151955, 0.019048288464546204, 0.041617508977651596, 0.02524641901254654, 0.05536344274878502, 0.013840344734489918, 0.03206312283873558, 0.023373732343316078, 0.026896368712186813, 0.03765584155917168, 0.02870967984199524, 0.03498142585158348, 0.0382692776620388, 0.053048789501190186, 0.07750782370567322, 0.04235750436782837, 0.0629705935716629, 0.022685648873448372, 0.0, 0.0, 0.0, 0.0, 0.0, 0.0, 0.0, 0.0, 0.0, 0.0, 0.0, 0.0], [0.25230076909065247, 0.04309261217713356, 0.04779430106282234, 0.021534811705350876, 0.05364761874079704, 0.014357609674334526, 0.016968199983239174, 0.012399844825267792, 0.028107941150665283, 0.022964557632803917, 0.013637282885611057, 0.034624312072992325, 0.013057560659945011, 0.029753552749753, 0.025925684720277786, 0.03689541295170784, 0.03646586090326309, 0.02009117230772972, 0.034248434007167816, 0.0322706513106823, 0.07516518980264664, 0.033813998103141785, 0.057944510132074356, 0.04293811321258545, 0.0, 0.0, 0.0, 0.0, 0.0, 0.0, 0.0, 0.0, 0.0, 0.0, 0.0], [0.24815592169761658, 0.041838400065898895, 0.03725352883338928, 0.01991417445242405, 0.060311779379844666, 0.013761513866484165, 0.010237006470561028, 0.027118373662233353, 0.02124747447669506, 0.01499642338603735, 0.015956398099660873, 0.019741930067539215, 0.016942838206887245, 0.02278241142630577, 0.021159416064620018, 0.013419797644019127, 0.02113156206905842, 0.01588009111583233, 0.03851577267050743, 0.03509929031133652, 0.06386470049619675, 0.04215892031788826, 0.0559517927467823, 0.06510592252016068, 0.05745464935898781, 0.0, 0.0, 0.0, 0.0, 0.0, 0.0, 0.0, 0.0, 0.0, 0.0], [0.24590620398521423, 0.039794616401195526, 0.034050021320581436, 0.03872010111808777, 0.02834436297416687, 0.02456827461719513, 0.013687249273061752, 0.019880935549736023, 0.017507940530776978, 0.04131213575601578, 0.024649053812026978, 0.0170280821621418, 0.015493785962462425, 0.01803990639746189, 0.02871253527700901, 0.008945342153310776, 0.01785881444811821, 0.029846547171473503, 0.026982221752405167, 0.061192553490400314, 0.039721447974443436, 0.040086906403303146, 0.04656379669904709, 0.046592097729444504, 0.046358149498701096, 0.028156956657767296, 0.0, 0.0, 0.0, 0.0, 0.0, 0.0, 0.0, 0.0, 0.0], [0.24299505352973938, 0.03093666397035122, 0.03728111460804939, 0.02997978776693344, 0.03951823711395264, 0.02068972773849964, 0.024463780224323273, 0.01616225577890873, 0.02351461350917816, 0.015184121206402779, 0.009779495187103748, 0.010400430299341679, 0.008830742910504341, 0.023988915607333183, 0.024419231340289116, 0.03784201294183731, 0.010589986108243465, 0.01336754858493805, 0.016263321042060852, 0.09984055906534195, 0.02563280425965786, 0.027902811765670776, 0.054687805473804474, 0.03170407563447952, 0.02747957594692707, 0.01651724986732006, 0.08002805709838867, 0.0, 0.0, 0.0, 0.0, 0.0, 0.0, 0.0, 0.0], [0.24383299052715302, 0.02178153581917286, 0.019058486446738243, 0.02660839818418026, 0.03740562126040459, 0.02708663046360016, 0.005031605251133442, 0.02665605954825878, 0.017429368570446968, 0.028662465512752533, 0.01215100847184658, 0.030223222449421883, 0.014068301767110825, 0.018160909414291382, 0.015435302630066872, 0.015721837058663368, 0.032153092324733734, 0.024972978979349136, 0.04793378710746765, 0.045990005135536194, 0.031192155554890633, 0.038415271788835526, 0.037881236523389816, 0.034722257405519485, 0.03550752252340317, 0.03336038067936897, 0.05460800603032112, 0.023949550464749336, 0.0, 0.0, 0.0, 0.0, 0.0, 0.0, 0.0], [0.3087879717350006, 0.04082435742020607, 0.010766160674393177, 0.02708975225687027, 0.019433297216892242, 0.03355547785758972, 0.010839528404176235, 0.011495563201606274, 0.011286417953670025, 0.019319284707307816, 0.03442363068461418, 0.01059586089104414, 0.019463732838630676, 0.011577969416975975, 0.014172393828630447, 0.02159341424703598, 0.01056915707886219, 0.01821252331137657, 0.007991206832230091, 0.05231863260269165, 0.019707784056663513, 0.03532518818974495, 0.029598262161016464, 0.028512975201010704, 0.02101977914571762, 0.018976137042045593, 0.031007932499051094, 0.01773696206510067, 0.10379862785339355, 0.0, 0.0, 0.0, 0.0, 0.0, 0.0], [0.11270296573638916, 0.013211611658334732, 0.015115484595298767, 0.008062331937253475, 0.01807504892349243, 0.02026732638478279, 0.009121797047555447, 0.0216544009745121, 0.024600310251116753, 0.012220279313623905, 0.005230673588812351, 0.021195197477936745, 0.007505758665502071, 0.027240080758929253, 0.016828980296850204, 0.009307201951742172, 0.023774147033691406, 0.009840184822678566, 0.023520393297076225, 0.01809619553387165, 0.11592715978622437, 0.008296082727611065, 0.015038426034152508, 0.01626185141503811, 0.022837141528725624, 0.007970294915139675, 0.010346006602048874, 0.013601292856037617, 0.00992316659539938, 0.3622281849384308, 0.0, 0.0, 0.0, 0.0, 0.0], [0.19907142221927643, 0.0233529694378376, 0.027535509318113327, 0.020741205662488937, 0.049442414194345474, 0.0396454855799675, 0.011580480262637138, 0.038496047258377075, 0.012212726287543774, 0.01263486873358488, 0.018897846341133118, 0.011502716690301895, 0.01441795565187931, 0.01285514049232006, 0.01591629534959793, 0.00928435381501913, 0.011929099448025227, 0.014574804343283176, 0.02956235595047474, 0.03092147223651409, 0.0493488609790802, 0.02683301270008087, 0.03316977620124817, 0.02651390992105007, 0.03841780871152878, 0.03666592389345169, 0.03740685433149338, 0.0374491810798645, 0.041813693940639496, 0.04080498591065407, 0.027000792324543, 0.0, 0.0, 0.0, 0.0], [0.1358085572719574, 0.02159820683300495, 0.028431443497538567, 0.021366789937019348, 0.03184177726507187, 0.028310764580965042, 0.01123244222253561, 0.016139334067702293, 0.023436736315488815, 0.02514427714049816, 0.012804516591131687, 0.012000497430562973, 0.020912282168865204, 0.02500329725444317, 0.027692237868905067, 0.017305932939052582, 0.012859735637903214, 0.016066301614046097, 0.03279000520706177, 0.038290273398160934, 0.06080477684736252, 0.03674997761845589, 0.0352473221719265, 0.038578011095523834, 0.039048146456480026, 0.03664339333772659, 0.014530430547893047, 0.02163226716220379, 0.010491001419723034, 0.06733927130699158, 0.038672856986522675, 0.04122711345553398, 0.0, 0.0, 0.0], [0.13088135421276093, 0.023744329810142517, 0.020114336162805557, 0.00970239657908678, 0.02695222944021225, 0.0135911013931036, 0.009517530910670757, 0.01327170617878437, 0.027617914602160454, 0.011498374864459038, 0.008886144496500492, 0.016865810379385948, 0.009971984662115574, 0.03131861984729767, 0.014953812584280968, 0.01563660055398941, 0.018755869939923286, 0.008822468109428883, 0.024258319288492203, 0.018599873408675194, 0.06659717857837677, 0.023935332894325256, 0.030215024948120117, 0.03847970813512802, 0.0605478473007679, 0.03886096924543381, 0.021039558574557304, 0.026919959113001823, 0.030786724761128426, 0.06339393556118011, 0.05302291736006737, 0.07499752193689346, 0.016242537647485733, 0.0, 0.0], [0.2167952060699463, 0.035239387303590775, 0.014480582438409328, 0.03231681510806084, 0.02150270715355873, 0.019766852259635925, 0.0077169653959572315, 0.03142577409744263, 0.011421251110732555, 0.03985080122947693, 0.005697548855096102, 0.013826761394739151, 0.011217726394534111, 0.011028866283595562, 0.014342347159981728, 0.01669159159064293, 0.013800653629004955, 0.009054167196154594, 0.01655157469213009, 0.045164503157138824, 0.01674339547753334, 0.04049496725201607, 0.04600659757852554, 0.039180245250463486, 0.020771794021129608, 0.04241836443543434, 0.029444053769111633, 0.01654653437435627, 0.0433904267847538, 0.018028810620307922, 0.01749301701784134, 0.031954456120729446, 0.023179979994893074, 0.026455219835042953, 0.0], [0.12406577169895172, 0.055755194276571274, 0.025793103501200676, 0.007745690643787384, 0.019214726984500885, 0.01187240518629551, 0.009303717873990536, 0.015842614695429802, 0.012728427536785603, 0.01288825273513794, 0.013962880708277225, 0.016627248376607895, 0.015507101081311703, 0.013195225037634373, 0.01732509396970272, 0.02114797756075859, 0.017335498705506325, 0.015824299305677414, 0.024794377386569977, 0.011903032660484314, 0.03651025518774986, 0.023874742910265923, 0.04022136330604553, 0.0628603845834732, 0.10149349272251129, 0.05332260951399803, 0.02168961986899376, 0.018244288861751556, 0.008406993933022022, 0.02320230007171631, 0.049604158848524094, 0.020869310945272446, 0.016017967835068703, 0.01110194530338049, 0.04974793270230293]], [[1.0, 0.0, 0.0, 0.0, 0.0, 0.0, 0.0, 0.0, 0.0, 0.0, 0.0, 0.0, 0.0, 0.0, 0.0, 0.0, 0.0, 0.0, 0.0, 0.0, 0.0, 0.0, 0.0, 0.0, 0.0, 0.0, 0.0, 0.0, 0.0, 0.0, 0.0, 0.0, 0.0, 0.0, 0.0], [0.10778003185987473, 0.8922199010848999, 0.0, 0.0, 0.0, 0.0, 0.0, 0.0, 0.0, 0.0, 0.0, 0.0, 0.0, 0.0, 0.0, 0.0, 0.0, 0.0, 0.0, 0.0, 0.0, 0.0, 0.0, 0.0, 0.0, 0.0, 0.0, 0.0, 0.0, 0.0, 0.0, 0.0, 0.0, 0.0, 0.0], [0.011847440153360367, 0.5536141991615295, 0.434538334608078, 0.0, 0.0, 0.0, 0.0, 0.0, 0.0, 0.0, 0.0, 0.0, 0.0, 0.0, 0.0, 0.0, 0.0, 0.0, 0.0, 0.0, 0.0, 0.0, 0.0, 0.0, 0.0, 0.0, 0.0, 0.0, 0.0, 0.0, 0.0, 0.0, 0.0, 0.0, 0.0], [0.06322262436151505, 0.02171914465725422, 0.09427285194396973, 0.8207854628562927, 0.0, 0.0, 0.0, 0.0, 0.0, 0.0, 0.0, 0.0, 0.0, 0.0, 0.0, 0.0, 0.0, 0.0, 0.0, 0.0, 0.0, 0.0, 0.0, 0.0, 0.0, 0.0, 0.0, 0.0, 0.0, 0.0, 0.0, 0.0, 0.0, 0.0, 0.0], [0.005095744971185923, 0.000534875551238656, 0.0010105498367920518, 0.004657570738345385, 0.9887012243270874, 0.0, 0.0, 0.0, 0.0, 0.0, 0.0, 0.0, 0.0, 0.0, 0.0, 0.0, 0.0, 0.0, 0.0, 0.0, 0.0, 0.0, 0.0, 0.0, 0.0, 0.0, 0.0, 0.0, 0.0, 0.0, 0.0, 0.0, 0.0, 0.0, 0.0], [0.00558595871552825, 0.000302401022054255, 0.0007955087930895388, 0.0006780334515497088, 0.028760118409991264, 0.9638779759407043, 0.0, 0.0, 0.0, 0.0, 0.0, 0.0, 0.0, 0.0, 0.0, 0.0, 0.0, 0.0, 0.0, 0.0, 0.0, 0.0, 0.0, 0.0, 0.0, 0.0, 0.0, 0.0, 0.0, 0.0, 0.0, 0.0, 0.0, 0.0, 0.0], [0.0002665734791662544, 0.0001539620861876756, 4.344211993156932e-05, 0.00031633899197913706, 0.007582381833344698, 0.008635704405605793, 0.9830015897750854, 0.0, 0.0, 0.0, 0.0, 0.0, 0.0, 0.0, 0.0, 0.0, 0.0, 0.0, 0.0, 0.0, 0.0, 0.0, 0.0, 0.0, 0.0, 0.0, 0.0, 0.0, 0.0, 0.0, 0.0, 0.0, 0.0, 0.0, 0.0], [0.0006940615130588412, 4.833178536500782e-05, 4.511346196522936e-05, 2.3520820832345635e-05, 0.002237764187157154, 0.0012080521555617452, 0.009321355260908604, 0.9864218235015869, 0.0, 0.0, 0.0, 0.0, 0.0, 0.0, 0.0, 0.0, 0.0, 0.0, 0.0, 0.0, 0.0, 0.0, 0.0, 0.0, 0.0, 0.0, 0.0, 0.0, 0.0, 0.0, 0.0, 0.0, 0.0, 0.0, 0.0], [0.04771989956498146, 0.006346916779875755, 0.005507625173777342, 0.012776730582118034, 0.012552594766020775, 0.012200534343719482, 0.007760598324239254, 0.017114857211709023, 0.878020167350769, 0.0, 0.0, 0.0, 0.0, 0.0, 0.0, 0.0, 0.0, 0.0, 0.0, 0.0, 0.0, 0.0, 0.0, 0.0, 0.0, 0.0, 0.0, 0.0, 0.0, 0.0, 0.0, 0.0, 0.0, 0.0, 0.0], [9.403799049323425e-05, 7.299134949789732e-07, 1.2948560197401093e-06, 1.004057139653014e-06, 1.5192441424005665e-05, 3.6095214454689994e-05, 3.1514402508037165e-05, 0.0010808263905346394, 4.2368457798147574e-05, 0.9986969828605652, 0.0, 0.0, 0.0, 0.0, 0.0, 0.0, 0.0, 0.0, 0.0, 0.0, 0.0, 0.0, 0.0, 0.0, 0.0, 0.0, 0.0, 0.0, 0.0, 0.0, 0.0, 0.0, 0.0, 0.0, 0.0], [0.0002984421735163778, 1.0225177902611904e-05, 2.077383760479279e-05, 1.0716732504079118e-05, 7.4538285844028e-05, 0.00016580545343458652, 0.0013668584870174527, 0.0025834841653704643, 5.024065467296168e-05, 0.32439541816711426, 0.6710234880447388, 0.0, 0.0, 0.0, 0.0, 0.0, 0.0, 0.0, 0.0, 0.0, 0.0, 0.0, 0.0, 0.0, 0.0, 0.0, 0.0, 0.0, 0.0, 0.0, 0.0, 0.0, 0.0, 0.0, 0.0], [0.009233687072992325, 0.0007820434984751046, 0.0006810438935644925, 0.0018207888351753354, 0.004383385181427002, 0.017509136348962784, 0.0033242511563003063, 0.017607446759939194, 0.08099658787250519, 0.10943038016557693, 0.014291895553469658, 0.7399393916130066, 0.0, 0.0, 0.0, 0.0, 0.0, 0.0, 0.0, 0.0, 0.0, 0.0, 0.0, 0.0, 0.0, 0.0, 0.0, 0.0, 0.0, 0.0, 0.0, 0.0, 0.0, 0.0, 0.0], [0.0002393030736129731, 3.3237947718589567e-06, 2.2832835384178907e-05, 1.0244747500109952e-05, 1.0253632353851572e-05, 4.4964101107325405e-05, 2.3576663807034492e-05, 6.216631300048903e-05, 0.0003292960172984749, 0.008749553933739662, 0.001878876704722643, 0.0014183479361236095, 0.9872072339057922, 0.0, 0.0, 0.0, 0.0, 0.0, 0.0, 0.0, 0.0, 0.0, 0.0, 0.0, 0.0, 0.0, 0.0, 0.0, 0.0, 0.0, 0.0, 0.0, 0.0, 0.0, 0.0], [0.01229534950107336, 0.0005298616597428918, 0.00035605067387223244, 0.0006006719777360559, 0.0005327538237906992, 0.0005349716520868242, 0.00034733538632281125, 0.0008671170799061656, 0.0343230701982975, 0.013273635879158974, 0.007531201001256704, 0.059417933225631714, 0.09377512335777283, 0.7756149172782898, 0.0, 0.0, 0.0, 0.0, 0.0, 0.0, 0.0, 0.0, 0.0, 0.0, 0.0, 0.0, 0.0, 0.0, 0.0, 0.0, 0.0, 0.0, 0.0, 0.0, 0.0], [7.850887777749449e-05, 1.1863369763887022e-05, 5.970541224087356e-06, 4.359472768555861e-06, 6.933053555258084e-06, 5.567330663325265e-05, 8.762044672039337e-06, 2.2130047000246122e-05, 0.00022238315432332456, 0.0002802505623549223, 0.0008127280743792653, 0.0015677311457693577, 0.00018956427811644971, 0.0058794207870960236, 0.9908536672592163, 0.0, 0.0, 0.0, 0.0, 0.0, 0.0, 0.0, 0.0, 0.0, 0.0, 0.0, 0.0, 0.0, 0.0, 0.0, 0.0, 0.0, 0.0, 0.0, 0.0], [9.475018305238336e-05, 8.603476999269333e-06, 3.7448630791914184e-06, 1.4634224498877302e-07, 2.701741550481529e-06, 1.141736993304221e-05, 8.620847438578494e-06, 9.928114013746381e-05, 3.119514076388441e-06, 0.00022620831441599876, 0.0005323361838236451, 2.9804918085574172e-05, 0.0013675662921741605, 5.10800709889736e-05, 0.009570826776325703, 0.9879898428916931, 0.0, 0.0, 0.0, 0.0, 0.0, 0.0, 0.0, 0.0, 0.0, 0.0, 0.0, 0.0, 0.0, 0.0, 0.0, 0.0, 0.0, 0.0, 0.0], [0.003944707568734884, 0.0001302912860410288, 9.947702346835285e-05, 0.00019776368571911007, 0.00042658415623009205, 0.0014889846788719296, 0.0002834682527463883, 0.001535671530291438, 0.004810089711099863, 0.005567716434597969, 0.0010473588481545448, 0.04082651808857918, 0.009189028292894363, 0.09278514236211777, 0.01585300639271736, 0.027940858155488968, 0.7938734292984009, 0.0, 0.0, 0.0, 0.0, 0.0, 0.0, 0.0, 0.0, 0.0, 0.0, 0.0, 0.0, 0.0, 0.0, 0.0, 0.0, 0.0, 0.0], [0.00021723686950281262, 2.3531249098596163e-05, 7.806306712154765e-06, 4.732967227027984e-06, 1.5671267874495243e-06, 8.667434485687409e-06, 1.2646282812056597e-05, 6.129294342827052e-05, 0.00018869491759687662, 0.0005901307449676096, 0.00042056760867126286, 0.0009746536379680037, 0.00042177821160294116, 0.004066719673573971, 0.001442245556972921, 0.011960039846599102, 0.02240201085805893, 0.9571956396102905, 0.0, 0.0, 0.0, 0.0, 0.0, 0.0, 0.0, 0.0, 0.0, 0.0, 0.0, 0.0, 0.0, 0.0, 0.0, 0.0, 0.0], [0.0007360449526458979, 3.0168239391059615e-06, 1.3554752058553277e-06, 1.4014691487318487e-06, 3.387712058611214e-05, 3.7522881029872224e-05, 1.0748701242846437e-05, 0.00043027111678384244, 1.6196763681364246e-05, 0.0006748262094333768, 0.0005265922518447042, 0.00012409142800606787, 4.71071653009858e-05, 0.00024138184380717576, 0.0006886579794809222, 0.0003870207874570042, 0.002144157886505127, 0.0017651690868660808, 0.9921305775642395, 0.0, 0.0, 0.0, 0.0, 0.0, 0.0, 0.0, 0.0, 0.0, 0.0, 0.0, 0.0, 0.0, 0.0, 0.0, 0.0], [6.529814982059179e-06, 4.013174681460896e-09, 4.275890752580835e-09, 9.052354421612563e-09, 5.135176479598158e-07, 3.7317665828595636e-06, 1.4824242100530682e-07, 4.6551272134820465e-06, 1.663049964406582e-08, 3.029677600352443e-06, 3.191981159034185e-05, 1.4017453509040934e-07, 4.954933956469176e-07, 2.367105196299235e-07, 7.952932605803653e-07, 0.00018607274978421628, 2.446675580358715e-06, 1.1982287105638534e-05, 0.0005082334391772747, 0.9992390871047974, 0.0, 0.0, 0.0, 0.0, 0.0, 0.0, 0.0, 0.0, 0.0, 0.0, 0.0, 0.0, 0.0, 0.0, 0.0], [0.009417891502380371, 0.00017362406651955098, 0.00019593238539528102, 0.00010542458767304197, 0.00012100101594114676, 0.00013750363723374903, 0.00020822313672397286, 0.00026208790950477123, 0.0009803808061406016, 0.0001742520835250616, 0.001331393257714808, 0.0032773069106042385, 0.004840622656047344, 0.012378786690533161, 0.0018258990021422505, 0.024282030761241913, 0.054799675941467285, 0.07428488880395889, 0.07759267836809158, 0.10845337808132172, 0.6251569986343384, 0.0, 0.0, 0.0, 0.0, 0.0, 0.0, 0.0, 0.0, 0.0, 0.0, 0.0, 0.0, 0.0, 0.0], [0.0001788632944226265, 2.97178257824271e-06, 1.287924305870547e-06, 1.661971055000322e-06, 3.153397528876667e-06, 7.608561645611189e-06, 4.480571362819319e-07, 4.628855549526634e-06, 4.462084689293988e-06, 4.640824954549316e-06, 4.678133336710744e-06, 2.2255213480093516e-05, 0.0006885047187097371, 5.880861499463208e-05, 5.511297786142677e-05, 0.0013147693825885653, 0.0004210418846923858, 0.000527929631061852, 0.00030591600807383657, 0.0011363031808286905, 0.004935148172080517, 0.9903199076652527, 0.0, 0.0, 0.0, 0.0, 0.0, 0.0, 0.0, 0.0, 0.0, 0.0, 0.0, 0.0, 0.0], [0.0009000818245112896, 3.46090855600778e-05, 6.000087523716502e-06, 1.3317927596290247e-06, 8.38242340250872e-06, 7.950181498017628e-06, 8.352956228918629e-07, 5.017455350753153e-06, 1.108555261453148e-05, 1.5506169802392833e-05, 2.244969073217362e-05, 3.2394586014561355e-05, 7.153368642320856e-05, 0.00011106150486739352, 6.552063041453948e-06, 3.557855961844325e-05, 0.00046084230416454375, 0.0006021021399646997, 0.007735580671578646, 0.0047313859686255455, 0.012920131906867027, 0.016999131068587303, 0.9552805423736572, 0.0, 0.0, 0.0, 0.0, 0.0, 0.0, 0.0, 0.0, 0.0, 0.0, 0.0, 0.0], [8.094513032119721e-05, 5.419524677563459e-05, 2.1191046471358277e-05, 8.660334174237505e-07, 5.241397047939245e-06, 2.81139887192694e-06, 9.647656042943709e-07, 4.259624347469071e-06, 6.819952886871761e-06, 2.6370105388195952e-06, 1.038734262692742e-05, 3.1177736673271284e-05, 2.5747023755684495e-05, 8.829349826555699e-05, 0.00010530055442359298, 0.00037444717600010335, 0.000583378248848021, 0.000901934108696878, 0.0004312012461014092, 0.0049911197274923325, 0.0035159268882125616, 0.015127467922866344, 0.018385011702775955, 0.9552487730979919, 0.0, 0.0, 0.0, 0.0, 0.0, 0.0, 0.0, 0.0, 0.0, 0.0, 0.0], [0.00019926734967157245, 5.897880441807501e-07, 4.093071765964851e-07, 5.283640120978816e-07, 4.0437271309201606e-07, 6.811440016463166e-07, 2.501953701994353e-07, 3.1909843301036744e-07, 5.017991043132497e-06, 3.0599273941334104e-06, 4.7768617150723e-06, 8.106227141979616e-06, 1.7870992451207712e-05, 5.904932550038211e-05, 7.019496479188092e-06, 5.101937131257728e-05, 0.000154196415678598, 0.0001555776543682441, 0.00046309444587677717, 0.0001873668807093054, 0.0029354470316320658, 0.0069986856542527676, 0.004895051009953022, 0.010302466340363026, 0.9735496640205383, 0.0, 0.0, 0.0, 0.0, 0.0, 0.0, 0.0, 0.0, 0.0, 0.0], [4.0418952266918495e-05, 7.668172763430903e-09, 6.183969247786081e-08, 4.1099543324207843e-08, 3.161342476687423e-07, 1.0004049499912071e-07, 6.658518003632707e-08, 4.78026777273044e-07, 4.035153366999111e-08, 6.753236448275857e-06, 8.574267695848903e-08, 1.0514231973957067e-07, 3.2702735097700497e-06, 4.896555196864938e-07, 1.2450353779058787e-06, 9.06984496396035e-06, 2.0693112219305476e-06, 8.541710485587828e-06, 4.513621024671011e-05, 8.528187754563987e-05, 8.476262155454606e-05, 0.0010267909383401275, 0.001334778848104179, 0.000296006997814402, 0.005626790691167116, 0.9914274215698242, 0.0, 0.0, 0.0, 0.0, 0.0, 0.0, 0.0, 0.0, 0.0], [0.0003747466835193336, 1.24301294590623e-07, 2.5229184075215016e-07, 3.052454928820225e-07, 4.772520696860738e-06, 6.075460419197043e-07, 8.501729666932079e-07, 1.1030846508219838e-05, 8.098998449668215e-08, 9.651313348513213e-07, 7.193351621026522e-07, 3.2339383437829383e-07, 1.760544478202064e-06, 4.4468265514296945e-07, 3.2987725262501044e-07, 2.4300325094372965e-05, 3.6642684335674858e-06, 3.0616429285146296e-06, 2.627130743348971e-05, 0.0003426713519729674, 2.0788200345123187e-05, 0.00013409749954007566, 0.000304724439047277, 9.803617285797372e-05, 0.0004919694038107991, 0.004237075801938772, 0.9939160943031311, 0.0, 0.0, 0.0, 0.0, 0.0, 0.0, 0.0, 0.0], [0.0002319765480933711, 7.363630061263393e-07, 1.0658059181878343e-06, 4.7498031108261785e-07, 2.1877929157199105e-06, 2.074173607979901e-06, 1.384211998356477e-07, 2.51064807343937e-06, 1.9715992038982222e-07, 6.67200083626085e-06, 8.991812592284987e-07, 6.362197382259183e-07, 6.544802886310208e-07, 7.717989660704916e-07, 4.801897830475355e-07, 1.112231893785065e-05, 5.561920261243358e-06, 3.862761786876945e-06, 6.753717025276273e-05, 0.0002897954545915127, 4.372503826743923e-05, 0.00015209012781269848, 0.0009337736410088837, 0.0001815940486267209, 8.42330337036401e-05, 0.009933865629136562, 0.008723159320652485, 0.979318380355835, 0.0, 0.0, 0.0, 0.0, 0.0, 0.0, 0.0], [0.00015704930410720408, 3.123189458165143e-07, 2.9319426175788976e-07, 3.1371658337775443e-07, 2.196094328610343e-06, 1.4164426147544873e-06, 1.1236412547077634e-06, 1.3091810160403838e-06, 5.921515011664269e-08, 7.978089229254692e-07, 2.803684992613853e-06, 1.9766959269418294e-07, 3.994022108599893e-07, 2.3049059905133618e-07, 2.2642570911557414e-06, 1.6729492926970124e-05, 1.6667632962708012e-06, 2.872546701837564e-06, 2.4946943085524254e-05, 0.000255328108323738, 4.849704055231996e-06, 4.708065534941852e-05, 5.325675374479033e-05, 4.240341513650492e-05, 0.0002087491739075631, 0.0020438136998564005, 0.08346714824438095, 0.003673007944598794, 0.9099873304367065, 0.0, 0.0, 0.0, 0.0, 0.0, 0.0], [0.0010030753910541534, 7.605900009366451e-06, 5.47889885638142e-06, 4.704082584794378e-06, 1.08182439362281e-06, 7.246849236253183e-07, 6.057198334019631e-07, 1.5847847407712834e-06, 3.183094668202102e-05, 1.844483222157578e-06, 1.3723778238272644e-06, 6.841019512648927e-06, 4.9961076911131386e-06, 0.00014220448792912066, 2.102596681652358e-06, 2.046109875664115e-05, 6.875464896438643e-05, 8.339458145201206e-05, 7.060819916659966e-05, 0.00022270008048508316, 0.0013453519204631448, 0.0011953123612329364, 0.0007637690287083387, 0.003412766382098198, 0.009595134295523167, 0.00824595708400011, 0.0040284073911607265, 0.015673460438847542, 0.03710906580090523, 0.916948676109314, 0.0, 0.0, 0.0, 0.0, 0.0], [0.00014598036068491638, 1.3442408430819341e-07, 3.067958687097416e-07, 1.2700814977506525e-07, 9.539689216353509e-08, 4.421364963036467e-08, 7.270931856595553e-09, 2.1630563651342527e-07, 1.7861739820546063e-07, 1.1440925362649068e-07, 4.546686227513419e-08, 1.1406661570845245e-07, 1.7846281252786866e-07, 8.568705993639014e-07, 1.0497461744307657e-07, 1.2474886261770735e-06, 1.1682639069476863e-06, 6.484983714472037e-07, 9.923028301273007e-06, 2.663555096660275e-05, 2.1480973373400047e-05, 7.192339398898184e-05, 0.00015873301890678704, 0.00014563203149009496, 0.002426166320219636, 0.0015144888311624527, 0.0007063159137032926, 0.0022442799527198076, 0.0045668077655136585, 0.009832319803535938, 0.9781237244606018, 0.0, 0.0, 0.0, 0.0], [1.0698753612814471e-05, 5.128419644506721e-08, 7.382487865470466e-08, 9.797534517019812e-08, 4.94486982915987e-07, 6.269718824114534e-07, 2.6257296781295736e-07, 7.36192021122406e-07, 2.5101189748966135e-07, 2.1764835764770396e-06, 5.363737045627204e-07, 8.606891128692951e-07, 2.1515769788038597e-07, 1.0358788813391584e-06, 2.4895066985664016e-07, 1.3481017958838493e-05, 8.521083145751618e-06, 5.14849216415314e-06, 4.645078206522157e-06, 1.683262780716177e-05, 5.864640115760267e-05, 3.652445593615994e-05, 0.00016485714877489954, 1.1945001460844651e-05, 0.0005173984100110829, 0.0024279041681438684, 0.00034773506922647357, 0.0015964038902893662, 0.009022926911711693, 0.013163723051548004, 0.06333822011947632, 0.9092468023300171, 0.0, 0.0, 0.0], [0.0012287312420085073, 8.407650966546498e-06, 8.36396066006273e-06, 8.199028343369719e-06, 3.972179001721088e-06, 3.987272975791711e-06, 1.5942514437483624e-06, 4.764991899719462e-06, 4.461919616005616e-06, 8.69920950208325e-06, 3.482298097878811e-06, 4.0872232602851e-06, 4.3831860239151865e-06, 1.2878711459052283e-05, 2.764997361737187e-06, 1.1550822819117457e-05, 2.8508407922345214e-05, 1.972621066670399e-05, 8.007964061107486e-05, 0.00016381568275392056, 0.00027661025524139404, 0.00048299733316525817, 0.000590301351621747, 0.0011750616831704974, 0.0034667097497731447, 0.005802724044770002, 0.011907555162906647, 0.01695297099649906, 0.02846650406718254, 0.061375752091407776, 0.11517596989870071, 0.20177724957466125, 0.5509371161460876, 0.0, 0.0], [3.782529165619053e-05, 6.459638512978927e-08, 1.9273654672247176e-08, 7.975812366112223e-08, 6.700336712128774e-07, 1.246436056590028e-07, 3.072176824048256e-08, 3.367149190580676e-07, 9.954005264489751e-08, 4.5415245608637633e-07, 3.406016446660942e-08, 1.7256137141430372e-07, 3.359028539762221e-07, 3.256336924550851e-07, 1.1636627661459897e-08, 3.2042157727119047e-06, 1.2533525932667544e-06, 1.7663072640061728e-06, 1.1125961464131251e-05, 2.0410294382600114e-05, 8.103446816676296e-06, 1.288108524022391e-05, 0.0001419320615241304, 1.1411115337978117e-05, 0.00010671347263269126, 0.00010951125295832753, 0.001792712602764368, 0.0015404956648126245, 0.0012465228792279959, 0.0015975888818502426, 0.0008927059243433177, 0.009557017125189304, 0.009279956109821796, 0.9736242294311523, 0.0], [0.0003539696044754237, 2.6440397959959228e-06, 1.7576138588992762e-06, 1.234809019479144e-06, 5.949707883701194e-06, 1.3091880646243226e-06, 3.3621063266764395e-07, 2.4850552904354117e-07, 6.705453188260435e-07, 6.699504950802293e-08, 6.061916906219267e-07, 4.6190581315386225e-07, 2.3573252292408142e-06, 1.4622205526393373e-06, 2.9763668862869963e-07, 1.6005758425308159e-06, 2.460903942846926e-06, 1.9317219539516373e-06, 3.2001476938603446e-05, 2.4651970306877047e-05, 3.4296379453735426e-05, 0.00016550840518902987, 7.883966463850811e-05, 0.00018387149611953646, 0.0011651525273919106, 0.00012255342153366655, 0.0011725190561264753, 0.0004984783008694649, 0.003501479746773839, 0.003400745801627636, 0.011839515529572964, 0.005179085303097963, 0.016713853925466537, 0.029127653688192368, 0.9263803958892822]], [[1.0, 0.0, 0.0, 0.0, 0.0, 0.0, 0.0, 0.0, 0.0, 0.0, 0.0, 0.0, 0.0, 0.0, 0.0, 0.0, 0.0, 0.0, 0.0, 0.0, 0.0, 0.0, 0.0, 0.0, 0.0, 0.0, 0.0, 0.0, 0.0, 0.0, 0.0, 0.0, 0.0, 0.0, 0.0], [0.9238101243972778, 0.07618986815214157, 0.0, 0.0, 0.0, 0.0, 0.0, 0.0, 0.0, 0.0, 0.0, 0.0, 0.0, 0.0, 0.0, 0.0, 0.0, 0.0, 0.0, 0.0, 0.0, 0.0, 0.0, 0.0, 0.0, 0.0, 0.0, 0.0, 0.0, 0.0, 0.0, 0.0, 0.0, 0.0, 0.0], [0.37589237093925476, 0.10050594061613083, 0.5236017107963562, 0.0, 0.0, 0.0, 0.0, 0.0, 0.0, 0.0, 0.0, 0.0, 0.0, 0.0, 0.0, 0.0, 0.0, 0.0, 0.0, 0.0, 0.0, 0.0, 0.0, 0.0, 0.0, 0.0, 0.0, 0.0, 0.0, 0.0, 0.0, 0.0, 0.0, 0.0, 0.0], [0.41213732957839966, 0.0823158398270607, 0.1808476746082306, 0.32469916343688965, 0.0, 0.0, 0.0, 0.0, 0.0, 0.0, 0.0, 0.0, 0.0, 0.0, 0.0, 0.0, 0.0, 0.0, 0.0, 0.0, 0.0, 0.0, 0.0, 0.0, 0.0, 0.0, 0.0, 0.0, 0.0, 0.0, 0.0, 0.0, 0.0, 0.0, 0.0], [0.14052283763885498, 0.0058123101480305195, 0.028276385739445686, 0.057330358773469925, 0.7680581212043762, 0.0, 0.0, 0.0, 0.0, 0.0, 0.0, 0.0, 0.0, 0.0, 0.0, 0.0, 0.0, 0.0, 0.0, 0.0, 0.0, 0.0, 0.0, 0.0, 0.0, 0.0, 0.0, 0.0, 0.0, 0.0, 0.0, 0.0, 0.0, 0.0, 0.0], [0.019230686128139496, 0.0014746810775250196, 0.0016810804372653365, 0.004905837122350931, 0.02590656280517578, 0.9468011260032654, 0.0, 0.0, 0.0, 0.0, 0.0, 0.0, 0.0, 0.0, 0.0, 0.0, 0.0, 0.0, 0.0, 0.0, 0.0, 0.0, 0.0, 0.0, 0.0, 0.0, 0.0, 0.0, 0.0, 0.0, 0.0, 0.0, 0.0, 0.0, 0.0], [0.006040884181857109, 0.004658225923776627, 0.01286504790186882, 0.008953888900578022, 0.0702168196439743, 0.12025348842144012, 0.7770116925239563, 0.0, 0.0, 0.0, 0.0, 0.0, 0.0, 0.0, 0.0, 0.0, 0.0, 0.0, 0.0, 0.0, 0.0, 0.0, 0.0, 0.0, 0.0, 0.0, 0.0, 0.0, 0.0, 0.0, 0.0, 0.0, 0.0, 0.0, 0.0], [0.01624826155602932, 0.003929378464818001, 0.01283665094524622, 0.005099623464047909, 0.017354179173707962, 0.015599321573972702, 0.13602767884731293, 0.7929048538208008, 0.0, 0.0, 0.0, 0.0, 0.0, 0.0, 0.0, 0.0, 0.0, 0.0, 0.0, 0.0, 0.0, 0.0, 0.0, 0.0, 0.0, 0.0, 0.0, 0.0, 0.0, 0.0, 0.0, 0.0, 0.0, 0.0, 0.0], [0.13423295319080353, 0.07014793902635574, 0.03862922266125679, 0.03592691197991371, 0.05720484256744385, 0.06419356167316437, 0.03908979147672653, 0.21457332372665405, 0.34600141644477844, 0.0, 0.0, 0.0, 0.0, 0.0, 0.0, 0.0, 0.0, 0.0, 0.0, 0.0, 0.0, 0.0, 0.0, 0.0, 0.0, 0.0, 0.0, 0.0, 0.0, 0.0, 0.0, 0.0, 0.0, 0.0, 0.0], [0.003595880465582013, 0.000384950457373634, 0.0004921666695736349, 0.0008088790345937014, 0.002590099349617958, 0.002407653024420142, 0.00017131850472651422, 0.01115301251411438, 0.0021147809457033873, 0.9762812852859497, 0.0, 0.0, 0.0, 0.0, 0.0, 0.0, 0.0, 0.0, 0.0, 0.0, 0.0, 0.0, 0.0, 0.0, 0.0, 0.0, 0.0, 0.0, 0.0, 0.0, 0.0, 0.0, 0.0, 0.0, 0.0], [0.0002283449866808951, 4.6662473323522136e-05, 8.206461643567309e-05, 7.730666402494535e-05, 0.00012034232349833474, 0.004319246392697096, 0.003844221355393529, 0.0011964993318542838, 0.0001644693111302331, 0.8530563116073608, 0.13686445355415344, 0.0, 0.0, 0.0, 0.0, 0.0, 0.0, 0.0, 0.0, 0.0, 0.0, 0.0, 0.0, 0.0, 0.0, 0.0, 0.0, 0.0, 0.0, 0.0, 0.0, 0.0, 0.0, 0.0, 0.0], [0.06578908115625381, 0.019290776923298836, 0.020492704585194588, 0.021956786513328552, 0.026686696335673332, 0.08618339151144028, 0.03104090690612793, 0.16103023290634155, 0.030162546783685684, 0.21323677897453308, 0.0755448117852211, 0.2485852837562561, 0.0, 0.0, 0.0, 0.0, 0.0, 0.0, 0.0, 0.0, 0.0, 0.0, 0.0, 0.0, 0.0, 0.0, 0.0, 0.0, 0.0, 0.0, 0.0, 0.0, 0.0, 0.0, 0.0], [0.009123367257416248, 0.0033993152901530266, 0.01681826449930668, 0.004648812580853701, 0.014602276496589184, 0.05833256617188454, 0.07909013330936432, 0.01766362600028515, 0.016087274998426437, 0.15053577721118927, 0.33433887362480164, 0.05438896268606186, 0.24097079038619995, 0.0, 0.0, 0.0, 0.0, 0.0, 0.0, 0.0, 0.0, 0.0, 0.0, 0.0, 0.0, 0.0, 0.0, 0.0, 0.0, 0.0, 0.0, 0.0, 0.0, 0.0, 0.0], [0.04253437742590904, 0.016550585627555847, 0.007813410833477974, 0.006833470892161131, 0.009650967083871365, 0.009173315018415451, 0.005910308100283146, 0.03009309247136116, 0.05324168875813484, 0.03575889766216278, 0.1196868047118187, 0.07133744657039642, 0.2969222068786621, 0.2944934666156769, 0.0, 0.0, 0.0, 0.0, 0.0, 0.0, 0.0, 0.0, 0.0, 0.0, 0.0, 0.0, 0.0, 0.0, 0.0, 0.0, 0.0, 0.0, 0.0, 0.0, 0.0], [0.010158025659620762, 0.004377412144094706, 0.0065031819976866245, 0.003546682884916663, 0.006157048046588898, 0.005149815697222948, 0.004158245865255594, 0.014994002878665924, 0.017724109813570976, 0.00860963761806488, 0.013557272031903267, 0.027689805254340172, 0.027776112779974937, 0.08518608659505844, 0.7644126415252686, 0.0, 0.0, 0.0, 0.0, 0.0, 0.0, 0.0, 0.0, 0.0, 0.0, 0.0, 0.0, 0.0, 0.0, 0.0, 0.0, 0.0, 0.0, 0.0, 0.0], [0.0005760935600847006, 3.758488310268149e-05, 3.10057403112296e-05, 2.809088800859172e-05, 0.00011757229367503896, 0.0010626498842611909, 0.0008489795145578682, 0.0023644298780709505, 0.00031711842166259885, 0.0005040704854764044, 0.000543896690942347, 0.0009964661439880729, 0.004787205718457699, 0.001658216118812561, 0.021181121468544006, 0.9649454951286316, 0.0, 0.0, 0.0, 0.0, 0.0, 0.0, 0.0, 0.0, 0.0, 0.0, 0.0, 0.0, 0.0, 0.0, 0.0, 0.0, 0.0, 0.0, 0.0], [0.05710107833147049, 0.012982730753719807, 0.01246335543692112, 0.012371198274195194, 0.013064754195511341, 0.03530248627066612, 0.013208812102675438, 0.06362833082675934, 0.01058889552950859, 0.061131998896598816, 0.027357185259461403, 0.08200790733098984, 0.039974600076675415, 0.0430283360183239, 0.06893416494131088, 0.06733899563550949, 0.37951523065567017, 0.0, 0.0, 0.0, 0.0, 0.0, 0.0, 0.0, 0.0, 0.0, 0.0, 0.0, 0.0, 0.0, 0.0, 0.0, 0.0, 0.0, 0.0], [0.05038187652826309, 0.010253239423036575, 0.009017400443553925, 0.007853326387703419, 0.008382104337215424, 0.01603054814040661, 0.007579760625958443, 0.01656814105808735, 0.00955806765705347, 0.020098425447940826, 0.02802768163383007, 0.03172840178012848, 0.021793970838189125, 0.03942329064011574, 0.11988726258277893, 0.04783084988594055, 0.1477368175983429, 0.4078488051891327, 0.0, 0.0, 0.0, 0.0, 0.0, 0.0, 0.0, 0.0, 0.0, 0.0, 0.0, 0.0, 0.0, 0.0, 0.0, 0.0, 0.0], [0.009583800099790096, 0.0005122207221575081, 0.0006106937653385103, 0.0009717887733131647, 0.0022611040621995926, 0.004041268955916166, 0.00033976093982346356, 0.002301484579220414, 0.0014669822994619608, 0.004360876511782408, 0.010039575397968292, 0.003883794415742159, 0.0019065372180193663, 0.004968367516994476, 0.0035998837556689978, 0.0027956583071500063, 0.015628810971975327, 0.014497026801109314, 0.916230320930481, 0.0, 0.0, 0.0, 0.0, 0.0, 0.0, 0.0, 0.0, 0.0, 0.0, 0.0, 0.0, 0.0, 0.0, 0.0, 0.0], [0.03377578407526016, 0.0008472930057905614, 0.0009361561387777328, 0.0006967568187974393, 0.004600141663104296, 0.0032575977966189384, 0.0004218373214825988, 0.007556706666946411, 0.0010570597369223833, 0.003643791424110532, 0.00017823871166910976, 0.0020456218626350164, 0.0014812112785875797, 0.0029180466663092375, 0.005684820003807545, 0.06616663932800293, 0.006820716895163059, 0.00596611388027668, 0.022306203842163086, 0.829639196395874, 0.0, 0.0, 0.0, 0.0, 0.0, 0.0, 0.0, 0.0, 0.0, 0.0, 0.0, 0.0, 0.0, 0.0, 0.0], [0.014338123612105846, 0.004506279248744249, 0.0022934817243367434, 0.004502632189542055, 0.006348530761897564, 0.006440699566155672, 0.003075922839343548, 0.0034293769858777523, 0.008825041353702545, 0.013563869521021843, 0.008806231431663036, 0.015333058312535286, 0.010930362157523632, 0.03256243094801903, 0.04165013134479523, 0.029358435422182083, 0.06823209673166275, 0.10101231187582016, 0.12824411690235138, 0.08141806721687317, 0.41512882709503174, 0.0, 0.0, 0.0, 0.0, 0.0, 0.0, 0.0, 0.0, 0.0, 0.0, 0.0, 0.0, 0.0, 0.0], [0.012516932561993599, 0.00370737980119884, 0.0011323612416163087, 0.002044015796855092, 0.0021037976257503033, 0.0007217555539682508, 0.0003587709798011929, 0.0010654565412551165, 0.0033418675884604454, 0.0035347670782357454, 0.0018008288461714983, 0.005131380166858435, 0.005956844426691532, 0.011681457981467247, 0.023353131487965584, 0.024626363068819046, 0.023082589730620384, 0.02405393309891224, 0.045054011046886444, 0.0444747731089592, 0.09848436713218689, 0.661773145198822, 0.0, 0.0, 0.0, 0.0, 0.0, 0.0, 0.0, 0.0, 0.0, 0.0, 0.0, 0.0, 0.0], [0.023378079757094383, 0.002970093861222267, 0.002272161887958646, 0.0031212535686790943, 0.010448775254189968, 0.0027957104612141848, 0.0009500707383267581, 0.006640287581831217, 0.002509304089471698, 0.006215895991772413, 0.0018756609642878175, 0.004366473760455847, 0.005894928239285946, 0.007904240861535072, 0.011842508800327778, 0.011780314147472382, 0.016934014856815338, 0.015606723725795746, 0.036991916596889496, 0.056762710213661194, 0.038851816207170486, 0.3010689914226532, 0.42881813645362854, 0.0, 0.0, 0.0, 0.0, 0.0, 0.0, 0.0, 0.0, 0.0, 0.0, 0.0, 0.0], [0.042250849306583405, 0.009647665545344353, 0.01306965947151184, 0.003493922995403409, 0.008718246594071388, 0.0008717638556845486, 0.002113072667270899, 0.002520154230296612, 0.0028259295504540205, 0.003056257963180542, 0.005475992802530527, 0.004467589780688286, 0.005966205149888992, 0.008145660161972046, 0.02767094038426876, 0.013382633216679096, 0.018189143389463425, 0.03278025612235069, 0.02884836681187153, 0.05995950102806091, 0.09605947136878967, 0.2093193382024765, 0.10138260573148727, 0.299784779548645, 0.0, 0.0, 0.0, 0.0, 0.0, 0.0, 0.0, 0.0, 0.0, 0.0, 0.0], [0.025818029418587685, 0.0012453028466552496, 0.00123677181545645, 0.0031558230984956026, 0.00260545639321208, 0.0011178333079442382, 0.00023053257609717548, 0.0010614546481519938, 0.0012552989646792412, 0.0014470177702605724, 0.0006083034095354378, 0.002144434256479144, 0.0017222766764461994, 0.003063675481826067, 0.002130713779479265, 0.0017395155737176538, 0.007489570416510105, 0.004201177973300219, 0.01636728085577488, 0.017187533900141716, 0.016647029668092728, 0.06787318736314774, 0.07546127587556839, 0.043696507811546326, 0.7004939317703247, 0.0, 0.0, 0.0, 0.0, 0.0, 0.0, 0.0, 0.0, 0.0, 0.0], [0.007508306764066219, 0.000129139210912399, 0.00022904042270965874, 0.0003099398745689541, 0.001587574020959437, 0.00015740802336949855, 0.00036546672345139086, 0.00026319510652683675, 0.000246187555603683, 0.004963842686265707, 0.000849328760523349, 0.00020542528363876045, 0.0035996558144688606, 0.0006757508381269872, 0.0006743200356140733, 0.0028660339303314686, 0.000740199233405292, 0.0012410664930939674, 0.0034339390695095062, 0.0033488068729639053, 0.005896294489502907, 0.015315243974328041, 0.01358444057404995, 0.003806073684245348, 0.10587518662214279, 0.8221280574798584, 0.0, 0.0, 0.0, 0.0, 0.0, 0.0, 0.0, 0.0, 0.0], [0.0151468301191926, 0.0002837271895259619, 0.0004323893808759749, 0.0012392145581543446, 0.0026600719429552555, 0.0003459545550867915, 0.00029542745323851705, 0.0018772091716527939, 0.00023691265960223973, 0.00013219252286944538, 0.00033548110513947904, 0.00022997907944954932, 0.00027149065863341093, 0.0004209541657473892, 0.0008192590321414173, 0.0003039471048396081, 0.000646936590783298, 0.0003804269654210657, 0.0023925937712192535, 0.002976801944896579, 0.0025756165850907564, 0.005941805895417929, 0.005901214201003313, 0.005208784248679876, 0.02542373538017273, 0.02324126847088337, 0.900279700756073, 0.0, 0.0, 0.0, 0.0, 0.0, 0.0, 0.0, 0.0], [0.02088218554854393, 0.0006866250187158585, 0.00141903106123209, 0.0016247230814769864, 0.005466732662171125, 0.0019930724520236254, 0.00034445658093318343, 0.0014866298297420144, 0.0003860281431116164, 0.0002986803010571748, 0.00037154884194023907, 0.0005332499858923256, 0.0002567083574831486, 0.0006083340849727392, 0.00037862578756175935, 0.0013748232740908861, 0.0013781345915049314, 0.0009236660553142428, 0.023375004529953003, 0.03773234412074089, 0.0040639834478497505, 0.021846625953912735, 0.018512392416596413, 0.005047200247645378, 0.01844027452170849, 0.06399491429328918, 0.3300280272960663, 0.4365460276603699, 0.0, 0.0, 0.0, 0.0, 0.0, 0.0, 0.0], [0.00272978562861681, 0.00011315719166304916, 0.0002574319951236248, 0.00030652928398922086, 0.0008012373582459986, 0.000887093658093363, 0.000101115794677753, 0.002048569731414318, 0.00014291208935901523, 0.000198980764253065, 0.00043098218156956136, 7.4357507401146e-05, 0.00011077820818172768, 0.00022297565010376275, 0.00010400121391285211, 0.0007566187996417284, 0.0001842881174525246, 0.00031020984170027077, 0.001059028203599155, 0.005394385661929846, 0.0013711393112316728, 0.0017238219734281301, 0.003438346553593874, 0.00077915342990309, 0.002710794098675251, 0.011246607638895512, 0.2618618905544281, 0.04286462068557739, 0.6577692031860352, 0.0, 0.0, 0.0, 0.0, 0.0, 0.0], [0.0071692136116325855, 0.002651227405294776, 0.002445024438202381, 0.003023248864337802, 0.00268618855625391, 0.0007135473424568772, 0.0005127678159624338, 0.0003864860627800226, 0.0009532009717077017, 0.00044078362407162786, 0.0008591749938204885, 0.0012491048546507955, 0.00094247778179124, 0.0016617258079349995, 0.0004435321025084704, 0.0014648408396169543, 0.0035774658899754286, 0.0037673399783670902, 0.012122929096221924, 0.0068539101630449295, 0.005249570123851299, 0.019704239442944527, 0.026669232174754143, 0.04096021503210068, 0.23853975534439087, 0.05725708231329918, 0.04040537402033806, 0.10933986306190491, 0.07736305892467499, 0.3305874466896057, 0.0, 0.0, 0.0, 0.0, 0.0], [0.011626657098531723, 0.0019658165983855724, 0.0009179514017887414, 0.001819743076339364, 0.002078976947814226, 0.00029357121093198657, 0.00010028555698227137, 0.0005799980135634542, 0.0004854121943935752, 9.76482915575616e-05, 0.00015712746244389564, 0.0004106423002667725, 0.0004877774917986244, 0.0007517859921790659, 0.0007532844902016222, 0.0012242123484611511, 0.0010826854268088937, 0.0014821888180449605, 0.0027742490638047457, 0.0036103317979723215, 0.002137242117896676, 0.009361452423036098, 0.01427766215056181, 0.011846712790429592, 0.04729336127638817, 0.0450628325343132, 0.04156069830060005, 0.042807891964912415, 0.07079776376485825, 0.10084827989339828, 0.581305742263794, 0.0, 0.0, 0.0, 0.0], [0.0038734341505914927, 0.00025570980506017804, 0.0006259250221773982, 0.0005843957769684494, 0.0012326471041887999, 0.00039456007652916014, 0.00033266792888753116, 0.00015581918705720454, 0.00016472733113914728, 0.0007726297480985522, 0.00038669805508106947, 0.0002782443189062178, 0.00015239728963933885, 0.0002519854751881212, 6.452931847888976e-05, 0.00017264133202843368, 0.000713358458597213, 0.0005384794785641134, 0.007539563346654177, 0.00672324700281024, 0.001396391773596406, 0.003110354533419013, 0.005501289386302233, 0.0024135864805430174, 0.038960572332143784, 0.023422330617904663, 0.009641137905418873, 0.02575090155005455, 0.1270248293876648, 0.04005931317806244, 0.5142087340354919, 0.18329687416553497, 0.0, 0.0, 0.0], [0.015151125378906727, 0.0013760682195425034, 0.0015560504980385303, 0.0021717099007219076, 0.0025110088754445314, 0.0017854946199804544, 0.00047008664114400744, 0.0006788121536374092, 0.00038990736356936395, 0.0009900371078401804, 0.0003802654391620308, 0.00041825053631328046, 0.00044352893019095063, 0.0005140130524523556, 0.000165922348969616, 0.0006932565593160689, 0.000962950405664742, 0.0007656950037926435, 0.004365222994238138, 0.00643626693636179, 0.0018688273848965764, 0.008356153964996338, 0.006384761072695255, 0.005890705157071352, 0.03118702583014965, 0.04100945219397545, 0.028566081076860428, 0.04157726839184761, 0.04076457768678665, 0.06712852418422699, 0.30426734685897827, 0.2161882370710373, 0.1645854264497757, 0.0, 0.0], [0.017354117706418037, 0.0005264720530249178, 0.0006208937847986817, 0.0016926312819123268, 0.006297263316810131, 0.0010202126577496529, 7.36256261006929e-05, 0.000676228548400104, 0.00044483100646175444, 7.778886356391013e-05, 4.973811883246526e-05, 0.0003035978879779577, 0.0001734182587824762, 0.000516243395395577, 0.00027352760662324727, 0.0007444006041623652, 0.0006022226298227906, 0.0004544501716736704, 0.0026653388049453497, 0.002663874998688698, 0.002551592420786619, 0.007818796671926975, 0.009490986354649067, 0.0009830404305830598, 0.007624228950589895, 0.011552369222044945, 0.09579721093177795, 0.08069907128810883, 0.09889816492795944, 0.03799614682793617, 0.05835620313882828, 0.11718898266553879, 0.11656811088323593, 0.31724420189857483, 0.0], [0.010796332731842995, 0.003018461400642991, 0.0017010789597406983, 0.002761397510766983, 0.005546446889638901, 0.00055094831623137, 0.00022208341397345066, 0.00023305881768465042, 0.0008555079693906009, 8.429399895248935e-05, 0.00013491020945366472, 0.0004030339478049427, 0.00021568564989138395, 0.000912233314011246, 0.0007261989521794021, 0.00038188471808098257, 0.0007406802615150809, 0.0007301229052245617, 0.0007852286216802895, 0.0013473373837769032, 0.0043137832544744015, 0.00772917689755559, 0.0054228100925683975, 0.006747081410139799, 0.013981970027089119, 0.004630991257727146, 0.01939181424677372, 0.02813369780778885, 0.016861924901604652, 0.07724331319332123, 0.05435159429907799, 0.13139016926288605, 0.15014056861400604, 0.08434382826089859, 0.3631703853607178]], [[1.0, 0.0, 0.0, 0.0, 0.0, 0.0, 0.0, 0.0, 0.0, 0.0, 0.0, 0.0, 0.0, 0.0, 0.0, 0.0, 0.0, 0.0, 0.0, 0.0, 0.0, 0.0, 0.0, 0.0, 0.0, 0.0, 0.0, 0.0, 0.0, 0.0, 0.0, 0.0, 0.0, 0.0, 0.0], [0.19326065480709076, 0.806739330291748, 0.0, 0.0, 0.0, 0.0, 0.0, 0.0, 0.0, 0.0, 0.0, 0.0, 0.0, 0.0, 0.0, 0.0, 0.0, 0.0, 0.0, 0.0, 0.0, 0.0, 0.0, 0.0, 0.0, 0.0, 0.0, 0.0, 0.0, 0.0, 0.0, 0.0, 0.0, 0.0, 0.0], [0.09132367372512817, 0.002221883274614811, 0.9064545035362244, 0.0, 0.0, 0.0, 0.0, 0.0, 0.0, 0.0, 0.0, 0.0, 0.0, 0.0, 0.0, 0.0, 0.0, 0.0, 0.0, 0.0, 0.0, 0.0, 0.0, 0.0, 0.0, 0.0, 0.0, 0.0, 0.0, 0.0, 0.0, 0.0, 0.0, 0.0, 0.0], [0.07127513736486435, 0.010394581593573093, 0.014608724974095821, 0.9037215113639832, 0.0, 0.0, 0.0, 0.0, 0.0, 0.0, 0.0, 0.0, 0.0, 0.0, 0.0, 0.0, 0.0, 0.0, 0.0, 0.0, 0.0, 0.0, 0.0, 0.0, 0.0, 0.0, 0.0, 0.0, 0.0, 0.0, 0.0, 0.0, 0.0, 0.0, 0.0], [0.007525183726102114, 8.942779095377773e-05, 7.54414577386342e-05, 3.4135864552808926e-06, 0.9923065304756165, 0.0, 0.0, 0.0, 0.0, 0.0, 0.0, 0.0, 0.0, 0.0, 0.0, 0.0, 0.0, 0.0, 0.0, 0.0, 0.0, 0.0, 0.0, 0.0, 0.0, 0.0, 0.0, 0.0, 0.0, 0.0, 0.0, 0.0, 0.0, 0.0, 0.0], [0.004521039314568043, 4.280501343600918e-06, 9.230407158611342e-05, 2.3636253899894655e-05, 1.1194401849934366e-05, 0.9953475594520569, 0.0, 0.0, 0.0, 0.0, 0.0, 0.0, 0.0, 0.0, 0.0, 0.0, 0.0, 0.0, 0.0, 0.0, 0.0, 0.0, 0.0, 0.0, 0.0, 0.0, 0.0, 0.0, 0.0, 0.0, 0.0, 0.0, 0.0, 0.0, 0.0], [0.007938134483993053, 0.00010465273953741416, 4.1882518416969106e-05, 8.37628795125056e-06, 0.00021111423848196864, 3.1297931855078787e-06, 0.9916926622390747, 0.0, 0.0, 0.0, 0.0, 0.0, 0.0, 0.0, 0.0, 0.0, 0.0, 0.0, 0.0, 0.0, 0.0, 0.0, 0.0, 0.0, 0.0, 0.0, 0.0, 0.0, 0.0, 0.0, 0.0, 0.0, 0.0, 0.0, 0.0], [0.0024528461508452892, 1.0800496966112405e-05, 1.541074198030401e-05, 2.252152597748136e-07, 3.925124474335462e-05, 5.133605554874521e-06, 2.3800475901225582e-05, 0.9974525570869446, 0.0, 0.0, 0.0, 0.0, 0.0, 0.0, 0.0, 0.0, 0.0, 0.0, 0.0, 0.0, 0.0, 0.0, 0.0, 0.0, 0.0, 0.0, 0.0, 0.0, 0.0, 0.0, 0.0, 0.0, 0.0, 0.0, 0.0], [0.1994483470916748, 0.17831815779209137, 0.06548023968935013, 0.1327645629644394, 0.038584478199481964, 0.010353405959904194, 0.02143358811736107, 0.006723281927406788, 0.34689390659332275, 0.0, 0.0, 0.0, 0.0, 0.0, 0.0, 0.0, 0.0, 0.0, 0.0, 0.0, 0.0, 0.0, 0.0, 0.0, 0.0, 0.0, 0.0, 0.0, 0.0, 0.0, 0.0, 0.0, 0.0, 0.0, 0.0], [0.0014458460500463843, 8.054703926063667e-07, 3.064588599954732e-05, 7.412921263494354e-07, 2.0274023881938774e-06, 1.1259024176979437e-05, 1.8223380493509467e-06, 8.012925536604598e-05, 1.0569634412149753e-07, 0.9984266757965088, 0.0, 0.0, 0.0, 0.0, 0.0, 0.0, 0.0, 0.0, 0.0, 0.0, 0.0, 0.0, 0.0, 0.0, 0.0, 0.0, 0.0, 0.0, 0.0, 0.0, 0.0, 0.0, 0.0, 0.0, 0.0], [0.0023380175698548555, 1.2498665455495939e-05, 2.2450103642768227e-05, 4.236496351950336e-06, 2.952029092284647e-07, 1.8947034732264e-06, 7.769844523863867e-05, 8.96904748515226e-06, 4.6951914356441193e-08, 1.1347646022841218e-06, 0.9975327253341675, 0.0, 0.0, 0.0, 0.0, 0.0, 0.0, 0.0, 0.0, 0.0, 0.0, 0.0, 0.0, 0.0, 0.0, 0.0, 0.0, 0.0, 0.0, 0.0, 0.0, 0.0, 0.0, 0.0, 0.0], [0.04751456156373024, 0.05268265679478645, 0.020408133044838905, 0.058530084788799286, 0.007166560739278793, 0.008201420307159424, 0.011846407316625118, 0.0017474382184445858, 0.024963321164250374, 0.002697254531085491, 0.0014261910691857338, 0.7628160715103149, 0.0, 0.0, 0.0, 0.0, 0.0, 0.0, 0.0, 0.0, 0.0, 0.0, 0.0, 0.0, 0.0, 0.0, 0.0, 0.0, 0.0, 0.0, 0.0, 0.0, 0.0, 0.0, 0.0], [0.006070825271308422, 0.00012957974104210734, 5.943375072092749e-05, 5.659367616317468e-06, 0.0002615337143652141, 0.00012241856893524528, 1.0399376151326578e-05, 1.1076435839640908e-05, 4.0604925288789673e-07, 0.0003600475611165166, 2.0115488950978033e-05, 1.364395956215958e-07, 0.9929484128952026, 0.0, 0.0, 0.0, 0.0, 0.0, 0.0, 0.0, 0.0, 0.0, 0.0, 0.0, 0.0, 0.0, 0.0, 0.0, 0.0, 0.0, 0.0, 0.0, 0.0, 0.0, 0.0], [0.09530571848154068, 0.14180326461791992, 0.05038183182477951, 0.10299671441316605, 0.029812073335051537, 0.006589409429579973, 0.016824396327137947, 0.004481855314224958, 0.23106449842453003, 0.019435428082942963, 0.01087439525872469, 0.05543202906847, 0.03543870896100998, 0.19955968856811523, 0.0, 0.0, 0.0, 0.0, 0.0, 0.0, 0.0, 0.0, 0.0, 0.0, 0.0, 0.0, 0.0, 0.0, 0.0, 0.0, 0.0, 0.0, 0.0, 0.0, 0.0], [0.027447791770100594, 0.00014065334107726812, 0.000198466339497827, 3.496767021715641e-05, 5.282139227347216e-06, 0.00015024191816337407, 8.128350600600243e-05, 1.2125139619456604e-05, 6.30389477009885e-05, 6.543209019582719e-05, 2.83248527921387e-06, 3.890723382937722e-05, 5.673621217283653e-07, 4.2104791646124795e-05, 0.9717162847518921, 0.0, 0.0, 0.0, 0.0, 0.0, 0.0, 0.0, 0.0, 0.0, 0.0, 0.0, 0.0, 0.0, 0.0, 0.0, 0.0, 0.0, 0.0, 0.0, 0.0], [0.004212117288261652, 3.0696890462422743e-05, 6.369442417053506e-05, 8.254548902186798e-07, 8.262140909209847e-07, 3.868338535539806e-05, 4.26881160819903e-06, 3.8194098124222364e-06, 1.2628012768800545e-07, 0.00013782775204163045, 1.780611273716204e-05, 1.7100200366826357e-08, 5.9798780966957565e-06, 6.190309420617268e-08, 2.2941571842238773e-06, 0.9954808950424194, 0.0, 0.0, 0.0, 0.0, 0.0, 0.0, 0.0, 0.0, 0.0, 0.0, 0.0, 0.0, 0.0, 0.0, 0.0, 0.0, 0.0, 0.0, 0.0], [0.019846761599183083, 0.03168343007564545, 0.012553270906209946, 0.035718806087970734, 0.0043990095146000385, 0.004350569564849138, 0.007427368778735399, 0.0009372875792905688, 0.01266288198530674, 0.0016050537815317512, 0.0007319955620914698, 0.4563407897949219, 0.002010868862271309, 0.009759276174008846, 0.008237499743700027, 0.00025941251078620553, 0.3914756774902344, 0.0, 0.0, 0.0, 0.0, 0.0, 0.0, 0.0, 0.0, 0.0, 0.0, 0.0, 0.0, 0.0, 0.0, 0.0, 0.0, 0.0, 0.0], [0.02729724906384945, 0.0024357072543352842, 0.0002706822706386447, 7.525584078393877e-05, 1.3686847523786128e-05, 5.773238626716193e-06, 0.00043018441647291183, 1.4438182915910147e-05, 4.835141226067208e-05, 5.326117025106214e-05, 9.613318070478272e-06, 6.846700853202492e-05, 0.0003037679416593164, 2.8783944799215533e-05, 3.86640167562291e-05, 2.5926843591150828e-05, 4.6800509153399616e-05, 0.9688335061073303, 0.0, 0.0, 0.0, 0.0, 0.0, 0.0, 0.0, 0.0, 0.0, 0.0, 0.0, 0.0, 0.0, 0.0, 0.0, 0.0, 0.0], [0.006310705095529556, 3.2946885767159984e-05, 9.895695257000625e-06, 7.334584211093897e-07, 9.119841706706211e-05, 4.094932955922559e-05, 8.511712621839251e-06, 9.950740059139207e-05, 1.9264814454800216e-07, 8.829235298435378e-07, 1.89061233868415e-06, 1.1808706403826363e-06, 3.1165220661932835e-06, 9.47476834767258e-08, 3.3017643090715865e-06, 2.585527727205772e-05, 7.711314538028091e-07, 2.6708685254561715e-06, 0.993365466594696, 0.0, 0.0, 0.0, 0.0, 0.0, 0.0, 0.0, 0.0, 0.0, 0.0, 0.0, 0.0, 0.0, 0.0, 0.0, 0.0], [0.001134052756242454, 6.961923190829111e-06, 1.236436492035864e-05, 4.006550682333909e-07, 5.351815343601629e-05, 5.240096470515709e-06, 4.459505726117641e-05, 0.00016450765542685986, 1.4344478493910628e-08, 1.0388021109974943e-06, 4.77888788736891e-05, 5.0586844935196495e-08, 9.468209896112967e-07, 7.475676966350875e-09, 6.603928000004089e-07, 3.843112153845141e-06, 3.346431753925572e-08, 2.411975685845391e-07, 1.6647753000142984e-05, 0.9985072016716003, 0.0, 0.0, 0.0, 0.0, 0.0, 0.0, 0.0, 0.0, 0.0, 0.0, 0.0, 0.0, 0.0, 0.0, 0.0], [0.08800844848155975, 0.1892128884792328, 0.045562565326690674, 0.08163288980722427, 0.017358075827360153, 0.004830402322113514, 0.018958790227770805, 0.004620131570845842, 0.06910264492034912, 0.012970469892024994, 0.010343024507164955, 0.05366411805152893, 0.009830270893871784, 0.05797470360994339, 0.011936409398913383, 0.00944663118571043, 0.046623390167951584, 0.07882605493068695, 0.010427412576973438, 0.0020946753211319447, 0.17657595872879028, 0.0, 0.0, 0.0, 0.0, 0.0, 0.0, 0.0, 0.0, 0.0, 0.0, 0.0, 0.0, 0.0, 0.0], [0.015971144661307335, 0.0030620070174336433, 0.00014189477951731533, 0.00078857276821509, 4.29936008004006e-05, 4.131189052714035e-05, 6.306855357252061e-05, 3.5465047858451726e-06, 2.1731215383624658e-05, 1.7860902516986243e-05, 1.0213959285465535e-05, 2.6596329917083494e-05, 3.7855443224543706e-05, 1.3186832802603021e-05, 0.00018817625823430717, 4.963868377672043e-06, 1.808506203815341e-05, 4.864014044869691e-05, 4.463582627067808e-06, 2.48024571192218e-06, 1.2178880751889665e-05, 0.9794788956642151, 0.0, 0.0, 0.0, 0.0, 0.0, 0.0, 0.0, 0.0, 0.0, 0.0, 0.0, 0.0, 0.0], [0.00747224036604166, 0.0003719078085850924, 7.63909483794123e-05, 1.1135924978589173e-05, 3.014877438545227e-05, 1.1014451047230978e-05, 5.4528787586605176e-05, 2.244440111098811e-05, 1.1283870662737172e-05, 2.8587928682100028e-05, 5.6277508519997355e-06, 7.513614400522783e-05, 7.734303653705865e-05, 6.529724942083703e-06, 8.796925612841733e-06, 8.651511052448768e-06, 5.072797284810804e-05, 7.040870059427107e-06, 3.1876450520940125e-05, 1.4034895912118373e-06, 7.003602149779908e-06, 7.040094351395965e-05, 0.9915598034858704, 0.0, 0.0, 0.0, 0.0, 0.0, 0.0, 0.0, 0.0, 0.0, 0.0, 0.0, 0.0], [0.02204543724656105, 0.28049436211586, 0.01667478121817112, 0.00015087146311998367, 0.0006804477889090776, 2.7394153221393935e-05, 0.0008938335813581944, 1.24992102428223e-05, 0.0002665532229002565, 5.584169230132829e-06, 5.109104313305579e-05, 9.500436863163486e-05, 1.8194814401795156e-05, 0.0001828283566283062, 0.0016493602888658643, 2.7935227990383282e-05, 6.991920963628218e-05, 7.677570829400793e-05, 2.0886154743493535e-05, 4.512569375947351e-06, 0.00014541401469614357, 0.00044705040636472404, 5.514789518201724e-05, 0.6759040355682373, 0.0, 0.0, 0.0, 0.0, 0.0, 0.0, 0.0, 0.0, 0.0, 0.0, 0.0], [0.01879948377609253, 0.0019184618722647429, 0.0010523879900574684, 7.228153117466718e-05, 0.00013796627172268927, 5.208820948610082e-05, 6.33438176009804e-05, 9.731966201798059e-06, 8.120811253320426e-05, 5.99839877395425e-05, 9.635984497435857e-06, 4.818717934540473e-05, 4.688356784754433e-05, 5.250575122772716e-05, 0.0004494213208090514, 0.0002893299679271877, 3.537206066539511e-05, 0.00022377951245289296, 0.00020209007197991014, 3.112015747319674e-06, 3.522854967741296e-05, 9.85501246759668e-05, 0.00018101507157552987, 0.00012300803791731596, 0.9759548306465149, 0.0, 0.0, 0.0, 0.0, 0.0, 0.0, 0.0, 0.0, 0.0, 0.0], [0.0016589788720011711, 6.6324769250059035e-06, 3.9323476812569425e-05, 5.51214588995208e-06, 7.328293577302247e-05, 5.176199238121626e-07, 8.362679363926873e-05, 1.611542029422708e-05, 1.8407985180601827e-07, 0.00020032616157550365, 1.849748059612466e-06, 7.683036784555952e-08, 1.8051065126201138e-05, 9.259771616143553e-08, 6.612185188714648e-06, 1.9627882466011215e-06, 5.004856973300775e-08, 6.371125493842555e-08, 4.881649147137068e-07, 3.839154487650376e-06, 1.8601497231429676e-08, 1.6708690964151174e-06, 8.816624585961108e-07, 6.67335555704085e-08, 1.878519810816215e-07, 0.9978796243667603, 0.0, 0.0, 0.0, 0.0, 0.0, 0.0, 0.0, 0.0, 0.0], [0.005040666088461876, 0.00039155586273409426, 0.0005618704599328339, 0.00014523050049319863, 3.937188375857659e-05, 5.409954974311404e-05, 0.000284795300103724, 4.8287405661540106e-05, 3.104319375779596e-06, 6.89627486281097e-05, 0.0002681412152014673, 4.210932729620254e-06, 1.211988455906976e-05, 2.0253971797501436e-06, 3.188779373886064e-05, 1.1356525646988302e-05, 3.0188034543243703e-06, 1.2622905160242226e-05, 7.465576800314011e-06, 3.027807906619273e-06, 4.951120331497805e-07, 3.01545860565966e-05, 1.886378049675841e-05, 4.1512503230478615e-06, 5.0313265091972426e-06, 6.0690836107824e-06, 0.9929414987564087, 0.0, 0.0, 0.0, 0.0, 0.0, 0.0, 0.0, 0.0], [0.0012448671041056514, 0.000176170258782804, 2.4151753677870147e-05, 1.2456679542083293e-05, 5.211313327890821e-05, 2.3546041120425798e-05, 5.673446139553562e-05, 0.00045827688882127404, 2.4983858111227164e-06, 0.00011349430133122951, 4.920247010886669e-05, 1.3444550859276205e-05, 7.735934195807204e-05, 1.343708390777465e-06, 6.060899522708496e-06, 0.00010331773228244856, 8.74549186846707e-06, 1.0811575521074701e-05, 0.00015856373647693545, 1.9056066093980917e-06, 5.418795012701594e-07, 1.2321380609137123e-06, 6.472232780652121e-05, 3.589060497688479e-06, 8.65090169099858e-06, 2.9628040465468075e-06, 1.3278961887408514e-05, 0.9973099231719971, 0.0, 0.0, 0.0, 0.0, 0.0, 0.0, 0.0], [0.001973329810425639, 0.0009750560275278986, 7.218508108053356e-05, 9.848405898083001e-05, 4.960862497682683e-05, 5.434047125163488e-05, 0.0003797204699367285, 6.184627181937685e-06, 1.0831149666046258e-06, 4.491211257118266e-06, 0.00047983546392060816, 9.928648978529964e-07, 1.3564559594669845e-05, 6.477185365838523e-07, 1.0186113286181353e-05, 5.581321602221578e-06, 7.11347752258007e-07, 5.998071515023184e-07, 3.201085064574727e-06, 2.288283894813503e-06, 1.5130828501241922e-07, 7.130754056561273e-06, 1.79379571818572e-06, 2.402572863502428e-05, 2.8331155021987797e-07, 1.2269116268726066e-05, 0.00023325464280787855, 0.00031319609843194485, 0.9952758550643921, 0.0, 0.0, 0.0, 0.0, 0.0, 0.0], [0.030099261552095413, 0.09027376770973206, 0.02814972773194313, 0.1576387882232666, 0.026473544538021088, 0.003006006358191371, 0.017219537869095802, 0.0022446680814027786, 0.031200455501675606, 0.01135172601789236, 0.0013561320956796408, 0.029119182378053665, 0.016773521900177002, 0.02399810403585434, 0.009450535289943218, 0.00628820201382041, 0.023923052474856377, 0.05829627066850662, 0.009904228150844574, 0.00037797351251356304, 0.024595145136117935, 0.040420062839984894, 0.02788674086332321, 0.00982357095927, 0.0499471090734005, 0.001065115095116198, 0.014632527716457844, 0.011246385052800179, 0.0020601542200893164, 0.2411784827709198, 0.0, 0.0, 0.0, 0.0, 0.0], [0.004169424530118704, 0.0006143288919702172, 0.0005938467220403254, 0.0001103623362723738, 9.005518222693354e-05, 1.3705171113542747e-05, 0.0005903497221879661, 2.689233269848046e-06, 8.671501745993737e-06, 4.6116430894471705e-05, 1.0056805876956787e-05, 5.362913725548424e-06, 5.1998504204675555e-05, 4.8024185161921196e-06, 2.1195286535657942e-05, 2.4785071218502708e-05, 3.4400409276713617e-06, 1.8410868506180122e-05, 7.055151218082756e-05, 5.603974955192825e-07, 5.060184321337147e-06, 2.259217217215337e-05, 6.252550520002842e-05, 1.8619364709593356e-05, 0.00014118559192866087, 2.6331110348110087e-05, 1.2610458952622139e-06, 1.0759871429399936e-06, 3.0931974492887093e-07, 5.793060154246632e-06, 0.9932644367218018, 0.0, 0.0, 0.0, 0.0], [0.010566655546426773, 0.0013905889354646206, 0.00043136277236044407, 0.0010295918909832835, 0.003916391171514988, 0.00015029491623863578, 0.001993600046262145, 0.00030443709692917764, 2.9845065000699833e-05, 0.0006592923309653997, 1.265983701159712e-05, 7.527502748416737e-05, 0.0003976769803557545, 1.7276539438171312e-05, 0.00038583489367738366, 2.1061901861685328e-05, 5.3403142374008894e-05, 6.335022044368088e-05, 0.000126884420751594, 6.783195658499608e-06, 2.7170561224920675e-05, 0.00013008965470362455, 3.859859862131998e-05, 4.366650682641193e-05, 8.064091161941178e-06, 0.0007468666881322861, 8.195245754905045e-06, 9.368611063109711e-05, 6.252453658817103e-06, 4.447245373739861e-05, 0.00020698650041595101, 0.9770136475563049, 0.0, 0.0, 0.0], [0.01713147759437561, 0.10981202125549316, 0.04528497904539108, 0.16663996875286102, 0.04683491587638855, 0.012714340351521969, 0.02494184486567974, 0.002460505347698927, 0.016514169052243233, 0.014018183574080467, 0.002804650692269206, 0.01726129837334156, 0.0561913326382637, 0.011843179352581501, 0.02451840601861477, 0.008004873991012573, 0.013582988642156124, 0.027696527540683746, 0.00788148958235979, 0.0013759640278294683, 0.009033636189997196, 0.037479985505342484, 0.01436882559210062, 0.016579672694206238, 0.031486257910728455, 0.0022351096849888563, 0.007032561581581831, 0.02033880725502968, 0.0021573659032583237, 0.01573573797941208, 0.035292547196149826, 0.017794998362660408, 0.16295139491558075, 0.0, 0.0], [0.0027362387627363205, 0.0032704449258744717, 0.0002493853971827775, 2.952113572973758e-05, 0.0027190791442990303, 1.568083098391071e-05, 0.0011440077796578407, 3.5285567719256505e-05, 1.9352088202140294e-05, 3.620967618189752e-05, 1.2202230209368281e-05, 0.00012145649816375226, 4.955609256285243e-05, 1.1851500858028885e-05, 8.82663152879104e-05, 3.184522211086005e-05, 8.618924039183185e-05, 0.0001305781042901799, 9.267554560210556e-05, 1.844454527599737e-05, 4.454887402971508e-06, 1.4211034795152955e-05, 0.0002081980783259496, 6.224944809218869e-05, 2.7290012440062128e-05, 8.52709672471974e-06, 0.0010931715369224548, 0.0010258991969749331, 1.8266431652591564e-05, 9.816331839829218e-06, 7.599973059768672e-07, 4.15181375501561e-06, 8.365900612261612e-06, 0.9866164922714233, 0.0], [0.01330176554620266, 0.0020241783931851387, 0.0009810642804950476, 0.00027103954926133156, 0.02624255046248436, 6.968410161789507e-05, 0.00018824632570613176, 0.0003323276177980006, 0.00020717488951049745, 0.0003558362368494272, 1.8688786440179683e-05, 0.0003101633337792009, 0.0002884422428905964, 0.00014157569967210293, 0.00021018930419813842, 0.00013730116188526154, 0.0002454254135955125, 0.0005858635413460433, 0.0008409079746343195, 0.00037898425944149494, 0.00011255504796281457, 0.0009485278860665858, 0.0002581723383627832, 0.0005371632287278771, 0.00023706436331849545, 9.896158007904887e-05, 1.4541826203640085e-05, 7.51436164136976e-05, 1.0142443898075726e-05, 7.690770144108683e-05, 6.643282540608197e-05, 5.4460051615023986e-05, 0.0001078200075426139, 0.002189122373238206, 0.9480817317962646]], [[1.0, 0.0, 0.0, 0.0, 0.0, 0.0, 0.0, 0.0, 0.0, 0.0, 0.0, 0.0, 0.0, 0.0, 0.0, 0.0, 0.0, 0.0, 0.0, 0.0, 0.0, 0.0, 0.0, 0.0, 0.0, 0.0, 0.0, 0.0, 0.0, 0.0, 0.0, 0.0, 0.0, 0.0, 0.0], [0.9360752105712891, 0.06392484903335571, 0.0, 0.0, 0.0, 0.0, 0.0, 0.0, 0.0, 0.0, 0.0, 0.0, 0.0, 0.0, 0.0, 0.0, 0.0, 0.0, 0.0, 0.0, 0.0, 0.0, 0.0, 0.0, 0.0, 0.0, 0.0, 0.0, 0.0, 0.0, 0.0, 0.0, 0.0, 0.0, 0.0], [0.8446658253669739, 0.06946855783462524, 0.0858655795454979, 0.0, 0.0, 0.0, 0.0, 0.0, 0.0, 0.0, 0.0, 0.0, 0.0, 0.0, 0.0, 0.0, 0.0, 0.0, 0.0, 0.0, 0.0, 0.0, 0.0, 0.0, 0.0, 0.0, 0.0, 0.0, 0.0, 0.0, 0.0, 0.0, 0.0, 0.0, 0.0], [0.6426600217819214, 0.1298869103193283, 0.17117179930210114, 0.056281283497810364, 0.0, 0.0, 0.0, 0.0, 0.0, 0.0, 0.0, 0.0, 0.0, 0.0, 0.0, 0.0, 0.0, 0.0, 0.0, 0.0, 0.0, 0.0, 0.0, 0.0, 0.0, 0.0, 0.0, 0.0, 0.0, 0.0, 0.0, 0.0, 0.0, 0.0, 0.0], [0.5074959397315979, 0.0778627097606659, 0.0726853534579277, 0.10711850970983505, 0.23483750224113464, 0.0, 0.0, 0.0, 0.0, 0.0, 0.0, 0.0, 0.0, 0.0, 0.0, 0.0, 0.0, 0.0, 0.0, 0.0, 0.0, 0.0, 0.0, 0.0, 0.0, 0.0, 0.0, 0.0, 0.0, 0.0, 0.0, 0.0, 0.0, 0.0, 0.0], [0.49707546830177307, 0.06315260380506516, 0.1155911535024643, 0.08851402997970581, 0.10196362435817719, 0.13370315730571747, 0.0, 0.0, 0.0, 0.0, 0.0, 0.0, 0.0, 0.0, 0.0, 0.0, 0.0, 0.0, 0.0, 0.0, 0.0, 0.0, 0.0, 0.0, 0.0, 0.0, 0.0, 0.0, 0.0, 0.0, 0.0, 0.0, 0.0, 0.0, 0.0], [0.30812814831733704, 0.06775972992181778, 0.13057540357112885, 0.054409369826316833, 0.04050320386886597, 0.36059141159057617, 0.03803272172808647, 0.0, 0.0, 0.0, 0.0, 0.0, 0.0, 0.0, 0.0, 0.0, 0.0, 0.0, 0.0, 0.0, 0.0, 0.0, 0.0, 0.0, 0.0, 0.0, 0.0, 0.0, 0.0, 0.0, 0.0, 0.0, 0.0, 0.0, 0.0], [0.32434970140457153, 0.0634969100356102, 0.07783646881580353, 0.07798173278570175, 0.07410474866628647, 0.13590551912784576, 0.07038860023021698, 0.1759362816810608, 0.0, 0.0, 0.0, 0.0, 0.0, 0.0, 0.0, 0.0, 0.0, 0.0, 0.0, 0.0, 0.0, 0.0, 0.0, 0.0, 0.0, 0.0, 0.0, 0.0, 0.0, 0.0, 0.0, 0.0, 0.0, 0.0, 0.0], [0.16412915289402008, 0.03469286113977432, 0.051312606781721115, 0.013316989876329899, 0.17712706327438354, 0.1595189869403839, 0.09812308102846146, 0.29690471291542053, 0.004874553997069597, 0.0, 0.0, 0.0, 0.0, 0.0, 0.0, 0.0, 0.0, 0.0, 0.0, 0.0, 0.0, 0.0, 0.0, 0.0, 0.0, 0.0, 0.0, 0.0, 0.0, 0.0, 0.0, 0.0, 0.0, 0.0, 0.0], [0.18775460124015808, 0.054880447685718536, 0.10758274048566818, 0.043910037726163864, 0.14065434038639069, 0.11696726828813553, 0.05246002972126007, 0.1536640077829361, 0.04935269057750702, 0.09277380257844925, 0.0, 0.0, 0.0, 0.0, 0.0, 0.0, 0.0, 0.0, 0.0, 0.0, 0.0, 0.0, 0.0, 0.0, 0.0, 0.0, 0.0, 0.0, 0.0, 0.0, 0.0, 0.0, 0.0, 0.0, 0.0], [0.2051711529493332, 0.04006879776716232, 0.08339216560125351, 0.045652780681848526, 0.05697013437747955, 0.13319888710975647, 0.02641640044748783, 0.09950853884220123, 0.050134606659412384, 0.21417365968227386, 0.04531293734908104, 0.0, 0.0, 0.0, 0.0, 0.0, 0.0, 0.0, 0.0, 0.0, 0.0, 0.0, 0.0, 0.0, 0.0, 0.0, 0.0, 0.0, 0.0, 0.0, 0.0, 0.0, 0.0, 0.0, 0.0], [0.10754456371068954, 0.020955456420779228, 0.05246848613023758, 0.008330845274031162, 0.179975226521492, 0.10652031004428864, 0.07210806012153625, 0.20191136002540588, 0.0033460473641753197, 0.14021332561969757, 0.10356737673282623, 0.0030589608941227198, 0.0, 0.0, 0.0, 0.0, 0.0, 0.0, 0.0, 0.0, 0.0, 0.0, 0.0, 0.0, 0.0, 0.0, 0.0, 0.0, 0.0, 0.0, 0.0, 0.0, 0.0, 0.0, 0.0], [0.09423351287841797, 0.02283540740609169, 0.05558854341506958, 0.026967843994498253, 0.12799423933029175, 0.07631108909845352, 0.07361149042844772, 0.16634683310985565, 0.03019636496901512, 0.11622445285320282, 0.13079151511192322, 0.02243354357779026, 0.05646511912345886, 0.0, 0.0, 0.0, 0.0, 0.0, 0.0, 0.0, 0.0, 0.0, 0.0, 0.0, 0.0, 0.0, 0.0, 0.0, 0.0, 0.0, 0.0, 0.0, 0.0, 0.0, 0.0], [0.11027710884809494, 0.019917311146855354, 0.03387211635708809, 0.008012223057448864, 0.1268695592880249, 0.12052717059850693, 0.06604591012001038, 0.211595818400383, 0.0029103802517056465, 0.13361383974552155, 0.07830419391393661, 0.0059656682424247265, 0.0786396935582161, 0.003449014388024807, 0.0, 0.0, 0.0, 0.0, 0.0, 0.0, 0.0, 0.0, 0.0, 0.0, 0.0, 0.0, 0.0, 0.0, 0.0, 0.0, 0.0, 0.0, 0.0, 0.0, 0.0], [0.1600770652294159, 0.054521165788173676, 0.05973626300692558, 0.020207520574331284, 0.05266042426228523, 0.10011064261198044, 0.1172926053404808, 0.14998748898506165, 0.017248373478651047, 0.05625281482934952, 0.09442036598920822, 0.01204691082239151, 0.020297691226005554, 0.018244558945298195, 0.06689620763063431, 0.0, 0.0, 0.0, 0.0, 0.0, 0.0, 0.0, 0.0, 0.0, 0.0, 0.0, 0.0, 0.0, 0.0, 0.0, 0.0, 0.0, 0.0, 0.0, 0.0], [0.17850056290626526, 0.04271138831973076, 0.05876285210251808, 0.02550153061747551, 0.02821972966194153, 0.0939594954252243, 0.03569771721959114, 0.03853301331400871, 0.027574116364121437, 0.12417211383581161, 0.09900189936161041, 0.029919547960162163, 0.04168913513422012, 0.030038559809327126, 0.08029219508171082, 0.06542611867189407, 0.0, 0.0, 0.0, 0.0, 0.0, 0.0, 0.0, 0.0, 0.0, 0.0, 0.0, 0.0, 0.0, 0.0, 0.0, 0.0, 0.0, 0.0, 0.0], [0.0826260969042778, 0.014221645891666412, 0.03910333663225174, 0.005809778813272715, 0.14161062240600586, 0.08671097457408905, 0.05503495782613754, 0.15626992285251617, 0.002328180707991123, 0.11679327487945557, 0.08067945390939713, 0.00219179829582572, 0.09792864322662354, 0.0027368676383048296, 0.03297453001141548, 0.08037839829921722, 0.0026014959439635277, 0.0, 0.0, 0.0, 0.0, 0.0, 0.0, 0.0, 0.0, 0.0, 0.0, 0.0, 0.0, 0.0, 0.0, 0.0, 0.0, 0.0, 0.0], [0.09858329594135284, 0.0283206794410944, 0.05263178423047066, 0.017858652397990227, 0.061636604368686676, 0.08070764690637589, 0.07397954165935516, 0.09560462832450867, 0.009335820563137531, 0.08467232435941696, 0.11269152909517288, 0.018467871472239494, 0.03856263309717178, 0.011051506735384464, 0.06964195519685745, 0.09237808734178543, 0.02256043441593647, 0.03131495416164398, 0.0, 0.0, 0.0, 0.0, 0.0, 0.0, 0.0, 0.0, 0.0, 0.0, 0.0, 0.0, 0.0, 0.0, 0.0, 0.0, 0.0], [0.14957916736602783, 0.013048059307038784, 0.03394851088523865, 0.015061769634485245, 0.04509884491562843, 0.08479967713356018, 0.027256976813077927, 0.17206282913684845, 0.01685032621026039, 0.10883240401744843, 0.11793850362300873, 0.00832325592637062, 0.016134321689605713, 0.0177264753729105, 0.026173412799835205, 0.051890864968299866, 0.008976073935627937, 0.010605725459754467, 0.07569277286529541, 0.0, 0.0, 0.0, 0.0, 0.0, 0.0, 0.0, 0.0, 0.0, 0.0, 0.0, 0.0, 0.0, 0.0, 0.0, 0.0], [0.23039723932743073, 0.024296825751662254, 0.02655996009707451, 0.03924619033932686, 0.04230225086212158, 0.04924340546131134, 0.007979442365467548, 0.07322091609239578, 0.03455187380313873, 0.06601926684379578, 0.03830169513821602, 0.036723218858242035, 0.024140121415257454, 0.03710527718067169, 0.02855713851749897, 0.05446396395564079, 0.039015062153339386, 0.01594439148902893, 0.046100083738565445, 0.0858316719532013, 0.0, 0.0, 0.0, 0.0, 0.0, 0.0, 0.0, 0.0, 0.0, 0.0, 0.0, 0.0, 0.0, 0.0, 0.0], [0.056916624307632446, 0.006225024815648794, 0.011754417791962624, 0.0035496768541634083, 0.07110720127820969, 0.08006574213504791, 0.022162357345223427, 0.11016805469989777, 0.0010484933154657483, 0.0812220349907875, 0.026672029867768288, 0.002196080982685089, 0.03059852495789528, 0.0012014054227620363, 0.014937758445739746, 0.14736878871917725, 0.002626752248033881, 0.03338917717337608, 0.1104901060461998, 0.18504448235034943, 0.0012552273692563176, 0.0, 0.0, 0.0, 0.0, 0.0, 0.0, 0.0, 0.0, 0.0, 0.0, 0.0, 0.0, 0.0, 0.0], [0.09241703152656555, 0.026059620082378387, 0.024830596521496773, 0.01475397776812315, 0.07309962809085846, 0.04160081222653389, 0.02818295918405056, 0.10522368550300598, 0.01020056288689375, 0.026716871187090874, 0.03863626345992088, 0.008342118933796883, 0.034165363758802414, 0.011011878959834576, 0.02702195942401886, 0.10600950568914413, 0.009498472325503826, 0.016123084351420403, 0.06257016956806183, 0.19003155827522278, 0.010448912158608437, 0.04305501654744148, 0.0, 0.0, 0.0, 0.0, 0.0, 0.0, 0.0, 0.0, 0.0, 0.0, 0.0, 0.0, 0.0], [0.061736539006233215, 0.007029626052826643, 0.01948661357164383, 0.01036682166159153, 0.04601287469267845, 0.07236860692501068, 0.022752372547984123, 0.08978492766618729, 0.005041904281824827, 0.07019016891717911, 0.07947874814271927, 0.006475393660366535, 0.0383506640791893, 0.005680920090526342, 0.015840986743569374, 0.053441066294908524, 0.007524981629103422, 0.018862152472138405, 0.09784607589244843, 0.19087880849838257, 0.006985302548855543, 0.027727801352739334, 0.046136610209941864, 0.0, 0.0, 0.0, 0.0, 0.0, 0.0, 0.0, 0.0, 0.0, 0.0, 0.0, 0.0], [0.04349843040108681, 0.006029142066836357, 0.01627180725336075, 0.004962891340255737, 0.09232774376869202, 0.05643607676029205, 0.02427319996058941, 0.10004423558712006, 0.0013475855812430382, 0.046952687203884125, 0.04336998611688614, 0.002612093696370721, 0.02598002552986145, 0.001536774798296392, 0.013811733573675156, 0.12162510305643082, 0.00308405514806509, 0.014781145378947258, 0.08252861350774765, 0.20843428373336792, 0.0021058102138340473, 0.03356640785932541, 0.049921296536922455, 0.004498822148889303, 0.0, 0.0, 0.0, 0.0, 0.0, 0.0, 0.0, 0.0, 0.0, 0.0, 0.0], [0.05493931844830513, 0.005164696369320154, 0.013282534666359425, 0.006816807668656111, 0.08581956475973129, 0.04258371517062187, 0.010111804120242596, 0.10901320725679398, 0.003067042212933302, 0.041951462626457214, 0.03668752685189247, 0.0038776027504354715, 0.036396291106939316, 0.003642825409770012, 0.01571308821439743, 0.04514279216527939, 0.0047706314362585545, 0.010733417235314846, 0.12949080765247345, 0.18343371152877808, 0.0057639130391180515, 0.06008812040090561, 0.06420368701219559, 0.00847991555929184, 0.018825512379407883, 0.0, 0.0, 0.0, 0.0, 0.0, 0.0, 0.0, 0.0, 0.0, 0.0], [0.11619281023740768, 0.024008197709918022, 0.017500849440693855, 0.02279529720544815, 0.05027652904391289, 0.03202549368143082, 0.020647753030061722, 0.039747413247823715, 0.023735979571938515, 0.02667790651321411, 0.018856428563594818, 0.02817135863006115, 0.03460882976651192, 0.026643715798854828, 0.02276807464659214, 0.023577356711030006, 0.031199190765619278, 0.022620445117354393, 0.09706810116767883, 0.06436185538768768, 0.032514315098524094, 0.04557201266288757, 0.04268260300159454, 0.028252851217985153, 0.025809550657868385, 0.0816851258277893, 0.0, 0.0, 0.0, 0.0, 0.0, 0.0, 0.0, 0.0, 0.0], [0.11220822483301163, 0.005275931674987078, 0.013701368123292923, 0.006475639529526234, 0.058257490396499634, 0.0559183731675148, 0.013027261942625046, 0.10451263189315796, 0.004013673402369022, 0.04011368006467819, 0.0378723070025444, 0.0031745294108986855, 0.012130003422498703, 0.004096257966011763, 0.007334525231271982, 0.01773282140493393, 0.003475235076621175, 0.0030595562420785427, 0.0948338657617569, 0.20002642273902893, 0.005673966370522976, 0.016374550759792328, 0.017230233177542686, 0.004368433728814125, 0.00930806715041399, 0.09713461995124817, 0.052670370787382126, 0.0, 0.0, 0.0, 0.0, 0.0, 0.0, 0.0, 0.0], [0.06115270033478737, 0.004939326085150242, 0.009762825444340706, 0.005227162968367338, 0.03646274656057358, 0.031370535492897034, 0.008218895643949509, 0.11535757035017014, 0.003272867063060403, 0.03824919834733009, 0.033371761441230774, 0.0021793784108012915, 0.007692958693951368, 0.0034548097755759954, 0.009085439145565033, 0.02790050581097603, 0.0023665940389037132, 0.003948243800550699, 0.0407714806497097, 0.2757468819618225, 0.003546666819602251, 0.012455110438168049, 0.03261313959956169, 0.003209818387404084, 0.0036030923947691917, 0.1000961884856224, 0.08892866969108582, 0.03501542657613754, 0.0, 0.0, 0.0, 0.0, 0.0, 0.0, 0.0], [0.11957033723592758, 0.008050517179071903, 0.013377291150391102, 0.007089267484843731, 0.025275398045778275, 0.05149082839488983, 0.006585440598428249, 0.06165982037782669, 0.005620484706014395, 0.055614884942770004, 0.027291802689433098, 0.004286487121134996, 0.0076984320767223835, 0.005996249616146088, 0.007942017167806625, 0.028790514916181564, 0.004870963748544455, 0.004313759971410036, 0.02622806653380394, 0.15385547280311584, 0.01070996094495058, 0.009564646519720554, 0.02917839027941227, 0.005329277366399765, 0.00805151741951704, 0.07812706381082535, 0.10984011739492416, 0.029521044343709946, 0.09406992793083191, 0.0, 0.0, 0.0, 0.0, 0.0, 0.0], [0.025880735367536545, 0.0032868762500584126, 0.009190608747303486, 0.0022713157813996077, 0.04206255450844765, 0.040355607867240906, 0.01510708313435316, 0.0480133481323719, 0.0008096100646071136, 0.039064228534698486, 0.026566797867417336, 0.001520446385256946, 0.02122015506029129, 0.0009539542370475829, 0.0078103686682879925, 0.033135153353214264, 0.0018792508635669947, 0.010119681246578693, 0.06751003861427307, 0.12262913584709167, 0.0015832222998142242, 0.02216804027557373, 0.03078521601855755, 0.004318809602409601, 0.01872900314629078, 0.1447751224040985, 0.06957438588142395, 0.11388751119375229, 0.07182328402996063, 0.002968475455418229, 0.0, 0.0, 0.0, 0.0, 0.0], [0.04612509906291962, 0.004929372575134039, 0.01190501730889082, 0.005939910653978586, 0.05086231976747513, 0.03915585204958916, 0.011702247895300388, 0.07777238637208939, 0.002722491743043065, 0.029330722987651825, 0.03543661907315254, 0.0025086570531129837, 0.011883244849741459, 0.002963855629786849, 0.008878660388290882, 0.018936675041913986, 0.0028045859653502703, 0.004066930152475834, 0.06637166440486908, 0.16173599660396576, 0.0040747420862317085, 0.0174179058521986, 0.04845814406871796, 0.0054898508824408054, 0.014467379078269005, 0.08884268999099731, 0.05744140222668648, 0.048157576471567154, 0.09182097017765045, 0.004751021042466164, 0.023045992478728294, 0.0, 0.0, 0.0, 0.0], [0.02861652337014675, 0.0035397156607359648, 0.012825747951865196, 0.003731101518496871, 0.022132830694317818, 0.026339074596762657, 0.015483642928302288, 0.04692447558045387, 0.0016770174261182547, 0.053430888801813126, 0.03818725422024727, 0.002529487945139408, 0.027682239189743996, 0.001944716670550406, 0.010427958332002163, 0.020306400954723358, 0.003083115443587303, 0.008337554521858692, 0.06147446110844612, 0.05695469677448273, 0.0030909168999642134, 0.019787296652793884, 0.0377042219042778, 0.004031909629702568, 0.020770881325006485, 0.12126165628433228, 0.08733709156513214, 0.07036235183477402, 0.09933114051818848, 0.005798673257231712, 0.06381496787071228, 0.02107994630932808, 0.0, 0.0, 0.0], [0.02276923507452011, 0.0023638170678168535, 0.006953612435609102, 0.000974514870904386, 0.0334312878549099, 0.030963117256760597, 0.012881078757345676, 0.0763968750834465, 0.0002621038584038615, 0.030449924990534782, 0.03674256056547165, 0.0005670601967722178, 0.014569045044481754, 0.00030553285614587367, 0.00594836100935936, 0.022492563351988792, 0.0007025576778687537, 0.004866448231041431, 0.060261864215135574, 0.15585914254188538, 0.0005001769750379026, 0.019988080486655235, 0.030868496745824814, 0.00312815117649734, 0.012151171453297138, 0.11994653195142746, 0.07597392052412033, 0.09628812223672867, 0.07584252953529358, 0.0010643763234838843, 0.032713308930397034, 0.011111119762063026, 0.0006633001612499356, 0.0, 0.0], [0.06755811721086502, 0.0033527943305671215, 0.008972210809588432, 0.0034025395289063454, 0.056073058396577835, 0.030404703691601753, 0.013628300279378891, 0.07952422648668289, 0.0025889393873512745, 0.03472938761115074, 0.015315971337258816, 0.0025271004997193813, 0.007685469929128885, 0.002692825859412551, 0.007112995255738497, 0.026128459721803665, 0.002773368265479803, 0.007069503888487816, 0.050762053579092026, 0.1759389340877533, 0.003935440443456173, 0.010542859323322773, 0.012697340920567513, 0.002831441117450595, 0.004983493592590094, 0.056103698909282684, 0.10278662294149399, 0.0786440297961235, 0.06361378729343414, 0.0042906454764306545, 0.012449050322175026, 0.007846910506486893, 0.0035741638857871294, 0.03745955973863602, 0.0], [0.05889427289366722, 0.004834291059523821, 0.008816235698759556, 0.004917601589113474, 0.057244494557380676, 0.04719965159893036, 0.010384360328316689, 0.04373680800199509, 0.0032532138284295797, 0.027000514790415764, 0.015385990031063557, 0.005444501060992479, 0.018304411321878433, 0.0036100572906434536, 0.011856133118271828, 0.07255370169878006, 0.006018079351633787, 0.006411908660084009, 0.05586155876517296, 0.08374673873186111, 0.003973669372498989, 0.01859060674905777, 0.01944512128829956, 0.003880677279084921, 0.008932654745876789, 0.12242711335420609, 0.0409863218665123, 0.0742977038025856, 0.057745546102523804, 0.006318635307252407, 0.01308412291109562, 0.02306581288576126, 0.005796522833406925, 0.04094134643673897, 0.015039595775306225]], [[1.0, 0.0, 0.0, 0.0, 0.0, 0.0, 0.0, 0.0, 0.0, 0.0, 0.0, 0.0, 0.0, 0.0, 0.0, 0.0, 0.0, 0.0, 0.0, 0.0, 0.0, 0.0, 0.0, 0.0, 0.0, 0.0, 0.0, 0.0, 0.0, 0.0, 0.0, 0.0, 0.0, 0.0, 0.0], [0.9780336022377014, 0.021966347470879555, 0.0, 0.0, 0.0, 0.0, 0.0, 0.0, 0.0, 0.0, 0.0, 0.0, 0.0, 0.0, 0.0, 0.0, 0.0, 0.0, 0.0, 0.0, 0.0, 0.0, 0.0, 0.0, 0.0, 0.0, 0.0, 0.0, 0.0, 0.0, 0.0, 0.0, 0.0, 0.0, 0.0], [0.5068985223770142, 0.4279148280620575, 0.06518661975860596, 0.0, 0.0, 0.0, 0.0, 0.0, 0.0, 0.0, 0.0, 0.0, 0.0, 0.0, 0.0, 0.0, 0.0, 0.0, 0.0, 0.0, 0.0, 0.0, 0.0, 0.0, 0.0, 0.0, 0.0, 0.0, 0.0, 0.0, 0.0, 0.0, 0.0, 0.0, 0.0], [0.34595048427581787, 0.23385104537010193, 0.19138799607753754, 0.22881047427654266, 0.0, 0.0, 0.0, 0.0, 0.0, 0.0, 0.0, 0.0, 0.0, 0.0, 0.0, 0.0, 0.0, 0.0, 0.0, 0.0, 0.0, 0.0, 0.0, 0.0, 0.0, 0.0, 0.0, 0.0, 0.0, 0.0, 0.0, 0.0, 0.0, 0.0, 0.0], [0.278596967458725, 0.17525729537010193, 0.11037099361419678, 0.25180956721305847, 0.18396516144275665, 0.0, 0.0, 0.0, 0.0, 0.0, 0.0, 0.0, 0.0, 0.0, 0.0, 0.0, 0.0, 0.0, 0.0, 0.0, 0.0, 0.0, 0.0, 0.0, 0.0, 0.0, 0.0, 0.0, 0.0, 0.0, 0.0, 0.0, 0.0, 0.0, 0.0], [0.20804201066493988, 0.08827144652605057, 0.061608169227838516, 0.2584841251373291, 0.270569771528244, 0.11302443593740463, 0.0, 0.0, 0.0, 0.0, 0.0, 0.0, 0.0, 0.0, 0.0, 0.0, 0.0, 0.0, 0.0, 0.0, 0.0, 0.0, 0.0, 0.0, 0.0, 0.0, 0.0, 0.0, 0.0, 0.0, 0.0, 0.0, 0.0, 0.0, 0.0], [0.1632562130689621, 0.12141191959381104, 0.11990711092948914, 0.16166459023952484, 0.10774070769548416, 0.2975034713745117, 0.028515949845314026, 0.0, 0.0, 0.0, 0.0, 0.0, 0.0, 0.0, 0.0, 0.0, 0.0, 0.0, 0.0, 0.0, 0.0, 0.0, 0.0, 0.0, 0.0, 0.0, 0.0, 0.0, 0.0, 0.0, 0.0, 0.0, 0.0, 0.0, 0.0], [0.12280935794115067, 0.03978986293077469, 0.04514545202255249, 0.13578499853610992, 0.09269554167985916, 0.11808711290359497, 0.3369847536087036, 0.10870295017957687, 0.0, 0.0, 0.0, 0.0, 0.0, 0.0, 0.0, 0.0, 0.0, 0.0, 0.0, 0.0, 0.0, 0.0, 0.0, 0.0, 0.0, 0.0, 0.0, 0.0, 0.0, 0.0, 0.0, 0.0, 0.0, 0.0, 0.0], [0.07854471355676651, 0.0357038639485836, 0.029105354100465775, 0.052009038627147675, 0.10322188585996628, 0.06222518905997276, 0.06801235675811768, 0.17029160261154175, 0.40088605880737305, 0.0, 0.0, 0.0, 0.0, 0.0, 0.0, 0.0, 0.0, 0.0, 0.0, 0.0, 0.0, 0.0, 0.0, 0.0, 0.0, 0.0, 0.0, 0.0, 0.0, 0.0, 0.0, 0.0, 0.0, 0.0, 0.0], [0.0855533629655838, 0.04508214816451073, 0.020755307748913765, 0.057487912476062775, 0.05853373557329178, 0.03812539204955101, 0.03164026513695717, 0.14470814168453217, 0.3939674198627472, 0.12414630502462387, 0.0, 0.0, 0.0, 0.0, 0.0, 0.0, 0.0, 0.0, 0.0, 0.0, 0.0, 0.0, 0.0, 0.0, 0.0, 0.0, 0.0, 0.0, 0.0, 0.0, 0.0, 0.0, 0.0, 0.0, 0.0], [0.03400758281350136, 0.005801304243505001, 0.00426435936242342, 0.014554583467543125, 0.0020581241697072983, 0.010052239522337914, 0.015462437644600868, 0.014919930137693882, 0.07456017285585403, 0.8029415607452393, 0.021377814933657646, 0.0, 0.0, 0.0, 0.0, 0.0, 0.0, 0.0, 0.0, 0.0, 0.0, 0.0, 0.0, 0.0, 0.0, 0.0, 0.0, 0.0, 0.0, 0.0, 0.0, 0.0, 0.0, 0.0, 0.0], [0.03658132255077362, 0.00855263415724039, 0.009085925295948982, 0.01071859523653984, 0.031510528177022934, 0.07786069810390472, 0.02809949219226837, 0.052033863961696625, 0.09175646305084229, 0.24980780482292175, 0.22384576499462128, 0.1801469326019287, 0.0, 0.0, 0.0, 0.0, 0.0, 0.0, 0.0, 0.0, 0.0, 0.0, 0.0, 0.0, 0.0, 0.0, 0.0, 0.0, 0.0, 0.0, 0.0, 0.0, 0.0, 0.0, 0.0], [0.03899509832262993, 0.013953054323792458, 0.027150368317961693, 0.015978636220097542, 0.00606886949390173, 0.015332895331084728, 0.007358455564826727, 0.008143596351146698, 0.09236105531454086, 0.09582369774580002, 0.39708948135375977, 0.22508281469345093, 0.05666201561689377, 0.0, 0.0, 0.0, 0.0, 0.0, 0.0, 0.0, 0.0, 0.0, 0.0, 0.0, 0.0, 0.0, 0.0, 0.0, 0.0, 0.0, 0.0, 0.0, 0.0, 0.0, 0.0], [0.029417643323540688, 0.006853978615254164, 0.005433522164821625, 0.008306872099637985, 0.015738263726234436, 0.008708890527486801, 0.008349092677235603, 0.023920072242617607, 0.04694680869579315, 0.04814498871564865, 0.09309996664524078, 0.15290862321853638, 0.1485416740179062, 0.4036296010017395, 0.0, 0.0, 0.0, 0.0, 0.0, 0.0, 0.0, 0.0, 0.0, 0.0, 0.0, 0.0, 0.0, 0.0, 0.0, 0.0, 0.0, 0.0, 0.0, 0.0, 0.0], [0.037128280848264694, 0.007584472186863422, 0.0035451471339911222, 0.00811796449124813, 0.018834179267287254, 0.0059049795381724834, 0.009632588364183903, 0.011076653376221657, 0.042499423027038574, 0.015083970502018929, 0.019843479618430138, 0.11177279055118561, 0.12816859781742096, 0.3331785798072815, 0.2476288378238678, 0.0, 0.0, 0.0, 0.0, 0.0, 0.0, 0.0, 0.0, 0.0, 0.0, 0.0, 0.0, 0.0, 0.0, 0.0, 0.0, 0.0, 0.0, 0.0, 0.0], [0.02479150891304016, 0.002257242798805237, 0.0019112317822873592, 0.003149649826809764, 0.0017746692756190896, 0.0030808630399405956, 0.01988072320818901, 0.00642710505053401, 0.015317482873797417, 0.003226611530408263, 0.020296070724725723, 0.05772733688354492, 0.022555241361260414, 0.08885952830314636, 0.7141122221946716, 0.014632449485361576, 0.0, 0.0, 0.0, 0.0, 0.0, 0.0, 0.0, 0.0, 0.0, 0.0, 0.0, 0.0, 0.0, 0.0, 0.0, 0.0, 0.0, 0.0, 0.0], [0.019352801144123077, 0.002735719783231616, 0.0027006471063941717, 0.0028164007235318422, 0.0073006171733140945, 0.016268711537122726, 0.00513469846919179, 0.010258644819259644, 0.013791467063128948, 0.03380442410707474, 0.033944856375455856, 0.024110423400998116, 0.05347486585378647, 0.09691005945205688, 0.276188462972641, 0.22190360724925995, 0.1793036311864853, 0.0, 0.0, 0.0, 0.0, 0.0, 0.0, 0.0, 0.0, 0.0, 0.0, 0.0, 0.0, 0.0, 0.0, 0.0, 0.0, 0.0, 0.0], [0.01677829958498478, 0.0013836650177836418, 0.0012504438636824489, 0.0019532653968781233, 0.001228310982696712, 0.003427051240578294, 0.0017710210522636771, 0.0025876855943351984, 0.009956534951925278, 0.007537429686635733, 0.004963131155818701, 0.023668859153985977, 0.01745665818452835, 0.06967750936746597, 0.26127684116363525, 0.24082417786121368, 0.1767791360616684, 0.15747995674610138, 0.0, 0.0, 0.0, 0.0, 0.0, 0.0, 0.0, 0.0, 0.0, 0.0, 0.0, 0.0, 0.0, 0.0, 0.0, 0.0, 0.0], [0.054750390350818634, 0.009201946668326855, 0.0037833000533282757, 0.0068918801844120026, 0.007006870117038488, 0.005267785396426916, 0.00191358698066324, 0.00664901128038764, 0.022490739822387695, 0.0072036972269415855, 0.03985985741019249, 0.026306968182325363, 0.0359838604927063, 0.10654614120721817, 0.1474279761314392, 0.029531918466091156, 0.1483415961265564, 0.23425285518169403, 0.10658959299325943, 0.0, 0.0, 0.0, 0.0, 0.0, 0.0, 0.0, 0.0, 0.0, 0.0, 0.0, 0.0, 0.0, 0.0, 0.0, 0.0], [0.08004879206418991, 0.0035627479664981365, 0.0033941471483558416, 0.01128556951880455, 0.01220858097076416, 0.001943495706655085, 0.003920828457921743, 0.02411663345992565, 0.02334996871650219, 0.008975887671113014, 0.005343953613191843, 0.025336051359772682, 0.013870199210941792, 0.10103639960289001, 0.039738185703754425, 0.08061376214027405, 0.12086465209722519, 0.12294691801071167, 0.14132514595985413, 0.1761181354522705, 0.0, 0.0, 0.0, 0.0, 0.0, 0.0, 0.0, 0.0, 0.0, 0.0, 0.0, 0.0, 0.0, 0.0, 0.0], [0.013053358532488346, 0.00197956757619977, 0.001618212671019137, 0.0014078514650464058, 0.001486824476160109, 0.0013099175412207842, 0.0016642959089949727, 0.0025665191933512688, 0.0030626694206148386, 0.01034057792276144, 0.007755248341709375, 0.008929412811994553, 0.0088695352897048, 0.017165157943964005, 0.07265804708003998, 0.08664456754922867, 0.06223944574594498, 0.16528470814228058, 0.07255078852176666, 0.09155549108982086, 0.3678578734397888, 0.0, 0.0, 0.0, 0.0, 0.0, 0.0, 0.0, 0.0, 0.0, 0.0, 0.0, 0.0, 0.0, 0.0], [0.012316009029746056, 0.0011592372320592403, 0.0007622397970408201, 0.0019507495453581214, 0.001271851477213204, 0.0006892288220115006, 0.0005458991508930922, 0.0026030021253973246, 0.0039176675491034985, 0.0005409364821389318, 0.0012741908431053162, 0.006503162439912558, 0.005551593843847513, 0.017973454669117928, 0.01335334312170744, 0.03805125504732132, 0.04303395375609398, 0.03958655893802643, 0.022300677374005318, 0.038983624428510666, 0.5949541926383972, 0.15267717838287354, 0.0, 0.0, 0.0, 0.0, 0.0, 0.0, 0.0, 0.0, 0.0, 0.0, 0.0, 0.0, 0.0], [0.013724981807172298, 0.0016125725815072656, 0.00032898722565732896, 0.0010084304958581924, 0.001175805926322937, 0.0007259283447638154, 0.000591876043472439, 0.0009615602903068066, 0.0031186211854219437, 0.005970005877315998, 0.003033465938642621, 0.0033445002045482397, 0.008407551795244217, 0.013658517971634865, 0.005607028026133776, 0.005321721080690622, 0.01928994245827198, 0.02910967357456684, 0.013599619269371033, 0.031337764114141464, 0.25137239694595337, 0.5305222272872925, 0.056176893413066864, 0.0, 0.0, 0.0, 0.0, 0.0, 0.0, 0.0, 0.0, 0.0, 0.0, 0.0, 0.0], [0.016002392396330833, 0.0009560457547195256, 0.0005680461181327701, 0.001554973772726953, 0.001575573580339551, 0.0006219744100235403, 0.001125764800235629, 0.0014368738047778606, 0.002310047158971429, 0.0009028330678120255, 0.001392147969454527, 0.0036725918762385845, 0.0036322809755802155, 0.009217403829097748, 0.008623871020972729, 0.027025718241930008, 0.021376442164182663, 0.03330114483833313, 0.03885399177670479, 0.03905839845538139, 0.2659664750099182, 0.1937260776758194, 0.09792890399694443, 0.2291700392961502, 0.0, 0.0, 0.0, 0.0, 0.0, 0.0, 0.0, 0.0, 0.0, 0.0, 0.0], [0.009987277910113335, 0.0009651760337874293, 0.0006041581509634852, 0.0009222122025676072, 0.0008805812685750425, 0.0005974333616904914, 0.00021149212261661887, 0.0006455674883909523, 0.0012417689431458712, 0.00068596878554672, 0.0007031501154415309, 0.0014577405527234077, 0.0018487696070224047, 0.005077200476080179, 0.0019275658996775746, 0.012413389049470425, 0.008568285033106804, 0.012073652818799019, 0.02193663828074932, 0.02919413521885872, 0.1427275389432907, 0.09834033995866776, 0.11847677826881409, 0.31631967425346375, 0.21219348907470703, 0.0, 0.0, 0.0, 0.0, 0.0, 0.0, 0.0, 0.0, 0.0, 0.0], [0.01686089299619198, 0.001970325829461217, 0.000885836489032954, 0.001765637774951756, 0.0023928354494273663, 0.0005271157715469599, 0.00036178971640765667, 0.0006361044361256063, 0.0022411320824176073, 0.0008515861700288951, 0.00038157840026542544, 0.0022748317569494247, 0.0018798467935994267, 0.00729223620146513, 0.002146674320101738, 0.0025263039860874414, 0.010355686768889427, 0.011969324201345444, 0.006590917706489563, 0.012827488593757153, 0.12130485475063324, 0.06624643504619598, 0.14612403512001038, 0.28280720114707947, 0.24703311920166016, 0.049746204167604446, 0.0, 0.0, 0.0, 0.0, 0.0, 0.0, 0.0, 0.0, 0.0], [0.026405038312077522, 0.0014231017557904124, 0.0016234456561505795, 0.0025764056481420994, 0.0026897029019892216, 0.0012257531052455306, 0.0010898768668994308, 0.0009538466692902148, 0.001922353869304061, 0.002411526395007968, 0.002457945141941309, 0.0014354195445775986, 0.005378496367484331, 0.004732348024845123, 0.0019391169771552086, 0.007957515306770802, 0.006086880806833506, 0.012657471932470798, 0.011602510698139668, 0.02909662574529648, 0.08598873764276505, 0.07665883749723434, 0.03624016419053078, 0.13133354485034943, 0.19490282237529755, 0.2176632583141327, 0.1315472424030304, 0.0, 0.0, 0.0, 0.0, 0.0, 0.0, 0.0, 0.0], [0.023896103724837303, 0.0020675004925578833, 0.002509379293769598, 0.0018511987291276455, 0.003160970052704215, 0.0009005637257359922, 0.0002685428480617702, 0.0005213559488765895, 0.00178721419069916, 0.0019308992195874453, 0.0010158243821933866, 0.0010442667407914996, 0.0015677064657211304, 0.004060100764036179, 0.0008207408245652914, 0.003358301939442754, 0.004117123782634735, 0.007223024498671293, 0.014547310769557953, 0.04635158181190491, 0.056018680334091187, 0.03840017691254616, 0.0416099987924099, 0.10494543612003326, 0.15788212418556213, 0.12118800729513168, 0.19090242683887482, 0.1660534143447876, 0.0, 0.0, 0.0, 0.0, 0.0, 0.0, 0.0], [0.04075774922966957, 0.0039583612233400345, 0.005698094610124826, 0.003957983572036028, 0.001404780661687255, 0.00032769443350844085, 0.0006401930586434901, 0.0012045821640640497, 0.002238560700789094, 0.0007448492688126862, 0.003836574964225292, 0.0016206810250878334, 0.0010148311266675591, 0.004261184483766556, 0.0009652947192080319, 0.0003954318235628307, 0.00540106650441885, 0.007263401988893747, 0.005766804795712233, 0.029991835355758667, 0.041736528277397156, 0.017527643591165543, 0.025155071169137955, 0.07565270364284515, 0.2454262524843216, 0.06668500602245331, 0.26483187079429626, 0.05502413213253021, 0.08651077747344971, 0.0, 0.0, 0.0, 0.0, 0.0, 0.0], [0.011784795671701431, 0.0013947543920949101, 0.0009515663259662688, 0.0008953207288868725, 0.0010372716933488846, 0.0004972642636857927, 0.00025283850845880806, 0.0004317567509133369, 0.0005345694371499121, 0.0002822918177116662, 0.0004274732491467148, 0.0005479571409523487, 0.0008038732339628041, 0.00110374775249511, 0.001088285818696022, 0.0026353751309216022, 0.0020033149048686028, 0.0029394535813480616, 0.0051142023876309395, 0.00916231982409954, 0.020236428827047348, 0.01439724676311016, 0.0143866166472435, 0.05287306383252144, 0.04425812512636185, 0.07174724340438843, 0.0807715579867363, 0.11779714375734329, 0.1448613703250885, 0.3947828412055969, 0.0, 0.0, 0.0, 0.0, 0.0], [0.012992863543331623, 0.0016676143277436495, 0.0010021079797297716, 0.0011761246714740992, 0.0007638350361958146, 0.00040058293961919844, 0.00012849246559198946, 0.00010518689668970183, 0.0005606435588560998, 0.00014079402899369597, 0.00012207562394905835, 0.0003985990770161152, 0.00022988321143202484, 0.0011077820090577006, 0.00036310372524894774, 0.0008891797624528408, 0.0014402444940060377, 0.0014520229306071997, 0.0026305695064365864, 0.003167383838444948, 0.017224669456481934, 0.010722343809902668, 0.005023001227527857, 0.04577851668000221, 0.047519683837890625, 0.02706710807979107, 0.05216856673359871, 0.05500795692205429, 0.11481023579835892, 0.4456881284713745, 0.1482507437467575, 0.0, 0.0, 0.0, 0.0], [0.011720015667378902, 0.0009638673509471118, 0.0016792799578979611, 0.0009598793112672865, 0.0011835347395390272, 0.00035873454180546105, 0.00013125187251716852, 0.00020985855371691287, 0.0003518577723298222, 0.000116738498036284, 0.0003326718579046428, 0.00020899793889839202, 0.00016304070595651865, 0.0005591597291640937, 0.00017877902428153902, 0.0005847539287060499, 0.0006520409369841218, 0.0008100893464870751, 0.000823202368337661, 0.006545143201947212, 0.007790680509060621, 0.0066225104965269566, 0.005052980035543442, 0.014489840716123581, 0.024942079558968544, 0.019010324031114578, 0.028525494039058685, 0.03678770735859871, 0.14266979694366455, 0.23489880561828613, 0.30085402727127075, 0.14982283115386963, 0.0, 0.0, 0.0], [0.011463277973234653, 0.0009014824754558504, 0.00054774439195171, 0.0005869869492016733, 0.0005616623675450683, 0.00023434791364707053, 0.00013944675447419286, 0.00019926782988477498, 0.0003140303015243262, 0.0001251465582754463, 0.0002147951745428145, 0.00024813474738039076, 0.00022906142112333328, 0.0005020764656364918, 0.00045190186938270926, 0.0006676740013062954, 0.0007638584938831627, 0.0009467161726206541, 0.0010094363242387772, 0.0037195731420069933, 0.0074448916129767895, 0.004500559531152248, 0.0018344357376918197, 0.012973624281585217, 0.015522480942308903, 0.021838275715708733, 0.016228968277573586, 0.024697430431842804, 0.038053207099437714, 0.16302348673343658, 0.11826050281524658, 0.22884757816791534, 0.3229478597640991, 0.0, 0.0], [0.009539727121591568, 0.0014243284240365028, 0.000994458212517202, 0.0009655575850047171, 0.0007854420691728592, 0.00030160683672875166, 0.00011159571295138448, 0.0008093694341368973, 0.0004005465598311275, 8.517065725754946e-05, 0.0006307570147328079, 0.00020861571829300374, 0.00025255605578422546, 0.0005451840115711093, 0.00024275525356642902, 0.0005828304565511644, 0.0005503922002390027, 0.0010548584396019578, 0.0010979138314723969, 0.0040335445664823055, 0.00515154842287302, 0.007251264061778784, 0.003988181706517935, 0.012260389514267445, 0.013561557978391647, 0.03828655183315277, 0.06675272434949875, 0.013111516833305359, 0.1009327843785286, 0.13179118931293488, 0.054323069751262665, 0.15251488983631134, 0.30832451581954956, 0.0671326294541359, 0.0], [0.009234581142663956, 0.001869691419415176, 0.001543495454825461, 0.0012878916459158063, 0.0009349438478238881, 0.0002825609117280692, 0.0004494281020015478, 0.000559499952942133, 0.00032776824082247913, 7.203828863566741e-05, 0.00010657915117917582, 0.0002636242425069213, 0.0003654730971902609, 0.00037483108462765813, 0.0003117539163213223, 0.0008969137561507523, 0.0006347461021505296, 0.000865003268700093, 0.0008020044188015163, 0.0006307901348918676, 0.003218781901523471, 0.003845836268737912, 0.0030004391446709633, 0.007814166136085987, 0.010107206180691719, 0.016721561551094055, 0.007672082632780075, 0.010031220503151417, 0.005356385838240385, 0.0775706097483635, 0.037744466215372086, 0.1380910575389862, 0.1956760585308075, 0.030743561685085297, 0.43059292435646057]], [[1.0, 0.0, 0.0, 0.0, 0.0, 0.0, 0.0, 0.0, 0.0, 0.0, 0.0, 0.0, 0.0, 0.0, 0.0, 0.0, 0.0, 0.0, 0.0, 0.0, 0.0, 0.0, 0.0, 0.0, 0.0, 0.0, 0.0, 0.0, 0.0, 0.0, 0.0, 0.0, 0.0, 0.0, 0.0], [0.8970723748207092, 0.10292768478393555, 0.0, 0.0, 0.0, 0.0, 0.0, 0.0, 0.0, 0.0, 0.0, 0.0, 0.0, 0.0, 0.0, 0.0, 0.0, 0.0, 0.0, 0.0, 0.0, 0.0, 0.0, 0.0, 0.0, 0.0, 0.0, 0.0, 0.0, 0.0, 0.0, 0.0, 0.0, 0.0, 0.0], [0.7731762528419495, 0.17108602821826935, 0.05573773384094238, 0.0, 0.0, 0.0, 0.0, 0.0, 0.0, 0.0, 0.0, 0.0, 0.0, 0.0, 0.0, 0.0, 0.0, 0.0, 0.0, 0.0, 0.0, 0.0, 0.0, 0.0, 0.0, 0.0, 0.0, 0.0, 0.0, 0.0, 0.0, 0.0, 0.0, 0.0, 0.0], [0.2190985530614853, 0.09592846035957336, 0.1539975255727768, 0.5309755206108093, 0.0, 0.0, 0.0, 0.0, 0.0, 0.0, 0.0, 0.0, 0.0, 0.0, 0.0, 0.0, 0.0, 0.0, 0.0, 0.0, 0.0, 0.0, 0.0, 0.0, 0.0, 0.0, 0.0, 0.0, 0.0, 0.0, 0.0, 0.0, 0.0, 0.0, 0.0], [0.4932918846607208, 0.12421072274446487, 0.08378951996564865, 0.2104451209306717, 0.08826270699501038, 0.0, 0.0, 0.0, 0.0, 0.0, 0.0, 0.0, 0.0, 0.0, 0.0, 0.0, 0.0, 0.0, 0.0, 0.0, 0.0, 0.0, 0.0, 0.0, 0.0, 0.0, 0.0, 0.0, 0.0, 0.0, 0.0, 0.0, 0.0, 0.0, 0.0], [0.479253351688385, 0.1148393303155899, 0.05825283005833626, 0.12140917778015137, 0.19296902418136597, 0.033276285976171494, 0.0, 0.0, 0.0, 0.0, 0.0, 0.0, 0.0, 0.0, 0.0, 0.0, 0.0, 0.0, 0.0, 0.0, 0.0, 0.0, 0.0, 0.0, 0.0, 0.0, 0.0, 0.0, 0.0, 0.0, 0.0, 0.0, 0.0, 0.0, 0.0], [0.33760711550712585, 0.13038289546966553, 0.12365777790546417, 0.1684831827878952, 0.03948560357093811, 0.15522721409797668, 0.04515616223216057, 0.0, 0.0, 0.0, 0.0, 0.0, 0.0, 0.0, 0.0, 0.0, 0.0, 0.0, 0.0, 0.0, 0.0, 0.0, 0.0, 0.0, 0.0, 0.0, 0.0, 0.0, 0.0, 0.0, 0.0, 0.0, 0.0, 0.0, 0.0], [0.3124314844608307, 0.1033550575375557, 0.07322120666503906, 0.13077446818351746, 0.08650773018598557, 0.20371736586093903, 0.04714134335517883, 0.04285134747624397, 0.0, 0.0, 0.0, 0.0, 0.0, 0.0, 0.0, 0.0, 0.0, 0.0, 0.0, 0.0, 0.0, 0.0, 0.0, 0.0, 0.0, 0.0, 0.0, 0.0, 0.0, 0.0, 0.0, 0.0, 0.0, 0.0, 0.0], [0.1071995347738266, 0.03256477788090706, 0.04615397751331329, 0.12522779405117035, 0.011105240322649479, 0.034330032765865326, 0.00785838346928358, 0.011366565711796284, 0.6241937279701233, 0.0, 0.0, 0.0, 0.0, 0.0, 0.0, 0.0, 0.0, 0.0, 0.0, 0.0, 0.0, 0.0, 0.0, 0.0, 0.0, 0.0, 0.0, 0.0, 0.0, 0.0, 0.0, 0.0, 0.0, 0.0, 0.0], [0.3028891086578369, 0.0780496746301651, 0.05937647819519043, 0.09426911920309067, 0.17377150058746338, 0.038616281002759933, 0.04802526533603668, 0.039512552320957184, 0.13237620890140533, 0.033113788813352585, 0.0, 0.0, 0.0, 0.0, 0.0, 0.0, 0.0, 0.0, 0.0, 0.0, 0.0, 0.0, 0.0, 0.0, 0.0, 0.0, 0.0, 0.0, 0.0, 0.0, 0.0, 0.0, 0.0, 0.0, 0.0], [0.13027675449848175, 0.042134858667850494, 0.07258214801549911, 0.10922868549823761, 0.03630436211824417, 0.19112566113471985, 0.03369801491498947, 0.05715863034129143, 0.11187221854925156, 0.16414126753807068, 0.051477428525686264, 0.0, 0.0, 0.0, 0.0, 0.0, 0.0, 0.0, 0.0, 0.0, 0.0, 0.0, 0.0, 0.0, 0.0, 0.0, 0.0, 0.0, 0.0, 0.0, 0.0, 0.0, 0.0, 0.0, 0.0], [0.09464417397975922, 0.029253439977765083, 0.03811940923333168, 0.1498957872390747, 0.020670875906944275, 0.0763171836733818, 0.008947468362748623, 0.02004508674144745, 0.3057856261730194, 0.047520961612463, 0.010440821759402752, 0.1983591616153717, 0.0, 0.0, 0.0, 0.0, 0.0, 0.0, 0.0, 0.0, 0.0, 0.0, 0.0, 0.0, 0.0, 0.0, 0.0, 0.0, 0.0, 0.0, 0.0, 0.0, 0.0, 0.0, 0.0], [0.1444079577922821, 0.06329525262117386, 0.07617758959531784, 0.07194556295871735, 0.033941056579351425, 0.08442071825265884, 0.035940226167440414, 0.07685539871454239, 0.1158827394247055, 0.05951956287026405, 0.06183493509888649, 0.1484171450138092, 0.0273617971688509, 0.0, 0.0, 0.0, 0.0, 0.0, 0.0, 0.0, 0.0, 0.0, 0.0, 0.0, 0.0, 0.0, 0.0, 0.0, 0.0, 0.0, 0.0, 0.0, 0.0, 0.0, 0.0], [0.04147873446345329, 0.011494412086904049, 0.0176435224711895, 0.0459972508251667, 0.004085007589310408, 0.013701114803552628, 0.002870904514566064, 0.004510777536779642, 0.24164842069149017, 0.009729509241878986, 0.0026167333126068115, 0.26417702436447144, 0.00805377122014761, 0.3319927453994751, 0.0, 0.0, 0.0, 0.0, 0.0, 0.0, 0.0, 0.0, 0.0, 0.0, 0.0, 0.0, 0.0, 0.0, 0.0, 0.0, 0.0, 0.0, 0.0, 0.0, 0.0], [0.15155859291553497, 0.037725046277046204, 0.02733064629137516, 0.060524746775627136, 0.030143283307552338, 0.028034869581460953, 0.013341409154236317, 0.02250303141772747, 0.11653432995080948, 0.05189971998333931, 0.010558650828897953, 0.10229873657226562, 0.015167277306318283, 0.14137384295463562, 0.19100579619407654, 0.0, 0.0, 0.0, 0.0, 0.0, 0.0, 0.0, 0.0, 0.0, 0.0, 0.0, 0.0, 0.0, 0.0, 0.0, 0.0, 0.0, 0.0, 0.0, 0.0], [0.2839045524597168, 0.0650240108370781, 0.03238337114453316, 0.02959110029041767, 0.04243200644850731, 0.028469786047935486, 0.041533127427101135, 0.08465307950973511, 0.043854985386133194, 0.027530411258339882, 0.0921814888715744, 0.03751114755868912, 0.04891902580857277, 0.049849651753902435, 0.0791383758187294, 0.013023811392486095, 0.0, 0.0, 0.0, 0.0, 0.0, 0.0, 0.0, 0.0, 0.0, 0.0, 0.0, 0.0, 0.0, 0.0, 0.0, 0.0, 0.0, 0.0, 0.0], [0.04885759577155113, 0.014007375575602055, 0.019542617723345757, 0.07337554544210434, 0.0100891487672925, 0.03972572460770607, 0.004310053773224354, 0.0105903260409832, 0.15303602814674377, 0.026499055325984955, 0.005417251493781805, 0.09647626429796219, 0.012806716375052929, 0.2047865241765976, 0.14743396639823914, 0.009689195081591606, 0.1233566626906395, 0.0, 0.0, 0.0, 0.0, 0.0, 0.0, 0.0, 0.0, 0.0, 0.0, 0.0, 0.0, 0.0, 0.0, 0.0, 0.0, 0.0, 0.0], [0.059431225061416626, 0.025951193645596504, 0.03547389432787895, 0.03907975181937218, 0.018049325793981552, 0.023087255656719208, 0.010503754951059818, 0.030069565400481224, 0.09918283671140671, 0.03614410012960434, 0.018410049378871918, 0.11741487681865692, 0.017167573794722557, 0.12769995629787445, 0.08459019660949707, 0.03790272772312164, 0.1457722783088684, 0.07406951487064362, 0.0, 0.0, 0.0, 0.0, 0.0, 0.0, 0.0, 0.0, 0.0, 0.0, 0.0, 0.0, 0.0, 0.0, 0.0, 0.0, 0.0], [0.2724890410900116, 0.045022718608379364, 0.046122364699840546, 0.042052011936903, 0.038135625422000885, 0.05454427748918533, 0.025706565007567406, 0.01925416849553585, 0.04536457359790802, 0.05106878653168678, 0.02147936075925827, 0.05142936110496521, 0.03568308800458908, 0.05110247805714607, 0.04221019893884659, 0.03813279792666435, 0.05789821967482567, 0.023540088906884193, 0.03876427188515663, 0.0, 0.0, 0.0, 0.0, 0.0, 0.0, 0.0, 0.0, 0.0, 0.0, 0.0, 0.0, 0.0, 0.0, 0.0, 0.0], [0.2398124486207962, 0.03723884001374245, 0.04641323164105415, 0.018074771389365196, 0.028609463945031166, 0.0315636470913887, 0.02326364628970623, 0.053141165524721146, 0.03672980144619942, 0.044361576437950134, 0.014090007171034813, 0.040796536952257156, 0.013384053483605385, 0.040182746946811676, 0.02512497454881668, 0.02228318713605404, 0.04457439109683037, 0.026357246562838554, 0.018502114340662956, 0.19549615681171417, 0.0, 0.0, 0.0, 0.0, 0.0, 0.0, 0.0, 0.0, 0.0, 0.0, 0.0, 0.0, 0.0, 0.0, 0.0], [0.034472573548555374, 0.007049789186567068, 0.00851623248308897, 0.019823290407657623, 0.00200619432143867, 0.00873849168419838, 0.0013805319322273135, 0.0025849882513284683, 0.129638671875, 0.004980521742254496, 0.0014542944263666868, 0.09793517738580704, 0.004242658149451017, 0.17474929988384247, 0.020575353875756264, 0.0029217302799224854, 0.12519210577011108, 0.01766674965620041, 0.00817244965583086, 0.006463977508246899, 0.32143497467041016, 0.0, 0.0, 0.0, 0.0, 0.0, 0.0, 0.0, 0.0, 0.0, 0.0, 0.0, 0.0, 0.0, 0.0], [0.0753212571144104, 0.01738511584699154, 0.02649959735572338, 0.03820115327835083, 0.013464303687214851, 0.017004946246743202, 0.005682714283466339, 0.008161387406289577, 0.0879102498292923, 0.015651999041438103, 0.0046223741956055164, 0.06870013475418091, 0.017068391665816307, 0.11098406463861465, 0.08843359351158142, 0.01554049737751484, 0.08290653675794601, 0.03445707634091377, 0.034902893006801605, 0.02266903966665268, 0.16727584600448608, 0.04715687781572342, 0.0, 0.0, 0.0, 0.0, 0.0, 0.0, 0.0, 0.0, 0.0, 0.0, 0.0, 0.0, 0.0], [0.11039690673351288, 0.017618602141737938, 0.012073224410414696, 0.07903025299310684, 0.047071803361177444, 0.02839348278939724, 0.01085329707711935, 0.03898294270038605, 0.04254177212715149, 0.053135789930820465, 0.010616571642458439, 0.04066743329167366, 0.016578687354922295, 0.05044253170490265, 0.04148309305310249, 0.011694182641804218, 0.0489438995718956, 0.04587530344724655, 0.06803461164236069, 0.031458187848329544, 0.07373649626970291, 0.09332360327243805, 0.02704729698598385, 0.0, 0.0, 0.0, 0.0, 0.0, 0.0, 0.0, 0.0, 0.0, 0.0, 0.0, 0.0], [0.05010591447353363, 0.011403635144233704, 0.0189800001680851, 0.048291124403476715, 0.005478165578097105, 0.027938112616539, 0.00347534311003983, 0.0096676554530859, 0.08883963525295258, 0.021459797397255898, 0.009184245951473713, 0.06738948822021484, 0.006293780170381069, 0.11730517446994781, 0.05559386685490608, 0.023259563371539116, 0.08538822084665298, 0.030172375962138176, 0.018553784117102623, 0.049727167934179306, 0.138699471950531, 0.035930924117565155, 0.029570575803518295, 0.04729193076491356, 0.0, 0.0, 0.0, 0.0, 0.0, 0.0, 0.0, 0.0, 0.0, 0.0, 0.0], [0.033650629222393036, 0.03973434492945671, 0.013943267986178398, 0.0221550315618515, 0.0073741041123867035, 0.01253434456884861, 0.003937928471714258, 0.0055880374275147915, 0.0527641586959362, 0.01135347317904234, 0.0029761549085378647, 0.06122000515460968, 0.007114537060260773, 0.06609287112951279, 0.018457189202308655, 0.0047071841545403, 0.0778060331940651, 0.015934066846966743, 0.016269708052277565, 0.027332933619618416, 0.08945078402757645, 0.028283212333917618, 0.01342835184186697, 0.24125002324581146, 0.126641646027565, 0.0, 0.0, 0.0, 0.0, 0.0, 0.0, 0.0, 0.0, 0.0, 0.0], [0.10163001716136932, 0.04817343130707741, 0.022741515189409256, 0.017647160217165947, 0.01635766215622425, 0.014718183316290379, 0.020238906145095825, 0.03009830415248871, 0.03836440667510033, 0.0252974946051836, 0.039593446999788284, 0.04179811105132103, 0.01849495805799961, 0.04345662519335747, 0.02387692965567112, 0.01341191679239273, 0.04804753512144089, 0.021995289251208305, 0.030744781717658043, 0.05168469250202179, 0.05786485970020294, 0.04216013848781586, 0.05038997530937195, 0.08024895191192627, 0.07608186453580856, 0.024882828816771507, 0.0, 0.0, 0.0, 0.0, 0.0, 0.0, 0.0, 0.0, 0.0], [0.06603527069091797, 0.020660115405917168, 0.02168169617652893, 0.034087613224983215, 0.015279395505785942, 0.018441995605826378, 0.01078958623111248, 0.055958341807127, 0.035654861479997635, 0.02173886075615883, 0.025664951652288437, 0.039465565234422684, 0.019091853871941566, 0.04260498285293579, 0.0451403371989727, 0.012913591228425503, 0.0473557747900486, 0.02556185983121395, 0.035244137048721313, 0.09746365249156952, 0.05611313134431839, 0.03593847528100014, 0.03256697952747345, 0.04301982745528221, 0.04697674512863159, 0.0324612557888031, 0.06208905205130577, 0.0, 0.0, 0.0, 0.0, 0.0, 0.0, 0.0, 0.0], [0.10541096329689026, 0.016973106190562248, 0.02034101076424122, 0.032666537910699844, 0.021851172670722008, 0.031789928674697876, 0.0055712065659463406, 0.02419452928006649, 0.016740456223487854, 0.016082555055618286, 0.013484911993145943, 0.022790376096963882, 0.020844899117946625, 0.019816430285573006, 0.007412000093609095, 0.013035077601671219, 0.026982471346855164, 0.010132258757948875, 0.01766771264374256, 0.2972624897956848, 0.023457150906324387, 0.03235582262277603, 0.03224533051252365, 0.019980115815997124, 0.05017195641994476, 0.04827893152832985, 0.03308819606900215, 0.019372420385479927, 0.0, 0.0, 0.0, 0.0, 0.0, 0.0, 0.0], [0.11478214710950851, 0.028451886028051376, 0.030158091336488724, 0.029890701174736023, 0.015577709302306175, 0.045236289501190186, 0.008156669326126575, 0.046777669340372086, 0.020574575290083885, 0.01808919385075569, 0.01663844659924507, 0.024351518601179123, 0.014281017705798149, 0.022870566695928574, 0.024558430537581444, 0.021522246301174164, 0.027740124613046646, 0.01226317510008812, 0.016789697110652924, 0.030601752921938896, 0.03310445696115494, 0.04230615124106407, 0.050134122371673584, 0.039895690977573395, 0.02547145076096058, 0.038356516510248184, 0.14836575090885162, 0.040621932595968246, 0.012431968003511429, 0.0, 0.0, 0.0, 0.0, 0.0, 0.0], [0.01040296908468008, 0.003988312091678381, 0.007536557037383318, 0.02371407113969326, 0.0015746995341032743, 0.004556500352919102, 0.0011461444664746523, 0.0020206558983772993, 0.08388330787420273, 0.006093548610806465, 0.001224363804794848, 0.08011976629495621, 0.003282930701971054, 0.1148514524102211, 0.020138543099164963, 0.003874026471748948, 0.10355652123689651, 0.016239918768405914, 0.0062195127829909325, 0.011158781126141548, 0.12897232174873352, 0.016916098073124886, 0.00881306454539299, 0.028795937076210976, 0.060593508183956146, 0.005618596915155649, 0.016893552616238594, 0.008791654370725155, 0.017022380605340004, 0.20200029015541077, 0.0, 0.0, 0.0, 0.0, 0.0], [0.054720353335142136, 0.015954433009028435, 0.012098252773284912, 0.022833766415715218, 0.018985219299793243, 0.028783900663256645, 0.008076782338321209, 0.008372066542506218, 0.03956406190991402, 0.012315311469137669, 0.009588338434696198, 0.023571280762553215, 0.010643107816576958, 0.04663843289017677, 0.014515896327793598, 0.012394607067108154, 0.027597352862358093, 0.021691450849175453, 0.02018054947257042, 0.018239224329590797, 0.05496653541922569, 0.037117864936590195, 0.02424500323832035, 0.03499602898955345, 0.1494767814874649, 0.029019519686698914, 0.043276432901620865, 0.015866443514823914, 0.0451153926551342, 0.11428382992744446, 0.024871760979294777, 0.0, 0.0, 0.0, 0.0], [0.028266333043575287, 0.008342591114342213, 0.00969315692782402, 0.02400331385433674, 0.01240698341280222, 0.009731605648994446, 0.007254774682223797, 0.011378856375813484, 0.045253440737724304, 0.014661098830401897, 0.004759799223393202, 0.0327930711209774, 0.009599768556654453, 0.05662672966718674, 0.0237957164645195, 0.004614101257175207, 0.03982144221663475, 0.02123900316655636, 0.025286564603447914, 0.10159790515899658, 0.09278310090303421, 0.02612386643886566, 0.015091435983777046, 0.03458566218614578, 0.061821937561035156, 0.01340700313448906, 0.0168897844851017, 0.03089355118572712, 0.02819487452507019, 0.11031375080347061, 0.04056955873966217, 0.038199231028556824, 0.0, 0.0, 0.0], [0.005920096300542355, 0.0026448264252394438, 0.005754890851676464, 0.021997174248099327, 0.0013081289362162352, 0.005726538132876158, 0.0008704046485945582, 0.0018940436420962214, 0.052954964339733124, 0.0047250124625861645, 0.0009999454487115145, 0.04342707619071007, 0.0021749837324023247, 0.07363724708557129, 0.017015771940350533, 0.003086996031925082, 0.057790860533714294, 0.010734477080404758, 0.0034258223604410887, 0.010332698933780193, 0.08509065210819244, 0.012429160065948963, 0.006230236496776342, 0.022221002727746964, 0.0641111209988594, 0.005053482484072447, 0.018152382224798203, 0.007594156078994274, 0.006786441896110773, 0.16716450452804565, 0.01387180294841528, 0.01475562434643507, 0.2501175105571747, 0.0, 0.0], [0.059587158262729645, 0.014287114143371582, 0.009688670746982098, 0.028474604710936546, 0.028604792430996895, 0.026259342208504677, 0.008819637820124626, 0.022136040031909943, 0.01791020669043064, 0.026397554203867912, 0.017243579030036926, 0.02598382532596588, 0.006316180340945721, 0.020043158903717995, 0.015440624207258224, 0.025940265506505966, 0.030103040859103203, 0.018365345895290375, 0.023130418732762337, 0.026214584708213806, 0.03115725703537464, 0.028986167162656784, 0.028961271047592163, 0.016435224562883377, 0.034800928086042404, 0.03794369101524353, 0.07380679249763489, 0.030772434547543526, 0.02851725183427334, 0.07387096434831619, 0.024587715044617653, 0.035234078764915466, 0.08090808242559433, 0.023072008043527603, 0.0], [0.05258989706635475, 0.008282380178570747, 0.004686590284109116, 0.011556113138794899, 0.0021243609953671694, 0.007376660127192736, 0.0025699131656438112, 0.005167305935174227, 0.06430473178625107, 0.00868867989629507, 0.004349814727902412, 0.054052047431468964, 0.0035673307720571756, 0.08101724088191986, 0.02145703136920929, 0.004144077654927969, 0.06621561199426651, 0.018716935068368912, 0.009488226845860481, 0.006038549356162548, 0.1027429923415184, 0.014565219171345234, 0.009106301702558994, 0.021657655015587807, 0.035248011350631714, 0.004852632991969585, 0.008422160521149635, 0.0195895005017519, 0.011885886080563068, 0.1446465700864792, 0.016607554629445076, 0.02283478155732155, 0.08476626127958298, 0.015126860700547695, 0.051554083824157715]], [[1.0, 0.0, 0.0, 0.0, 0.0, 0.0, 0.0, 0.0, 0.0, 0.0, 0.0, 0.0, 0.0, 0.0, 0.0, 0.0, 0.0, 0.0, 0.0, 0.0, 0.0, 0.0, 0.0, 0.0, 0.0, 0.0, 0.0, 0.0, 0.0, 0.0, 0.0, 0.0, 0.0, 0.0, 0.0], [0.8803902268409729, 0.1196097582578659, 0.0, 0.0, 0.0, 0.0, 0.0, 0.0, 0.0, 0.0, 0.0, 0.0, 0.0, 0.0, 0.0, 0.0, 0.0, 0.0, 0.0, 0.0, 0.0, 0.0, 0.0, 0.0, 0.0, 0.0, 0.0, 0.0, 0.0, 0.0, 0.0, 0.0, 0.0, 0.0, 0.0], [0.800162672996521, 0.14422568678855896, 0.055611662566661835, 0.0, 0.0, 0.0, 0.0, 0.0, 0.0, 0.0, 0.0, 0.0, 0.0, 0.0, 0.0, 0.0, 0.0, 0.0, 0.0, 0.0, 0.0, 0.0, 0.0, 0.0, 0.0, 0.0, 0.0, 0.0, 0.0, 0.0, 0.0, 0.0, 0.0, 0.0, 0.0], [0.6471941471099854, 0.14701782166957855, 0.0793100968003273, 0.12647798657417297, 0.0, 0.0, 0.0, 0.0, 0.0, 0.0, 0.0, 0.0, 0.0, 0.0, 0.0, 0.0, 0.0, 0.0, 0.0, 0.0, 0.0, 0.0, 0.0, 0.0, 0.0, 0.0, 0.0, 0.0, 0.0, 0.0, 0.0, 0.0, 0.0, 0.0, 0.0], [0.6291001439094543, 0.1326994150876999, 0.0830739364027977, 0.10306605696678162, 0.05206046998500824, 0.0, 0.0, 0.0, 0.0, 0.0, 0.0, 0.0, 0.0, 0.0, 0.0, 0.0, 0.0, 0.0, 0.0, 0.0, 0.0, 0.0, 0.0, 0.0, 0.0, 0.0, 0.0, 0.0, 0.0, 0.0, 0.0, 0.0, 0.0, 0.0, 0.0], [0.5631012916564941, 0.123759426176548, 0.11159724742174149, 0.10842734575271606, 0.08343344926834106, 0.009681188501417637, 0.0, 0.0, 0.0, 0.0, 0.0, 0.0, 0.0, 0.0, 0.0, 0.0, 0.0, 0.0, 0.0, 0.0, 0.0, 0.0, 0.0, 0.0, 0.0, 0.0, 0.0, 0.0, 0.0, 0.0, 0.0, 0.0, 0.0, 0.0, 0.0], [0.4973389506340027, 0.11400078982114792, 0.07851862907409668, 0.10408835858106613, 0.08229988813400269, 0.087201789021492, 0.03655165061354637, 0.0, 0.0, 0.0, 0.0, 0.0, 0.0, 0.0, 0.0, 0.0, 0.0, 0.0, 0.0, 0.0, 0.0, 0.0, 0.0, 0.0, 0.0, 0.0, 0.0, 0.0, 0.0, 0.0, 0.0, 0.0, 0.0, 0.0, 0.0], [0.46186619997024536, 0.10720600187778473, 0.07680261880159378, 0.09525886923074722, 0.11179576069116592, 0.04683656990528107, 0.0632898211479187, 0.03694411739706993, 0.0, 0.0, 0.0, 0.0, 0.0, 0.0, 0.0, 0.0, 0.0, 0.0, 0.0, 0.0, 0.0, 0.0, 0.0, 0.0, 0.0, 0.0, 0.0, 0.0, 0.0, 0.0, 0.0, 0.0, 0.0, 0.0, 0.0], [0.408801794052124, 0.11223538219928741, 0.061949554830789566, 0.08138209581375122, 0.06888709217309952, 0.04759940505027771, 0.05779566615819931, 0.06300584971904755, 0.09834325313568115, 0.0, 0.0, 0.0, 0.0, 0.0, 0.0, 0.0, 0.0, 0.0, 0.0, 0.0, 0.0, 0.0, 0.0, 0.0, 0.0, 0.0, 0.0, 0.0, 0.0, 0.0, 0.0, 0.0, 0.0, 0.0, 0.0], [0.337785542011261, 0.07768955081701279, 0.06164022907614708, 0.08030419796705246, 0.0924348458647728, 0.12569792568683624, 0.04310278221964836, 0.0800650492310524, 0.08753132075071335, 0.013748612254858017, 0.0, 0.0, 0.0, 0.0, 0.0, 0.0, 0.0, 0.0, 0.0, 0.0, 0.0, 0.0, 0.0, 0.0, 0.0, 0.0, 0.0, 0.0, 0.0, 0.0, 0.0, 0.0, 0.0, 0.0, 0.0], [0.4084457457065582, 0.07972612977027893, 0.05943279340863228, 0.07098965346813202, 0.06258390843868256, 0.07298711687326431, 0.05290915444493294, 0.06663115322589874, 0.08486580103635788, 0.03078523650765419, 0.010643374174833298, 0.0, 0.0, 0.0, 0.0, 0.0, 0.0, 0.0, 0.0, 0.0, 0.0, 0.0, 0.0, 0.0, 0.0, 0.0, 0.0, 0.0, 0.0, 0.0, 0.0, 0.0, 0.0, 0.0, 0.0], [0.3284088373184204, 0.08126059174537659, 0.05222116783261299, 0.0667019784450531, 0.062212198972702026, 0.04688328504562378, 0.047482267022132874, 0.049437131732702255, 0.0864436998963356, 0.051085103303194046, 0.046604081988334656, 0.08125964552164078, 0.0, 0.0, 0.0, 0.0, 0.0, 0.0, 0.0, 0.0, 0.0, 0.0, 0.0, 0.0, 0.0, 0.0, 0.0, 0.0, 0.0, 0.0, 0.0, 0.0, 0.0, 0.0, 0.0], [0.28456372022628784, 0.07334227114915848, 0.05956628546118736, 0.05995682254433632, 0.0626126229763031, 0.04492250457406044, 0.053548913449048996, 0.05539520084857941, 0.07605050504207611, 0.05439150333404541, 0.05521010607481003, 0.08481413871049881, 0.03562537580728531, 0.0, 0.0, 0.0, 0.0, 0.0, 0.0, 0.0, 0.0, 0.0, 0.0, 0.0, 0.0, 0.0, 0.0, 0.0, 0.0, 0.0, 0.0, 0.0, 0.0, 0.0, 0.0], [0.29869240522384644, 0.08053489029407501, 0.04630006477236748, 0.05841612443327904, 0.05245251581072807, 0.035896752029657364, 0.0431300550699234, 0.04816411808133125, 0.07179586589336395, 0.03588228300213814, 0.034986358135938644, 0.06638612598180771, 0.04749889299273491, 0.07986355572938919, 0.0, 0.0, 0.0, 0.0, 0.0, 0.0, 0.0, 0.0, 0.0, 0.0, 0.0, 0.0, 0.0, 0.0, 0.0, 0.0, 0.0, 0.0, 0.0, 0.0, 0.0], [0.26184865832328796, 0.06895225495100021, 0.04662094637751579, 0.05860462039709091, 0.04692878574132919, 0.055680129677057266, 0.04915206879377365, 0.04117780178785324, 0.07490760087966919, 0.031984250992536545, 0.032572243362665176, 0.07257071882486343, 0.0373988002538681, 0.08542975038290024, 0.03617140278220177, 0.0, 0.0, 0.0, 0.0, 0.0, 0.0, 0.0, 0.0, 0.0, 0.0, 0.0, 0.0, 0.0, 0.0, 0.0, 0.0, 0.0, 0.0, 0.0, 0.0], [0.29417479038238525, 0.05360918864607811, 0.038608770817518234, 0.049526721239089966, 0.040609169751405716, 0.041493263095617294, 0.0297162514179945, 0.045369818806648254, 0.060249343514442444, 0.041599664837121964, 0.06637393683195114, 0.05982469022274017, 0.040502920746803284, 0.06734268367290497, 0.060957349836826324, 0.010041484609246254, 0.0, 0.0, 0.0, 0.0, 0.0, 0.0, 0.0, 0.0, 0.0, 0.0, 0.0, 0.0, 0.0, 0.0, 0.0, 0.0, 0.0, 0.0, 0.0], [0.24078039824962616, 0.05731503665447235, 0.03812979534268379, 0.04762377217411995, 0.04672613367438316, 0.03515475615859032, 0.034621816128492355, 0.0374724343419075, 0.06234779953956604, 0.0395454540848732, 0.035744305700063705, 0.05874501168727875, 0.0340784452855587, 0.07071570307016373, 0.05439117178320885, 0.03945149481296539, 0.06715651601552963, 0.0, 0.0, 0.0, 0.0, 0.0, 0.0, 0.0, 0.0, 0.0, 0.0, 0.0, 0.0, 0.0, 0.0, 0.0, 0.0, 0.0, 0.0], [0.1900811493396759, 0.05546914041042328, 0.03824986144900322, 0.04468470439314842, 0.0434919148683548, 0.037291351705789566, 0.03500030189752579, 0.03413337841629982, 0.05614842474460602, 0.029018184170126915, 0.026478590443730354, 0.06265047937631607, 0.03502202033996582, 0.06568854302167892, 0.0571419820189476, 0.04781633988022804, 0.07356444746255875, 0.06806915998458862, 0.0, 0.0, 0.0, 0.0, 0.0, 0.0, 0.0, 0.0, 0.0, 0.0, 0.0, 0.0, 0.0, 0.0, 0.0, 0.0, 0.0], [0.23406487703323364, 0.047656793147325516, 0.03626637160778046, 0.04350152611732483, 0.04482331871986389, 0.030926160514354706, 0.024145551025867462, 0.030471067875623703, 0.05100265517830849, 0.0385214164853096, 0.041283607482910156, 0.05289096385240555, 0.027892813086509705, 0.057388786226511, 0.060669999569654465, 0.04387104511260986, 0.059330202639102936, 0.051170192658901215, 0.024122707545757294, 0.0, 0.0, 0.0, 0.0, 0.0, 0.0, 0.0, 0.0, 0.0, 0.0, 0.0, 0.0, 0.0, 0.0, 0.0, 0.0], [0.31211692094802856, 0.04305700585246086, 0.030739201232790947, 0.039901234209537506, 0.04073917865753174, 0.03397355601191521, 0.013991197571158409, 0.0325017012655735, 0.04214291647076607, 0.03136739879846573, 0.05722320079803467, 0.042099736630916595, 0.03285328671336174, 0.046627227216959, 0.04874774441123009, 0.02173059806227684, 0.047223757952451706, 0.029857581481337547, 0.04530390352010727, 0.007802658714354038, 0.0, 0.0, 0.0, 0.0, 0.0, 0.0, 0.0, 0.0, 0.0, 0.0, 0.0, 0.0, 0.0, 0.0, 0.0], [0.19583050906658173, 0.052274756133556366, 0.032512079924345016, 0.03705889731645584, 0.04335428774356842, 0.027641309425234795, 0.027452075853943825, 0.03308156505227089, 0.045324403792619705, 0.025406748056411743, 0.024781623855233192, 0.03888050094246864, 0.030247310176491737, 0.05089510604739189, 0.04128778725862503, 0.03749213367700577, 0.04425322264432907, 0.04428720846772194, 0.04519395902752876, 0.050723981112241745, 0.07202054560184479, 0.0, 0.0, 0.0, 0.0, 0.0, 0.0, 0.0, 0.0, 0.0, 0.0, 0.0, 0.0, 0.0, 0.0], [0.16079990565776825, 0.04841072857379913, 0.0330209918320179, 0.03441707044839859, 0.03531980514526367, 0.023897022008895874, 0.026063473895192146, 0.028639720752835274, 0.044538743793964386, 0.024949481710791588, 0.029716147109866142, 0.04012999311089516, 0.024859067052602768, 0.05134394392371178, 0.0537354052066803, 0.04527630656957626, 0.04680594056844711, 0.034605979919433594, 0.04245500639081001, 0.05485454574227333, 0.06976333260536194, 0.04639734327793121, 0.0, 0.0, 0.0, 0.0, 0.0, 0.0, 0.0, 0.0, 0.0, 0.0, 0.0, 0.0, 0.0], [0.18932510912418365, 0.03910363093018532, 0.024852009490132332, 0.03345050662755966, 0.038601573556661606, 0.024109305813908577, 0.020502109080553055, 0.024301746860146523, 0.039764706045389175, 0.03418167307972908, 0.03484785929322243, 0.03619780391454697, 0.023668944835662842, 0.0450248196721077, 0.03498942032456398, 0.026825523003935814, 0.04153791069984436, 0.03736661747097969, 0.042022790759801865, 0.055910415947437286, 0.06404418498277664, 0.05618630722165108, 0.033184975385665894, 0.0, 0.0, 0.0, 0.0, 0.0, 0.0, 0.0, 0.0, 0.0, 0.0, 0.0, 0.0], [0.16596606373786926, 0.03388110175728798, 0.02065751887857914, 0.03212727978825569, 0.03747253865003586, 0.026519471779465675, 0.01988290622830391, 0.025609631091356277, 0.04091744124889374, 0.022610332816839218, 0.019720876589417458, 0.03376535698771477, 0.023503821343183517, 0.046445246785879135, 0.03541431948542595, 0.02736843377351761, 0.0387694425880909, 0.03146073967218399, 0.04639925807714462, 0.048674724996089935, 0.06382153928279877, 0.06529750674962997, 0.04629906266927719, 0.04741538688540459, 0.0, 0.0, 0.0, 0.0, 0.0, 0.0, 0.0, 0.0, 0.0, 0.0, 0.0], [0.1551409512758255, 0.03631480410695076, 0.022236887365579605, 0.028097420930862427, 0.04015665873885155, 0.024055970832705498, 0.01740090362727642, 0.0214985441416502, 0.0367506742477417, 0.017986755818128586, 0.019703906029462814, 0.028327785432338715, 0.02260461449623108, 0.04168051853775978, 0.030497966334223747, 0.025585593655705452, 0.032487593591213226, 0.027014946565032005, 0.041122861206531525, 0.047384489327669144, 0.0638233944773674, 0.05655009672045708, 0.04119998589158058, 0.06263259053230286, 0.05974407494068146, 0.0, 0.0, 0.0, 0.0, 0.0, 0.0, 0.0, 0.0, 0.0, 0.0], [0.12975940108299255, 0.02733970619738102, 0.02995751053094864, 0.022702842950820923, 0.03781533241271973, 0.03144636005163193, 0.01713676005601883, 0.046564918011426926, 0.030618302524089813, 0.018781667575240135, 0.025273190811276436, 0.028721973299980164, 0.019090937450528145, 0.03481000289320946, 0.02617022767663002, 0.026817746460437775, 0.03296038880944252, 0.02496025152504444, 0.05474760755896568, 0.05780104547739029, 0.05617622658610344, 0.03305984288454056, 0.05767423287034035, 0.04667417332530022, 0.06228700280189514, 0.020652372390031815, 0.0, 0.0, 0.0, 0.0, 0.0, 0.0, 0.0, 0.0, 0.0], [0.18126998841762543, 0.027924932539463043, 0.028055911883711815, 0.029457401484251022, 0.028532754629850388, 0.020307771861553192, 0.019550155848264694, 0.03153108432888985, 0.029232848435640335, 0.02111053466796875, 0.014580833725631237, 0.02250531129539013, 0.016256755217909813, 0.03150884807109833, 0.024519702419638634, 0.03659053146839142, 0.025034507736563683, 0.0200306735932827, 0.04726611077785492, 0.12142346054315567, 0.0418962687253952, 0.03646090626716614, 0.037346918135881424, 0.03705746307969093, 0.035210929811000824, 0.024784497916698456, 0.010552848689258099, 0.0, 0.0, 0.0, 0.0, 0.0, 0.0, 0.0, 0.0], [0.1419323980808258, 0.026873422786593437, 0.023394402116537094, 0.02419888786971569, 0.034410908818244934, 0.03176819160580635, 0.01428281795233488, 0.027884995564818382, 0.027823280543088913, 0.020267954096198082, 0.020075343549251556, 0.026035428047180176, 0.01527105551213026, 0.031183553859591484, 0.02134445495903492, 0.030780887231230736, 0.029686493799090385, 0.02496618591248989, 0.03290622681379318, 0.0812656506896019, 0.04738019406795502, 0.039505019783973694, 0.038106054067611694, 0.03920021653175354, 0.04723043739795685, 0.03223776817321777, 0.04768495261669159, 0.022302815690636635, 0.0, 0.0, 0.0, 0.0, 0.0, 0.0, 0.0], [0.19361066818237305, 0.028910454362630844, 0.017410723492503166, 0.024991948157548904, 0.020412281155586243, 0.03692351281642914, 0.01856403797864914, 0.022491101175546646, 0.026469890028238297, 0.01985170505940914, 0.01670689322054386, 0.02012958750128746, 0.017302939668297768, 0.028877517208456993, 0.01937028206884861, 0.021512920036911964, 0.022604649886488914, 0.019465502351522446, 0.032185450196266174, 0.09415605664253235, 0.039640821516513824, 0.04692873731255531, 0.03296549990773201, 0.03432747721672058, 0.03549889102578163, 0.041524242609739304, 0.038008444011211395, 0.024193786084651947, 0.004963913932442665, 0.0, 0.0, 0.0, 0.0, 0.0, 0.0], [0.13062258064746857, 0.029238145798444748, 0.02056247740983963, 0.024924928322434425, 0.026433361694216728, 0.02088005654513836, 0.016895081847906113, 0.020366203039884567, 0.030794674530625343, 0.016811514273285866, 0.014352632686495781, 0.026399677619338036, 0.01796814613044262, 0.03419143706560135, 0.02579362876713276, 0.020880062133073807, 0.029983334243297577, 0.0225768331438303, 0.03198401257395744, 0.0387752540409565, 0.04729927331209183, 0.03951811417937279, 0.03569553792476654, 0.04647783935070038, 0.04560372233390808, 0.027694007381796837, 0.028376273810863495, 0.0295069869607687, 0.03388817235827446, 0.06550601869821548, 0.0, 0.0, 0.0, 0.0, 0.0], [0.10399016737937927, 0.02196614071726799, 0.016451174393296242, 0.022787993773818016, 0.024357151240110397, 0.019975418224930763, 0.013678602874279022, 0.020524611696600914, 0.02641664631664753, 0.015824979171156883, 0.018124746158719063, 0.022938057780265808, 0.01524983998388052, 0.029951773583889008, 0.01956864632666111, 0.017790067940950394, 0.026331372559070587, 0.02006237581372261, 0.030405649915337563, 0.05837805196642876, 0.047469474375247955, 0.03560006991028786, 0.03361855819821358, 0.0390515998005867, 0.04623459279537201, 0.034158360213041306, 0.050636325031518936, 0.03304954990744591, 0.04132761433720589, 0.060074787586927414, 0.034005582332611084, 0.0, 0.0, 0.0, 0.0], [0.10689453780651093, 0.023425225168466568, 0.018311116844415665, 0.02227620780467987, 0.019986262544989586, 0.0183456651866436, 0.015893500298261642, 0.019802745431661606, 0.02582935430109501, 0.016079481691122055, 0.016656843945384026, 0.02581821195781231, 0.012892835773527622, 0.02911144308745861, 0.020739203318953514, 0.017621519044041634, 0.02965443581342697, 0.024281157180666924, 0.028045890852808952, 0.05205395817756653, 0.042631059885025024, 0.03251810371875763, 0.03738030791282654, 0.03843437135219574, 0.03982121869921684, 0.026290131732821465, 0.0352063812315464, 0.03138630837202072, 0.03282345086336136, 0.061947014182806015, 0.037625428289175034, 0.04021657630801201, 0.0, 0.0, 0.0], [0.12229020148515701, 0.025168990716338158, 0.01671406626701355, 0.022033262997865677, 0.02300073578953743, 0.015408724546432495, 0.014958016574382782, 0.018676765263080597, 0.02619117498397827, 0.012370292097330093, 0.010715775191783905, 0.02163189835846424, 0.013984639197587967, 0.02889922447502613, 0.023200983181595802, 0.018216600641608238, 0.02428124099969864, 0.018235333263874054, 0.02165396139025688, 0.036337438970804214, 0.03855650871992111, 0.036919448524713516, 0.03379227593541145, 0.0425882525742054, 0.03839156776666641, 0.023295771330595016, 0.030805258080363274, 0.024493318051099777, 0.030105775222182274, 0.056526102125644684, 0.03756684437394142, 0.041599173098802567, 0.05139036476612091, 0.0, 0.0], [0.13871710002422333, 0.021967247128486633, 0.016682980582118034, 0.02155137062072754, 0.02604922093451023, 0.01537912618368864, 0.01252230815589428, 0.020025216042995453, 0.021879851818084717, 0.0145530691370368, 0.015628237277269363, 0.018288593739271164, 0.01242174580693245, 0.023633427917957306, 0.017220674082636833, 0.02009168639779091, 0.02015186846256256, 0.018530189990997314, 0.02421249821782112, 0.07234080135822296, 0.03423937037587166, 0.030147051438689232, 0.03145884349942207, 0.03020295687019825, 0.03094875067472458, 0.024833211675286293, 0.030743274837732315, 0.022636577486991882, 0.044566914439201355, 0.04173138737678528, 0.02892465889453888, 0.029865318909287453, 0.04288143664598465, 0.02497304417192936, 0.0], [0.12327976524829865, 0.026707449927926064, 0.014834703877568245, 0.018021509051322937, 0.017764993011951447, 0.013351647183299065, 0.014073795638978481, 0.018723027780652046, 0.023980075493454933, 0.021256303414702415, 0.017004813998937607, 0.020616667345166206, 0.012905532494187355, 0.026097450405359268, 0.021554265171289444, 0.015845784917473793, 0.02278091385960579, 0.023595375940203667, 0.019861740991473198, 0.021922381594777107, 0.03597113862633705, 0.033696822822093964, 0.02117166295647621, 0.03536052256822586, 0.03450926020741463, 0.021897653117775917, 0.035124264657497406, 0.02411290630698204, 0.03299051895737648, 0.04677634686231613, 0.0304244477301836, 0.032703179866075516, 0.03790725767612457, 0.04262494668364525, 0.04055078700184822]], [[1.0, 0.0, 0.0, 0.0, 0.0, 0.0, 0.0, 0.0, 0.0, 0.0, 0.0, 0.0, 0.0, 0.0, 0.0, 0.0, 0.0, 0.0, 0.0, 0.0, 0.0, 0.0, 0.0, 0.0, 0.0, 0.0, 0.0, 0.0, 0.0, 0.0, 0.0, 0.0, 0.0, 0.0, 0.0], [0.6533873081207275, 0.34661269187927246, 0.0, 0.0, 0.0, 0.0, 0.0, 0.0, 0.0, 0.0, 0.0, 0.0, 0.0, 0.0, 0.0, 0.0, 0.0, 0.0, 0.0, 0.0, 0.0, 0.0, 0.0, 0.0, 0.0, 0.0, 0.0, 0.0, 0.0, 0.0, 0.0, 0.0, 0.0, 0.0, 0.0], [0.4451119005680084, 0.33376818895339966, 0.2211199253797531, 0.0, 0.0, 0.0, 0.0, 0.0, 0.0, 0.0, 0.0, 0.0, 0.0, 0.0, 0.0, 0.0, 0.0, 0.0, 0.0, 0.0, 0.0, 0.0, 0.0, 0.0, 0.0, 0.0, 0.0, 0.0, 0.0, 0.0, 0.0, 0.0, 0.0, 0.0, 0.0], [0.5459807515144348, 0.15291070938110352, 0.07645455002784729, 0.22465397417545319, 0.0, 0.0, 0.0, 0.0, 0.0, 0.0, 0.0, 0.0, 0.0, 0.0, 0.0, 0.0, 0.0, 0.0, 0.0, 0.0, 0.0, 0.0, 0.0, 0.0, 0.0, 0.0, 0.0, 0.0, 0.0, 0.0, 0.0, 0.0, 0.0, 0.0, 0.0], [0.4272027611732483, 0.1412525624036789, 0.06143971532583237, 0.11979994177818298, 0.2503049969673157, 0.0, 0.0, 0.0, 0.0, 0.0, 0.0, 0.0, 0.0, 0.0, 0.0, 0.0, 0.0, 0.0, 0.0, 0.0, 0.0, 0.0, 0.0, 0.0, 0.0, 0.0, 0.0, 0.0, 0.0, 0.0, 0.0, 0.0, 0.0, 0.0, 0.0], [0.40979304909706116, 0.11732905358076096, 0.06548824161291122, 0.1236746683716774, 0.0422237254679203, 0.24149134755134583, 0.0, 0.0, 0.0, 0.0, 0.0, 0.0, 0.0, 0.0, 0.0, 0.0, 0.0, 0.0, 0.0, 0.0, 0.0, 0.0, 0.0, 0.0, 0.0, 0.0, 0.0, 0.0, 0.0, 0.0, 0.0, 0.0, 0.0, 0.0, 0.0], [0.3643514811992645, 0.15547123551368713, 0.08527875691652298, 0.0883261039853096, 0.049937326461076736, 0.034096237272024155, 0.22253884375095367, 0.0, 0.0, 0.0, 0.0, 0.0, 0.0, 0.0, 0.0, 0.0, 0.0, 0.0, 0.0, 0.0, 0.0, 0.0, 0.0, 0.0, 0.0, 0.0, 0.0, 0.0, 0.0, 0.0, 0.0, 0.0, 0.0, 0.0, 0.0], [0.3562685251235962, 0.09063339978456497, 0.05006816238164902, 0.10755762457847595, 0.06895481050014496, 0.04669608548283577, 0.040975313633680344, 0.23884612321853638, 0.0, 0.0, 0.0, 0.0, 0.0, 0.0, 0.0, 0.0, 0.0, 0.0, 0.0, 0.0, 0.0, 0.0, 0.0, 0.0, 0.0, 0.0, 0.0, 0.0, 0.0, 0.0, 0.0, 0.0, 0.0, 0.0, 0.0], [0.3461388945579529, 0.14562256634235382, 0.09470635652542114, 0.10499643534421921, 0.06400175392627716, 0.04047238454222679, 0.03757919743657112, 0.044482164084911346, 0.12200020253658295, 0.0, 0.0, 0.0, 0.0, 0.0, 0.0, 0.0, 0.0, 0.0, 0.0, 0.0, 0.0, 0.0, 0.0, 0.0, 0.0, 0.0, 0.0, 0.0, 0.0, 0.0, 0.0, 0.0, 0.0, 0.0, 0.0], [0.20510224997997284, 0.048243146389722824, 0.05157080292701721, 0.09953968971967697, 0.06673121452331543, 0.045586880296468735, 0.036483924835920334, 0.08169861137866974, 0.08583584427833557, 0.27920758724212646, 0.0, 0.0, 0.0, 0.0, 0.0, 0.0, 0.0, 0.0, 0.0, 0.0, 0.0, 0.0, 0.0, 0.0, 0.0, 0.0, 0.0, 0.0, 0.0, 0.0, 0.0, 0.0, 0.0, 0.0, 0.0], [0.23016959428787231, 0.07576317340135574, 0.06243027001619339, 0.0619683712720871, 0.050248242914676666, 0.03796260058879852, 0.05770513787865639, 0.056173257529735565, 0.06585752964019775, 0.04166558384895325, 0.26005619764328003, 0.0, 0.0, 0.0, 0.0, 0.0, 0.0, 0.0, 0.0, 0.0, 0.0, 0.0, 0.0, 0.0, 0.0, 0.0, 0.0, 0.0, 0.0, 0.0, 0.0, 0.0, 0.0, 0.0, 0.0], [0.26688218116760254, 0.0996926873922348, 0.06880499422550201, 0.1011010929942131, 0.03625769168138504, 0.0487603135406971, 0.0317954421043396, 0.03426747024059296, 0.09192278981208801, 0.04406016692519188, 0.0242800023406744, 0.1521751880645752, 0.0, 0.0, 0.0, 0.0, 0.0, 0.0, 0.0, 0.0, 0.0, 0.0, 0.0, 0.0, 0.0, 0.0, 0.0, 0.0, 0.0, 0.0, 0.0, 0.0, 0.0, 0.0, 0.0], [0.24808596074581146, 0.05943756550550461, 0.036453068256378174, 0.09643886983394623, 0.04665255546569824, 0.043580614030361176, 0.02640966884791851, 0.03871847316622734, 0.06937099248170853, 0.035532146692276, 0.02358422242105007, 0.05824922025203705, 0.21748660504817963, 0.0, 0.0, 0.0, 0.0, 0.0, 0.0, 0.0, 0.0, 0.0, 0.0, 0.0, 0.0, 0.0, 0.0, 0.0, 0.0, 0.0, 0.0, 0.0, 0.0, 0.0, 0.0], [0.22227585315704346, 0.08784299343824387, 0.06428327411413193, 0.07245950400829315, 0.05153008922934532, 0.033541664481163025, 0.03151150047779083, 0.043959807604551315, 0.10531802475452423, 0.036292850971221924, 0.033496350049972534, 0.07923727482557297, 0.03496610000729561, 0.10328467935323715, 0.0, 0.0, 0.0, 0.0, 0.0, 0.0, 0.0, 0.0, 0.0, 0.0, 0.0, 0.0, 0.0, 0.0, 0.0, 0.0, 0.0, 0.0, 0.0, 0.0, 0.0], [0.2625541090965271, 0.07451014220714569, 0.04962189123034477, 0.065139539539814, 0.022182410582900047, 0.03923412039875984, 0.021433904767036438, 0.02829248644411564, 0.06496230512857437, 0.02216963656246662, 0.018070971593260765, 0.05796554684638977, 0.01818801276385784, 0.06176506727933884, 0.1939098834991455, 0.0, 0.0, 0.0, 0.0, 0.0, 0.0, 0.0, 0.0, 0.0, 0.0, 0.0, 0.0, 0.0, 0.0, 0.0, 0.0, 0.0, 0.0, 0.0, 0.0], [0.2145460844039917, 0.052079543471336365, 0.043386030942201614, 0.051086749881505966, 0.023057056590914726, 0.03987297788262367, 0.021457545459270477, 0.0431031659245491, 0.057124000042676926, 0.04732411727309227, 0.02007634937763214, 0.04863851144909859, 0.03173768147826195, 0.053890716284513474, 0.03922811895608902, 0.21339139342308044, 0.0, 0.0, 0.0, 0.0, 0.0, 0.0, 0.0, 0.0, 0.0, 0.0, 0.0, 0.0, 0.0, 0.0, 0.0, 0.0, 0.0, 0.0, 0.0], [0.1693463772535324, 0.05758475512266159, 0.04318230599164963, 0.06501621752977371, 0.025769710540771484, 0.035840604454278946, 0.02340392954647541, 0.028633078560233116, 0.06884392350912094, 0.03735612705349922, 0.021079324185848236, 0.12265526503324509, 0.02518490143120289, 0.07096561789512634, 0.04923553392291069, 0.02845790423452854, 0.12744441628456116, 0.0, 0.0, 0.0, 0.0, 0.0, 0.0, 0.0, 0.0, 0.0, 0.0, 0.0, 0.0, 0.0, 0.0, 0.0, 0.0, 0.0, 0.0], [0.1294490396976471, 0.04351518303155899, 0.0287073515355587, 0.045572567731142044, 0.021282188594341278, 0.019885336980223656, 0.028857698664069176, 0.03478112071752548, 0.055325932800769806, 0.030885064974427223, 0.02108754590153694, 0.06504064798355103, 0.04043158143758774, 0.05797602981328964, 0.04136980324983597, 0.028544068336486816, 0.06784920394420624, 0.23943959176540375, 0.0, 0.0, 0.0, 0.0, 0.0, 0.0, 0.0, 0.0, 0.0, 0.0, 0.0, 0.0, 0.0, 0.0, 0.0, 0.0, 0.0], [0.14163611829280853, 0.03578965365886688, 0.028365232050418854, 0.045387569814920425, 0.04637840390205383, 0.039788711816072464, 0.014343786984682083, 0.04959797486662865, 0.04732619598507881, 0.030782438814640045, 0.018412159755825996, 0.04871037229895592, 0.023401634767651558, 0.047455642372369766, 0.03751209378242493, 0.023782702162861824, 0.048940639942884445, 0.033790674060583115, 0.2385980188846588, 0.0, 0.0, 0.0, 0.0, 0.0, 0.0, 0.0, 0.0, 0.0, 0.0, 0.0, 0.0, 0.0, 0.0, 0.0, 0.0], [0.13350321352481842, 0.03222054988145828, 0.020588906481862068, 0.037802185863256454, 0.04108010604977608, 0.036710940301418304, 0.025954414159059525, 0.04136638343334198, 0.0432656966149807, 0.030096478760242462, 0.02681291103363037, 0.04010695591568947, 0.02438589371740818, 0.04430920258164406, 0.0337374210357666, 0.02071092464029789, 0.040797434747219086, 0.03265015780925751, 0.03506242483854294, 0.25883781909942627, 0.0, 0.0, 0.0, 0.0, 0.0, 0.0, 0.0, 0.0, 0.0, 0.0, 0.0, 0.0, 0.0, 0.0, 0.0], [0.11974351108074188, 0.03914883732795715, 0.028956566005945206, 0.033427078276872635, 0.03769591823220253, 0.020543895661830902, 0.017558962106704712, 0.0326584093272686, 0.06372418999671936, 0.03310193121433258, 0.02986794523894787, 0.05386917665600777, 0.022512976080179214, 0.07236675173044205, 0.04143425077199936, 0.03790142387151718, 0.060026220977306366, 0.045860227197408676, 0.050910960882902145, 0.03195587545633316, 0.1267348825931549, 0.0, 0.0, 0.0, 0.0, 0.0, 0.0, 0.0, 0.0, 0.0, 0.0, 0.0, 0.0, 0.0, 0.0], [0.11878619343042374, 0.039572034031152725, 0.023222973570227623, 0.05364082008600235, 0.03261677548289299, 0.017370950430631638, 0.011663909070193768, 0.016273820772767067, 0.05014302581548691, 0.013260259293019772, 0.010486900806427002, 0.03813209384679794, 0.04193669185042381, 0.05336223915219307, 0.030979996547102928, 0.019617725163698196, 0.040241554379463196, 0.03244160860776901, 0.020540131255984306, 0.026845507323741913, 0.05771109089255333, 0.25115370750427246, 0.0, 0.0, 0.0, 0.0, 0.0, 0.0, 0.0, 0.0, 0.0, 0.0, 0.0, 0.0, 0.0], [0.10596500337123871, 0.03639822453260422, 0.023730656132102013, 0.02770346961915493, 0.029520340263843536, 0.016958516091108322, 0.009277226403355598, 0.019281189888715744, 0.04353449493646622, 0.02543572150170803, 0.01544106099754572, 0.0416172593832016, 0.01847231760621071, 0.04617344215512276, 0.026975225657224655, 0.016877297312021255, 0.0436592772603035, 0.020190224051475525, 0.018645791336894035, 0.016359711065888405, 0.05703481286764145, 0.06433958560228348, 0.2764091193675995, 0.0, 0.0, 0.0, 0.0, 0.0, 0.0, 0.0, 0.0, 0.0, 0.0, 0.0, 0.0], [0.08669394254684448, 0.1400514841079712, 0.054043423384428024, 0.026910439133644104, 0.026933513581752777, 0.01693662256002426, 0.017527233809232712, 0.011132635176181793, 0.03316716477274895, 0.009116587229073048, 0.014021696522831917, 0.02812526375055313, 0.0121076051145792, 0.03627436235547066, 0.030991656705737114, 0.015099077485501766, 0.03022145852446556, 0.02081548236310482, 0.018955038860440254, 0.0211825929582119, 0.043649882078170776, 0.043773479759693146, 0.025040630251169205, 0.2372286468744278, 0.0, 0.0, 0.0, 0.0, 0.0, 0.0, 0.0, 0.0, 0.0, 0.0, 0.0], [0.10505460202693939, 0.02472284995019436, 0.02343858778476715, 0.024256443604826927, 0.021477708593010902, 0.014111106283962727, 0.012018014676868916, 0.015707308426499367, 0.04219583421945572, 0.016803378239274025, 0.011159355752170086, 0.03127182275056839, 0.02032068930566311, 0.04702335223555565, 0.03988678380846977, 0.025853382423520088, 0.03450959548354149, 0.024522606283426285, 0.017594216391444206, 0.021597158163785934, 0.06303169578313828, 0.050369877368211746, 0.02654913440346718, 0.040915295481681824, 0.24560922384262085, 0.0, 0.0, 0.0, 0.0, 0.0, 0.0, 0.0, 0.0, 0.0, 0.0], [0.07146886736154556, 0.015683099627494812, 0.019199566915631294, 0.027655109763145447, 0.02588873915374279, 0.011495743878185749, 0.013834549114108086, 0.0250062458217144, 0.032857511192560196, 0.04069042578339577, 0.019407065585255623, 0.03628278151154518, 0.026671355590224266, 0.036988455802202225, 0.025391345843672752, 0.012203285470604897, 0.04081625118851662, 0.022441424429416656, 0.018680062144994736, 0.037140704691410065, 0.05291351303458214, 0.03374897316098213, 0.036007050424814224, 0.027396056801080704, 0.041577912867069244, 0.24855388700962067, 0.0, 0.0, 0.0, 0.0, 0.0, 0.0, 0.0, 0.0, 0.0], [0.09520062804222107, 0.023399099707603455, 0.016249947249889374, 0.03728703036904335, 0.027069469913840294, 0.02442619577050209, 0.01691671460866928, 0.020519254729151726, 0.035614460706710815, 0.0172467902302742, 0.016965176910161972, 0.03067062795162201, 0.014761799946427345, 0.037838954478502274, 0.025590207427740097, 0.013281547464430332, 0.03275727853178978, 0.01698147878050804, 0.012912828475236893, 0.04096675291657448, 0.04452374204993248, 0.032888542860746384, 0.021862007677555084, 0.028905052691698074, 0.02522219903767109, 0.015681952238082886, 0.2742602527141571, 0.0, 0.0, 0.0, 0.0, 0.0, 0.0, 0.0, 0.0], [0.07106204330921173, 0.02223449945449829, 0.01544252410531044, 0.02880682982504368, 0.02491171471774578, 0.01409667544066906, 0.01092530321329832, 0.02235645242035389, 0.028251029551029205, 0.025925246998667717, 0.012314552441239357, 0.03621360659599304, 0.017662767320871353, 0.031407054513692856, 0.01859503611922264, 0.018171407282352448, 0.04006664827466011, 0.022728295996785164, 0.02500053495168686, 0.04014962166547775, 0.04249803349375725, 0.026281598955392838, 0.023634901270270348, 0.03034823015332222, 0.028446584939956665, 0.049317073076963425, 0.04533270001411438, 0.22781896591186523, 0.0, 0.0, 0.0, 0.0, 0.0, 0.0, 0.0], [0.11998689919710159, 0.03201313689351082, 0.020363768562674522, 0.03192231431603432, 0.020111480727791786, 0.017741894349455833, 0.014963150024414062, 0.014099692925810814, 0.0323602668941021, 0.012826553545892239, 0.01920423097908497, 0.024741897359490395, 0.014775940217077732, 0.03365084528923035, 0.03285077586770058, 0.01563302055001259, 0.02633097767829895, 0.009946921840310097, 0.010015271604061127, 0.023254679515957832, 0.03898428753018379, 0.034919410943984985, 0.011989151127636433, 0.03053087368607521, 0.023813731968402863, 0.018979020416736603, 0.06846079230308533, 0.019141534343361855, 0.22638745605945587, 0.0, 0.0, 0.0, 0.0, 0.0, 0.0], [0.0711139664053917, 0.023045005276799202, 0.017407836392521858, 0.02557774819433689, 0.018817277625203133, 0.01440666988492012, 0.01136450283229351, 0.019742926582694054, 0.0378037728369236, 0.017498360946774483, 0.012214532122015953, 0.0347118005156517, 0.016245102509856224, 0.044948261231184006, 0.03146103769540787, 0.01797625795006752, 0.040775004774332047, 0.026232009753584862, 0.029104549437761307, 0.032863155007362366, 0.06312329322099686, 0.03996739536523819, 0.03193743899464607, 0.05005759745836258, 0.05003984272480011, 0.02629847079515457, 0.04067577049136162, 0.034253496676683426, 0.03361441567540169, 0.08672250062227249, 0.0, 0.0, 0.0, 0.0, 0.0], [0.06342678517103195, 0.018928563222289085, 0.015915198251605034, 0.02297447994351387, 0.015813574194908142, 0.011996149085462093, 0.006959724705666304, 0.0104405852034688, 0.027604447677731514, 0.014203774742782116, 0.011755007319152355, 0.026974204927682877, 0.015696218237280846, 0.03244095668196678, 0.021464012563228607, 0.016300220042467117, 0.0315910205245018, 0.018295632675290108, 0.02407490275800228, 0.018299633637070656, 0.04905860498547554, 0.03294461593031883, 0.031695034354925156, 0.04070066288113594, 0.05526787042617798, 0.032283999025821686, 0.01833721436560154, 0.020621931180357933, 0.020615674555301666, 0.06142156571149826, 0.21189779043197632, 0.0, 0.0, 0.0, 0.0], [0.05903123319149017, 0.011650343425571918, 0.011906316503882408, 0.020305125042796135, 0.01582455448806286, 0.011342637240886688, 0.012165096588432789, 0.020514555275440216, 0.024635136127471924, 0.01787753403186798, 0.008976955898106098, 0.027097536250948906, 0.010151371359825134, 0.029500093311071396, 0.02296171709895134, 0.01152712944895029, 0.03249187394976616, 0.020219076424837112, 0.02027125470340252, 0.02760496735572815, 0.04230693355202675, 0.022920362651348114, 0.02739839442074299, 0.02483934722840786, 0.02841997891664505, 0.04172161594033241, 0.0314212366938591, 0.035203300416469574, 0.03063124231994152, 0.060064759105443954, 0.04537736997008324, 0.19364091753959656, 0.0, 0.0, 0.0], [0.08590573817491531, 0.01470409706234932, 0.010510564781725407, 0.028699841350317, 0.016654495149850845, 0.012795399874448776, 0.009235282428562641, 0.014819213189184666, 0.028232716023921967, 0.011867675930261612, 0.00926817487925291, 0.023044351488351822, 0.017553268000483513, 0.032954033464193344, 0.025013737380504608, 0.012247503735125065, 0.02679956518113613, 0.013326537795364857, 0.016479840502142906, 0.03472821041941643, 0.0398080050945282, 0.050673384219408035, 0.030861176550388336, 0.02755182981491089, 0.036164216697216034, 0.017406117171049118, 0.047160595655441284, 0.025891847908496857, 0.02839728444814682, 0.06047138199210167, 0.03584858775138855, 0.03886667266488075, 0.11605862528085709, 0.0, 0.0], [0.056707724928855896, 0.015243269503116608, 0.009892581030726433, 0.017495425418019295, 0.03529244288802147, 0.015370246022939682, 0.010747751221060753, 0.01709159091114998, 0.021245012059807777, 0.01306450366973877, 0.0063941157422959805, 0.02176818624138832, 0.011015362106263638, 0.0232908446341753, 0.020971029996871948, 0.012346651405096054, 0.024119649082422256, 0.01381504163146019, 0.016820497810840607, 0.0345151461660862, 0.030974801629781723, 0.032177556306123734, 0.03227025642991066, 0.02327035740017891, 0.027259420603513718, 0.01785033755004406, 0.057764314115047455, 0.024271585047245026, 0.02524302713572979, 0.03774581849575043, 0.015895813703536987, 0.026596587151288986, 0.04215161129832268, 0.2093215137720108, 0.0], [0.04736969992518425, 0.013491553254425526, 0.008601201698184013, 0.011534370481967926, 0.03260952979326248, 0.008750016801059246, 0.01049541961401701, 0.015973465517163277, 0.024224920198321342, 0.013959748670458794, 0.01158416923135519, 0.02090699039399624, 0.012310195714235306, 0.02849937416613102, 0.01440322957932949, 0.011428194120526314, 0.024424541741609573, 0.021284054964780807, 0.0275762677192688, 0.025762228295207024, 0.049149543046951294, 0.021549459546804428, 0.02072589099407196, 0.03023243509232998, 0.04683731868863106, 0.02172248438000679, 0.02025720849633217, 0.019149543717503548, 0.010533904656767845, 0.05002592131495476, 0.030405573546886444, 0.022812237963080406, 0.029462479054927826, 0.03996318578720093, 0.20198363065719604]], [[1.0, 0.0, 0.0, 0.0, 0.0, 0.0, 0.0, 0.0, 0.0, 0.0, 0.0, 0.0, 0.0, 0.0, 0.0, 0.0, 0.0, 0.0, 0.0, 0.0, 0.0, 0.0, 0.0, 0.0, 0.0, 0.0, 0.0, 0.0, 0.0, 0.0, 0.0, 0.0, 0.0, 0.0, 0.0], [0.8253121972084045, 0.17468774318695068, 0.0, 0.0, 0.0, 0.0, 0.0, 0.0, 0.0, 0.0, 0.0, 0.0, 0.0, 0.0, 0.0, 0.0, 0.0, 0.0, 0.0, 0.0, 0.0, 0.0, 0.0, 0.0, 0.0, 0.0, 0.0, 0.0, 0.0, 0.0, 0.0, 0.0, 0.0, 0.0, 0.0], [0.758050262928009, 0.13029678165912628, 0.1116529181599617, 0.0, 0.0, 0.0, 0.0, 0.0, 0.0, 0.0, 0.0, 0.0, 0.0, 0.0, 0.0, 0.0, 0.0, 0.0, 0.0, 0.0, 0.0, 0.0, 0.0, 0.0, 0.0, 0.0, 0.0, 0.0, 0.0, 0.0, 0.0, 0.0, 0.0, 0.0, 0.0], [0.7232239842414856, 0.0827443078160286, 0.07870826870203018, 0.11532338708639145, 0.0, 0.0, 0.0, 0.0, 0.0, 0.0, 0.0, 0.0, 0.0, 0.0, 0.0, 0.0, 0.0, 0.0, 0.0, 0.0, 0.0, 0.0, 0.0, 0.0, 0.0, 0.0, 0.0, 0.0, 0.0, 0.0, 0.0, 0.0, 0.0, 0.0, 0.0], [0.5594542622566223, 0.08694437891244888, 0.09115545451641083, 0.09393441677093506, 0.1685115247964859, 0.0, 0.0, 0.0, 0.0, 0.0, 0.0, 0.0, 0.0, 0.0, 0.0, 0.0, 0.0, 0.0, 0.0, 0.0, 0.0, 0.0, 0.0, 0.0, 0.0, 0.0, 0.0, 0.0, 0.0, 0.0, 0.0, 0.0, 0.0, 0.0, 0.0], [0.5031396746635437, 0.08192654699087143, 0.05872313305735588, 0.1048090010881424, 0.15214203298091888, 0.09925957024097443, 0.0, 0.0, 0.0, 0.0, 0.0, 0.0, 0.0, 0.0, 0.0, 0.0, 0.0, 0.0, 0.0, 0.0, 0.0, 0.0, 0.0, 0.0, 0.0, 0.0, 0.0, 0.0, 0.0, 0.0, 0.0, 0.0, 0.0, 0.0, 0.0], [0.5279609560966492, 0.05825980752706528, 0.0683659017086029, 0.11652133613824844, 0.11039456725120544, 0.06918039172887802, 0.04931704327464104, 0.0, 0.0, 0.0, 0.0, 0.0, 0.0, 0.0, 0.0, 0.0, 0.0, 0.0, 0.0, 0.0, 0.0, 0.0, 0.0, 0.0, 0.0, 0.0, 0.0, 0.0, 0.0, 0.0, 0.0, 0.0, 0.0, 0.0, 0.0], [0.30010077357292175, 0.08826003223657608, 0.05834929645061493, 0.10984240472316742, 0.1686263233423233, 0.12896907329559326, 0.023227622732520103, 0.12262450903654099, 0.0, 0.0, 0.0, 0.0, 0.0, 0.0, 0.0, 0.0, 0.0, 0.0, 0.0, 0.0, 0.0, 0.0, 0.0, 0.0, 0.0, 0.0, 0.0, 0.0, 0.0, 0.0, 0.0, 0.0, 0.0, 0.0, 0.0], [0.3934404253959656, 0.04758618772029877, 0.05194966867566109, 0.07471578568220139, 0.1195099726319313, 0.05938037484884262, 0.023368611931800842, 0.10266401618719101, 0.1273850053548813, 0.0, 0.0, 0.0, 0.0, 0.0, 0.0, 0.0, 0.0, 0.0, 0.0, 0.0, 0.0, 0.0, 0.0, 0.0, 0.0, 0.0, 0.0, 0.0, 0.0, 0.0, 0.0, 0.0, 0.0, 0.0, 0.0], [0.3446025848388672, 0.050329018384218216, 0.0599132739007473, 0.04483127221465111, 0.15738153457641602, 0.06782461702823639, 0.03229012340307236, 0.07052529603242874, 0.0895390585064888, 0.08276325464248657, 0.0, 0.0, 0.0, 0.0, 0.0, 0.0, 0.0, 0.0, 0.0, 0.0, 0.0, 0.0, 0.0, 0.0, 0.0, 0.0, 0.0, 0.0, 0.0, 0.0, 0.0, 0.0, 0.0, 0.0, 0.0], [0.33508479595184326, 0.04626999795436859, 0.04785763472318649, 0.10917432606220245, 0.04435235261917114, 0.04490727558732033, 0.02844386361539364, 0.07920621335506439, 0.10731324553489685, 0.06832483410835266, 0.08906552940607071, 0.0, 0.0, 0.0, 0.0, 0.0, 0.0, 0.0, 0.0, 0.0, 0.0, 0.0, 0.0, 0.0, 0.0, 0.0, 0.0, 0.0, 0.0, 0.0, 0.0, 0.0, 0.0, 0.0, 0.0], [0.3115721642971039, 0.039277635514736176, 0.035212721675634384, 0.07550990581512451, 0.08078575879335403, 0.045036885887384415, 0.02880650758743286, 0.10218674689531326, 0.08797681331634521, 0.05585261061787605, 0.08571925759315491, 0.0520629920065403, 0.0, 0.0, 0.0, 0.0, 0.0, 0.0, 0.0, 0.0, 0.0, 0.0, 0.0, 0.0, 0.0, 0.0, 0.0, 0.0, 0.0, 0.0, 0.0, 0.0, 0.0, 0.0, 0.0], [0.3614695072174072, 0.06311222910881042, 0.026989927515387535, 0.0709579735994339, 0.03985174000263214, 0.029446514323353767, 0.02279636822640896, 0.07072701305150986, 0.11304391175508499, 0.033355191349983215, 0.03714418038725853, 0.047639429569244385, 0.08346597105264664, 0.0, 0.0, 0.0, 0.0, 0.0, 0.0, 0.0, 0.0, 0.0, 0.0, 0.0, 0.0, 0.0, 0.0, 0.0, 0.0, 0.0, 0.0, 0.0, 0.0, 0.0, 0.0], [0.26885920763015747, 0.03265075013041496, 0.03938187286257744, 0.050811443477869034, 0.08684231340885162, 0.043101966381073, 0.017922356724739075, 0.06655361503362656, 0.07785408198833466, 0.04528900980949402, 0.06586872786283493, 0.0460660494863987, 0.07721765339374542, 0.08158092200756073, 0.0, 0.0, 0.0, 0.0, 0.0, 0.0, 0.0, 0.0, 0.0, 0.0, 0.0, 0.0, 0.0, 0.0, 0.0, 0.0, 0.0, 0.0, 0.0, 0.0, 0.0], [0.20790532231330872, 0.030814697965979576, 0.029462972655892372, 0.050674233585596085, 0.08743475377559662, 0.04770582914352417, 0.027333172038197517, 0.09152109920978546, 0.05214143171906471, 0.047082457691431046, 0.08081997185945511, 0.054532743990421295, 0.12074842303991318, 0.05516167730093002, 0.016661206260323524, 0.0, 0.0, 0.0, 0.0, 0.0, 0.0, 0.0, 0.0, 0.0, 0.0, 0.0, 0.0, 0.0, 0.0, 0.0, 0.0, 0.0, 0.0, 0.0, 0.0], [0.19932863116264343, 0.04206708073616028, 0.05715768784284592, 0.07193326205015182, 0.05065881088376045, 0.03152456507086754, 0.027136800810694695, 0.04140905663371086, 0.0932227224111557, 0.052022069692611694, 0.0254228413105011, 0.059279102832078934, 0.06613776087760925, 0.0958227664232254, 0.03163216635584831, 0.055244676768779755, 0.0, 0.0, 0.0, 0.0, 0.0, 0.0, 0.0, 0.0, 0.0, 0.0, 0.0, 0.0, 0.0, 0.0, 0.0, 0.0, 0.0, 0.0, 0.0], [0.23719795048236847, 0.03067580983042717, 0.0292084738612175, 0.05821239948272705, 0.06082985922694206, 0.03495608642697334, 0.02444053255021572, 0.07084920257329941, 0.05983855947852135, 0.03970345854759216, 0.0593259260058403, 0.03675238788127899, 0.07694025337696075, 0.061716459691524506, 0.014049733988940716, 0.06745626032352448, 0.037846650928258896, 0.0, 0.0, 0.0, 0.0, 0.0, 0.0, 0.0, 0.0, 0.0, 0.0, 0.0, 0.0, 0.0, 0.0, 0.0, 0.0, 0.0, 0.0], [0.2499532550573349, 0.026629487052559853, 0.03931758925318718, 0.04463213309645653, 0.07087577879428864, 0.0340941958129406, 0.02126503922045231, 0.05726420134305954, 0.05179664120078087, 0.03503984957933426, 0.0439227931201458, 0.03922875598073006, 0.061559148132801056, 0.051224235445261, 0.015611969865858555, 0.08278117328882217, 0.0389174222946167, 0.035886362195014954, 0.0, 0.0, 0.0, 0.0, 0.0, 0.0, 0.0, 0.0, 0.0, 0.0, 0.0, 0.0, 0.0, 0.0, 0.0, 0.0, 0.0], [0.22269800305366516, 0.02651812508702278, 0.03978952392935753, 0.027604008093476295, 0.08196065574884415, 0.035829655826091766, 0.015378959476947784, 0.06874663382768631, 0.053430840373039246, 0.054698217660188675, 0.05721568688750267, 0.031615279614925385, 0.037170715630054474, 0.05228295177221298, 0.011851193383336067, 0.0720609724521637, 0.030878286808729172, 0.02441115491092205, 0.05585915222764015, 0.0, 0.0, 0.0, 0.0, 0.0, 0.0, 0.0, 0.0, 0.0, 0.0, 0.0, 0.0, 0.0, 0.0, 0.0, 0.0], [0.07419285923242569, 0.050926994532346725, 0.028230952098965645, 0.03420005366206169, 0.03361425921320915, 0.05182219296693802, 0.009658378548920155, 0.04940612614154816, 0.09883320331573486, 0.05356482416391373, 0.024581875652074814, 0.05879184231162071, 0.013026786036789417, 0.10889022052288055, 0.015677114948630333, 0.04766634479165077, 0.06507275998592377, 0.038861677050590515, 0.0398426316678524, 0.10313884913921356, 0.0, 0.0, 0.0, 0.0, 0.0, 0.0, 0.0, 0.0, 0.0, 0.0, 0.0, 0.0, 0.0, 0.0, 0.0], [0.22614891827106476, 0.025769881904125214, 0.03336167708039284, 0.04034487158060074, 0.06116845831274986, 0.031660258769989014, 0.023036975413560867, 0.04815824329853058, 0.04964130371809006, 0.02570328675210476, 0.051324229687452316, 0.029225792735815048, 0.04627237096428871, 0.04679548740386963, 0.010471497662365437, 0.04346737265586853, 0.02797774411737919, 0.03356108069419861, 0.032099246978759766, 0.05562402307987213, 0.05818727985024452, 0.0, 0.0, 0.0, 0.0, 0.0, 0.0, 0.0, 0.0, 0.0, 0.0, 0.0, 0.0, 0.0, 0.0], [0.1944299191236496, 0.020005809143185616, 0.025669975206255913, 0.027610071003437042, 0.07351990044116974, 0.02511858567595482, 0.016428446397185326, 0.05443364381790161, 0.044502656906843185, 0.022272851318120956, 0.029331287369132042, 0.03064262494444847, 0.0628659799695015, 0.0433916337788105, 0.010215999558568, 0.09763483703136444, 0.02960142306983471, 0.028080467134714127, 0.03757163882255554, 0.050374019891023636, 0.06089741364121437, 0.015400811098515987, 0.0, 0.0, 0.0, 0.0, 0.0, 0.0, 0.0, 0.0, 0.0, 0.0, 0.0, 0.0, 0.0], [0.19766584038734436, 0.04115752503275871, 0.03360118716955185, 0.023870175704360008, 0.06633444875478745, 0.02801697701215744, 0.01958294026553631, 0.05178564786911011, 0.03159146010875702, 0.02653614431619644, 0.04164315387606621, 0.025757962837815285, 0.04328406974673271, 0.02993945963680744, 0.012750313617289066, 0.056069158017635345, 0.024677328765392303, 0.02150590717792511, 0.045592933893203735, 0.07480883598327637, 0.0443340465426445, 0.0219973586499691, 0.03749702870845795, 0.0, 0.0, 0.0, 0.0, 0.0, 0.0, 0.0, 0.0, 0.0, 0.0, 0.0, 0.0], [0.18043571710586548, 0.023349838331341743, 0.023929737508296967, 0.04454164579510689, 0.040705934166908264, 0.03654100000858307, 0.01661658100783825, 0.05323559045791626, 0.050283920019865036, 0.02584688365459442, 0.04605169594287872, 0.024920543655753136, 0.03976091742515564, 0.04893423989415169, 0.01239001750946045, 0.06191660463809967, 0.023965341970324516, 0.028754502534866333, 0.02509540505707264, 0.06865915656089783, 0.0735766813158989, 0.018046917393803596, 0.022800752893090248, 0.009640373289585114, 0.0, 0.0, 0.0, 0.0, 0.0, 0.0, 0.0, 0.0, 0.0, 0.0, 0.0], [0.24246364831924438, 0.024696459993720055, 0.03868826478719711, 0.03357228636741638, 0.05476619675755501, 0.033804696053266525, 0.020721618086099625, 0.03275461494922638, 0.04349980503320694, 0.01856265217065811, 0.036468490958213806, 0.03100249543786049, 0.038625456392765045, 0.03993181139230728, 0.010727168060839176, 0.038317687809467316, 0.029280314221978188, 0.024678125977516174, 0.02788931503891945, 0.04502159357070923, 0.04307599365711212, 0.01690582185983658, 0.023586299270391464, 0.007298629265278578, 0.043660618364810944, 0.0, 0.0, 0.0, 0.0, 0.0, 0.0, 0.0, 0.0, 0.0, 0.0], [0.11111283302307129, 0.029458772391080856, 0.02455946058034897, 0.030902516096830368, 0.033864825963974, 0.03363063931465149, 0.012831440195441246, 0.030669283121824265, 0.06390532106161118, 0.023481518030166626, 0.02570461295545101, 0.03766978159546852, 0.01616787165403366, 0.06660736352205276, 0.017231756821274757, 0.03065868280827999, 0.039240460842847824, 0.02429523877799511, 0.026388797909021378, 0.05864027515053749, 0.10666141659021378, 0.017623895779252052, 0.02424544095993042, 0.01827959716320038, 0.03675020486116409, 0.059418026357889175, 0.0, 0.0, 0.0, 0.0, 0.0, 0.0, 0.0, 0.0, 0.0], [0.17855210602283478, 0.04373873770236969, 0.02777227759361267, 0.03288248926401138, 0.08083146810531616, 0.03614852949976921, 0.019438141956925392, 0.03604715317487717, 0.0315406359732151, 0.02228383533656597, 0.02674207277595997, 0.02027295157313347, 0.04929489642381668, 0.028057044371962547, 0.010035552084445953, 0.028219010680913925, 0.018526621162891388, 0.025377942249178886, 0.03921228274703026, 0.05273986980319023, 0.024735093116760254, 0.028674781322479248, 0.029405999928712845, 0.013893150724470615, 0.0176064595580101, 0.05648736283183098, 0.021483492106199265, 0.0, 0.0, 0.0, 0.0, 0.0, 0.0, 0.0, 0.0], [0.15546514093875885, 0.04916936531662941, 0.024515938013792038, 0.0257005263119936, 0.05483131855726242, 0.04209274426102638, 0.011645045131444931, 0.06493964791297913, 0.03121974505484104, 0.026562780141830444, 0.02832685597240925, 0.018289044499397278, 0.03490861877799034, 0.02966100350022316, 0.008558591827750206, 0.0466504842042923, 0.01766982488334179, 0.02372436784207821, 0.019038736820220947, 0.0771576464176178, 0.027307379990816116, 0.019747747108340263, 0.02436411753296852, 0.014429944567382336, 0.018928352743387222, 0.058505620807409286, 0.024364057928323746, 0.02222543954849243, 0.0, 0.0, 0.0, 0.0, 0.0, 0.0, 0.0], [0.19332920014858246, 0.02629834972321987, 0.030392469838261604, 0.029611876234412193, 0.0452016219496727, 0.03307906165719032, 0.02184077352285385, 0.02659415826201439, 0.04538283124566078, 0.03843945264816284, 0.02691538818180561, 0.02453508973121643, 0.015795713290572166, 0.04036761447787285, 0.01063427235931158, 0.026345480233430862, 0.022409794852137566, 0.019946040585637093, 0.044018492102622986, 0.06709348410367966, 0.033454734832048416, 0.0160849429666996, 0.025615878403186798, 0.011409512721002102, 0.013623225502669811, 0.04055491462349892, 0.01666298136115074, 0.03589889034628868, 0.01846371404826641, 0.0, 0.0, 0.0, 0.0, 0.0, 0.0], [0.15965190529823303, 0.018642347306013107, 0.026677701622247696, 0.028047842904925346, 0.049077726900577545, 0.026045670732855797, 0.01780771277844906, 0.03679424151778221, 0.045969441533088684, 0.019110891968011856, 0.037963200360536575, 0.027620621025562286, 0.028341028839349747, 0.04296436533331871, 0.008847584947943687, 0.032530203461647034, 0.02565997652709484, 0.02448512241244316, 0.0299662034958601, 0.040540702641010284, 0.042335040867328644, 0.017694560810923576, 0.02121768519282341, 0.006380946841090918, 0.031033912673592567, 0.035579707473516464, 0.025066187605261803, 0.026607485488057137, 0.02430843375623226, 0.04303152859210968, 0.0, 0.0, 0.0, 0.0, 0.0], [0.1966170072555542, 0.019791383296251297, 0.033033329993486404, 0.0256870836019516, 0.04220607131719589, 0.03137582540512085, 0.01624363660812378, 0.030698411166667938, 0.03629425913095474, 0.026839347556233406, 0.026712186634540558, 0.023046309128403664, 0.02195010520517826, 0.03344837576150894, 0.010305732488632202, 0.02274366281926632, 0.021480794996023178, 0.02109473943710327, 0.03149038553237915, 0.03692729026079178, 0.037232108414173126, 0.015422004275023937, 0.019252341240644455, 0.007320491597056389, 0.024766921997070312, 0.0443916991353035, 0.019850734621286392, 0.026133663952350616, 0.01812446489930153, 0.04270906373858452, 0.03681059181690216, 0.0, 0.0, 0.0, 0.0], [0.16313210129737854, 0.022932490333914757, 0.029583673924207687, 0.02861548587679863, 0.0377846360206604, 0.02651870995759964, 0.026229023933410645, 0.03103415109217167, 0.03483205288648605, 0.01897561363875866, 0.03320293501019478, 0.026435939595103264, 0.032307349145412445, 0.0313292033970356, 0.011727881617844105, 0.02716914378106594, 0.024106504395604134, 0.022620316594839096, 0.025755563750863075, 0.038014158606529236, 0.03207402676343918, 0.017354251816868782, 0.017987214028835297, 0.009293690323829651, 0.04247136041522026, 0.031215863302350044, 0.019006576389074326, 0.02152346260845661, 0.0175411868840456, 0.040145181119441986, 0.01816076971590519, 0.04091949760913849, 0.0, 0.0, 0.0], [0.15803849697113037, 0.016828812658786774, 0.020642384886741638, 0.04538252204656601, 0.046641722321510315, 0.02783522754907608, 0.020206501707434654, 0.042115092277526855, 0.03703448176383972, 0.01774459145963192, 0.03035331703722477, 0.024713635444641113, 0.03428487852215767, 0.033413711935281754, 0.009082166478037834, 0.03521377220749855, 0.022280128672719002, 0.020850008353590965, 0.02739020623266697, 0.03231462836265564, 0.037649236619472504, 0.014920792542397976, 0.01655367761850357, 0.006309076678007841, 0.023218730464577675, 0.027949873358011246, 0.023832254111766815, 0.015323558822274208, 0.017670495435595512, 0.0268152616918087, 0.022188855335116386, 0.028694555163383484, 0.03650735691189766, 0.0, 0.0], [0.1701940894126892, 0.03212590515613556, 0.029870089143514633, 0.019615579396486282, 0.054893795400857925, 0.03622061014175415, 0.017152205109596252, 0.0323265939950943, 0.0315006859600544, 0.029624538496136665, 0.029094267636537552, 0.01662425696849823, 0.02998979203402996, 0.027614135295152664, 0.01094976719468832, 0.03436654061079025, 0.01483010221272707, 0.015176069922745228, 0.03050289861857891, 0.04159744828939438, 0.02064121514558792, 0.017041221261024475, 0.026175430044531822, 0.010538807138800621, 0.007441797759383917, 0.03439135104417801, 0.02607710473239422, 0.029615655541419983, 0.013693030923604965, 0.018074294552206993, 0.033748526126146317, 0.0290025994181633, 0.013117284514009953, 0.01617228239774704, 0.0], [0.11417391896247864, 0.016700686886906624, 0.02357623167335987, 0.03235282376408577, 0.055113621056079865, 0.029616650193929672, 0.017176378518342972, 0.05952785536646843, 0.0384342260658741, 0.020421102643013, 0.03235999122262001, 0.019217433407902718, 0.01913510449230671, 0.03519751504063606, 0.010996292345225811, 0.04401443898677826, 0.016835950314998627, 0.016212482005357742, 0.0238405279815197, 0.042316604405641556, 0.03716839477419853, 0.009007311426103115, 0.01597953960299492, 0.005828782916069031, 0.02082641050219536, 0.028255823999643326, 0.03160592541098595, 0.02425202913582325, 0.023285284638404846, 0.019917484372854233, 0.024559777230024338, 0.02195736952126026, 0.01319314818829298, 0.020208805799484253, 0.03673402965068817]]], \"tokens\": [\"<|endoftext|>\", \"I\", \" am\", \" an\", \" amazing\", \" aut\", \"ore\", \"gressive\", \",\", \" dec\", \"oder\", \"-\", \"only\", \",\", \" G\", \"PT\", \"-\", \"2\", \" style\", \" transformer\", \".\", \" One\", \" day\", \" I\", \" will\", \" exceed\", \" human\", \" level\", \" intelligence\", \" and\", \" take\", \" over\", \" the\", \" world\", \"!\"], \"maskUpperTri\": true}\n",
              "    )\n",
              "    </script>"
            ]
          },
          "metadata": {}
        }
      ],
      "source": [
        "display(\n",
        "    cv.attention.attention_heads(\n",
        "        tokens=reference_gpt2.to_str_tokens(reference_text), attention=cache[\"pattern\", 0][0]\n",
        "    )\n",
        ")"
      ]
    },
    {
      "cell_type": "markdown",
      "metadata": {
        "id": "4gcy-cMwQ36J"
      },
      "source": [
        "You should fill in the forward method for `Attention` below. You should also copy your code for `apply_causal_mask` to this new implementation of `Attention` (you can delete the rest of the old implementation code).\n",
        "\n",
        "Note, this implementation will probably be the most challenging exercise on this page, so don't worry if it takes you some time! You should look at parts of the solution if you're stuck. A few tips:\n",
        "\n",
        "* Don't forget the attention score scaling (this should come before the masking).\n",
        "* Try not to combine a large number of operations into a single line of code.\n",
        "* Try to make your variable names descriptive (i.e. it's not just `x = some_fn_of(x), x = some_other_fn_of(x), ...`)."
      ]
    },
    {
      "cell_type": "code",
      "execution_count": 25,
      "metadata": {
        "id": "3jR_TqMEQ36J",
        "outputId": "e574e8ff-3eda-4f4e-c842-6e8b9f785797",
        "colab": {
          "base_uri": "https://localhost:8080/",
          "height": 373
        }
      },
      "outputs": [
        {
          "output_type": "stream",
          "name": "stdout",
          "text": [
            "All tests in `test_causal_mask` passed!\n",
            "Input shape: torch.Size([2, 4, 768])\n"
          ]
        },
        {
          "output_type": "error",
          "ename": "NotImplementedError",
          "evalue": "",
          "traceback": [
            "\u001b[0;31m---------------------------------------------------------------------------\u001b[0m",
            "\u001b[0;31mNotImplementedError\u001b[0m                       Traceback (most recent call last)",
            "\u001b[0;32m/tmp/ipython-input-25-2399008396.py\u001b[0m in \u001b[0;36m<cell line: 0>\u001b[0;34m()\u001b[0m\n\u001b[1;32m     39\u001b[0m \u001b[0;34m\u001b[0m\u001b[0m\n\u001b[1;32m     40\u001b[0m \u001b[0mtests\u001b[0m\u001b[0;34m.\u001b[0m\u001b[0mtest_causal_mask\u001b[0m\u001b[0;34m(\u001b[0m\u001b[0mAttention\u001b[0m\u001b[0;34m.\u001b[0m\u001b[0mapply_causal_mask\u001b[0m\u001b[0;34m)\u001b[0m\u001b[0;34m\u001b[0m\u001b[0;34m\u001b[0m\u001b[0m\n\u001b[0;32m---> 41\u001b[0;31m \u001b[0mrand_float_test\u001b[0m\u001b[0;34m(\u001b[0m\u001b[0mAttention\u001b[0m\u001b[0;34m,\u001b[0m \u001b[0;34m[\u001b[0m\u001b[0;36m2\u001b[0m\u001b[0;34m,\u001b[0m \u001b[0;36m4\u001b[0m\u001b[0;34m,\u001b[0m \u001b[0;36m768\u001b[0m\u001b[0;34m]\u001b[0m\u001b[0;34m)\u001b[0m\u001b[0;34m\u001b[0m\u001b[0;34m\u001b[0m\u001b[0m\n\u001b[0m\u001b[1;32m     42\u001b[0m \u001b[0mload_gpt2_test\u001b[0m\u001b[0;34m(\u001b[0m\u001b[0mAttention\u001b[0m\u001b[0;34m,\u001b[0m \u001b[0mreference_gpt2\u001b[0m\u001b[0;34m.\u001b[0m\u001b[0mblocks\u001b[0m\u001b[0;34m[\u001b[0m\u001b[0;36m0\u001b[0m\u001b[0;34m]\u001b[0m\u001b[0;34m.\u001b[0m\u001b[0mattn\u001b[0m\u001b[0;34m,\u001b[0m \u001b[0mcache\u001b[0m\u001b[0;34m[\u001b[0m\u001b[0;34m\"normalized\"\u001b[0m\u001b[0;34m,\u001b[0m \u001b[0;36m0\u001b[0m\u001b[0;34m,\u001b[0m \u001b[0;34m\"ln1\"\u001b[0m\u001b[0;34m]\u001b[0m\u001b[0;34m)\u001b[0m\u001b[0;34m\u001b[0m\u001b[0;34m\u001b[0m\u001b[0m\n",
            "\u001b[0;32m/tmp/ipython-input-17-3162347023.py\u001b[0m in \u001b[0;36mrand_float_test\u001b[0;34m(cls, shape)\u001b[0m\n\u001b[1;32m      4\u001b[0m     \u001b[0mrandom_input\u001b[0m \u001b[0;34m=\u001b[0m \u001b[0mt\u001b[0m\u001b[0;34m.\u001b[0m\u001b[0mrandn\u001b[0m\u001b[0;34m(\u001b[0m\u001b[0mshape\u001b[0m\u001b[0;34m)\u001b[0m\u001b[0;34m.\u001b[0m\u001b[0mto\u001b[0m\u001b[0;34m(\u001b[0m\u001b[0mdevice\u001b[0m\u001b[0;34m)\u001b[0m\u001b[0;34m\u001b[0m\u001b[0;34m\u001b[0m\u001b[0m\n\u001b[1;32m      5\u001b[0m     \u001b[0mprint\u001b[0m\u001b[0;34m(\u001b[0m\u001b[0;34m\"Input shape:\"\u001b[0m\u001b[0;34m,\u001b[0m \u001b[0mrandom_input\u001b[0m\u001b[0;34m.\u001b[0m\u001b[0mshape\u001b[0m\u001b[0;34m)\u001b[0m\u001b[0;34m\u001b[0m\u001b[0;34m\u001b[0m\u001b[0m\n\u001b[0;32m----> 6\u001b[0;31m     \u001b[0moutput\u001b[0m \u001b[0;34m=\u001b[0m \u001b[0mlayer\u001b[0m\u001b[0;34m(\u001b[0m\u001b[0mrandom_input\u001b[0m\u001b[0;34m)\u001b[0m\u001b[0;34m\u001b[0m\u001b[0;34m\u001b[0m\u001b[0m\n\u001b[0m\u001b[1;32m      7\u001b[0m     \u001b[0;32mif\u001b[0m \u001b[0misinstance\u001b[0m\u001b[0;34m(\u001b[0m\u001b[0moutput\u001b[0m\u001b[0;34m,\u001b[0m \u001b[0mtuple\u001b[0m\u001b[0;34m)\u001b[0m\u001b[0;34m:\u001b[0m\u001b[0;34m\u001b[0m\u001b[0;34m\u001b[0m\u001b[0m\n\u001b[1;32m      8\u001b[0m         \u001b[0moutput\u001b[0m \u001b[0;34m=\u001b[0m \u001b[0moutput\u001b[0m\u001b[0;34m[\u001b[0m\u001b[0;36m0\u001b[0m\u001b[0;34m]\u001b[0m\u001b[0;34m\u001b[0m\u001b[0;34m\u001b[0m\u001b[0m\n",
            "\u001b[0;32m/usr/local/lib/python3.11/dist-packages/torch/nn/modules/module.py\u001b[0m in \u001b[0;36m_wrapped_call_impl\u001b[0;34m(self, *args, **kwargs)\u001b[0m\n\u001b[1;32m   1737\u001b[0m             \u001b[0;32mreturn\u001b[0m \u001b[0mself\u001b[0m\u001b[0;34m.\u001b[0m\u001b[0m_compiled_call_impl\u001b[0m\u001b[0;34m(\u001b[0m\u001b[0;34m*\u001b[0m\u001b[0margs\u001b[0m\u001b[0;34m,\u001b[0m \u001b[0;34m**\u001b[0m\u001b[0mkwargs\u001b[0m\u001b[0;34m)\u001b[0m  \u001b[0;31m# type: ignore[misc]\u001b[0m\u001b[0;34m\u001b[0m\u001b[0;34m\u001b[0m\u001b[0m\n\u001b[1;32m   1738\u001b[0m         \u001b[0;32melse\u001b[0m\u001b[0;34m:\u001b[0m\u001b[0;34m\u001b[0m\u001b[0;34m\u001b[0m\u001b[0m\n\u001b[0;32m-> 1739\u001b[0;31m             \u001b[0;32mreturn\u001b[0m \u001b[0mself\u001b[0m\u001b[0;34m.\u001b[0m\u001b[0m_call_impl\u001b[0m\u001b[0;34m(\u001b[0m\u001b[0;34m*\u001b[0m\u001b[0margs\u001b[0m\u001b[0;34m,\u001b[0m \u001b[0;34m**\u001b[0m\u001b[0mkwargs\u001b[0m\u001b[0;34m)\u001b[0m\u001b[0;34m\u001b[0m\u001b[0;34m\u001b[0m\u001b[0m\n\u001b[0m\u001b[1;32m   1740\u001b[0m \u001b[0;34m\u001b[0m\u001b[0m\n\u001b[1;32m   1741\u001b[0m     \u001b[0;31m# torchrec tests the code consistency with the following code\u001b[0m\u001b[0;34m\u001b[0m\u001b[0;34m\u001b[0m\u001b[0m\n",
            "\u001b[0;32m/usr/local/lib/python3.11/dist-packages/torch/nn/modules/module.py\u001b[0m in \u001b[0;36m_call_impl\u001b[0;34m(self, *args, **kwargs)\u001b[0m\n\u001b[1;32m   1748\u001b[0m                 \u001b[0;32mor\u001b[0m \u001b[0m_global_backward_pre_hooks\u001b[0m \u001b[0;32mor\u001b[0m \u001b[0m_global_backward_hooks\u001b[0m\u001b[0;34m\u001b[0m\u001b[0;34m\u001b[0m\u001b[0m\n\u001b[1;32m   1749\u001b[0m                 or _global_forward_hooks or _global_forward_pre_hooks):\n\u001b[0;32m-> 1750\u001b[0;31m             \u001b[0;32mreturn\u001b[0m \u001b[0mforward_call\u001b[0m\u001b[0;34m(\u001b[0m\u001b[0;34m*\u001b[0m\u001b[0margs\u001b[0m\u001b[0;34m,\u001b[0m \u001b[0;34m**\u001b[0m\u001b[0mkwargs\u001b[0m\u001b[0;34m)\u001b[0m\u001b[0;34m\u001b[0m\u001b[0;34m\u001b[0m\u001b[0m\n\u001b[0m\u001b[1;32m   1751\u001b[0m \u001b[0;34m\u001b[0m\u001b[0m\n\u001b[1;32m   1752\u001b[0m         \u001b[0mresult\u001b[0m \u001b[0;34m=\u001b[0m \u001b[0;32mNone\u001b[0m\u001b[0;34m\u001b[0m\u001b[0;34m\u001b[0m\u001b[0m\n",
            "\u001b[0;32m/tmp/ipython-input-25-2399008396.py\u001b[0m in \u001b[0;36mforward\u001b[0;34m(self, normalized_resid_pre)\u001b[0m\n\u001b[1;32m     22\u001b[0m         \u001b[0mself\u001b[0m\u001b[0;34m,\u001b[0m \u001b[0mnormalized_resid_pre\u001b[0m\u001b[0;34m:\u001b[0m \u001b[0mFloat\u001b[0m\u001b[0;34m[\u001b[0m\u001b[0mTensor\u001b[0m\u001b[0;34m,\u001b[0m \u001b[0;34m\"batch posn d_model\"\u001b[0m\u001b[0;34m]\u001b[0m\u001b[0;34m\u001b[0m\u001b[0;34m\u001b[0m\u001b[0m\n\u001b[1;32m     23\u001b[0m     ) -> Float[Tensor, \"batch posn d_model\"]:\n\u001b[0;32m---> 24\u001b[0;31m         \u001b[0;32mraise\u001b[0m \u001b[0mNotImplementedError\u001b[0m\u001b[0;34m(\u001b[0m\u001b[0;34m)\u001b[0m\u001b[0;34m\u001b[0m\u001b[0;34m\u001b[0m\u001b[0m\n\u001b[0m\u001b[1;32m     25\u001b[0m \u001b[0;34m\u001b[0m\u001b[0m\n\u001b[1;32m     26\u001b[0m     def apply_causal_mask(\n",
            "\u001b[0;31mNotImplementedError\u001b[0m: "
          ]
        }
      ],
      "source": [
        "class Attention(nn.Module):\n",
        "    IGNORE: Float[Tensor, \"\"]\n",
        "\n",
        "    def __init__(self, cfg: Config):\n",
        "        super().__init__()\n",
        "        self.cfg = cfg\n",
        "        self.W_Q = nn.Parameter(t.empty((cfg.n_heads, cfg.d_model, cfg.d_head)))\n",
        "        self.W_K = nn.Parameter(t.empty((cfg.n_heads, cfg.d_model, cfg.d_head)))\n",
        "        self.W_V = nn.Parameter(t.empty((cfg.n_heads, cfg.d_model, cfg.d_head)))\n",
        "        self.W_O = nn.Parameter(t.empty((cfg.n_heads, cfg.d_head, cfg.d_model)))\n",
        "        self.b_Q = nn.Parameter(t.zeros((cfg.n_heads, cfg.d_head)))\n",
        "        self.b_K = nn.Parameter(t.zeros((cfg.n_heads, cfg.d_head)))\n",
        "        self.b_V = nn.Parameter(t.zeros((cfg.n_heads, cfg.d_head)))\n",
        "        self.b_O = nn.Parameter(t.zeros((cfg.d_model)))\n",
        "        nn.init.normal_(self.W_Q, std=self.cfg.init_range)\n",
        "        nn.init.normal_(self.W_K, std=self.cfg.init_range)\n",
        "        nn.init.normal_(self.W_V, std=self.cfg.init_range)\n",
        "        nn.init.normal_(self.W_O, std=self.cfg.init_range)\n",
        "        self.register_buffer(\"IGNORE\", t.tensor(float(\"-inf\"), dtype=t.float32, device=device))\n",
        "\n",
        "    def forward(\n",
        "        self, normalized_resid_pre: Float[Tensor, \"batch posn d_model\"]\n",
        "    ) -> Float[Tensor, \"batch posn d_model\"]:\n",
        "\n",
        "\n",
        "    def apply_causal_mask(\n",
        "        self, attn_scores: Float[Tensor, \"batch n_heads query_pos key_pos\"]\n",
        "    ) -> Float[Tensor, \"batch n_heads query_pos key_pos\"]:\n",
        "        \"\"\"\n",
        "        Applies a causal mask to attention scores, and returns masked scores.\n",
        "        \"\"\"\n",
        "        # Define a mask that is True for all positions we want to set probabilities to zero for\n",
        "        all_ones = t.ones(attn_scores.size(-2), attn_scores.size(-1), device=attn_scores.device)\n",
        "        mask = t.triu(all_ones, diagonal=1).bool()\n",
        "        # Apply the mask to attention scores, then return the masked scores\n",
        "        attn_scores.masked_fill_(mask, self.IGNORE)\n",
        "        return attn_scores\n",
        "\n",
        "\n",
        "tests.test_causal_mask(Attention.apply_causal_mask)\n",
        "rand_float_test(Attention, [2, 4, 768])\n",
        "load_gpt2_test(Attention, reference_gpt2.blocks[0].attn, cache[\"normalized\", 0, \"ln1\"])"
      ]
    },
    {
      "cell_type": "markdown",
      "metadata": {
        "id": "3Un1C99MQ36J"
      },
      "source": [
        "<details>\n",
        "<summary>Hint (pseudocode for the forward method)</summary>\n",
        "\n",
        "```python\n",
        "def forward(\n",
        "    self, normalized_resid_pre: Float[Tensor, \"batch posn d_model\"]\n",
        ") -> Float[Tensor, \"batch posn d_model\"]:\n",
        "\n",
        "    # Calculate query, key and value vectors\n",
        "    q, k, v = ...\n",
        "\n",
        "    # Calculate attention scores, then scale and mask, and apply softmax to get probabilities\n",
        "    attn_scores = ...\n",
        "    attn_scores_masked = ...\n",
        "    attn_pattern = ...\n",
        "\n",
        "    # Take weighted sum of value vectors, according to attention probabilities\n",
        "    z = ...\n",
        "\n",
        "    # Calculate output (by applying matrix W_O and summing over heads, then adding bias b_O)\n",
        "    attn_out = ...\n",
        "    return attn_out\n",
        "```\n",
        "</details>\n",
        "\n",
        "\n",
        "<details><summary>Solution</summary>\n",
        "\n",
        "```python\n",
        "class Attention(nn.Module):\n",
        "    IGNORE: Float[Tensor, \"\"]\n",
        "\n",
        "    def __init__(self, cfg: Config):\n",
        "        super().__init__()\n",
        "        self.cfg = cfg\n",
        "        self.W_Q = nn.Parameter(t.empty((cfg.n_heads, cfg.d_model, cfg.d_head)))\n",
        "        self.W_K = nn.Parameter(t.empty((cfg.n_heads, cfg.d_model, cfg.d_head)))\n",
        "        self.W_V = nn.Parameter(t.empty((cfg.n_heads, cfg.d_model, cfg.d_head)))\n",
        "        self.W_O = nn.Parameter(t.empty((cfg.n_heads, cfg.d_head, cfg.d_model)))\n",
        "        self.b_Q = nn.Parameter(t.zeros((cfg.n_heads, cfg.d_head)))\n",
        "        self.b_K = nn.Parameter(t.zeros((cfg.n_heads, cfg.d_head)))\n",
        "        self.b_V = nn.Parameter(t.zeros((cfg.n_heads, cfg.d_head)))\n",
        "        self.b_O = nn.Parameter(t.zeros((cfg.d_model)))\n",
        "        nn.init.normal_(self.W_Q, std=self.cfg.init_range)\n",
        "        nn.init.normal_(self.W_K, std=self.cfg.init_range)\n",
        "        nn.init.normal_(self.W_V, std=self.cfg.init_range)\n",
        "        nn.init.normal_(self.W_O, std=self.cfg.init_range)\n",
        "        self.register_buffer(\"IGNORE\", t.tensor(float(\"-inf\"), dtype=t.float32, device=device))\n",
        "\n",
        "    def forward(\n",
        "        self, normalized_resid_pre: Float[Tensor, \"batch posn d_model\"]\n",
        "    ) -> Float[Tensor, \"batch posn d_model\"]:\n",
        "        # Calculate query, key and value vectors\n",
        "        q = (\n",
        "            einops.einsum(\n",
        "                normalized_resid_pre,\n",
        "                self.W_Q,\n",
        "                \"batch posn d_model, nheads d_model d_head -> batch posn nheads d_head\",\n",
        "            )\n",
        "            + self.b_Q\n",
        "        )\n",
        "        k = (\n",
        "            einops.einsum(\n",
        "                normalized_resid_pre,\n",
        "                self.W_K,\n",
        "                \"batch posn d_model, nheads d_model d_head -> batch posn nheads d_head\",\n",
        "            )\n",
        "            + self.b_K\n",
        "        )\n",
        "        v = (\n",
        "            einops.einsum(\n",
        "                normalized_resid_pre,\n",
        "                self.W_V,\n",
        "                \"batch posn d_model, nheads d_model d_head -> batch posn nheads d_head\",\n",
        "            )\n",
        "            + self.b_V\n",
        "        )\n",
        "\n",
        "        # Calculate attention scores, then scale and mask, and apply softmax to get probabilities\n",
        "        attn_scores = einops.einsum(\n",
        "            q,\n",
        "            k,\n",
        "            \"batch posn_Q nheads d_head, batch posn_K nheads d_head -> batch nheads posn_Q posn_K\",\n",
        "        )\n",
        "        attn_scores_masked = self.apply_causal_mask(attn_scores / self.cfg.d_head**0.5)\n",
        "        attn_pattern = attn_scores_masked.softmax(-1)\n",
        "\n",
        "        # Take weighted sum of value vectors, according to attention probabilities\n",
        "        z = einops.einsum(\n",
        "            v,\n",
        "            attn_pattern,\n",
        "            \"batch posn_K nheads d_head, batch nheads posn_Q posn_K -> batch posn_Q nheads d_head\",\n",
        "        )\n",
        "\n",
        "        # Calculate output (by applying matrix W_O and summing over heads, then adding bias b_O)\n",
        "        attn_out = (\n",
        "            einops.einsum(\n",
        "                z,\n",
        "                self.W_O,\n",
        "                \"batch posn_Q nheads d_head, nheads d_head d_model -> batch posn_Q d_model\",\n",
        "            )\n",
        "            + self.b_O\n",
        "        )\n",
        "\n",
        "        return attn_out\n",
        "\n",
        "    def apply_causal_mask(\n",
        "        self, attn_scores: Float[Tensor, \"batch n_heads query_pos key_pos\"]\n",
        "    ) -> Float[Tensor, \"batch n_heads query_pos key_pos\"]:\n",
        "        \"\"\"\n",
        "        Applies a causal mask to attention scores, and returns masked scores.\n",
        "        \"\"\"\n",
        "        # Define a mask that is True for all positions we want to set probabilities to zero for\n",
        "        all_ones = t.ones(attn_scores.size(-2), attn_scores.size(-1), device=attn_scores.device)\n",
        "        mask = t.triu(all_ones, diagonal=1).bool()\n",
        "        # Apply the mask to attention scores, then return the masked scores\n",
        "        attn_scores.masked_fill_(mask, self.IGNORE)\n",
        "        return attn_scores\n",
        "```\n",
        "</details>"
      ]
    },
    {
      "cell_type": "markdown",
      "metadata": {
        "id": "wGHLiX3HQ36J"
      },
      "source": [
        "### Exercise - implement `MLP`\n",
        "\n",
        "> ```yaml\n",
        "> Difficulty: 🔴🔴⚪⚪⚪\n",
        "> Importance: 🔵🔵🔵🔵⚪\n",
        ">\n",
        "> You should spend up to 10-15 minutes on this exercise.\n",
        "> ```\n",
        "\n",
        "Next, you should implement the MLP layer, which consists of:\n",
        "\n",
        "* A linear layer, with weight `W_in`, bias `b_in`\n",
        "* A nonlinear function (we usually use GELU; the function `gelu_new` has been imported for this purpose)\n",
        "* A linear layer, with weight `W_out`, bias `b_out`"
      ]
    },
    {
      "cell_type": "code",
      "execution_count": null,
      "metadata": {
        "id": "mcm5R1WdQ36J"
      },
      "outputs": [],
      "source": [
        "class MLP(nn.Module):\n",
        "    def __init__(self, cfg: Config):\n",
        "        super().__init__()\n",
        "        self.cfg = cfg\n",
        "        self.W_in = nn.Parameter(t.empty((cfg.d_model, cfg.d_mlp)))\n",
        "        self.W_out = nn.Parameter(t.empty((cfg.d_mlp, cfg.d_model)))\n",
        "        self.b_in = nn.Parameter(t.zeros((cfg.d_mlp)))\n",
        "        self.b_out = nn.Parameter(t.zeros((cfg.d_model)))\n",
        "        nn.init.normal_(self.W_in, std=self.cfg.init_range)\n",
        "        nn.init.normal_(self.W_out, std=self.cfg.init_range)\n",
        "\n",
        "    def forward(\n",
        "        self, normalized_resid_mid: Float[Tensor, \"batch posn d_model\"]\n",
        "    ) -> Float[Tensor, \"batch posn d_model\"]:\n",
        "        raise NotImplementedError()\n",
        "\n",
        "\n",
        "rand_float_test(MLP, [2, 4, 768])\n",
        "load_gpt2_test(MLP, reference_gpt2.blocks[0].mlp, cache[\"normalized\", 0, \"ln2\"])"
      ]
    },
    {
      "cell_type": "markdown",
      "metadata": {
        "id": "7OvmM-c2Q36J"
      },
      "source": [
        "<details><summary>Solution</summary>\n",
        "\n",
        "```python\n",
        "class MLP(nn.Module):\n",
        "    def __init__(self, cfg: Config):\n",
        "        super().__init__()\n",
        "        self.cfg = cfg\n",
        "        self.W_in = nn.Parameter(t.empty((cfg.d_model, cfg.d_mlp)))\n",
        "        self.W_out = nn.Parameter(t.empty((cfg.d_mlp, cfg.d_model)))\n",
        "        self.b_in = nn.Parameter(t.zeros((cfg.d_mlp)))\n",
        "        self.b_out = nn.Parameter(t.zeros((cfg.d_model)))\n",
        "        nn.init.normal_(self.W_in, std=self.cfg.init_range)\n",
        "        nn.init.normal_(self.W_out, std=self.cfg.init_range)\n",
        "\n",
        "    def forward(\n",
        "        self, normalized_resid_mid: Float[Tensor, \"batch posn d_model\"]\n",
        "    ) -> Float[Tensor, \"batch posn d_model\"]:\n",
        "        pre = (\n",
        "            einops.einsum(\n",
        "                normalized_resid_mid,\n",
        "                self.W_in,\n",
        "                \"batch position d_model, d_model d_mlp -> batch position d_mlp\",\n",
        "            )\n",
        "            + self.b_in\n",
        "        )\n",
        "        post = gelu_new(pre)\n",
        "        mlp_out = (\n",
        "            einops.einsum(\n",
        "                post, self.W_out, \"batch position d_mlp, d_mlp d_model -> batch position d_model\"\n",
        "            )\n",
        "            + self.b_out\n",
        "        )\n",
        "        return mlp_out\n",
        "```\n",
        "</details>"
      ]
    },
    {
      "cell_type": "markdown",
      "metadata": {
        "id": "QdVzIhNYQ36K"
      },
      "source": [
        "### Exercise - implement `TransformerBlock`\n",
        "\n",
        "> ```yaml\n",
        "> Difficulty: 🔴🔴⚪⚪⚪\n",
        "> Importance: 🔵🔵🔵⚪⚪\n",
        ">\n",
        "> You should spend up to 10-15 minutes on this exercise.\n",
        "> ```\n",
        "\n",
        "Now, we can put together the attention, MLP and layernorms into a single transformer block. Remember to implement the residual connections correctly!"
      ]
    },
    {
      "cell_type": "code",
      "execution_count": null,
      "metadata": {
        "id": "9hIHrawnQ36K"
      },
      "outputs": [],
      "source": [
        "class TransformerBlock(nn.Module):\n",
        "    def __init__(self, cfg: Config):\n",
        "        super().__init__()\n",
        "        self.cfg = cfg\n",
        "        self.ln1 = LayerNorm(cfg)\n",
        "        self.attn = Attention(cfg)\n",
        "        self.ln2 = LayerNorm(cfg)\n",
        "        self.mlp = MLP(cfg)\n",
        "\n",
        "    def forward(\n",
        "        self, resid_pre: Float[Tensor, \"batch position d_model\"]\n",
        "    ) -> Float[Tensor, \"batch position d_model\"]:\n",
        "        raise NotImplementedError()\n",
        "\n",
        "\n",
        "rand_float_test(TransformerBlock, [2, 4, 768])\n",
        "load_gpt2_test(TransformerBlock, reference_gpt2.blocks[0], cache[\"resid_pre\", 0])"
      ]
    },
    {
      "cell_type": "markdown",
      "metadata": {
        "id": "e61bRUYAQ36K"
      },
      "source": [
        "<details>\n",
        "<summary>Help - I'm getting 100% accuracy on all modules before this point, but only about 90% accuracy on this one.</summary>\n",
        "\n",
        "This might be because your layernorm implementation divides by `std + eps` rather than `(var + eps).sqrt()`. The latter matches the implementation used by GPT-2 (and this error only shows up in these tests).\n",
        "\n",
        "</details>\n",
        "\n",
        "\n",
        "<details><summary>Solution</summary>\n",
        "\n",
        "```python\n",
        "class TransformerBlock(nn.Module):\n",
        "    def __init__(self, cfg: Config):\n",
        "        super().__init__()\n",
        "        self.cfg = cfg\n",
        "        self.ln1 = LayerNorm(cfg)\n",
        "        self.attn = Attention(cfg)\n",
        "        self.ln2 = LayerNorm(cfg)\n",
        "        self.mlp = MLP(cfg)\n",
        "\n",
        "    def forward(\n",
        "        self, resid_pre: Float[Tensor, \"batch position d_model\"]\n",
        "    ) -> Float[Tensor, \"batch position d_model\"]:\n",
        "        resid_mid = self.attn(self.ln1(resid_pre)) + resid_pre\n",
        "        resid_post = self.mlp(self.ln2(resid_mid)) + resid_mid\n",
        "        return resid_post\n",
        "```\n",
        "</details>"
      ]
    },
    {
      "cell_type": "markdown",
      "metadata": {
        "id": "00p5TRb5Q36K"
      },
      "source": [
        "### Exercise - implement `Unembed`\n",
        "\n",
        "> ```yaml\n",
        "> Difficulty: 🔴🔴⚪⚪⚪\n",
        "> Importance: 🔵🔵🔵⚪⚪\n",
        ">\n",
        "> You should spend up to ~10 minutes on this exercise.\n",
        "> ```\n",
        "\n",
        "The unembedding is just a linear layer (with weight `W_U` and bias `b_U`)."
      ]
    },
    {
      "cell_type": "code",
      "execution_count": null,
      "metadata": {
        "id": "MZ9pvhF_Q36K"
      },
      "outputs": [],
      "source": [
        "class Unembed(nn.Module):\n",
        "    def __init__(self, cfg):\n",
        "        super().__init__()\n",
        "        self.cfg = cfg\n",
        "        self.W_U = nn.Parameter(t.empty((cfg.d_model, cfg.d_vocab)))\n",
        "        nn.init.normal_(self.W_U, std=self.cfg.init_range)\n",
        "        self.b_U = nn.Parameter(t.zeros((cfg.d_vocab), requires_grad=False))\n",
        "\n",
        "    def forward(\n",
        "        self, normalized_resid_final: Float[Tensor, \"batch position d_model\"]\n",
        "    ) -> Float[Tensor, \"batch position d_vocab\"]:\n",
        "        raise NotImplementedError()\n",
        "\n",
        "\n",
        "rand_float_test(Unembed, [2, 4, 768])\n",
        "load_gpt2_test(Unembed, reference_gpt2.unembed, cache[\"ln_final.hook_normalized\"])"
      ]
    },
    {
      "cell_type": "markdown",
      "metadata": {
        "id": "FEMZETh6Q36K"
      },
      "source": [
        "<details><summary>Solution</summary>\n",
        "\n",
        "```python\n",
        "class Unembed(nn.Module):\n",
        "    def __init__(self, cfg):\n",
        "        super().__init__()\n",
        "        self.cfg = cfg\n",
        "        self.W_U = nn.Parameter(t.empty((cfg.d_model, cfg.d_vocab)))\n",
        "        nn.init.normal_(self.W_U, std=self.cfg.init_range)\n",
        "        self.b_U = nn.Parameter(t.zeros((cfg.d_vocab), requires_grad=False))\n",
        "\n",
        "    def forward(\n",
        "        self, normalized_resid_final: Float[Tensor, \"batch position d_model\"]\n",
        "    ) -> Float[Tensor, \"batch position d_vocab\"]:\n",
        "        return (\n",
        "            einops.einsum(\n",
        "                normalized_resid_final,\n",
        "                self.W_U,\n",
        "                \"batch posn d_model, d_model d_vocab -> batch posn d_vocab\",\n",
        "            )\n",
        "            + self.b_U\n",
        "        )\n",
        "```\n",
        "</details>"
      ]
    },
    {
      "cell_type": "markdown",
      "metadata": {
        "id": "qH6DjNo5Q36K"
      },
      "source": [
        "### Exercise - implement `DemoTransformer`\n",
        "\n",
        "> ```yaml\n",
        "> Difficulty: 🔴🔴⚪⚪⚪\n",
        "> Importance: 🔵🔵🔵⚪⚪\n",
        ">\n",
        "> You should spend up to 10-15 minutes on this exercise.\n",
        "> ```"
      ]
    },
    {
      "cell_type": "code",
      "execution_count": null,
      "metadata": {
        "id": "0rhr8xwDQ36K"
      },
      "outputs": [],
      "source": [
        "class DemoTransformer(nn.Module):\n",
        "    def __init__(self, cfg: Config):\n",
        "        super().__init__()\n",
        "        self.cfg = cfg\n",
        "        self.embed = Embed(cfg)\n",
        "        self.pos_embed = PosEmbed(cfg)\n",
        "        self.blocks = nn.ModuleList([TransformerBlock(cfg) for _ in range(cfg.n_layers)])\n",
        "        self.ln_final = LayerNorm(cfg)\n",
        "        self.unembed = Unembed(cfg)\n",
        "\n",
        "    def forward(\n",
        "        self, tokens: Int[Tensor, \"batch position\"]\n",
        "    ) -> Float[Tensor, \"batch position d_vocab\"]:\n",
        "        raise NotImplementedError()\n",
        "\n",
        "\n",
        "rand_int_test(DemoTransformer, [2, 4])\n",
        "load_gpt2_test(DemoTransformer, reference_gpt2, tokens)"
      ]
    },
    {
      "cell_type": "markdown",
      "metadata": {
        "id": "Bdx-i_MlQ36K"
      },
      "source": [
        "<details><summary>Solution</summary>\n",
        "\n",
        "```python\n",
        "class DemoTransformer(nn.Module):\n",
        "    def __init__(self, cfg: Config):\n",
        "        super().__init__()\n",
        "        self.cfg = cfg\n",
        "        self.embed = Embed(cfg)\n",
        "        self.pos_embed = PosEmbed(cfg)\n",
        "        self.blocks = nn.ModuleList([TransformerBlock(cfg) for _ in range(cfg.n_layers)])\n",
        "        self.ln_final = LayerNorm(cfg)\n",
        "        self.unembed = Unembed(cfg)\n",
        "\n",
        "    def forward(\n",
        "        self, tokens: Int[Tensor, \"batch position\"]\n",
        "    ) -> Float[Tensor, \"batch position d_vocab\"]:\n",
        "        residual = self.embed(tokens) + self.pos_embed(tokens)\n",
        "        for block in self.blocks:\n",
        "            residual = block(residual)\n",
        "        logits = self.unembed(self.ln_final(residual))\n",
        "        return logits\n",
        "```\n",
        "</details>"
      ]
    },
    {
      "cell_type": "markdown",
      "metadata": {
        "id": "o732BaIhQ36K"
      },
      "source": [
        "**Try it out!**"
      ]
    },
    {
      "cell_type": "code",
      "execution_count": null,
      "metadata": {
        "id": "XUWoMWBGQ36K"
      },
      "outputs": [],
      "source": [
        "demo_gpt2 = DemoTransformer(Config(debug=False)).to(device)\n",
        "demo_gpt2.load_state_dict(reference_gpt2.state_dict(), strict=False)\n",
        "\n",
        "demo_logits = demo_gpt2(tokens)"
      ]
    },
    {
      "cell_type": "markdown",
      "metadata": {
        "id": "y9wptEXEQ36K"
      },
      "source": [
        "Let's take a test string, and calculate the loss!\n",
        "\n",
        "We're using the formula for **cross-entropy loss**. The cross entropy loss between a modelled distribution $Q$ and target distribution $P$ is:\n",
        "\n",
        "$$\n",
        "-\\sum_x P(x) \\log Q(x)\n",
        "$$\n",
        "\n",
        "In the case where $P$ is just the empirical distribution from target classes (i.e. $P(x^*) = 1$ for the correct class $x^*$) then this becomes:\n",
        "\n",
        "$$\n",
        "-\\log Q(x^*)\n",
        "$$\n",
        "\n",
        "in other words, the negative log prob of the true classification."
      ]
    },
    {
      "cell_type": "code",
      "execution_count": null,
      "metadata": {
        "id": "m0B4h-RwQ36K"
      },
      "outputs": [],
      "source": [
        "def get_log_probs(\n",
        "    logits: Float[Tensor, \"batch posn d_vocab\"], tokens: Int[Tensor, \"batch posn\"]\n",
        ") -> Float[Tensor, \"batch posn-1\"]:\n",
        "    log_probs = logits.log_softmax(dim=-1)\n",
        "    # Get logprobs the first seq_len-1 predictions (so we can compare them with the actual next tokens)\n",
        "    log_probs_for_tokens = (\n",
        "        log_probs[:, :-1].gather(dim=-1, index=tokens[:, 1:].unsqueeze(-1)).squeeze(-1)\n",
        "    )\n",
        "\n",
        "    return log_probs_for_tokens\n",
        "\n",
        "\n",
        "pred_log_probs = get_log_probs(demo_logits, tokens)\n",
        "print(f\"Avg cross entropy loss: {-pred_log_probs.mean():.4f}\")\n",
        "print(f\"Avg cross entropy loss for uniform distribution: {math.log(demo_gpt2.cfg.d_vocab):4f}\")\n",
        "print(f\"Avg probability assigned to correct token: {pred_log_probs.exp().mean():4f}\")"
      ]
    },
    {
      "cell_type": "markdown",
      "metadata": {
        "id": "d5Wm6NWAQ36K"
      },
      "source": [
        "We can also greedily generate text, by taking the most likely next token and continually appending it to our prompt before feeding it back into the model:"
      ]
    },
    {
      "cell_type": "code",
      "execution_count": null,
      "metadata": {
        "id": "HN3O0xh7Q36K"
      },
      "outputs": [],
      "source": [
        "test_string = \"\"\"Mitigating the risk of extinction from AI should be a global priority alongside other societal-scale risks such as\"\"\"\n",
        "for i in tqdm(range(100)):\n",
        "    test_tokens = reference_gpt2.to_tokens(test_string).to(device)\n",
        "    demo_logits = demo_gpt2(test_tokens)\n",
        "    test_string += reference_gpt2.tokenizer.decode(demo_logits[-1, -1].argmax())\n",
        "\n",
        "print(test_string)"
      ]
    },
    {
      "cell_type": "markdown",
      "metadata": {
        "id": "D2grkWddQ36K"
      },
      "source": [
        "In section 4️⃣ we'll learn to generate text in slightly more interesting ways than just argmaxing the output (which can lead to unnatural patterns like repetition, or text which is just less natural-sounding)."
      ]
    },
    {
      "cell_type": "markdown",
      "metadata": {
        "id": "a3LKqhfKQ36K"
      },
      "source": [
        "# 3️⃣ Training a Transformer\n",
        "\n",
        "> ##### Learning Objectives\n",
        ">\n",
        "> * Understand how to train a transformer from scratch\n",
        "> * Write a basic transformer training loop\n",
        "> * Interpret the transformer's falling cross entropy loss with reference to features of the training data (e.g. bigram frequencies)"
      ]
    },
    {
      "cell_type": "markdown",
      "metadata": {
        "id": "hIjBY5xnQ36K"
      },
      "source": [
        "Now that we've built our transformer, and verified that it performs as expected when we load in weights, let's try training it from scratch!\n",
        "\n",
        "This is a lightweight demonstration of how you can actually train your own GPT-2 with this code! Here we train a tiny model on a tiny dataset, but it's fundamentally the same code for training a larger/more real model (though you'll need beefier GPUs and data parallelism to do it remotely efficiently, and fancier parallelism for much bigger ones).\n",
        "\n",
        "For our purposes, we'll train a 4 layer model with 16 heads per layer, with context length 128, for 10*500 steps of batch size 32, just to show what it looks like (and so the notebook doesn't melt your colab / machine!)."
      ]
    },
    {
      "cell_type": "markdown",
      "metadata": {
        "id": "OnbHAXW1Q36K"
      },
      "source": [
        "## Create Model"
      ]
    },
    {
      "cell_type": "code",
      "execution_count": null,
      "metadata": {
        "id": "xWXPHoAfQ36K"
      },
      "outputs": [],
      "source": [
        "model_cfg = Config(\n",
        "    debug=False,\n",
        "    d_model=32,\n",
        "    n_heads=16,\n",
        "    d_head=2,\n",
        "    d_mlp=32 * 4,\n",
        "    n_layers=4,\n",
        "    n_ctx=128,\n",
        "    d_vocab=reference_gpt2.cfg.d_vocab,\n",
        ")\n",
        "model = DemoTransformer(model_cfg)"
      ]
    },
    {
      "cell_type": "markdown",
      "metadata": {
        "id": "VWaEd_-SQ36K"
      },
      "source": [
        "## Training Args\n",
        "\n",
        "\n",
        "Note, for this optimization we'll be using **weight decay**."
      ]
    },
    {
      "cell_type": "code",
      "execution_count": null,
      "metadata": {
        "id": "0Wab9uPPQ36K"
      },
      "outputs": [],
      "source": [
        "@dataclass\n",
        "class TransformerTrainingArgs:\n",
        "    batch_size = 32\n",
        "    epochs = 10\n",
        "    max_steps_per_epoch = 500\n",
        "    lr = 1e-3\n",
        "    weight_decay = 1e-2\n",
        "    wandb_project: str | None = \"day1-demotransformer\"\n",
        "    wandb_name: str | None = None\n",
        "\n",
        "\n",
        "args = TransformerTrainingArgs()"
      ]
    },
    {
      "cell_type": "markdown",
      "metadata": {
        "id": "p9Qk59drQ36K"
      },
      "source": [
        "## Create Data\n",
        "\n",
        "We load in the [TinyStories dataset](https://huggingface.co/datasets/roneneldan/TinyStories), a dataset of synthetically generated simple stories only using a small vocabulary of words that typical 3 to 4-year-olds can understand. This dataset was designed for [exploring how small a LLM can be](https://arxiv.org/pdf/2305.07759) that can still generate coherent text."
      ]
    },
    {
      "cell_type": "code",
      "execution_count": null,
      "metadata": {
        "id": "zHRv4A7pQ36K"
      },
      "outputs": [],
      "source": [
        "dataset = datasets.load_dataset(\"roneneldan/TinyStories\", split=\"train\")\n",
        "print(dataset)\n",
        "print(dataset[0][\"text\"])"
      ]
    },
    {
      "cell_type": "markdown",
      "metadata": {
        "id": "PkzD5QOLQ36K"
      },
      "source": [
        "`tokenize_and_concatenate` is a useful function which takes our dataset of strings, and returns a dataset of token IDs ready to feed into the model. We then create a dataloader from this tokenized dataset. The useful method `train_test_split` can give us a training and testing set."
      ]
    },
    {
      "cell_type": "code",
      "execution_count": null,
      "metadata": {
        "id": "RTSPcIuLQ36K"
      },
      "outputs": [],
      "source": [
        "tokenized_dataset = tokenize_and_concatenate(\n",
        "    dataset,\n",
        "    reference_gpt2.tokenizer,\n",
        "    streaming=False,\n",
        "    max_length=model.cfg.n_ctx,\n",
        "    column_name=\"text\",\n",
        "    add_bos_token=True,\n",
        "    num_proc=4,\n",
        ")\n",
        "\n",
        "dataset_dict = tokenized_dataset.train_test_split(test_size=1000)\n",
        "train_loader = DataLoader(\n",
        "    dataset_dict[\"train\"], batch_size=args.batch_size, shuffle=True, num_workers=4, pin_memory=True\n",
        ")\n",
        "test_loader = DataLoader(\n",
        "    dataset_dict[\"test\"], batch_size=args.batch_size, shuffle=False, num_workers=4, pin_memory=True\n",
        ")"
      ]
    },
    {
      "cell_type": "markdown",
      "metadata": {
        "id": "19pA1630Q36L"
      },
      "source": [
        "When we iterate through these dataloaders, we will find dictionaries with the single key `'tokens'`, which maps to a tensor of token IDs with shape `(batch, seq_len)`."
      ]
    },
    {
      "cell_type": "code",
      "execution_count": null,
      "metadata": {
        "id": "vbnCuHfxQ36L"
      },
      "outputs": [],
      "source": [
        "first_batch = train_loader.dataset[: args.batch_size]\n",
        "\n",
        "print(first_batch.keys())\n",
        "print(first_batch[\"tokens\"].shape)"
      ]
    },
    {
      "cell_type": "markdown",
      "metadata": {
        "id": "cHnOwcQCQ36L"
      },
      "source": [
        "## Training Loop\n",
        "\n",
        "If you did the material on [training loops](https://arena-ch0-fundamentals.streamlit.app/[0.3]_ResNets#training-loop) during the first week, this should all be familiar to you. If not, you can skim that section for an overview of the key concepts. The start of the **Training loop** section is most important, and the subsections on [Modularisation](https://arena-ch0-fundamentals.streamlit.app/[0.3]_ResNets#modularisation) and [dataclasses](https://arena-ch0-fundamentals.streamlit.app/[0.3]_ResNets#aside-dataclasses) are also very useful. Lastly, we'll also be using Weights and Biases to train our model - you can read about how to use it [here](https://arena-ch0-fundamentals.streamlit.app/[0.4]_Optimization#what-is-weights-and-biases). Here are (roughly) all the things you should know for the following exercises:\n",
        "                \n",
        "* The key parts of a gradient update step are:\n",
        "    * Calculating the (cross-entropy) loss between a model's output and the true labels,\n",
        "    * `loss.backward()` - calculate gradients of the loss with respect to the model parameters,\n",
        "    * `optimizer.step()` - update the model parameters using the gradients,\n",
        "    * `optimizer.zero_grad()` - zero the gradients so they don't accumulate.\n",
        "* We can nicely package up training loops into a class, which includes methods for training and validation steps among other things. This helps with writing code that can be reused in different contexts.\n",
        "* We can use dataclasses to store all the arguments relevant to training in one place, and then pass them to our trainer class. Autocompletion is one nice bonus of this!\n",
        "    * Be careful of scope here, you want to make sure you're referring to `self.args` within the trainer class, rather than the global `args`.\n",
        "* You can use Weights and Biases to track experiments and log relevant variables. The three essential functions are:\n",
        "    * `wandb.init()` - initialize a new run, takes arguments `project`, `name` and `config` (among others).\n",
        "    * `wandb.log()` - log a dictionary of variables, e.g. `{\"loss\": loss}`. Also takes a `step` argument.\n",
        "    * `wandb.finish()` - called at the end of training (no arguments)."
      ]
    },
    {
      "cell_type": "markdown",
      "metadata": {
        "id": "JjP8ZaLtQ36L"
      },
      "source": [
        "### Exercise - write training loop\n",
        "\n",
        "> ```yaml\n",
        "> Difficulty: 🔴🔴🔴⚪⚪\n",
        "> Importance: 🔵🔵🔵🔵⚪\n",
        ">\n",
        "> You should spend up to 10-20 minutes on this exercise.\n",
        "> ```\n",
        "\n",
        "You should fill in the methods below. Some guidance:\n",
        "\n",
        "* Remember we were able to calculate cross entropy loss using the `get_log_probs` function in the previous section.\n",
        "* You should use the optimizer `t.optim.AdamW` (Adam with weight decay), and with hyperparameters `lr` and `weight_decay` taken from your `TransformerTrainingArgs` dataclass instance.\n",
        "* We've given you the argument `max_steps_per_epoch`, a hacky way of making sure the training phase in each epoch doesn't go on for too long. You can terminate each training phase after this many steps. It's set to a default value that should lead to a very short run demonstrating nontrivial model performance.\n",
        "* Remember to move tokens to your device, via `tokens.to(device)` (this should be a global variable, defined at the top of your notebook).\n",
        "* You can refer back to the training loops from the [previous chapter of the course](https://arena-ch0-fundamentals.streamlit.app/[0.3]_ResNets#training-loop) if you'd like.\n",
        "* We've also provided an instance of the `TransformerSampler` class so you can generate text from your model during training to see how it's doing. We will cover how sampling works in the next section."
      ]
    },
    {
      "cell_type": "code",
      "execution_count": null,
      "metadata": {
        "id": "75rPmJPxQ36L"
      },
      "outputs": [],
      "source": [
        "class TransformerTrainer:\n",
        "    def __init__(self, args: TransformerTrainingArgs, model: DemoTransformer):\n",
        "        super().__init__()\n",
        "        self.model = model\n",
        "        self.args = args\n",
        "        self.sampler = solutions.TransformerSampler(self.model, reference_gpt2.tokenizer)\n",
        "        self.optimizer = t.optim.AdamW(\n",
        "            self.model.parameters(), lr=args.lr, weight_decay=args.weight_decay\n",
        "        )\n",
        "        self.step = 0\n",
        "\n",
        "        self.train_loader = DataLoader(\n",
        "            dataset_dict[\"train\"],\n",
        "            batch_size=args.batch_size,\n",
        "            shuffle=True,\n",
        "            num_workers=4,\n",
        "            pin_memory=True,\n",
        "        )\n",
        "        self.test_loader = DataLoader(\n",
        "            dataset_dict[\"test\"],\n",
        "            batch_size=args.batch_size,\n",
        "            shuffle=False,\n",
        "            num_workers=4,\n",
        "            pin_memory=True,\n",
        "        )\n",
        "\n",
        "    def training_step(self, batch: dict[str, Int[Tensor, \"batch seq\"]]) -> Float[Tensor, \"\"]:\n",
        "        \"\"\"\n",
        "        Calculates the loss on the tokens in the batch, performs a gradient update step, and logs the loss.\n",
        "\n",
        "        Remember that `batch` is a dictionary with the single key 'tokens'.\n",
        "        \"\"\"\n",
        "        raise NotImplementedError()\n",
        "        return loss\n",
        "\n",
        "    @t.inference_mode()\n",
        "    def evaluate(self) -> float:\n",
        "        \"\"\"\n",
        "        Evaluate the model on the test set and return the accuracy.\n",
        "        \"\"\"\n",
        "        self.model.eval()\n",
        "        #\n",
        "        # YOUR CODE HERE - fill in the `evaluate` method\n",
        "        #\n",
        "        self.model.train()\n",
        "        return accuracy\n",
        "\n",
        "    def train(self):\n",
        "        \"\"\"\n",
        "        Trains the model, for `self.args.epochs` epochs. Also handles wandb initialisation, and early stopping\n",
        "        for each epoch at `self.args.max_steps_per_epoch` steps.\n",
        "        \"\"\"\n",
        "        wandb.init(project=self.args.wandb_project, name=self.args.wandb_name, config=self.args)\n",
        "        accuracy = np.nan\n",
        "\n",
        "        progress_bar = tqdm(total=self.args.max_steps_per_epoch * self.args.epochs)\n",
        "\n",
        "        for epoch in range(self.args.epochs):\n",
        "            for i, batch in enumerate(self.train_loader):\n",
        "                loss = self.training_step(batch)\n",
        "                progress_bar.update()\n",
        "                progress_bar.set_description(\n",
        "                    f\"Epoch {epoch + 1}, loss: {loss:.3f}, accuracy: {accuracy:.3f}\"\n",
        "                )\n",
        "                if i >= self.args.max_steps_per_epoch:\n",
        "                    break\n",
        "\n",
        "            accuracy = self.evaluate()\n",
        "            sample_text = self.sampler.sample(\"Once upon a time\", max_tokens_generated=50)\n",
        "            print(sample_text)\n",
        "\n",
        "        wandb.finish()\n",
        "\n",
        "\n",
        "# See the full run here: https://api.wandb.ai/links/dquarel/nrxuwnv7\n",
        "model = DemoTransformer(model_cfg).to(device)\n",
        "args = TransformerTrainingArgs()\n",
        "trainer = TransformerTrainer(args, model)\n",
        "trainer.train()"
      ]
    },
    {
      "cell_type": "markdown",
      "metadata": {
        "id": "k9MJ1PfkQ36L"
      },
      "source": [
        "<details><summary>Solution</summary>\n",
        "\n",
        "```python\n",
        "class TransformerTrainer:\n",
        "    def __init__(self, args: TransformerTrainingArgs, model: DemoTransformer):\n",
        "        super().__init__()\n",
        "        self.model = model\n",
        "        self.args = args\n",
        "        self.sampler = solutions.TransformerSampler(self.model, reference_gpt2.tokenizer)\n",
        "        self.optimizer = t.optim.AdamW(\n",
        "            self.model.parameters(), lr=args.lr, weight_decay=args.weight_decay\n",
        "        )\n",
        "        self.step = 0\n",
        "\n",
        "        self.train_loader = DataLoader(\n",
        "            dataset_dict[\"train\"],\n",
        "            batch_size=args.batch_size,\n",
        "            shuffle=True,\n",
        "            num_workers=4,\n",
        "            pin_memory=True,\n",
        "        )\n",
        "        self.test_loader = DataLoader(\n",
        "            dataset_dict[\"test\"],\n",
        "            batch_size=args.batch_size,\n",
        "            shuffle=False,\n",
        "            num_workers=4,\n",
        "            pin_memory=True,\n",
        "        )\n",
        "\n",
        "    def training_step(self, batch: dict[str, Int[Tensor, \"batch seq\"]]) -> Float[Tensor, \"\"]:\n",
        "        \"\"\"\n",
        "        Calculates the loss on the tokens in the batch, performs a gradient update step, and logs the loss.\n",
        "\n",
        "        Remember that `batch` is a dictionary with the single key 'tokens'.\n",
        "        \"\"\"\n",
        "        tokens = batch[\"tokens\"].to(device)\n",
        "        logits = self.model(tokens)\n",
        "        loss = -get_log_probs(logits, tokens).mean()\n",
        "        loss.backward()\n",
        "        self.optimizer.step()\n",
        "        self.optimizer.zero_grad()\n",
        "        self.step += 1\n",
        "        wandb.log({\"train_loss\": loss}, step=self.step)\n",
        "        return loss\n",
        "\n",
        "    @t.inference_mode()\n",
        "    def evaluate(self) -> float:\n",
        "        \"\"\"\n",
        "        Evaluate the model on the test set and return the accuracy.\n",
        "        \"\"\"\n",
        "        self.model.eval()\n",
        "        total_correct, total_samples = 0, 0\n",
        "\n",
        "        for batch in tqdm(self.test_loader, desc=\"Evaluating\"):\n",
        "            tokens = batch[\"tokens\"].to(device)\n",
        "            logits: Tensor = self.model(tokens)[:, :-1]\n",
        "            predicted_tokens = logits.argmax(dim=-1)\n",
        "            total_correct += (predicted_tokens == tokens[:, 1:]).sum().item()\n",
        "            total_samples += tokens.size(0) * (tokens.size(1) - 1)\n",
        "\n",
        "        accuracy = total_correct / total_samples\n",
        "        wandb.log({\"accuracy\": accuracy}, step=self.step)\n",
        "        self.model.train()\n",
        "        return accuracy\n",
        "\n",
        "    def train(self):\n",
        "        \"\"\"\n",
        "        Trains the model, for `self.args.epochs` epochs. Also handles wandb initialisation, and early stopping\n",
        "        for each epoch at `self.args.max_steps_per_epoch` steps.\n",
        "        \"\"\"\n",
        "        wandb.init(project=self.args.wandb_project, name=self.args.wandb_name, config=self.args)\n",
        "        accuracy = np.nan\n",
        "\n",
        "        progress_bar = tqdm(total=self.args.max_steps_per_epoch * self.args.epochs)\n",
        "\n",
        "        for epoch in range(self.args.epochs):\n",
        "            for i, batch in enumerate(self.train_loader):\n",
        "                loss = self.training_step(batch)\n",
        "                progress_bar.update()\n",
        "                progress_bar.set_description(\n",
        "                    f\"Epoch {epoch + 1}, loss: {loss:.3f}, accuracy: {accuracy:.3f}\"\n",
        "                )\n",
        "                if i >= self.args.max_steps_per_epoch:\n",
        "                    break\n",
        "\n",
        "            accuracy = self.evaluate()\n",
        "            sample_text = self.sampler.sample(\"Once upon a time\", max_tokens_generated=50)\n",
        "            print(sample_text)\n",
        "\n",
        "        wandb.finish()\n",
        "```\n",
        "</details>"
      ]
    },
    {
      "cell_type": "markdown",
      "metadata": {
        "id": "H64jTEAVQ36L"
      },
      "source": [
        "<!-- Note - this section of the course used to use PyTorch Lightning, but this has now been taken out. If you want, you can look at the old version of the training code which used PyTorch Lightning in the dropdown below.\n",
        "\n",
        "<details>\n",
        "<summary>PyTorch Lighting training loop</summary>\n",
        "\n",
        "```python\n",
        "class LitTransformer(pl.LightningModule):\n",
        "\tdef __init__(self, args: TransformerTrainingArgs, model: DemoTransformer, data_loader: DataLoader):\n",
        "\t\tsuper().__init__()\n",
        "\t\tself.model = model\n",
        "\t\tself.cfg = model.cfg\n",
        "\t\tself.args = args\n",
        "\t\tself.data_loader = data_loader\n",
        "\n",
        "\tdef forward(self, tokens: Int[Tensor, \"batch position\"]) -> Float[Tensor, \"batch position d_vocab\"]:\n",
        "\t\tlogits = self.model(tokens)\n",
        "\t\treturn logits\n",
        "\n",
        "\tdef training_step(self, batch: Dict[str, Tensor], batch_idx: int) -> Float[Tensor, \"\"]:\n",
        "\t\t'''\n",
        "\t\tHere you compute and return the training loss and some additional metrics for e.g.\n",
        "\t\tthe progress bar or logger.\n",
        "\t\t'''\n",
        "\t\ttokens = batch[\"tokens\"].to(device)\n",
        "\t\tlogits = self.model(tokens)\n",
        "\t\tloss = -get_log_probs(logits, tokens).mean()\n",
        "\t\tself.log(\"train_loss\", loss)\n",
        "\t\treturn loss\n",
        "\n",
        "\tdef configure_optimizers(self):\n",
        "\t\t'''\n",
        "\t\tChoose what optimizers and learning-rate schedulers to use in your optimization.\n",
        "\t\t'''\n",
        "\t\toptimizer = t.optim.AdamW(self.model.parameters(), lr=self.args.lr, weight_decay=self.args.weight_decay)\n",
        "\t\treturn optimizer\n",
        "\n",
        "\tdef train_dataloader(self):\n",
        "\t\treturn self.data_loader\n",
        "\n",
        "\n",
        "litmodel = LitTransformer(args, model, data_loader)\n",
        "logger = WandbLogger(save_dir=args.log_dir, project=args.log_name, name=args.run_name)\n",
        "\n",
        "trainer = pl.Trainer(\n",
        "    max_epochs=args.max_epochs,\n",
        "    logger=logger,\n",
        "    log_every_n_steps=args.log_every_n_steps\n",
        ")\n",
        "trainer.fit(model=litmodel, train_dataloaders=litmodel.data_loader)\n",
        "wandb.finish()\n",
        "```\n",
        "\n",
        "</details>\n",
        "\n",
        "<details>\n",
        "<summary>Explanation for why PyTorch Lightning is no longer used</summary>\n",
        "\n",
        "TLDR - it provides nice modularization and saving of code, but it abstracts away a lot of the details of training loops, and so isn't very useful for educational purposes. Also, it imposes a lot of structure on how the training loops work without allowing for much flexibility, and lots of the code we'll write later (e.g. linear probes or RL) doesn't fit well into this framework. However, it can be a very useful tool to learn about once you've got the basics down and you're looking to benefit from the suite of extra features it provides.\n",
        "\n",
        "</details> -->\n",
        "\n",
        "When you run the code for the first time, you'll have to login to Weights and Biases, and paste an API key into VSCode. After this is done, your Weights and Biases training run will start. It'll give you a lot of output text, one line of which will look like:\n",
        "\n",
        "```\n",
        "View run at https://wandb.ai/<USERNAME>/<PROJECT-NAME>/runs/<RUN-NAME>\n",
        "```\n",
        "\n",
        "which you can click on to visit the run page.\n",
        "\n",
        "> Note - to see the plots more clearly in Weights and Biases, you can click on the **edit panel** of your plot (the small pencil symbol at the top-right), then move the **smoothing** slider to the right."
      ]
    },
    {
      "cell_type": "markdown",
      "metadata": {
        "id": "AM641CUUQ36L"
      },
      "source": [
        "### A note on this loss curve (optional)\n",
        "\n",
        "\n",
        "What's up with the shape of our loss curve? It seems like we start at around 10-11, drops down very fast, but then levels out. It turns out, this is all to do with the kinds of algorithms the model learns during training.\n",
        "\n",
        "When it starts out, your model will be outputting random noise, which might look a lot like \"predict each token with approximately uniform probability\", i.e. $Q(x) = 1/d_\\text{vocab}$ for all $x$. This gives us a cross entropy loss of $\\log (d_\\text{vocab})$."
      ]
    },
    {
      "cell_type": "code",
      "execution_count": null,
      "metadata": {
        "id": "WNxw1Q3CQ36L"
      },
      "outputs": [],
      "source": [
        "d_vocab = model.cfg.d_vocab\n",
        "\n",
        "print(f\"d_vocab = {d_vocab}\")\n",
        "print(f\"Cross entropy loss on uniform distribution = {math.log(d_vocab):.3f}\")"
      ]
    },
    {
      "cell_type": "markdown",
      "metadata": {
        "id": "xQu4NmbEQ36L"
      },
      "source": [
        "The next thing we might expect the model to learn is the frequencies of words in the english language. After all, small common tokens like `\" and\"` or `\" the\"` might appear much more frequently than others. This would give us an average cross entropy loss of:\n",
        "\n",
        "$$\n",
        "- \\sum_x p_x \\log p_x\n",
        "$$\n",
        "\n",
        "where $p_x$ is the actual frequency of the word in our training data.\n",
        "\n",
        "We can evaluate this quantity as follows:"
      ]
    },
    {
      "cell_type": "code",
      "execution_count": null,
      "metadata": {
        "id": "-rLuTWD4Q36L"
      },
      "outputs": [],
      "source": [
        "toks = tokenized_dataset[:][\"tokens\"].flatten()\n",
        "\n",
        "d_vocab = model.cfg.d_vocab\n",
        "freqs = t.bincount(toks, minlength=d_vocab)\n",
        "probs = freqs.float() / freqs.sum()\n",
        "\n",
        "distn = t.distributions.categorical.Categorical(probs=probs)\n",
        "entropy = distn.entropy()\n",
        "\n",
        "print(f\"Entropy of training data = {entropy:.3f}\")"
      ]
    },
    {
      "cell_type": "markdown",
      "metadata": {
        "id": "gV1kWitbQ36L"
      },
      "source": [
        "After unigram frequencies, the next thing our model usually learns is **bigram frequencies** (i.e. the frequency of pairs of adjacent tokens in the training data). For instance, `\"I\"` and `\" am\"` are common tokens, but their bigram frequency is much higher than it would be if they occurred independently. Bigram frequencies actually take you pretty far, since they also help with:\n",
        "\n",
        "* Some simple grammatical rules (e.g. a full stop being followed by a capitalized word)\n",
        "* Weird quirks of tokenization (e.g. `\" manip\"` being followed by `\"ulative\"`)\n",
        "* Common names (e.g. `\"Barack\"` being followed by `\" Obama\"`)\n",
        "\n",
        "\n",
        "After approximating bigram frequencies, we need to start using smarter techniques, like trigrams (which can only be implemented using attention heads), **induction heads** (which we'll learn a lot more about in the next set of exercises!), and fact memorization or more basic grammar and syntax rules. Marginal improvements start getting harder around this point, leading to a flattening of our loss curve."
      ]
    },
    {
      "cell_type": "markdown",
      "metadata": {
        "id": "EcZqS9ufQ36L"
      },
      "source": [
        "### Exercise (optional) - log completions\n",
        "\n",
        "> ```yaml\n",
        "> Difficulty: 🔴🔴🔴🔴⚪\n",
        "> Importance: 🔵⚪⚪⚪⚪\n",
        ">\n",
        "> You should spend up to 20-40 minutes on this exercise, if you choose to attempt it.\n",
        "> Note, you might want to come back to this exercise *after* you learn how sampling works.\n",
        "> ```\n",
        "\n",
        "Choose a handful of prompts, and log the model's completions on those sentences. We recommend you do this with a lower frequency than loss is logged (e.g. once every 10-100 batches).\n",
        "\n",
        "The `wandb` syntax for logging text is pretty simple. Firstly, you can just print output as stdout and this is also logged to Weights & Biases (you can find it under the \"Logs\" section of your run). Alternatively, you can log data in the form of a table, and have it appear next to your other charts:\n",
        "\n",
        "```python\n",
        "wandb.log({\"completions_table\": wandb.Table(\n",
        "    data = data,\n",
        "    columns = [\"epoch\", \"step\", \"text\"]\n",
        ")})\n",
        "```\n",
        "\n",
        "where `data` is a list of length-3 lists, with each list containing (epoch, step, text). If you choose this option, we recommend logging the table less frequently than you're sampling from the model, to make sure you're not sending too much data (because unfortunately wandb doesn't have methods to incrementally update the table during logging).\n",
        "\n",
        "If you want to try this before going through the sampling exercises (which are quite long!), you can use the code below to sample output from the model. Note that the `TransformerSampler` object is already in inference mode, so you don't need to worry about this."
      ]
    },
    {
      "cell_type": "code",
      "execution_count": null,
      "metadata": {
        "id": "1rzfqUUKQ36L"
      },
      "outputs": [],
      "source": [
        "def sampling_fn(model: DemoTransformer, prompt: str) -> str:\n",
        "    sampler = solutions.TransformerSampler(model, reference_gpt2.tokenizer)\n",
        "    output = sampler.sample(prompt, temperature=0.7, top_p=0.95, max_tokens_generated=16)\n",
        "    return output\n",
        "\n",
        "\n",
        "model = DemoTransformer(model_cfg).to(device)\n",
        "\n",
        "# Should be entirely random, because it uses a newly initialized model\n",
        "print(sampling_fn(model, prompt=\"John and Mary went to the\"))"
      ]
    },
    {
      "cell_type": "code",
      "execution_count": null,
      "metadata": {
        "id": "OivkXOhjQ36L"
      },
      "outputs": [],
      "source": [
        "# YOUR CODE HERE - rewrite the TransformerTrainer.train method, so that it logs completions\n",
        "\n",
        "\n",
        "prompt_list = [\n",
        "    \"Eliezer Shlomo Yudkowsky (born September 11, 1979) is an American decision and artificial intelligence (AI) theorist and writer, best known for\",\n",
        "    \"In a shocking finding, scientist discovered a herd of unicorns living in a remote, previously unexplored valley, in the Andes Mountains. Even more surprising to the researchers was the fact that the unicorns spoke perfect English.\",\n",
        "    \"John and Mary went to the\",\n",
        "]\n",
        "\n",
        "model = DemoTransformer(model_cfg).to(device)\n",
        "args = TransformerTrainingArgsLogText()\n",
        "trainer = TransformerTrainer(args, model)\n",
        "trainer.train(sampling_fn, prompt_list)\n",
        "# Read full report here - https://api.wandb.ai/links/callum-mcdougall/5ex16e5w"
      ]
    },
    {
      "cell_type": "markdown",
      "metadata": {
        "id": "B8eogZtRQ36L"
      },
      "source": [
        "<details><summary>Solution</summary>\n",
        "\n",
        "```python\n",
        "@dataclass\n",
        "class TransformerTrainingArgsLogText(TransformerTrainingArgs):\n",
        "    text_sample_freq: int = 20\n",
        "    table_log_freq: int = 200\n",
        "\n",
        "    def __post_init__(self):\n",
        "        assert self.table_log_freq >= self.text_sample_freq, (\n",
        "            \"You should log the table less frequently than you add text to it.\"\n",
        "        )\n",
        "\n",
        "\n",
        "def train_log_text(self: TransformerTrainer, sampling_fn: Callable, prompt_list: list[str]):\n",
        "    \"\"\"\n",
        "    Trains the model, for `self.args.epochs` epochs. Also handles wandb initialisation, and early stopping\n",
        "    for each epoch at `self.args.max_steps_per_epoch` steps.\n",
        "\n",
        "    This also takes 2 extra arguments:\n",
        "        sampling_fn: function which takes model & a single prompt (i.e. text string) and returns text string output\n",
        "        prompt_list: list of prompts we'll log output on\n",
        "    \"\"\"\n",
        "    wandb.init(project=self.args.wandb_project, name=self.args.wandb_name, config=self.args)\n",
        "    accuracy = np.nan\n",
        "    progress_bar = tqdm(total=self.args.max_steps_per_epoch * self.args.epochs)\n",
        "\n",
        "    # Create a list for storing data\n",
        "    completions_list = []\n",
        "\n",
        "    for epoch in range(self.args.epochs):\n",
        "        for i, batch in enumerate(self.train_loader):\n",
        "            loss = self.training_step(batch)\n",
        "            progress_bar.update()\n",
        "            progress_bar.set_description(\n",
        "                f\"Epoch {epoch + 1}, loss: {loss:.3f}, accuracy: {accuracy:.3f}\"\n",
        "            )\n",
        "\n",
        "            # Control the adding of text to the table, and the logging of text\n",
        "            if self.step % self.args.text_sample_freq == 0:\n",
        "                text_completions = [sampling_fn(self.model, prompt) for prompt in prompt_list]\n",
        "                completions_list.append([epoch, self.step, *text_completions])\n",
        "            if self.step % self.args.table_log_freq == 0:\n",
        "                wandb.log(\n",
        "                    {\n",
        "                        \"completions_table\": wandb.Table(\n",
        "                            data=completions_list,\n",
        "                            columns=[\n",
        "                                \"epoch\",\n",
        "                                \"step\",\n",
        "                                *[f\"prompt_{i}\" for i in range(len(prompt_list))],\n",
        "                            ],\n",
        "                        )\n",
        "                    }\n",
        "                )\n",
        "\n",
        "            if i >= self.args.max_steps_per_epoch:\n",
        "                break\n",
        "\n",
        "        accuracy = self.evaluate()\n",
        "\n",
        "    wandb.finish()\n",
        "\n",
        "\n",
        "TransformerTrainer.train = train_log_text\n",
        "\n",
        "\n",
        "prompt_list = [\n",
        "    \"Eliezer Shlomo Yudkowsky (born September 11, 1979) is an American decision and artificial intelligence (AI) theorist and writer, best known for\",\n",
        "    \"In a shocking finding, scientist discovered a herd of unicorns living in a remote, previously unexplored valley, in the Andes Mountains. Even more surprising to the researchers was the fact that the unicorns spoke perfect English.\",\n",
        "    \"John and Mary went to the\",\n",
        "]\n",
        "\n",
        "model = DemoTransformer(model_cfg).to(device)\n",
        "args = TransformerTrainingArgsLogText()\n",
        "trainer = TransformerTrainer(args, model)\n",
        "trainer.train(sampling_fn, prompt_list)\n",
        "# Read full report here - https://api.wandb.ai/links/callum-mcdougall/5ex16e5w\n",
        "```\n",
        "</details>"
      ]
    },
    {
      "cell_type": "markdown",
      "metadata": {
        "id": "z_4dkvNoQ36L"
      },
      "source": [
        "You shouldn't expect to see perfect logical coherence from your model, but you should at least see that it respects basic word frequencies, and follows basic rules of grammar some of the time. Hopefully this gives some perspective on how difficult training a transformer can be!"
      ]
    },
    {
      "cell_type": "markdown",
      "metadata": {
        "id": "j818-nfCQ36L"
      },
      "source": [
        "# 4️⃣ Sampling from a Transformer\n",
        "\n",
        "> ##### Learning Objectives\n",
        ">\n",
        "> * Learn how to sample from a transformer\n",
        ">     * This includes basic methods like greedy search or top-k, and more advanced methods like beam search\n",
        "> * Learn how to cache the output of a transformer, so that it can be used to generate text more efficiently\n",
        ">     * Optionally, rewrite your sampling functions to make use of your caching methods"
      ]
    },
    {
      "cell_type": "markdown",
      "metadata": {
        "id": "-u1I_wt8Q36L"
      },
      "source": [
        "Let's discuss how we might go about producing output from a transformer.\n",
        "\n",
        "One obvious method to sample tokens from a distribution would be to always take the token assigned the highest probability. But this can lead to some boring and repetitive outcomes, and at worst it can lock our transformer's output into a loop.\n",
        "\n",
        "First, you should read HuggingFace's blog post [How to generate text: using different decoding methods for language generation with Transformers](https://huggingface.co/blog/how-to-generate). Once you've done that, you can start the exercises below."
      ]
    },
    {
      "cell_type": "markdown",
      "metadata": {
        "id": "OEGn8yRiQ36L"
      },
      "source": [
        "## `TransformerSampler` class\n",
        "\n",
        "Below, we've given you the `TransformerSampler` class. This contains the following important methods:\n",
        "\n",
        "- `sample`, which is the highest-level method. It repeatedly calls `sample_next_token` to generate new tokens, until one of the termination criteria is met.\n",
        "- `sample_next_token`, which samples a single new token based on some hyperparameters. This might involve various different sampling methods and techniques e.g. temperature scaling, top-k sampling, top-p sampling, etc.\n",
        "- A set of other methods, which apply the previously mentioned sampling methods and techniques.\n",
        "\n",
        "You can see how `sample_next_token` works, and as an example how greedy sampling is implemented via `greedy_search` - we just continually take the tokens with the highest logits at each step.\n",
        "\n",
        "<details>\n",
        "<summary>Question - why do you think <code>temperature=0.0</code> correspond to greedy sampling?</summary>\n",
        "\n",
        "To apply a temperature to our sampling (as we'll see later) means to scale all logits by `(1 / temperature)`. The basic intuition here is:\n",
        "\n",
        "* A higher temperature means a smaller scale factor, so the logits all approach zero, i.e. uniform distribution, and the sampling process is a lot more random (producing more diverse and varied outputs)\n",
        "* A lower temperature means a larger scale factor, so the logits all approach infinity, i.e. a dirac delta function, and the sampling process is a lot more deterministic (producing less varied output)\n",
        "\n",
        "As temperature gets close to zero, the difference between the largest logit and second largest logit becomes very large, so the distribution tends to \"probability of 1 on the highest-likelihood token\", i.e. greedy sampling. You can derive this formally if you prefer.\n",
        "</details>\n",
        "\n",
        "In the next exercise you'll implement the `sample` method, and then you'll go on to implement all the other methods."
      ]
    },
    {
      "cell_type": "markdown",
      "metadata": {
        "id": "Zhp86Aa5Q36L"
      },
      "source": [
        "### Exercise - implement `sample`\n",
        "\n",
        "> ```yaml\n",
        "> Difficulty: 🔴🔴🔴🔴⚪\n",
        "> Importance: 🔵🔵🔵⚪⚪\n",
        ">\n",
        "> You should spend up to 25-40 minutes on this exercise.\n",
        "> ```\n",
        "\n",
        "The `sample` method generates new tokens autoregressively, by repeatedly:\n",
        "\n",
        "- Passing the current sequence of tokens through the model to get logits,\n",
        "- Using some sampling technique to select a new token, i.e. `sample_next_token(input_ids, logits, **kwargs)`,\n",
        "- Appending this new token to the input sequence,\n",
        "- Repeating the process until one of the termination criteria is met: either we generate `max_tokens_generated` new tokens, or we generate the end-of-sequence token (which we can access via `self.tokenizer.eos_token_id`).\n",
        "\n",
        "Lastly, we use the `tokenizer.decode` method to return the sampled string. You're also invited to use the `verbose` argument, for printing the decoded sequences while they're being generated (this can help with debugging).\n",
        "\n",
        "Below is some code which tests your sampling function by performing greedy sampling (which means always choosing the most likely next token at each step).\n",
        "\n",
        "A few hints:\n",
        "\n",
        "- Don't forget about tensor shapes! Your model's input should always have a batch dimension, i.e. it should be shape `(1, seq_len)`.\n",
        "- The `sample_next_token` method will return an integer, so make sure you wrap this in a tensor before concatenating it to the end of your input IDs.\n",
        "- Also remember to have your tensors be on the same device (we have a global `device` variable).\n",
        "- Remember to put your model in evaluation mode, using `model.eval()`."
      ]
    },
    {
      "cell_type": "code",
      "execution_count": null,
      "metadata": {
        "id": "vAZK98ktQ36M"
      },
      "outputs": [],
      "source": [
        "class TransformerSampler:\n",
        "    def __init__(self, model: DemoTransformer, tokenizer: GPT2TokenizerFast):\n",
        "        self.model = model\n",
        "        self.cfg = model.cfg\n",
        "        self.tokenizer = tokenizer\n",
        "\n",
        "    @t.inference_mode()\n",
        "    def sample(self, prompt: str, max_tokens_generated=100, verbose=False, **kwargs) -> str:\n",
        "        \"\"\"\n",
        "        Returns a string of autoregressively generated text, starting from the prompt.\n",
        "\n",
        "        Sampling terminates at max_tokens_generated, or when the model generates an end-of-sequence token. kwargs are\n",
        "        passed to sample_next_token, to give detailed instructions on how new tokens are chosen.\n",
        "        \"\"\"\n",
        "        raise NotImplementedError()\n",
        "\n",
        "    @staticmethod\n",
        "    def sample_next_token(\n",
        "        input_ids: Int[Tensor, \"seq_len\"],\n",
        "        logits: Float[Tensor, \"d_vocab\"],\n",
        "        temperature=1.0,\n",
        "        top_k=0,\n",
        "        top_p=0.0,\n",
        "        frequency_penalty=0.0,\n",
        "        seed=None,\n",
        "    ) -> int:\n",
        "        assert input_ids.ndim == 1, \"input_ids should be a 1D sequence of token ids\"\n",
        "        assert temperature >= 0, \"Temperature should be non-negative\"\n",
        "        assert 0 <= top_p <= 1.0, \"Top-p must be a probability\"\n",
        "        assert 0 <= top_k, \"Top-k must be non-negative\"\n",
        "        assert not (top_p != 0 and top_k != 0), \"At most one of top-p and top-k supported\"\n",
        "\n",
        "        # Set random seeds for reproducibility\n",
        "        if seed is not None:\n",
        "            t.manual_seed(seed)\n",
        "            np.random.seed(seed)\n",
        "\n",
        "        # Apply all the specialized sampling methods\n",
        "        if temperature == 0:\n",
        "            return TransformerSampler.greedy_search(logits)\n",
        "        elif temperature != 1.0:\n",
        "            logits = TransformerSampler.apply_temperature(logits, temperature)\n",
        "        if frequency_penalty != 0.0:\n",
        "            logits = TransformerSampler.apply_frequency_penalty(\n",
        "                input_ids, logits, frequency_penalty\n",
        "            )\n",
        "        if top_k > 0:\n",
        "            return TransformerSampler.sample_top_k(logits, top_k)\n",
        "        if top_p > 0.0:\n",
        "            return TransformerSampler.sample_top_p(logits, top_p)\n",
        "        return TransformerSampler.sample_basic(logits)\n",
        "\n",
        "    @staticmethod\n",
        "    def greedy_search(logits: Float[Tensor, \"d_vocab\"]) -> int:\n",
        "        \"\"\"\n",
        "        Returns the most likely token (as an int).\n",
        "        \"\"\"\n",
        "        raise NotImplementedError()\n",
        "\n",
        "    @staticmethod\n",
        "    def apply_temperature(\n",
        "        logits: Float[Tensor, \"d_vocab\"], temperature: float\n",
        "    ) -> Float[Tensor, \"d_vocab\"]:\n",
        "        \"\"\"\n",
        "        Applies temperature scaling to the logits.\n",
        "        \"\"\"\n",
        "        raise NotImplementedError()\n",
        "\n",
        "    @staticmethod\n",
        "    def apply_frequency_penalty(\n",
        "        input_ids: Int[Tensor, \"seq_len\"], logits: Float[Tensor, \"d_vocab\"], freq_penalty: float\n",
        "    ) -> Float[Tensor, \"d_vocab\"]:\n",
        "        \"\"\"\n",
        "        Applies a frequency penalty to the logits.\n",
        "        \"\"\"\n",
        "        raise NotImplementedError()\n",
        "\n",
        "    @staticmethod\n",
        "    def sample_basic(logits: Float[Tensor, \"d_vocab\"]) -> int:\n",
        "        \"\"\"\n",
        "        Samples from the distribution defined by the logits.\n",
        "        \"\"\"\n",
        "        raise NotImplementedError()\n",
        "\n",
        "    @staticmethod\n",
        "    def sample_top_k(logits: Float[Tensor, \"d_vocab\"], k: int) -> int:\n",
        "        \"\"\"\n",
        "        Samples from the top k most likely tokens.\n",
        "        \"\"\"\n",
        "        raise NotImplementedError()\n",
        "\n",
        "    @staticmethod\n",
        "    def sample_top_p(\n",
        "        logits: Float[Tensor, \"d_vocab\"], top_p: float, min_tokens_to_keep: int = 1\n",
        "    ) -> int:\n",
        "        \"\"\"\n",
        "        Samples from the most likely tokens which make up at least p cumulative probability.\n",
        "        \"\"\"\n",
        "        raise NotImplementedError()\n",
        "\n",
        "    @t.inference_mode()\n",
        "    def beam_search(\n",
        "        self,\n",
        "        prompt: str,\n",
        "        num_return_sequences: int,\n",
        "        num_beams: int,\n",
        "        max_new_tokens: int,\n",
        "        no_repeat_ngram_size: int | None = None,\n",
        "    ) -> list[tuple[float, str]]:\n",
        "        \"\"\"\n",
        "        Implements a beam search, by repeatedly performing the `generate` and `filter` steps (starting from the initial\n",
        "        prompt) until either of the two stopping criteria are met: (1) we've generated `max_new_tokens` tokens, or (2)\n",
        "        we've generated `num_returns_sequences` terminating sequences.\n",
        "        \"\"\"\n",
        "        raise NotImplementedError()\n",
        "\n",
        "\n",
        "t.set_grad_enabled(False)  # gradients are not necessary for sampling\n",
        "\n",
        "model = DemoTransformer(Config()).to(device)\n",
        "model.load_state_dict(reference_gpt2.state_dict(), strict=False)\n",
        "tokenizer = reference_gpt2.tokenizer\n",
        "sampler = TransformerSampler(model, tokenizer)\n",
        "\n",
        "prompt = \"Jingle bells, jingle bells, jingle all the way\"\n",
        "print(f\"Testing greedy decoding\\nPrompt:   {prompt!r}\")\n",
        "\n",
        "expected = \"Jingle bells, jingle bells, jingle all the way up to the top of the mountain.\"\n",
        "output = sampler.sample(prompt, max_tokens_generated=8, temperature=0.0)\n",
        "\n",
        "print(f\"Expected: {expected!r}\\nActual:   {output!r}\\n\")\n",
        "assert output == expected\n",
        "\n",
        "print(\"Tests passed!\")"
      ]
    },
    {
      "cell_type": "markdown",
      "metadata": {
        "id": "_TOOOCk1Q36M"
      },
      "source": [
        "<details>\n",
        "<summary>Solution</summary>\n",
        "\n",
        "```python\n",
        "@t.inference_mode()\n",
        "def sample(self, prompt: str, max_tokens_generated=100, verbose=False, **kwargs):\n",
        "    \"\"\"\n",
        "    Returns a string of autoregressively generated text, starting from the prompt.\n",
        "\n",
        "    Sampling terminates at max_tokens_generated, or when the model generates an end-of-sequence token. kwargs are\n",
        "    passed to sample_next_token, to give detailed instructions on how new tokens are chosen.\n",
        "    \"\"\"\n",
        "    self.model.eval()\n",
        "    input_ids = self.tokenizer.encode(prompt, return_tensors=\"pt\").to(device)[0]\n",
        "\n",
        "    for i in range(max_tokens_generated):\n",
        "        # Get new logits (make sure we don't pass in more tokens than the model's context length)\n",
        "        logits = self.model(input_ids[None, -self.cfg.n_ctx :])\n",
        "        # We only take logits for the last token, because this is what we're sampling\n",
        "        logits = logits[0, -1]\n",
        "        # Get next token (as a tensor of size (1, 1) so we can concat it to input_ids)\n",
        "        next_token = t.tensor([TransformerSampler.sample_next_token(input_ids, logits, **kwargs)], device=device)\n",
        "        # Create new input ids string, with shape (1, old_seq_len + 1)\n",
        "        input_ids = t.cat([input_ids, next_token], dim=-1)\n",
        "        # Print out results, if required\n",
        "        if verbose:\n",
        "            print(self.tokenizer.decode(input_ids), end=\"\\r\")\n",
        "        # If our new token was the end-of-text token, stop\n",
        "        if next_token == getattr(self.tokenizer, \"eos_token_id\", None):\n",
        "            break\n",
        "\n",
        "    return self.tokenizer.decode(input_ids)\n",
        "```\n",
        "\n",
        "</details>"
      ]
    },
    {
      "cell_type": "markdown",
      "metadata": {
        "id": "R9KwaSUCQ36M"
      },
      "source": [
        "## Sampling with Categorical\n",
        "\n",
        "Now, we'll move into implementing specific sampling methods. In each of these cases, you should return to the class definition above and fill in the corresponding method.\n",
        "\n",
        "PyTorch provides a [`distributions`](https://pytorch.org/docs/stable/distributions.html#distribution) package with a number of convenient methods for sampling from various distributions.\n",
        "\n",
        "For now, we just need [`t.distributions.categorical.Categorical`](https://pytorch.org/docs/stable/distributions.html#categorical). Use this to implement `sample_basic`, which just samples from the provided logits (which may have already been modified by the temperature and frequency penalties).\n",
        "\n",
        "Note that this will be slow since we aren't batching the samples, but don't worry about speed for now."
      ]
    },
    {
      "cell_type": "markdown",
      "metadata": {
        "id": "k-X14-axQ36M"
      },
      "source": [
        "### Exercise - `sample_basic`\n",
        "\n",
        "> ```yaml\n",
        "> Difficulty: 🔴🔴⚪⚪⚪\n",
        "> Importance: 🔵🔵⚪⚪⚪\n",
        ">\n",
        "> You should spend up to 5-15 minutes on this exercise.\n",
        "> ```\n",
        "\n",
        "Implement basic sampling in the `TransformerSampler` class above (i.e. the `sample_basic` method), then run the code below to verify your solution works."
      ]
    },
    {
      "cell_type": "code",
      "execution_count": null,
      "metadata": {
        "id": "C_6maMEKQ36M"
      },
      "outputs": [],
      "source": [
        "prompt = \"John and Mary went to the\"\n",
        "input_ids = tokenizer.encode(prompt, return_tensors=\"pt\").to(device)\n",
        "logits = model(input_ids)[0, -1]\n",
        "\n",
        "expected_top_5 = {\n",
        "    \" church\": 0.0648,\n",
        "    \" house\": 0.0367,\n",
        "    \" temple\": 0.0145,\n",
        "    \" same\": 0.0104,\n",
        "    \" Church\": 0.0097,\n",
        "}\n",
        "frequency_of_top_5 = defaultdict(int)\n",
        "\n",
        "N = 10_000\n",
        "for _ in tqdm(range(N)):\n",
        "    token = TransformerSampler.sample_next_token(input_ids.squeeze(), logits)\n",
        "    frequency_of_top_5[tokenizer.decode(token)] += 1\n",
        "\n",
        "for word in expected_top_5:\n",
        "    expected_freq = expected_top_5[word]\n",
        "    observed_freq = frequency_of_top_5[word] / N\n",
        "    print(\n",
        "        f\"Word: {word!r:<9}. Expected freq {expected_freq:.4f}, observed freq {observed_freq:.4f}\"\n",
        "    )\n",
        "    assert abs(observed_freq - expected_freq) < 0.01, (\n",
        "        \"Try increasing N if this fails by a small amount.\"\n",
        "    )\n",
        "\n",
        "print(\"Tests passed!\")"
      ]
    },
    {
      "cell_type": "markdown",
      "metadata": {
        "id": "tXzSGimLQ36M"
      },
      "source": [
        "<details>\n",
        "<summary>Solution</summary>\n",
        "\n",
        "```python\n",
        "@staticmethod\n",
        "def sample_basic(logits: Float[Tensor, \"d_vocab\"]) -> int:\n",
        "    \"\"\"\n",
        "    Samples from the distribution defined by the logits.\n",
        "    \"\"\"\n",
        "    sampled_token = t.distributions.categorical.Categorical(logits=logits).sample()\n",
        "    return sampled_token.item()\n",
        "```\n",
        "\n",
        "</details>"
      ]
    },
    {
      "cell_type": "markdown",
      "metadata": {
        "id": "BVViHYySQ36M"
      },
      "source": [
        "### Exercise - `apply_temperature`\n",
        "\n",
        "> ```yaml\n",
        "> Difficulty: 🔴⚪⚪⚪⚪\n",
        "> Importance: 🔵🔵⚪⚪⚪\n",
        ">\n",
        "> You should spend up to 5-10 minutes on this exercise.\n",
        "> ```\n",
        "\n",
        "Temperature sounds fancy, but it's literally just dividing the logits by the temperature. You should implement this in your `TransformerSampler` class now."
      ]
    },
    {
      "cell_type": "code",
      "execution_count": null,
      "metadata": {
        "id": "byabbsAfQ36M"
      },
      "outputs": [],
      "source": [
        "logits = t.tensor([1, 2]).log()\n",
        "\n",
        "cold_logits = TransformerSampler.apply_temperature(logits, temperature=0.001)\n",
        "print('A low temperature \"sharpens\" or \"peaks\" the distribution: ', cold_logits)\n",
        "t.testing.assert_close(cold_logits, 1000.0 * logits)\n",
        "\n",
        "hot_logits = TransformerSampler.apply_temperature(logits, temperature=1000.0)\n",
        "print(\"A high temperature flattens the distribution: \", hot_logits)\n",
        "t.testing.assert_close(hot_logits, 0.001 * logits)\n",
        "\n",
        "print(\"Tests passed!\")"
      ]
    },
    {
      "cell_type": "markdown",
      "metadata": {
        "id": "KNPV7mm-Q36M"
      },
      "source": [
        "<details>\n",
        "<summary>Solution</summary>\n",
        "\n",
        "```python\n",
        "@staticmethod\n",
        "def apply_temperature(logits: Float[Tensor, \"d_vocab\"], temperature: float) -> Float[Tensor, \"d_vocab\"]:\n",
        "    \"\"\"\n",
        "    Applies temperature scaling to the logits.\n",
        "    \"\"\"\n",
        "    return logits / temperature\n",
        "```\n",
        "\n",
        "</details>"
      ]
    },
    {
      "cell_type": "markdown",
      "metadata": {
        "id": "z_eSmuBNQ36M"
      },
      "source": [
        "### Exercise - `apply_frequency_penalty`\n",
        "\n",
        "> ```yaml\n",
        "> Difficulty: 🔴🔴⚪⚪⚪\n",
        "> Importance: 🔵⚪⚪⚪⚪\n",
        ">\n",
        "> You should spend up to 10-15 minutes on this exercise.\n",
        "> ```\n",
        "\n",
        "The frequency penalty is simple as well: count the number of occurrences of each token, then subtract `freq_penalty` for each occurrence. Hint: use `t.bincount` (documentation [here](https://pytorch.org/docs/stable/generated/torch.bincount.html)) to do this in a vectorized way.\n",
        "\n",
        "You should implement the `apply_frequency_penalty` method in your `TransformerSampler` class now, then run the cell below to check your solution."
      ]
    },
    {
      "cell_type": "markdown",
      "metadata": {
        "id": "YtaW5TJTQ36M"
      },
      "source": [
        "<details>\n",
        "<summary>Help - I'm getting a <code>RuntimeError</code>; my tensor sizes don't match.</summary>\n",
        "\n",
        "Look at the documentation page for `t.bincount`. You might need to use the `minlength` argument - why?\n",
        "</details>"
      ]
    },
    {
      "cell_type": "code",
      "execution_count": null,
      "metadata": {
        "id": "Wx1LAtzSQ36M"
      },
      "outputs": [],
      "source": [
        "bieber_prompt = \"And I was like Baby, baby, baby, oh Like, Baby, baby, baby, no Like, Baby, baby, baby, oh I thought you'd always be mine, mine\"\n",
        "input_ids = tokenizer.encode(bieber_prompt, return_tensors=\"pt\")\n",
        "logits = t.ones(tokenizer.vocab_size)\n",
        "penalized_logits = TransformerSampler.apply_frequency_penalty(input_ids.squeeze(), logits, 2.0)\n",
        "\n",
        "assert penalized_logits[5156].item() == -11, (\n",
        "    \"Expected 6 occurrences of ' baby' with leading space, 1-2*6=-11\"\n",
        ")\n",
        "assert penalized_logits[14801].item() == -5, (\n",
        "    \"Expected 3 occurrences of ' Baby' with leading space, 1-2*3=-5\"\n",
        ")\n",
        "\n",
        "print(\"Tests passed!\")"
      ]
    },
    {
      "cell_type": "markdown",
      "metadata": {
        "id": "b2sa7Sc4Q36M"
      },
      "source": [
        "<details>\n",
        "<summary>Solution</summary>\n",
        "\n",
        "```python\n",
        "@staticmethod\n",
        "def apply_frequency_penalty(\n",
        "    input_ids: Int[Tensor, \"seq_len\"], logits: Float[Tensor, \"d_vocab\"], freq_penalty: float\n",
        ") -> Float[Tensor, \"d_vocab\"]:\n",
        "    \"\"\"\n",
        "    Applies a frequency penalty to the logits.\n",
        "    \"\"\"\n",
        "    d_vocab = logits.size(0)\n",
        "    id_freqs = t.bincount(input_ids, minlength=d_vocab)\n",
        "    return logits - freq_penalty * id_freqs\n",
        "```\n",
        "\n",
        "</details>"
      ]
    },
    {
      "cell_type": "markdown",
      "metadata": {
        "id": "HBjar-p8Q36M"
      },
      "source": [
        "### Sampling - Manual Testing\n",
        "\n",
        "Run the below cell to get a sense for the `temperature` and `freq_penalty` arguments. Play with your own prompt and try other values.\n",
        "\n",
        "Note: your model can generate newlines or non-printing characters, so calling `print` on generated text sometimes looks awkward on screen. You can call `repr` on the string before printing to have the string escaped nicely."
      ]
    },
    {
      "cell_type": "code",
      "execution_count": null,
      "metadata": {
        "id": "aNhrwgATQ36M"
      },
      "outputs": [],
      "source": [
        "sampler = TransformerSampler(model, tokenizer)\n",
        "\n",
        "N_RUNS = 1\n",
        "your_prompt = \"Jingle bells, jingle bells, jingle all the way\"\n",
        "cases = [\n",
        "    (\"High freq penalty\", dict(frequency_penalty=100.0)),\n",
        "    (\"Negative freq penalty\", dict(frequency_penalty=-3.0)),\n",
        "    (\"Too hot!\", dict(temperature=2.0)),\n",
        "    (\"Pleasantly cool\", dict(temperature=0.7)),\n",
        "    (\"Pleasantly warm\", dict(temperature=0.9)),\n",
        "    (\"Too cold!\", dict(temperature=0.01)),\n",
        "]\n",
        "\n",
        "table = Table(\"Name\", \"Kwargs\", \"Output\", title=\"Sampling - Manual Testing\")\n",
        "\n",
        "for name, kwargs in cases:\n",
        "    for i in range(N_RUNS):\n",
        "        output = sampler.sample(your_prompt, max_tokens_generated=24, **kwargs)\n",
        "        table.add_row(name, str(kwargs), repr(output) + \"\\n\")\n",
        "\n",
        "rprint(table)"
      ]
    },
    {
      "cell_type": "markdown",
      "metadata": {
        "id": "C1eZ7-Z0Q36M"
      },
      "source": [
        "## Top-K Sampling\n",
        "\n",
        "Conceptually, the steps in top-k sampling are:\n",
        "- Find the `top_k` largest probabilities (you can use [`torch.topk`](https://pytorch.org/docs/stable/generated/torch.topk.html))\n",
        "- Set all other probabilities to zero\n",
        "- Normalize and sample"
      ]
    },
    {
      "cell_type": "markdown",
      "metadata": {
        "id": "bcHRWxWEQ36M"
      },
      "source": [
        "### Exercise - `sample_top_k`\n",
        "\n",
        "> ```yaml\n",
        "> Difficulty: 🔴🔴⚪⚪⚪\n",
        "> Importance: 🔵⚪⚪⚪⚪\n",
        ">\n",
        "> You should spend up to 5-10 minutes on this exercise.\n",
        "> ```\n",
        "\n",
        "Implement the method `sample_top_k` now. Your implementation should stay in log-space throughout (don't exponentiate to obtain probabilities). This means you don't actually need to worry about normalizing, because `Categorical` accepts unnormalised logits."
      ]
    },
    {
      "cell_type": "code",
      "execution_count": null,
      "metadata": {
        "id": "Qy07YYubQ36M"
      },
      "outputs": [],
      "source": [
        "prompt = \"John and Mary went to the\"\n",
        "input_ids = tokenizer.encode(prompt, return_tensors=\"pt\").to(device)\n",
        "logits = model(input_ids)[0, -1]\n",
        "\n",
        "expected_top_5 = {\n",
        "    \" church\": 0.0648,\n",
        "    \" house\": 0.0367,\n",
        "    \" temple\": 0.0145,\n",
        "    \" same\": 0.0104,\n",
        "    \" Church\": 0.0097,\n",
        "}\n",
        "topk_5_sum = sum(expected_top_5.values())\n",
        "\n",
        "observed_freqs = defaultdict(int)\n",
        "\n",
        "N = 10000\n",
        "for _ in tqdm(range(N)):\n",
        "    token = TransformerSampler.sample_next_token(input_ids.squeeze(), logits, top_k=5)\n",
        "    observed_freqs[tokenizer.decode(token)] += 1\n",
        "\n",
        "for word in expected_top_5:\n",
        "    expected_freq = expected_top_5[word] / topk_5_sum\n",
        "    observed_freq = observed_freqs[word] / N\n",
        "    print(\n",
        "        f\"Word: {word!r:<9}. Expected freq = {expected_freq:.4f}, observed freq = {observed_freq:.4f}\"\n",
        "    )\n",
        "    assert abs(observed_freq - expected_freq) < 0.01"
      ]
    },
    {
      "cell_type": "markdown",
      "metadata": {
        "id": "3bLmgd3pQ36M"
      },
      "source": [
        "<details>\n",
        "<summary>Solution</summary>\n",
        "\n",
        "```python\n",
        "@staticmethod\n",
        "def sample_top_k(logits: Float[Tensor, \"d_vocab\"], k: int) -> int:\n",
        "    \"\"\"\n",
        "    Samples from the top k most likely tokens.\n",
        "    \"\"\"\n",
        "    top_k_logits, top_k_token_ids = logits.topk(k)\n",
        "    # Get sampled token (which is an index corresponding to the list of top-k tokens)\n",
        "    sampled_token_idx = t.distributions.categorical.Categorical(logits=top_k_logits).sample()\n",
        "    # Get the actual token id, as an int\n",
        "    return top_k_token_ids[sampled_token_idx].item()\n",
        "```\n",
        "\n",
        "</details>"
      ]
    },
    {
      "cell_type": "markdown",
      "metadata": {
        "id": "ar91zJXVQ36M"
      },
      "source": [
        "The [GPT-2 paper](https://d4mucfpksywv.cloudfront.net/better-language-models/language_models_are_unsupervised_multitask_learners.pdf) famously included an example prompt about unicorns. Now it's your turn to see just how cherry picked this example was.\n",
        "\n",
        "The paper claims they used `top_k=40` and best of 10 samples."
      ]
    },
    {
      "cell_type": "code",
      "execution_count": null,
      "metadata": {
        "id": "233EeBOfQ36M"
      },
      "outputs": [],
      "source": [
        "sampler = TransformerSampler(model, tokenizer)\n",
        "\n",
        "your_prompt = \"In a shocking finding, scientist discovered a herd of unicorns living in a remote, previously unexplored valley, in the Andes Mountains. Even more surprising to the researchers was the fact that the unicorns spoke perfect English.\"\n",
        "\n",
        "output = sampler.sample(your_prompt, temperature=0.7, top_k=40, max_tokens_generated=64)\n",
        "\n",
        "rprint(f\"Your model said:\\n\\n[bold dark_orange]{output}\")"
      ]
    },
    {
      "cell_type": "markdown",
      "metadata": {
        "id": "nNdnrFn9Q36M"
      },
      "source": [
        "This is pretty incredible! For some perspective on how much of a paradigm shift even basic models like this represented, we recommend reading [this section from Simulators](https://www.lesswrong.com/posts/vJFdjigzmcXMhNTsx/simulators#The_limit_of_sequence_modeling)."
      ]
    },
    {
      "cell_type": "markdown",
      "metadata": {
        "id": "R-YUmb0DQ36M"
      },
      "source": [
        "## Top-p aka Nucleus Sampling\n",
        "\n",
        "The basic idea is that we choose the most likely words, up until the total probability of words we've chosen crosses some threshold. Then we sample from those chosen words based on their logits.\n",
        "\n",
        "The steps are:\n",
        "\n",
        "- Sort the probabilities from largest to smallest\n",
        "- Find the cutoff point where the cumulative probability first equals or exceeds `top_p`. We do the cutoff inclusively, keeping the first probability above the threshold.\n",
        "- If the number of kept probabilities is less than `min_tokens_to_keep`, keep that many tokens instead.\n",
        "- Set all other probabilities to zero\n",
        "- Normalize and sample\n",
        "\n",
        "For example, if our probabilities were `(0.4, 0.3, 0.2, 0.1)` and our cutoff was `top_p=0.8`, then we'd sample from the first three elements (because their total probability is `0.9` which is over the threshold, but the first two only have a total prob of `0.7` which is under the threshold). Once we've chosen to sample from those three, we would renormalise them by dividing by their sum, so the probabilities we use when sampling are `(0.4/0.9, 0.3/0.9, 0.2/0.9)`.\n",
        "\n",
        "Optionally, refer to the paper [The Curious Case of Neural Text Degeneration](https://arxiv.org/pdf/1904.09751.pdf) for some comparison of different methods."
      ]
    },
    {
      "cell_type": "markdown",
      "metadata": {
        "id": "I5ZRaRdRQ36N"
      },
      "source": [
        "### Exercise - `sample_top_p`\n",
        "\n",
        "> ```yaml\n",
        "> Difficulty: 🔴🔴🔴⚪⚪\n",
        "> Importance: 🔵⚪⚪⚪⚪\n",
        ">\n",
        "> You should spend up to 15-20 minutes on this exercise.\n",
        "> ```"
      ]
    },
    {
      "cell_type": "code",
      "execution_count": null,
      "metadata": {
        "id": "4NLg8g9RQ36N"
      },
      "outputs": [],
      "source": [
        "prompt = \"John and Mary went to the\"\n",
        "input_ids = tokenizer.encode(prompt, return_tensors=\"pt\").to(device)\n",
        "logits = model(input_ids)[0, -1]\n",
        "\n",
        "expected_top_10pct = {\n",
        "    \" church\": 0.0648,\n",
        "    \" house\": 0.0367,  # These are the two most likely tokens, and add up to >10%\n",
        "}\n",
        "top_10pct_sum = sum(expected_top_10pct.values())\n",
        "\n",
        "observed_freqs = defaultdict(int)\n",
        "\n",
        "N = 10_000\n",
        "for _ in tqdm(range(N)):\n",
        "    token = TransformerSampler.sample_next_token(input_ids.squeeze(), logits, top_p=0.1)\n",
        "    observed_freqs[tokenizer.decode(token)] += 1\n",
        "\n",
        "for word in expected_top_10pct:\n",
        "    expected_freq = expected_top_10pct[word] / top_10pct_sum\n",
        "    observed_freq = observed_freqs[word] / N\n",
        "    print(\n",
        "        f\"Word: {word!r:<9}. Expected freq {expected_freq:.4f}, observed freq {observed_freq:.4f}\"\n",
        "    )\n",
        "    assert abs(observed_freq - expected_freq) < 0.01, (\n",
        "        \"Try increasing N if this fails by a small amount.\"\n",
        "    )"
      ]
    },
    {
      "cell_type": "markdown",
      "metadata": {
        "id": "cXeNnKtCQ36N"
      },
      "source": [
        "<details>\n",
        "<summary>Help - I'm stuck on how to implement this function.</summary>\n",
        "\n",
        "First, sort the logits using the `sort(descending=True)` method (this returns values and indices). Then you can get `cumulative_probs` by applying softmax to these logits and taking the cumsum. Then, you can decide how many probabilities to keep by using the `t.searchsorted` function.\n",
        "\n",
        "Once you've decided which probabilities to keep, it's easiest to sample from them using the original logits (you should have preserved the indices when you called `logits.sort`). This way, you don't need to worry about renormalising like you would if you were using probabilities.\n",
        "</details>\n",
        "\n",
        "<details>\n",
        "<summary>Solution</summary>\n",
        "\n",
        "```python\n",
        "@staticmethod\n",
        "def sample_top_p(logits: Float[Tensor, \"d_vocab\"], top_p: float, min_tokens_to_keep: int = 1) -> int:\n",
        "    \"\"\"\n",
        "    Samples from the most likely tokens which make up at least p cumulative probability.\n",
        "    \"\"\"\n",
        "    # Sort logits, and get cumulative probabilities\n",
        "    logits_sorted, indices = logits.sort(descending=True, stable=True)\n",
        "    cumul_probs = logits_sorted.softmax(-1).cumsum(-1)\n",
        "    # Choose which tokens to keep, in the set we sample from\n",
        "    n_keep = t.searchsorted(cumul_probs, top_p, side=\"left\").item() + 1\n",
        "    n_keep = max(n_keep, min_tokens_to_keep)\n",
        "    keep_idx = indices[:n_keep]\n",
        "    keep_logits = logits[keep_idx]\n",
        "    # Perform the sampling\n",
        "    sample = t.distributions.categorical.Categorical(logits=keep_logits).sample()\n",
        "    return keep_idx[sample].item()\n",
        "```\n",
        "\n",
        "</details>"
      ]
    },
    {
      "cell_type": "markdown",
      "metadata": {
        "id": "4nUVC_kiQ36N"
      },
      "source": [
        "Now, an example of top-p sampling:"
      ]
    },
    {
      "cell_type": "code",
      "execution_count": null,
      "metadata": {
        "id": "2l2AfshIQ36N"
      },
      "outputs": [],
      "source": [
        "sampler = TransformerSampler(model, tokenizer)\n",
        "\n",
        "your_prompt = \"Eliezer Shlomo Yudkowsky (born September 11, 1979) is an American decision and artificial intelligence (AI) theorist and writer, best known for\"\n",
        "output = sampler.sample(your_prompt, temperature=0.7, top_p=0.95, max_tokens_generated=64)\n",
        "rprint(f\"Your model said:\\n\\n[bold dark_orange]{output}\")"
      ]
    },
    {
      "cell_type": "markdown",
      "metadata": {
        "id": "vkqEUCHrQ36N"
      },
      "source": [
        "## Beam search\n",
        "\n",
        "Finally, we'll implement a more advanced way of searching over output: **beam search**. You should read the [HuggingFace page](https://huggingface.co/blog/how-to-generate#beam-search) on beam search before moving on.\n",
        "\n",
        "In beam search, we maintain a list of size `num_beams` completions which are the most likely completions so far as measured by the product of their probabilities. Since this product can become very small, we use the sum of log probabilities instead. Note - log probabilities are *not* the same as your model's output. We get log probabilities by first taking softmax of our output and then taking log. You can do this with the [`log_softmax`](https://pytorch.org/docs/stable/generated/torch.nn.functional.log_softmax.html) function / tensor method.\n",
        "\n",
        "<details>\n",
        "<summary>Log probabilities are equal to the logit output after being translated by some amount X (where X is a function of the original logit output). Can you prove this?</summary>\n",
        "\n",
        "Suppose our vector of logits is $x$, and we take softmax to get a vector of probabilities $p$, then log again to get a vector of log probabilities $l$. Then the $i$-th element of this vector of logprobs is:\n",
        "\n",
        "$$\n",
        "\\begin{align}\n",
        "l_i &= \\log p_i \\\\\n",
        "&= \\log \\frac{\\exp(x_i)}{\\sum_j \\exp(x_j)} \\\\\n",
        "&= x_i - \\log \\sum_j \\exp(x_j) \\\\\n",
        "&= x_i - C\n",
        "\\end{align}\n",
        "$$\n",
        "\n",
        "where $C = \\log \\sum_j \\exp(x_j)$ is the same for all elements. So we can see that $l_i$ is equal to the logit output $x_i$ after being translated by $C$.\n",
        "\n",
        "It's important not to mix up logits and logprobs!\n",
        "</details>\n",
        "\n",
        "<details>\n",
        "<summary>Why do you think we use log softmax rather than logit output?</summary>\n",
        "\n",
        "Logit output is translation invariant. If we had two different beams and we were generating the next tokens in those beams, there would be no reasonable way to compare the two beams to each other, because we could shift the logit vector for one beam by a constant amount without changing the distribution.\n",
        "\n",
        "</details>\n",
        "\n",
        "At each iteration, we run the batch of completions through the model and take the log-softmax to obtain `d_vocab` log-probs for each completion, or `num_beams * d_vocab` possible next completions in total.\n",
        "\n",
        "If we kept all of these, then we would have `num_beams * d_vocab * d_vocab` completions after the next iteration which is way too many, so instead we sort them by their score and loop through from best (highest) log probability to worst (lowest).\n",
        "\n",
        "The illustration below might help (based on real results from this method). Here, we have the following hyperparameters:\n",
        "\n",
        "```python\n",
        "num_beams = 3\n",
        "max_new_tokens = 3\n",
        "num_return_sequences = 2\n",
        "```\n",
        "\n",
        "<img src=\"https://raw.githubusercontent.com/info-arena/ARENA_img/main/misc/beam-search-3.png\" width=\"1000\">\n",
        "\n",
        "Note how after each \"generate\" stage, we have `num_beams ** 2` possible completions, which we then filter down to `num_beams`. This is because we need this many in order to find the best `num_beams` completions overall - for example, it's possible that all the best beams of length `n+1` come from the same beam of length `n`, in which case we'll need to keep all `num_beams` that we generated from that single beam.\n",
        "\n",
        "How do we deal with sequences that terminate early (i.e. by generating an EOS token)? Answer - we append them to the list of completions which we'll return at the end, and remove them from the generation tree. Our algorithm terminates when either all our sequences have length `max_new_tokens` larger than the initial prompt length, or we've generated `num_returns_sequences` terminating sequences."
      ]
    },
    {
      "cell_type": "markdown",
      "metadata": {
        "id": "YbWGb7VhQ36N"
      },
      "source": [
        "### Exercise - implement `beam_search`\n",
        "\n",
        "> ```yaml\n",
        "> Difficulty: 🔴🔴🔴🔴🔴\n",
        "> Importance: 🔵⚪⚪⚪⚪\n",
        ">\n",
        "> You should spend up to 30-50 minutes on this exercise.\n",
        "> ```\n",
        "\n",
        "We've given you one implementation of `beam_search` below, which calls the `generate` and `filter` methods of the `Beams` class (these correspond to the two stages in the diagram above). The `beam_search` method works as follows:\n",
        "\n",
        "- Create a list `final_logprobs_and_completions` for storing the final output, as tuples of (logprob sum, string completion).\n",
        "- Perform `max_new_tokens` steps of generation (producing a new set of beams) and filtering (getting the best beams from these combinations), while also adding terminated beams to the list of best beams\n",
        "- Return these terminated beams plus the best ones we have at the end of the steps.\n",
        "\n",
        "So all you need to do is fill in the `generate` and `filter` methods. Below, you'll find some unit tests for the `generate` and `filter` methods. When you've passed these tests, you should be able to run the full `beam_search` function.\n",
        "\n",
        "**Important note** - by default, beam search produces a lot of repeated words / phrases / sentences. This makes sense - if the model finds some completion with a much higher logit sum than most completions in its beam search space, then it will want to repeat this completion even if it doesn't make a lot of sense in context. A common solution is to ban repetition of n-grams, which you should also implement in the function below. In other words, rather than sampling tokens from each sequence by taking `logprobs.topk(k)` in your `generate` method, you should take the `k` top tokens after filtering out those that give you repeated n-grams of length `no_repeat_ngram_size`. Good values of this parameter to try are 2 or 3 (although we recommend you try without this parameter first, so you can see how much of a difference it makes!)."
      ]
    },
    {
      "cell_type": "code",
      "execution_count": null,
      "metadata": {
        "id": "sp2V3lRkQ36N"
      },
      "outputs": [],
      "source": [
        "@dataclass\n",
        "class Beams:\n",
        "    \"\"\"Class to store beams during beam search.\"\"\"\n",
        "\n",
        "    model: DemoTransformer\n",
        "    tokenizer: GPT2TokenizerFast\n",
        "    logprob_sums: Float[Tensor, \"batch\"]\n",
        "    tokens: Int[Tensor, \"batch seq\"]\n",
        "\n",
        "    def __getitem__(self, batch_idx) -> \"Beams\":\n",
        "        \"\"\"Allows you to create new beams from old beams by slicing along batch dim (useful for `filter`).\"\"\"\n",
        "        return Beams(\n",
        "            self.model, self.tokenizer, self.logprob_sums[batch_idx], self.tokens[batch_idx]\n",
        "        )\n",
        "\n",
        "    @property\n",
        "    def logprobs_and_completions(self) -> list[tuple[float, str]]:\n",
        "        \"\"\"Returns self as a list of logprob sums and completions (useful for getting final output).\"\"\"\n",
        "        return [\n",
        "            (logprob_sum.item(), self.tokenizer.decode(tokens))\n",
        "            for (logprob_sum, tokens) in zip(self.logprob_sums, self.tokens)\n",
        "        ]\n",
        "\n",
        "    def generate(self, k: int, no_repeat_ngram_size: int | None = None) -> \"Beams\":\n",
        "        \"\"\"\n",
        "        Starting from the current set of beams (i.e. self.tokens) and returns a new set of `len(self.tokens) * k` beams,\n",
        "        containing the best `k` continuations for each of the original beams.\n",
        "\n",
        "        Optional argument `no_repeat_ngram_size` means your model won't generate any sequences with a repeating n-gram\n",
        "        of this length.\n",
        "        \"\"\"\n",
        "        raise NotImplementedError()\n",
        "\n",
        "    def filter(self, k: int) -> tuple[\"Beams\", \"Beams\"]:\n",
        "        \"\"\"\n",
        "        Returns:\n",
        "            best_beams: Beams\n",
        "                filtered version of self, containing all best `k` which are also not terminated.\n",
        "            early_terminations: Beams\n",
        "                filtered version of self, containing all best `k` which are also terminated.\n",
        "        \"\"\"\n",
        "        raise NotImplementedError()\n",
        "\n",
        "\n",
        "    def print(self, title=\"Best completions\", max_print_chars=80) -> None:\n",
        "        \"\"\"\n",
        "        Prints out a set of sequences with their corresponding logprob sums.\n",
        "        \"\"\"\n",
        "        if len(self.tokens) == 0:\n",
        "            return\n",
        "        table = Table(\"logprob sum\", \"completion\", title=title)\n",
        "        for logprob_sum, tokens in zip(self.logprob_sums, self.tokens):\n",
        "            text = self.tokenizer.decode(tokens)\n",
        "            if len(repr(text)) > max_print_chars:\n",
        "                text = (\n",
        "                    text[: int(0.3 * max_print_chars)]\n",
        "                    + \" ... \"\n",
        "                    + text[-int(0.7 * max_print_chars) :]\n",
        "                )\n",
        "            table.add_row(f\"{logprob_sum:>8.3f}\", repr(text))\n",
        "        rprint(table)\n",
        "\n",
        "\n",
        "@t.inference_mode()\n",
        "def beam_search(\n",
        "    self: TransformerSampler,\n",
        "    prompt: str,\n",
        "    num_return_sequences: int,\n",
        "    num_beams: int,\n",
        "    max_new_tokens: int,\n",
        "    no_repeat_ngram_size: int | None = None,\n",
        ") -> list[tuple[float, str]]:\n",
        "    \"\"\"\n",
        "    Implements a beam search, by repeatedly performing the `generate` and `filter` steps (starting from the initial\n",
        "    prompt) until either of the two stopping criteria are met: (1) we've generated `max_new_tokens` tokens, or (2)\n",
        "    we've generated `num_returns_sequences` terminating sequences.\n",
        "    \"\"\"\n",
        "    assert num_return_sequences <= num_beams\n",
        "    self.model.eval()\n",
        "\n",
        "    tokens = self.tokenizer.encode(prompt, return_tensors=\"pt\").to(device)\n",
        "\n",
        "    final_logprobs_and_completions = []  # we add to this list as we get terminated beams\n",
        "    best_beams = Beams(\n",
        "        self.model, self.tokenizer, t.tensor([0.0]).to(device), tokens\n",
        "    )  # start with just 1 beam\n",
        "\n",
        "    for _ in tqdm(range(max_new_tokens)):\n",
        "        t.cuda.empty_cache()\n",
        "\n",
        "        # Generate & filter beams\n",
        "        best_beams = best_beams.generate(k=num_beams, no_repeat_ngram_size=no_repeat_ngram_size)\n",
        "        best_beams, best_beams_terminated = best_beams.filter(k=num_beams)\n",
        "\n",
        "        # Add terminated beams to our list, and return early if we have enough\n",
        "        final_logprobs_and_completions.extend(best_beams_terminated.logprobs_and_completions)\n",
        "        if len(final_logprobs_and_completions) >= num_return_sequences:\n",
        "            return final_logprobs_and_completions[:num_return_sequences]\n",
        "\n",
        "    # Return terminated beams plus the best ongoing beams of length `orig_len + max_new_tokens`\n",
        "    final_logprobs_and_completions.extend(best_beams.logprobs_and_completions)\n",
        "    return final_logprobs_and_completions[:num_return_sequences]\n",
        "\n",
        "\n",
        "TransformerSampler.beam_search = beam_search"
      ]
    },
    {
      "cell_type": "markdown",
      "metadata": {
        "id": "vSYzt2GeQ36N"
      },
      "source": [
        "<details>\n",
        "<summary>Help - I'm stuck on the implementation of <code>no_repeat_ngram_size</code>.</summary>\n",
        "\n",
        "Here's a method, which you can use in your `generate` function in place of `logprobs.topk(k)`, which filters out the ngrams of length `no_repeat_ngram_size` which have already appeared in `self.tokens`:\n",
        "\n",
        "```python\n",
        "def get_topk_non_repeating(\n",
        "    self,\n",
        "    logprobs: Float[Tensor, \"batch d_vocab\"],\n",
        "    no_repeat_ngram_size: int | None,\n",
        "    k: int,\n",
        ") -> tuple[Float[Tensor, \"k\"], Int[Tensor, \"k\"]]:\n",
        "    \"\"\"\n",
        "    logprobs:\n",
        "        tensor of the log-probs for the next token\n",
        "    no_repeat_ngram_size:\n",
        "        size of ngram to avoid repeating\n",
        "    k:\n",
        "        number of top logits to return, for each beam in our collection\n",
        "\n",
        "    Returns:\n",
        "        equivalent to the output of `logprobs.topk(dim=-1)`, but makes sure that no returned tokens would produce an\n",
        "        ngram of size `no_repeat_ngram_size` which has already appeared in `self.tokens`.\n",
        "    \"\"\"\n",
        "    batch, seq_len = self.tokens.shape\n",
        "\n",
        "    # If completion isn't long enough for a repetition, or we have no restrictions, just return topk\n",
        "    if (no_repeat_ngram_size is not None) and (seq_len > no_repeat_ngram_size - 1):\n",
        "        # Otherwise, we need to check for ngram repetitions\n",
        "        # First, get the most recent `no_repeat_ngram_size-1` tokens\n",
        "        last_ngram_prefix = self.tokens[:, seq_len - (no_repeat_ngram_size - 1) :]\n",
        "        # Next, find all the tokens we're not allowed to generate, by checking all past ngrams for a match\n",
        "        for i in range(seq_len - (no_repeat_ngram_size - 1)):\n",
        "            ngrams = self.tokens[:, i : i + no_repeat_ngram_size]  # (batch, ngram)\n",
        "            ngrams_are_repeated = (ngrams[:, :-1] == last_ngram_prefix).all(-1)  # (batch,)\n",
        "            ngram_end_tokens = ngrams[:, [-1]]  # (batch, 1)\n",
        "            # Fill logprobs with neginf wherever the ngrams are repeated\n",
        "            logprobs[range(batch), ngram_end_tokens] = t.where(\n",
        "                ngrams_are_repeated, -1.0e4, logprobs[range(batch), ngram_end_tokens]\n",
        "            )\n",
        "\n",
        "    # Finally, get our actual tokens\n",
        "    return logprobs.topk(k=k, dim=-1)\n",
        "```\n",
        "\n",
        "</details>\n",
        "\n",
        "<details>\n",
        "<summary>Solution</summary>\n",
        "\n",
        "```python\n",
        "def generate(self, k: int, no_repeat_ngram_size: int | None = None) -> \"Beams\":\n",
        "    \"\"\"\n",
        "    Starting from the current set of beams (i.e. self.tokens) and returns a new set of `len(self.tokens) * k` beams,\n",
        "    containing the best `k` continuations for each of the original beams.\n",
        "\n",
        "    Optional argument `no_repeat_ngram_size` means your model won't generate any sequences with a repeating n-gram\n",
        "    of this length.\n",
        "    \"\"\"\n",
        "    # Get the output logprobs for the next token (for every sequence in current beams)\n",
        "    logprobs = self.model(self.tokens)[:, -1, :].log_softmax(-1)\n",
        "\n",
        "    # Get the top `toks_per_beam` tokens for each sequence\n",
        "    topk_logprobs, topk_tokenIDs = self.get_topk_non_repeating(logprobs, no_repeat_ngram_size, k=k)\n",
        "\n",
        "    # Add new logprobs & concat new tokens. When doing this, we need to add an extra `k` dimension since our current\n",
        "    # logprobs & tokens have shape (batch,) and (batch, seq), but our new ones both have shape (batch, k)\n",
        "    new_logprob_sums = einops.repeat(self.logprob_sums, \"b -> b k\", k=k) + topk_logprobs\n",
        "    new_tokens = t.concat([einops.repeat(self.tokens, \"b s -> b k s\", k=k), topk_tokenIDs.unsqueeze(-1)], dim=-1)\n",
        "\n",
        "    return Beams(self.model, self.tokenizer, new_logprob_sums.flatten(), new_tokens.flatten(0, 1))\n",
        "\n",
        "def filter(self, k: int) -> tuple[\"Beams\", \"Beams\"]:\n",
        "    \"\"\"\n",
        "    Returns:\n",
        "        best_beams: Beams\n",
        "            filtered version of self, containing all best `k` which are also not terminated.\n",
        "        early_terminations: Beams\n",
        "            filtered version of self, containing all best `k` which are also terminated.\n",
        "    \"\"\"\n",
        "    # Get the indices of top `k` beams\n",
        "    top_beam_indices = self.logprob_sums.topk(k=k, dim=0).indices.tolist()\n",
        "    # Get the indices of terminated sequences\n",
        "    new_tokens = self.tokens[:, -1]\n",
        "    terminated_indices = t.nonzero(new_tokens == self.tokenizer.eos_token_id)\n",
        "\n",
        "    # Get the indices of the `k` best sequences (some terminated, some not terminated)\n",
        "    best_continuing = [i for i in top_beam_indices if i not in terminated_indices]\n",
        "    best_terminated = [i for i in top_beam_indices if i in terminated_indices]\n",
        "\n",
        "    # Return the beam objects from these indices\n",
        "    return self[best_continuing], self[best_terminated]\n",
        "\n",
        "def get_topk_non_repeating(\n",
        "    self,\n",
        "    logprobs: Float[Tensor, \"batch d_vocab\"],\n",
        "    no_repeat_ngram_size: int | None,\n",
        "    k: int,\n",
        ") -> tuple[Float[Tensor, \"k\"], Int[Tensor, \"k\"]]:\n",
        "    \"\"\"\n",
        "    logprobs:\n",
        "        tensor of the log-probs for the next token\n",
        "    no_repeat_ngram_size:\n",
        "        size of ngram to avoid repeating\n",
        "    k:\n",
        "        number of top logits to return, for each beam in our collection\n",
        "\n",
        "    Returns:\n",
        "        equivalent to the output of `logprobs.topk(dim=-1)`, but makes sure that no returned tokens would produce an\n",
        "        ngram of size `no_repeat_ngram_size` which has already appeared in `self.tokens`.\n",
        "    \"\"\"\n",
        "    batch, seq_len = self.tokens.shape\n",
        "\n",
        "    # If completion isn't long enough for a repetition, or we have no restrictions, just return topk\n",
        "    if (no_repeat_ngram_size is not None) and (seq_len > no_repeat_ngram_size - 1):\n",
        "        # Otherwise, we need to check for ngram repetitions\n",
        "        # First, get the most recent `no_repeat_ngram_size-1` tokens\n",
        "        last_ngram_prefix = self.tokens[:, seq_len - (no_repeat_ngram_size - 1) :]\n",
        "        # Next, find all the tokens we're not allowed to generate, by checking all past ngrams for a match\n",
        "        for i in range(seq_len - (no_repeat_ngram_size - 1)):\n",
        "            ngrams = self.tokens[:, i : i + no_repeat_ngram_size]  # (batch, ngram)\n",
        "            ngrams_are_repeated = (ngrams[:, :-1] == last_ngram_prefix).all(-1)  # (batch,)\n",
        "            ngram_end_tokens = ngrams[:, [-1]]  # (batch, 1)\n",
        "            # Fill logprobs with neginf wherever the ngrams are repeated\n",
        "            logprobs[range(batch), ngram_end_tokens] = t.where(\n",
        "                ngrams_are_repeated, -1.0e4, logprobs[range(batch), ngram_end_tokens]\n",
        "            )\n",
        "\n",
        "    # Finally, get our actual tokens\n",
        "    return logprobs.topk(k=k, dim=-1)\n",
        "```\n",
        "\n",
        "</details>"
      ]
    },
    {
      "cell_type": "markdown",
      "metadata": {
        "id": "qw99TFJEQ36N"
      },
      "source": [
        "Example usage of the `Beams` class, and the `print` method, corresponding to the diagram above:"
      ]
    },
    {
      "cell_type": "code",
      "execution_count": null,
      "metadata": {
        "id": "EKFmSwm5Q36N"
      },
      "outputs": [],
      "source": [
        "# Start with prompt \"When I was\", get top 3 tokens (and their logprobs), and use that to create & display the top 3 beams\n",
        "prompt = \"When I was\"\n",
        "tokens = tokenizer.encode(prompt, return_tensors=\"pt\").to(device)\n",
        "logprobs = model(tokens)[0, -1].log_softmax(-1)\n",
        "top_logprobs, top_tokens = logprobs.topk(k=3, dim=-1)\n",
        "\n",
        "new_tokens = t.concat([tokens.repeat(3, 1), top_tokens.unsqueeze(-1)], dim=-1)\n",
        "\n",
        "beams = Beams(model, tokenizer, logprob_sums=top_logprobs, tokens=new_tokens)\n",
        "beams.print()"
      ]
    },
    {
      "cell_type": "markdown",
      "metadata": {
        "id": "cRdxA99GQ36N"
      },
      "source": [
        "And here are some unit tests for your `generate` and `filter` methods, starting from the prompt `\"When I was\"` (so your output should match the diagram above)."
      ]
    },
    {
      "cell_type": "code",
      "execution_count": null,
      "metadata": {
        "id": "A3EQn3gbQ36N"
      },
      "outputs": [],
      "source": [
        "print(\"Testing generate...\")\n",
        "new_beams = beams.generate(k=3, no_repeat_ngram_size=1)\n",
        "new_beams.print()\n",
        "\n",
        "expected_values = [\n",
        "    (-3.1, \"When I was a kid\"),\n",
        "    (-4.8, \"When I was a child\"),\n",
        "    (-4.9, \"When I was a little\"),\n",
        "]\n",
        "\n",
        "for i, (logprob_sum, completion) in enumerate(new_beams.logprobs_and_completions[:3]):\n",
        "    assert abs(logprob_sum - expected_values[i][0]) < 0.1, f\"{i}\"\n",
        "    assert completion == expected_values[i][1], f\"{i}\"\n",
        "\n",
        "print(\"All tests for `generate` passed!\")"
      ]
    },
    {
      "cell_type": "code",
      "execution_count": null,
      "metadata": {
        "id": "fkYkf-vAQ36N"
      },
      "outputs": [],
      "source": [
        "print(\"Testing `filter`...\")\n",
        "\n",
        "best_beams, terminated_beams = new_beams.filter(3)\n",
        "best_beams.print()\n",
        "\n",
        "expected_values = [\n",
        "    (-3.1, \"When I was a kid\"),\n",
        "    (-3.2, \"When I was growing up\"),\n",
        "    (-4.6, \"When I was in the\"),\n",
        "]\n",
        "\n",
        "for i, (logprob_sum, completion) in enumerate(best_beams.logprobs_and_completions):\n",
        "    assert abs(logprob_sum - expected_values[i][0]) < 0.1, f\"{i}\"\n",
        "    assert completion == expected_values[i][1], f\"{i}\"\n",
        "\n",
        "assert len(terminated_beams.logprobs_and_completions) == 0\n",
        "\n",
        "print(\"All tests for `filter` passed!\")"
      ]
    },
    {
      "cell_type": "markdown",
      "metadata": {
        "id": "wJrDqDidQ36N"
      },
      "source": [
        "Lastly, we'll test the `no_repeat_ngram_size` argument. We do this by continually generating new tokens from our starting beams `beams`, and seeing if the model repeats the `I was` ngram (which it will by default unless we prohibit repeating n-grams)."
      ]
    },
    {
      "cell_type": "code",
      "execution_count": null,
      "metadata": {
        "id": "SlSQOVP6Q36N"
      },
      "outputs": [],
      "source": [
        "print(\"Testing `no_repeat_ngram_size`...\")\n",
        "\n",
        "new_beams = beams\n",
        "for _ in range(5):\n",
        "    new_beams = new_beams.generate(k=1)\n",
        "new_beams.print(title=\"Completions with no ngram restriction\")\n",
        "assert all(\n",
        "    \"I was\" in completion.removeprefix(prompt)\n",
        "    for _, completion in new_beams.logprobs_and_completions\n",
        "), \"Without restriction, all beams should be completed as '...I was...'\"\n",
        "\n",
        "new_beams = beams\n",
        "for _ in range(5):\n",
        "    new_beams = new_beams.generate(k=1, no_repeat_ngram_size=2)\n",
        "new_beams.print(title=\"Completions with no repeated bigrams\")\n",
        "assert all(\n",
        "    \"I was\" not in completion.removeprefix(prompt)\n",
        "    for _, completion in new_beams.logprobs_and_completions\n",
        "), \"With no repeated bigrams, no beams should contain a second '...I was...'\""
      ]
    },
    {
      "cell_type": "markdown",
      "metadata": {
        "id": "3EAEAbNHQ36N"
      },
      "source": [
        "Once you've passed all of these unit tests, you can try implementing the full beam search function. It should create a `Beams` object from the initial prompt, and then repeatedly call `generate` and `filter` until the stopping criteria are met."
      ]
    },
    {
      "cell_type": "code",
      "execution_count": null,
      "metadata": {
        "id": "WZGVqJIVQ36N"
      },
      "outputs": [],
      "source": [
        "sampler = TransformerSampler(model, tokenizer)\n",
        "\n",
        "prompt = \"The ships hung in the sky in much the same way that\"\n",
        "orig_len = len(tokenizer.encode(prompt))\n",
        "\n",
        "final_logitsums_and_completions = sampler.beam_search(\n",
        "    prompt=prompt,\n",
        "    num_return_sequences=3,\n",
        "    num_beams=40,\n",
        "    max_new_tokens=60,\n",
        "    no_repeat_ngram_size=2,\n",
        ")\n",
        "\n",
        "# Print all the best output\n",
        "for logprob_sum, text in final_logitsums_and_completions:\n",
        "    avg_logprob_as_prob = t.tensor(logprob_sum / (len(tokenizer.encode(text)) - orig_len)).exp()\n",
        "    rprint(f\"Avg token prob = {avg_logprob_as_prob:.3f}\\nBest output:\\n[bold dark_orange]{text}\")"
      ]
    },
    {
      "cell_type": "markdown",
      "metadata": {
        "id": "R29ViyKCQ36N"
      },
      "source": [
        "## KV Caching"
      ]
    },
    {
      "cell_type": "markdown",
      "metadata": {
        "id": "rPVBhBuIQ36N"
      },
      "source": [
        "*This section is also designed to be challenging, and take quite some time. There are many different ways to solve it, and you're expected to try and find your own way (you should think about this for a while before looking at the suggestions in the dropdowns). Additionally, you might not find it as interesting as some of the other sections. In this case, and if you have a lot of extra time, you might want to start on the \"building BERT\" exercises from this chapter.*"
      ]
    },
    {
      "cell_type": "markdown",
      "metadata": {
        "id": "Ll8ufK0RQ36N"
      },
      "source": [
        "### How can caching help us?\n",
        "\n",
        "The text generation we've done so far is needlessly re-computing certain values, which is very noticeable when you try to generate longer sequences.\n",
        "\n",
        "Suppose you're generating text, and you've already run GPT on the sentence \"My life motto:\". Now you want to run the model on the sentence \"My life motto: Always\". Which computations from the first sentence can you reuse?\n",
        "\n",
        "<details>\n",
        "<summary>Answer</summary>\n",
        "\n",
        "At each attention layer, the only things the attention layer needs from the previous sequence positions are the key and value vectors. This is explained in the following diagram, which compares the attention layer with and without caching (it's a big diagram so you might want to open it in a separate window to zoom in).\n",
        "\n",
        "\n",
        "<img src=\"https://raw.githubusercontent.com/info-arena/ARENA_img/main/misc/tl-cache-full.png\" width=\"1200\">\n",
        "\n",
        "</details>"
      ]
    },
    {
      "cell_type": "markdown",
      "metadata": {
        "id": "hUTFkq9BQ36O"
      },
      "source": [
        "### Exercise - implement KV caching\n",
        "\n",
        "> ```yaml\n",
        "> Difficulty: 🔴🔴🔴🔴🔴\n",
        "> Importance: 🔵⚪⚪⚪⚪\n",
        ">\n",
        "> You are expected to spend well over an hour on this exercise, if you choose to do it.\n",
        "> ```\n",
        "\n",
        "Modify your GPT-2 to optionally use a cache. When you run your GPT on `\"My life motto:\"`, it should store the necessary values in the cache. Then in the next forward pass with just `\" Always\"` as input, it should load the cached values instead of recomputing them (and update the cache). This only needs to work with a single input sequence (batch size of 1), and you can assume that after the first forward pass, the input will be just one token.\n",
        "\n",
        "The design of the cache is completely up to you - discuss possible designs with your partner before writing code. It should be possible to have only one GPT2 instance and many different cache instances at one time. Imagine that you want to use one instance to serve multiple users submitting requests for text generation like in [AI Dungeon](https://aidungeon.io/).\n",
        "\n",
        "You'll also need to rewrite parts of your `DemoTransformer` code, in order to get this to work. The tests have been built to accommodate modules which return their output as the first element in a tuple (i.e. `(output, cache)`) rather than just returning the output, so you should use the tests to verify that your modules still work as expected.\n",
        "\n",
        "Some example considerations:\n",
        "\n",
        "* Which GPT-2 classes need to interact with the cache?\n",
        "    * Will you need to change the positional embedding, and if so then how?\n",
        "* Should the cache be mutable and be updated in place, or does updating actually just create a separate instance?\n",
        "    * *(Hint here - think about how you might use the cache during beam search.)*\n",
        "* Is it possible for other programmers to incorrectly use your cache? Is there a way to prevent this failure mode or at least detect this and complain loudly?"
      ]
    },
    {
      "cell_type": "markdown",
      "metadata": {
        "id": "LY7ZPKlZQ36O"
      },
      "source": [
        "<details>\n",
        "<summary>Cache implentation (example)</summary>\n",
        "\n",
        "This KeyValueCache object is structured as just a fancy tensor (it inherits all the methods from Tensor). The main difference is that it has a few extra helper methods, e.g. constructing an empty cache from a Config object.\n",
        "\n",
        "There are other ways you could do this, e.g. having your `KeyValueCache` class contain list of `KeyValueCacheEntry` objects (where each of these corresponds to a different layer).\n",
        "\n",
        "```python\n",
        "# Define a type for a single layer's cache entry (useful for type checking in later functions)\n",
        "KeyValueCacheTensor = Float[Tensor, \"2 batch seq_len n_heads d_head\"]\n",
        "\n",
        "class KeyValueCache(Tensor):\n",
        "    '''\n",
        "    This class holds tensors of key and value vectors, to be used for caching.\n",
        "\n",
        "    If we define it using cfg and batch then it's initialized as empty, but\n",
        "    we can also define it from kv_cache_entries.\n",
        "    '''\n",
        "    @classmethod\n",
        "    def new_empty(cls, cfg: Config, batch: int = 1) -> \"KeyValueCache\":\n",
        "        '''\n",
        "        Doing a forward pass on a cache created in this way indicates \"we don't\n",
        "        yet have a cache, but we want this forward pass to return a cache\".\n",
        "        Whereas using cache=None in a forward pass indicates we don't want to\n",
        "        return a cache.\n",
        "        '''\n",
        "        shape = (cfg.n_layers, 2, batch, 0, cfg.n_heads, cfg.d_head)\n",
        "        return cls(*shape).to(device)\n",
        "\n",
        "    # Define a handful of properties, so they can be referenced directly rather than\n",
        "    # indexing (which is more likely to lead to mistakes)\n",
        "\n",
        "    @property\n",
        "    def k(self) -> Tensor:\n",
        "        return self[:, 0]\n",
        "\n",
        "    @property\n",
        "    def v(self) -> Tensor:\n",
        "        return self[:, 1]\n",
        "\n",
        "    @property\n",
        "    def batch(self) -> int:\n",
        "        return self.shape[2]\n",
        "\n",
        "    @property\n",
        "    def seq_len(self) -> int:\n",
        "        return self.shape[3]\n",
        "\n",
        "\n",
        "# Example implementation:\n",
        "cfg = model.cfg\n",
        "batch = 6\n",
        "kv_cache = KeyValueCache.new_empty(cfg, batch)\n",
        "\n",
        "print(f\"Shape of all kv-cache = {tuple(kv_cache.shape)}\")\n",
        "print(f\"Shape of just k-cache = {tuple(kv_cache.k.shape)}\")\n",
        "for kv_cache_entry in kv_cache:\n",
        "    print(f\"Shape of cache entry for one layer = {tuple(kv_cache_entry.shape)}\")\n",
        "    break\n",
        "print(f\"Batch size = {kv_cache.batch}\")\n",
        "print(f\"Current sequence length = {kv_cache.seq_len}\")\n",
        "```\n",
        "\n",
        "</details>\n",
        "\n",
        "<details>\n",
        "<summary>New <code>DemoTransformer</code> components (and testing)</summary>\n",
        "\n",
        "```python\n",
        "# Define new model parts where necessary, and create a new model & test it\n",
        "# Note that sometimes our modules return a tuple of (tensor output, cache) rather than just output. The\n",
        "# tests have been built to accommodate this.\n",
        "\n",
        "\n",
        "class PosEmbed(nn.Module):\n",
        "    def __init__(self, cfg: Config):\n",
        "        super().__init__()\n",
        "        self.cfg = cfg\n",
        "        self.W_pos = nn.Parameter(t.empty((cfg.n_ctx, cfg.d_model)))\n",
        "        nn.init.normal_(self.W_pos, std=self.cfg.init_range)\n",
        "\n",
        "    def forward(\n",
        "        self,\n",
        "        tokens: Int[Tensor, \"batch position\"],\n",
        "        past_kv_pos_offset: int = 0\n",
        "    ) -> Float[Tensor, \"batch position d_model\"]:\n",
        "\n",
        "        batch, seq_len = tokens.shape\n",
        "        return einops.repeat(\n",
        "            self.W_pos[past_kv_pos_offset: seq_len+past_kv_pos_offset],\n",
        "            \"seq d_model -> batch seq d_model\",\n",
        "            batch=batch\n",
        "        )\n",
        "\n",
        "\n",
        "class Attention(nn.Module):\n",
        "    IGNORE: Float[Tensor, \"\"]\n",
        "\n",
        "    def __init__(self, cfg: Config):\n",
        "        super().__init__()\n",
        "        self.cfg = cfg\n",
        "        self.W_Q = nn.Parameter(t.empty((cfg.n_heads, cfg.d_model, cfg.d_head)))\n",
        "        self.W_K = nn.Parameter(t.empty((cfg.n_heads, cfg.d_model, cfg.d_head)))\n",
        "        self.W_V = nn.Parameter(t.empty((cfg.n_heads, cfg.d_model, cfg.d_head)))\n",
        "        self.W_O = nn.Parameter(t.empty((cfg.n_heads, cfg.d_head, cfg.d_model)))\n",
        "        self.b_Q = nn.Parameter(t.zeros((cfg.n_heads, cfg.d_head)))\n",
        "        self.b_K = nn.Parameter(t.zeros((cfg.n_heads, cfg.d_head)))\n",
        "        self.b_V = nn.Parameter(t.zeros((cfg.n_heads, cfg.d_head)))\n",
        "        self.b_O = nn.Parameter(t.zeros((cfg.d_model)))\n",
        "        nn.init.normal_(self.W_Q, std=self.cfg.init_range)\n",
        "        nn.init.normal_(self.W_K, std=self.cfg.init_range)\n",
        "        nn.init.normal_(self.W_V, std=self.cfg.init_range)\n",
        "        nn.init.normal_(self.W_O, std=self.cfg.init_range)\n",
        "        self.register_buffer(\"IGNORE\", t.tensor(-1e5, dtype=t.float32, device=device))\n",
        "\n",
        "    def forward(\n",
        "        self,\n",
        "        normalized_resid_pre: Float[Tensor, \"batch posn d_model\"],\n",
        "        kv_cache_entry: KeyValueCacheTensor | None = None,\n",
        "    ) -> tuple[\n",
        "        Float[Tensor, \"batch posn d_model\"],\n",
        "        KeyValueCacheTensor | None\n",
        "    ]:\n",
        "        '''\n",
        "        Returns the result of applying attention layer to normlized_resid_pre, as well as\n",
        "        the new cached key and value vectors (which we get from concatenating the old cached\n",
        "        ones with the new key and value vectors).\n",
        "        '''\n",
        "        # Calculate the new query, key and value vectors\n",
        "        q = einops.einsum(\n",
        "            normalized_resid_pre, self.W_Q,\n",
        "            \"batch posn d_model, nheads d_model d_head -> batch posn nheads d_head\"\n",
        "        ) + self.b_Q\n",
        "        k = einops.einsum(\n",
        "            normalized_resid_pre, self.W_K,\n",
        "            \"batch posn d_model, nheads d_model d_head -> batch posn nheads d_head\"\n",
        "        ) + self.b_K\n",
        "        v = einops.einsum(\n",
        "            normalized_resid_pre, self.W_V,\n",
        "            \"batch posn d_model, nheads d_model d_head -> batch posn nheads d_head\"\n",
        "        ) + self.b_V\n",
        "\n",
        "        # If cache_entry is not None, this means we use the previous key and value vectors\n",
        "        # Also we'll need to get a new cache entry which will be used later to construct a new cache\n",
        "        if kv_cache_entry is not None:\n",
        "            k = t.concat([kv_cache_entry[0], k], dim=1)\n",
        "            v = t.concat([kv_cache_entry[1], v], dim=1)\n",
        "            kv_cache_entry = t.stack([k, v])\n",
        "\n",
        "        # Calculate attention scores, then scale and mask, and apply softmax to get probabilities\n",
        "        attn_scores = einops.einsum(\n",
        "            q, k,\n",
        "            \"batch posn_Q nheads d_head, batch posn_K nheads d_head -> batch nheads posn_Q posn_K\"\n",
        "        )\n",
        "        attn_scores_masked = self.apply_causal_mask(attn_scores / self.cfg.d_head ** 0.5)\n",
        "        attn_pattern = attn_scores_masked.softmax(-1)\n",
        "\n",
        "        # Take weighted sum of value vectors, according to attention probabilities\n",
        "        z = einops.einsum(\n",
        "            v, attn_pattern,\n",
        "            \"batch posn_K nheads d_head, batch nheads posn_Q posn_K -> batch posn_Q nheads d_head\"\n",
        "        )\n",
        "\n",
        "        # Calculate output (by applying matrix W_O and summing over heads, then adding bias b_O)\n",
        "        out = einops.einsum(\n",
        "            z, self.W_O,\n",
        "            \"batch posn_Q nheads d_head, nheads d_head d_model -> batch posn_Q d_model\"\n",
        "        ) + self.b_O\n",
        "\n",
        "        return out, kv_cache_entry\n",
        "\n",
        "    def apply_causal_mask(\n",
        "        self, attn_scores: Float[Tensor, \"batch n_heads query_pos key_pos\"]\n",
        "    ) -> Float[Tensor, \"batch n_heads query_pos key_pos\"]:\n",
        "        '''\n",
        "        Here, attn_scores have shape (batch, n_heads, query_pos, key_pos), where query_pos represents the\n",
        "        new (non-cached) positions, and key_pos represent all the positions (cached and non-cached).\n",
        "\n",
        "        So when we create our mask, the query indices and key indices will both go up to the same value\n",
        "        (the full sequence length), but the query indices will start at >0.\n",
        "        '''\n",
        "        new_seq_len, full_seq_len = attn_scores.shape[-2:]\n",
        "        assert new_seq_len <= full_seq_len\n",
        "        q_posn = einops.repeat(attn_scores.new_tensor(range(full_seq_len-new_seq_len, full_seq_len)), \"q -> q k\", k=full_seq_len)\n",
        "        k_posn = einops.repeat(attn_scores.new_tensor(range(full_seq_len)), \"k -> q k\", q=new_seq_len)\n",
        "        mask = q_posn < k_posn\n",
        "        attn_scores = attn_scores.masked_fill(mask, self.IGNORE)\n",
        "        return attn_scores\n",
        "\n",
        "\n",
        "class TransformerBlock(nn.Module):\n",
        "    def __init__(self, cfg: Config):\n",
        "        super().__init__()\n",
        "        self.cfg = cfg\n",
        "        self.ln1 = LayerNorm(cfg)\n",
        "        self.attn = Attention(cfg)\n",
        "        self.ln2 = LayerNorm(cfg)\n",
        "        self.mlp = MLP(cfg)\n",
        "\n",
        "    def forward(\n",
        "        self,\n",
        "        resid_pre: Float[Tensor, \"batch position d_model\"],\n",
        "        kv_cache_entry: KeyValueCacheTensor | None = None,\n",
        "    ) -> Float[Tensor, \"batch position d_model\"]:\n",
        "\n",
        "        attn_out, kv_cache_entry = self.attn(self.ln1(resid_pre), kv_cache_entry)\n",
        "        resid_mid = attn_out + resid_pre\n",
        "        resid_post = self.mlp(self.ln2(resid_mid)) + resid_mid\n",
        "        return resid_post, kv_cache_entry\n",
        "\n",
        "\n",
        "class DemoTransformer(nn.Module):\n",
        "    def __init__(self, cfg: Config):\n",
        "        super().__init__()\n",
        "        self.cfg = cfg\n",
        "        self.embed = Embed(cfg)\n",
        "        self.pos_embed = PosEmbed(cfg)\n",
        "        self.blocks = nn.ModuleList([TransformerBlock(cfg) for _ in range(cfg.n_layers)])\n",
        "        self.ln_final = LayerNorm(cfg)\n",
        "        self.unembed = Unembed(cfg)\n",
        "\n",
        "    def forward(\n",
        "        self,\n",
        "        tokens: Int[Tensor, \"batch seq_pos\"],\n",
        "        kv_cache: KeyValueCache | None = None\n",
        "    ) -> Float[Tensor, \"batch position d_vocab\"]:\n",
        "\n",
        "        using_kv_cache = kv_cache is not None\n",
        "\n",
        "        if using_kv_cache:\n",
        "            # If using kv_cache, then we only need to pass forward the newest tokens\n",
        "            # Remember to add positional offset!\n",
        "            n_cached_tokens = kv_cache.seq_len\n",
        "            tokens = tokens[:, n_cached_tokens:]\n",
        "            residual = self.embed(tokens) + self.pos_embed(tokens, n_cached_tokens)\n",
        "        else:\n",
        "            # If not using cache, turn it into a list of None's (so we can iterate through it)\n",
        "            kv_cache = [None for _ in range(self.cfg.n_layers)]\n",
        "            residual = self.embed(tokens) + self.pos_embed(tokens)\n",
        "\n",
        "        # Apply all layers, and create a (new) kv_cache from the key & value vectors\n",
        "        new_kv_cache_entries: list[KeyValueCacheTensor] = []\n",
        "        for block, kv_cache_entry in zip(self.blocks, kv_cache):\n",
        "            residual, kv_cache_entry = block(residual, kv_cache_entry)\n",
        "            if using_kv_cache: new_kv_cache_entries.append(kv_cache_entry)\n",
        "\n",
        "        logits = self.unembed(self.ln_final(residual))\n",
        "\n",
        "        if using_kv_cache:\n",
        "            return logits, KeyValueCache(t.stack(new_kv_cache_entries))\n",
        "        else:\n",
        "            return logits, None\n",
        "\n",
        "\n",
        "tokens = reference_gpt2.to_tokens(reference_text).to(device)\n",
        "logits, cache = reference_gpt2.run_with_cache(tokens)\n",
        "\n",
        "rand_int_test(PosEmbed, [2, 4])\n",
        "load_gpt2_test(PosEmbed, reference_gpt2.pos_embed, tokens)\n",
        "rand_float_test(Attention, [2, 4, 768])\n",
        "load_gpt2_test(Attention, reference_gpt2.blocks[0].attn, cache[\"normalized\", 0, \"ln1\"])\n",
        "rand_float_test(TransformerBlock, [2, 4, 768])\n",
        "load_gpt2_test(TransformerBlock, reference_gpt2.blocks[0], cache[\"resid_pre\", 0])\n",
        "rand_int_test(DemoTransformer, [2, 4])\n",
        "load_gpt2_test(DemoTransformer, reference_gpt2, tokens)\n",
        "```\n",
        "\n",
        "</details>\n",
        "\n",
        "<details>\n",
        "<summary>New sampling function</summary>\n",
        "\n",
        "```python\n",
        "@t.inference_mode()\n",
        "def sample_with_cache(\n",
        "    self: TransformerSampler,\n",
        "    prompt: str,\n",
        "    max_tokens_generated=100,\n",
        "    kv_cache: KeyValueCache | None = None,\n",
        "    verbose=False,\n",
        "    seed: int | None = None,\n",
        "    **kwargs\n",
        ") -> str:\n",
        "\n",
        "    self.model.eval()\n",
        "    input_ids = self.tokenizer.encode(prompt, return_tensors=\"pt\").to(device)[0]\n",
        "    if seed is not None:\n",
        "        np.random.seed(seed)\n",
        "        t.manual_seed(seed)\n",
        "\n",
        "    for i in tqdm(range(max_tokens_generated)):\n",
        "        # Get new logits (make sure we don't pass in more tokens than the model's context length)\n",
        "        logits, kv_cache = self.model(input_ids[None, -self.cfg.n_ctx:], kv_cache)\n",
        "        # We only take logits for the last token, because this is what we're sampling\n",
        "        logits = logits[0, -1]\n",
        "        # Get next token (as a tensor of size (1, 1) so we can concat it to input_ids)\n",
        "        next_token = t.tensor([TransformerSampler.sample_next_token(input_ids, logits, **kwargs)], device=device)\n",
        "        # Create new input ids string, with shape (1, old_seq_len + 1)\n",
        "        input_ids = t.cat([input_ids, next_token], dim=-1)\n",
        "        # Print out results, if required\n",
        "        if verbose:\n",
        "            print(self.tokenizer.decode(input_ids), end=\"\\r\")\n",
        "        # If our new token was the end-of-text token, stop\n",
        "        if next_token == getattr(self.tokenizer, \"eos_token_id\", None):\n",
        "            break\n",
        "\n",
        "    return self.tokenizer.decode(input_ids)\n",
        "\n",
        "\n",
        "TransformerSampler.sample = sample_with_cache\n",
        "```\n",
        "</details>\n",
        "\n",
        "<details>\n",
        "<summary>Code to verify that the same output is being produced by cache and no-cache versions (and to compare speeds)</summary>\n",
        "\n",
        "```python\n",
        "device = t.device(\"cuda\") # can also try \"cpu\"\n",
        "\n",
        "model = DemoTransformer(Config()).to(device)\n",
        "model.load_state_dict(reference_gpt2.state_dict(), strict=False);\n",
        "\n",
        "initial_text = \"Eliezer Shlomo Yudkowsky (born September 11, 1979) is an American decision and artificial intelligence (AI) theorist and writer, best known for\"\n",
        "# input_ids = tokenizer.encode(initial_text, return_tensors=\"pt\").squeeze()\n",
        "\n",
        "sampler = TransformerSampler(model, tokenizer)\n",
        "\n",
        "# Run the noncached version\n",
        "t0 = time.time()\n",
        "text = sampler.sample(\n",
        "    initial_text,\n",
        "    temperature=0.7,\n",
        "    top_p=0.95,\n",
        "    seed=0,\n",
        ")\n",
        "print(f\"Time taken (without cache): {time.time() - t0:.2f} seconds\")\n",
        "rprint(f\"Model output:\\n\\n[bold dark_orange]{text}[/]\")\n",
        "\n",
        "# Run the cached version\n",
        "t0 = time.time()\n",
        "text_with_cache = sampler.sample(\n",
        "    initial_text,\n",
        "    temperature=0.7,\n",
        "    top_p=0.95,\n",
        "    seed=0,\n",
        "    kv_cache=KeyValueCache.new_empty(sampler.cfg)\n",
        ")\n",
        "print(f\"Time taken (with cache): {time.time() - t0:.2f} seconds\")\n",
        "rprint(f\"Model output:\\n\\n[bold dark_orange]{text_with_cache}[/]\")\n",
        "\n",
        "# # Check they are the same\n",
        "assert text == text_with_cache, \"Your outputs are different, meaning you've probably made a mistake in your cache implementation (or failed to use random seeds).\"\n",
        "print(\"Tests passed!\")\n",
        "```\n",
        "\n",
        "</details>"
      ]
    },
    {
      "cell_type": "markdown",
      "metadata": {
        "id": "ChKbhFWWQ36O"
      },
      "source": [
        "You may find that your cache implementation provides a modest speedup, but probably not close to the `seq_len`-factor speedup you'd expect from the fact that you only compute one additional token at each step rather than all of them. Why is this? The answer is that, much like everything to do with computational and memory costs in deep learning, it's not so simple. There are a host of different factors which might be bottlenecking our model's forward pass speed. If you try this on the CPU, you should get a much more noticeable speedup.\n",
        "\n",
        "For a bit more on these topics, see [here](https://kipp.ly/blog/transformer-inference-arithmetic/#kv-cache)."
      ]
    },
    {
      "cell_type": "markdown",
      "metadata": {
        "id": "QCUri73oQ36O"
      },
      "source": [
        "## Bonus - cached beam search\n",
        "\n",
        "Can you modify your beam search function to use caching?\n",
        "\n",
        "Depending on how you implemented your cache earlier, you might find that a different form of caching is better suited to beam search.\n",
        "\n",
        "Again, we've provided an example implementation in a dropdown below, which is based on the cache implementation above and the previous solution for `beam_search`.\n",
        "\n",
        "<details>\n",
        "<summary>Cached beam search function</summary>\n",
        "\n",
        "As we touched on earlier, thanks to our modular code, not a lot needs to be changed when adding cache support.\n",
        "\n",
        "```python\n",
        "@dataclass\n",
        "class Beams:\n",
        "    '''Class to store beams during beam search.'''\n",
        "    model: DemoTransformer\n",
        "    tokenizer: GPT2TokenizerFast\n",
        "    logprob_sums: Float[Tensor, \"batch\"]\n",
        "    tokens: Int[Tensor, \"batch seq\"]\n",
        "    kv_cache: KeyValueCache | None = None\n",
        "\n",
        "    def __getitem__(self, idx) -> \"Beams\":\n",
        "        '''Helpful function allowing you to take a slice of the beams object along the batch dimension.'''\n",
        "        return Beams(\n",
        "            self.model,\n",
        "            self.tokenizer,\n",
        "            self.logprob_sums[idx],\n",
        "            self.tokens[idx],\n",
        "            self.kv_cache[:, :, idx] if self.kv_cache is not None else None\n",
        "        )\n",
        "\n",
        "    @property\n",
        "    def logprobs_and_completions(self) -> list[tuple[float, str]]:\n",
        "        '''Returns self as a list of logprob sums and completions (useful for getting final output).'''\n",
        "        return [\n",
        "            (logprob_sum.item(), self.tokenizer.decode(tokens))\n",
        "            for (logprob_sum, tokens) in zip(self.logprob_sums, self.tokens)\n",
        "        ]\n",
        "\n",
        "\n",
        "    def generate(self, k: int, no_repeat_ngram_size: int | None = None) -> \"Beams\":\n",
        "        '''\n",
        "        Starting from the current set of beams (i.e. self.tokens) and returns a new set of `len(self.tokens) * k` beams,\n",
        "        containing the best `k` continuations for each of the original beams.\n",
        "\n",
        "        Optional argument `no_repeat_ngram_size` means your model won't generate any sequences with a repeating n-gram\n",
        "        of this length.\n",
        "        '''\n",
        "        # Get the output logprobs for the next token (for every sequence in current beams)\n",
        "        logprobs, kv_cache = self.model(self.tokens, self.kv_cache)\n",
        "        logprobs = logprobs[:, -1, :].log_softmax(-1)\n",
        "\n",
        "        # Get the top `toks_per_beam` tokens for each sequence\n",
        "        topk_logprobs, topk_tokenIDs = self.get_topk_non_repeating(logprobs, no_repeat_ngram_size, k=k)\n",
        "\n",
        "        # Add new logprobs & concat new tokens. When doing this, we need to add an extra `k` dimension since our current\n",
        "        # logprobs & tokens have shape (batch,) and (batch, seq), but our new ones both have shape (batch, k)\n",
        "        new_logprob_sums = einops.repeat(self.logprob_sums, \"b -> b k\", k=k) + topk_logprobs\n",
        "        new_tokens = t.concat([einops.repeat(self.tokens, \"b s -> b k s\", k=k), topk_tokenIDs.unsqueeze(-1)], dim=-1)\n",
        "\n",
        "        return Beams(self.model, self.tokenizer, new_logprob_sums.flatten(), new_tokens.flatten(0, 1), new_kv_cache)\n",
        "\n",
        "\n",
        "    def filter(self, k: int) -> tuple[\"Beams\", \"Beams\"]:\n",
        "        '''\n",
        "        Returns:\n",
        "            best_beams: Beams\n",
        "                filtered version of self, containing all best `k` which are also not terminated.\n",
        "            early_terminations: Beams\n",
        "                filtered version of self, containing all best `k` which are also terminated.\n",
        "        '''\n",
        "        # Get the indices of top `k` beams\n",
        "        top_beam_indices = self.logprob_sums.topk(k=k, dim=0).indices.tolist()\n",
        "        # Get the indices of terminated sequences\n",
        "        new_tokens = self.tokens[:, -1]\n",
        "        terminated_indices = t.nonzero(new_tokens == self.tokenizer.eos_token_id)\n",
        "\n",
        "        # Get the indices of the `k` best sequences (some terminated, some not terminated)\n",
        "        best_continuing = [i for i in top_beam_indices if i not in terminated_indices]\n",
        "        best_terminated = [i for i in top_beam_indices if i in terminated_indices]\n",
        "\n",
        "        # Return the beam objects from these indices\n",
        "        return self[best_continuing], self[best_terminated]\n",
        "\n",
        "\n",
        "    def get_topk_non_repeating(\n",
        "        self,\n",
        "        logprobs: Float[Tensor, \"batch d_vocab\"],\n",
        "        no_repeat_ngram_size: int | None,\n",
        "        k: int,\n",
        "    ) -> tuple[Float[Tensor, \"k\"], Int[Tensor, \"k\"]]:\n",
        "        \"\"\"\n",
        "        logprobs:\n",
        "            tensor of the log-probs for the next token\n",
        "        no_repeat_ngram_size:\n",
        "            size of ngram to avoid repeating\n",
        "        k:\n",
        "            number of top logits to return, for each beam in our collection\n",
        "\n",
        "        Returns:\n",
        "            equivalent to the output of `logprobs.topk(dim=-1)`, but makes sure that no returned tokens would produce an\n",
        "            ngram of size  `no_repeat_ngram_size` which has already appeared in `self.tokens`.\n",
        "        \"\"\"\n",
        "        batch, seq_len = self.tokens.shape\n",
        "\n",
        "        # If completion isn't long enough for a repetition, or we have no restrictions, just return topk\n",
        "        if (no_repeat_ngram_size is not None) and (seq_len > no_repeat_ngram_size - 1):\n",
        "            # Otherwise, we need to check for ngram repetitions\n",
        "            # First, get the most recent `no_repeat_ngram_size-1` tokens\n",
        "            last_ngram_prefix = self.tokens[:, seq_len - (no_repeat_ngram_size - 1) :]\n",
        "            # Next, find all the tokens we're not allowed to generate, by checking all past ngrams for a match\n",
        "            for i in range(seq_len - (no_repeat_ngram_size - 1)):\n",
        "                ngrams = self.tokens[:, i : i + no_repeat_ngram_size]  # (batch, ngram)\n",
        "                ngrams_are_repeated = (ngrams[:, :-1] == last_ngram_prefix).all(-1)  # (batch,)\n",
        "                ngram_end_tokens = ngrams[:, [-1]]  # (batch, 1)\n",
        "                # Fill logprobs with neginf wherever the ngrams are repeated\n",
        "                logprobs[range(batch), ngram_end_tokens] = t.where(\n",
        "                    ngrams_are_repeated, -1.0e4, logprobs[range(batch), ngram_end_tokens]\n",
        "                )\n",
        "\n",
        "        # Finally, get our actual tokens\n",
        "        return logprobs.topk(k=k, dim=-1)\n",
        "\n",
        "    def print(self, title=\"Best completions\", max_print_chars=80) -> None:\n",
        "        '''\n",
        "        Prints out a set of sequences with their corresponding logitsums.\n",
        "        '''\n",
        "        if len(self.tokens) == 0:\n",
        "            return\n",
        "        table = Table(\"logitsum\", \"completion\", title=title)\n",
        "        for logprob_sum, tokens in zip(self.logprob_sums, self.tokens):\n",
        "            text = self.tokenizer.decode(tokens)\n",
        "            if len(repr(text)) > max_print_chars:\n",
        "                text = text[:int(0.3 * max_print_chars)] + \" ... \" + text[-int(0.7 * max_print_chars):]\n",
        "            table.add_row(f\"{logprob_sum:>8.3f}\", repr(text))\n",
        "        rprint(table)\n",
        "\n",
        "\n",
        "    @t.inference_mode()\n",
        "    def beam_search(\n",
        "        self,\n",
        "        prompt: str,\n",
        "        num_return_sequences: int,\n",
        "        num_beams: int,\n",
        "        max_new_tokens: int,\n",
        "        no_repeat_ngram_size: int | None = None,\n",
        "        kv_cache: KeyValueCache | None = None,\n",
        "    ) -> list[tuple[float, Tensor]]:\n",
        "        '''\n",
        "        Implements a beam search, by repeatedly performing the `generate` and `filter` steps (starting from the initial\n",
        "        prompt) until either of the two stopping criteria are met: (1) we've generated `max_new_tokens` tokens, or (2)\n",
        "        we've generated `num_returns_sequences` terminating sequences.\n",
        "        '''\n",
        "        assert num_return_sequences <= num_beams\n",
        "        self.model.eval()\n",
        "\n",
        "        tokens = self.tokenizer.encode(prompt, return_tensors=\"pt\").to(device)\n",
        "\n",
        "        final_logprobs_and_completions = []  # we add to this list as we get terminated beams\n",
        "        best_beams = Beams(self.model, self.tokenizer, t.tensor([0.0]).to(device), tokens)  # start with just 1 beam\n",
        "\n",
        "        for _ in tqdm(range(max_new_tokens)):\n",
        "            # Generate & filter beams\n",
        "            best_beams = best_beams.generate(k=num_beams, no_repeat_ngram_size=no_repeat_ngram_size)\n",
        "            best_beams, best_beams_terminated = best_beams.filter(k=num_beams)\n",
        "\n",
        "            # Add terminated beams to our list, and return early if we have enough\n",
        "            final_logprobs_and_completions.extend(best_beams_terminated.logprobs_and_completions)\n",
        "            if len(final_logprobs_and_completions) >= num_return_sequences:\n",
        "                return final_logprobs_and_completions[:num_return_sequences]\n",
        "\n",
        "        # Return terminated beams plus the best ongoing beams of length `orig_len + max_new_tokens`\n",
        "        final_logprobs_and_completions.extend(best_beams.logprobs_and_completions)\n",
        "        return final_logprobs_and_completions[:num_return_sequences]\n",
        "\n",
        "\n",
        "```\n",
        "\n",
        "</details>\n",
        "\n",
        "<details>\n",
        "<summary>Code to verify that the same output is being produced by cache and no-cache versions (and to compare speeds)</summary>\n",
        "\n",
        "```python\n",
        "prompt = \"For you, the day Bison graced your village was the most important day of your life. But for me, it was\"\n",
        "orig_len = len(tokenizer.encode(prompt))\n",
        "\n",
        "beam_search_kwargs = dict(\n",
        "    prompt=prompt,\n",
        "    num_return_sequences=3,\n",
        "    num_beams=20,\n",
        "    max_new_tokens=60,\n",
        "    no_repeat_ngram_size=2,\n",
        "    verbose=False\n",
        ")\n",
        "\n",
        "sampler = TransformerSampler(model, tokenizer)\n",
        "\n",
        "# Run the noncached version\n",
        "t0 = time.time()\n",
        "final_logitsums_and_completions = sampler.beam_search(**beam_search_kwargs)\n",
        "logprob_sum, text = final_logitsums_and_completions[0]\n",
        "avg_logprob_as_prob = t.tensor(logprob_sum / (len(tokenizer.encode(text)) - orig_len)).exp().item()\n",
        "print(f\"Time (without cache): {time.time() - t0:.2f} seconds\")\n",
        "print(f\"Avg logprob (expressed as a probability) = {avg_logprob_as_prob:.3f}\")\n",
        "rprint(f\"Output:\\n\\n[bold dark_orange]{text}[/]\\n\\n\")\n",
        "\n",
        "# Run the cached version\n",
        "t0 = time.time()\n",
        "beam_search_kwargs[\"kv_cache\"] = KeyValueCache.new_empty(model.cfg)\n",
        "final_logitsums_and_completions = sampler.beam_search(**beam_search_kwargs)\n",
        "logprob_sum, text_with_cache = final_logitsums_and_completions[0]\n",
        "avg_logprob_as_prob = t.tensor(logprob_sum / (len(tokenizer.encode(text)) - orig_len)).exp().item()\n",
        "print(f\"Time (with cache): {time.time() - t0:.2f} seconds\")\n",
        "print(f\"Avg logprob (as probability) = {avg_logprob_as_prob:.3f}\", end=\"\")\n",
        "rprint(f\"Output:\\n\\n[bold dark_orange]{text_with_cache}[/]\\n\\n\")\n",
        "\n",
        "# Check they are the same\n",
        "assert text == text_with_cache, \"Your outputs are different, meaning you've probably made a mistake in your cache implementation.\"\n",
        "print(\"Tests passed!\")\n",
        "```\n",
        "\n",
        "</details>"
      ]
    }
  ],
  "metadata": {
    "language_info": {
      "name": "python"
    },
    "colab": {
      "provenance": [],
      "include_colab_link": true
    },
    "kernelspec": {
      "name": "python3",
      "display_name": "Python 3"
    },
    "widgets": {
      "application/vnd.jupyter.widget-state+json": {
        "16f7c41cb07145a3a4f8b71c18e9c442": {
          "model_module": "@jupyter-widgets/controls",
          "model_name": "HBoxModel",
          "model_module_version": "1.5.0",
          "state": {
            "_dom_classes": [],
            "_model_module": "@jupyter-widgets/controls",
            "_model_module_version": "1.5.0",
            "_model_name": "HBoxModel",
            "_view_count": null,
            "_view_module": "@jupyter-widgets/controls",
            "_view_module_version": "1.5.0",
            "_view_name": "HBoxView",
            "box_style": "",
            "children": [
              "IPY_MODEL_07d2500413c846dc94157123145dca54",
              "IPY_MODEL_50ae4e97c3c2497a9db3182d2e2e6f75",
              "IPY_MODEL_0e76aded01be4b3a91480e246fa69b8b"
            ],
            "layout": "IPY_MODEL_802fa191aa2f4abba53bf28b130d4ca1"
          }
        },
        "07d2500413c846dc94157123145dca54": {
          "model_module": "@jupyter-widgets/controls",
          "model_name": "HTMLModel",
          "model_module_version": "1.5.0",
          "state": {
            "_dom_classes": [],
            "_model_module": "@jupyter-widgets/controls",
            "_model_module_version": "1.5.0",
            "_model_name": "HTMLModel",
            "_view_count": null,
            "_view_module": "@jupyter-widgets/controls",
            "_view_module_version": "1.5.0",
            "_view_name": "HTMLView",
            "description": "",
            "description_tooltip": null,
            "layout": "IPY_MODEL_10e5910c5de64977a42c05a546e6686f",
            "placeholder": "​",
            "style": "IPY_MODEL_1ac0a7742997491da7e70e4bdc6c0c59",
            "value": "config.json: 100%"
          }
        },
        "50ae4e97c3c2497a9db3182d2e2e6f75": {
          "model_module": "@jupyter-widgets/controls",
          "model_name": "FloatProgressModel",
          "model_module_version": "1.5.0",
          "state": {
            "_dom_classes": [],
            "_model_module": "@jupyter-widgets/controls",
            "_model_module_version": "1.5.0",
            "_model_name": "FloatProgressModel",
            "_view_count": null,
            "_view_module": "@jupyter-widgets/controls",
            "_view_module_version": "1.5.0",
            "_view_name": "ProgressView",
            "bar_style": "success",
            "description": "",
            "description_tooltip": null,
            "layout": "IPY_MODEL_39af20c061ab48f59493a2106bdde645",
            "max": 665,
            "min": 0,
            "orientation": "horizontal",
            "style": "IPY_MODEL_af6d72f7f9c24343836d945c351c9023",
            "value": 665
          }
        },
        "0e76aded01be4b3a91480e246fa69b8b": {
          "model_module": "@jupyter-widgets/controls",
          "model_name": "HTMLModel",
          "model_module_version": "1.5.0",
          "state": {
            "_dom_classes": [],
            "_model_module": "@jupyter-widgets/controls",
            "_model_module_version": "1.5.0",
            "_model_name": "HTMLModel",
            "_view_count": null,
            "_view_module": "@jupyter-widgets/controls",
            "_view_module_version": "1.5.0",
            "_view_name": "HTMLView",
            "description": "",
            "description_tooltip": null,
            "layout": "IPY_MODEL_192f6b588bcd4788b5d00b9205397832",
            "placeholder": "​",
            "style": "IPY_MODEL_3db98b1cc6964c658952b53d10efb4ff",
            "value": " 665/665 [00:00&lt;00:00, 139kB/s]"
          }
        },
        "802fa191aa2f4abba53bf28b130d4ca1": {
          "model_module": "@jupyter-widgets/base",
          "model_name": "LayoutModel",
          "model_module_version": "1.2.0",
          "state": {
            "_model_module": "@jupyter-widgets/base",
            "_model_module_version": "1.2.0",
            "_model_name": "LayoutModel",
            "_view_count": null,
            "_view_module": "@jupyter-widgets/base",
            "_view_module_version": "1.2.0",
            "_view_name": "LayoutView",
            "align_content": null,
            "align_items": null,
            "align_self": null,
            "border": null,
            "bottom": null,
            "display": null,
            "flex": null,
            "flex_flow": null,
            "grid_area": null,
            "grid_auto_columns": null,
            "grid_auto_flow": null,
            "grid_auto_rows": null,
            "grid_column": null,
            "grid_gap": null,
            "grid_row": null,
            "grid_template_areas": null,
            "grid_template_columns": null,
            "grid_template_rows": null,
            "height": null,
            "justify_content": null,
            "justify_items": null,
            "left": null,
            "margin": null,
            "max_height": null,
            "max_width": null,
            "min_height": null,
            "min_width": null,
            "object_fit": null,
            "object_position": null,
            "order": null,
            "overflow": null,
            "overflow_x": null,
            "overflow_y": null,
            "padding": null,
            "right": null,
            "top": null,
            "visibility": null,
            "width": null
          }
        },
        "10e5910c5de64977a42c05a546e6686f": {
          "model_module": "@jupyter-widgets/base",
          "model_name": "LayoutModel",
          "model_module_version": "1.2.0",
          "state": {
            "_model_module": "@jupyter-widgets/base",
            "_model_module_version": "1.2.0",
            "_model_name": "LayoutModel",
            "_view_count": null,
            "_view_module": "@jupyter-widgets/base",
            "_view_module_version": "1.2.0",
            "_view_name": "LayoutView",
            "align_content": null,
            "align_items": null,
            "align_self": null,
            "border": null,
            "bottom": null,
            "display": null,
            "flex": null,
            "flex_flow": null,
            "grid_area": null,
            "grid_auto_columns": null,
            "grid_auto_flow": null,
            "grid_auto_rows": null,
            "grid_column": null,
            "grid_gap": null,
            "grid_row": null,
            "grid_template_areas": null,
            "grid_template_columns": null,
            "grid_template_rows": null,
            "height": null,
            "justify_content": null,
            "justify_items": null,
            "left": null,
            "margin": null,
            "max_height": null,
            "max_width": null,
            "min_height": null,
            "min_width": null,
            "object_fit": null,
            "object_position": null,
            "order": null,
            "overflow": null,
            "overflow_x": null,
            "overflow_y": null,
            "padding": null,
            "right": null,
            "top": null,
            "visibility": null,
            "width": null
          }
        },
        "1ac0a7742997491da7e70e4bdc6c0c59": {
          "model_module": "@jupyter-widgets/controls",
          "model_name": "DescriptionStyleModel",
          "model_module_version": "1.5.0",
          "state": {
            "_model_module": "@jupyter-widgets/controls",
            "_model_module_version": "1.5.0",
            "_model_name": "DescriptionStyleModel",
            "_view_count": null,
            "_view_module": "@jupyter-widgets/base",
            "_view_module_version": "1.2.0",
            "_view_name": "StyleView",
            "description_width": ""
          }
        },
        "39af20c061ab48f59493a2106bdde645": {
          "model_module": "@jupyter-widgets/base",
          "model_name": "LayoutModel",
          "model_module_version": "1.2.0",
          "state": {
            "_model_module": "@jupyter-widgets/base",
            "_model_module_version": "1.2.0",
            "_model_name": "LayoutModel",
            "_view_count": null,
            "_view_module": "@jupyter-widgets/base",
            "_view_module_version": "1.2.0",
            "_view_name": "LayoutView",
            "align_content": null,
            "align_items": null,
            "align_self": null,
            "border": null,
            "bottom": null,
            "display": null,
            "flex": null,
            "flex_flow": null,
            "grid_area": null,
            "grid_auto_columns": null,
            "grid_auto_flow": null,
            "grid_auto_rows": null,
            "grid_column": null,
            "grid_gap": null,
            "grid_row": null,
            "grid_template_areas": null,
            "grid_template_columns": null,
            "grid_template_rows": null,
            "height": null,
            "justify_content": null,
            "justify_items": null,
            "left": null,
            "margin": null,
            "max_height": null,
            "max_width": null,
            "min_height": null,
            "min_width": null,
            "object_fit": null,
            "object_position": null,
            "order": null,
            "overflow": null,
            "overflow_x": null,
            "overflow_y": null,
            "padding": null,
            "right": null,
            "top": null,
            "visibility": null,
            "width": null
          }
        },
        "af6d72f7f9c24343836d945c351c9023": {
          "model_module": "@jupyter-widgets/controls",
          "model_name": "ProgressStyleModel",
          "model_module_version": "1.5.0",
          "state": {
            "_model_module": "@jupyter-widgets/controls",
            "_model_module_version": "1.5.0",
            "_model_name": "ProgressStyleModel",
            "_view_count": null,
            "_view_module": "@jupyter-widgets/base",
            "_view_module_version": "1.2.0",
            "_view_name": "StyleView",
            "bar_color": null,
            "description_width": ""
          }
        },
        "192f6b588bcd4788b5d00b9205397832": {
          "model_module": "@jupyter-widgets/base",
          "model_name": "LayoutModel",
          "model_module_version": "1.2.0",
          "state": {
            "_model_module": "@jupyter-widgets/base",
            "_model_module_version": "1.2.0",
            "_model_name": "LayoutModel",
            "_view_count": null,
            "_view_module": "@jupyter-widgets/base",
            "_view_module_version": "1.2.0",
            "_view_name": "LayoutView",
            "align_content": null,
            "align_items": null,
            "align_self": null,
            "border": null,
            "bottom": null,
            "display": null,
            "flex": null,
            "flex_flow": null,
            "grid_area": null,
            "grid_auto_columns": null,
            "grid_auto_flow": null,
            "grid_auto_rows": null,
            "grid_column": null,
            "grid_gap": null,
            "grid_row": null,
            "grid_template_areas": null,
            "grid_template_columns": null,
            "grid_template_rows": null,
            "height": null,
            "justify_content": null,
            "justify_items": null,
            "left": null,
            "margin": null,
            "max_height": null,
            "max_width": null,
            "min_height": null,
            "min_width": null,
            "object_fit": null,
            "object_position": null,
            "order": null,
            "overflow": null,
            "overflow_x": null,
            "overflow_y": null,
            "padding": null,
            "right": null,
            "top": null,
            "visibility": null,
            "width": null
          }
        },
        "3db98b1cc6964c658952b53d10efb4ff": {
          "model_module": "@jupyter-widgets/controls",
          "model_name": "DescriptionStyleModel",
          "model_module_version": "1.5.0",
          "state": {
            "_model_module": "@jupyter-widgets/controls",
            "_model_module_version": "1.5.0",
            "_model_name": "DescriptionStyleModel",
            "_view_count": null,
            "_view_module": "@jupyter-widgets/base",
            "_view_module_version": "1.2.0",
            "_view_name": "StyleView",
            "description_width": ""
          }
        },
        "2e509bc9c07f433fa5cef03c4a970079": {
          "model_module": "@jupyter-widgets/controls",
          "model_name": "HBoxModel",
          "model_module_version": "1.5.0",
          "state": {
            "_dom_classes": [],
            "_model_module": "@jupyter-widgets/controls",
            "_model_module_version": "1.5.0",
            "_model_name": "HBoxModel",
            "_view_count": null,
            "_view_module": "@jupyter-widgets/controls",
            "_view_module_version": "1.5.0",
            "_view_name": "HBoxView",
            "box_style": "",
            "children": [
              "IPY_MODEL_3a0f9c72423a42b79d66f5767eefd29e",
              "IPY_MODEL_66de652857ac49509ccdb84cee75fa1e",
              "IPY_MODEL_7f6d4314390a4cc0af3798c8eca1c643"
            ],
            "layout": "IPY_MODEL_927fc8ead3714208a43181f976fe685d"
          }
        },
        "3a0f9c72423a42b79d66f5767eefd29e": {
          "model_module": "@jupyter-widgets/controls",
          "model_name": "HTMLModel",
          "model_module_version": "1.5.0",
          "state": {
            "_dom_classes": [],
            "_model_module": "@jupyter-widgets/controls",
            "_model_module_version": "1.5.0",
            "_model_name": "HTMLModel",
            "_view_count": null,
            "_view_module": "@jupyter-widgets/controls",
            "_view_module_version": "1.5.0",
            "_view_name": "HTMLView",
            "description": "",
            "description_tooltip": null,
            "layout": "IPY_MODEL_eb1fff1d9ae248cea82ba3149b445592",
            "placeholder": "​",
            "style": "IPY_MODEL_5afa92bdaf7141349d38790e33c960eb",
            "value": "model.safetensors: 100%"
          }
        },
        "66de652857ac49509ccdb84cee75fa1e": {
          "model_module": "@jupyter-widgets/controls",
          "model_name": "FloatProgressModel",
          "model_module_version": "1.5.0",
          "state": {
            "_dom_classes": [],
            "_model_module": "@jupyter-widgets/controls",
            "_model_module_version": "1.5.0",
            "_model_name": "FloatProgressModel",
            "_view_count": null,
            "_view_module": "@jupyter-widgets/controls",
            "_view_module_version": "1.5.0",
            "_view_name": "ProgressView",
            "bar_style": "success",
            "description": "",
            "description_tooltip": null,
            "layout": "IPY_MODEL_74988a717b094b348f23d87cc57555bc",
            "max": 548105171,
            "min": 0,
            "orientation": "horizontal",
            "style": "IPY_MODEL_10bdb664ffa94ab0b630d46f8d6491fb",
            "value": 548105171
          }
        },
        "7f6d4314390a4cc0af3798c8eca1c643": {
          "model_module": "@jupyter-widgets/controls",
          "model_name": "HTMLModel",
          "model_module_version": "1.5.0",
          "state": {
            "_dom_classes": [],
            "_model_module": "@jupyter-widgets/controls",
            "_model_module_version": "1.5.0",
            "_model_name": "HTMLModel",
            "_view_count": null,
            "_view_module": "@jupyter-widgets/controls",
            "_view_module_version": "1.5.0",
            "_view_name": "HTMLView",
            "description": "",
            "description_tooltip": null,
            "layout": "IPY_MODEL_2768914b41db4a259bc97d1d5a32844d",
            "placeholder": "​",
            "style": "IPY_MODEL_78c9ec9c42e747ceb9d74f0a51ef51e2",
            "value": " 548M/548M [00:15&lt;00:00, 71.0MB/s]"
          }
        },
        "927fc8ead3714208a43181f976fe685d": {
          "model_module": "@jupyter-widgets/base",
          "model_name": "LayoutModel",
          "model_module_version": "1.2.0",
          "state": {
            "_model_module": "@jupyter-widgets/base",
            "_model_module_version": "1.2.0",
            "_model_name": "LayoutModel",
            "_view_count": null,
            "_view_module": "@jupyter-widgets/base",
            "_view_module_version": "1.2.0",
            "_view_name": "LayoutView",
            "align_content": null,
            "align_items": null,
            "align_self": null,
            "border": null,
            "bottom": null,
            "display": null,
            "flex": null,
            "flex_flow": null,
            "grid_area": null,
            "grid_auto_columns": null,
            "grid_auto_flow": null,
            "grid_auto_rows": null,
            "grid_column": null,
            "grid_gap": null,
            "grid_row": null,
            "grid_template_areas": null,
            "grid_template_columns": null,
            "grid_template_rows": null,
            "height": null,
            "justify_content": null,
            "justify_items": null,
            "left": null,
            "margin": null,
            "max_height": null,
            "max_width": null,
            "min_height": null,
            "min_width": null,
            "object_fit": null,
            "object_position": null,
            "order": null,
            "overflow": null,
            "overflow_x": null,
            "overflow_y": null,
            "padding": null,
            "right": null,
            "top": null,
            "visibility": null,
            "width": null
          }
        },
        "eb1fff1d9ae248cea82ba3149b445592": {
          "model_module": "@jupyter-widgets/base",
          "model_name": "LayoutModel",
          "model_module_version": "1.2.0",
          "state": {
            "_model_module": "@jupyter-widgets/base",
            "_model_module_version": "1.2.0",
            "_model_name": "LayoutModel",
            "_view_count": null,
            "_view_module": "@jupyter-widgets/base",
            "_view_module_version": "1.2.0",
            "_view_name": "LayoutView",
            "align_content": null,
            "align_items": null,
            "align_self": null,
            "border": null,
            "bottom": null,
            "display": null,
            "flex": null,
            "flex_flow": null,
            "grid_area": null,
            "grid_auto_columns": null,
            "grid_auto_flow": null,
            "grid_auto_rows": null,
            "grid_column": null,
            "grid_gap": null,
            "grid_row": null,
            "grid_template_areas": null,
            "grid_template_columns": null,
            "grid_template_rows": null,
            "height": null,
            "justify_content": null,
            "justify_items": null,
            "left": null,
            "margin": null,
            "max_height": null,
            "max_width": null,
            "min_height": null,
            "min_width": null,
            "object_fit": null,
            "object_position": null,
            "order": null,
            "overflow": null,
            "overflow_x": null,
            "overflow_y": null,
            "padding": null,
            "right": null,
            "top": null,
            "visibility": null,
            "width": null
          }
        },
        "5afa92bdaf7141349d38790e33c960eb": {
          "model_module": "@jupyter-widgets/controls",
          "model_name": "DescriptionStyleModel",
          "model_module_version": "1.5.0",
          "state": {
            "_model_module": "@jupyter-widgets/controls",
            "_model_module_version": "1.5.0",
            "_model_name": "DescriptionStyleModel",
            "_view_count": null,
            "_view_module": "@jupyter-widgets/base",
            "_view_module_version": "1.2.0",
            "_view_name": "StyleView",
            "description_width": ""
          }
        },
        "74988a717b094b348f23d87cc57555bc": {
          "model_module": "@jupyter-widgets/base",
          "model_name": "LayoutModel",
          "model_module_version": "1.2.0",
          "state": {
            "_model_module": "@jupyter-widgets/base",
            "_model_module_version": "1.2.0",
            "_model_name": "LayoutModel",
            "_view_count": null,
            "_view_module": "@jupyter-widgets/base",
            "_view_module_version": "1.2.0",
            "_view_name": "LayoutView",
            "align_content": null,
            "align_items": null,
            "align_self": null,
            "border": null,
            "bottom": null,
            "display": null,
            "flex": null,
            "flex_flow": null,
            "grid_area": null,
            "grid_auto_columns": null,
            "grid_auto_flow": null,
            "grid_auto_rows": null,
            "grid_column": null,
            "grid_gap": null,
            "grid_row": null,
            "grid_template_areas": null,
            "grid_template_columns": null,
            "grid_template_rows": null,
            "height": null,
            "justify_content": null,
            "justify_items": null,
            "left": null,
            "margin": null,
            "max_height": null,
            "max_width": null,
            "min_height": null,
            "min_width": null,
            "object_fit": null,
            "object_position": null,
            "order": null,
            "overflow": null,
            "overflow_x": null,
            "overflow_y": null,
            "padding": null,
            "right": null,
            "top": null,
            "visibility": null,
            "width": null
          }
        },
        "10bdb664ffa94ab0b630d46f8d6491fb": {
          "model_module": "@jupyter-widgets/controls",
          "model_name": "ProgressStyleModel",
          "model_module_version": "1.5.0",
          "state": {
            "_model_module": "@jupyter-widgets/controls",
            "_model_module_version": "1.5.0",
            "_model_name": "ProgressStyleModel",
            "_view_count": null,
            "_view_module": "@jupyter-widgets/base",
            "_view_module_version": "1.2.0",
            "_view_name": "StyleView",
            "bar_color": null,
            "description_width": ""
          }
        },
        "2768914b41db4a259bc97d1d5a32844d": {
          "model_module": "@jupyter-widgets/base",
          "model_name": "LayoutModel",
          "model_module_version": "1.2.0",
          "state": {
            "_model_module": "@jupyter-widgets/base",
            "_model_module_version": "1.2.0",
            "_model_name": "LayoutModel",
            "_view_count": null,
            "_view_module": "@jupyter-widgets/base",
            "_view_module_version": "1.2.0",
            "_view_name": "LayoutView",
            "align_content": null,
            "align_items": null,
            "align_self": null,
            "border": null,
            "bottom": null,
            "display": null,
            "flex": null,
            "flex_flow": null,
            "grid_area": null,
            "grid_auto_columns": null,
            "grid_auto_flow": null,
            "grid_auto_rows": null,
            "grid_column": null,
            "grid_gap": null,
            "grid_row": null,
            "grid_template_areas": null,
            "grid_template_columns": null,
            "grid_template_rows": null,
            "height": null,
            "justify_content": null,
            "justify_items": null,
            "left": null,
            "margin": null,
            "max_height": null,
            "max_width": null,
            "min_height": null,
            "min_width": null,
            "object_fit": null,
            "object_position": null,
            "order": null,
            "overflow": null,
            "overflow_x": null,
            "overflow_y": null,
            "padding": null,
            "right": null,
            "top": null,
            "visibility": null,
            "width": null
          }
        },
        "78c9ec9c42e747ceb9d74f0a51ef51e2": {
          "model_module": "@jupyter-widgets/controls",
          "model_name": "DescriptionStyleModel",
          "model_module_version": "1.5.0",
          "state": {
            "_model_module": "@jupyter-widgets/controls",
            "_model_module_version": "1.5.0",
            "_model_name": "DescriptionStyleModel",
            "_view_count": null,
            "_view_module": "@jupyter-widgets/base",
            "_view_module_version": "1.2.0",
            "_view_name": "StyleView",
            "description_width": ""
          }
        },
        "ec96e7f2e99647fbbf69bb7bc5742315": {
          "model_module": "@jupyter-widgets/controls",
          "model_name": "HBoxModel",
          "model_module_version": "1.5.0",
          "state": {
            "_dom_classes": [],
            "_model_module": "@jupyter-widgets/controls",
            "_model_module_version": "1.5.0",
            "_model_name": "HBoxModel",
            "_view_count": null,
            "_view_module": "@jupyter-widgets/controls",
            "_view_module_version": "1.5.0",
            "_view_name": "HBoxView",
            "box_style": "",
            "children": [
              "IPY_MODEL_7e60d2b932e7413d9e8d6d65a005b1a6",
              "IPY_MODEL_d28975ef83634d038c5b1b84e7405dee",
              "IPY_MODEL_5c848d2a4f894b35bb693eb8aff2c1e8"
            ],
            "layout": "IPY_MODEL_e09813d96f6e43909eff7012753e27fb"
          }
        },
        "7e60d2b932e7413d9e8d6d65a005b1a6": {
          "model_module": "@jupyter-widgets/controls",
          "model_name": "HTMLModel",
          "model_module_version": "1.5.0",
          "state": {
            "_dom_classes": [],
            "_model_module": "@jupyter-widgets/controls",
            "_model_module_version": "1.5.0",
            "_model_name": "HTMLModel",
            "_view_count": null,
            "_view_module": "@jupyter-widgets/controls",
            "_view_module_version": "1.5.0",
            "_view_name": "HTMLView",
            "description": "",
            "description_tooltip": null,
            "layout": "IPY_MODEL_3644e6a06d304f60ac95a881abd6b188",
            "placeholder": "​",
            "style": "IPY_MODEL_4afa939dcdd44db89f0230a6ad07cd0a",
            "value": "generation_config.json: 100%"
          }
        },
        "d28975ef83634d038c5b1b84e7405dee": {
          "model_module": "@jupyter-widgets/controls",
          "model_name": "FloatProgressModel",
          "model_module_version": "1.5.0",
          "state": {
            "_dom_classes": [],
            "_model_module": "@jupyter-widgets/controls",
            "_model_module_version": "1.5.0",
            "_model_name": "FloatProgressModel",
            "_view_count": null,
            "_view_module": "@jupyter-widgets/controls",
            "_view_module_version": "1.5.0",
            "_view_name": "ProgressView",
            "bar_style": "success",
            "description": "",
            "description_tooltip": null,
            "layout": "IPY_MODEL_cc88c541a61d4d0a94d676dd7e473e96",
            "max": 124,
            "min": 0,
            "orientation": "horizontal",
            "style": "IPY_MODEL_9981ba71d0bc4c8386057e8f4d9ecb72",
            "value": 124
          }
        },
        "5c848d2a4f894b35bb693eb8aff2c1e8": {
          "model_module": "@jupyter-widgets/controls",
          "model_name": "HTMLModel",
          "model_module_version": "1.5.0",
          "state": {
            "_dom_classes": [],
            "_model_module": "@jupyter-widgets/controls",
            "_model_module_version": "1.5.0",
            "_model_name": "HTMLModel",
            "_view_count": null,
            "_view_module": "@jupyter-widgets/controls",
            "_view_module_version": "1.5.0",
            "_view_name": "HTMLView",
            "description": "",
            "description_tooltip": null,
            "layout": "IPY_MODEL_f2e9b963a417425c89e3393706d16aec",
            "placeholder": "​",
            "style": "IPY_MODEL_977194cf67364dc28dc3458504ba9248",
            "value": " 124/124 [00:00&lt;00:00, 17.0kB/s]"
          }
        },
        "e09813d96f6e43909eff7012753e27fb": {
          "model_module": "@jupyter-widgets/base",
          "model_name": "LayoutModel",
          "model_module_version": "1.2.0",
          "state": {
            "_model_module": "@jupyter-widgets/base",
            "_model_module_version": "1.2.0",
            "_model_name": "LayoutModel",
            "_view_count": null,
            "_view_module": "@jupyter-widgets/base",
            "_view_module_version": "1.2.0",
            "_view_name": "LayoutView",
            "align_content": null,
            "align_items": null,
            "align_self": null,
            "border": null,
            "bottom": null,
            "display": null,
            "flex": null,
            "flex_flow": null,
            "grid_area": null,
            "grid_auto_columns": null,
            "grid_auto_flow": null,
            "grid_auto_rows": null,
            "grid_column": null,
            "grid_gap": null,
            "grid_row": null,
            "grid_template_areas": null,
            "grid_template_columns": null,
            "grid_template_rows": null,
            "height": null,
            "justify_content": null,
            "justify_items": null,
            "left": null,
            "margin": null,
            "max_height": null,
            "max_width": null,
            "min_height": null,
            "min_width": null,
            "object_fit": null,
            "object_position": null,
            "order": null,
            "overflow": null,
            "overflow_x": null,
            "overflow_y": null,
            "padding": null,
            "right": null,
            "top": null,
            "visibility": null,
            "width": null
          }
        },
        "3644e6a06d304f60ac95a881abd6b188": {
          "model_module": "@jupyter-widgets/base",
          "model_name": "LayoutModel",
          "model_module_version": "1.2.0",
          "state": {
            "_model_module": "@jupyter-widgets/base",
            "_model_module_version": "1.2.0",
            "_model_name": "LayoutModel",
            "_view_count": null,
            "_view_module": "@jupyter-widgets/base",
            "_view_module_version": "1.2.0",
            "_view_name": "LayoutView",
            "align_content": null,
            "align_items": null,
            "align_self": null,
            "border": null,
            "bottom": null,
            "display": null,
            "flex": null,
            "flex_flow": null,
            "grid_area": null,
            "grid_auto_columns": null,
            "grid_auto_flow": null,
            "grid_auto_rows": null,
            "grid_column": null,
            "grid_gap": null,
            "grid_row": null,
            "grid_template_areas": null,
            "grid_template_columns": null,
            "grid_template_rows": null,
            "height": null,
            "justify_content": null,
            "justify_items": null,
            "left": null,
            "margin": null,
            "max_height": null,
            "max_width": null,
            "min_height": null,
            "min_width": null,
            "object_fit": null,
            "object_position": null,
            "order": null,
            "overflow": null,
            "overflow_x": null,
            "overflow_y": null,
            "padding": null,
            "right": null,
            "top": null,
            "visibility": null,
            "width": null
          }
        },
        "4afa939dcdd44db89f0230a6ad07cd0a": {
          "model_module": "@jupyter-widgets/controls",
          "model_name": "DescriptionStyleModel",
          "model_module_version": "1.5.0",
          "state": {
            "_model_module": "@jupyter-widgets/controls",
            "_model_module_version": "1.5.0",
            "_model_name": "DescriptionStyleModel",
            "_view_count": null,
            "_view_module": "@jupyter-widgets/base",
            "_view_module_version": "1.2.0",
            "_view_name": "StyleView",
            "description_width": ""
          }
        },
        "cc88c541a61d4d0a94d676dd7e473e96": {
          "model_module": "@jupyter-widgets/base",
          "model_name": "LayoutModel",
          "model_module_version": "1.2.0",
          "state": {
            "_model_module": "@jupyter-widgets/base",
            "_model_module_version": "1.2.0",
            "_model_name": "LayoutModel",
            "_view_count": null,
            "_view_module": "@jupyter-widgets/base",
            "_view_module_version": "1.2.0",
            "_view_name": "LayoutView",
            "align_content": null,
            "align_items": null,
            "align_self": null,
            "border": null,
            "bottom": null,
            "display": null,
            "flex": null,
            "flex_flow": null,
            "grid_area": null,
            "grid_auto_columns": null,
            "grid_auto_flow": null,
            "grid_auto_rows": null,
            "grid_column": null,
            "grid_gap": null,
            "grid_row": null,
            "grid_template_areas": null,
            "grid_template_columns": null,
            "grid_template_rows": null,
            "height": null,
            "justify_content": null,
            "justify_items": null,
            "left": null,
            "margin": null,
            "max_height": null,
            "max_width": null,
            "min_height": null,
            "min_width": null,
            "object_fit": null,
            "object_position": null,
            "order": null,
            "overflow": null,
            "overflow_x": null,
            "overflow_y": null,
            "padding": null,
            "right": null,
            "top": null,
            "visibility": null,
            "width": null
          }
        },
        "9981ba71d0bc4c8386057e8f4d9ecb72": {
          "model_module": "@jupyter-widgets/controls",
          "model_name": "ProgressStyleModel",
          "model_module_version": "1.5.0",
          "state": {
            "_model_module": "@jupyter-widgets/controls",
            "_model_module_version": "1.5.0",
            "_model_name": "ProgressStyleModel",
            "_view_count": null,
            "_view_module": "@jupyter-widgets/base",
            "_view_module_version": "1.2.0",
            "_view_name": "StyleView",
            "bar_color": null,
            "description_width": ""
          }
        },
        "f2e9b963a417425c89e3393706d16aec": {
          "model_module": "@jupyter-widgets/base",
          "model_name": "LayoutModel",
          "model_module_version": "1.2.0",
          "state": {
            "_model_module": "@jupyter-widgets/base",
            "_model_module_version": "1.2.0",
            "_model_name": "LayoutModel",
            "_view_count": null,
            "_view_module": "@jupyter-widgets/base",
            "_view_module_version": "1.2.0",
            "_view_name": "LayoutView",
            "align_content": null,
            "align_items": null,
            "align_self": null,
            "border": null,
            "bottom": null,
            "display": null,
            "flex": null,
            "flex_flow": null,
            "grid_area": null,
            "grid_auto_columns": null,
            "grid_auto_flow": null,
            "grid_auto_rows": null,
            "grid_column": null,
            "grid_gap": null,
            "grid_row": null,
            "grid_template_areas": null,
            "grid_template_columns": null,
            "grid_template_rows": null,
            "height": null,
            "justify_content": null,
            "justify_items": null,
            "left": null,
            "margin": null,
            "max_height": null,
            "max_width": null,
            "min_height": null,
            "min_width": null,
            "object_fit": null,
            "object_position": null,
            "order": null,
            "overflow": null,
            "overflow_x": null,
            "overflow_y": null,
            "padding": null,
            "right": null,
            "top": null,
            "visibility": null,
            "width": null
          }
        },
        "977194cf67364dc28dc3458504ba9248": {
          "model_module": "@jupyter-widgets/controls",
          "model_name": "DescriptionStyleModel",
          "model_module_version": "1.5.0",
          "state": {
            "_model_module": "@jupyter-widgets/controls",
            "_model_module_version": "1.5.0",
            "_model_name": "DescriptionStyleModel",
            "_view_count": null,
            "_view_module": "@jupyter-widgets/base",
            "_view_module_version": "1.2.0",
            "_view_name": "StyleView",
            "description_width": ""
          }
        },
        "0efc0b6325224aa190ed21847ccdd6fa": {
          "model_module": "@jupyter-widgets/controls",
          "model_name": "HBoxModel",
          "model_module_version": "1.5.0",
          "state": {
            "_dom_classes": [],
            "_model_module": "@jupyter-widgets/controls",
            "_model_module_version": "1.5.0",
            "_model_name": "HBoxModel",
            "_view_count": null,
            "_view_module": "@jupyter-widgets/controls",
            "_view_module_version": "1.5.0",
            "_view_name": "HBoxView",
            "box_style": "",
            "children": [
              "IPY_MODEL_a0be0f0191744eb6937d39091e9995b6",
              "IPY_MODEL_9ba81adf0d0f417a8409849ef4e0bac5",
              "IPY_MODEL_beadabd1de104a7d929d60538453fbfd"
            ],
            "layout": "IPY_MODEL_9446a005d357481da5dbedebda4d4973"
          }
        },
        "a0be0f0191744eb6937d39091e9995b6": {
          "model_module": "@jupyter-widgets/controls",
          "model_name": "HTMLModel",
          "model_module_version": "1.5.0",
          "state": {
            "_dom_classes": [],
            "_model_module": "@jupyter-widgets/controls",
            "_model_module_version": "1.5.0",
            "_model_name": "HTMLModel",
            "_view_count": null,
            "_view_module": "@jupyter-widgets/controls",
            "_view_module_version": "1.5.0",
            "_view_name": "HTMLView",
            "description": "",
            "description_tooltip": null,
            "layout": "IPY_MODEL_f0566c83be39425d8ca174433aa09dd2",
            "placeholder": "​",
            "style": "IPY_MODEL_64baa3b3d0484694beff471c138d0d22",
            "value": "tokenizer_config.json: 100%"
          }
        },
        "9ba81adf0d0f417a8409849ef4e0bac5": {
          "model_module": "@jupyter-widgets/controls",
          "model_name": "FloatProgressModel",
          "model_module_version": "1.5.0",
          "state": {
            "_dom_classes": [],
            "_model_module": "@jupyter-widgets/controls",
            "_model_module_version": "1.5.0",
            "_model_name": "FloatProgressModel",
            "_view_count": null,
            "_view_module": "@jupyter-widgets/controls",
            "_view_module_version": "1.5.0",
            "_view_name": "ProgressView",
            "bar_style": "success",
            "description": "",
            "description_tooltip": null,
            "layout": "IPY_MODEL_acd4d76cde8345fda4eda450533b6698",
            "max": 26,
            "min": 0,
            "orientation": "horizontal",
            "style": "IPY_MODEL_47617d96d1c548c7ae5b0583bd596940",
            "value": 26
          }
        },
        "beadabd1de104a7d929d60538453fbfd": {
          "model_module": "@jupyter-widgets/controls",
          "model_name": "HTMLModel",
          "model_module_version": "1.5.0",
          "state": {
            "_dom_classes": [],
            "_model_module": "@jupyter-widgets/controls",
            "_model_module_version": "1.5.0",
            "_model_name": "HTMLModel",
            "_view_count": null,
            "_view_module": "@jupyter-widgets/controls",
            "_view_module_version": "1.5.0",
            "_view_name": "HTMLView",
            "description": "",
            "description_tooltip": null,
            "layout": "IPY_MODEL_b36754e7cd68400da2fa762b08d87f1d",
            "placeholder": "​",
            "style": "IPY_MODEL_f1926026c41743a8bc69c005bbb9d9d9",
            "value": " 26.0/26.0 [00:00&lt;00:00, 3.90kB/s]"
          }
        },
        "9446a005d357481da5dbedebda4d4973": {
          "model_module": "@jupyter-widgets/base",
          "model_name": "LayoutModel",
          "model_module_version": "1.2.0",
          "state": {
            "_model_module": "@jupyter-widgets/base",
            "_model_module_version": "1.2.0",
            "_model_name": "LayoutModel",
            "_view_count": null,
            "_view_module": "@jupyter-widgets/base",
            "_view_module_version": "1.2.0",
            "_view_name": "LayoutView",
            "align_content": null,
            "align_items": null,
            "align_self": null,
            "border": null,
            "bottom": null,
            "display": null,
            "flex": null,
            "flex_flow": null,
            "grid_area": null,
            "grid_auto_columns": null,
            "grid_auto_flow": null,
            "grid_auto_rows": null,
            "grid_column": null,
            "grid_gap": null,
            "grid_row": null,
            "grid_template_areas": null,
            "grid_template_columns": null,
            "grid_template_rows": null,
            "height": null,
            "justify_content": null,
            "justify_items": null,
            "left": null,
            "margin": null,
            "max_height": null,
            "max_width": null,
            "min_height": null,
            "min_width": null,
            "object_fit": null,
            "object_position": null,
            "order": null,
            "overflow": null,
            "overflow_x": null,
            "overflow_y": null,
            "padding": null,
            "right": null,
            "top": null,
            "visibility": null,
            "width": null
          }
        },
        "f0566c83be39425d8ca174433aa09dd2": {
          "model_module": "@jupyter-widgets/base",
          "model_name": "LayoutModel",
          "model_module_version": "1.2.0",
          "state": {
            "_model_module": "@jupyter-widgets/base",
            "_model_module_version": "1.2.0",
            "_model_name": "LayoutModel",
            "_view_count": null,
            "_view_module": "@jupyter-widgets/base",
            "_view_module_version": "1.2.0",
            "_view_name": "LayoutView",
            "align_content": null,
            "align_items": null,
            "align_self": null,
            "border": null,
            "bottom": null,
            "display": null,
            "flex": null,
            "flex_flow": null,
            "grid_area": null,
            "grid_auto_columns": null,
            "grid_auto_flow": null,
            "grid_auto_rows": null,
            "grid_column": null,
            "grid_gap": null,
            "grid_row": null,
            "grid_template_areas": null,
            "grid_template_columns": null,
            "grid_template_rows": null,
            "height": null,
            "justify_content": null,
            "justify_items": null,
            "left": null,
            "margin": null,
            "max_height": null,
            "max_width": null,
            "min_height": null,
            "min_width": null,
            "object_fit": null,
            "object_position": null,
            "order": null,
            "overflow": null,
            "overflow_x": null,
            "overflow_y": null,
            "padding": null,
            "right": null,
            "top": null,
            "visibility": null,
            "width": null
          }
        },
        "64baa3b3d0484694beff471c138d0d22": {
          "model_module": "@jupyter-widgets/controls",
          "model_name": "DescriptionStyleModel",
          "model_module_version": "1.5.0",
          "state": {
            "_model_module": "@jupyter-widgets/controls",
            "_model_module_version": "1.5.0",
            "_model_name": "DescriptionStyleModel",
            "_view_count": null,
            "_view_module": "@jupyter-widgets/base",
            "_view_module_version": "1.2.0",
            "_view_name": "StyleView",
            "description_width": ""
          }
        },
        "acd4d76cde8345fda4eda450533b6698": {
          "model_module": "@jupyter-widgets/base",
          "model_name": "LayoutModel",
          "model_module_version": "1.2.0",
          "state": {
            "_model_module": "@jupyter-widgets/base",
            "_model_module_version": "1.2.0",
            "_model_name": "LayoutModel",
            "_view_count": null,
            "_view_module": "@jupyter-widgets/base",
            "_view_module_version": "1.2.0",
            "_view_name": "LayoutView",
            "align_content": null,
            "align_items": null,
            "align_self": null,
            "border": null,
            "bottom": null,
            "display": null,
            "flex": null,
            "flex_flow": null,
            "grid_area": null,
            "grid_auto_columns": null,
            "grid_auto_flow": null,
            "grid_auto_rows": null,
            "grid_column": null,
            "grid_gap": null,
            "grid_row": null,
            "grid_template_areas": null,
            "grid_template_columns": null,
            "grid_template_rows": null,
            "height": null,
            "justify_content": null,
            "justify_items": null,
            "left": null,
            "margin": null,
            "max_height": null,
            "max_width": null,
            "min_height": null,
            "min_width": null,
            "object_fit": null,
            "object_position": null,
            "order": null,
            "overflow": null,
            "overflow_x": null,
            "overflow_y": null,
            "padding": null,
            "right": null,
            "top": null,
            "visibility": null,
            "width": null
          }
        },
        "47617d96d1c548c7ae5b0583bd596940": {
          "model_module": "@jupyter-widgets/controls",
          "model_name": "ProgressStyleModel",
          "model_module_version": "1.5.0",
          "state": {
            "_model_module": "@jupyter-widgets/controls",
            "_model_module_version": "1.5.0",
            "_model_name": "ProgressStyleModel",
            "_view_count": null,
            "_view_module": "@jupyter-widgets/base",
            "_view_module_version": "1.2.0",
            "_view_name": "StyleView",
            "bar_color": null,
            "description_width": ""
          }
        },
        "b36754e7cd68400da2fa762b08d87f1d": {
          "model_module": "@jupyter-widgets/base",
          "model_name": "LayoutModel",
          "model_module_version": "1.2.0",
          "state": {
            "_model_module": "@jupyter-widgets/base",
            "_model_module_version": "1.2.0",
            "_model_name": "LayoutModel",
            "_view_count": null,
            "_view_module": "@jupyter-widgets/base",
            "_view_module_version": "1.2.0",
            "_view_name": "LayoutView",
            "align_content": null,
            "align_items": null,
            "align_self": null,
            "border": null,
            "bottom": null,
            "display": null,
            "flex": null,
            "flex_flow": null,
            "grid_area": null,
            "grid_auto_columns": null,
            "grid_auto_flow": null,
            "grid_auto_rows": null,
            "grid_column": null,
            "grid_gap": null,
            "grid_row": null,
            "grid_template_areas": null,
            "grid_template_columns": null,
            "grid_template_rows": null,
            "height": null,
            "justify_content": null,
            "justify_items": null,
            "left": null,
            "margin": null,
            "max_height": null,
            "max_width": null,
            "min_height": null,
            "min_width": null,
            "object_fit": null,
            "object_position": null,
            "order": null,
            "overflow": null,
            "overflow_x": null,
            "overflow_y": null,
            "padding": null,
            "right": null,
            "top": null,
            "visibility": null,
            "width": null
          }
        },
        "f1926026c41743a8bc69c005bbb9d9d9": {
          "model_module": "@jupyter-widgets/controls",
          "model_name": "DescriptionStyleModel",
          "model_module_version": "1.5.0",
          "state": {
            "_model_module": "@jupyter-widgets/controls",
            "_model_module_version": "1.5.0",
            "_model_name": "DescriptionStyleModel",
            "_view_count": null,
            "_view_module": "@jupyter-widgets/base",
            "_view_module_version": "1.2.0",
            "_view_name": "StyleView",
            "description_width": ""
          }
        },
        "efd85807a8404fca92e205e4c0fc9a55": {
          "model_module": "@jupyter-widgets/controls",
          "model_name": "HBoxModel",
          "model_module_version": "1.5.0",
          "state": {
            "_dom_classes": [],
            "_model_module": "@jupyter-widgets/controls",
            "_model_module_version": "1.5.0",
            "_model_name": "HBoxModel",
            "_view_count": null,
            "_view_module": "@jupyter-widgets/controls",
            "_view_module_version": "1.5.0",
            "_view_name": "HBoxView",
            "box_style": "",
            "children": [
              "IPY_MODEL_b0ea38ca2e224d8f91b7e11b1d46487a",
              "IPY_MODEL_bbcd65c260a54887acbbcb3c58df9ee0",
              "IPY_MODEL_a5fd0b9f319843fdb0c82f974503d43a"
            ],
            "layout": "IPY_MODEL_cf89a35931694d8c89228df38c44c5be"
          }
        },
        "b0ea38ca2e224d8f91b7e11b1d46487a": {
          "model_module": "@jupyter-widgets/controls",
          "model_name": "HTMLModel",
          "model_module_version": "1.5.0",
          "state": {
            "_dom_classes": [],
            "_model_module": "@jupyter-widgets/controls",
            "_model_module_version": "1.5.0",
            "_model_name": "HTMLModel",
            "_view_count": null,
            "_view_module": "@jupyter-widgets/controls",
            "_view_module_version": "1.5.0",
            "_view_name": "HTMLView",
            "description": "",
            "description_tooltip": null,
            "layout": "IPY_MODEL_71c33968b6ba40fba919846bae614c86",
            "placeholder": "​",
            "style": "IPY_MODEL_1d4828e7b15a49b5ace3c14463265256",
            "value": "vocab.json: 100%"
          }
        },
        "bbcd65c260a54887acbbcb3c58df9ee0": {
          "model_module": "@jupyter-widgets/controls",
          "model_name": "FloatProgressModel",
          "model_module_version": "1.5.0",
          "state": {
            "_dom_classes": [],
            "_model_module": "@jupyter-widgets/controls",
            "_model_module_version": "1.5.0",
            "_model_name": "FloatProgressModel",
            "_view_count": null,
            "_view_module": "@jupyter-widgets/controls",
            "_view_module_version": "1.5.0",
            "_view_name": "ProgressView",
            "bar_style": "success",
            "description": "",
            "description_tooltip": null,
            "layout": "IPY_MODEL_fbc1810d283b43abae41122b2c451053",
            "max": 1042301,
            "min": 0,
            "orientation": "horizontal",
            "style": "IPY_MODEL_b43d28409e5f4f458b0c6c0c9ab2a1be",
            "value": 1042301
          }
        },
        "a5fd0b9f319843fdb0c82f974503d43a": {
          "model_module": "@jupyter-widgets/controls",
          "model_name": "HTMLModel",
          "model_module_version": "1.5.0",
          "state": {
            "_dom_classes": [],
            "_model_module": "@jupyter-widgets/controls",
            "_model_module_version": "1.5.0",
            "_model_name": "HTMLModel",
            "_view_count": null,
            "_view_module": "@jupyter-widgets/controls",
            "_view_module_version": "1.5.0",
            "_view_name": "HTMLView",
            "description": "",
            "description_tooltip": null,
            "layout": "IPY_MODEL_2915b2a8299e4ecf9062bdc330661de6",
            "placeholder": "​",
            "style": "IPY_MODEL_2a170d709d1641b7a80909d6c29e825f",
            "value": " 1.04M/1.04M [00:00&lt;00:00, 5.10MB/s]"
          }
        },
        "cf89a35931694d8c89228df38c44c5be": {
          "model_module": "@jupyter-widgets/base",
          "model_name": "LayoutModel",
          "model_module_version": "1.2.0",
          "state": {
            "_model_module": "@jupyter-widgets/base",
            "_model_module_version": "1.2.0",
            "_model_name": "LayoutModel",
            "_view_count": null,
            "_view_module": "@jupyter-widgets/base",
            "_view_module_version": "1.2.0",
            "_view_name": "LayoutView",
            "align_content": null,
            "align_items": null,
            "align_self": null,
            "border": null,
            "bottom": null,
            "display": null,
            "flex": null,
            "flex_flow": null,
            "grid_area": null,
            "grid_auto_columns": null,
            "grid_auto_flow": null,
            "grid_auto_rows": null,
            "grid_column": null,
            "grid_gap": null,
            "grid_row": null,
            "grid_template_areas": null,
            "grid_template_columns": null,
            "grid_template_rows": null,
            "height": null,
            "justify_content": null,
            "justify_items": null,
            "left": null,
            "margin": null,
            "max_height": null,
            "max_width": null,
            "min_height": null,
            "min_width": null,
            "object_fit": null,
            "object_position": null,
            "order": null,
            "overflow": null,
            "overflow_x": null,
            "overflow_y": null,
            "padding": null,
            "right": null,
            "top": null,
            "visibility": null,
            "width": null
          }
        },
        "71c33968b6ba40fba919846bae614c86": {
          "model_module": "@jupyter-widgets/base",
          "model_name": "LayoutModel",
          "model_module_version": "1.2.0",
          "state": {
            "_model_module": "@jupyter-widgets/base",
            "_model_module_version": "1.2.0",
            "_model_name": "LayoutModel",
            "_view_count": null,
            "_view_module": "@jupyter-widgets/base",
            "_view_module_version": "1.2.0",
            "_view_name": "LayoutView",
            "align_content": null,
            "align_items": null,
            "align_self": null,
            "border": null,
            "bottom": null,
            "display": null,
            "flex": null,
            "flex_flow": null,
            "grid_area": null,
            "grid_auto_columns": null,
            "grid_auto_flow": null,
            "grid_auto_rows": null,
            "grid_column": null,
            "grid_gap": null,
            "grid_row": null,
            "grid_template_areas": null,
            "grid_template_columns": null,
            "grid_template_rows": null,
            "height": null,
            "justify_content": null,
            "justify_items": null,
            "left": null,
            "margin": null,
            "max_height": null,
            "max_width": null,
            "min_height": null,
            "min_width": null,
            "object_fit": null,
            "object_position": null,
            "order": null,
            "overflow": null,
            "overflow_x": null,
            "overflow_y": null,
            "padding": null,
            "right": null,
            "top": null,
            "visibility": null,
            "width": null
          }
        },
        "1d4828e7b15a49b5ace3c14463265256": {
          "model_module": "@jupyter-widgets/controls",
          "model_name": "DescriptionStyleModel",
          "model_module_version": "1.5.0",
          "state": {
            "_model_module": "@jupyter-widgets/controls",
            "_model_module_version": "1.5.0",
            "_model_name": "DescriptionStyleModel",
            "_view_count": null,
            "_view_module": "@jupyter-widgets/base",
            "_view_module_version": "1.2.0",
            "_view_name": "StyleView",
            "description_width": ""
          }
        },
        "fbc1810d283b43abae41122b2c451053": {
          "model_module": "@jupyter-widgets/base",
          "model_name": "LayoutModel",
          "model_module_version": "1.2.0",
          "state": {
            "_model_module": "@jupyter-widgets/base",
            "_model_module_version": "1.2.0",
            "_model_name": "LayoutModel",
            "_view_count": null,
            "_view_module": "@jupyter-widgets/base",
            "_view_module_version": "1.2.0",
            "_view_name": "LayoutView",
            "align_content": null,
            "align_items": null,
            "align_self": null,
            "border": null,
            "bottom": null,
            "display": null,
            "flex": null,
            "flex_flow": null,
            "grid_area": null,
            "grid_auto_columns": null,
            "grid_auto_flow": null,
            "grid_auto_rows": null,
            "grid_column": null,
            "grid_gap": null,
            "grid_row": null,
            "grid_template_areas": null,
            "grid_template_columns": null,
            "grid_template_rows": null,
            "height": null,
            "justify_content": null,
            "justify_items": null,
            "left": null,
            "margin": null,
            "max_height": null,
            "max_width": null,
            "min_height": null,
            "min_width": null,
            "object_fit": null,
            "object_position": null,
            "order": null,
            "overflow": null,
            "overflow_x": null,
            "overflow_y": null,
            "padding": null,
            "right": null,
            "top": null,
            "visibility": null,
            "width": null
          }
        },
        "b43d28409e5f4f458b0c6c0c9ab2a1be": {
          "model_module": "@jupyter-widgets/controls",
          "model_name": "ProgressStyleModel",
          "model_module_version": "1.5.0",
          "state": {
            "_model_module": "@jupyter-widgets/controls",
            "_model_module_version": "1.5.0",
            "_model_name": "ProgressStyleModel",
            "_view_count": null,
            "_view_module": "@jupyter-widgets/base",
            "_view_module_version": "1.2.0",
            "_view_name": "StyleView",
            "bar_color": null,
            "description_width": ""
          }
        },
        "2915b2a8299e4ecf9062bdc330661de6": {
          "model_module": "@jupyter-widgets/base",
          "model_name": "LayoutModel",
          "model_module_version": "1.2.0",
          "state": {
            "_model_module": "@jupyter-widgets/base",
            "_model_module_version": "1.2.0",
            "_model_name": "LayoutModel",
            "_view_count": null,
            "_view_module": "@jupyter-widgets/base",
            "_view_module_version": "1.2.0",
            "_view_name": "LayoutView",
            "align_content": null,
            "align_items": null,
            "align_self": null,
            "border": null,
            "bottom": null,
            "display": null,
            "flex": null,
            "flex_flow": null,
            "grid_area": null,
            "grid_auto_columns": null,
            "grid_auto_flow": null,
            "grid_auto_rows": null,
            "grid_column": null,
            "grid_gap": null,
            "grid_row": null,
            "grid_template_areas": null,
            "grid_template_columns": null,
            "grid_template_rows": null,
            "height": null,
            "justify_content": null,
            "justify_items": null,
            "left": null,
            "margin": null,
            "max_height": null,
            "max_width": null,
            "min_height": null,
            "min_width": null,
            "object_fit": null,
            "object_position": null,
            "order": null,
            "overflow": null,
            "overflow_x": null,
            "overflow_y": null,
            "padding": null,
            "right": null,
            "top": null,
            "visibility": null,
            "width": null
          }
        },
        "2a170d709d1641b7a80909d6c29e825f": {
          "model_module": "@jupyter-widgets/controls",
          "model_name": "DescriptionStyleModel",
          "model_module_version": "1.5.0",
          "state": {
            "_model_module": "@jupyter-widgets/controls",
            "_model_module_version": "1.5.0",
            "_model_name": "DescriptionStyleModel",
            "_view_count": null,
            "_view_module": "@jupyter-widgets/base",
            "_view_module_version": "1.2.0",
            "_view_name": "StyleView",
            "description_width": ""
          }
        },
        "d1a1810ee36f4dc1a79b9e342113104c": {
          "model_module": "@jupyter-widgets/controls",
          "model_name": "HBoxModel",
          "model_module_version": "1.5.0",
          "state": {
            "_dom_classes": [],
            "_model_module": "@jupyter-widgets/controls",
            "_model_module_version": "1.5.0",
            "_model_name": "HBoxModel",
            "_view_count": null,
            "_view_module": "@jupyter-widgets/controls",
            "_view_module_version": "1.5.0",
            "_view_name": "HBoxView",
            "box_style": "",
            "children": [
              "IPY_MODEL_e23ebbaa766648c386e5ef8b93da52fd",
              "IPY_MODEL_9d34bcef80954405a82043edcee0415d",
              "IPY_MODEL_883b4d170ed0467db792c1306c0436be"
            ],
            "layout": "IPY_MODEL_bb644b1555f14f70aeaea3499693804d"
          }
        },
        "e23ebbaa766648c386e5ef8b93da52fd": {
          "model_module": "@jupyter-widgets/controls",
          "model_name": "HTMLModel",
          "model_module_version": "1.5.0",
          "state": {
            "_dom_classes": [],
            "_model_module": "@jupyter-widgets/controls",
            "_model_module_version": "1.5.0",
            "_model_name": "HTMLModel",
            "_view_count": null,
            "_view_module": "@jupyter-widgets/controls",
            "_view_module_version": "1.5.0",
            "_view_name": "HTMLView",
            "description": "",
            "description_tooltip": null,
            "layout": "IPY_MODEL_9ebb8534f7774366b06e16e0d577264d",
            "placeholder": "​",
            "style": "IPY_MODEL_7082879e1f9f48eca9ea4e55384832ea",
            "value": "merges.txt: 100%"
          }
        },
        "9d34bcef80954405a82043edcee0415d": {
          "model_module": "@jupyter-widgets/controls",
          "model_name": "FloatProgressModel",
          "model_module_version": "1.5.0",
          "state": {
            "_dom_classes": [],
            "_model_module": "@jupyter-widgets/controls",
            "_model_module_version": "1.5.0",
            "_model_name": "FloatProgressModel",
            "_view_count": null,
            "_view_module": "@jupyter-widgets/controls",
            "_view_module_version": "1.5.0",
            "_view_name": "ProgressView",
            "bar_style": "success",
            "description": "",
            "description_tooltip": null,
            "layout": "IPY_MODEL_0637f13ab1c74969a35be600bc4901fa",
            "max": 456318,
            "min": 0,
            "orientation": "horizontal",
            "style": "IPY_MODEL_b55a5f9ddd3f416e8a671dc08eea6945",
            "value": 456318
          }
        },
        "883b4d170ed0467db792c1306c0436be": {
          "model_module": "@jupyter-widgets/controls",
          "model_name": "HTMLModel",
          "model_module_version": "1.5.0",
          "state": {
            "_dom_classes": [],
            "_model_module": "@jupyter-widgets/controls",
            "_model_module_version": "1.5.0",
            "_model_name": "HTMLModel",
            "_view_count": null,
            "_view_module": "@jupyter-widgets/controls",
            "_view_module_version": "1.5.0",
            "_view_name": "HTMLView",
            "description": "",
            "description_tooltip": null,
            "layout": "IPY_MODEL_89717e6e89c8413ea27f2791c4230baa",
            "placeholder": "​",
            "style": "IPY_MODEL_12a9947777264bc09e696af1ab76420c",
            "value": " 456k/456k [00:00&lt;00:00, 1.33MB/s]"
          }
        },
        "bb644b1555f14f70aeaea3499693804d": {
          "model_module": "@jupyter-widgets/base",
          "model_name": "LayoutModel",
          "model_module_version": "1.2.0",
          "state": {
            "_model_module": "@jupyter-widgets/base",
            "_model_module_version": "1.2.0",
            "_model_name": "LayoutModel",
            "_view_count": null,
            "_view_module": "@jupyter-widgets/base",
            "_view_module_version": "1.2.0",
            "_view_name": "LayoutView",
            "align_content": null,
            "align_items": null,
            "align_self": null,
            "border": null,
            "bottom": null,
            "display": null,
            "flex": null,
            "flex_flow": null,
            "grid_area": null,
            "grid_auto_columns": null,
            "grid_auto_flow": null,
            "grid_auto_rows": null,
            "grid_column": null,
            "grid_gap": null,
            "grid_row": null,
            "grid_template_areas": null,
            "grid_template_columns": null,
            "grid_template_rows": null,
            "height": null,
            "justify_content": null,
            "justify_items": null,
            "left": null,
            "margin": null,
            "max_height": null,
            "max_width": null,
            "min_height": null,
            "min_width": null,
            "object_fit": null,
            "object_position": null,
            "order": null,
            "overflow": null,
            "overflow_x": null,
            "overflow_y": null,
            "padding": null,
            "right": null,
            "top": null,
            "visibility": null,
            "width": null
          }
        },
        "9ebb8534f7774366b06e16e0d577264d": {
          "model_module": "@jupyter-widgets/base",
          "model_name": "LayoutModel",
          "model_module_version": "1.2.0",
          "state": {
            "_model_module": "@jupyter-widgets/base",
            "_model_module_version": "1.2.0",
            "_model_name": "LayoutModel",
            "_view_count": null,
            "_view_module": "@jupyter-widgets/base",
            "_view_module_version": "1.2.0",
            "_view_name": "LayoutView",
            "align_content": null,
            "align_items": null,
            "align_self": null,
            "border": null,
            "bottom": null,
            "display": null,
            "flex": null,
            "flex_flow": null,
            "grid_area": null,
            "grid_auto_columns": null,
            "grid_auto_flow": null,
            "grid_auto_rows": null,
            "grid_column": null,
            "grid_gap": null,
            "grid_row": null,
            "grid_template_areas": null,
            "grid_template_columns": null,
            "grid_template_rows": null,
            "height": null,
            "justify_content": null,
            "justify_items": null,
            "left": null,
            "margin": null,
            "max_height": null,
            "max_width": null,
            "min_height": null,
            "min_width": null,
            "object_fit": null,
            "object_position": null,
            "order": null,
            "overflow": null,
            "overflow_x": null,
            "overflow_y": null,
            "padding": null,
            "right": null,
            "top": null,
            "visibility": null,
            "width": null
          }
        },
        "7082879e1f9f48eca9ea4e55384832ea": {
          "model_module": "@jupyter-widgets/controls",
          "model_name": "DescriptionStyleModel",
          "model_module_version": "1.5.0",
          "state": {
            "_model_module": "@jupyter-widgets/controls",
            "_model_module_version": "1.5.0",
            "_model_name": "DescriptionStyleModel",
            "_view_count": null,
            "_view_module": "@jupyter-widgets/base",
            "_view_module_version": "1.2.0",
            "_view_name": "StyleView",
            "description_width": ""
          }
        },
        "0637f13ab1c74969a35be600bc4901fa": {
          "model_module": "@jupyter-widgets/base",
          "model_name": "LayoutModel",
          "model_module_version": "1.2.0",
          "state": {
            "_model_module": "@jupyter-widgets/base",
            "_model_module_version": "1.2.0",
            "_model_name": "LayoutModel",
            "_view_count": null,
            "_view_module": "@jupyter-widgets/base",
            "_view_module_version": "1.2.0",
            "_view_name": "LayoutView",
            "align_content": null,
            "align_items": null,
            "align_self": null,
            "border": null,
            "bottom": null,
            "display": null,
            "flex": null,
            "flex_flow": null,
            "grid_area": null,
            "grid_auto_columns": null,
            "grid_auto_flow": null,
            "grid_auto_rows": null,
            "grid_column": null,
            "grid_gap": null,
            "grid_row": null,
            "grid_template_areas": null,
            "grid_template_columns": null,
            "grid_template_rows": null,
            "height": null,
            "justify_content": null,
            "justify_items": null,
            "left": null,
            "margin": null,
            "max_height": null,
            "max_width": null,
            "min_height": null,
            "min_width": null,
            "object_fit": null,
            "object_position": null,
            "order": null,
            "overflow": null,
            "overflow_x": null,
            "overflow_y": null,
            "padding": null,
            "right": null,
            "top": null,
            "visibility": null,
            "width": null
          }
        },
        "b55a5f9ddd3f416e8a671dc08eea6945": {
          "model_module": "@jupyter-widgets/controls",
          "model_name": "ProgressStyleModel",
          "model_module_version": "1.5.0",
          "state": {
            "_model_module": "@jupyter-widgets/controls",
            "_model_module_version": "1.5.0",
            "_model_name": "ProgressStyleModel",
            "_view_count": null,
            "_view_module": "@jupyter-widgets/base",
            "_view_module_version": "1.2.0",
            "_view_name": "StyleView",
            "bar_color": null,
            "description_width": ""
          }
        },
        "89717e6e89c8413ea27f2791c4230baa": {
          "model_module": "@jupyter-widgets/base",
          "model_name": "LayoutModel",
          "model_module_version": "1.2.0",
          "state": {
            "_model_module": "@jupyter-widgets/base",
            "_model_module_version": "1.2.0",
            "_model_name": "LayoutModel",
            "_view_count": null,
            "_view_module": "@jupyter-widgets/base",
            "_view_module_version": "1.2.0",
            "_view_name": "LayoutView",
            "align_content": null,
            "align_items": null,
            "align_self": null,
            "border": null,
            "bottom": null,
            "display": null,
            "flex": null,
            "flex_flow": null,
            "grid_area": null,
            "grid_auto_columns": null,
            "grid_auto_flow": null,
            "grid_auto_rows": null,
            "grid_column": null,
            "grid_gap": null,
            "grid_row": null,
            "grid_template_areas": null,
            "grid_template_columns": null,
            "grid_template_rows": null,
            "height": null,
            "justify_content": null,
            "justify_items": null,
            "left": null,
            "margin": null,
            "max_height": null,
            "max_width": null,
            "min_height": null,
            "min_width": null,
            "object_fit": null,
            "object_position": null,
            "order": null,
            "overflow": null,
            "overflow_x": null,
            "overflow_y": null,
            "padding": null,
            "right": null,
            "top": null,
            "visibility": null,
            "width": null
          }
        },
        "12a9947777264bc09e696af1ab76420c": {
          "model_module": "@jupyter-widgets/controls",
          "model_name": "DescriptionStyleModel",
          "model_module_version": "1.5.0",
          "state": {
            "_model_module": "@jupyter-widgets/controls",
            "_model_module_version": "1.5.0",
            "_model_name": "DescriptionStyleModel",
            "_view_count": null,
            "_view_module": "@jupyter-widgets/base",
            "_view_module_version": "1.2.0",
            "_view_name": "StyleView",
            "description_width": ""
          }
        },
        "18f0b1fc098d43d2a4bf2f4c65f10c0a": {
          "model_module": "@jupyter-widgets/controls",
          "model_name": "HBoxModel",
          "model_module_version": "1.5.0",
          "state": {
            "_dom_classes": [],
            "_model_module": "@jupyter-widgets/controls",
            "_model_module_version": "1.5.0",
            "_model_name": "HBoxModel",
            "_view_count": null,
            "_view_module": "@jupyter-widgets/controls",
            "_view_module_version": "1.5.0",
            "_view_name": "HBoxView",
            "box_style": "",
            "children": [
              "IPY_MODEL_c67189891c4d4fbaa5a2b99339edea6c",
              "IPY_MODEL_91a04c86889c4f159f3587a6e777934e",
              "IPY_MODEL_13ab0fe6c7334ea08a7dbaf061ad21da"
            ],
            "layout": "IPY_MODEL_529ed08e0dcf499fab6be08eae8c882b"
          }
        },
        "c67189891c4d4fbaa5a2b99339edea6c": {
          "model_module": "@jupyter-widgets/controls",
          "model_name": "HTMLModel",
          "model_module_version": "1.5.0",
          "state": {
            "_dom_classes": [],
            "_model_module": "@jupyter-widgets/controls",
            "_model_module_version": "1.5.0",
            "_model_name": "HTMLModel",
            "_view_count": null,
            "_view_module": "@jupyter-widgets/controls",
            "_view_module_version": "1.5.0",
            "_view_name": "HTMLView",
            "description": "",
            "description_tooltip": null,
            "layout": "IPY_MODEL_e2d7778f3d984ae98c30768e8a5e101e",
            "placeholder": "​",
            "style": "IPY_MODEL_9981105ff68649f488dfa4117b05aae0",
            "value": "tokenizer.json: 100%"
          }
        },
        "91a04c86889c4f159f3587a6e777934e": {
          "model_module": "@jupyter-widgets/controls",
          "model_name": "FloatProgressModel",
          "model_module_version": "1.5.0",
          "state": {
            "_dom_classes": [],
            "_model_module": "@jupyter-widgets/controls",
            "_model_module_version": "1.5.0",
            "_model_name": "FloatProgressModel",
            "_view_count": null,
            "_view_module": "@jupyter-widgets/controls",
            "_view_module_version": "1.5.0",
            "_view_name": "ProgressView",
            "bar_style": "success",
            "description": "",
            "description_tooltip": null,
            "layout": "IPY_MODEL_da05a4ee94cf4e9282d823c9d557f72d",
            "max": 1355256,
            "min": 0,
            "orientation": "horizontal",
            "style": "IPY_MODEL_c49eda65a65e497589bc1484d48c0e20",
            "value": 1355256
          }
        },
        "13ab0fe6c7334ea08a7dbaf061ad21da": {
          "model_module": "@jupyter-widgets/controls",
          "model_name": "HTMLModel",
          "model_module_version": "1.5.0",
          "state": {
            "_dom_classes": [],
            "_model_module": "@jupyter-widgets/controls",
            "_model_module_version": "1.5.0",
            "_model_name": "HTMLModel",
            "_view_count": null,
            "_view_module": "@jupyter-widgets/controls",
            "_view_module_version": "1.5.0",
            "_view_name": "HTMLView",
            "description": "",
            "description_tooltip": null,
            "layout": "IPY_MODEL_c31efd3e0b2e4eb0a1013e8228eebfaa",
            "placeholder": "​",
            "style": "IPY_MODEL_a7a4518df64947db815fb6f6c16cd0e1",
            "value": " 1.36M/1.36M [00:00&lt;00:00, 1.95MB/s]"
          }
        },
        "529ed08e0dcf499fab6be08eae8c882b": {
          "model_module": "@jupyter-widgets/base",
          "model_name": "LayoutModel",
          "model_module_version": "1.2.0",
          "state": {
            "_model_module": "@jupyter-widgets/base",
            "_model_module_version": "1.2.0",
            "_model_name": "LayoutModel",
            "_view_count": null,
            "_view_module": "@jupyter-widgets/base",
            "_view_module_version": "1.2.0",
            "_view_name": "LayoutView",
            "align_content": null,
            "align_items": null,
            "align_self": null,
            "border": null,
            "bottom": null,
            "display": null,
            "flex": null,
            "flex_flow": null,
            "grid_area": null,
            "grid_auto_columns": null,
            "grid_auto_flow": null,
            "grid_auto_rows": null,
            "grid_column": null,
            "grid_gap": null,
            "grid_row": null,
            "grid_template_areas": null,
            "grid_template_columns": null,
            "grid_template_rows": null,
            "height": null,
            "justify_content": null,
            "justify_items": null,
            "left": null,
            "margin": null,
            "max_height": null,
            "max_width": null,
            "min_height": null,
            "min_width": null,
            "object_fit": null,
            "object_position": null,
            "order": null,
            "overflow": null,
            "overflow_x": null,
            "overflow_y": null,
            "padding": null,
            "right": null,
            "top": null,
            "visibility": null,
            "width": null
          }
        },
        "e2d7778f3d984ae98c30768e8a5e101e": {
          "model_module": "@jupyter-widgets/base",
          "model_name": "LayoutModel",
          "model_module_version": "1.2.0",
          "state": {
            "_model_module": "@jupyter-widgets/base",
            "_model_module_version": "1.2.0",
            "_model_name": "LayoutModel",
            "_view_count": null,
            "_view_module": "@jupyter-widgets/base",
            "_view_module_version": "1.2.0",
            "_view_name": "LayoutView",
            "align_content": null,
            "align_items": null,
            "align_self": null,
            "border": null,
            "bottom": null,
            "display": null,
            "flex": null,
            "flex_flow": null,
            "grid_area": null,
            "grid_auto_columns": null,
            "grid_auto_flow": null,
            "grid_auto_rows": null,
            "grid_column": null,
            "grid_gap": null,
            "grid_row": null,
            "grid_template_areas": null,
            "grid_template_columns": null,
            "grid_template_rows": null,
            "height": null,
            "justify_content": null,
            "justify_items": null,
            "left": null,
            "margin": null,
            "max_height": null,
            "max_width": null,
            "min_height": null,
            "min_width": null,
            "object_fit": null,
            "object_position": null,
            "order": null,
            "overflow": null,
            "overflow_x": null,
            "overflow_y": null,
            "padding": null,
            "right": null,
            "top": null,
            "visibility": null,
            "width": null
          }
        },
        "9981105ff68649f488dfa4117b05aae0": {
          "model_module": "@jupyter-widgets/controls",
          "model_name": "DescriptionStyleModel",
          "model_module_version": "1.5.0",
          "state": {
            "_model_module": "@jupyter-widgets/controls",
            "_model_module_version": "1.5.0",
            "_model_name": "DescriptionStyleModel",
            "_view_count": null,
            "_view_module": "@jupyter-widgets/base",
            "_view_module_version": "1.2.0",
            "_view_name": "StyleView",
            "description_width": ""
          }
        },
        "da05a4ee94cf4e9282d823c9d557f72d": {
          "model_module": "@jupyter-widgets/base",
          "model_name": "LayoutModel",
          "model_module_version": "1.2.0",
          "state": {
            "_model_module": "@jupyter-widgets/base",
            "_model_module_version": "1.2.0",
            "_model_name": "LayoutModel",
            "_view_count": null,
            "_view_module": "@jupyter-widgets/base",
            "_view_module_version": "1.2.0",
            "_view_name": "LayoutView",
            "align_content": null,
            "align_items": null,
            "align_self": null,
            "border": null,
            "bottom": null,
            "display": null,
            "flex": null,
            "flex_flow": null,
            "grid_area": null,
            "grid_auto_columns": null,
            "grid_auto_flow": null,
            "grid_auto_rows": null,
            "grid_column": null,
            "grid_gap": null,
            "grid_row": null,
            "grid_template_areas": null,
            "grid_template_columns": null,
            "grid_template_rows": null,
            "height": null,
            "justify_content": null,
            "justify_items": null,
            "left": null,
            "margin": null,
            "max_height": null,
            "max_width": null,
            "min_height": null,
            "min_width": null,
            "object_fit": null,
            "object_position": null,
            "order": null,
            "overflow": null,
            "overflow_x": null,
            "overflow_y": null,
            "padding": null,
            "right": null,
            "top": null,
            "visibility": null,
            "width": null
          }
        },
        "c49eda65a65e497589bc1484d48c0e20": {
          "model_module": "@jupyter-widgets/controls",
          "model_name": "ProgressStyleModel",
          "model_module_version": "1.5.0",
          "state": {
            "_model_module": "@jupyter-widgets/controls",
            "_model_module_version": "1.5.0",
            "_model_name": "ProgressStyleModel",
            "_view_count": null,
            "_view_module": "@jupyter-widgets/base",
            "_view_module_version": "1.2.0",
            "_view_name": "StyleView",
            "bar_color": null,
            "description_width": ""
          }
        },
        "c31efd3e0b2e4eb0a1013e8228eebfaa": {
          "model_module": "@jupyter-widgets/base",
          "model_name": "LayoutModel",
          "model_module_version": "1.2.0",
          "state": {
            "_model_module": "@jupyter-widgets/base",
            "_model_module_version": "1.2.0",
            "_model_name": "LayoutModel",
            "_view_count": null,
            "_view_module": "@jupyter-widgets/base",
            "_view_module_version": "1.2.0",
            "_view_name": "LayoutView",
            "align_content": null,
            "align_items": null,
            "align_self": null,
            "border": null,
            "bottom": null,
            "display": null,
            "flex": null,
            "flex_flow": null,
            "grid_area": null,
            "grid_auto_columns": null,
            "grid_auto_flow": null,
            "grid_auto_rows": null,
            "grid_column": null,
            "grid_gap": null,
            "grid_row": null,
            "grid_template_areas": null,
            "grid_template_columns": null,
            "grid_template_rows": null,
            "height": null,
            "justify_content": null,
            "justify_items": null,
            "left": null,
            "margin": null,
            "max_height": null,
            "max_width": null,
            "min_height": null,
            "min_width": null,
            "object_fit": null,
            "object_position": null,
            "order": null,
            "overflow": null,
            "overflow_x": null,
            "overflow_y": null,
            "padding": null,
            "right": null,
            "top": null,
            "visibility": null,
            "width": null
          }
        },
        "a7a4518df64947db815fb6f6c16cd0e1": {
          "model_module": "@jupyter-widgets/controls",
          "model_name": "DescriptionStyleModel",
          "model_module_version": "1.5.0",
          "state": {
            "_model_module": "@jupyter-widgets/controls",
            "_model_module_version": "1.5.0",
            "_model_name": "DescriptionStyleModel",
            "_view_count": null,
            "_view_module": "@jupyter-widgets/base",
            "_view_module_version": "1.2.0",
            "_view_name": "StyleView",
            "description_width": ""
          }
        }
      }
    }
  },
  "nbformat": 4,
  "nbformat_minor": 0
}